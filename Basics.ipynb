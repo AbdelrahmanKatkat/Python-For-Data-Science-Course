{
 "cells": [
  {
   "cell_type": "markdown",
   "id": "92bbfb9c",
   "metadata": {},
   "source": [
    "## part1\n"
   ]
  },
  {
   "cell_type": "code",
   "execution_count": null,
   "id": "d785ebb8",
   "metadata": {},
   "outputs": [],
   "source": [
    "x='my name is abdelrahman'"
   ]
  },
  {
   "cell_type": "code",
   "execution_count": 11,
   "id": "d0c808a1",
   "metadata": {},
   "outputs": [
    {
     "data": {
      "text/plain": [
       "'my name is abdelrahman'"
      ]
     },
     "execution_count": 11,
     "metadata": {},
     "output_type": "execute_result"
    }
   ],
   "source": [
    "x[:]"
   ]
  },
  {
   "cell_type": "code",
   "execution_count": 13,
   "id": "f5b484bd",
   "metadata": {},
   "outputs": [
    {
     "data": {
      "text/plain": [
       "'m'"
      ]
     },
     "execution_count": 13,
     "metadata": {},
     "output_type": "execute_result"
    }
   ],
   "source": [
    "x[0]"
   ]
  },
  {
   "cell_type": "code",
   "execution_count": 14,
   "id": "b0c377dc",
   "metadata": {},
   "outputs": [
    {
     "data": {
      "text/plain": [
       "'ame is abdelrahman'"
      ]
     },
     "execution_count": 14,
     "metadata": {},
     "output_type": "execute_result"
    }
   ],
   "source": [
    "x[4:]"
   ]
  },
  {
   "cell_type": "code",
   "execution_count": 15,
   "id": "625116d1",
   "metadata": {},
   "outputs": [
    {
     "name": "stdout",
     "output_type": "stream",
     "text": [
      "my \n"
     ]
    }
   ],
   "source": [
    "print(x[:3])"
   ]
  },
  {
   "cell_type": "code",
   "execution_count": 16,
   "id": "58b4bfa3",
   "metadata": {},
   "outputs": [],
   "source": [
    "nest=[1,2,[3,4]]"
   ]
  },
  {
   "cell_type": "code",
   "execution_count": 17,
   "id": "ab6a3f95",
   "metadata": {},
   "outputs": [
    {
     "data": {
      "text/plain": [
       "[1, 2, [3, 4]]"
      ]
     },
     "execution_count": 17,
     "metadata": {},
     "output_type": "execute_result"
    }
   ],
   "source": [
    "nest\n"
   ]
  },
  {
   "cell_type": "code",
   "execution_count": 18,
   "id": "f4f1c928",
   "metadata": {},
   "outputs": [
    {
     "data": {
      "text/plain": [
       "2"
      ]
     },
     "execution_count": 18,
     "metadata": {},
     "output_type": "execute_result"
    }
   ],
   "source": [
    "nest[1]"
   ]
  },
  {
   "cell_type": "code",
   "execution_count": 20,
   "id": "2cac0fee",
   "metadata": {},
   "outputs": [
    {
     "data": {
      "text/plain": [
       "[3, 4]"
      ]
     },
     "execution_count": 20,
     "metadata": {},
     "output_type": "execute_result"
    }
   ],
   "source": [
    "nest[2]"
   ]
  },
  {
   "cell_type": "code",
   "execution_count": 21,
   "id": "d6f72705",
   "metadata": {},
   "outputs": [
    {
     "data": {
      "text/plain": [
       "4"
      ]
     },
     "execution_count": 21,
     "metadata": {},
     "output_type": "execute_result"
    }
   ],
   "source": [
    "nest[2][1]"
   ]
  },
  {
   "cell_type": "code",
   "execution_count": 23,
   "id": "7224940f",
   "metadata": {},
   "outputs": [],
   "source": [
    "x=24\n",
    "num='ali'"
   ]
  },
  {
   "cell_type": "code",
   "execution_count": 26,
   "id": "ecf8f948",
   "metadata": {},
   "outputs": [
    {
     "name": "stdout",
     "output_type": "stream",
     "text": [
      "my age is:3 and my name is: ali\n"
     ]
    }
   ],
   "source": [
    "print('my age is:{} and my name is: {}'.format(x,num))"
   ]
  },
  {
   "cell_type": "code",
   "execution_count": 27,
   "id": "646c6e3a",
   "metadata": {},
   "outputs": [
    {
     "name": "stdout",
     "output_type": "stream",
     "text": [
      "my age is:3 and my name is: ali\n"
     ]
    }
   ],
   "source": [
    "print('my age is:{one} and my name is: {two}'.format(one=x,two=num))"
   ]
  },
  {
   "cell_type": "code",
   "execution_count": 1,
   "id": "a8877469",
   "metadata": {},
   "outputs": [],
   "source": [
    "List= ['a', 'b', 'c']"
   ]
  },
  {
   "cell_type": "markdown",
   "id": "dc1d9b5d",
   "metadata": {},
   "source": [
    "## List"
   ]
  },
  {
   "cell_type": "code",
   "execution_count": 2,
   "id": "c550ebc6",
   "metadata": {},
   "outputs": [],
   "source": [
    "List.append('d')"
   ]
  },
  {
   "cell_type": "code",
   "execution_count": 3,
   "id": "889d45fc",
   "metadata": {},
   "outputs": [
    {
     "data": {
      "text/plain": [
       "['a', 'b', 'c', 'd']"
      ]
     },
     "execution_count": 3,
     "metadata": {},
     "output_type": "execute_result"
    }
   ],
   "source": [
    "List\n"
   ]
  },
  {
   "cell_type": "code",
   "execution_count": 40,
   "id": "f6249bfd",
   "metadata": {},
   "outputs": [],
   "source": [
    "d={'Player1_score':150,'Player1_result':{'G':['W','L']}}\n",
    "                                       "
   ]
  },
  {
   "cell_type": "code",
   "execution_count": 48,
   "id": "1dbae128",
   "metadata": {},
   "outputs": [
    {
     "data": {
      "text/plain": [
       "'W'"
      ]
     },
     "execution_count": 48,
     "metadata": {},
     "output_type": "execute_result"
    }
   ],
   "source": [
    "d['Player1_result']['G'][0]\n",
    "\n"
   ]
  },
  {
   "cell_type": "markdown",
   "id": "3060094e",
   "metadata": {},
   "source": [
    "Dictionaries"
   ]
  },
  {
   "cell_type": "code",
   "execution_count": 49,
   "id": "86b593cd",
   "metadata": {},
   "outputs": [],
   "source": [
    "d={'ele1':[1,2,3]}"
   ]
  },
  {
   "cell_type": "code",
   "execution_count": 50,
   "id": "50a8a8ca",
   "metadata": {},
   "outputs": [
    {
     "data": {
      "text/plain": [
       "3"
      ]
     },
     "execution_count": 50,
     "metadata": {},
     "output_type": "execute_result"
    }
   ],
   "source": [
    "d['ele1'][2]"
   ]
  },
  {
   "cell_type": "markdown",
   "id": "d9279c6e",
   "metadata": {},
   "source": [
    "Sets\n"
   ]
  },
  {
   "cell_type": "code",
   "execution_count": 52,
   "id": "e293ea63",
   "metadata": {},
   "outputs": [],
   "source": [
    "s={1,2,3,4,5,6,6,6}"
   ]
  },
  {
   "cell_type": "code",
   "execution_count": 53,
   "id": "b37adc5c",
   "metadata": {},
   "outputs": [
    {
     "data": {
      "text/plain": [
       "{1, 2, 3, 4, 5, 6}"
      ]
     },
     "execution_count": 53,
     "metadata": {},
     "output_type": "execute_result"
    }
   ],
   "source": [
    "s\n"
   ]
  },
  {
   "cell_type": "code",
   "execution_count": 55,
   "id": "81dd76a5",
   "metadata": {},
   "outputs": [],
   "source": [
    "s.add(6)"
   ]
  },
  {
   "cell_type": "code",
   "execution_count": 56,
   "id": "8bb96d87",
   "metadata": {},
   "outputs": [
    {
     "data": {
      "text/plain": [
       "{1, 2, 3, 4, 5, 6}"
      ]
     },
     "execution_count": 56,
     "metadata": {},
     "output_type": "execute_result"
    }
   ],
   "source": [
    "s"
   ]
  },
  {
   "cell_type": "code",
   "execution_count": 59,
   "id": "15377dfd",
   "metadata": {},
   "outputs": [],
   "source": [
    "List=[1,3,5,5,5,5,5]"
   ]
  },
  {
   "cell_type": "code",
   "execution_count": 60,
   "id": "baacd662",
   "metadata": {},
   "outputs": [
    {
     "data": {
      "text/plain": [
       "{1, 3, 5}"
      ]
     },
     "execution_count": 60,
     "metadata": {},
     "output_type": "execute_result"
    }
   ],
   "source": [
    "set(List)"
   ]
  },
  {
   "cell_type": "markdown",
   "id": "cf1489c8",
   "metadata": {},
   "source": [
    "Tuples"
   ]
  },
  {
   "cell_type": "code",
   "execution_count": 63,
   "id": "f5a7867b",
   "metadata": {},
   "outputs": [],
   "source": [
    "t=(1,2,3)"
   ]
  },
  {
   "cell_type": "markdown",
   "id": "78588a45",
   "metadata": {},
   "source": [
    "Opertators and Combine them"
   ]
  },
  {
   "cell_type": "code",
   "execution_count": 64,
   "id": "11df8efb",
   "metadata": {},
   "outputs": [
    {
     "data": {
      "text/plain": [
       "True"
      ]
     },
     "execution_count": 64,
     "metadata": {},
     "output_type": "execute_result"
    }
   ],
   "source": [
    "1==1 and 'ali'=='ali'"
   ]
  },
  {
   "cell_type": "code",
   "execution_count": 65,
   "id": "3f3790ad",
   "metadata": {},
   "outputs": [
    {
     "data": {
      "text/plain": [
       "True"
      ]
     },
     "execution_count": 65,
     "metadata": {},
     "output_type": "execute_result"
    }
   ],
   "source": [
    "1==1 or 'ali'>='ali'"
   ]
  },
  {
   "cell_type": "markdown",
   "id": "7b76a1cb",
   "metadata": {},
   "source": [
    "1!=1 or 'ali'>='ali'"
   ]
  },
  {
   "cell_type": "code",
   "execution_count": 67,
   "id": "bb9635d0",
   "metadata": {},
   "outputs": [
    {
     "data": {
      "text/plain": [
       "False"
      ]
     },
     "execution_count": 67,
     "metadata": {},
     "output_type": "execute_result"
    }
   ],
   "source": [
    "1!=1 and 'ali'>='ali'"
   ]
  },
  {
   "cell_type": "markdown",
   "id": "bd22a8c6",
   "metadata": {},
   "source": [
    "## If,elif,else"
   ]
  },
  {
   "cell_type": "code",
   "execution_count": 68,
   "id": "a2507330",
   "metadata": {},
   "outputs": [
    {
     "name": "stdout",
     "output_type": "stream",
     "text": [
      "1!=2\n"
     ]
    }
   ],
   "source": [
    "x=1\n",
    "y=2\n",
    "if x==y:\n",
    "    print('{}={}'.format(x,y))\n",
    "elif x!=y:\n",
    "    print('{}!={}'.format(x,y))\n",
    "else:\n",
    "    print('Fuck you')"
   ]
  },
  {
   "cell_type": "markdown",
   "id": "79177382",
   "metadata": {},
   "source": [
    "## For loop"
   ]
  },
  {
   "cell_type": "code",
   "execution_count": 69,
   "id": "1800cf69",
   "metadata": {},
   "outputs": [
    {
     "name": "stdout",
     "output_type": "stream",
     "text": [
      "1\n",
      "hello\n",
      "2\n",
      "hello\n",
      "3\n",
      "hello\n",
      "4\n",
      "hello\n",
      "5\n",
      "hello\n"
     ]
    }
   ],
   "source": [
    "i=[1,2,3,4,5]\n",
    "for num in i:\n",
    "    print(num)\n",
    "    print('hello')"
   ]
  },
  {
   "cell_type": "code",
   "execution_count": 78,
   "id": "fb130878",
   "metadata": {},
   "outputs": [],
   "source": [
    "x=1\n",
    "List=[1]\n",
    "while x<5:\n",
    "    List.append(x)\n",
    "    s=set(List)\n",
    "    x=x+1"
   ]
  },
  {
   "cell_type": "code",
   "execution_count": 76,
   "id": "d1e129cb",
   "metadata": {},
   "outputs": [
    {
     "data": {
      "text/plain": [
       "[1, 1, 2, 3, 4]"
      ]
     },
     "execution_count": 76,
     "metadata": {},
     "output_type": "execute_result"
    }
   ],
   "source": [
    "List"
   ]
  },
  {
   "cell_type": "code",
   "execution_count": 79,
   "id": "4396dbe1",
   "metadata": {},
   "outputs": [
    {
     "data": {
      "text/plain": [
       "{1, 2, 3, 4}"
      ]
     },
     "execution_count": 79,
     "metadata": {},
     "output_type": "execute_result"
    }
   ],
   "source": [
    "s"
   ]
  },
  {
   "cell_type": "code",
   "execution_count": 96,
   "id": "70209ec2",
   "metadata": {},
   "outputs": [],
   "source": [
    "i=list(range(0,5))"
   ]
  },
  {
   "cell_type": "code",
   "execution_count": 97,
   "id": "93d22afa",
   "metadata": {},
   "outputs": [
    {
     "name": "stdout",
     "output_type": "stream",
     "text": [
      "0\n",
      "1\n",
      "2\n",
      "3\n",
      "4\n"
     ]
    }
   ],
   "source": [
    "for num in i:\n",
    "    print(num)"
   ]
  },
  {
   "cell_type": "markdown",
   "id": "769591bd",
   "metadata": {},
   "source": [
    "List comprehension"
   ]
  },
  {
   "cell_type": "code",
   "execution_count": 89,
   "id": "84f3de02",
   "metadata": {},
   "outputs": [],
   "source": [
    "#normal method\n",
    "x=[1,2,3,4]\n",
    "out=[] #to make an empty list\n",
    "for num in x:\n",
    "    out.append(num**2)\n",
    "    "
   ]
  },
  {
   "cell_type": "code",
   "execution_count": 90,
   "id": "416af94e",
   "metadata": {},
   "outputs": [
    {
     "data": {
      "text/plain": [
       "[1, 4, 9, 16]"
      ]
     },
     "execution_count": 90,
     "metadata": {},
     "output_type": "execute_result"
    }
   ],
   "source": [
    "out"
   ]
  },
  {
   "cell_type": "code",
   "execution_count": 91,
   "id": "c303218d",
   "metadata": {},
   "outputs": [],
   "source": [
    "# Better method\n",
    "out=[num**2 for num in x]"
   ]
  },
  {
   "cell_type": "code",
   "execution_count": 92,
   "id": "15ebf854",
   "metadata": {},
   "outputs": [
    {
     "data": {
      "text/plain": [
       "[1, 4, 9, 16]"
      ]
     },
     "execution_count": 92,
     "metadata": {},
     "output_type": "execute_result"
    }
   ],
   "source": [
    "out"
   ]
  },
  {
   "cell_type": "markdown",
   "id": "86309a6b",
   "metadata": {},
   "source": [
    "Functions"
   ]
  },
  {
   "cell_type": "markdown",
   "id": "6a53ce2f",
   "metadata": {},
   "source": [
    "## Functions\n"
   ]
  },
  {
   "cell_type": "code",
   "execution_count": 104,
   "id": "4fa98d22",
   "metadata": {},
   "outputs": [],
   "source": [
    "\n",
    "def my_function (age,req):\n",
    "    if age== req:\n",
    "        print('legal')\n",
    "    else:\n",
    "        print('illegal')\n",
    "        "
   ]
  },
  {
   "cell_type": "code",
   "execution_count": 105,
   "id": "7f4e40c0",
   "metadata": {},
   "outputs": [
    {
     "name": "stdout",
     "output_type": "stream",
     "text": [
      "illegal\n"
     ]
    }
   ],
   "source": [
    "my_function(15,18)"
   ]
  },
  {
   "cell_type": "code",
   "execution_count": 112,
   "id": "6b9e66ff",
   "metadata": {},
   "outputs": [],
   "source": [
    "# return of a function\n",
    "#documantaion sting\n",
    "def square (num):\n",
    "    \"\"\"\n",
    "    That's a function that will square your I/P\n",
    "    \"\"\"\n",
    "    return num**2\n"
   ]
  },
  {
   "cell_type": "code",
   "execution_count": 109,
   "id": "0509a316",
   "metadata": {},
   "outputs": [],
   "source": [
    "x=square(2)"
   ]
  },
  {
   "cell_type": "code",
   "execution_count": 111,
   "id": "e7e76ce4",
   "metadata": {},
   "outputs": [],
   "source": [
    "# To know what function does press 'shift+tab'"
   ]
  },
  {
   "cell_type": "code",
   "execution_count": 116,
   "id": "6d8641d6",
   "metadata": {},
   "outputs": [],
   "source": [
    "i=list(range(5))\n",
    "def recurion(num):\n",
    "    for items in i:\n",
    "        return num*item"
   ]
  },
  {
   "cell_type": "markdown",
   "id": "e875e7e8",
   "metadata": {},
   "source": [
    "## Map fun"
   ]
  },
  {
   "cell_type": "code",
   "execution_count": 121,
   "id": "2856b87e",
   "metadata": {},
   "outputs": [],
   "source": [
    "seq=list(range(5))\n",
    "def times2 (num):\n",
    "    return num*2\n",
    "\n",
    "    "
   ]
  },
  {
   "cell_type": "code",
   "execution_count": 122,
   "id": "f86ccf13",
   "metadata": {},
   "outputs": [
    {
     "data": {
      "text/plain": [
       "<map at 0x1b1655d1190>"
      ]
     },
     "execution_count": 122,
     "metadata": {},
     "output_type": "execute_result"
    }
   ],
   "source": [
    "map(times2,seq) #returns the loction of map in heap"
   ]
  },
  {
   "cell_type": "code",
   "execution_count": 123,
   "id": "6759d134",
   "metadata": {},
   "outputs": [],
   "source": [
    "seq2=list(map(times2,seq)) # creates a lits from map loction"
   ]
  },
  {
   "cell_type": "code",
   "execution_count": 125,
   "id": "46d6d445",
   "metadata": {},
   "outputs": [
    {
     "name": "stdout",
     "output_type": "stream",
     "text": [
      "[0, 2, 4, 6, 8]\n"
     ]
    }
   ],
   "source": [
    "print(seq2)"
   ]
  },
  {
   "cell_type": "markdown",
   "id": "ded56b7d",
   "metadata": {},
   "source": [
    "## lambda expresion"
   ]
  },
  {
   "cell_type": "code",
   "execution_count": 131,
   "id": "75463b76",
   "metadata": {},
   "outputs": [],
   "source": [
    "#instead of writing a fn to use map\n",
    "seq3=list(map(lambda num:num*3,seq))"
   ]
  },
  {
   "cell_type": "code",
   "execution_count": 132,
   "id": "de6b380f",
   "metadata": {},
   "outputs": [
    {
     "data": {
      "text/plain": [
       "[0, 3, 6, 9, 12]"
      ]
     },
     "execution_count": 132,
     "metadata": {},
     "output_type": "execute_result"
    }
   ],
   "source": [
    "seq3\n"
   ]
  },
  {
   "cell_type": "code",
   "execution_count": 133,
   "id": "84756626",
   "metadata": {},
   "outputs": [
    {
     "data": {
      "text/plain": [
       "<filter at 0x1b1656283a0>"
      ]
     },
     "execution_count": 133,
     "metadata": {},
     "output_type": "execute_result"
    }
   ],
   "source": [
    "filter(lambda num:num%2==0,seq)"
   ]
  },
  {
   "cell_type": "code",
   "execution_count": 135,
   "id": "b6e48f59",
   "metadata": {},
   "outputs": [],
   "source": [
    "seqf=list(filter(lambda num:num%2==0,seq))# filter anything else"
   ]
  },
  {
   "cell_type": "code",
   "execution_count": 136,
   "id": "c1670cea",
   "metadata": {},
   "outputs": [
    {
     "data": {
      "text/plain": [
       "[0, 2, 4]"
      ]
     },
     "execution_count": 136,
     "metadata": {},
     "output_type": "execute_result"
    }
   ],
   "source": [
    " seqf"
   ]
  },
  {
   "cell_type": "code",
   "execution_count": 137,
   "id": "12cee313",
   "metadata": {},
   "outputs": [],
   "source": [
    "seqf=list(map(lambda num:num%2==0,seq)) # if we used it it will make we will get false, or true"
   ]
  },
  {
   "cell_type": "code",
   "execution_count": 138,
   "id": "bd085bdd",
   "metadata": {},
   "outputs": [
    {
     "data": {
      "text/plain": [
       "[True, False, True, False, True]"
      ]
     },
     "execution_count": 138,
     "metadata": {},
     "output_type": "execute_result"
    }
   ],
   "source": [
    "seqf\n"
   ]
  },
  {
   "cell_type": "markdown",
   "id": "e83d1443",
   "metadata": {},
   "source": [
    "## Methods"
   ]
  },
  {
   "cell_type": "code",
   "execution_count": 2,
   "id": "a3d3c774",
   "metadata": {},
   "outputs": [],
   "source": [
    "# Use object+ . + tabs\n",
    "s='My name is #abdelrahman'"
   ]
  },
  {
   "cell_type": "code",
   "execution_count": 3,
   "id": "591cf541",
   "metadata": {},
   "outputs": [
    {
     "data": {
      "text/plain": [
       "'My name is #abdelrahman'"
      ]
     },
     "execution_count": 3,
     "metadata": {},
     "output_type": "execute_result"
    }
   ],
   "source": [
    "s"
   ]
  },
  {
   "cell_type": "code",
   "execution_count": 4,
   "id": "5156b1a4",
   "metadata": {},
   "outputs": [
    {
     "data": {
      "text/plain": [
       "['My name is ', 'abdelrahman']"
      ]
     },
     "execution_count": 4,
     "metadata": {},
     "output_type": "execute_result"
    }
   ],
   "source": [
    "s.split('#')"
   ]
  },
  {
   "cell_type": "code",
   "execution_count": 6,
   "id": "fc7e8a7c",
   "metadata": {},
   "outputs": [
    {
     "data": {
      "text/plain": [
       "'abdelrahman'"
      ]
     },
     "execution_count": 6,
     "metadata": {},
     "output_type": "execute_result"
    }
   ],
   "source": [
    "s.split('#')[1] #to grab first string after \"#\", it will be helpful when you analysie text"
   ]
  },
  {
   "cell_type": "code",
   "execution_count": 8,
   "id": "390caa60",
   "metadata": {},
   "outputs": [],
   "source": [
    "x=[1,2,3,4,5]\n",
    "y=x.pop(1)"
   ]
  },
  {
   "cell_type": "code",
   "execution_count": 11,
   "id": "6929d919",
   "metadata": {},
   "outputs": [
    {
     "data": {
      "text/plain": [
       "True"
      ]
     },
     "execution_count": 11,
     "metadata": {},
     "output_type": "execute_result"
    }
   ],
   "source": [
    "1 in [1,2,3,4] # check if an item exist in a list "
   ]
  },
  {
   "cell_type": "markdown",
   "id": "ca8c6b6b",
   "metadata": {},
   "source": [
    "## Tuple Unpacking"
   ]
  },
  {
   "cell_type": "code",
   "execution_count": 12,
   "id": "829bf312",
   "metadata": {},
   "outputs": [],
   "source": [
    "z=[(1,2),(3,4),(5,6)] # list of Tuples"
   ]
  },
  {
   "cell_type": "code",
   "execution_count": 13,
   "id": "77af2dba",
   "metadata": {},
   "outputs": [
    {
     "data": {
      "text/plain": [
       "[(1, 2), (3, 4), (5, 6)]"
      ]
     },
     "execution_count": 13,
     "metadata": {},
     "output_type": "execute_result"
    }
   ],
   "source": [
    "z"
   ]
  },
  {
   "cell_type": "code",
   "execution_count": 14,
   "id": "837eec1a",
   "metadata": {},
   "outputs": [
    {
     "data": {
      "text/plain": [
       "2"
      ]
     },
     "execution_count": 14,
     "metadata": {},
     "output_type": "execute_result"
    }
   ],
   "source": [
    "z[0][1]"
   ]
  },
  {
   "cell_type": "code",
   "execution_count": 30,
   "id": "b7f1183e",
   "metadata": {},
   "outputs": [
    {
     "ename": "IndexError",
     "evalue": "list assignment index out of range",
     "output_type": "error",
     "traceback": [
      "\u001b[1;31m---------------------------------------------------------------------------\u001b[0m",
      "\u001b[1;31mIndexError\u001b[0m                                Traceback (most recent call last)",
      "\u001b[1;32m<ipython-input-30-09762918c5ca>\u001b[0m in \u001b[0;36m<module>\u001b[1;34m\u001b[0m\n\u001b[0;32m      3\u001b[0m \u001b[0mi\u001b[0m\u001b[1;33m=\u001b[0m\u001b[1;36m1\u001b[0m\u001b[1;33m\u001b[0m\u001b[1;33m\u001b[0m\u001b[0m\n\u001b[0;32m      4\u001b[0m \u001b[1;32mfor\u001b[0m \u001b[1;33m(\u001b[0m\u001b[0ma\u001b[0m\u001b[1;33m,\u001b[0m\u001b[0mb\u001b[0m\u001b[1;33m)\u001b[0m \u001b[1;32min\u001b[0m \u001b[0mz\u001b[0m\u001b[1;33m:\u001b[0m\u001b[1;33m\u001b[0m\u001b[1;33m\u001b[0m\u001b[0m\n\u001b[1;32m----> 5\u001b[1;33m     \u001b[0mtheta\u001b[0m\u001b[1;33m[\u001b[0m\u001b[1;36m1\u001b[0m\u001b[1;33m]\u001b[0m\u001b[1;33m=\u001b[0m\u001b[0ma\u001b[0m\u001b[1;33m\u001b[0m\u001b[1;33m\u001b[0m\u001b[0m\n\u001b[0m\u001b[0;32m      6\u001b[0m     \u001b[0mx\u001b[0m\u001b[1;33m[\u001b[0m\u001b[1;36m1\u001b[0m\u001b[1;33m]\u001b[0m\u001b[1;33m=\u001b[0m\u001b[0mb\u001b[0m\u001b[1;33m\u001b[0m\u001b[1;33m\u001b[0m\u001b[0m\n\u001b[0;32m      7\u001b[0m     \u001b[0mi\u001b[0m\u001b[1;33m=\u001b[0m\u001b[0mi\u001b[0m\u001b[1;33m+\u001b[0m\u001b[1;36m1\u001b[0m\u001b[1;33m\u001b[0m\u001b[1;33m\u001b[0m\u001b[0m\n",
      "\u001b[1;31mIndexError\u001b[0m: list assignment index out of range"
     ]
    }
   ],
   "source": [
    "theta=[]\n",
    "x=[]\n",
    "i=1\n",
    "for (a,b) in z:\n",
    "    theta[1]=a\n",
    "    x[1]=b\n",
    "    i=i+1"
   ]
  },
  {
   "cell_type": "code",
   "execution_count": 31,
   "id": "544df975",
   "metadata": {},
   "outputs": [
    {
     "data": {
      "text/plain": [
       "[]"
      ]
     },
     "execution_count": 31,
     "metadata": {},
     "output_type": "execute_result"
    }
   ],
   "source": [
    "theta"
   ]
  },
  {
   "cell_type": "code",
   "execution_count": null,
   "id": "6350a549",
   "metadata": {},
   "outputs": [],
   "source": []
  },
  {
   "cell_type": "code",
   "execution_count": null,
   "id": "37a27dd2",
   "metadata": {},
   "outputs": [],
   "source": []
  }
 ],
 "metadata": {
  "kernelspec": {
   "display_name": "Python 3 (ipykernel)",
   "language": "python",
   "name": "python3"
  },
  "language_info": {
   "codemirror_mode": {
    "name": "ipython",
    "version": 3
   },
   "file_extension": ".py",
   "mimetype": "text/x-python",
   "name": "python",
   "nbconvert_exporter": "python",
   "pygments_lexer": "ipython3",
   "version": "3.9.13"
  }
 },
 "nbformat": 4,
 "nbformat_minor": 5
}
