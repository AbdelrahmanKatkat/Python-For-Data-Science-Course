{
 "cells": [
  {
   "cell_type": "markdown",
   "id": "3da60f76",
   "metadata": {},
   "source": [
    "## Plotly & Cufflinks"
   ]
  },
  {
   "cell_type": "code",
   "execution_count": 1,
   "id": "456b4825",
   "metadata": {},
   "outputs": [],
   "source": [
    "# Plotly in an interactive visualiZation library\n",
    "# Cufflinks connects plotly with pandas\n",
    "# pip install plotly\n",
    "# pip install cufflinks\n",
    "# pip install chart-studio\n",
    "# import chart_studio.plotly as py"
   ]
  },
  {
   "cell_type": "markdown",
   "id": "050f1d1f",
   "metadata": {},
   "source": [
    "## Notes\n",
    "  "
   ]
  },
  {
   "cell_type": "code",
   "execution_count": 2,
   "id": "fd88160f",
   "metadata": {},
   "outputs": [],
   "source": [
    "#colorscale='ylorbr' (making dictionary)\n",
    "#projection={'type':'mercator'} (World map)"
   ]
  },
  {
   "cell_type": "markdown",
   "id": "fca1d206",
   "metadata": {},
   "source": [
    "## Intro"
   ]
  },
  {
   "cell_type": "code",
   "execution_count": 3,
   "id": "0b61d4bf",
   "metadata": {},
   "outputs": [],
   "source": [
    "import pandas as pd\n",
    "import numpy as np\n",
    "import seaborn as sns\n",
    "import matplotlib.pyplot as plt\n",
    "%matplotlib inline\n"
   ]
  },
  {
   "cell_type": "code",
   "execution_count": 4,
   "id": "ffe8e867",
   "metadata": {},
   "outputs": [
    {
     "name": "stdout",
     "output_type": "stream",
     "text": [
      "5.6.0\n"
     ]
    }
   ],
   "source": [
    "from plotly import __version__\n",
    "print(__version__) # requires version >= 1.9.0"
   ]
  },
  {
   "cell_type": "code",
   "execution_count": 5,
   "id": "3d56565b",
   "metadata": {},
   "outputs": [],
   "source": [
    "import cufflinks as cf"
   ]
  },
  {
   "cell_type": "code",
   "execution_count": 6,
   "id": "c0719194",
   "metadata": {},
   "outputs": [],
   "source": [
    "from plotly.offline import download_plotlyjs,init_notebook_mode,plot,iplot\n",
    "    # As you will work offline "
   ]
  },
  {
   "cell_type": "code",
   "execution_count": 7,
   "id": "b43d09cf",
   "metadata": {},
   "outputs": [
    {
     "data": {
      "text/html": [
       "        <script type=\"text/javascript\">\n",
       "        window.PlotlyConfig = {MathJaxConfig: 'local'};\n",
       "        if (window.MathJax) {MathJax.Hub.Config({SVG: {font: \"STIX-Web\"}});}\n",
       "        if (typeof require !== 'undefined') {\n",
       "        require.undef(\"plotly\");\n",
       "        requirejs.config({\n",
       "            paths: {\n",
       "                'plotly': ['https://cdn.plot.ly/plotly-2.9.0.min']\n",
       "            }\n",
       "        });\n",
       "        require(['plotly'], function(Plotly) {\n",
       "            window._Plotly = Plotly;\n",
       "        });\n",
       "        }\n",
       "        </script>\n",
       "        "
      ]
     },
     "metadata": {},
     "output_type": "display_data"
    }
   ],
   "source": [
    "init_notebook_mode(connected=True)\n",
    "    # That will connect interactive javascript to pandas & numpy"
   ]
  },
  {
   "cell_type": "code",
   "execution_count": 8,
   "id": "11f412a8",
   "metadata": {},
   "outputs": [
    {
     "data": {
      "text/html": [
       "        <script type=\"text/javascript\">\n",
       "        window.PlotlyConfig = {MathJaxConfig: 'local'};\n",
       "        if (window.MathJax) {MathJax.Hub.Config({SVG: {font: \"STIX-Web\"}});}\n",
       "        if (typeof require !== 'undefined') {\n",
       "        require.undef(\"plotly\");\n",
       "        requirejs.config({\n",
       "            paths: {\n",
       "                'plotly': ['https://cdn.plot.ly/plotly-2.9.0.min']\n",
       "            }\n",
       "        });\n",
       "        require(['plotly'], function(Plotly) {\n",
       "            window._Plotly = Plotly;\n",
       "        });\n",
       "        }\n",
       "        </script>\n",
       "        "
      ]
     },
     "metadata": {},
     "output_type": "display_data"
    }
   ],
   "source": [
    "cf.go_offline()\n",
    "    # This allows cufflinks to work offline"
   ]
  },
  {
   "cell_type": "code",
   "execution_count": 9,
   "id": "53541742",
   "metadata": {},
   "outputs": [],
   "source": [
    "# Data\n",
    "df=pd.DataFrame(np.random.randn(100,4),columns='A B C d' .split())"
   ]
  },
  {
   "cell_type": "code",
   "execution_count": 10,
   "id": "07e87d12",
   "metadata": {},
   "outputs": [
    {
     "data": {
      "text/html": [
       "<div>\n",
       "<style scoped>\n",
       "    .dataframe tbody tr th:only-of-type {\n",
       "        vertical-align: middle;\n",
       "    }\n",
       "\n",
       "    .dataframe tbody tr th {\n",
       "        vertical-align: top;\n",
       "    }\n",
       "\n",
       "    .dataframe thead th {\n",
       "        text-align: right;\n",
       "    }\n",
       "</style>\n",
       "<table border=\"1\" class=\"dataframe\">\n",
       "  <thead>\n",
       "    <tr style=\"text-align: right;\">\n",
       "      <th></th>\n",
       "      <th>A</th>\n",
       "      <th>B</th>\n",
       "      <th>C</th>\n",
       "      <th>d</th>\n",
       "    </tr>\n",
       "  </thead>\n",
       "  <tbody>\n",
       "    <tr>\n",
       "      <th>0</th>\n",
       "      <td>-0.691274</td>\n",
       "      <td>-0.939990</td>\n",
       "      <td>-2.186843</td>\n",
       "      <td>0.232918</td>\n",
       "    </tr>\n",
       "    <tr>\n",
       "      <th>1</th>\n",
       "      <td>2.638527</td>\n",
       "      <td>-1.942338</td>\n",
       "      <td>-0.725014</td>\n",
       "      <td>-0.779851</td>\n",
       "    </tr>\n",
       "    <tr>\n",
       "      <th>2</th>\n",
       "      <td>-0.760286</td>\n",
       "      <td>0.452216</td>\n",
       "      <td>-0.691383</td>\n",
       "      <td>-0.156826</td>\n",
       "    </tr>\n",
       "    <tr>\n",
       "      <th>3</th>\n",
       "      <td>-0.179894</td>\n",
       "      <td>-1.448779</td>\n",
       "      <td>0.048147</td>\n",
       "      <td>-0.447986</td>\n",
       "    </tr>\n",
       "    <tr>\n",
       "      <th>4</th>\n",
       "      <td>1.131491</td>\n",
       "      <td>0.680199</td>\n",
       "      <td>-0.268817</td>\n",
       "      <td>-0.313286</td>\n",
       "    </tr>\n",
       "  </tbody>\n",
       "</table>\n",
       "</div>"
      ],
      "text/plain": [
       "          A         B         C         d\n",
       "0 -0.691274 -0.939990 -2.186843  0.232918\n",
       "1  2.638527 -1.942338 -0.725014 -0.779851\n",
       "2 -0.760286  0.452216 -0.691383 -0.156826\n",
       "3 -0.179894 -1.448779  0.048147 -0.447986\n",
       "4  1.131491  0.680199 -0.268817 -0.313286"
      ]
     },
     "execution_count": 10,
     "metadata": {},
     "output_type": "execute_result"
    }
   ],
   "source": [
    "df.head()"
   ]
  },
  {
   "cell_type": "code",
   "execution_count": 11,
   "id": "48c917d2",
   "metadata": {},
   "outputs": [],
   "source": [
    "df2=pd.DataFrame({'Category':['A','B','C'],'Values':[32,43,50]})"
   ]
  },
  {
   "cell_type": "code",
   "execution_count": 12,
   "id": "62369ad9",
   "metadata": {},
   "outputs": [
    {
     "data": {
      "text/html": [
       "<div>\n",
       "<style scoped>\n",
       "    .dataframe tbody tr th:only-of-type {\n",
       "        vertical-align: middle;\n",
       "    }\n",
       "\n",
       "    .dataframe tbody tr th {\n",
       "        vertical-align: top;\n",
       "    }\n",
       "\n",
       "    .dataframe thead th {\n",
       "        text-align: right;\n",
       "    }\n",
       "</style>\n",
       "<table border=\"1\" class=\"dataframe\">\n",
       "  <thead>\n",
       "    <tr style=\"text-align: right;\">\n",
       "      <th></th>\n",
       "      <th>Category</th>\n",
       "      <th>Values</th>\n",
       "    </tr>\n",
       "  </thead>\n",
       "  <tbody>\n",
       "    <tr>\n",
       "      <th>0</th>\n",
       "      <td>A</td>\n",
       "      <td>32</td>\n",
       "    </tr>\n",
       "    <tr>\n",
       "      <th>1</th>\n",
       "      <td>B</td>\n",
       "      <td>43</td>\n",
       "    </tr>\n",
       "    <tr>\n",
       "      <th>2</th>\n",
       "      <td>C</td>\n",
       "      <td>50</td>\n",
       "    </tr>\n",
       "  </tbody>\n",
       "</table>\n",
       "</div>"
      ],
      "text/plain": [
       "  Category  Values\n",
       "0        A      32\n",
       "1        B      43\n",
       "2        C      50"
      ]
     },
     "execution_count": 12,
     "metadata": {},
     "output_type": "execute_result"
    }
   ],
   "source": [
    "df2.head()"
   ]
  },
  {
   "cell_type": "code",
   "execution_count": 13,
   "id": "7ce278b3",
   "metadata": {},
   "outputs": [
    {
     "data": {
      "text/plain": [
       "<AxesSubplot:>"
      ]
     },
     "execution_count": 13,
     "metadata": {},
     "output_type": "execute_result"
    },
    {
     "data": {
      "image/png": "[encoded data removed]",
      "text/plain": [
       "<Figure size 432x288 with 1 Axes>"
      ]
     },
     "metadata": {
      "needs_background": "light"
     },
     "output_type": "display_data"
    }
   ],
   "source": [
    "df.plot()"
   ]
  },
  {
   "cell_type": "code",
   "execution_count": 14,
   "id": "42969479",
   "metadata": {},
   "outputs": [
    {
     "data": {
      "application/vnd.plotly.v1+json": {
       "config": {
        "linkText": "Export to plot.ly",
        "plotlyServerURL": "https://plot.ly",
        "showLink": true
       },
       "data": [
        {
         "line": {
          "color": "rgba(255, 153, 51, 1.0)",
          "dash": "solid",
          "shape": "linear",
          "width": 1.3
         },
         "mode": "lines",
         "name": "A",
         "text": "",
         "type": "scatter",
         "x": [
          0,
          1,
          2,
          3,
          4,
          5,
          6,
          7,
          8,
          9,
          10,
          11,
          12,
          13,
          14,
          15,
          16,
          17,
          18,
          19,
          20,
          21,
          22,
          23,
          24,
          25,
          26,
          27,
          28,
          29,
          30,
          31,
          32,
          33,
          34,
          35,
          36,
          37,
          38,
          39,
          40,
          41,
          42,
          43,
          44,
          45,
          46,
          47,
          48,
          49,
          50,
          51,
          52,
          53,
          54,
          55,
          56,
          57,
          58,
          59,
          60,
          61,
          62,
          63,
          64,
          65,
          66,
          67,
          68,
          69,
          70,
          71,
          72,
          73,
          74,
          75,
          76,
          77,
          78,
          79,
          80,
          81,
          82,
          83,
          84,
          85,
          86,
          87,
          88,
          89,
          90,
          91,
          92,
          93,
          94,
          95,
          96,
          97,
          98,
          99
         ],
         "y": [
          -0.6912741429033772,
          2.6385271622920055,
          -0.7602857136434306,
          -0.17989398726623554,
          1.1314908404810518,
          -0.9236277429682401,
          0.5738678190716883,
          0.9864544801541595,
          0.32279219540734283,
          0.5885178288924707,
          0.5024994967413074,
          0.33207596909749637,
          0.6161296323145041,
          0.09859447753227293,
          -0.8227834082627532,
          0.28464354765094746,
          -0.947342488658302,
          -0.8548769790411005,
          1.0921015040745041,
          -0.6059906110102712,
          0.7134665644043366,
          0.2506753216842416,
          0.5704988886012403,
          -0.9001676759617967,
          1.5577514195590443,
          -0.8935476824587619,
          -1.643208970155166,
          0.9744088602730071,
          -0.29420623561316916,
          -0.5779436336856351,
          -1.3840170311282365,
          2.314676910076252,
          0.6415398505272547,
          -0.8002006468597685,
          0.6922191370110591,
          -1.0337120485296762,
          0.27265670125524993,
          -0.5797583333024258,
          0.5447513266398479,
          1.2410264787389498,
          -0.3170328105037755,
          0.9375460090151588,
          0.2879885443792549,
          -1.6938341411969675,
          -0.07472009167841874,
          0.5060026725044797,
          -0.8504009261137909,
          0.732510438788298,
          2.239796161013942,
          0.7692758256658025,
          -0.327999523823669,
          -0.0522999588114854,
          0.7404336785517659,
          1.006511440200384,
          -1.0954078070436444,
          -0.694419007954893,
          0.9170675514111376,
          0.2410176623597317,
          -1.1417311818412559,
          -2.036168540701319,
          -0.5852200554789933,
          -0.08187573553144036,
          -0.0108941525886899,
          0.5043090936377923,
          -0.009038725156449571,
          0.37521561129710973,
          0.5454233016591511,
          -1.2019374781761154,
          -1.2164146034848031,
          -1.5521771642600135,
          1.5260481075021362,
          0.7511200123355126,
          -1.201730403956396,
          2.2280888976822624,
          -0.15975558174063254,
          -0.21141327351955494,
          0.3060476425825168,
          -0.20791345635292988,
          0.9746962275768414,
          -0.3798940618161446,
          -1.2099430641956597,
          -0.07687618710847464,
          0.04855691969444076,
          1.6219188475758473,
          -2.1694340031988157,
          1.1071533539052,
          1.228055445210511,
          0.9847854355920682,
          -1.7122298669622624,
          -0.23909369014186913,
          0.9571627095229488,
          0.2050568135377792,
          -0.9270560083471667,
          0.974859311003513,
          0.37850037510517365,
          0.47070287060999044,
          0.8239361128145453,
          0.9503701842417043,
          0.3020754261820294,
          0.5335541974559987
         ]
        },
        {
         "line": {
          "color": "rgba(55, 128, 191, 1.0)",
          "dash": "solid",
          "shape": "linear",
          "width": 1.3
         },
         "mode": "lines",
         "name": "B",
         "text": "",
         "type": "scatter",
         "x": [
          0,
          1,
          2,
          3,
          4,
          5,
          6,
          7,
          8,
          9,
          10,
          11,
          12,
          13,
          14,
          15,
          16,
          17,
          18,
          19,
          20,
          21,
          22,
          23,
          24,
          25,
          26,
          27,
          28,
          29,
          30,
          31,
          32,
          33,
          34,
          35,
          36,
          37,
          38,
          39,
          40,
          41,
          42,
          43,
          44,
          45,
          46,
          47,
          48,
          49,
          50,
          51,
          52,
          53,
          54,
          55,
          56,
          57,
          58,
          59,
          60,
          61,
          62,
          63,
          64,
          65,
          66,
          67,
          68,
          69,
          70,
          71,
          72,
          73,
          74,
          75,
          76,
          77,
          78,
          79,
          80,
          81,
          82,
          83,
          84,
          85,
          86,
          87,
          88,
          89,
          90,
          91,
          92,
          93,
          94,
          95,
          96,
          97,
          98,
          99
         ],
         "y": [
          -0.9399902999168411,
          -1.9423380705231792,
          0.4522164949791178,
          -1.4487787439238513,
          0.6801991481379681,
          -0.9371935088416633,
          -0.017229639492253413,
          -0.258876955937129,
          -1.0817046480966666,
          -0.6355540706675884,
          -0.5095868553778142,
          1.0783223972420422,
          0.1658907389286997,
          0.6321115178431862,
          -0.3158816940165806,
          1.1039231468906006,
          -0.49906935443041817,
          -0.6315137548742901,
          0.4726907486757533,
          0.2785663383433755,
          0.6756828406946835,
          -0.1937357330418802,
          0.5631093809666425,
          0.09076004610545052,
          -0.08080029963722939,
          -0.24121391840168532,
          -0.8838536665321517,
          -0.16955688742526506,
          0.5456960917581483,
          0.3461823440618255,
          0.8838886872681287,
          0.6007935651747616,
          -0.554952740896429,
          0.16087588010661694,
          0.7139512276978098,
          0.7836504954457244,
          -0.7468182950644572,
          -1.2852739351722766,
          -0.7377216443690595,
          0.7879482149641246,
          0.6888763990791642,
          2.0131037127401514,
          -0.9590282314305115,
          -0.08995759073683214,
          0.29072502929996125,
          1.6081002671179545,
          -0.11460765764050192,
          -1.187598726286891,
          0.9591573131300998,
          -1.0752516355918234,
          -0.13931574040481506,
          0.4015932029670253,
          0.15440121837917983,
          -0.38647080941415796,
          -1.3210927141383915,
          0.8642920456342552,
          0.6015658553512785,
          0.14569108608113243,
          0.6947284302526355,
          -0.7024617110754191,
          0.1651577477071164,
          -0.407736164353038,
          2.1840342297316826,
          -0.596291435423442,
          -1.8856920299159774,
          -0.3345990732118949,
          -1.7415128836734322,
          0.6112073340788858,
          1.7548265817244395,
          0.9293380526290771,
          -1.373294835797414,
          0.03127355648398631,
          0.4160208366523142,
          -0.11088801603936746,
          0.9221175098804136,
          -1.1576877119234141,
          -0.39813707295622613,
          -1.0592320235705353,
          0.37986665125962565,
          -0.5570483578397022,
          0.6777186339963158,
          -0.38644735124934115,
          -0.46445620006442506,
          -0.4250050264070511,
          1.0890493493481044,
          -1.4627988247249566,
          -0.470768139390512,
          -0.18899810886234358,
          0.4654101860415952,
          1.6779775844139893,
          -1.876317969649985,
          -0.1702025954803815,
          0.7386275124863215,
          -0.995687819654236,
          0.5688961016409643,
          0.003505412674648637,
          0.7707394956863137,
          0.25837287808466486,
          -1.3123051555731073,
          -0.14547432429903318
         ]
        },
        {
         "line": {
          "color": "rgba(50, 171, 96, 1.0)",
          "dash": "solid",
          "shape": "linear",
          "width": 1.3
         },
         "mode": "lines",
         "name": "C",
         "text": "",
         "type": "scatter",
         "x": [
          0,
          1,
          2,
          3,
          4,
          5,
          6,
          7,
          8,
          9,
          10,
          11,
          12,
          13,
          14,
          15,
          16,
          17,
          18,
          19,
          20,
          21,
          22,
          23,
          24,
          25,
          26,
          27,
          28,
          29,
          30,
          31,
          32,
          33,
          34,
          35,
          36,
          37,
          38,
          39,
          40,
          41,
          42,
          43,
          44,
          45,
          46,
          47,
          48,
          49,
          50,
          51,
          52,
          53,
          54,
          55,
          56,
          57,
          58,
          59,
          60,
          61,
          62,
          63,
          64,
          65,
          66,
          67,
          68,
          69,
          70,
          71,
          72,
          73,
          74,
          75,
          76,
          77,
          78,
          79,
          80,
          81,
          82,
          83,
          84,
          85,
          86,
          87,
          88,
          89,
          90,
          91,
          92,
          93,
          94,
          95,
          96,
          97,
          98,
          99
         ],
         "y": [
          -2.1868432802102773,
          -0.7250140419511258,
          -0.6913827612230679,
          0.04814664355985677,
          -0.2688168197666106,
          1.10971313648696,
          -0.6771329496928161,
          0.5260619113595164,
          0.049226185832037424,
          -2.012896157534608,
          -0.4782778769781722,
          0.46681896255807576,
          -0.9366436684435993,
          -0.3025726125323398,
          0.5366046480995682,
          0.3931718093006377,
          -0.7826703785528093,
          -0.5788198960628711,
          -0.6961068548743381,
          0.34041440049893834,
          0.4496610494223251,
          -0.28633727827967465,
          0.6037630528460217,
          0.7509338310040284,
          -1.0536232970283654,
          -1.8834070004092935,
          -0.218141841949026,
          -0.7634726767533443,
          0.268267950607665,
          -0.16541212991899704,
          0.712560943060834,
          -0.4631683253190213,
          0.8072864768418512,
          1.4538043579554563,
          0.6850129423545135,
          -0.6910418773802264,
          -0.8183486993360881,
          -0.963464304316495,
          1.1680409288637745,
          0.7485948742648829,
          -0.11773529201589432,
          1.170204622585392,
          1.4616737848284929,
          0.3167398941877916,
          -0.8343529561308559,
          1.1259989075148988,
          -0.15813832552433288,
          0.045890037768292445,
          -0.2453926220559531,
          -0.7035163255716897,
          0.4602750456413887,
          -1.4193356314795913,
          -0.9760304750681537,
          0.4379325718081307,
          0.12757322745774302,
          -0.28421704417432614,
          -1.1129398620348998,
          1.382523056665255,
          1.1325058761994478,
          1.589567467021451,
          0.5940511289021116,
          -0.4346313423659601,
          0.04003555131307455,
          -0.9659407770041554,
          0.6003559194676078,
          -1.8591787074276616,
          1.5529637948017165,
          -1.2523095244656894,
          0.3051767327838226,
          0.47121194936878663,
          0.9891933978078691,
          -0.20379515668636156,
          -0.8456925702915231,
          0.26574691398209277,
          0.3348203663967337,
          1.2132380685344786,
          -0.6156955586822158,
          -0.14443220317021072,
          0.40282161097393204,
          -0.6924508573035683,
          0.6328059445510126,
          -0.9584109636433588,
          0.06982925441407545,
          -0.6406368622400371,
          -1.2760905752272835,
          -0.18908764420038793,
          -0.908965845745114,
          1.218311234850609,
          -0.6749659299871115,
          -0.4051594201816622,
          1.313294626095533,
          -0.6838154253972283,
          -0.2865694769651911,
          -1.1757599785360122,
          1.9763003663416487,
          0.27643637305796076,
          -0.3744060218984946,
          -0.6709474868077607,
          1.2477324330421622,
          1.6530515466661837
         ]
        },
        {
         "line": {
          "color": "rgba(128, 0, 128, 1.0)",
          "dash": "solid",
          "shape": "linear",
          "width": 1.3
         },
         "mode": "lines",
         "name": "d",
         "text": "",
         "type": "scatter",
         "x": [
          0,
          1,
          2,
          3,
          4,
          5,
          6,
          7,
          8,
          9,
          10,
          11,
          12,
          13,
          14,
          15,
          16,
          17,
          18,
          19,
          20,
          21,
          22,
          23,
          24,
          25,
          26,
          27,
          28,
          29,
          30,
          31,
          32,
          33,
          34,
          35,
          36,
          37,
          38,
          39,
          40,
          41,
          42,
          43,
          44,
          45,
          46,
          47,
          48,
          49,
          50,
          51,
          52,
          53,
          54,
          55,
          56,
          57,
          58,
          59,
          60,
          61,
          62,
          63,
          64,
          65,
          66,
          67,
          68,
          69,
          70,
          71,
          72,
          73,
          74,
          75,
          76,
          77,
          78,
          79,
          80,
          81,
          82,
          83,
          84,
          85,
          86,
          87,
          88,
          89,
          90,
          91,
          92,
          93,
          94,
          95,
          96,
          97,
          98,
          99
         ],
         "y": [
          0.2329180877485759,
          -0.779851055810576,
          -0.15682562020637367,
          -0.44798565785938754,
          -0.31328610636393045,
          1.009703250616094,
          1.690511529886859,
          -1.7727767351074708,
          -1.2898117645716012,
          -1.0598811055611714,
          -0.05995840406671184,
          0.35950289397366847,
          -0.6024925133706687,
          0.5616325192625717,
          -0.4077991936455839,
          -1.661665789770493,
          -0.19894131083362393,
          1.4848139496354045,
          -0.2187519979030449,
          0.014575982368184399,
          -0.670177309744851,
          -0.659774451183918,
          -0.19852388012201994,
          -0.33428900219866814,
          -0.5081847640018546,
          0.6727879848051744,
          -1.5095554860200469,
          -0.3195538761166854,
          -0.8382512667911439,
          0.12633735965166668,
          -0.37448278208313635,
          0.4313852701787521,
          -0.3576282497301914,
          -0.36714254820237824,
          1.2092150655441531,
          -0.3738733597435478,
          1.3908218125778182,
          0.9259595285339431,
          -1.2151942463833356,
          -1.7729149464046192,
          1.5236948417942808,
          0.9167358395734678,
          0.3789304814449219,
          -0.5762996507640142,
          0.7493142071893915,
          -0.9914982111223593,
          -0.8242908979667105,
          0.04244424498827081,
          0.3391159515427539,
          -1.8228026546752387,
          -1.0332861520597718,
          -0.214662965158623,
          0.3475373836788013,
          -0.0684429471666999,
          -1.068272700683441,
          0.10236365335036744,
          1.8088991737076445,
          0.18448770702484002,
          -0.006090338869984403,
          -0.6211910374135585,
          -0.5201526328367619,
          1.1555782431562285,
          -0.8961811434389672,
          -0.5937579695866875,
          -0.7710679156827561,
          -0.6786812472645407,
          -0.7466583486414361,
          0.04771858679514946,
          -0.7601310788064842,
          0.8281712042496281,
          -0.3042202438088885,
          1.0755294024994413,
          2.0596066996717686,
          0.9540488210633757,
          -0.5634964312547651,
          0.14932718269408285,
          2.120865529677368,
          1.5484005448822202,
          -0.8948512068816719,
          -0.5535728791239111,
          1.1659721530863791,
          -0.338269477198465,
          0.6662636529382033,
          -0.8386785671465247,
          -0.45016050483340514,
          1.9719608116281135,
          -1.125112777802077,
          -0.4565031806440209,
          -0.6082343672469854,
          0.523275011356581,
          -0.9590547408867666,
          1.073701314819291,
          -0.49048978185103653,
          0.8348546381818701,
          -0.002962248241787498,
          1.0307814201352343,
          0.20780899895915692,
          -0.4915456045196982,
          0.5783269322123842,
          2.295383481278133
         ]
        }
       ],
       "layout": {
        "legend": {
         "bgcolor": "#F5F6F9",
         "font": {
          "color": "#4D5663"
         }
        },
        "paper_bgcolor": "#F5F6F9",
        "plot_bgcolor": "#F5F6F9",
        "template": {
         "data": {
          "bar": [
           {
            "error_x": {
             "color": "#2a3f5f"
            },
            "error_y": {
             "color": "#2a3f5f"
            },
            "marker": {
             "line": {
              "color": "#E5ECF6",
              "width": 0.5
             },
             "pattern": {
              "fillmode": "overlay",
              "size": 10,
              "solidity": 0.2
             }
            },
            "type": "bar"
           }
          ],
          "barpolar": [
           {
            "marker": {
             "line": {
              "color": "#E5ECF6",
              "width": 0.5
             },
             "pattern": {
              "fillmode": "overlay",
              "size": 10,
              "solidity": 0.2
             }
            },
            "type": "barpolar"
           }
          ],
          "carpet": [
           {
            "aaxis": {
             "endlinecolor": "#2a3f5f",
             "gridcolor": "white",
             "linecolor": "white",
             "minorgridcolor": "white",
             "startlinecolor": "#2a3f5f"
            },
            "baxis": {
             "endlinecolor": "#2a3f5f",
             "gridcolor": "white",
             "linecolor": "white",
             "minorgridcolor": "white",
             "startlinecolor": "#2a3f5f"
            },
            "type": "carpet"
           }
          ],
          "choropleth": [
           {
            "colorbar": {
             "outlinewidth": 0,
             "ticks": ""
            },
            "type": "choropleth"
           }
          ],
          "contour": [
           {
            "colorbar": {
             "outlinewidth": 0,
             "ticks": ""
            },
            "colorscale": [
             [
              0,
              "#0d0887"
             ],
             [
              0.1111111111111111,
              "#46039f"
             ],
             [
              0.2222222222222222,
              "#7201a8"
             ],
             [
              0.3333333333333333,
              "#9c179e"
             ],
             [
              0.4444444444444444,
              "#bd3786"
             ],
             [
              0.5555555555555556,
              "#d8576b"
             ],
             [
              0.6666666666666666,
              "#ed7953"
             ],
             [
              0.7777777777777778,
              "#fb9f3a"
             ],
             [
              0.8888888888888888,
              "#fdca26"
             ],
             [
              1,
              "#f0f921"
             ]
            ],
            "type": "contour"
           }
          ],
          "contourcarpet": [
           {
            "colorbar": {
             "outlinewidth": 0,
             "ticks": ""
            },
            "type": "contourcarpet"
           }
          ],
          "heatmap": [
           {
            "colorbar": {
             "outlinewidth": 0,
             "ticks": ""
            },
            "colorscale": [
             [
              0,
              "#0d0887"
             ],
             [
              0.1111111111111111,
              "#46039f"
             ],
             [
              0.2222222222222222,
              "#7201a8"
             ],
             [
              0.3333333333333333,
              "#9c179e"
             ],
             [
              0.4444444444444444,
              "#bd3786"
             ],
             [
              0.5555555555555556,
              "#d8576b"
             ],
             [
              0.6666666666666666,
              "#ed7953"
             ],
             [
              0.7777777777777778,
              "#fb9f3a"
             ],
             [
              0.8888888888888888,
              "#fdca26"
             ],
             [
              1,
              "#f0f921"
             ]
            ],
            "type": "heatmap"
           }
          ],
          "heatmapgl": [
           {
            "colorbar": {
             "outlinewidth": 0,
             "ticks": ""
            },
            "colorscale": [
             [
              0,
              "#0d0887"
             ],
             [
              0.1111111111111111,
              "#46039f"
             ],
             [
              0.2222222222222222,
              "#7201a8"
             ],
             [
              0.3333333333333333,
              "#9c179e"
             ],
             [
              0.4444444444444444,
              "#bd3786"
             ],
             [
              0.5555555555555556,
              "#d8576b"
             ],
             [
              0.6666666666666666,
              "#ed7953"
             ],
             [
              0.7777777777777778,
              "#fb9f3a"
             ],
             [
              0.8888888888888888,
              "#fdca26"
             ],
             [
              1,
              "#f0f921"
             ]
            ],
            "type": "heatmapgl"
           }
          ],
          "histogram": [
           {
            "marker": {
             "pattern": {
              "fillmode": "overlay",
              "size": 10,
              "solidity": 0.2
             }
            },
            "type": "histogram"
           }
          ],
          "histogram2d": [
           {
            "colorbar": {
             "outlinewidth": 0,
             "ticks": ""
            },
            "colorscale": [
             [
              0,
              "#0d0887"
             ],
             [
              0.1111111111111111,
              "#46039f"
             ],
             [
              0.2222222222222222,
              "#7201a8"
             ],
             [
              0.3333333333333333,
              "#9c179e"
             ],
             [
              0.4444444444444444,
              "#bd3786"
             ],
             [
              0.5555555555555556,
              "#d8576b"
             ],
             [
              0.6666666666666666,
              "#ed7953"
             ],
             [
              0.7777777777777778,
              "#fb9f3a"
             ],
             [
              0.8888888888888888,
              "#fdca26"
             ],
             [
              1,
              "#f0f921"
             ]
            ],
            "type": "histogram2d"
           }
          ],
          "histogram2dcontour": [
           {
            "colorbar": {
             "outlinewidth": 0,
             "ticks": ""
            },
            "colorscale": [
             [
              0,
              "#0d0887"
             ],
             [
              0.1111111111111111,
              "#46039f"
             ],
             [
              0.2222222222222222,
              "#7201a8"
             ],
             [
              0.3333333333333333,
              "#9c179e"
             ],
             [
              0.4444444444444444,
              "#bd3786"
             ],
             [
              0.5555555555555556,
              "#d8576b"
             ],
             [
              0.6666666666666666,
              "#ed7953"
             ],
             [
              0.7777777777777778,
              "#fb9f3a"
             ],
             [
              0.8888888888888888,
              "#fdca26"
             ],
             [
              1,
              "#f0f921"
             ]
            ],
            "type": "histogram2dcontour"
           }
          ],
          "mesh3d": [
           {
            "colorbar": {
             "outlinewidth": 0,
             "ticks": ""
            },
            "type": "mesh3d"
           }
          ],
          "parcoords": [
           {
            "line": {
             "colorbar": {
              "outlinewidth": 0,
              "ticks": ""
             }
            },
            "type": "parcoords"
           }
          ],
          "pie": [
           {
            "automargin": true,
            "type": "pie"
           }
          ],
          "scatter": [
           {
            "marker": {
             "colorbar": {
              "outlinewidth": 0,
              "ticks": ""
             }
            },
            "type": "scatter"
           }
          ],
          "scatter3d": [
           {
            "line": {
             "colorbar": {
              "outlinewidth": 0,
              "ticks": ""
             }
            },
            "marker": {
             "colorbar": {
              "outlinewidth": 0,
              "ticks": ""
             }
            },
            "type": "scatter3d"
           }
          ],
          "scattercarpet": [
           {
            "marker": {
             "colorbar": {
              "outlinewidth": 0,
              "ticks": ""
             }
            },
            "type": "scattercarpet"
           }
          ],
          "scattergeo": [
           {
            "marker": {
             "colorbar": {
              "outlinewidth": 0,
              "ticks": ""
             }
            },
            "type": "scattergeo"
           }
          ],
          "scattergl": [
           {
            "marker": {
             "colorbar": {
              "outlinewidth": 0,
              "ticks": ""
             }
            },
            "type": "scattergl"
           }
          ],
          "scattermapbox": [
           {
            "marker": {
             "colorbar": {
              "outlinewidth": 0,
              "ticks": ""
             }
            },
            "type": "scattermapbox"
           }
          ],
          "scatterpolar": [
           {
            "marker": {
             "colorbar": {
              "outlinewidth": 0,
              "ticks": ""
             }
            },
            "type": "scatterpolar"
           }
          ],
          "scatterpolargl": [
           {
            "marker": {
             "colorbar": {
              "outlinewidth": 0,
              "ticks": ""
             }
            },
            "type": "scatterpolargl"
           }
          ],
          "scatterternary": [
           {
            "marker": {
             "colorbar": {
              "outlinewidth": 0,
              "ticks": ""
             }
            },
            "type": "scatterternary"
           }
          ],
          "surface": [
           {
            "colorbar": {
             "outlinewidth": 0,
             "ticks": ""
            },
            "colorscale": [
             [
              0,
              "#0d0887"
             ],
             [
              0.1111111111111111,
              "#46039f"
             ],
             [
              0.2222222222222222,
              "#7201a8"
             ],
             [
              0.3333333333333333,
              "#9c179e"
             ],
             [
              0.4444444444444444,
              "#bd3786"
             ],
             [
              0.5555555555555556,
              "#d8576b"
             ],
             [
              0.6666666666666666,
              "#ed7953"
             ],
             [
              0.7777777777777778,
              "#fb9f3a"
             ],
             [
              0.8888888888888888,
              "#fdca26"
             ],
             [
              1,
              "#f0f921"
             ]
            ],
            "type": "surface"
           }
          ],
          "table": [
           {
            "cells": {
             "fill": {
              "color": "#EBF0F8"
             },
             "line": {
              "color": "white"
             }
            },
            "header": {
             "fill": {
              "color": "#C8D4E3"
             },
             "line": {
              "color": "white"
             }
            },
            "type": "table"
           }
          ]
         },
         "layout": {
          "annotationdefaults": {
           "arrowcolor": "#2a3f5f",
           "arrowhead": 0,
           "arrowwidth": 1
          },
          "autotypenumbers": "strict",
          "coloraxis": {
           "colorbar": {
            "outlinewidth": 0,
            "ticks": ""
           }
          },
          "colorscale": {
           "diverging": [
            [
             0,
             "#8e0152"
            ],
            [
             0.1,
             "#c51b7d"
            ],
            [
             0.2,
             "#de77ae"
            ],
            [
             0.3,
             "#f1b6da"
            ],
            [
             0.4,
             "#fde0ef"
            ],
            [
             0.5,
             "#f7f7f7"
            ],
            [
             0.6,
             "#e6f5d0"
            ],
            [
             0.7,
             "#b8e186"
            ],
            [
             0.8,
             "#7fbc41"
            ],
            [
             0.9,
             "#4d9221"
            ],
            [
             1,
             "#276419"
            ]
           ],
           "sequential": [
            [
             0,
             "#0d0887"
            ],
            [
             0.1111111111111111,
             "#46039f"
            ],
            [
             0.2222222222222222,
             "#7201a8"
            ],
            [
             0.3333333333333333,
             "#9c179e"
            ],
            [
             0.4444444444444444,
             "#bd3786"
            ],
            [
             0.5555555555555556,
             "#d8576b"
            ],
            [
             0.6666666666666666,
             "#ed7953"
            ],
            [
             0.7777777777777778,
             "#fb9f3a"
            ],
            [
             0.8888888888888888,
             "#fdca26"
            ],
            [
             1,
             "#f0f921"
            ]
           ],
           "sequentialminus": [
            [
             0,
             "#0d0887"
            ],
            [
             0.1111111111111111,
             "#46039f"
            ],
            [
             0.2222222222222222,
             "#7201a8"
            ],
            [
             0.3333333333333333,
             "#9c179e"
            ],
            [
             0.4444444444444444,
             "#bd3786"
            ],
            [
             0.5555555555555556,
             "#d8576b"
            ],
            [
             0.6666666666666666,
             "#ed7953"
            ],
            [
             0.7777777777777778,
             "#fb9f3a"
            ],
            [
             0.8888888888888888,
             "#fdca26"
            ],
            [
             1,
             "#f0f921"
            ]
           ]
          },
          "colorway": [
           "#636efa",
           "#EF553B",
           "#00cc96",
           "#ab63fa",
           "#FFA15A",
           "#19d3f3",
           "#FF6692",
           "#B6E880",
           "#FF97FF",
           "#FECB52"
          ],
          "font": {
           "color": "#2a3f5f"
          },
          "geo": {
           "bgcolor": "white",
           "lakecolor": "white",
           "landcolor": "#E5ECF6",
           "showlakes": true,
           "showland": true,
           "subunitcolor": "white"
          },
          "hoverlabel": {
           "align": "left"
          },
          "hovermode": "closest",
          "mapbox": {
           "style": "light"
          },
          "paper_bgcolor": "white",
          "plot_bgcolor": "#E5ECF6",
          "polar": {
           "angularaxis": {
            "gridcolor": "white",
            "linecolor": "white",
            "ticks": ""
           },
           "bgcolor": "#E5ECF6",
           "radialaxis": {
            "gridcolor": "white",
            "linecolor": "white",
            "ticks": ""
           }
          },
          "scene": {
           "xaxis": {
            "backgroundcolor": "#E5ECF6",
            "gridcolor": "white",
            "gridwidth": 2,
            "linecolor": "white",
            "showbackground": true,
            "ticks": "",
            "zerolinecolor": "white"
           },
           "yaxis": {
            "backgroundcolor": "#E5ECF6",
            "gridcolor": "white",
            "gridwidth": 2,
            "linecolor": "white",
            "showbackground": true,
            "ticks": "",
            "zerolinecolor": "white"
           },
           "zaxis": {
            "backgroundcolor": "#E5ECF6",
            "gridcolor": "white",
            "gridwidth": 2,
            "linecolor": "white",
            "showbackground": true,
            "ticks": "",
            "zerolinecolor": "white"
           }
          },
          "shapedefaults": {
           "line": {
            "color": "#2a3f5f"
           }
          },
          "ternary": {
           "aaxis": {
            "gridcolor": "white",
            "linecolor": "white",
            "ticks": ""
           },
           "baxis": {
            "gridcolor": "white",
            "linecolor": "white",
            "ticks": ""
           },
           "bgcolor": "#E5ECF6",
           "caxis": {
            "gridcolor": "white",
            "linecolor": "white",
            "ticks": ""
           }
          },
          "title": {
           "x": 0.05
          },
          "xaxis": {
           "automargin": true,
           "gridcolor": "white",
           "linecolor": "white",
           "ticks": "",
           "title": {
            "standoff": 15
           },
           "zerolinecolor": "white",
           "zerolinewidth": 2
          },
          "yaxis": {
           "automargin": true,
           "gridcolor": "white",
           "linecolor": "white",
           "ticks": "",
           "title": {
            "standoff": 15
           },
           "zerolinecolor": "white",
           "zerolinewidth": 2
          }
         }
        },
        "title": {
         "font": {
          "color": "#4D5663"
         }
        },
        "xaxis": {
         "gridcolor": "#E1E5ED",
         "showgrid": true,
         "tickfont": {
          "color": "#4D5663"
         },
         "title": {
          "font": {
           "color": "#4D5663"
          },
          "text": ""
         },
         "zerolinecolor": "#E1E5ED"
        },
        "yaxis": {
         "gridcolor": "#E1E5ED",
         "showgrid": true,
         "tickfont": {
          "color": "#4D5663"
         },
         "title": {
          "font": {
           "color": "#4D5663"
          },
          "text": ""
         },
         "zerolinecolor": "#E1E5ED"
        }
       }
      },
      "text/html": [
       "<div>                            <div id=\"d2c32d3f-7a98-41d3-8277-21ed682a8278\" class=\"plotly-graph-div\" style=\"height:525px; width:100%;\"></div>            <script type=\"text/javascript\">                require([\"plotly\"], function(Plotly) {                    window.PLOTLYENV=window.PLOTLYENV || {};\n",
       "                    window.PLOTLYENV.BASE_URL='https://plot.ly';                                    if (document.getElementById(\"d2c32d3f-7a98-41d3-8277-21ed682a8278\")) {                    Plotly.newPlot(                        \"d2c32d3f-7a98-41d3-8277-21ed682a8278\",                        [{\"line\":{\"color\":\"rgba(255, 153, 51, 1.0)\",\"dash\":\"solid\",\"shape\":\"linear\",\"width\":1.3},\"mode\":\"lines\",\"name\":\"A\",\"text\":\"\",\"x\":[0,1,2,3,4,5,6,7,8,9,10,11,12,13,14,15,16,17,18,19,20,21,22,23,24,25,26,27,28,29,30,31,32,33,34,35,36,37,38,39,40,41,42,43,44,45,46,47,48,49,50,51,52,53,54,55,56,57,58,59,60,61,62,63,64,65,66,67,68,69,70,71,72,73,74,75,76,77,78,79,80,81,82,83,84,85,86,87,88,89,90,91,92,93,94,95,96,97,98,99],\"y\":[-0.6912741429033772,2.6385271622920055,-0.7602857136434306,-0.17989398726623554,1.1314908404810518,-0.9236277429682401,0.5738678190716883,0.9864544801541595,0.32279219540734283,0.5885178288924707,0.5024994967413074,0.33207596909749637,0.6161296323145041,0.09859447753227293,-0.8227834082627532,0.28464354765094746,-0.947342488658302,-0.8548769790411005,1.0921015040745041,-0.6059906110102712,0.7134665644043366,0.2506753216842416,0.5704988886012403,-0.9001676759617967,1.5577514195590443,-0.8935476824587619,-1.643208970155166,0.9744088602730071,-0.29420623561316916,-0.5779436336856351,-1.3840170311282365,2.314676910076252,0.6415398505272547,-0.8002006468597685,0.6922191370110591,-1.0337120485296762,0.27265670125524993,-0.5797583333024258,0.5447513266398479,1.2410264787389498,-0.3170328105037755,0.9375460090151588,0.2879885443792549,-1.6938341411969675,-0.07472009167841874,0.5060026725044797,-0.8504009261137909,0.732510438788298,2.239796161013942,0.7692758256658025,-0.327999523823669,-0.0522999588114854,0.7404336785517659,1.006511440200384,-1.0954078070436444,-0.694419007954893,0.9170675514111376,0.2410176623597317,-1.1417311818412559,-2.036168540701319,-0.5852200554789933,-0.08187573553144036,-0.0108941525886899,0.5043090936377923,-0.009038725156449571,0.37521561129710973,0.5454233016591511,-1.2019374781761154,-1.2164146034848031,-1.5521771642600135,1.5260481075021362,0.7511200123355126,-1.201730403956396,2.2280888976822624,-0.15975558174063254,-0.21141327351955494,0.3060476425825168,-0.20791345635292988,0.9746962275768414,-0.3798940618161446,-1.2099430641956597,-0.07687618710847464,0.04855691969444076,1.6219188475758473,-2.1694340031988157,1.1071533539052,1.228055445210511,0.9847854355920682,-1.7122298669622624,-0.23909369014186913,0.9571627095229488,0.2050568135377792,-0.9270560083471667,0.974859311003513,0.37850037510517365,0.47070287060999044,0.8239361128145453,0.9503701842417043,0.3020754261820294,0.5335541974559987],\"type\":\"scatter\"},{\"line\":{\"color\":\"rgba(55, 128, 191, 1.0)\",\"dash\":\"solid\",\"shape\":\"linear\",\"width\":1.3},\"mode\":\"lines\",\"name\":\"B\",\"text\":\"\",\"x\":[0,1,2,3,4,5,6,7,8,9,10,11,12,13,14,15,16,17,18,19,20,21,22,23,24,25,26,27,28,29,30,31,32,33,34,35,36,37,38,39,40,41,42,43,44,45,46,47,48,49,50,51,52,53,54,55,56,57,58,59,60,61,62,63,64,65,66,67,68,69,70,71,72,73,74,75,76,77,78,79,80,81,82,83,84,85,86,87,88,89,90,91,92,93,94,95,96,97,98,99],\"y\":[-0.9399902999168411,-1.9423380705231792,0.4522164949791178,-1.4487787439238513,0.6801991481379681,-0.9371935088416633,-0.017229639492253413,-0.258876955937129,-1.0817046480966666,-0.6355540706675884,-0.5095868553778142,1.0783223972420422,0.1658907389286997,0.6321115178431862,-0.3158816940165806,1.1039231468906006,-0.49906935443041817,-0.6315137548742901,0.4726907486757533,0.2785663383433755,0.6756828406946835,-0.1937357330418802,0.5631093809666425,0.09076004610545052,-0.08080029963722939,-0.24121391840168532,-0.8838536665321517,-0.16955688742526506,0.5456960917581483,0.3461823440618255,0.8838886872681287,0.6007935651747616,-0.554952740896429,0.16087588010661694,0.7139512276978098,0.7836504954457244,-0.7468182950644572,-1.2852739351722766,-0.7377216443690595,0.7879482149641246,0.6888763990791642,2.0131037127401514,-0.9590282314305115,-0.08995759073683214,0.29072502929996125,1.6081002671179545,-0.11460765764050192,-1.187598726286891,0.9591573131300998,-1.0752516355918234,-0.13931574040481506,0.4015932029670253,0.15440121837917983,-0.38647080941415796,-1.3210927141383915,0.8642920456342552,0.6015658553512785,0.14569108608113243,0.6947284302526355,-0.7024617110754191,0.1651577477071164,-0.407736164353038,2.1840342297316826,-0.596291435423442,-1.8856920299159774,-0.3345990732118949,-1.7415128836734322,0.6112073340788858,1.7548265817244395,0.9293380526290771,-1.373294835797414,0.03127355648398631,0.4160208366523142,-0.11088801603936746,0.9221175098804136,-1.1576877119234141,-0.39813707295622613,-1.0592320235705353,0.37986665125962565,-0.5570483578397022,0.6777186339963158,-0.38644735124934115,-0.46445620006442506,-0.4250050264070511,1.0890493493481044,-1.4627988247249566,-0.470768139390512,-0.18899810886234358,0.4654101860415952,1.6779775844139893,-1.876317969649985,-0.1702025954803815,0.7386275124863215,-0.995687819654236,0.5688961016409643,0.003505412674648637,0.7707394956863137,0.25837287808466486,-1.3123051555731073,-0.14547432429903318],\"type\":\"scatter\"},{\"line\":{\"color\":\"rgba(50, 171, 96, 1.0)\",\"dash\":\"solid\",\"shape\":\"linear\",\"width\":1.3},\"mode\":\"lines\",\"name\":\"C\",\"text\":\"\",\"x\":[0,1,2,3,4,5,6,7,8,9,10,11,12,13,14,15,16,17,18,19,20,21,22,23,24,25,26,27,28,29,30,31,32,33,34,35,36,37,38,39,40,41,42,43,44,45,46,47,48,49,50,51,52,53,54,55,56,57,58,59,60,61,62,63,64,65,66,67,68,69,70,71,72,73,74,75,76,77,78,79,80,81,82,83,84,85,86,87,88,89,90,91,92,93,94,95,96,97,98,99],\"y\":[-2.1868432802102773,-0.7250140419511258,-0.6913827612230679,0.04814664355985677,-0.2688168197666106,1.10971313648696,-0.6771329496928161,0.5260619113595164,0.049226185832037424,-2.012896157534608,-0.4782778769781722,0.46681896255807576,-0.9366436684435993,-0.3025726125323398,0.5366046480995682,0.3931718093006377,-0.7826703785528093,-0.5788198960628711,-0.6961068548743381,0.34041440049893834,0.4496610494223251,-0.28633727827967465,0.6037630528460217,0.7509338310040284,-1.0536232970283654,-1.8834070004092935,-0.218141841949026,-0.7634726767533443,0.268267950607665,-0.16541212991899704,0.712560943060834,-0.4631683253190213,0.8072864768418512,1.4538043579554563,0.6850129423545135,-0.6910418773802264,-0.8183486993360881,-0.963464304316495,1.1680409288637745,0.7485948742648829,-0.11773529201589432,1.170204622585392,1.4616737848284929,0.3167398941877916,-0.8343529561308559,1.1259989075148988,-0.15813832552433288,0.045890037768292445,-0.2453926220559531,-0.7035163255716897,0.4602750456413887,-1.4193356314795913,-0.9760304750681537,0.4379325718081307,0.12757322745774302,-0.28421704417432614,-1.1129398620348998,1.382523056665255,1.1325058761994478,1.589567467021451,0.5940511289021116,-0.4346313423659601,0.04003555131307455,-0.9659407770041554,0.6003559194676078,-1.8591787074276616,1.5529637948017165,-1.2523095244656894,0.3051767327838226,0.47121194936878663,0.9891933978078691,-0.20379515668636156,-0.8456925702915231,0.26574691398209277,0.3348203663967337,1.2132380685344786,-0.6156955586822158,-0.14443220317021072,0.40282161097393204,-0.6924508573035683,0.6328059445510126,-0.9584109636433588,0.06982925441407545,-0.6406368622400371,-1.2760905752272835,-0.18908764420038793,-0.908965845745114,1.218311234850609,-0.6749659299871115,-0.4051594201816622,1.313294626095533,-0.6838154253972283,-0.2865694769651911,-1.1757599785360122,1.9763003663416487,0.27643637305796076,-0.3744060218984946,-0.6709474868077607,1.2477324330421622,1.6530515466661837],\"type\":\"scatter\"},{\"line\":{\"color\":\"rgba(128, 0, 128, 1.0)\",\"dash\":\"solid\",\"shape\":\"linear\",\"width\":1.3},\"mode\":\"lines\",\"name\":\"d\",\"text\":\"\",\"x\":[0,1,2,3,4,5,6,7,8,9,10,11,12,13,14,15,16,17,18,19,20,21,22,23,24,25,26,27,28,29,30,31,32,33,34,35,36,37,38,39,40,41,42,43,44,45,46,47,48,49,50,51,52,53,54,55,56,57,58,59,60,61,62,63,64,65,66,67,68,69,70,71,72,73,74,75,76,77,78,79,80,81,82,83,84,85,86,87,88,89,90,91,92,93,94,95,96,97,98,99],\"y\":[0.2329180877485759,-0.779851055810576,-0.15682562020637367,-0.44798565785938754,-0.31328610636393045,1.009703250616094,1.690511529886859,-1.7727767351074708,-1.2898117645716012,-1.0598811055611714,-0.05995840406671184,0.35950289397366847,-0.6024925133706687,0.5616325192625717,-0.4077991936455839,-1.661665789770493,-0.19894131083362393,1.4848139496354045,-0.2187519979030449,0.014575982368184399,-0.670177309744851,-0.659774451183918,-0.19852388012201994,-0.33428900219866814,-0.5081847640018546,0.6727879848051744,-1.5095554860200469,-0.3195538761166854,-0.8382512667911439,0.12633735965166668,-0.37448278208313635,0.4313852701787521,-0.3576282497301914,-0.36714254820237824,1.2092150655441531,-0.3738733597435478,1.3908218125778182,0.9259595285339431,-1.2151942463833356,-1.7729149464046192,1.5236948417942808,0.9167358395734678,0.3789304814449219,-0.5762996507640142,0.7493142071893915,-0.9914982111223593,-0.8242908979667105,0.04244424498827081,0.3391159515427539,-1.8228026546752387,-1.0332861520597718,-0.214662965158623,0.3475373836788013,-0.0684429471666999,-1.068272700683441,0.10236365335036744,1.8088991737076445,0.18448770702484002,-0.006090338869984403,-0.6211910374135585,-0.5201526328367619,1.1555782431562285,-0.8961811434389672,-0.5937579695866875,-0.7710679156827561,-0.6786812472645407,-0.7466583486414361,0.04771858679514946,-0.7601310788064842,0.8281712042496281,-0.3042202438088885,1.0755294024994413,2.0596066996717686,0.9540488210633757,-0.5634964312547651,0.14932718269408285,2.120865529677368,1.5484005448822202,-0.8948512068816719,-0.5535728791239111,1.1659721530863791,-0.338269477198465,0.6662636529382033,-0.8386785671465247,-0.45016050483340514,1.9719608116281135,-1.125112777802077,-0.4565031806440209,-0.6082343672469854,0.523275011356581,-0.9590547408867666,1.073701314819291,-0.49048978185103653,0.8348546381818701,-0.002962248241787498,1.0307814201352343,0.20780899895915692,-0.4915456045196982,0.5783269322123842,2.295383481278133],\"type\":\"scatter\"}],                        {\"legend\":{\"bgcolor\":\"#F5F6F9\",\"font\":{\"color\":\"#4D5663\"}},\"paper_bgcolor\":\"#F5F6F9\",\"plot_bgcolor\":\"#F5F6F9\",\"template\":{\"data\":{\"barpolar\":[{\"marker\":{\"line\":{\"color\":\"#E5ECF6\",\"width\":0.5},\"pattern\":{\"fillmode\":\"overlay\",\"size\":10,\"solidity\":0.2}},\"type\":\"barpolar\"}],\"bar\":[{\"error_x\":{\"color\":\"#2a3f5f\"},\"error_y\":{\"color\":\"#2a3f5f\"},\"marker\":{\"line\":{\"color\":\"#E5ECF6\",\"width\":0.5},\"pattern\":{\"fillmode\":\"overlay\",\"size\":10,\"solidity\":0.2}},\"type\":\"bar\"}],\"carpet\":[{\"aaxis\":{\"endlinecolor\":\"#2a3f5f\",\"gridcolor\":\"white\",\"linecolor\":\"white\",\"minorgridcolor\":\"white\",\"startlinecolor\":\"#2a3f5f\"},\"baxis\":{\"endlinecolor\":\"#2a3f5f\",\"gridcolor\":\"white\",\"linecolor\":\"white\",\"minorgridcolor\":\"white\",\"startlinecolor\":\"#2a3f5f\"},\"type\":\"carpet\"}],\"choropleth\":[{\"colorbar\":{\"outlinewidth\":0,\"ticks\":\"\"},\"type\":\"choropleth\"}],\"contourcarpet\":[{\"colorbar\":{\"outlinewidth\":0,\"ticks\":\"\"},\"type\":\"contourcarpet\"}],\"contour\":[{\"colorbar\":{\"outlinewidth\":0,\"ticks\":\"\"},\"colorscale\":[[0.0,\"#0d0887\"],[0.1111111111111111,\"#46039f\"],[0.2222222222222222,\"#7201a8\"],[0.3333333333333333,\"#9c179e\"],[0.4444444444444444,\"#bd3786\"],[0.5555555555555556,\"#d8576b\"],[0.6666666666666666,\"#ed7953\"],[0.7777777777777778,\"#fb9f3a\"],[0.8888888888888888,\"#fdca26\"],[1.0,\"#f0f921\"]],\"type\":\"contour\"}],\"heatmapgl\":[{\"colorbar\":{\"outlinewidth\":0,\"ticks\":\"\"},\"colorscale\":[[0.0,\"#0d0887\"],[0.1111111111111111,\"#46039f\"],[0.2222222222222222,\"#7201a8\"],[0.3333333333333333,\"#9c179e\"],[0.4444444444444444,\"#bd3786\"],[0.5555555555555556,\"#d8576b\"],[0.6666666666666666,\"#ed7953\"],[0.7777777777777778,\"#fb9f3a\"],[0.8888888888888888,\"#fdca26\"],[1.0,\"#f0f921\"]],\"type\":\"heatmapgl\"}],\"heatmap\":[{\"colorbar\":{\"outlinewidth\":0,\"ticks\":\"\"},\"colorscale\":[[0.0,\"#0d0887\"],[0.1111111111111111,\"#46039f\"],[0.2222222222222222,\"#7201a8\"],[0.3333333333333333,\"#9c179e\"],[0.4444444444444444,\"#bd3786\"],[0.5555555555555556,\"#d8576b\"],[0.6666666666666666,\"#ed7953\"],[0.7777777777777778,\"#fb9f3a\"],[0.8888888888888888,\"#fdca26\"],[1.0,\"#f0f921\"]],\"type\":\"heatmap\"}],\"histogram2dcontour\":[{\"colorbar\":{\"outlinewidth\":0,\"ticks\":\"\"},\"colorscale\":[[0.0,\"#0d0887\"],[0.1111111111111111,\"#46039f\"],[0.2222222222222222,\"#7201a8\"],[0.3333333333333333,\"#9c179e\"],[0.4444444444444444,\"#bd3786\"],[0.5555555555555556,\"#d8576b\"],[0.6666666666666666,\"#ed7953\"],[0.7777777777777778,\"#fb9f3a\"],[0.8888888888888888,\"#fdca26\"],[1.0,\"#f0f921\"]],\"type\":\"histogram2dcontour\"}],\"histogram2d\":[{\"colorbar\":{\"outlinewidth\":0,\"ticks\":\"\"},\"colorscale\":[[0.0,\"#0d0887\"],[0.1111111111111111,\"#46039f\"],[0.2222222222222222,\"#7201a8\"],[0.3333333333333333,\"#9c179e\"],[0.4444444444444444,\"#bd3786\"],[0.5555555555555556,\"#d8576b\"],[0.6666666666666666,\"#ed7953\"],[0.7777777777777778,\"#fb9f3a\"],[0.8888888888888888,\"#fdca26\"],[1.0,\"#f0f921\"]],\"type\":\"histogram2d\"}],\"histogram\":[{\"marker\":{\"pattern\":{\"fillmode\":\"overlay\",\"size\":10,\"solidity\":0.2}},\"type\":\"histogram\"}],\"mesh3d\":[{\"colorbar\":{\"outlinewidth\":0,\"ticks\":\"\"},\"type\":\"mesh3d\"}],\"parcoords\":[{\"line\":{\"colorbar\":{\"outlinewidth\":0,\"ticks\":\"\"}},\"type\":\"parcoords\"}],\"pie\":[{\"automargin\":true,\"type\":\"pie\"}],\"scatter3d\":[{\"line\":{\"colorbar\":{\"outlinewidth\":0,\"ticks\":\"\"}},\"marker\":{\"colorbar\":{\"outlinewidth\":0,\"ticks\":\"\"}},\"type\":\"scatter3d\"}],\"scattercarpet\":[{\"marker\":{\"colorbar\":{\"outlinewidth\":0,\"ticks\":\"\"}},\"type\":\"scattercarpet\"}],\"scattergeo\":[{\"marker\":{\"colorbar\":{\"outlinewidth\":0,\"ticks\":\"\"}},\"type\":\"scattergeo\"}],\"scattergl\":[{\"marker\":{\"colorbar\":{\"outlinewidth\":0,\"ticks\":\"\"}},\"type\":\"scattergl\"}],\"scattermapbox\":[{\"marker\":{\"colorbar\":{\"outlinewidth\":0,\"ticks\":\"\"}},\"type\":\"scattermapbox\"}],\"scatterpolargl\":[{\"marker\":{\"colorbar\":{\"outlinewidth\":0,\"ticks\":\"\"}},\"type\":\"scatterpolargl\"}],\"scatterpolar\":[{\"marker\":{\"colorbar\":{\"outlinewidth\":0,\"ticks\":\"\"}},\"type\":\"scatterpolar\"}],\"scatter\":[{\"marker\":{\"colorbar\":{\"outlinewidth\":0,\"ticks\":\"\"}},\"type\":\"scatter\"}],\"scatterternary\":[{\"marker\":{\"colorbar\":{\"outlinewidth\":0,\"ticks\":\"\"}},\"type\":\"scatterternary\"}],\"surface\":[{\"colorbar\":{\"outlinewidth\":0,\"ticks\":\"\"},\"colorscale\":[[0.0,\"#0d0887\"],[0.1111111111111111,\"#46039f\"],[0.2222222222222222,\"#7201a8\"],[0.3333333333333333,\"#9c179e\"],[0.4444444444444444,\"#bd3786\"],[0.5555555555555556,\"#d8576b\"],[0.6666666666666666,\"#ed7953\"],[0.7777777777777778,\"#fb9f3a\"],[0.8888888888888888,\"#fdca26\"],[1.0,\"#f0f921\"]],\"type\":\"surface\"}],\"table\":[{\"cells\":{\"fill\":{\"color\":\"#EBF0F8\"},\"line\":{\"color\":\"white\"}},\"header\":{\"fill\":{\"color\":\"#C8D4E3\"},\"line\":{\"color\":\"white\"}},\"type\":\"table\"}]},\"layout\":{\"annotationdefaults\":{\"arrowcolor\":\"#2a3f5f\",\"arrowhead\":0,\"arrowwidth\":1},\"autotypenumbers\":\"strict\",\"coloraxis\":{\"colorbar\":{\"outlinewidth\":0,\"ticks\":\"\"}},\"colorscale\":{\"diverging\":[[0,\"#8e0152\"],[0.1,\"#c51b7d\"],[0.2,\"#de77ae\"],[0.3,\"#f1b6da\"],[0.4,\"#fde0ef\"],[0.5,\"#f7f7f7\"],[0.6,\"#e6f5d0\"],[0.7,\"#b8e186\"],[0.8,\"#7fbc41\"],[0.9,\"#4d9221\"],[1,\"#276419\"]],\"sequential\":[[0.0,\"#0d0887\"],[0.1111111111111111,\"#46039f\"],[0.2222222222222222,\"#7201a8\"],[0.3333333333333333,\"#9c179e\"],[0.4444444444444444,\"#bd3786\"],[0.5555555555555556,\"#d8576b\"],[0.6666666666666666,\"#ed7953\"],[0.7777777777777778,\"#fb9f3a\"],[0.8888888888888888,\"#fdca26\"],[1.0,\"#f0f921\"]],\"sequentialminus\":[[0.0,\"#0d0887\"],[0.1111111111111111,\"#46039f\"],[0.2222222222222222,\"#7201a8\"],[0.3333333333333333,\"#9c179e\"],[0.4444444444444444,\"#bd3786\"],[0.5555555555555556,\"#d8576b\"],[0.6666666666666666,\"#ed7953\"],[0.7777777777777778,\"#fb9f3a\"],[0.8888888888888888,\"#fdca26\"],[1.0,\"#f0f921\"]]},\"colorway\":[\"#636efa\",\"#EF553B\",\"#00cc96\",\"#ab63fa\",\"#FFA15A\",\"#19d3f3\",\"#FF6692\",\"#B6E880\",\"#FF97FF\",\"#FECB52\"],\"font\":{\"color\":\"#2a3f5f\"},\"geo\":{\"bgcolor\":\"white\",\"lakecolor\":\"white\",\"landcolor\":\"#E5ECF6\",\"showlakes\":true,\"showland\":true,\"subunitcolor\":\"white\"},\"hoverlabel\":{\"align\":\"left\"},\"hovermode\":\"closest\",\"mapbox\":{\"style\":\"light\"},\"paper_bgcolor\":\"white\",\"plot_bgcolor\":\"#E5ECF6\",\"polar\":{\"angularaxis\":{\"gridcolor\":\"white\",\"linecolor\":\"white\",\"ticks\":\"\"},\"bgcolor\":\"#E5ECF6\",\"radialaxis\":{\"gridcolor\":\"white\",\"linecolor\":\"white\",\"ticks\":\"\"}},\"scene\":{\"xaxis\":{\"backgroundcolor\":\"#E5ECF6\",\"gridcolor\":\"white\",\"gridwidth\":2,\"linecolor\":\"white\",\"showbackground\":true,\"ticks\":\"\",\"zerolinecolor\":\"white\"},\"yaxis\":{\"backgroundcolor\":\"#E5ECF6\",\"gridcolor\":\"white\",\"gridwidth\":2,\"linecolor\":\"white\",\"showbackground\":true,\"ticks\":\"\",\"zerolinecolor\":\"white\"},\"zaxis\":{\"backgroundcolor\":\"#E5ECF6\",\"gridcolor\":\"white\",\"gridwidth\":2,\"linecolor\":\"white\",\"showbackground\":true,\"ticks\":\"\",\"zerolinecolor\":\"white\"}},\"shapedefaults\":{\"line\":{\"color\":\"#2a3f5f\"}},\"ternary\":{\"aaxis\":{\"gridcolor\":\"white\",\"linecolor\":\"white\",\"ticks\":\"\"},\"baxis\":{\"gridcolor\":\"white\",\"linecolor\":\"white\",\"ticks\":\"\"},\"bgcolor\":\"#E5ECF6\",\"caxis\":{\"gridcolor\":\"white\",\"linecolor\":\"white\",\"ticks\":\"\"}},\"title\":{\"x\":0.05},\"xaxis\":{\"automargin\":true,\"gridcolor\":\"white\",\"linecolor\":\"white\",\"ticks\":\"\",\"title\":{\"standoff\":15},\"zerolinecolor\":\"white\",\"zerolinewidth\":2},\"yaxis\":{\"automargin\":true,\"gridcolor\":\"white\",\"linecolor\":\"white\",\"ticks\":\"\",\"title\":{\"standoff\":15},\"zerolinecolor\":\"white\",\"zerolinewidth\":2}}},\"title\":{\"font\":{\"color\":\"#4D5663\"}},\"xaxis\":{\"gridcolor\":\"#E1E5ED\",\"showgrid\":true,\"tickfont\":{\"color\":\"#4D5663\"},\"title\":{\"font\":{\"color\":\"#4D5663\"},\"text\":\"\"},\"zerolinecolor\":\"#E1E5ED\"},\"yaxis\":{\"gridcolor\":\"#E1E5ED\",\"showgrid\":true,\"tickfont\":{\"color\":\"#4D5663\"},\"title\":{\"font\":{\"color\":\"#4D5663\"},\"text\":\"\"},\"zerolinecolor\":\"#E1E5ED\"}},                        {\"showLink\": true, \"linkText\": \"Export to plot.ly\", \"plotlyServerURL\": \"https://plot.ly\", \"responsive\": true}                    ).then(function(){\n",
       "                            \n",
       "var gd = document.getElementById('d2c32d3f-7a98-41d3-8277-21ed682a8278');\n",
       "var x = new MutationObserver(function (mutations, observer) {{\n",
       "        var display = window.getComputedStyle(gd).display;\n",
       "        if (!display || display === 'none') {{\n",
       "            console.log([gd, 'removed!']);\n",
       "            Plotly.purge(gd);\n",
       "            observer.disconnect();\n",
       "        }}\n",
       "}});\n",
       "\n",
       "// Listen for the removal of the full notebook cells\n",
       "var notebookContainer = gd.closest('#notebook-container');\n",
       "if (notebookContainer) {{\n",
       "    x.observe(notebookContainer, {childList: true});\n",
       "}}\n",
       "\n",
       "// Listen for the clearing of the current output cell\n",
       "var outputEl = gd.closest('.output');\n",
       "if (outputEl) {{\n",
       "    x.observe(outputEl, {childList: true});\n",
       "}}\n",
       "\n",
       "                        })                };                });            </script>        </div>"
      ]
     },
     "metadata": {},
     "output_type": "display_data"
    }
   ],
   "source": [
    "df.iplot()\n",
    "    # Using iplot will turn our graph into interactive graph"
   ]
  },
  {
   "cell_type": "markdown",
   "id": "179097a8",
   "metadata": {},
   "source": [
    "## Different types of plots"
   ]
  },
  {
   "cell_type": "code",
   "execution_count": 15,
   "id": "df99a6ec",
   "metadata": {},
   "outputs": [],
   "source": [
    "# iplot"
   ]
  },
  {
   "cell_type": "code",
   "execution_count": 16,
   "id": "1b4bfba4",
   "metadata": {},
   "outputs": [
    {
     "data": {
      "application/vnd.plotly.v1+json": {
       "config": {
        "linkText": "Export to plot.ly",
        "plotlyServerURL": "https://plot.ly",
        "showLink": true
       },
       "data": [
        {
         "line": {
          "color": "rgba(255, 153, 51, 1.0)",
          "dash": "solid",
          "shape": "linear",
          "width": 1.3
         },
         "mode": "lines",
         "name": "A",
         "text": "",
         "type": "scatter",
         "x": [
          0,
          1,
          2,
          3,
          4,
          5,
          6,
          7,
          8,
          9,
          10,
          11,
          12,
          13,
          14,
          15,
          16,
          17,
          18,
          19,
          20,
          21,
          22,
          23,
          24,
          25,
          26,
          27,
          28,
          29,
          30,
          31,
          32,
          33,
          34,
          35,
          36,
          37,
          38,
          39,
          40,
          41,
          42,
          43,
          44,
          45,
          46,
          47,
          48,
          49,
          50,
          51,
          52,
          53,
          54,
          55,
          56,
          57,
          58,
          59,
          60,
          61,
          62,
          63,
          64,
          65,
          66,
          67,
          68,
          69,
          70,
          71,
          72,
          73,
          74,
          75,
          76,
          77,
          78,
          79,
          80,
          81,
          82,
          83,
          84,
          85,
          86,
          87,
          88,
          89,
          90,
          91,
          92,
          93,
          94,
          95,
          96,
          97,
          98,
          99
         ],
         "y": [
          -0.6912741429033772,
          2.6385271622920055,
          -0.7602857136434306,
          -0.17989398726623554,
          1.1314908404810518,
          -0.9236277429682401,
          0.5738678190716883,
          0.9864544801541595,
          0.32279219540734283,
          0.5885178288924707,
          0.5024994967413074,
          0.33207596909749637,
          0.6161296323145041,
          0.09859447753227293,
          -0.8227834082627532,
          0.28464354765094746,
          -0.947342488658302,
          -0.8548769790411005,
          1.0921015040745041,
          -0.6059906110102712,
          0.7134665644043366,
          0.2506753216842416,
          0.5704988886012403,
          -0.9001676759617967,
          1.5577514195590443,
          -0.8935476824587619,
          -1.643208970155166,
          0.9744088602730071,
          -0.29420623561316916,
          -0.5779436336856351,
          -1.3840170311282365,
          2.314676910076252,
          0.6415398505272547,
          -0.8002006468597685,
          0.6922191370110591,
          -1.0337120485296762,
          0.27265670125524993,
          -0.5797583333024258,
          0.5447513266398479,
          1.2410264787389498,
          -0.3170328105037755,
          0.9375460090151588,
          0.2879885443792549,
          -1.6938341411969675,
          -0.07472009167841874,
          0.5060026725044797,
          -0.8504009261137909,
          0.732510438788298,
          2.239796161013942,
          0.7692758256658025,
          -0.327999523823669,
          -0.0522999588114854,
          0.7404336785517659,
          1.006511440200384,
          -1.0954078070436444,
          -0.694419007954893,
          0.9170675514111376,
          0.2410176623597317,
          -1.1417311818412559,
          -2.036168540701319,
          -0.5852200554789933,
          -0.08187573553144036,
          -0.0108941525886899,
          0.5043090936377923,
          -0.009038725156449571,
          0.37521561129710973,
          0.5454233016591511,
          -1.2019374781761154,
          -1.2164146034848031,
          -1.5521771642600135,
          1.5260481075021362,
          0.7511200123355126,
          -1.201730403956396,
          2.2280888976822624,
          -0.15975558174063254,
          -0.21141327351955494,
          0.3060476425825168,
          -0.20791345635292988,
          0.9746962275768414,
          -0.3798940618161446,
          -1.2099430641956597,
          -0.07687618710847464,
          0.04855691969444076,
          1.6219188475758473,
          -2.1694340031988157,
          1.1071533539052,
          1.228055445210511,
          0.9847854355920682,
          -1.7122298669622624,
          -0.23909369014186913,
          0.9571627095229488,
          0.2050568135377792,
          -0.9270560083471667,
          0.974859311003513,
          0.37850037510517365,
          0.47070287060999044,
          0.8239361128145453,
          0.9503701842417043,
          0.3020754261820294,
          0.5335541974559987
         ]
        },
        {
         "line": {
          "color": "rgba(55, 128, 191, 1.0)",
          "dash": "solid",
          "shape": "linear",
          "width": 1.3
         },
         "mode": "lines",
         "name": "B",
         "text": "",
         "type": "scatter",
         "x": [
          0,
          1,
          2,
          3,
          4,
          5,
          6,
          7,
          8,
          9,
          10,
          11,
          12,
          13,
          14,
          15,
          16,
          17,
          18,
          19,
          20,
          21,
          22,
          23,
          24,
          25,
          26,
          27,
          28,
          29,
          30,
          31,
          32,
          33,
          34,
          35,
          36,
          37,
          38,
          39,
          40,
          41,
          42,
          43,
          44,
          45,
          46,
          47,
          48,
          49,
          50,
          51,
          52,
          53,
          54,
          55,
          56,
          57,
          58,
          59,
          60,
          61,
          62,
          63,
          64,
          65,
          66,
          67,
          68,
          69,
          70,
          71,
          72,
          73,
          74,
          75,
          76,
          77,
          78,
          79,
          80,
          81,
          82,
          83,
          84,
          85,
          86,
          87,
          88,
          89,
          90,
          91,
          92,
          93,
          94,
          95,
          96,
          97,
          98,
          99
         ],
         "y": [
          -0.9399902999168411,
          -1.9423380705231792,
          0.4522164949791178,
          -1.4487787439238513,
          0.6801991481379681,
          -0.9371935088416633,
          -0.017229639492253413,
          -0.258876955937129,
          -1.0817046480966666,
          -0.6355540706675884,
          -0.5095868553778142,
          1.0783223972420422,
          0.1658907389286997,
          0.6321115178431862,
          -0.3158816940165806,
          1.1039231468906006,
          -0.49906935443041817,
          -0.6315137548742901,
          0.4726907486757533,
          0.2785663383433755,
          0.6756828406946835,
          -0.1937357330418802,
          0.5631093809666425,
          0.09076004610545052,
          -0.08080029963722939,
          -0.24121391840168532,
          -0.8838536665321517,
          -0.16955688742526506,
          0.5456960917581483,
          0.3461823440618255,
          0.8838886872681287,
          0.6007935651747616,
          -0.554952740896429,
          0.16087588010661694,
          0.7139512276978098,
          0.7836504954457244,
          -0.7468182950644572,
          -1.2852739351722766,
          -0.7377216443690595,
          0.7879482149641246,
          0.6888763990791642,
          2.0131037127401514,
          -0.9590282314305115,
          -0.08995759073683214,
          0.29072502929996125,
          1.6081002671179545,
          -0.11460765764050192,
          -1.187598726286891,
          0.9591573131300998,
          -1.0752516355918234,
          -0.13931574040481506,
          0.4015932029670253,
          0.15440121837917983,
          -0.38647080941415796,
          -1.3210927141383915,
          0.8642920456342552,
          0.6015658553512785,
          0.14569108608113243,
          0.6947284302526355,
          -0.7024617110754191,
          0.1651577477071164,
          -0.407736164353038,
          2.1840342297316826,
          -0.596291435423442,
          -1.8856920299159774,
          -0.3345990732118949,
          -1.7415128836734322,
          0.6112073340788858,
          1.7548265817244395,
          0.9293380526290771,
          -1.373294835797414,
          0.03127355648398631,
          0.4160208366523142,
          -0.11088801603936746,
          0.9221175098804136,
          -1.1576877119234141,
          -0.39813707295622613,
          -1.0592320235705353,
          0.37986665125962565,
          -0.5570483578397022,
          0.6777186339963158,
          -0.38644735124934115,
          -0.46445620006442506,
          -0.4250050264070511,
          1.0890493493481044,
          -1.4627988247249566,
          -0.470768139390512,
          -0.18899810886234358,
          0.4654101860415952,
          1.6779775844139893,
          -1.876317969649985,
          -0.1702025954803815,
          0.7386275124863215,
          -0.995687819654236,
          0.5688961016409643,
          0.003505412674648637,
          0.7707394956863137,
          0.25837287808466486,
          -1.3123051555731073,
          -0.14547432429903318
         ]
        },
        {
         "line": {
          "color": "rgba(50, 171, 96, 1.0)",
          "dash": "solid",
          "shape": "linear",
          "width": 1.3
         },
         "mode": "lines",
         "name": "C",
         "text": "",
         "type": "scatter",
         "x": [
          0,
          1,
          2,
          3,
          4,
          5,
          6,
          7,
          8,
          9,
          10,
          11,
          12,
          13,
          14,
          15,
          16,
          17,
          18,
          19,
          20,
          21,
          22,
          23,
          24,
          25,
          26,
          27,
          28,
          29,
          30,
          31,
          32,
          33,
          34,
          35,
          36,
          37,
          38,
          39,
          40,
          41,
          42,
          43,
          44,
          45,
          46,
          47,
          48,
          49,
          50,
          51,
          52,
          53,
          54,
          55,
          56,
          57,
          58,
          59,
          60,
          61,
          62,
          63,
          64,
          65,
          66,
          67,
          68,
          69,
          70,
          71,
          72,
          73,
          74,
          75,
          76,
          77,
          78,
          79,
          80,
          81,
          82,
          83,
          84,
          85,
          86,
          87,
          88,
          89,
          90,
          91,
          92,
          93,
          94,
          95,
          96,
          97,
          98,
          99
         ],
         "y": [
          -2.1868432802102773,
          -0.7250140419511258,
          -0.6913827612230679,
          0.04814664355985677,
          -0.2688168197666106,
          1.10971313648696,
          -0.6771329496928161,
          0.5260619113595164,
          0.049226185832037424,
          -2.012896157534608,
          -0.4782778769781722,
          0.46681896255807576,
          -0.9366436684435993,
          -0.3025726125323398,
          0.5366046480995682,
          0.3931718093006377,
          -0.7826703785528093,
          -0.5788198960628711,
          -0.6961068548743381,
          0.34041440049893834,
          0.4496610494223251,
          -0.28633727827967465,
          0.6037630528460217,
          0.7509338310040284,
          -1.0536232970283654,
          -1.8834070004092935,
          -0.218141841949026,
          -0.7634726767533443,
          0.268267950607665,
          -0.16541212991899704,
          0.712560943060834,
          -0.4631683253190213,
          0.8072864768418512,
          1.4538043579554563,
          0.6850129423545135,
          -0.6910418773802264,
          -0.8183486993360881,
          -0.963464304316495,
          1.1680409288637745,
          0.7485948742648829,
          -0.11773529201589432,
          1.170204622585392,
          1.4616737848284929,
          0.3167398941877916,
          -0.8343529561308559,
          1.1259989075148988,
          -0.15813832552433288,
          0.045890037768292445,
          -0.2453926220559531,
          -0.7035163255716897,
          0.4602750456413887,
          -1.4193356314795913,
          -0.9760304750681537,
          0.4379325718081307,
          0.12757322745774302,
          -0.28421704417432614,
          -1.1129398620348998,
          1.382523056665255,
          1.1325058761994478,
          1.589567467021451,
          0.5940511289021116,
          -0.4346313423659601,
          0.04003555131307455,
          -0.9659407770041554,
          0.6003559194676078,
          -1.8591787074276616,
          1.5529637948017165,
          -1.2523095244656894,
          0.3051767327838226,
          0.47121194936878663,
          0.9891933978078691,
          -0.20379515668636156,
          -0.8456925702915231,
          0.26574691398209277,
          0.3348203663967337,
          1.2132380685344786,
          -0.6156955586822158,
          -0.14443220317021072,
          0.40282161097393204,
          -0.6924508573035683,
          0.6328059445510126,
          -0.9584109636433588,
          0.06982925441407545,
          -0.6406368622400371,
          -1.2760905752272835,
          -0.18908764420038793,
          -0.908965845745114,
          1.218311234850609,
          -0.6749659299871115,
          -0.4051594201816622,
          1.313294626095533,
          -0.6838154253972283,
          -0.2865694769651911,
          -1.1757599785360122,
          1.9763003663416487,
          0.27643637305796076,
          -0.3744060218984946,
          -0.6709474868077607,
          1.2477324330421622,
          1.6530515466661837
         ]
        },
        {
         "line": {
          "color": "rgba(128, 0, 128, 1.0)",
          "dash": "solid",
          "shape": "linear",
          "width": 1.3
         },
         "mode": "lines",
         "name": "d",
         "text": "",
         "type": "scatter",
         "x": [
          0,
          1,
          2,
          3,
          4,
          5,
          6,
          7,
          8,
          9,
          10,
          11,
          12,
          13,
          14,
          15,
          16,
          17,
          18,
          19,
          20,
          21,
          22,
          23,
          24,
          25,
          26,
          27,
          28,
          29,
          30,
          31,
          32,
          33,
          34,
          35,
          36,
          37,
          38,
          39,
          40,
          41,
          42,
          43,
          44,
          45,
          46,
          47,
          48,
          49,
          50,
          51,
          52,
          53,
          54,
          55,
          56,
          57,
          58,
          59,
          60,
          61,
          62,
          63,
          64,
          65,
          66,
          67,
          68,
          69,
          70,
          71,
          72,
          73,
          74,
          75,
          76,
          77,
          78,
          79,
          80,
          81,
          82,
          83,
          84,
          85,
          86,
          87,
          88,
          89,
          90,
          91,
          92,
          93,
          94,
          95,
          96,
          97,
          98,
          99
         ],
         "y": [
          0.2329180877485759,
          -0.779851055810576,
          -0.15682562020637367,
          -0.44798565785938754,
          -0.31328610636393045,
          1.009703250616094,
          1.690511529886859,
          -1.7727767351074708,
          -1.2898117645716012,
          -1.0598811055611714,
          -0.05995840406671184,
          0.35950289397366847,
          -0.6024925133706687,
          0.5616325192625717,
          -0.4077991936455839,
          -1.661665789770493,
          -0.19894131083362393,
          1.4848139496354045,
          -0.2187519979030449,
          0.014575982368184399,
          -0.670177309744851,
          -0.659774451183918,
          -0.19852388012201994,
          -0.33428900219866814,
          -0.5081847640018546,
          0.6727879848051744,
          -1.5095554860200469,
          -0.3195538761166854,
          -0.8382512667911439,
          0.12633735965166668,
          -0.37448278208313635,
          0.4313852701787521,
          -0.3576282497301914,
          -0.36714254820237824,
          1.2092150655441531,
          -0.3738733597435478,
          1.3908218125778182,
          0.9259595285339431,
          -1.2151942463833356,
          -1.7729149464046192,
          1.5236948417942808,
          0.9167358395734678,
          0.3789304814449219,
          -0.5762996507640142,
          0.7493142071893915,
          -0.9914982111223593,
          -0.8242908979667105,
          0.04244424498827081,
          0.3391159515427539,
          -1.8228026546752387,
          -1.0332861520597718,
          -0.214662965158623,
          0.3475373836788013,
          -0.0684429471666999,
          -1.068272700683441,
          0.10236365335036744,
          1.8088991737076445,
          0.18448770702484002,
          -0.006090338869984403,
          -0.6211910374135585,
          -0.5201526328367619,
          1.1555782431562285,
          -0.8961811434389672,
          -0.5937579695866875,
          -0.7710679156827561,
          -0.6786812472645407,
          -0.7466583486414361,
          0.04771858679514946,
          -0.7601310788064842,
          0.8281712042496281,
          -0.3042202438088885,
          1.0755294024994413,
          2.0596066996717686,
          0.9540488210633757,
          -0.5634964312547651,
          0.14932718269408285,
          2.120865529677368,
          1.5484005448822202,
          -0.8948512068816719,
          -0.5535728791239111,
          1.1659721530863791,
          -0.338269477198465,
          0.6662636529382033,
          -0.8386785671465247,
          -0.45016050483340514,
          1.9719608116281135,
          -1.125112777802077,
          -0.4565031806440209,
          -0.6082343672469854,
          0.523275011356581,
          -0.9590547408867666,
          1.073701314819291,
          -0.49048978185103653,
          0.8348546381818701,
          -0.002962248241787498,
          1.0307814201352343,
          0.20780899895915692,
          -0.4915456045196982,
          0.5783269322123842,
          2.295383481278133
         ]
        }
       ],
       "layout": {
        "legend": {
         "bgcolor": "#F5F6F9",
         "font": {
          "color": "#4D5663"
         }
        },
        "paper_bgcolor": "#F5F6F9",
        "plot_bgcolor": "#F5F6F9",
        "template": {
         "data": {
          "bar": [
           {
            "error_x": {
             "color": "#2a3f5f"
            },
            "error_y": {
             "color": "#2a3f5f"
            },
            "marker": {
             "line": {
              "color": "#E5ECF6",
              "width": 0.5
             },
             "pattern": {
              "fillmode": "overlay",
              "size": 10,
              "solidity": 0.2
             }
            },
            "type": "bar"
           }
          ],
          "barpolar": [
           {
            "marker": {
             "line": {
              "color": "#E5ECF6",
              "width": 0.5
             },
             "pattern": {
              "fillmode": "overlay",
              "size": 10,
              "solidity": 0.2
             }
            },
            "type": "barpolar"
           }
          ],
          "carpet": [
           {
            "aaxis": {
             "endlinecolor": "#2a3f5f",
             "gridcolor": "white",
             "linecolor": "white",
             "minorgridcolor": "white",
             "startlinecolor": "#2a3f5f"
            },
            "baxis": {
             "endlinecolor": "#2a3f5f",
             "gridcolor": "white",
             "linecolor": "white",
             "minorgridcolor": "white",
             "startlinecolor": "#2a3f5f"
            },
            "type": "carpet"
           }
          ],
          "choropleth": [
           {
            "colorbar": {
             "outlinewidth": 0,
             "ticks": ""
            },
            "type": "choropleth"
           }
          ],
          "contour": [
           {
            "colorbar": {
             "outlinewidth": 0,
             "ticks": ""
            },
            "colorscale": [
             [
              0,
              "#0d0887"
             ],
             [
              0.1111111111111111,
              "#46039f"
             ],
             [
              0.2222222222222222,
              "#7201a8"
             ],
             [
              0.3333333333333333,
              "#9c179e"
             ],
             [
              0.4444444444444444,
              "#bd3786"
             ],
             [
              0.5555555555555556,
              "#d8576b"
             ],
             [
              0.6666666666666666,
              "#ed7953"
             ],
             [
              0.7777777777777778,
              "#fb9f3a"
             ],
             [
              0.8888888888888888,
              "#fdca26"
             ],
             [
              1,
              "#f0f921"
             ]
            ],
            "type": "contour"
           }
          ],
          "contourcarpet": [
           {
            "colorbar": {
             "outlinewidth": 0,
             "ticks": ""
            },
            "type": "contourcarpet"
           }
          ],
          "heatmap": [
           {
            "colorbar": {
             "outlinewidth": 0,
             "ticks": ""
            },
            "colorscale": [
             [
              0,
              "#0d0887"
             ],
             [
              0.1111111111111111,
              "#46039f"
             ],
             [
              0.2222222222222222,
              "#7201a8"
             ],
             [
              0.3333333333333333,
              "#9c179e"
             ],
             [
              0.4444444444444444,
              "#bd3786"
             ],
             [
              0.5555555555555556,
              "#d8576b"
             ],
             [
              0.6666666666666666,
              "#ed7953"
             ],
             [
              0.7777777777777778,
              "#fb9f3a"
             ],
             [
              0.8888888888888888,
              "#fdca26"
             ],
             [
              1,
              "#f0f921"
             ]
            ],
            "type": "heatmap"
           }
          ],
          "heatmapgl": [
           {
            "colorbar": {
             "outlinewidth": 0,
             "ticks": ""
            },
            "colorscale": [
             [
              0,
              "#0d0887"
             ],
             [
              0.1111111111111111,
              "#46039f"
             ],
             [
              0.2222222222222222,
              "#7201a8"
             ],
             [
              0.3333333333333333,
              "#9c179e"
             ],
             [
              0.4444444444444444,
              "#bd3786"
             ],
             [
              0.5555555555555556,
              "#d8576b"
             ],
             [
              0.6666666666666666,
              "#ed7953"
             ],
             [
              0.7777777777777778,
              "#fb9f3a"
             ],
             [
              0.8888888888888888,
              "#fdca26"
             ],
             [
              1,
              "#f0f921"
             ]
            ],
            "type": "heatmapgl"
           }
          ],
          "histogram": [
           {
            "marker": {
             "pattern": {
              "fillmode": "overlay",
              "size": 10,
              "solidity": 0.2
             }
            },
            "type": "histogram"
           }
          ],
          "histogram2d": [
           {
            "colorbar": {
             "outlinewidth": 0,
             "ticks": ""
            },
            "colorscale": [
             [
              0,
              "#0d0887"
             ],
             [
              0.1111111111111111,
              "#46039f"
             ],
             [
              0.2222222222222222,
              "#7201a8"
             ],
             [
              0.3333333333333333,
              "#9c179e"
             ],
             [
              0.4444444444444444,
              "#bd3786"
             ],
             [
              0.5555555555555556,
              "#d8576b"
             ],
             [
              0.6666666666666666,
              "#ed7953"
             ],
             [
              0.7777777777777778,
              "#fb9f3a"
             ],
             [
              0.8888888888888888,
              "#fdca26"
             ],
             [
              1,
              "#f0f921"
             ]
            ],
            "type": "histogram2d"
           }
          ],
          "histogram2dcontour": [
           {
            "colorbar": {
             "outlinewidth": 0,
             "ticks": ""
            },
            "colorscale": [
             [
              0,
              "#0d0887"
             ],
             [
              0.1111111111111111,
              "#46039f"
             ],
             [
              0.2222222222222222,
              "#7201a8"
             ],
             [
              0.3333333333333333,
              "#9c179e"
             ],
             [
              0.4444444444444444,
              "#bd3786"
             ],
             [
              0.5555555555555556,
              "#d8576b"
             ],
             [
              0.6666666666666666,
              "#ed7953"
             ],
             [
              0.7777777777777778,
              "#fb9f3a"
             ],
             [
              0.8888888888888888,
              "#fdca26"
             ],
             [
              1,
              "#f0f921"
             ]
            ],
            "type": "histogram2dcontour"
           }
          ],
          "mesh3d": [
           {
            "colorbar": {
             "outlinewidth": 0,
             "ticks": ""
            },
            "type": "mesh3d"
           }
          ],
          "parcoords": [
           {
            "line": {
             "colorbar": {
              "outlinewidth": 0,
              "ticks": ""
             }
            },
            "type": "parcoords"
           }
          ],
          "pie": [
           {
            "automargin": true,
            "type": "pie"
           }
          ],
          "scatter": [
           {
            "marker": {
             "colorbar": {
              "outlinewidth": 0,
              "ticks": ""
             }
            },
            "type": "scatter"
           }
          ],
          "scatter3d": [
           {
            "line": {
             "colorbar": {
              "outlinewidth": 0,
              "ticks": ""
             }
            },
            "marker": {
             "colorbar": {
              "outlinewidth": 0,
              "ticks": ""
             }
            },
            "type": "scatter3d"
           }
          ],
          "scattercarpet": [
           {
            "marker": {
             "colorbar": {
              "outlinewidth": 0,
              "ticks": ""
             }
            },
            "type": "scattercarpet"
           }
          ],
          "scattergeo": [
           {
            "marker": {
             "colorbar": {
              "outlinewidth": 0,
              "ticks": ""
             }
            },
            "type": "scattergeo"
           }
          ],
          "scattergl": [
           {
            "marker": {
             "colorbar": {
              "outlinewidth": 0,
              "ticks": ""
             }
            },
            "type": "scattergl"
           }
          ],
          "scattermapbox": [
           {
            "marker": {
             "colorbar": {
              "outlinewidth": 0,
              "ticks": ""
             }
            },
            "type": "scattermapbox"
           }
          ],
          "scatterpolar": [
           {
            "marker": {
             "colorbar": {
              "outlinewidth": 0,
              "ticks": ""
             }
            },
            "type": "scatterpolar"
           }
          ],
          "scatterpolargl": [
           {
            "marker": {
             "colorbar": {
              "outlinewidth": 0,
              "ticks": ""
             }
            },
            "type": "scatterpolargl"
           }
          ],
          "scatterternary": [
           {
            "marker": {
             "colorbar": {
              "outlinewidth": 0,
              "ticks": ""
             }
            },
            "type": "scatterternary"
           }
          ],
          "surface": [
           {
            "colorbar": {
             "outlinewidth": 0,
             "ticks": ""
            },
            "colorscale": [
             [
              0,
              "#0d0887"
             ],
             [
              0.1111111111111111,
              "#46039f"
             ],
             [
              0.2222222222222222,
              "#7201a8"
             ],
             [
              0.3333333333333333,
              "#9c179e"
             ],
             [
              0.4444444444444444,
              "#bd3786"
             ],
             [
              0.5555555555555556,
              "#d8576b"
             ],
             [
              0.6666666666666666,
              "#ed7953"
             ],
             [
              0.7777777777777778,
              "#fb9f3a"
             ],
             [
              0.8888888888888888,
              "#fdca26"
             ],
             [
              1,
              "#f0f921"
             ]
            ],
            "type": "surface"
           }
          ],
          "table": [
           {
            "cells": {
             "fill": {
              "color": "#EBF0F8"
             },
             "line": {
              "color": "white"
             }
            },
            "header": {
             "fill": {
              "color": "#C8D4E3"
             },
             "line": {
              "color": "white"
             }
            },
            "type": "table"
           }
          ]
         },
         "layout": {
          "annotationdefaults": {
           "arrowcolor": "#2a3f5f",
           "arrowhead": 0,
           "arrowwidth": 1
          },
          "autotypenumbers": "strict",
          "coloraxis": {
           "colorbar": {
            "outlinewidth": 0,
            "ticks": ""
           }
          },
          "colorscale": {
           "diverging": [
            [
             0,
             "#8e0152"
            ],
            [
             0.1,
             "#c51b7d"
            ],
            [
             0.2,
             "#de77ae"
            ],
            [
             0.3,
             "#f1b6da"
            ],
            [
             0.4,
             "#fde0ef"
            ],
            [
             0.5,
             "#f7f7f7"
            ],
            [
             0.6,
             "#e6f5d0"
            ],
            [
             0.7,
             "#b8e186"
            ],
            [
             0.8,
             "#7fbc41"
            ],
            [
             0.9,
             "#4d9221"
            ],
            [
             1,
             "#276419"
            ]
           ],
           "sequential": [
            [
             0,
             "#0d0887"
            ],
            [
             0.1111111111111111,
             "#46039f"
            ],
            [
             0.2222222222222222,
             "#7201a8"
            ],
            [
             0.3333333333333333,
             "#9c179e"
            ],
            [
             0.4444444444444444,
             "#bd3786"
            ],
            [
             0.5555555555555556,
             "#d8576b"
            ],
            [
             0.6666666666666666,
             "#ed7953"
            ],
            [
             0.7777777777777778,
             "#fb9f3a"
            ],
            [
             0.8888888888888888,
             "#fdca26"
            ],
            [
             1,
             "#f0f921"
            ]
           ],
           "sequentialminus": [
            [
             0,
             "#0d0887"
            ],
            [
             0.1111111111111111,
             "#46039f"
            ],
            [
             0.2222222222222222,
             "#7201a8"
            ],
            [
             0.3333333333333333,
             "#9c179e"
            ],
            [
             0.4444444444444444,
             "#bd3786"
            ],
            [
             0.5555555555555556,
             "#d8576b"
            ],
            [
             0.6666666666666666,
             "#ed7953"
            ],
            [
             0.7777777777777778,
             "#fb9f3a"
            ],
            [
             0.8888888888888888,
             "#fdca26"
            ],
            [
             1,
             "#f0f921"
            ]
           ]
          },
          "colorway": [
           "#636efa",
           "#EF553B",
           "#00cc96",
           "#ab63fa",
           "#FFA15A",
           "#19d3f3",
           "#FF6692",
           "#B6E880",
           "#FF97FF",
           "#FECB52"
          ],
          "font": {
           "color": "#2a3f5f"
          },
          "geo": {
           "bgcolor": "white",
           "lakecolor": "white",
           "landcolor": "#E5ECF6",
           "showlakes": true,
           "showland": true,
           "subunitcolor": "white"
          },
          "hoverlabel": {
           "align": "left"
          },
          "hovermode": "closest",
          "mapbox": {
           "style": "light"
          },
          "paper_bgcolor": "white",
          "plot_bgcolor": "#E5ECF6",
          "polar": {
           "angularaxis": {
            "gridcolor": "white",
            "linecolor": "white",
            "ticks": ""
           },
           "bgcolor": "#E5ECF6",
           "radialaxis": {
            "gridcolor": "white",
            "linecolor": "white",
            "ticks": ""
           }
          },
          "scene": {
           "xaxis": {
            "backgroundcolor": "#E5ECF6",
            "gridcolor": "white",
            "gridwidth": 2,
            "linecolor": "white",
            "showbackground": true,
            "ticks": "",
            "zerolinecolor": "white"
           },
           "yaxis": {
            "backgroundcolor": "#E5ECF6",
            "gridcolor": "white",
            "gridwidth": 2,
            "linecolor": "white",
            "showbackground": true,
            "ticks": "",
            "zerolinecolor": "white"
           },
           "zaxis": {
            "backgroundcolor": "#E5ECF6",
            "gridcolor": "white",
            "gridwidth": 2,
            "linecolor": "white",
            "showbackground": true,
            "ticks": "",
            "zerolinecolor": "white"
           }
          },
          "shapedefaults": {
           "line": {
            "color": "#2a3f5f"
           }
          },
          "ternary": {
           "aaxis": {
            "gridcolor": "white",
            "linecolor": "white",
            "ticks": ""
           },
           "baxis": {
            "gridcolor": "white",
            "linecolor": "white",
            "ticks": ""
           },
           "bgcolor": "#E5ECF6",
           "caxis": {
            "gridcolor": "white",
            "linecolor": "white",
            "ticks": ""
           }
          },
          "title": {
           "x": 0.05
          },
          "xaxis": {
           "automargin": true,
           "gridcolor": "white",
           "linecolor": "white",
           "ticks": "",
           "title": {
            "standoff": 15
           },
           "zerolinecolor": "white",
           "zerolinewidth": 2
          },
          "yaxis": {
           "automargin": true,
           "gridcolor": "white",
           "linecolor": "white",
           "ticks": "",
           "title": {
            "standoff": 15
           },
           "zerolinecolor": "white",
           "zerolinewidth": 2
          }
         }
        },
        "title": {
         "font": {
          "color": "#4D5663"
         }
        },
        "xaxis": {
         "gridcolor": "#E1E5ED",
         "showgrid": true,
         "tickfont": {
          "color": "#4D5663"
         },
         "title": {
          "font": {
           "color": "#4D5663"
          },
          "text": ""
         },
         "zerolinecolor": "#E1E5ED"
        },
        "yaxis": {
         "gridcolor": "#E1E5ED",
         "showgrid": true,
         "tickfont": {
          "color": "#4D5663"
         },
         "title": {
          "font": {
           "color": "#4D5663"
          },
          "text": ""
         },
         "zerolinecolor": "#E1E5ED"
        }
       }
      },
      "text/html": [
       "<div>                            <div id=\"86b1574a-8919-4b01-b600-436f7d0c60b6\" class=\"plotly-graph-div\" style=\"height:525px; width:100%;\"></div>            <script type=\"text/javascript\">                require([\"plotly\"], function(Plotly) {                    window.PLOTLYENV=window.PLOTLYENV || {};\n",
       "                    window.PLOTLYENV.BASE_URL='https://plot.ly';                                    if (document.getElementById(\"86b1574a-8919-4b01-b600-436f7d0c60b6\")) {                    Plotly.newPlot(                        \"86b1574a-8919-4b01-b600-436f7d0c60b6\",                        [{\"line\":{\"color\":\"rgba(255, 153, 51, 1.0)\",\"dash\":\"solid\",\"shape\":\"linear\",\"width\":1.3},\"mode\":\"lines\",\"name\":\"A\",\"text\":\"\",\"x\":[0,1,2,3,4,5,6,7,8,9,10,11,12,13,14,15,16,17,18,19,20,21,22,23,24,25,26,27,28,29,30,31,32,33,34,35,36,37,38,39,40,41,42,43,44,45,46,47,48,49,50,51,52,53,54,55,56,57,58,59,60,61,62,63,64,65,66,67,68,69,70,71,72,73,74,75,76,77,78,79,80,81,82,83,84,85,86,87,88,89,90,91,92,93,94,95,96,97,98,99],\"y\":[-0.6912741429033772,2.6385271622920055,-0.7602857136434306,-0.17989398726623554,1.1314908404810518,-0.9236277429682401,0.5738678190716883,0.9864544801541595,0.32279219540734283,0.5885178288924707,0.5024994967413074,0.33207596909749637,0.6161296323145041,0.09859447753227293,-0.8227834082627532,0.28464354765094746,-0.947342488658302,-0.8548769790411005,1.0921015040745041,-0.6059906110102712,0.7134665644043366,0.2506753216842416,0.5704988886012403,-0.9001676759617967,1.5577514195590443,-0.8935476824587619,-1.643208970155166,0.9744088602730071,-0.29420623561316916,-0.5779436336856351,-1.3840170311282365,2.314676910076252,0.6415398505272547,-0.8002006468597685,0.6922191370110591,-1.0337120485296762,0.27265670125524993,-0.5797583333024258,0.5447513266398479,1.2410264787389498,-0.3170328105037755,0.9375460090151588,0.2879885443792549,-1.6938341411969675,-0.07472009167841874,0.5060026725044797,-0.8504009261137909,0.732510438788298,2.239796161013942,0.7692758256658025,-0.327999523823669,-0.0522999588114854,0.7404336785517659,1.006511440200384,-1.0954078070436444,-0.694419007954893,0.9170675514111376,0.2410176623597317,-1.1417311818412559,-2.036168540701319,-0.5852200554789933,-0.08187573553144036,-0.0108941525886899,0.5043090936377923,-0.009038725156449571,0.37521561129710973,0.5454233016591511,-1.2019374781761154,-1.2164146034848031,-1.5521771642600135,1.5260481075021362,0.7511200123355126,-1.201730403956396,2.2280888976822624,-0.15975558174063254,-0.21141327351955494,0.3060476425825168,-0.20791345635292988,0.9746962275768414,-0.3798940618161446,-1.2099430641956597,-0.07687618710847464,0.04855691969444076,1.6219188475758473,-2.1694340031988157,1.1071533539052,1.228055445210511,0.9847854355920682,-1.7122298669622624,-0.23909369014186913,0.9571627095229488,0.2050568135377792,-0.9270560083471667,0.974859311003513,0.37850037510517365,0.47070287060999044,0.8239361128145453,0.9503701842417043,0.3020754261820294,0.5335541974559987],\"type\":\"scatter\"},{\"line\":{\"color\":\"rgba(55, 128, 191, 1.0)\",\"dash\":\"solid\",\"shape\":\"linear\",\"width\":1.3},\"mode\":\"lines\",\"name\":\"B\",\"text\":\"\",\"x\":[0,1,2,3,4,5,6,7,8,9,10,11,12,13,14,15,16,17,18,19,20,21,22,23,24,25,26,27,28,29,30,31,32,33,34,35,36,37,38,39,40,41,42,43,44,45,46,47,48,49,50,51,52,53,54,55,56,57,58,59,60,61,62,63,64,65,66,67,68,69,70,71,72,73,74,75,76,77,78,79,80,81,82,83,84,85,86,87,88,89,90,91,92,93,94,95,96,97,98,99],\"y\":[-0.9399902999168411,-1.9423380705231792,0.4522164949791178,-1.4487787439238513,0.6801991481379681,-0.9371935088416633,-0.017229639492253413,-0.258876955937129,-1.0817046480966666,-0.6355540706675884,-0.5095868553778142,1.0783223972420422,0.1658907389286997,0.6321115178431862,-0.3158816940165806,1.1039231468906006,-0.49906935443041817,-0.6315137548742901,0.4726907486757533,0.2785663383433755,0.6756828406946835,-0.1937357330418802,0.5631093809666425,0.09076004610545052,-0.08080029963722939,-0.24121391840168532,-0.8838536665321517,-0.16955688742526506,0.5456960917581483,0.3461823440618255,0.8838886872681287,0.6007935651747616,-0.554952740896429,0.16087588010661694,0.7139512276978098,0.7836504954457244,-0.7468182950644572,-1.2852739351722766,-0.7377216443690595,0.7879482149641246,0.6888763990791642,2.0131037127401514,-0.9590282314305115,-0.08995759073683214,0.29072502929996125,1.6081002671179545,-0.11460765764050192,-1.187598726286891,0.9591573131300998,-1.0752516355918234,-0.13931574040481506,0.4015932029670253,0.15440121837917983,-0.38647080941415796,-1.3210927141383915,0.8642920456342552,0.6015658553512785,0.14569108608113243,0.6947284302526355,-0.7024617110754191,0.1651577477071164,-0.407736164353038,2.1840342297316826,-0.596291435423442,-1.8856920299159774,-0.3345990732118949,-1.7415128836734322,0.6112073340788858,1.7548265817244395,0.9293380526290771,-1.373294835797414,0.03127355648398631,0.4160208366523142,-0.11088801603936746,0.9221175098804136,-1.1576877119234141,-0.39813707295622613,-1.0592320235705353,0.37986665125962565,-0.5570483578397022,0.6777186339963158,-0.38644735124934115,-0.46445620006442506,-0.4250050264070511,1.0890493493481044,-1.4627988247249566,-0.470768139390512,-0.18899810886234358,0.4654101860415952,1.6779775844139893,-1.876317969649985,-0.1702025954803815,0.7386275124863215,-0.995687819654236,0.5688961016409643,0.003505412674648637,0.7707394956863137,0.25837287808466486,-1.3123051555731073,-0.14547432429903318],\"type\":\"scatter\"},{\"line\":{\"color\":\"rgba(50, 171, 96, 1.0)\",\"dash\":\"solid\",\"shape\":\"linear\",\"width\":1.3},\"mode\":\"lines\",\"name\":\"C\",\"text\":\"\",\"x\":[0,1,2,3,4,5,6,7,8,9,10,11,12,13,14,15,16,17,18,19,20,21,22,23,24,25,26,27,28,29,30,31,32,33,34,35,36,37,38,39,40,41,42,43,44,45,46,47,48,49,50,51,52,53,54,55,56,57,58,59,60,61,62,63,64,65,66,67,68,69,70,71,72,73,74,75,76,77,78,79,80,81,82,83,84,85,86,87,88,89,90,91,92,93,94,95,96,97,98,99],\"y\":[-2.1868432802102773,-0.7250140419511258,-0.6913827612230679,0.04814664355985677,-0.2688168197666106,1.10971313648696,-0.6771329496928161,0.5260619113595164,0.049226185832037424,-2.012896157534608,-0.4782778769781722,0.46681896255807576,-0.9366436684435993,-0.3025726125323398,0.5366046480995682,0.3931718093006377,-0.7826703785528093,-0.5788198960628711,-0.6961068548743381,0.34041440049893834,0.4496610494223251,-0.28633727827967465,0.6037630528460217,0.7509338310040284,-1.0536232970283654,-1.8834070004092935,-0.218141841949026,-0.7634726767533443,0.268267950607665,-0.16541212991899704,0.712560943060834,-0.4631683253190213,0.8072864768418512,1.4538043579554563,0.6850129423545135,-0.6910418773802264,-0.8183486993360881,-0.963464304316495,1.1680409288637745,0.7485948742648829,-0.11773529201589432,1.170204622585392,1.4616737848284929,0.3167398941877916,-0.8343529561308559,1.1259989075148988,-0.15813832552433288,0.045890037768292445,-0.2453926220559531,-0.7035163255716897,0.4602750456413887,-1.4193356314795913,-0.9760304750681537,0.4379325718081307,0.12757322745774302,-0.28421704417432614,-1.1129398620348998,1.382523056665255,1.1325058761994478,1.589567467021451,0.5940511289021116,-0.4346313423659601,0.04003555131307455,-0.9659407770041554,0.6003559194676078,-1.8591787074276616,1.5529637948017165,-1.2523095244656894,0.3051767327838226,0.47121194936878663,0.9891933978078691,-0.20379515668636156,-0.8456925702915231,0.26574691398209277,0.3348203663967337,1.2132380685344786,-0.6156955586822158,-0.14443220317021072,0.40282161097393204,-0.6924508573035683,0.6328059445510126,-0.9584109636433588,0.06982925441407545,-0.6406368622400371,-1.2760905752272835,-0.18908764420038793,-0.908965845745114,1.218311234850609,-0.6749659299871115,-0.4051594201816622,1.313294626095533,-0.6838154253972283,-0.2865694769651911,-1.1757599785360122,1.9763003663416487,0.27643637305796076,-0.3744060218984946,-0.6709474868077607,1.2477324330421622,1.6530515466661837],\"type\":\"scatter\"},{\"line\":{\"color\":\"rgba(128, 0, 128, 1.0)\",\"dash\":\"solid\",\"shape\":\"linear\",\"width\":1.3},\"mode\":\"lines\",\"name\":\"d\",\"text\":\"\",\"x\":[0,1,2,3,4,5,6,7,8,9,10,11,12,13,14,15,16,17,18,19,20,21,22,23,24,25,26,27,28,29,30,31,32,33,34,35,36,37,38,39,40,41,42,43,44,45,46,47,48,49,50,51,52,53,54,55,56,57,58,59,60,61,62,63,64,65,66,67,68,69,70,71,72,73,74,75,76,77,78,79,80,81,82,83,84,85,86,87,88,89,90,91,92,93,94,95,96,97,98,99],\"y\":[0.2329180877485759,-0.779851055810576,-0.15682562020637367,-0.44798565785938754,-0.31328610636393045,1.009703250616094,1.690511529886859,-1.7727767351074708,-1.2898117645716012,-1.0598811055611714,-0.05995840406671184,0.35950289397366847,-0.6024925133706687,0.5616325192625717,-0.4077991936455839,-1.661665789770493,-0.19894131083362393,1.4848139496354045,-0.2187519979030449,0.014575982368184399,-0.670177309744851,-0.659774451183918,-0.19852388012201994,-0.33428900219866814,-0.5081847640018546,0.6727879848051744,-1.5095554860200469,-0.3195538761166854,-0.8382512667911439,0.12633735965166668,-0.37448278208313635,0.4313852701787521,-0.3576282497301914,-0.36714254820237824,1.2092150655441531,-0.3738733597435478,1.3908218125778182,0.9259595285339431,-1.2151942463833356,-1.7729149464046192,1.5236948417942808,0.9167358395734678,0.3789304814449219,-0.5762996507640142,0.7493142071893915,-0.9914982111223593,-0.8242908979667105,0.04244424498827081,0.3391159515427539,-1.8228026546752387,-1.0332861520597718,-0.214662965158623,0.3475373836788013,-0.0684429471666999,-1.068272700683441,0.10236365335036744,1.8088991737076445,0.18448770702484002,-0.006090338869984403,-0.6211910374135585,-0.5201526328367619,1.1555782431562285,-0.8961811434389672,-0.5937579695866875,-0.7710679156827561,-0.6786812472645407,-0.7466583486414361,0.04771858679514946,-0.7601310788064842,0.8281712042496281,-0.3042202438088885,1.0755294024994413,2.0596066996717686,0.9540488210633757,-0.5634964312547651,0.14932718269408285,2.120865529677368,1.5484005448822202,-0.8948512068816719,-0.5535728791239111,1.1659721530863791,-0.338269477198465,0.6662636529382033,-0.8386785671465247,-0.45016050483340514,1.9719608116281135,-1.125112777802077,-0.4565031806440209,-0.6082343672469854,0.523275011356581,-0.9590547408867666,1.073701314819291,-0.49048978185103653,0.8348546381818701,-0.002962248241787498,1.0307814201352343,0.20780899895915692,-0.4915456045196982,0.5783269322123842,2.295383481278133],\"type\":\"scatter\"}],                        {\"legend\":{\"bgcolor\":\"#F5F6F9\",\"font\":{\"color\":\"#4D5663\"}},\"paper_bgcolor\":\"#F5F6F9\",\"plot_bgcolor\":\"#F5F6F9\",\"template\":{\"data\":{\"barpolar\":[{\"marker\":{\"line\":{\"color\":\"#E5ECF6\",\"width\":0.5},\"pattern\":{\"fillmode\":\"overlay\",\"size\":10,\"solidity\":0.2}},\"type\":\"barpolar\"}],\"bar\":[{\"error_x\":{\"color\":\"#2a3f5f\"},\"error_y\":{\"color\":\"#2a3f5f\"},\"marker\":{\"line\":{\"color\":\"#E5ECF6\",\"width\":0.5},\"pattern\":{\"fillmode\":\"overlay\",\"size\":10,\"solidity\":0.2}},\"type\":\"bar\"}],\"carpet\":[{\"aaxis\":{\"endlinecolor\":\"#2a3f5f\",\"gridcolor\":\"white\",\"linecolor\":\"white\",\"minorgridcolor\":\"white\",\"startlinecolor\":\"#2a3f5f\"},\"baxis\":{\"endlinecolor\":\"#2a3f5f\",\"gridcolor\":\"white\",\"linecolor\":\"white\",\"minorgridcolor\":\"white\",\"startlinecolor\":\"#2a3f5f\"},\"type\":\"carpet\"}],\"choropleth\":[{\"colorbar\":{\"outlinewidth\":0,\"ticks\":\"\"},\"type\":\"choropleth\"}],\"contourcarpet\":[{\"colorbar\":{\"outlinewidth\":0,\"ticks\":\"\"},\"type\":\"contourcarpet\"}],\"contour\":[{\"colorbar\":{\"outlinewidth\":0,\"ticks\":\"\"},\"colorscale\":[[0.0,\"#0d0887\"],[0.1111111111111111,\"#46039f\"],[0.2222222222222222,\"#7201a8\"],[0.3333333333333333,\"#9c179e\"],[0.4444444444444444,\"#bd3786\"],[0.5555555555555556,\"#d8576b\"],[0.6666666666666666,\"#ed7953\"],[0.7777777777777778,\"#fb9f3a\"],[0.8888888888888888,\"#fdca26\"],[1.0,\"#f0f921\"]],\"type\":\"contour\"}],\"heatmapgl\":[{\"colorbar\":{\"outlinewidth\":0,\"ticks\":\"\"},\"colorscale\":[[0.0,\"#0d0887\"],[0.1111111111111111,\"#46039f\"],[0.2222222222222222,\"#7201a8\"],[0.3333333333333333,\"#9c179e\"],[0.4444444444444444,\"#bd3786\"],[0.5555555555555556,\"#d8576b\"],[0.6666666666666666,\"#ed7953\"],[0.7777777777777778,\"#fb9f3a\"],[0.8888888888888888,\"#fdca26\"],[1.0,\"#f0f921\"]],\"type\":\"heatmapgl\"}],\"heatmap\":[{\"colorbar\":{\"outlinewidth\":0,\"ticks\":\"\"},\"colorscale\":[[0.0,\"#0d0887\"],[0.1111111111111111,\"#46039f\"],[0.2222222222222222,\"#7201a8\"],[0.3333333333333333,\"#9c179e\"],[0.4444444444444444,\"#bd3786\"],[0.5555555555555556,\"#d8576b\"],[0.6666666666666666,\"#ed7953\"],[0.7777777777777778,\"#fb9f3a\"],[0.8888888888888888,\"#fdca26\"],[1.0,\"#f0f921\"]],\"type\":\"heatmap\"}],\"histogram2dcontour\":[{\"colorbar\":{\"outlinewidth\":0,\"ticks\":\"\"},\"colorscale\":[[0.0,\"#0d0887\"],[0.1111111111111111,\"#46039f\"],[0.2222222222222222,\"#7201a8\"],[0.3333333333333333,\"#9c179e\"],[0.4444444444444444,\"#bd3786\"],[0.5555555555555556,\"#d8576b\"],[0.6666666666666666,\"#ed7953\"],[0.7777777777777778,\"#fb9f3a\"],[0.8888888888888888,\"#fdca26\"],[1.0,\"#f0f921\"]],\"type\":\"histogram2dcontour\"}],\"histogram2d\":[{\"colorbar\":{\"outlinewidth\":0,\"ticks\":\"\"},\"colorscale\":[[0.0,\"#0d0887\"],[0.1111111111111111,\"#46039f\"],[0.2222222222222222,\"#7201a8\"],[0.3333333333333333,\"#9c179e\"],[0.4444444444444444,\"#bd3786\"],[0.5555555555555556,\"#d8576b\"],[0.6666666666666666,\"#ed7953\"],[0.7777777777777778,\"#fb9f3a\"],[0.8888888888888888,\"#fdca26\"],[1.0,\"#f0f921\"]],\"type\":\"histogram2d\"}],\"histogram\":[{\"marker\":{\"pattern\":{\"fillmode\":\"overlay\",\"size\":10,\"solidity\":0.2}},\"type\":\"histogram\"}],\"mesh3d\":[{\"colorbar\":{\"outlinewidth\":0,\"ticks\":\"\"},\"type\":\"mesh3d\"}],\"parcoords\":[{\"line\":{\"colorbar\":{\"outlinewidth\":0,\"ticks\":\"\"}},\"type\":\"parcoords\"}],\"pie\":[{\"automargin\":true,\"type\":\"pie\"}],\"scatter3d\":[{\"line\":{\"colorbar\":{\"outlinewidth\":0,\"ticks\":\"\"}},\"marker\":{\"colorbar\":{\"outlinewidth\":0,\"ticks\":\"\"}},\"type\":\"scatter3d\"}],\"scattercarpet\":[{\"marker\":{\"colorbar\":{\"outlinewidth\":0,\"ticks\":\"\"}},\"type\":\"scattercarpet\"}],\"scattergeo\":[{\"marker\":{\"colorbar\":{\"outlinewidth\":0,\"ticks\":\"\"}},\"type\":\"scattergeo\"}],\"scattergl\":[{\"marker\":{\"colorbar\":{\"outlinewidth\":0,\"ticks\":\"\"}},\"type\":\"scattergl\"}],\"scattermapbox\":[{\"marker\":{\"colorbar\":{\"outlinewidth\":0,\"ticks\":\"\"}},\"type\":\"scattermapbox\"}],\"scatterpolargl\":[{\"marker\":{\"colorbar\":{\"outlinewidth\":0,\"ticks\":\"\"}},\"type\":\"scatterpolargl\"}],\"scatterpolar\":[{\"marker\":{\"colorbar\":{\"outlinewidth\":0,\"ticks\":\"\"}},\"type\":\"scatterpolar\"}],\"scatter\":[{\"marker\":{\"colorbar\":{\"outlinewidth\":0,\"ticks\":\"\"}},\"type\":\"scatter\"}],\"scatterternary\":[{\"marker\":{\"colorbar\":{\"outlinewidth\":0,\"ticks\":\"\"}},\"type\":\"scatterternary\"}],\"surface\":[{\"colorbar\":{\"outlinewidth\":0,\"ticks\":\"\"},\"colorscale\":[[0.0,\"#0d0887\"],[0.1111111111111111,\"#46039f\"],[0.2222222222222222,\"#7201a8\"],[0.3333333333333333,\"#9c179e\"],[0.4444444444444444,\"#bd3786\"],[0.5555555555555556,\"#d8576b\"],[0.6666666666666666,\"#ed7953\"],[0.7777777777777778,\"#fb9f3a\"],[0.8888888888888888,\"#fdca26\"],[1.0,\"#f0f921\"]],\"type\":\"surface\"}],\"table\":[{\"cells\":{\"fill\":{\"color\":\"#EBF0F8\"},\"line\":{\"color\":\"white\"}},\"header\":{\"fill\":{\"color\":\"#C8D4E3\"},\"line\":{\"color\":\"white\"}},\"type\":\"table\"}]},\"layout\":{\"annotationdefaults\":{\"arrowcolor\":\"#2a3f5f\",\"arrowhead\":0,\"arrowwidth\":1},\"autotypenumbers\":\"strict\",\"coloraxis\":{\"colorbar\":{\"outlinewidth\":0,\"ticks\":\"\"}},\"colorscale\":{\"diverging\":[[0,\"#8e0152\"],[0.1,\"#c51b7d\"],[0.2,\"#de77ae\"],[0.3,\"#f1b6da\"],[0.4,\"#fde0ef\"],[0.5,\"#f7f7f7\"],[0.6,\"#e6f5d0\"],[0.7,\"#b8e186\"],[0.8,\"#7fbc41\"],[0.9,\"#4d9221\"],[1,\"#276419\"]],\"sequential\":[[0.0,\"#0d0887\"],[0.1111111111111111,\"#46039f\"],[0.2222222222222222,\"#7201a8\"],[0.3333333333333333,\"#9c179e\"],[0.4444444444444444,\"#bd3786\"],[0.5555555555555556,\"#d8576b\"],[0.6666666666666666,\"#ed7953\"],[0.7777777777777778,\"#fb9f3a\"],[0.8888888888888888,\"#fdca26\"],[1.0,\"#f0f921\"]],\"sequentialminus\":[[0.0,\"#0d0887\"],[0.1111111111111111,\"#46039f\"],[0.2222222222222222,\"#7201a8\"],[0.3333333333333333,\"#9c179e\"],[0.4444444444444444,\"#bd3786\"],[0.5555555555555556,\"#d8576b\"],[0.6666666666666666,\"#ed7953\"],[0.7777777777777778,\"#fb9f3a\"],[0.8888888888888888,\"#fdca26\"],[1.0,\"#f0f921\"]]},\"colorway\":[\"#636efa\",\"#EF553B\",\"#00cc96\",\"#ab63fa\",\"#FFA15A\",\"#19d3f3\",\"#FF6692\",\"#B6E880\",\"#FF97FF\",\"#FECB52\"],\"font\":{\"color\":\"#2a3f5f\"},\"geo\":{\"bgcolor\":\"white\",\"lakecolor\":\"white\",\"landcolor\":\"#E5ECF6\",\"showlakes\":true,\"showland\":true,\"subunitcolor\":\"white\"},\"hoverlabel\":{\"align\":\"left\"},\"hovermode\":\"closest\",\"mapbox\":{\"style\":\"light\"},\"paper_bgcolor\":\"white\",\"plot_bgcolor\":\"#E5ECF6\",\"polar\":{\"angularaxis\":{\"gridcolor\":\"white\",\"linecolor\":\"white\",\"ticks\":\"\"},\"bgcolor\":\"#E5ECF6\",\"radialaxis\":{\"gridcolor\":\"white\",\"linecolor\":\"white\",\"ticks\":\"\"}},\"scene\":{\"xaxis\":{\"backgroundcolor\":\"#E5ECF6\",\"gridcolor\":\"white\",\"gridwidth\":2,\"linecolor\":\"white\",\"showbackground\":true,\"ticks\":\"\",\"zerolinecolor\":\"white\"},\"yaxis\":{\"backgroundcolor\":\"#E5ECF6\",\"gridcolor\":\"white\",\"gridwidth\":2,\"linecolor\":\"white\",\"showbackground\":true,\"ticks\":\"\",\"zerolinecolor\":\"white\"},\"zaxis\":{\"backgroundcolor\":\"#E5ECF6\",\"gridcolor\":\"white\",\"gridwidth\":2,\"linecolor\":\"white\",\"showbackground\":true,\"ticks\":\"\",\"zerolinecolor\":\"white\"}},\"shapedefaults\":{\"line\":{\"color\":\"#2a3f5f\"}},\"ternary\":{\"aaxis\":{\"gridcolor\":\"white\",\"linecolor\":\"white\",\"ticks\":\"\"},\"baxis\":{\"gridcolor\":\"white\",\"linecolor\":\"white\",\"ticks\":\"\"},\"bgcolor\":\"#E5ECF6\",\"caxis\":{\"gridcolor\":\"white\",\"linecolor\":\"white\",\"ticks\":\"\"}},\"title\":{\"x\":0.05},\"xaxis\":{\"automargin\":true,\"gridcolor\":\"white\",\"linecolor\":\"white\",\"ticks\":\"\",\"title\":{\"standoff\":15},\"zerolinecolor\":\"white\",\"zerolinewidth\":2},\"yaxis\":{\"automargin\":true,\"gridcolor\":\"white\",\"linecolor\":\"white\",\"ticks\":\"\",\"title\":{\"standoff\":15},\"zerolinecolor\":\"white\",\"zerolinewidth\":2}}},\"title\":{\"font\":{\"color\":\"#4D5663\"}},\"xaxis\":{\"gridcolor\":\"#E1E5ED\",\"showgrid\":true,\"tickfont\":{\"color\":\"#4D5663\"},\"title\":{\"font\":{\"color\":\"#4D5663\"},\"text\":\"\"},\"zerolinecolor\":\"#E1E5ED\"},\"yaxis\":{\"gridcolor\":\"#E1E5ED\",\"showgrid\":true,\"tickfont\":{\"color\":\"#4D5663\"},\"title\":{\"font\":{\"color\":\"#4D5663\"},\"text\":\"\"},\"zerolinecolor\":\"#E1E5ED\"}},                        {\"showLink\": true, \"linkText\": \"Export to plot.ly\", \"plotlyServerURL\": \"https://plot.ly\", \"responsive\": true}                    ).then(function(){\n",
       "                            \n",
       "var gd = document.getElementById('86b1574a-8919-4b01-b600-436f7d0c60b6');\n",
       "var x = new MutationObserver(function (mutations, observer) {{\n",
       "        var display = window.getComputedStyle(gd).display;\n",
       "        if (!display || display === 'none') {{\n",
       "            console.log([gd, 'removed!']);\n",
       "            Plotly.purge(gd);\n",
       "            observer.disconnect();\n",
       "        }}\n",
       "}});\n",
       "\n",
       "// Listen for the removal of the full notebook cells\n",
       "var notebookContainer = gd.closest('#notebook-container');\n",
       "if (notebookContainer) {{\n",
       "    x.observe(notebookContainer, {childList: true});\n",
       "}}\n",
       "\n",
       "// Listen for the clearing of the current output cell\n",
       "var outputEl = gd.closest('.output');\n",
       "if (outputEl) {{\n",
       "    x.observe(outputEl, {childList: true});\n",
       "}}\n",
       "\n",
       "                        })                };                });            </script>        </div>"
      ]
     },
     "metadata": {},
     "output_type": "display_data"
    }
   ],
   "source": [
    "df.iplot()"
   ]
  },
  {
   "cell_type": "code",
   "execution_count": 17,
   "id": "94285c56",
   "metadata": {},
   "outputs": [],
   "source": [
    "# scatterplot"
   ]
  },
  {
   "cell_type": "code",
   "execution_count": 18,
   "id": "33afb306",
   "metadata": {},
   "outputs": [
    {
     "data": {
      "application/vnd.plotly.v1+json": {
       "config": {
        "linkText": "Export to plot.ly",
        "plotlyServerURL": "https://plot.ly",
        "showLink": true
       },
       "data": [
        {
         "line": {
          "color": "rgba(255, 153, 51, 1.0)",
          "dash": "solid",
          "shape": "linear",
          "width": 1.3
         },
         "mode": "lines",
         "name": "B",
         "text": "",
         "type": "scatter",
         "x": [
          -0.6912741429033772,
          2.6385271622920055,
          -0.7602857136434306,
          -0.17989398726623554,
          1.1314908404810518,
          -0.9236277429682401,
          0.5738678190716883,
          0.9864544801541595,
          0.32279219540734283,
          0.5885178288924707,
          0.5024994967413074,
          0.33207596909749637,
          0.6161296323145041,
          0.09859447753227293,
          -0.8227834082627532,
          0.28464354765094746,
          -0.947342488658302,
          -0.8548769790411005,
          1.0921015040745041,
          -0.6059906110102712,
          0.7134665644043366,
          0.2506753216842416,
          0.5704988886012403,
          -0.9001676759617967,
          1.5577514195590443,
          -0.8935476824587619,
          -1.643208970155166,
          0.9744088602730071,
          -0.29420623561316916,
          -0.5779436336856351,
          -1.3840170311282365,
          2.314676910076252,
          0.6415398505272547,
          -0.8002006468597685,
          0.6922191370110591,
          -1.0337120485296762,
          0.27265670125524993,
          -0.5797583333024258,
          0.5447513266398479,
          1.2410264787389498,
          -0.3170328105037755,
          0.9375460090151588,
          0.2879885443792549,
          -1.6938341411969675,
          -0.07472009167841874,
          0.5060026725044797,
          -0.8504009261137909,
          0.732510438788298,
          2.239796161013942,
          0.7692758256658025,
          -0.327999523823669,
          -0.0522999588114854,
          0.7404336785517659,
          1.006511440200384,
          -1.0954078070436444,
          -0.694419007954893,
          0.9170675514111376,
          0.2410176623597317,
          -1.1417311818412559,
          -2.036168540701319,
          -0.5852200554789933,
          -0.08187573553144036,
          -0.0108941525886899,
          0.5043090936377923,
          -0.009038725156449571,
          0.37521561129710973,
          0.5454233016591511,
          -1.2019374781761154,
          -1.2164146034848031,
          -1.5521771642600135,
          1.5260481075021362,
          0.7511200123355126,
          -1.201730403956396,
          2.2280888976822624,
          -0.15975558174063254,
          -0.21141327351955494,
          0.3060476425825168,
          -0.20791345635292988,
          0.9746962275768414,
          -0.3798940618161446,
          -1.2099430641956597,
          -0.07687618710847464,
          0.04855691969444076,
          1.6219188475758473,
          -2.1694340031988157,
          1.1071533539052,
          1.228055445210511,
          0.9847854355920682,
          -1.7122298669622624,
          -0.23909369014186913,
          0.9571627095229488,
          0.2050568135377792,
          -0.9270560083471667,
          0.974859311003513,
          0.37850037510517365,
          0.47070287060999044,
          0.8239361128145453,
          0.9503701842417043,
          0.3020754261820294,
          0.5335541974559987
         ],
         "y": [
          -0.9399902999168411,
          -1.9423380705231792,
          0.4522164949791178,
          -1.4487787439238513,
          0.6801991481379681,
          -0.9371935088416633,
          -0.017229639492253413,
          -0.258876955937129,
          -1.0817046480966666,
          -0.6355540706675884,
          -0.5095868553778142,
          1.0783223972420422,
          0.1658907389286997,
          0.6321115178431862,
          -0.3158816940165806,
          1.1039231468906006,
          -0.49906935443041817,
          -0.6315137548742901,
          0.4726907486757533,
          0.2785663383433755,
          0.6756828406946835,
          -0.1937357330418802,
          0.5631093809666425,
          0.09076004610545052,
          -0.08080029963722939,
          -0.24121391840168532,
          -0.8838536665321517,
          -0.16955688742526506,
          0.5456960917581483,
          0.3461823440618255,
          0.8838886872681287,
          0.6007935651747616,
          -0.554952740896429,
          0.16087588010661694,
          0.7139512276978098,
          0.7836504954457244,
          -0.7468182950644572,
          -1.2852739351722766,
          -0.7377216443690595,
          0.7879482149641246,
          0.6888763990791642,
          2.0131037127401514,
          -0.9590282314305115,
          -0.08995759073683214,
          0.29072502929996125,
          1.6081002671179545,
          -0.11460765764050192,
          -1.187598726286891,
          0.9591573131300998,
          -1.0752516355918234,
          -0.13931574040481506,
          0.4015932029670253,
          0.15440121837917983,
          -0.38647080941415796,
          -1.3210927141383915,
          0.8642920456342552,
          0.6015658553512785,
          0.14569108608113243,
          0.6947284302526355,
          -0.7024617110754191,
          0.1651577477071164,
          -0.407736164353038,
          2.1840342297316826,
          -0.596291435423442,
          -1.8856920299159774,
          -0.3345990732118949,
          -1.7415128836734322,
          0.6112073340788858,
          1.7548265817244395,
          0.9293380526290771,
          -1.373294835797414,
          0.03127355648398631,
          0.4160208366523142,
          -0.11088801603936746,
          0.9221175098804136,
          -1.1576877119234141,
          -0.39813707295622613,
          -1.0592320235705353,
          0.37986665125962565,
          -0.5570483578397022,
          0.6777186339963158,
          -0.38644735124934115,
          -0.46445620006442506,
          -0.4250050264070511,
          1.0890493493481044,
          -1.4627988247249566,
          -0.470768139390512,
          -0.18899810886234358,
          0.4654101860415952,
          1.6779775844139893,
          -1.876317969649985,
          -0.1702025954803815,
          0.7386275124863215,
          -0.995687819654236,
          0.5688961016409643,
          0.003505412674648637,
          0.7707394956863137,
          0.25837287808466486,
          -1.3123051555731073,
          -0.14547432429903318
         ]
        }
       ],
       "layout": {
        "legend": {
         "bgcolor": "#F5F6F9",
         "font": {
          "color": "#4D5663"
         }
        },
        "paper_bgcolor": "#F5F6F9",
        "plot_bgcolor": "#F5F6F9",
        "template": {
         "data": {
          "bar": [
           {
            "error_x": {
             "color": "#2a3f5f"
            },
            "error_y": {
             "color": "#2a3f5f"
            },
            "marker": {
             "line": {
              "color": "#E5ECF6",
              "width": 0.5
             },
             "pattern": {
              "fillmode": "overlay",
              "size": 10,
              "solidity": 0.2
             }
            },
            "type": "bar"
           }
          ],
          "barpolar": [
           {
            "marker": {
             "line": {
              "color": "#E5ECF6",
              "width": 0.5
             },
             "pattern": {
              "fillmode": "overlay",
              "size": 10,
              "solidity": 0.2
             }
            },
            "type": "barpolar"
           }
          ],
          "carpet": [
           {
            "aaxis": {
             "endlinecolor": "#2a3f5f",
             "gridcolor": "white",
             "linecolor": "white",
             "minorgridcolor": "white",
             "startlinecolor": "#2a3f5f"
            },
            "baxis": {
             "endlinecolor": "#2a3f5f",
             "gridcolor": "white",
             "linecolor": "white",
             "minorgridcolor": "white",
             "startlinecolor": "#2a3f5f"
            },
            "type": "carpet"
           }
          ],
          "choropleth": [
           {
            "colorbar": {
             "outlinewidth": 0,
             "ticks": ""
            },
            "type": "choropleth"
           }
          ],
          "contour": [
           {
            "colorbar": {
             "outlinewidth": 0,
             "ticks": ""
            },
            "colorscale": [
             [
              0,
              "#0d0887"
             ],
             [
              0.1111111111111111,
              "#46039f"
             ],
             [
              0.2222222222222222,
              "#7201a8"
             ],
             [
              0.3333333333333333,
              "#9c179e"
             ],
             [
              0.4444444444444444,
              "#bd3786"
             ],
             [
              0.5555555555555556,
              "#d8576b"
             ],
             [
              0.6666666666666666,
              "#ed7953"
             ],
             [
              0.7777777777777778,
              "#fb9f3a"
             ],
             [
              0.8888888888888888,
              "#fdca26"
             ],
             [
              1,
              "#f0f921"
             ]
            ],
            "type": "contour"
           }
          ],
          "contourcarpet": [
           {
            "colorbar": {
             "outlinewidth": 0,
             "ticks": ""
            },
            "type": "contourcarpet"
           }
          ],
          "heatmap": [
           {
            "colorbar": {
             "outlinewidth": 0,
             "ticks": ""
            },
            "colorscale": [
             [
              0,
              "#0d0887"
             ],
             [
              0.1111111111111111,
              "#46039f"
             ],
             [
              0.2222222222222222,
              "#7201a8"
             ],
             [
              0.3333333333333333,
              "#9c179e"
             ],
             [
              0.4444444444444444,
              "#bd3786"
             ],
             [
              0.5555555555555556,
              "#d8576b"
             ],
             [
              0.6666666666666666,
              "#ed7953"
             ],
             [
              0.7777777777777778,
              "#fb9f3a"
             ],
             [
              0.8888888888888888,
              "#fdca26"
             ],
             [
              1,
              "#f0f921"
             ]
            ],
            "type": "heatmap"
           }
          ],
          "heatmapgl": [
           {
            "colorbar": {
             "outlinewidth": 0,
             "ticks": ""
            },
            "colorscale": [
             [
              0,
              "#0d0887"
             ],
             [
              0.1111111111111111,
              "#46039f"
             ],
             [
              0.2222222222222222,
              "#7201a8"
             ],
             [
              0.3333333333333333,
              "#9c179e"
             ],
             [
              0.4444444444444444,
              "#bd3786"
             ],
             [
              0.5555555555555556,
              "#d8576b"
             ],
             [
              0.6666666666666666,
              "#ed7953"
             ],
             [
              0.7777777777777778,
              "#fb9f3a"
             ],
             [
              0.8888888888888888,
              "#fdca26"
             ],
             [
              1,
              "#f0f921"
             ]
            ],
            "type": "heatmapgl"
           }
          ],
          "histogram": [
           {
            "marker": {
             "pattern": {
              "fillmode": "overlay",
              "size": 10,
              "solidity": 0.2
             }
            },
            "type": "histogram"
           }
          ],
          "histogram2d": [
           {
            "colorbar": {
             "outlinewidth": 0,
             "ticks": ""
            },
            "colorscale": [
             [
              0,
              "#0d0887"
             ],
             [
              0.1111111111111111,
              "#46039f"
             ],
             [
              0.2222222222222222,
              "#7201a8"
             ],
             [
              0.3333333333333333,
              "#9c179e"
             ],
             [
              0.4444444444444444,
              "#bd3786"
             ],
             [
              0.5555555555555556,
              "#d8576b"
             ],
             [
              0.6666666666666666,
              "#ed7953"
             ],
             [
              0.7777777777777778,
              "#fb9f3a"
             ],
             [
              0.8888888888888888,
              "#fdca26"
             ],
             [
              1,
              "#f0f921"
             ]
            ],
            "type": "histogram2d"
           }
          ],
          "histogram2dcontour": [
           {
            "colorbar": {
             "outlinewidth": 0,
             "ticks": ""
            },
            "colorscale": [
             [
              0,
              "#0d0887"
             ],
             [
              0.1111111111111111,
              "#46039f"
             ],
             [
              0.2222222222222222,
              "#7201a8"
             ],
             [
              0.3333333333333333,
              "#9c179e"
             ],
             [
              0.4444444444444444,
              "#bd3786"
             ],
             [
              0.5555555555555556,
              "#d8576b"
             ],
             [
              0.6666666666666666,
              "#ed7953"
             ],
             [
              0.7777777777777778,
              "#fb9f3a"
             ],
             [
              0.8888888888888888,
              "#fdca26"
             ],
             [
              1,
              "#f0f921"
             ]
            ],
            "type": "histogram2dcontour"
           }
          ],
          "mesh3d": [
           {
            "colorbar": {
             "outlinewidth": 0,
             "ticks": ""
            },
            "type": "mesh3d"
           }
          ],
          "parcoords": [
           {
            "line": {
             "colorbar": {
              "outlinewidth": 0,
              "ticks": ""
             }
            },
            "type": "parcoords"
           }
          ],
          "pie": [
           {
            "automargin": true,
            "type": "pie"
           }
          ],
          "scatter": [
           {
            "marker": {
             "colorbar": {
              "outlinewidth": 0,
              "ticks": ""
             }
            },
            "type": "scatter"
           }
          ],
          "scatter3d": [
           {
            "line": {
             "colorbar": {
              "outlinewidth": 0,
              "ticks": ""
             }
            },
            "marker": {
             "colorbar": {
              "outlinewidth": 0,
              "ticks": ""
             }
            },
            "type": "scatter3d"
           }
          ],
          "scattercarpet": [
           {
            "marker": {
             "colorbar": {
              "outlinewidth": 0,
              "ticks": ""
             }
            },
            "type": "scattercarpet"
           }
          ],
          "scattergeo": [
           {
            "marker": {
             "colorbar": {
              "outlinewidth": 0,
              "ticks": ""
             }
            },
            "type": "scattergeo"
           }
          ],
          "scattergl": [
           {
            "marker": {
             "colorbar": {
              "outlinewidth": 0,
              "ticks": ""
             }
            },
            "type": "scattergl"
           }
          ],
          "scattermapbox": [
           {
            "marker": {
             "colorbar": {
              "outlinewidth": 0,
              "ticks": ""
             }
            },
            "type": "scattermapbox"
           }
          ],
          "scatterpolar": [
           {
            "marker": {
             "colorbar": {
              "outlinewidth": 0,
              "ticks": ""
             }
            },
            "type": "scatterpolar"
           }
          ],
          "scatterpolargl": [
           {
            "marker": {
             "colorbar": {
              "outlinewidth": 0,
              "ticks": ""
             }
            },
            "type": "scatterpolargl"
           }
          ],
          "scatterternary": [
           {
            "marker": {
             "colorbar": {
              "outlinewidth": 0,
              "ticks": ""
             }
            },
            "type": "scatterternary"
           }
          ],
          "surface": [
           {
            "colorbar": {
             "outlinewidth": 0,
             "ticks": ""
            },
            "colorscale": [
             [
              0,
              "#0d0887"
             ],
             [
              0.1111111111111111,
              "#46039f"
             ],
             [
              0.2222222222222222,
              "#7201a8"
             ],
             [
              0.3333333333333333,
              "#9c179e"
             ],
             [
              0.4444444444444444,
              "#bd3786"
             ],
             [
              0.5555555555555556,
              "#d8576b"
             ],
             [
              0.6666666666666666,
              "#ed7953"
             ],
             [
              0.7777777777777778,
              "#fb9f3a"
             ],
             [
              0.8888888888888888,
              "#fdca26"
             ],
             [
              1,
              "#f0f921"
             ]
            ],
            "type": "surface"
           }
          ],
          "table": [
           {
            "cells": {
             "fill": {
              "color": "#EBF0F8"
             },
             "line": {
              "color": "white"
             }
            },
            "header": {
             "fill": {
              "color": "#C8D4E3"
             },
             "line": {
              "color": "white"
             }
            },
            "type": "table"
           }
          ]
         },
         "layout": {
          "annotationdefaults": {
           "arrowcolor": "#2a3f5f",
           "arrowhead": 0,
           "arrowwidth": 1
          },
          "autotypenumbers": "strict",
          "coloraxis": {
           "colorbar": {
            "outlinewidth": 0,
            "ticks": ""
           }
          },
          "colorscale": {
           "diverging": [
            [
             0,
             "#8e0152"
            ],
            [
             0.1,
             "#c51b7d"
            ],
            [
             0.2,
             "#de77ae"
            ],
            [
             0.3,
             "#f1b6da"
            ],
            [
             0.4,
             "#fde0ef"
            ],
            [
             0.5,
             "#f7f7f7"
            ],
            [
             0.6,
             "#e6f5d0"
            ],
            [
             0.7,
             "#b8e186"
            ],
            [
             0.8,
             "#7fbc41"
            ],
            [
             0.9,
             "#4d9221"
            ],
            [
             1,
             "#276419"
            ]
           ],
           "sequential": [
            [
             0,
             "#0d0887"
            ],
            [
             0.1111111111111111,
             "#46039f"
            ],
            [
             0.2222222222222222,
             "#7201a8"
            ],
            [
             0.3333333333333333,
             "#9c179e"
            ],
            [
             0.4444444444444444,
             "#bd3786"
            ],
            [
             0.5555555555555556,
             "#d8576b"
            ],
            [
             0.6666666666666666,
             "#ed7953"
            ],
            [
             0.7777777777777778,
             "#fb9f3a"
            ],
            [
             0.8888888888888888,
             "#fdca26"
            ],
            [
             1,
             "#f0f921"
            ]
           ],
           "sequentialminus": [
            [
             0,
             "#0d0887"
            ],
            [
             0.1111111111111111,
             "#46039f"
            ],
            [
             0.2222222222222222,
             "#7201a8"
            ],
            [
             0.3333333333333333,
             "#9c179e"
            ],
            [
             0.4444444444444444,
             "#bd3786"
            ],
            [
             0.5555555555555556,
             "#d8576b"
            ],
            [
             0.6666666666666666,
             "#ed7953"
            ],
            [
             0.7777777777777778,
             "#fb9f3a"
            ],
            [
             0.8888888888888888,
             "#fdca26"
            ],
            [
             1,
             "#f0f921"
            ]
           ]
          },
          "colorway": [
           "#636efa",
           "#EF553B",
           "#00cc96",
           "#ab63fa",
           "#FFA15A",
           "#19d3f3",
           "#FF6692",
           "#B6E880",
           "#FF97FF",
           "#FECB52"
          ],
          "font": {
           "color": "#2a3f5f"
          },
          "geo": {
           "bgcolor": "white",
           "lakecolor": "white",
           "landcolor": "#E5ECF6",
           "showlakes": true,
           "showland": true,
           "subunitcolor": "white"
          },
          "hoverlabel": {
           "align": "left"
          },
          "hovermode": "closest",
          "mapbox": {
           "style": "light"
          },
          "paper_bgcolor": "white",
          "plot_bgcolor": "#E5ECF6",
          "polar": {
           "angularaxis": {
            "gridcolor": "white",
            "linecolor": "white",
            "ticks": ""
           },
           "bgcolor": "#E5ECF6",
           "radialaxis": {
            "gridcolor": "white",
            "linecolor": "white",
            "ticks": ""
           }
          },
          "scene": {
           "xaxis": {
            "backgroundcolor": "#E5ECF6",
            "gridcolor": "white",
            "gridwidth": 2,
            "linecolor": "white",
            "showbackground": true,
            "ticks": "",
            "zerolinecolor": "white"
           },
           "yaxis": {
            "backgroundcolor": "#E5ECF6",
            "gridcolor": "white",
            "gridwidth": 2,
            "linecolor": "white",
            "showbackground": true,
            "ticks": "",
            "zerolinecolor": "white"
           },
           "zaxis": {
            "backgroundcolor": "#E5ECF6",
            "gridcolor": "white",
            "gridwidth": 2,
            "linecolor": "white",
            "showbackground": true,
            "ticks": "",
            "zerolinecolor": "white"
           }
          },
          "shapedefaults": {
           "line": {
            "color": "#2a3f5f"
           }
          },
          "ternary": {
           "aaxis": {
            "gridcolor": "white",
            "linecolor": "white",
            "ticks": ""
           },
           "baxis": {
            "gridcolor": "white",
            "linecolor": "white",
            "ticks": ""
           },
           "bgcolor": "#E5ECF6",
           "caxis": {
            "gridcolor": "white",
            "linecolor": "white",
            "ticks": ""
           }
          },
          "title": {
           "x": 0.05
          },
          "xaxis": {
           "automargin": true,
           "gridcolor": "white",
           "linecolor": "white",
           "ticks": "",
           "title": {
            "standoff": 15
           },
           "zerolinecolor": "white",
           "zerolinewidth": 2
          },
          "yaxis": {
           "automargin": true,
           "gridcolor": "white",
           "linecolor": "white",
           "ticks": "",
           "title": {
            "standoff": 15
           },
           "zerolinecolor": "white",
           "zerolinewidth": 2
          }
         }
        },
        "title": {
         "font": {
          "color": "#4D5663"
         }
        },
        "xaxis": {
         "gridcolor": "#E1E5ED",
         "showgrid": true,
         "tickfont": {
          "color": "#4D5663"
         },
         "title": {
          "font": {
           "color": "#4D5663"
          },
          "text": ""
         },
         "zerolinecolor": "#E1E5ED"
        },
        "yaxis": {
         "gridcolor": "#E1E5ED",
         "showgrid": true,
         "tickfont": {
          "color": "#4D5663"
         },
         "title": {
          "font": {
           "color": "#4D5663"
          },
          "text": ""
         },
         "zerolinecolor": "#E1E5ED"
        }
       }
      },
      "text/html": [
       "<div>                            <div id=\"baba94d7-329f-4667-9c0f-8f7c6bb9d441\" class=\"plotly-graph-div\" style=\"height:525px; width:100%;\"></div>            <script type=\"text/javascript\">                require([\"plotly\"], function(Plotly) {                    window.PLOTLYENV=window.PLOTLYENV || {};\n",
       "                    window.PLOTLYENV.BASE_URL='https://plot.ly';                                    if (document.getElementById(\"baba94d7-329f-4667-9c0f-8f7c6bb9d441\")) {                    Plotly.newPlot(                        \"baba94d7-329f-4667-9c0f-8f7c6bb9d441\",                        [{\"line\":{\"color\":\"rgba(255, 153, 51, 1.0)\",\"dash\":\"solid\",\"shape\":\"linear\",\"width\":1.3},\"mode\":\"lines\",\"name\":\"B\",\"text\":\"\",\"x\":[-0.6912741429033772,2.6385271622920055,-0.7602857136434306,-0.17989398726623554,1.1314908404810518,-0.9236277429682401,0.5738678190716883,0.9864544801541595,0.32279219540734283,0.5885178288924707,0.5024994967413074,0.33207596909749637,0.6161296323145041,0.09859447753227293,-0.8227834082627532,0.28464354765094746,-0.947342488658302,-0.8548769790411005,1.0921015040745041,-0.6059906110102712,0.7134665644043366,0.2506753216842416,0.5704988886012403,-0.9001676759617967,1.5577514195590443,-0.8935476824587619,-1.643208970155166,0.9744088602730071,-0.29420623561316916,-0.5779436336856351,-1.3840170311282365,2.314676910076252,0.6415398505272547,-0.8002006468597685,0.6922191370110591,-1.0337120485296762,0.27265670125524993,-0.5797583333024258,0.5447513266398479,1.2410264787389498,-0.3170328105037755,0.9375460090151588,0.2879885443792549,-1.6938341411969675,-0.07472009167841874,0.5060026725044797,-0.8504009261137909,0.732510438788298,2.239796161013942,0.7692758256658025,-0.327999523823669,-0.0522999588114854,0.7404336785517659,1.006511440200384,-1.0954078070436444,-0.694419007954893,0.9170675514111376,0.2410176623597317,-1.1417311818412559,-2.036168540701319,-0.5852200554789933,-0.08187573553144036,-0.0108941525886899,0.5043090936377923,-0.009038725156449571,0.37521561129710973,0.5454233016591511,-1.2019374781761154,-1.2164146034848031,-1.5521771642600135,1.5260481075021362,0.7511200123355126,-1.201730403956396,2.2280888976822624,-0.15975558174063254,-0.21141327351955494,0.3060476425825168,-0.20791345635292988,0.9746962275768414,-0.3798940618161446,-1.2099430641956597,-0.07687618710847464,0.04855691969444076,1.6219188475758473,-2.1694340031988157,1.1071533539052,1.228055445210511,0.9847854355920682,-1.7122298669622624,-0.23909369014186913,0.9571627095229488,0.2050568135377792,-0.9270560083471667,0.974859311003513,0.37850037510517365,0.47070287060999044,0.8239361128145453,0.9503701842417043,0.3020754261820294,0.5335541974559987],\"y\":[-0.9399902999168411,-1.9423380705231792,0.4522164949791178,-1.4487787439238513,0.6801991481379681,-0.9371935088416633,-0.017229639492253413,-0.258876955937129,-1.0817046480966666,-0.6355540706675884,-0.5095868553778142,1.0783223972420422,0.1658907389286997,0.6321115178431862,-0.3158816940165806,1.1039231468906006,-0.49906935443041817,-0.6315137548742901,0.4726907486757533,0.2785663383433755,0.6756828406946835,-0.1937357330418802,0.5631093809666425,0.09076004610545052,-0.08080029963722939,-0.24121391840168532,-0.8838536665321517,-0.16955688742526506,0.5456960917581483,0.3461823440618255,0.8838886872681287,0.6007935651747616,-0.554952740896429,0.16087588010661694,0.7139512276978098,0.7836504954457244,-0.7468182950644572,-1.2852739351722766,-0.7377216443690595,0.7879482149641246,0.6888763990791642,2.0131037127401514,-0.9590282314305115,-0.08995759073683214,0.29072502929996125,1.6081002671179545,-0.11460765764050192,-1.187598726286891,0.9591573131300998,-1.0752516355918234,-0.13931574040481506,0.4015932029670253,0.15440121837917983,-0.38647080941415796,-1.3210927141383915,0.8642920456342552,0.6015658553512785,0.14569108608113243,0.6947284302526355,-0.7024617110754191,0.1651577477071164,-0.407736164353038,2.1840342297316826,-0.596291435423442,-1.8856920299159774,-0.3345990732118949,-1.7415128836734322,0.6112073340788858,1.7548265817244395,0.9293380526290771,-1.373294835797414,0.03127355648398631,0.4160208366523142,-0.11088801603936746,0.9221175098804136,-1.1576877119234141,-0.39813707295622613,-1.0592320235705353,0.37986665125962565,-0.5570483578397022,0.6777186339963158,-0.38644735124934115,-0.46445620006442506,-0.4250050264070511,1.0890493493481044,-1.4627988247249566,-0.470768139390512,-0.18899810886234358,0.4654101860415952,1.6779775844139893,-1.876317969649985,-0.1702025954803815,0.7386275124863215,-0.995687819654236,0.5688961016409643,0.003505412674648637,0.7707394956863137,0.25837287808466486,-1.3123051555731073,-0.14547432429903318],\"type\":\"scatter\"}],                        {\"legend\":{\"bgcolor\":\"#F5F6F9\",\"font\":{\"color\":\"#4D5663\"}},\"paper_bgcolor\":\"#F5F6F9\",\"plot_bgcolor\":\"#F5F6F9\",\"template\":{\"data\":{\"barpolar\":[{\"marker\":{\"line\":{\"color\":\"#E5ECF6\",\"width\":0.5},\"pattern\":{\"fillmode\":\"overlay\",\"size\":10,\"solidity\":0.2}},\"type\":\"barpolar\"}],\"bar\":[{\"error_x\":{\"color\":\"#2a3f5f\"},\"error_y\":{\"color\":\"#2a3f5f\"},\"marker\":{\"line\":{\"color\":\"#E5ECF6\",\"width\":0.5},\"pattern\":{\"fillmode\":\"overlay\",\"size\":10,\"solidity\":0.2}},\"type\":\"bar\"}],\"carpet\":[{\"aaxis\":{\"endlinecolor\":\"#2a3f5f\",\"gridcolor\":\"white\",\"linecolor\":\"white\",\"minorgridcolor\":\"white\",\"startlinecolor\":\"#2a3f5f\"},\"baxis\":{\"endlinecolor\":\"#2a3f5f\",\"gridcolor\":\"white\",\"linecolor\":\"white\",\"minorgridcolor\":\"white\",\"startlinecolor\":\"#2a3f5f\"},\"type\":\"carpet\"}],\"choropleth\":[{\"colorbar\":{\"outlinewidth\":0,\"ticks\":\"\"},\"type\":\"choropleth\"}],\"contourcarpet\":[{\"colorbar\":{\"outlinewidth\":0,\"ticks\":\"\"},\"type\":\"contourcarpet\"}],\"contour\":[{\"colorbar\":{\"outlinewidth\":0,\"ticks\":\"\"},\"colorscale\":[[0.0,\"#0d0887\"],[0.1111111111111111,\"#46039f\"],[0.2222222222222222,\"#7201a8\"],[0.3333333333333333,\"#9c179e\"],[0.4444444444444444,\"#bd3786\"],[0.5555555555555556,\"#d8576b\"],[0.6666666666666666,\"#ed7953\"],[0.7777777777777778,\"#fb9f3a\"],[0.8888888888888888,\"#fdca26\"],[1.0,\"#f0f921\"]],\"type\":\"contour\"}],\"heatmapgl\":[{\"colorbar\":{\"outlinewidth\":0,\"ticks\":\"\"},\"colorscale\":[[0.0,\"#0d0887\"],[0.1111111111111111,\"#46039f\"],[0.2222222222222222,\"#7201a8\"],[0.3333333333333333,\"#9c179e\"],[0.4444444444444444,\"#bd3786\"],[0.5555555555555556,\"#d8576b\"],[0.6666666666666666,\"#ed7953\"],[0.7777777777777778,\"#fb9f3a\"],[0.8888888888888888,\"#fdca26\"],[1.0,\"#f0f921\"]],\"type\":\"heatmapgl\"}],\"heatmap\":[{\"colorbar\":{\"outlinewidth\":0,\"ticks\":\"\"},\"colorscale\":[[0.0,\"#0d0887\"],[0.1111111111111111,\"#46039f\"],[0.2222222222222222,\"#7201a8\"],[0.3333333333333333,\"#9c179e\"],[0.4444444444444444,\"#bd3786\"],[0.5555555555555556,\"#d8576b\"],[0.6666666666666666,\"#ed7953\"],[0.7777777777777778,\"#fb9f3a\"],[0.8888888888888888,\"#fdca26\"],[1.0,\"#f0f921\"]],\"type\":\"heatmap\"}],\"histogram2dcontour\":[{\"colorbar\":{\"outlinewidth\":0,\"ticks\":\"\"},\"colorscale\":[[0.0,\"#0d0887\"],[0.1111111111111111,\"#46039f\"],[0.2222222222222222,\"#7201a8\"],[0.3333333333333333,\"#9c179e\"],[0.4444444444444444,\"#bd3786\"],[0.5555555555555556,\"#d8576b\"],[0.6666666666666666,\"#ed7953\"],[0.7777777777777778,\"#fb9f3a\"],[0.8888888888888888,\"#fdca26\"],[1.0,\"#f0f921\"]],\"type\":\"histogram2dcontour\"}],\"histogram2d\":[{\"colorbar\":{\"outlinewidth\":0,\"ticks\":\"\"},\"colorscale\":[[0.0,\"#0d0887\"],[0.1111111111111111,\"#46039f\"],[0.2222222222222222,\"#7201a8\"],[0.3333333333333333,\"#9c179e\"],[0.4444444444444444,\"#bd3786\"],[0.5555555555555556,\"#d8576b\"],[0.6666666666666666,\"#ed7953\"],[0.7777777777777778,\"#fb9f3a\"],[0.8888888888888888,\"#fdca26\"],[1.0,\"#f0f921\"]],\"type\":\"histogram2d\"}],\"histogram\":[{\"marker\":{\"pattern\":{\"fillmode\":\"overlay\",\"size\":10,\"solidity\":0.2}},\"type\":\"histogram\"}],\"mesh3d\":[{\"colorbar\":{\"outlinewidth\":0,\"ticks\":\"\"},\"type\":\"mesh3d\"}],\"parcoords\":[{\"line\":{\"colorbar\":{\"outlinewidth\":0,\"ticks\":\"\"}},\"type\":\"parcoords\"}],\"pie\":[{\"automargin\":true,\"type\":\"pie\"}],\"scatter3d\":[{\"line\":{\"colorbar\":{\"outlinewidth\":0,\"ticks\":\"\"}},\"marker\":{\"colorbar\":{\"outlinewidth\":0,\"ticks\":\"\"}},\"type\":\"scatter3d\"}],\"scattercarpet\":[{\"marker\":{\"colorbar\":{\"outlinewidth\":0,\"ticks\":\"\"}},\"type\":\"scattercarpet\"}],\"scattergeo\":[{\"marker\":{\"colorbar\":{\"outlinewidth\":0,\"ticks\":\"\"}},\"type\":\"scattergeo\"}],\"scattergl\":[{\"marker\":{\"colorbar\":{\"outlinewidth\":0,\"ticks\":\"\"}},\"type\":\"scattergl\"}],\"scattermapbox\":[{\"marker\":{\"colorbar\":{\"outlinewidth\":0,\"ticks\":\"\"}},\"type\":\"scattermapbox\"}],\"scatterpolargl\":[{\"marker\":{\"colorbar\":{\"outlinewidth\":0,\"ticks\":\"\"}},\"type\":\"scatterpolargl\"}],\"scatterpolar\":[{\"marker\":{\"colorbar\":{\"outlinewidth\":0,\"ticks\":\"\"}},\"type\":\"scatterpolar\"}],\"scatter\":[{\"marker\":{\"colorbar\":{\"outlinewidth\":0,\"ticks\":\"\"}},\"type\":\"scatter\"}],\"scatterternary\":[{\"marker\":{\"colorbar\":{\"outlinewidth\":0,\"ticks\":\"\"}},\"type\":\"scatterternary\"}],\"surface\":[{\"colorbar\":{\"outlinewidth\":0,\"ticks\":\"\"},\"colorscale\":[[0.0,\"#0d0887\"],[0.1111111111111111,\"#46039f\"],[0.2222222222222222,\"#7201a8\"],[0.3333333333333333,\"#9c179e\"],[0.4444444444444444,\"#bd3786\"],[0.5555555555555556,\"#d8576b\"],[0.6666666666666666,\"#ed7953\"],[0.7777777777777778,\"#fb9f3a\"],[0.8888888888888888,\"#fdca26\"],[1.0,\"#f0f921\"]],\"type\":\"surface\"}],\"table\":[{\"cells\":{\"fill\":{\"color\":\"#EBF0F8\"},\"line\":{\"color\":\"white\"}},\"header\":{\"fill\":{\"color\":\"#C8D4E3\"},\"line\":{\"color\":\"white\"}},\"type\":\"table\"}]},\"layout\":{\"annotationdefaults\":{\"arrowcolor\":\"#2a3f5f\",\"arrowhead\":0,\"arrowwidth\":1},\"autotypenumbers\":\"strict\",\"coloraxis\":{\"colorbar\":{\"outlinewidth\":0,\"ticks\":\"\"}},\"colorscale\":{\"diverging\":[[0,\"#8e0152\"],[0.1,\"#c51b7d\"],[0.2,\"#de77ae\"],[0.3,\"#f1b6da\"],[0.4,\"#fde0ef\"],[0.5,\"#f7f7f7\"],[0.6,\"#e6f5d0\"],[0.7,\"#b8e186\"],[0.8,\"#7fbc41\"],[0.9,\"#4d9221\"],[1,\"#276419\"]],\"sequential\":[[0.0,\"#0d0887\"],[0.1111111111111111,\"#46039f\"],[0.2222222222222222,\"#7201a8\"],[0.3333333333333333,\"#9c179e\"],[0.4444444444444444,\"#bd3786\"],[0.5555555555555556,\"#d8576b\"],[0.6666666666666666,\"#ed7953\"],[0.7777777777777778,\"#fb9f3a\"],[0.8888888888888888,\"#fdca26\"],[1.0,\"#f0f921\"]],\"sequentialminus\":[[0.0,\"#0d0887\"],[0.1111111111111111,\"#46039f\"],[0.2222222222222222,\"#7201a8\"],[0.3333333333333333,\"#9c179e\"],[0.4444444444444444,\"#bd3786\"],[0.5555555555555556,\"#d8576b\"],[0.6666666666666666,\"#ed7953\"],[0.7777777777777778,\"#fb9f3a\"],[0.8888888888888888,\"#fdca26\"],[1.0,\"#f0f921\"]]},\"colorway\":[\"#636efa\",\"#EF553B\",\"#00cc96\",\"#ab63fa\",\"#FFA15A\",\"#19d3f3\",\"#FF6692\",\"#B6E880\",\"#FF97FF\",\"#FECB52\"],\"font\":{\"color\":\"#2a3f5f\"},\"geo\":{\"bgcolor\":\"white\",\"lakecolor\":\"white\",\"landcolor\":\"#E5ECF6\",\"showlakes\":true,\"showland\":true,\"subunitcolor\":\"white\"},\"hoverlabel\":{\"align\":\"left\"},\"hovermode\":\"closest\",\"mapbox\":{\"style\":\"light\"},\"paper_bgcolor\":\"white\",\"plot_bgcolor\":\"#E5ECF6\",\"polar\":{\"angularaxis\":{\"gridcolor\":\"white\",\"linecolor\":\"white\",\"ticks\":\"\"},\"bgcolor\":\"#E5ECF6\",\"radialaxis\":{\"gridcolor\":\"white\",\"linecolor\":\"white\",\"ticks\":\"\"}},\"scene\":{\"xaxis\":{\"backgroundcolor\":\"#E5ECF6\",\"gridcolor\":\"white\",\"gridwidth\":2,\"linecolor\":\"white\",\"showbackground\":true,\"ticks\":\"\",\"zerolinecolor\":\"white\"},\"yaxis\":{\"backgroundcolor\":\"#E5ECF6\",\"gridcolor\":\"white\",\"gridwidth\":2,\"linecolor\":\"white\",\"showbackground\":true,\"ticks\":\"\",\"zerolinecolor\":\"white\"},\"zaxis\":{\"backgroundcolor\":\"#E5ECF6\",\"gridcolor\":\"white\",\"gridwidth\":2,\"linecolor\":\"white\",\"showbackground\":true,\"ticks\":\"\",\"zerolinecolor\":\"white\"}},\"shapedefaults\":{\"line\":{\"color\":\"#2a3f5f\"}},\"ternary\":{\"aaxis\":{\"gridcolor\":\"white\",\"linecolor\":\"white\",\"ticks\":\"\"},\"baxis\":{\"gridcolor\":\"white\",\"linecolor\":\"white\",\"ticks\":\"\"},\"bgcolor\":\"#E5ECF6\",\"caxis\":{\"gridcolor\":\"white\",\"linecolor\":\"white\",\"ticks\":\"\"}},\"title\":{\"x\":0.05},\"xaxis\":{\"automargin\":true,\"gridcolor\":\"white\",\"linecolor\":\"white\",\"ticks\":\"\",\"title\":{\"standoff\":15},\"zerolinecolor\":\"white\",\"zerolinewidth\":2},\"yaxis\":{\"automargin\":true,\"gridcolor\":\"white\",\"linecolor\":\"white\",\"ticks\":\"\",\"title\":{\"standoff\":15},\"zerolinecolor\":\"white\",\"zerolinewidth\":2}}},\"title\":{\"font\":{\"color\":\"#4D5663\"}},\"xaxis\":{\"gridcolor\":\"#E1E5ED\",\"showgrid\":true,\"tickfont\":{\"color\":\"#4D5663\"},\"title\":{\"font\":{\"color\":\"#4D5663\"},\"text\":\"\"},\"zerolinecolor\":\"#E1E5ED\"},\"yaxis\":{\"gridcolor\":\"#E1E5ED\",\"showgrid\":true,\"tickfont\":{\"color\":\"#4D5663\"},\"title\":{\"font\":{\"color\":\"#4D5663\"},\"text\":\"\"},\"zerolinecolor\":\"#E1E5ED\"}},                        {\"showLink\": true, \"linkText\": \"Export to plot.ly\", \"plotlyServerURL\": \"https://plot.ly\", \"responsive\": true}                    ).then(function(){\n",
       "                            \n",
       "var gd = document.getElementById('baba94d7-329f-4667-9c0f-8f7c6bb9d441');\n",
       "var x = new MutationObserver(function (mutations, observer) {{\n",
       "        var display = window.getComputedStyle(gd).display;\n",
       "        if (!display || display === 'none') {{\n",
       "            console.log([gd, 'removed!']);\n",
       "            Plotly.purge(gd);\n",
       "            observer.disconnect();\n",
       "        }}\n",
       "}});\n",
       "\n",
       "// Listen for the removal of the full notebook cells\n",
       "var notebookContainer = gd.closest('#notebook-container');\n",
       "if (notebookContainer) {{\n",
       "    x.observe(notebookContainer, {childList: true});\n",
       "}}\n",
       "\n",
       "// Listen for the clearing of the current output cell\n",
       "var outputEl = gd.closest('.output');\n",
       "if (outputEl) {{\n",
       "    x.observe(outputEl, {childList: true});\n",
       "}}\n",
       "\n",
       "                        })                };                });            </script>        </div>"
      ]
     },
     "metadata": {},
     "output_type": "display_data"
    }
   ],
   "source": [
    "df.iplot(kind='scatter',x='A',y='B')\n",
    "    # plotly will make a line to connect all this points"
   ]
  },
  {
   "cell_type": "code",
   "execution_count": 19,
   "id": "8268fde1",
   "metadata": {},
   "outputs": [
    {
     "data": {
      "text/plain": [
       "<AxesSubplot:xlabel='A', ylabel='B'>"
      ]
     },
     "execution_count": 19,
     "metadata": {},
     "output_type": "execute_result"
    },
    {
     "data": {
      "image/png": "[encoded data removed]",
      "text/plain": [
       "<Figure size 432x288 with 1 Axes>"
      ]
     },
     "metadata": {
      "needs_background": "light"
     },
     "output_type": "display_data"
    }
   ],
   "source": [
    "sns.scatterplot(x='A',y='B',data=df)"
   ]
  },
  {
   "cell_type": "code",
   "execution_count": 20,
   "id": "eeaf263a",
   "metadata": {},
   "outputs": [
    {
     "data": {
      "application/vnd.plotly.v1+json": {
       "config": {
        "linkText": "Export to plot.ly",
        "plotlyServerURL": "https://plot.ly",
        "showLink": true
       },
       "data": [
        {
         "line": {
          "color": "rgba(255, 153, 51, 1.0)",
          "dash": "solid",
          "shape": "linear",
          "width": 1.3
         },
         "marker": {
          "size": 10,
          "symbol": "circle"
         },
         "mode": "markers",
         "name": "B",
         "text": "",
         "type": "scatter",
         "x": [
          -0.6912741429033772,
          2.6385271622920055,
          -0.7602857136434306,
          -0.17989398726623554,
          1.1314908404810518,
          -0.9236277429682401,
          0.5738678190716883,
          0.9864544801541595,
          0.32279219540734283,
          0.5885178288924707,
          0.5024994967413074,
          0.33207596909749637,
          0.6161296323145041,
          0.09859447753227293,
          -0.8227834082627532,
          0.28464354765094746,
          -0.947342488658302,
          -0.8548769790411005,
          1.0921015040745041,
          -0.6059906110102712,
          0.7134665644043366,
          0.2506753216842416,
          0.5704988886012403,
          -0.9001676759617967,
          1.5577514195590443,
          -0.8935476824587619,
          -1.643208970155166,
          0.9744088602730071,
          -0.29420623561316916,
          -0.5779436336856351,
          -1.3840170311282365,
          2.314676910076252,
          0.6415398505272547,
          -0.8002006468597685,
          0.6922191370110591,
          -1.0337120485296762,
          0.27265670125524993,
          -0.5797583333024258,
          0.5447513266398479,
          1.2410264787389498,
          -0.3170328105037755,
          0.9375460090151588,
          0.2879885443792549,
          -1.6938341411969675,
          -0.07472009167841874,
          0.5060026725044797,
          -0.8504009261137909,
          0.732510438788298,
          2.239796161013942,
          0.7692758256658025,
          -0.327999523823669,
          -0.0522999588114854,
          0.7404336785517659,
          1.006511440200384,
          -1.0954078070436444,
          -0.694419007954893,
          0.9170675514111376,
          0.2410176623597317,
          -1.1417311818412559,
          -2.036168540701319,
          -0.5852200554789933,
          -0.08187573553144036,
          -0.0108941525886899,
          0.5043090936377923,
          -0.009038725156449571,
          0.37521561129710973,
          0.5454233016591511,
          -1.2019374781761154,
          -1.2164146034848031,
          -1.5521771642600135,
          1.5260481075021362,
          0.7511200123355126,
          -1.201730403956396,
          2.2280888976822624,
          -0.15975558174063254,
          -0.21141327351955494,
          0.3060476425825168,
          -0.20791345635292988,
          0.9746962275768414,
          -0.3798940618161446,
          -1.2099430641956597,
          -0.07687618710847464,
          0.04855691969444076,
          1.6219188475758473,
          -2.1694340031988157,
          1.1071533539052,
          1.228055445210511,
          0.9847854355920682,
          -1.7122298669622624,
          -0.23909369014186913,
          0.9571627095229488,
          0.2050568135377792,
          -0.9270560083471667,
          0.974859311003513,
          0.37850037510517365,
          0.47070287060999044,
          0.8239361128145453,
          0.9503701842417043,
          0.3020754261820294,
          0.5335541974559987
         ],
         "y": [
          -0.9399902999168411,
          -1.9423380705231792,
          0.4522164949791178,
          -1.4487787439238513,
          0.6801991481379681,
          -0.9371935088416633,
          -0.017229639492253413,
          -0.258876955937129,
          -1.0817046480966666,
          -0.6355540706675884,
          -0.5095868553778142,
          1.0783223972420422,
          0.1658907389286997,
          0.6321115178431862,
          -0.3158816940165806,
          1.1039231468906006,
          -0.49906935443041817,
          -0.6315137548742901,
          0.4726907486757533,
          0.2785663383433755,
          0.6756828406946835,
          -0.1937357330418802,
          0.5631093809666425,
          0.09076004610545052,
          -0.08080029963722939,
          -0.24121391840168532,
          -0.8838536665321517,
          -0.16955688742526506,
          0.5456960917581483,
          0.3461823440618255,
          0.8838886872681287,
          0.6007935651747616,
          -0.554952740896429,
          0.16087588010661694,
          0.7139512276978098,
          0.7836504954457244,
          -0.7468182950644572,
          -1.2852739351722766,
          -0.7377216443690595,
          0.7879482149641246,
          0.6888763990791642,
          2.0131037127401514,
          -0.9590282314305115,
          -0.08995759073683214,
          0.29072502929996125,
          1.6081002671179545,
          -0.11460765764050192,
          -1.187598726286891,
          0.9591573131300998,
          -1.0752516355918234,
          -0.13931574040481506,
          0.4015932029670253,
          0.15440121837917983,
          -0.38647080941415796,
          -1.3210927141383915,
          0.8642920456342552,
          0.6015658553512785,
          0.14569108608113243,
          0.6947284302526355,
          -0.7024617110754191,
          0.1651577477071164,
          -0.407736164353038,
          2.1840342297316826,
          -0.596291435423442,
          -1.8856920299159774,
          -0.3345990732118949,
          -1.7415128836734322,
          0.6112073340788858,
          1.7548265817244395,
          0.9293380526290771,
          -1.373294835797414,
          0.03127355648398631,
          0.4160208366523142,
          -0.11088801603936746,
          0.9221175098804136,
          -1.1576877119234141,
          -0.39813707295622613,
          -1.0592320235705353,
          0.37986665125962565,
          -0.5570483578397022,
          0.6777186339963158,
          -0.38644735124934115,
          -0.46445620006442506,
          -0.4250050264070511,
          1.0890493493481044,
          -1.4627988247249566,
          -0.470768139390512,
          -0.18899810886234358,
          0.4654101860415952,
          1.6779775844139893,
          -1.876317969649985,
          -0.1702025954803815,
          0.7386275124863215,
          -0.995687819654236,
          0.5688961016409643,
          0.003505412674648637,
          0.7707394956863137,
          0.25837287808466486,
          -1.3123051555731073,
          -0.14547432429903318
         ]
        }
       ],
       "layout": {
        "legend": {
         "bgcolor": "#F5F6F9",
         "font": {
          "color": "#4D5663"
         }
        },
        "paper_bgcolor": "#F5F6F9",
        "plot_bgcolor": "#F5F6F9",
        "template": {
         "data": {
          "bar": [
           {
            "error_x": {
             "color": "#2a3f5f"
            },
            "error_y": {
             "color": "#2a3f5f"
            },
            "marker": {
             "line": {
              "color": "#E5ECF6",
              "width": 0.5
             },
             "pattern": {
              "fillmode": "overlay",
              "size": 10,
              "solidity": 0.2
             }
            },
            "type": "bar"
           }
          ],
          "barpolar": [
           {
            "marker": {
             "line": {
              "color": "#E5ECF6",
              "width": 0.5
             },
             "pattern": {
              "fillmode": "overlay",
              "size": 10,
              "solidity": 0.2
             }
            },
            "type": "barpolar"
           }
          ],
          "carpet": [
           {
            "aaxis": {
             "endlinecolor": "#2a3f5f",
             "gridcolor": "white",
             "linecolor": "white",
             "minorgridcolor": "white",
             "startlinecolor": "#2a3f5f"
            },
            "baxis": {
             "endlinecolor": "#2a3f5f",
             "gridcolor": "white",
             "linecolor": "white",
             "minorgridcolor": "white",
             "startlinecolor": "#2a3f5f"
            },
            "type": "carpet"
           }
          ],
          "choropleth": [
           {
            "colorbar": {
             "outlinewidth": 0,
             "ticks": ""
            },
            "type": "choropleth"
           }
          ],
          "contour": [
           {
            "colorbar": {
             "outlinewidth": 0,
             "ticks": ""
            },
            "colorscale": [
             [
              0,
              "#0d0887"
             ],
             [
              0.1111111111111111,
              "#46039f"
             ],
             [
              0.2222222222222222,
              "#7201a8"
             ],
             [
              0.3333333333333333,
              "#9c179e"
             ],
             [
              0.4444444444444444,
              "#bd3786"
             ],
             [
              0.5555555555555556,
              "#d8576b"
             ],
             [
              0.6666666666666666,
              "#ed7953"
             ],
             [
              0.7777777777777778,
              "#fb9f3a"
             ],
             [
              0.8888888888888888,
              "#fdca26"
             ],
             [
              1,
              "#f0f921"
             ]
            ],
            "type": "contour"
           }
          ],
          "contourcarpet": [
           {
            "colorbar": {
             "outlinewidth": 0,
             "ticks": ""
            },
            "type": "contourcarpet"
           }
          ],
          "heatmap": [
           {
            "colorbar": {
             "outlinewidth": 0,
             "ticks": ""
            },
            "colorscale": [
             [
              0,
              "#0d0887"
             ],
             [
              0.1111111111111111,
              "#46039f"
             ],
             [
              0.2222222222222222,
              "#7201a8"
             ],
             [
              0.3333333333333333,
              "#9c179e"
             ],
             [
              0.4444444444444444,
              "#bd3786"
             ],
             [
              0.5555555555555556,
              "#d8576b"
             ],
             [
              0.6666666666666666,
              "#ed7953"
             ],
             [
              0.7777777777777778,
              "#fb9f3a"
             ],
             [
              0.8888888888888888,
              "#fdca26"
             ],
             [
              1,
              "#f0f921"
             ]
            ],
            "type": "heatmap"
           }
          ],
          "heatmapgl": [
           {
            "colorbar": {
             "outlinewidth": 0,
             "ticks": ""
            },
            "colorscale": [
             [
              0,
              "#0d0887"
             ],
             [
              0.1111111111111111,
              "#46039f"
             ],
             [
              0.2222222222222222,
              "#7201a8"
             ],
             [
              0.3333333333333333,
              "#9c179e"
             ],
             [
              0.4444444444444444,
              "#bd3786"
             ],
             [
              0.5555555555555556,
              "#d8576b"
             ],
             [
              0.6666666666666666,
              "#ed7953"
             ],
             [
              0.7777777777777778,
              "#fb9f3a"
             ],
             [
              0.8888888888888888,
              "#fdca26"
             ],
             [
              1,
              "#f0f921"
             ]
            ],
            "type": "heatmapgl"
           }
          ],
          "histogram": [
           {
            "marker": {
             "pattern": {
              "fillmode": "overlay",
              "size": 10,
              "solidity": 0.2
             }
            },
            "type": "histogram"
           }
          ],
          "histogram2d": [
           {
            "colorbar": {
             "outlinewidth": 0,
             "ticks": ""
            },
            "colorscale": [
             [
              0,
              "#0d0887"
             ],
             [
              0.1111111111111111,
              "#46039f"
             ],
             [
              0.2222222222222222,
              "#7201a8"
             ],
             [
              0.3333333333333333,
              "#9c179e"
             ],
             [
              0.4444444444444444,
              "#bd3786"
             ],
             [
              0.5555555555555556,
              "#d8576b"
             ],
             [
              0.6666666666666666,
              "#ed7953"
             ],
             [
              0.7777777777777778,
              "#fb9f3a"
             ],
             [
              0.8888888888888888,
              "#fdca26"
             ],
             [
              1,
              "#f0f921"
             ]
            ],
            "type": "histogram2d"
           }
          ],
          "histogram2dcontour": [
           {
            "colorbar": {
             "outlinewidth": 0,
             "ticks": ""
            },
            "colorscale": [
             [
              0,
              "#0d0887"
             ],
             [
              0.1111111111111111,
              "#46039f"
             ],
             [
              0.2222222222222222,
              "#7201a8"
             ],
             [
              0.3333333333333333,
              "#9c179e"
             ],
             [
              0.4444444444444444,
              "#bd3786"
             ],
             [
              0.5555555555555556,
              "#d8576b"
             ],
             [
              0.6666666666666666,
              "#ed7953"
             ],
             [
              0.7777777777777778,
              "#fb9f3a"
             ],
             [
              0.8888888888888888,
              "#fdca26"
             ],
             [
              1,
              "#f0f921"
             ]
            ],
            "type": "histogram2dcontour"
           }
          ],
          "mesh3d": [
           {
            "colorbar": {
             "outlinewidth": 0,
             "ticks": ""
            },
            "type": "mesh3d"
           }
          ],
          "parcoords": [
           {
            "line": {
             "colorbar": {
              "outlinewidth": 0,
              "ticks": ""
             }
            },
            "type": "parcoords"
           }
          ],
          "pie": [
           {
            "automargin": true,
            "type": "pie"
           }
          ],
          "scatter": [
           {
            "marker": {
             "colorbar": {
              "outlinewidth": 0,
              "ticks": ""
             }
            },
            "type": "scatter"
           }
          ],
          "scatter3d": [
           {
            "line": {
             "colorbar": {
              "outlinewidth": 0,
              "ticks": ""
             }
            },
            "marker": {
             "colorbar": {
              "outlinewidth": 0,
              "ticks": ""
             }
            },
            "type": "scatter3d"
           }
          ],
          "scattercarpet": [
           {
            "marker": {
             "colorbar": {
              "outlinewidth": 0,
              "ticks": ""
             }
            },
            "type": "scattercarpet"
           }
          ],
          "scattergeo": [
           {
            "marker": {
             "colorbar": {
              "outlinewidth": 0,
              "ticks": ""
             }
            },
            "type": "scattergeo"
           }
          ],
          "scattergl": [
           {
            "marker": {
             "colorbar": {
              "outlinewidth": 0,
              "ticks": ""
             }
            },
            "type": "scattergl"
           }
          ],
          "scattermapbox": [
           {
            "marker": {
             "colorbar": {
              "outlinewidth": 0,
              "ticks": ""
             }
            },
            "type": "scattermapbox"
           }
          ],
          "scatterpolar": [
           {
            "marker": {
             "colorbar": {
              "outlinewidth": 0,
              "ticks": ""
             }
            },
            "type": "scatterpolar"
           }
          ],
          "scatterpolargl": [
           {
            "marker": {
             "colorbar": {
              "outlinewidth": 0,
              "ticks": ""
             }
            },
            "type": "scatterpolargl"
           }
          ],
          "scatterternary": [
           {
            "marker": {
             "colorbar": {
              "outlinewidth": 0,
              "ticks": ""
             }
            },
            "type": "scatterternary"
           }
          ],
          "surface": [
           {
            "colorbar": {
             "outlinewidth": 0,
             "ticks": ""
            },
            "colorscale": [
             [
              0,
              "#0d0887"
             ],
             [
              0.1111111111111111,
              "#46039f"
             ],
             [
              0.2222222222222222,
              "#7201a8"
             ],
             [
              0.3333333333333333,
              "#9c179e"
             ],
             [
              0.4444444444444444,
              "#bd3786"
             ],
             [
              0.5555555555555556,
              "#d8576b"
             ],
             [
              0.6666666666666666,
              "#ed7953"
             ],
             [
              0.7777777777777778,
              "#fb9f3a"
             ],
             [
              0.8888888888888888,
              "#fdca26"
             ],
             [
              1,
              "#f0f921"
             ]
            ],
            "type": "surface"
           }
          ],
          "table": [
           {
            "cells": {
             "fill": {
              "color": "#EBF0F8"
             },
             "line": {
              "color": "white"
             }
            },
            "header": {
             "fill": {
              "color": "#C8D4E3"
             },
             "line": {
              "color": "white"
             }
            },
            "type": "table"
           }
          ]
         },
         "layout": {
          "annotationdefaults": {
           "arrowcolor": "#2a3f5f",
           "arrowhead": 0,
           "arrowwidth": 1
          },
          "autotypenumbers": "strict",
          "coloraxis": {
           "colorbar": {
            "outlinewidth": 0,
            "ticks": ""
           }
          },
          "colorscale": {
           "diverging": [
            [
             0,
             "#8e0152"
            ],
            [
             0.1,
             "#c51b7d"
            ],
            [
             0.2,
             "#de77ae"
            ],
            [
             0.3,
             "#f1b6da"
            ],
            [
             0.4,
             "#fde0ef"
            ],
            [
             0.5,
             "#f7f7f7"
            ],
            [
             0.6,
             "#e6f5d0"
            ],
            [
             0.7,
             "#b8e186"
            ],
            [
             0.8,
             "#7fbc41"
            ],
            [
             0.9,
             "#4d9221"
            ],
            [
             1,
             "#276419"
            ]
           ],
           "sequential": [
            [
             0,
             "#0d0887"
            ],
            [
             0.1111111111111111,
             "#46039f"
            ],
            [
             0.2222222222222222,
             "#7201a8"
            ],
            [
             0.3333333333333333,
             "#9c179e"
            ],
            [
             0.4444444444444444,
             "#bd3786"
            ],
            [
             0.5555555555555556,
             "#d8576b"
            ],
            [
             0.6666666666666666,
             "#ed7953"
            ],
            [
             0.7777777777777778,
             "#fb9f3a"
            ],
            [
             0.8888888888888888,
             "#fdca26"
            ],
            [
             1,
             "#f0f921"
            ]
           ],
           "sequentialminus": [
            [
             0,
             "#0d0887"
            ],
            [
             0.1111111111111111,
             "#46039f"
            ],
            [
             0.2222222222222222,
             "#7201a8"
            ],
            [
             0.3333333333333333,
             "#9c179e"
            ],
            [
             0.4444444444444444,
             "#bd3786"
            ],
            [
             0.5555555555555556,
             "#d8576b"
            ],
            [
             0.6666666666666666,
             "#ed7953"
            ],
            [
             0.7777777777777778,
             "#fb9f3a"
            ],
            [
             0.8888888888888888,
             "#fdca26"
            ],
            [
             1,
             "#f0f921"
            ]
           ]
          },
          "colorway": [
           "#636efa",
           "#EF553B",
           "#00cc96",
           "#ab63fa",
           "#FFA15A",
           "#19d3f3",
           "#FF6692",
           "#B6E880",
           "#FF97FF",
           "#FECB52"
          ],
          "font": {
           "color": "#2a3f5f"
          },
          "geo": {
           "bgcolor": "white",
           "lakecolor": "white",
           "landcolor": "#E5ECF6",
           "showlakes": true,
           "showland": true,
           "subunitcolor": "white"
          },
          "hoverlabel": {
           "align": "left"
          },
          "hovermode": "closest",
          "mapbox": {
           "style": "light"
          },
          "paper_bgcolor": "white",
          "plot_bgcolor": "#E5ECF6",
          "polar": {
           "angularaxis": {
            "gridcolor": "white",
            "linecolor": "white",
            "ticks": ""
           },
           "bgcolor": "#E5ECF6",
           "radialaxis": {
            "gridcolor": "white",
            "linecolor": "white",
            "ticks": ""
           }
          },
          "scene": {
           "xaxis": {
            "backgroundcolor": "#E5ECF6",
            "gridcolor": "white",
            "gridwidth": 2,
            "linecolor": "white",
            "showbackground": true,
            "ticks": "",
            "zerolinecolor": "white"
           },
           "yaxis": {
            "backgroundcolor": "#E5ECF6",
            "gridcolor": "white",
            "gridwidth": 2,
            "linecolor": "white",
            "showbackground": true,
            "ticks": "",
            "zerolinecolor": "white"
           },
           "zaxis": {
            "backgroundcolor": "#E5ECF6",
            "gridcolor": "white",
            "gridwidth": 2,
            "linecolor": "white",
            "showbackground": true,
            "ticks": "",
            "zerolinecolor": "white"
           }
          },
          "shapedefaults": {
           "line": {
            "color": "#2a3f5f"
           }
          },
          "ternary": {
           "aaxis": {
            "gridcolor": "white",
            "linecolor": "white",
            "ticks": ""
           },
           "baxis": {
            "gridcolor": "white",
            "linecolor": "white",
            "ticks": ""
           },
           "bgcolor": "#E5ECF6",
           "caxis": {
            "gridcolor": "white",
            "linecolor": "white",
            "ticks": ""
           }
          },
          "title": {
           "x": 0.05
          },
          "xaxis": {
           "automargin": true,
           "gridcolor": "white",
           "linecolor": "white",
           "ticks": "",
           "title": {
            "standoff": 15
           },
           "zerolinecolor": "white",
           "zerolinewidth": 2
          },
          "yaxis": {
           "automargin": true,
           "gridcolor": "white",
           "linecolor": "white",
           "ticks": "",
           "title": {
            "standoff": 15
           },
           "zerolinecolor": "white",
           "zerolinewidth": 2
          }
         }
        },
        "title": {
         "font": {
          "color": "#4D5663"
         }
        },
        "xaxis": {
         "gridcolor": "#E1E5ED",
         "showgrid": true,
         "tickfont": {
          "color": "#4D5663"
         },
         "title": {
          "font": {
           "color": "#4D5663"
          },
          "text": ""
         },
         "zerolinecolor": "#E1E5ED"
        },
        "yaxis": {
         "gridcolor": "#E1E5ED",
         "showgrid": true,
         "tickfont": {
          "color": "#4D5663"
         },
         "title": {
          "font": {
           "color": "#4D5663"
          },
          "text": ""
         },
         "zerolinecolor": "#E1E5ED"
        }
       }
      },
      "text/html": [
       "<div>                            <div id=\"e0baedc4-6411-4f80-80f1-1f2f9811eff3\" class=\"plotly-graph-div\" style=\"height:525px; width:100%;\"></div>            <script type=\"text/javascript\">                require([\"plotly\"], function(Plotly) {                    window.PLOTLYENV=window.PLOTLYENV || {};\n",
       "                    window.PLOTLYENV.BASE_URL='https://plot.ly';                                    if (document.getElementById(\"e0baedc4-6411-4f80-80f1-1f2f9811eff3\")) {                    Plotly.newPlot(                        \"e0baedc4-6411-4f80-80f1-1f2f9811eff3\",                        [{\"line\":{\"color\":\"rgba(255, 153, 51, 1.0)\",\"dash\":\"solid\",\"shape\":\"linear\",\"width\":1.3},\"marker\":{\"size\":10,\"symbol\":\"circle\"},\"mode\":\"markers\",\"name\":\"B\",\"text\":\"\",\"x\":[-0.6912741429033772,2.6385271622920055,-0.7602857136434306,-0.17989398726623554,1.1314908404810518,-0.9236277429682401,0.5738678190716883,0.9864544801541595,0.32279219540734283,0.5885178288924707,0.5024994967413074,0.33207596909749637,0.6161296323145041,0.09859447753227293,-0.8227834082627532,0.28464354765094746,-0.947342488658302,-0.8548769790411005,1.0921015040745041,-0.6059906110102712,0.7134665644043366,0.2506753216842416,0.5704988886012403,-0.9001676759617967,1.5577514195590443,-0.8935476824587619,-1.643208970155166,0.9744088602730071,-0.29420623561316916,-0.5779436336856351,-1.3840170311282365,2.314676910076252,0.6415398505272547,-0.8002006468597685,0.6922191370110591,-1.0337120485296762,0.27265670125524993,-0.5797583333024258,0.5447513266398479,1.2410264787389498,-0.3170328105037755,0.9375460090151588,0.2879885443792549,-1.6938341411969675,-0.07472009167841874,0.5060026725044797,-0.8504009261137909,0.732510438788298,2.239796161013942,0.7692758256658025,-0.327999523823669,-0.0522999588114854,0.7404336785517659,1.006511440200384,-1.0954078070436444,-0.694419007954893,0.9170675514111376,0.2410176623597317,-1.1417311818412559,-2.036168540701319,-0.5852200554789933,-0.08187573553144036,-0.0108941525886899,0.5043090936377923,-0.009038725156449571,0.37521561129710973,0.5454233016591511,-1.2019374781761154,-1.2164146034848031,-1.5521771642600135,1.5260481075021362,0.7511200123355126,-1.201730403956396,2.2280888976822624,-0.15975558174063254,-0.21141327351955494,0.3060476425825168,-0.20791345635292988,0.9746962275768414,-0.3798940618161446,-1.2099430641956597,-0.07687618710847464,0.04855691969444076,1.6219188475758473,-2.1694340031988157,1.1071533539052,1.228055445210511,0.9847854355920682,-1.7122298669622624,-0.23909369014186913,0.9571627095229488,0.2050568135377792,-0.9270560083471667,0.974859311003513,0.37850037510517365,0.47070287060999044,0.8239361128145453,0.9503701842417043,0.3020754261820294,0.5335541974559987],\"y\":[-0.9399902999168411,-1.9423380705231792,0.4522164949791178,-1.4487787439238513,0.6801991481379681,-0.9371935088416633,-0.017229639492253413,-0.258876955937129,-1.0817046480966666,-0.6355540706675884,-0.5095868553778142,1.0783223972420422,0.1658907389286997,0.6321115178431862,-0.3158816940165806,1.1039231468906006,-0.49906935443041817,-0.6315137548742901,0.4726907486757533,0.2785663383433755,0.6756828406946835,-0.1937357330418802,0.5631093809666425,0.09076004610545052,-0.08080029963722939,-0.24121391840168532,-0.8838536665321517,-0.16955688742526506,0.5456960917581483,0.3461823440618255,0.8838886872681287,0.6007935651747616,-0.554952740896429,0.16087588010661694,0.7139512276978098,0.7836504954457244,-0.7468182950644572,-1.2852739351722766,-0.7377216443690595,0.7879482149641246,0.6888763990791642,2.0131037127401514,-0.9590282314305115,-0.08995759073683214,0.29072502929996125,1.6081002671179545,-0.11460765764050192,-1.187598726286891,0.9591573131300998,-1.0752516355918234,-0.13931574040481506,0.4015932029670253,0.15440121837917983,-0.38647080941415796,-1.3210927141383915,0.8642920456342552,0.6015658553512785,0.14569108608113243,0.6947284302526355,-0.7024617110754191,0.1651577477071164,-0.407736164353038,2.1840342297316826,-0.596291435423442,-1.8856920299159774,-0.3345990732118949,-1.7415128836734322,0.6112073340788858,1.7548265817244395,0.9293380526290771,-1.373294835797414,0.03127355648398631,0.4160208366523142,-0.11088801603936746,0.9221175098804136,-1.1576877119234141,-0.39813707295622613,-1.0592320235705353,0.37986665125962565,-0.5570483578397022,0.6777186339963158,-0.38644735124934115,-0.46445620006442506,-0.4250050264070511,1.0890493493481044,-1.4627988247249566,-0.470768139390512,-0.18899810886234358,0.4654101860415952,1.6779775844139893,-1.876317969649985,-0.1702025954803815,0.7386275124863215,-0.995687819654236,0.5688961016409643,0.003505412674648637,0.7707394956863137,0.25837287808466486,-1.3123051555731073,-0.14547432429903318],\"type\":\"scatter\"}],                        {\"legend\":{\"bgcolor\":\"#F5F6F9\",\"font\":{\"color\":\"#4D5663\"}},\"paper_bgcolor\":\"#F5F6F9\",\"plot_bgcolor\":\"#F5F6F9\",\"template\":{\"data\":{\"barpolar\":[{\"marker\":{\"line\":{\"color\":\"#E5ECF6\",\"width\":0.5},\"pattern\":{\"fillmode\":\"overlay\",\"size\":10,\"solidity\":0.2}},\"type\":\"barpolar\"}],\"bar\":[{\"error_x\":{\"color\":\"#2a3f5f\"},\"error_y\":{\"color\":\"#2a3f5f\"},\"marker\":{\"line\":{\"color\":\"#E5ECF6\",\"width\":0.5},\"pattern\":{\"fillmode\":\"overlay\",\"size\":10,\"solidity\":0.2}},\"type\":\"bar\"}],\"carpet\":[{\"aaxis\":{\"endlinecolor\":\"#2a3f5f\",\"gridcolor\":\"white\",\"linecolor\":\"white\",\"minorgridcolor\":\"white\",\"startlinecolor\":\"#2a3f5f\"},\"baxis\":{\"endlinecolor\":\"#2a3f5f\",\"gridcolor\":\"white\",\"linecolor\":\"white\",\"minorgridcolor\":\"white\",\"startlinecolor\":\"#2a3f5f\"},\"type\":\"carpet\"}],\"choropleth\":[{\"colorbar\":{\"outlinewidth\":0,\"ticks\":\"\"},\"type\":\"choropleth\"}],\"contourcarpet\":[{\"colorbar\":{\"outlinewidth\":0,\"ticks\":\"\"},\"type\":\"contourcarpet\"}],\"contour\":[{\"colorbar\":{\"outlinewidth\":0,\"ticks\":\"\"},\"colorscale\":[[0.0,\"#0d0887\"],[0.1111111111111111,\"#46039f\"],[0.2222222222222222,\"#7201a8\"],[0.3333333333333333,\"#9c179e\"],[0.4444444444444444,\"#bd3786\"],[0.5555555555555556,\"#d8576b\"],[0.6666666666666666,\"#ed7953\"],[0.7777777777777778,\"#fb9f3a\"],[0.8888888888888888,\"#fdca26\"],[1.0,\"#f0f921\"]],\"type\":\"contour\"}],\"heatmapgl\":[{\"colorbar\":{\"outlinewidth\":0,\"ticks\":\"\"},\"colorscale\":[[0.0,\"#0d0887\"],[0.1111111111111111,\"#46039f\"],[0.2222222222222222,\"#7201a8\"],[0.3333333333333333,\"#9c179e\"],[0.4444444444444444,\"#bd3786\"],[0.5555555555555556,\"#d8576b\"],[0.6666666666666666,\"#ed7953\"],[0.7777777777777778,\"#fb9f3a\"],[0.8888888888888888,\"#fdca26\"],[1.0,\"#f0f921\"]],\"type\":\"heatmapgl\"}],\"heatmap\":[{\"colorbar\":{\"outlinewidth\":0,\"ticks\":\"\"},\"colorscale\":[[0.0,\"#0d0887\"],[0.1111111111111111,\"#46039f\"],[0.2222222222222222,\"#7201a8\"],[0.3333333333333333,\"#9c179e\"],[0.4444444444444444,\"#bd3786\"],[0.5555555555555556,\"#d8576b\"],[0.6666666666666666,\"#ed7953\"],[0.7777777777777778,\"#fb9f3a\"],[0.8888888888888888,\"#fdca26\"],[1.0,\"#f0f921\"]],\"type\":\"heatmap\"}],\"histogram2dcontour\":[{\"colorbar\":{\"outlinewidth\":0,\"ticks\":\"\"},\"colorscale\":[[0.0,\"#0d0887\"],[0.1111111111111111,\"#46039f\"],[0.2222222222222222,\"#7201a8\"],[0.3333333333333333,\"#9c179e\"],[0.4444444444444444,\"#bd3786\"],[0.5555555555555556,\"#d8576b\"],[0.6666666666666666,\"#ed7953\"],[0.7777777777777778,\"#fb9f3a\"],[0.8888888888888888,\"#fdca26\"],[1.0,\"#f0f921\"]],\"type\":\"histogram2dcontour\"}],\"histogram2d\":[{\"colorbar\":{\"outlinewidth\":0,\"ticks\":\"\"},\"colorscale\":[[0.0,\"#0d0887\"],[0.1111111111111111,\"#46039f\"],[0.2222222222222222,\"#7201a8\"],[0.3333333333333333,\"#9c179e\"],[0.4444444444444444,\"#bd3786\"],[0.5555555555555556,\"#d8576b\"],[0.6666666666666666,\"#ed7953\"],[0.7777777777777778,\"#fb9f3a\"],[0.8888888888888888,\"#fdca26\"],[1.0,\"#f0f921\"]],\"type\":\"histogram2d\"}],\"histogram\":[{\"marker\":{\"pattern\":{\"fillmode\":\"overlay\",\"size\":10,\"solidity\":0.2}},\"type\":\"histogram\"}],\"mesh3d\":[{\"colorbar\":{\"outlinewidth\":0,\"ticks\":\"\"},\"type\":\"mesh3d\"}],\"parcoords\":[{\"line\":{\"colorbar\":{\"outlinewidth\":0,\"ticks\":\"\"}},\"type\":\"parcoords\"}],\"pie\":[{\"automargin\":true,\"type\":\"pie\"}],\"scatter3d\":[{\"line\":{\"colorbar\":{\"outlinewidth\":0,\"ticks\":\"\"}},\"marker\":{\"colorbar\":{\"outlinewidth\":0,\"ticks\":\"\"}},\"type\":\"scatter3d\"}],\"scattercarpet\":[{\"marker\":{\"colorbar\":{\"outlinewidth\":0,\"ticks\":\"\"}},\"type\":\"scattercarpet\"}],\"scattergeo\":[{\"marker\":{\"colorbar\":{\"outlinewidth\":0,\"ticks\":\"\"}},\"type\":\"scattergeo\"}],\"scattergl\":[{\"marker\":{\"colorbar\":{\"outlinewidth\":0,\"ticks\":\"\"}},\"type\":\"scattergl\"}],\"scattermapbox\":[{\"marker\":{\"colorbar\":{\"outlinewidth\":0,\"ticks\":\"\"}},\"type\":\"scattermapbox\"}],\"scatterpolargl\":[{\"marker\":{\"colorbar\":{\"outlinewidth\":0,\"ticks\":\"\"}},\"type\":\"scatterpolargl\"}],\"scatterpolar\":[{\"marker\":{\"colorbar\":{\"outlinewidth\":0,\"ticks\":\"\"}},\"type\":\"scatterpolar\"}],\"scatter\":[{\"marker\":{\"colorbar\":{\"outlinewidth\":0,\"ticks\":\"\"}},\"type\":\"scatter\"}],\"scatterternary\":[{\"marker\":{\"colorbar\":{\"outlinewidth\":0,\"ticks\":\"\"}},\"type\":\"scatterternary\"}],\"surface\":[{\"colorbar\":{\"outlinewidth\":0,\"ticks\":\"\"},\"colorscale\":[[0.0,\"#0d0887\"],[0.1111111111111111,\"#46039f\"],[0.2222222222222222,\"#7201a8\"],[0.3333333333333333,\"#9c179e\"],[0.4444444444444444,\"#bd3786\"],[0.5555555555555556,\"#d8576b\"],[0.6666666666666666,\"#ed7953\"],[0.7777777777777778,\"#fb9f3a\"],[0.8888888888888888,\"#fdca26\"],[1.0,\"#f0f921\"]],\"type\":\"surface\"}],\"table\":[{\"cells\":{\"fill\":{\"color\":\"#EBF0F8\"},\"line\":{\"color\":\"white\"}},\"header\":{\"fill\":{\"color\":\"#C8D4E3\"},\"line\":{\"color\":\"white\"}},\"type\":\"table\"}]},\"layout\":{\"annotationdefaults\":{\"arrowcolor\":\"#2a3f5f\",\"arrowhead\":0,\"arrowwidth\":1},\"autotypenumbers\":\"strict\",\"coloraxis\":{\"colorbar\":{\"outlinewidth\":0,\"ticks\":\"\"}},\"colorscale\":{\"diverging\":[[0,\"#8e0152\"],[0.1,\"#c51b7d\"],[0.2,\"#de77ae\"],[0.3,\"#f1b6da\"],[0.4,\"#fde0ef\"],[0.5,\"#f7f7f7\"],[0.6,\"#e6f5d0\"],[0.7,\"#b8e186\"],[0.8,\"#7fbc41\"],[0.9,\"#4d9221\"],[1,\"#276419\"]],\"sequential\":[[0.0,\"#0d0887\"],[0.1111111111111111,\"#46039f\"],[0.2222222222222222,\"#7201a8\"],[0.3333333333333333,\"#9c179e\"],[0.4444444444444444,\"#bd3786\"],[0.5555555555555556,\"#d8576b\"],[0.6666666666666666,\"#ed7953\"],[0.7777777777777778,\"#fb9f3a\"],[0.8888888888888888,\"#fdca26\"],[1.0,\"#f0f921\"]],\"sequentialminus\":[[0.0,\"#0d0887\"],[0.1111111111111111,\"#46039f\"],[0.2222222222222222,\"#7201a8\"],[0.3333333333333333,\"#9c179e\"],[0.4444444444444444,\"#bd3786\"],[0.5555555555555556,\"#d8576b\"],[0.6666666666666666,\"#ed7953\"],[0.7777777777777778,\"#fb9f3a\"],[0.8888888888888888,\"#fdca26\"],[1.0,\"#f0f921\"]]},\"colorway\":[\"#636efa\",\"#EF553B\",\"#00cc96\",\"#ab63fa\",\"#FFA15A\",\"#19d3f3\",\"#FF6692\",\"#B6E880\",\"#FF97FF\",\"#FECB52\"],\"font\":{\"color\":\"#2a3f5f\"},\"geo\":{\"bgcolor\":\"white\",\"lakecolor\":\"white\",\"landcolor\":\"#E5ECF6\",\"showlakes\":true,\"showland\":true,\"subunitcolor\":\"white\"},\"hoverlabel\":{\"align\":\"left\"},\"hovermode\":\"closest\",\"mapbox\":{\"style\":\"light\"},\"paper_bgcolor\":\"white\",\"plot_bgcolor\":\"#E5ECF6\",\"polar\":{\"angularaxis\":{\"gridcolor\":\"white\",\"linecolor\":\"white\",\"ticks\":\"\"},\"bgcolor\":\"#E5ECF6\",\"radialaxis\":{\"gridcolor\":\"white\",\"linecolor\":\"white\",\"ticks\":\"\"}},\"scene\":{\"xaxis\":{\"backgroundcolor\":\"#E5ECF6\",\"gridcolor\":\"white\",\"gridwidth\":2,\"linecolor\":\"white\",\"showbackground\":true,\"ticks\":\"\",\"zerolinecolor\":\"white\"},\"yaxis\":{\"backgroundcolor\":\"#E5ECF6\",\"gridcolor\":\"white\",\"gridwidth\":2,\"linecolor\":\"white\",\"showbackground\":true,\"ticks\":\"\",\"zerolinecolor\":\"white\"},\"zaxis\":{\"backgroundcolor\":\"#E5ECF6\",\"gridcolor\":\"white\",\"gridwidth\":2,\"linecolor\":\"white\",\"showbackground\":true,\"ticks\":\"\",\"zerolinecolor\":\"white\"}},\"shapedefaults\":{\"line\":{\"color\":\"#2a3f5f\"}},\"ternary\":{\"aaxis\":{\"gridcolor\":\"white\",\"linecolor\":\"white\",\"ticks\":\"\"},\"baxis\":{\"gridcolor\":\"white\",\"linecolor\":\"white\",\"ticks\":\"\"},\"bgcolor\":\"#E5ECF6\",\"caxis\":{\"gridcolor\":\"white\",\"linecolor\":\"white\",\"ticks\":\"\"}},\"title\":{\"x\":0.05},\"xaxis\":{\"automargin\":true,\"gridcolor\":\"white\",\"linecolor\":\"white\",\"ticks\":\"\",\"title\":{\"standoff\":15},\"zerolinecolor\":\"white\",\"zerolinewidth\":2},\"yaxis\":{\"automargin\":true,\"gridcolor\":\"white\",\"linecolor\":\"white\",\"ticks\":\"\",\"title\":{\"standoff\":15},\"zerolinecolor\":\"white\",\"zerolinewidth\":2}}},\"title\":{\"font\":{\"color\":\"#4D5663\"}},\"xaxis\":{\"gridcolor\":\"#E1E5ED\",\"showgrid\":true,\"tickfont\":{\"color\":\"#4D5663\"},\"title\":{\"font\":{\"color\":\"#4D5663\"},\"text\":\"\"},\"zerolinecolor\":\"#E1E5ED\"},\"yaxis\":{\"gridcolor\":\"#E1E5ED\",\"showgrid\":true,\"tickfont\":{\"color\":\"#4D5663\"},\"title\":{\"font\":{\"color\":\"#4D5663\"},\"text\":\"\"},\"zerolinecolor\":\"#E1E5ED\"}},                        {\"showLink\": true, \"linkText\": \"Export to plot.ly\", \"plotlyServerURL\": \"https://plot.ly\", \"responsive\": true}                    ).then(function(){\n",
       "                            \n",
       "var gd = document.getElementById('e0baedc4-6411-4f80-80f1-1f2f9811eff3');\n",
       "var x = new MutationObserver(function (mutations, observer) {{\n",
       "        var display = window.getComputedStyle(gd).display;\n",
       "        if (!display || display === 'none') {{\n",
       "            console.log([gd, 'removed!']);\n",
       "            Plotly.purge(gd);\n",
       "            observer.disconnect();\n",
       "        }}\n",
       "}});\n",
       "\n",
       "// Listen for the removal of the full notebook cells\n",
       "var notebookContainer = gd.closest('#notebook-container');\n",
       "if (notebookContainer) {{\n",
       "    x.observe(notebookContainer, {childList: true});\n",
       "}}\n",
       "\n",
       "// Listen for the clearing of the current output cell\n",
       "var outputEl = gd.closest('.output');\n",
       "if (outputEl) {{\n",
       "    x.observe(outputEl, {childList: true});\n",
       "}}\n",
       "\n",
       "                        })                };                });            </script>        </div>"
      ]
     },
     "metadata": {},
     "output_type": "display_data"
    }
   ],
   "source": [
    "df.iplot(kind='scatter',x='A',y='B',mode='markers',size=10)\n",
    "    # It will stop plotly from including lines\n",
    "    # size will control the marker size"
   ]
  },
  {
   "cell_type": "code",
   "execution_count": 21,
   "id": "23971e1c",
   "metadata": {},
   "outputs": [],
   "source": [
    "# barplot"
   ]
  },
  {
   "cell_type": "code",
   "execution_count": 22,
   "id": "5320c19a",
   "metadata": {},
   "outputs": [
    {
     "data": {
      "text/html": [
       "<div>\n",
       "<style scoped>\n",
       "    .dataframe tbody tr th:only-of-type {\n",
       "        vertical-align: middle;\n",
       "    }\n",
       "\n",
       "    .dataframe tbody tr th {\n",
       "        vertical-align: top;\n",
       "    }\n",
       "\n",
       "    .dataframe thead th {\n",
       "        text-align: right;\n",
       "    }\n",
       "</style>\n",
       "<table border=\"1\" class=\"dataframe\">\n",
       "  <thead>\n",
       "    <tr style=\"text-align: right;\">\n",
       "      <th></th>\n",
       "      <th>Category</th>\n",
       "      <th>Values</th>\n",
       "    </tr>\n",
       "  </thead>\n",
       "  <tbody>\n",
       "    <tr>\n",
       "      <th>0</th>\n",
       "      <td>A</td>\n",
       "      <td>32</td>\n",
       "    </tr>\n",
       "    <tr>\n",
       "      <th>1</th>\n",
       "      <td>B</td>\n",
       "      <td>43</td>\n",
       "    </tr>\n",
       "    <tr>\n",
       "      <th>2</th>\n",
       "      <td>C</td>\n",
       "      <td>50</td>\n",
       "    </tr>\n",
       "  </tbody>\n",
       "</table>\n",
       "</div>"
      ],
      "text/plain": [
       "  Category  Values\n",
       "0        A      32\n",
       "1        B      43\n",
       "2        C      50"
      ]
     },
     "execution_count": 22,
     "metadata": {},
     "output_type": "execute_result"
    }
   ],
   "source": [
    "df2"
   ]
  },
  {
   "cell_type": "code",
   "execution_count": 23,
   "id": "27ec4fdf",
   "metadata": {},
   "outputs": [
    {
     "data": {
      "application/vnd.plotly.v1+json": {
       "config": {
        "linkText": "Export to plot.ly",
        "plotlyServerURL": "https://plot.ly",
        "showLink": true
       },
       "data": [
        {
         "marker": {
          "color": "rgba(255, 153, 51, 0.6)",
          "line": {
           "color": "rgba(255, 153, 51, 1.0)",
           "width": 1
          }
         },
         "name": "Values",
         "orientation": "v",
         "text": "",
         "type": "bar",
         "x": [
          "A",
          "B",
          "C"
         ],
         "y": [
          32,
          43,
          50
         ]
        }
       ],
       "layout": {
        "legend": {
         "bgcolor": "#F5F6F9",
         "font": {
          "color": "#4D5663"
         }
        },
        "paper_bgcolor": "#F5F6F9",
        "plot_bgcolor": "#F5F6F9",
        "template": {
         "data": {
          "bar": [
           {
            "error_x": {
             "color": "#2a3f5f"
            },
            "error_y": {
             "color": "#2a3f5f"
            },
            "marker": {
             "line": {
              "color": "#E5ECF6",
              "width": 0.5
             },
             "pattern": {
              "fillmode": "overlay",
              "size": 10,
              "solidity": 0.2
             }
            },
            "type": "bar"
           }
          ],
          "barpolar": [
           {
            "marker": {
             "line": {
              "color": "#E5ECF6",
              "width": 0.5
             },
             "pattern": {
              "fillmode": "overlay",
              "size": 10,
              "solidity": 0.2
             }
            },
            "type": "barpolar"
           }
          ],
          "carpet": [
           {
            "aaxis": {
             "endlinecolor": "#2a3f5f",
             "gridcolor": "white",
             "linecolor": "white",
             "minorgridcolor": "white",
             "startlinecolor": "#2a3f5f"
            },
            "baxis": {
             "endlinecolor": "#2a3f5f",
             "gridcolor": "white",
             "linecolor": "white",
             "minorgridcolor": "white",
             "startlinecolor": "#2a3f5f"
            },
            "type": "carpet"
           }
          ],
          "choropleth": [
           {
            "colorbar": {
             "outlinewidth": 0,
             "ticks": ""
            },
            "type": "choropleth"
           }
          ],
          "contour": [
           {
            "colorbar": {
             "outlinewidth": 0,
             "ticks": ""
            },
            "colorscale": [
             [
              0,
              "#0d0887"
             ],
             [
              0.1111111111111111,
              "#46039f"
             ],
             [
              0.2222222222222222,
              "#7201a8"
             ],
             [
              0.3333333333333333,
              "#9c179e"
             ],
             [
              0.4444444444444444,
              "#bd3786"
             ],
             [
              0.5555555555555556,
              "#d8576b"
             ],
             [
              0.6666666666666666,
              "#ed7953"
             ],
             [
              0.7777777777777778,
              "#fb9f3a"
             ],
             [
              0.8888888888888888,
              "#fdca26"
             ],
             [
              1,
              "#f0f921"
             ]
            ],
            "type": "contour"
           }
          ],
          "contourcarpet": [
           {
            "colorbar": {
             "outlinewidth": 0,
             "ticks": ""
            },
            "type": "contourcarpet"
           }
          ],
          "heatmap": [
           {
            "colorbar": {
             "outlinewidth": 0,
             "ticks": ""
            },
            "colorscale": [
             [
              0,
              "#0d0887"
             ],
             [
              0.1111111111111111,
              "#46039f"
             ],
             [
              0.2222222222222222,
              "#7201a8"
             ],
             [
              0.3333333333333333,
              "#9c179e"
             ],
             [
              0.4444444444444444,
              "#bd3786"
             ],
             [
              0.5555555555555556,
              "#d8576b"
             ],
             [
              0.6666666666666666,
              "#ed7953"
             ],
             [
              0.7777777777777778,
              "#fb9f3a"
             ],
             [
              0.8888888888888888,
              "#fdca26"
             ],
             [
              1,
              "#f0f921"
             ]
            ],
            "type": "heatmap"
           }
          ],
          "heatmapgl": [
           {
            "colorbar": {
             "outlinewidth": 0,
             "ticks": ""
            },
            "colorscale": [
             [
              0,
              "#0d0887"
             ],
             [
              0.1111111111111111,
              "#46039f"
             ],
             [
              0.2222222222222222,
              "#7201a8"
             ],
             [
              0.3333333333333333,
              "#9c179e"
             ],
             [
              0.4444444444444444,
              "#bd3786"
             ],
             [
              0.5555555555555556,
              "#d8576b"
             ],
             [
              0.6666666666666666,
              "#ed7953"
             ],
             [
              0.7777777777777778,
              "#fb9f3a"
             ],
             [
              0.8888888888888888,
              "#fdca26"
             ],
             [
              1,
              "#f0f921"
             ]
            ],
            "type": "heatmapgl"
           }
          ],
          "histogram": [
           {
            "marker": {
             "pattern": {
              "fillmode": "overlay",
              "size": 10,
              "solidity": 0.2
             }
            },
            "type": "histogram"
           }
          ],
          "histogram2d": [
           {
            "colorbar": {
             "outlinewidth": 0,
             "ticks": ""
            },
            "colorscale": [
             [
              0,
              "#0d0887"
             ],
             [
              0.1111111111111111,
              "#46039f"
             ],
             [
              0.2222222222222222,
              "#7201a8"
             ],
             [
              0.3333333333333333,
              "#9c179e"
             ],
             [
              0.4444444444444444,
              "#bd3786"
             ],
             [
              0.5555555555555556,
              "#d8576b"
             ],
             [
              0.6666666666666666,
              "#ed7953"
             ],
             [
              0.7777777777777778,
              "#fb9f3a"
             ],
             [
              0.8888888888888888,
              "#fdca26"
             ],
             [
              1,
              "#f0f921"
             ]
            ],
            "type": "histogram2d"
           }
          ],
          "histogram2dcontour": [
           {
            "colorbar": {
             "outlinewidth": 0,
             "ticks": ""
            },
            "colorscale": [
             [
              0,
              "#0d0887"
             ],
             [
              0.1111111111111111,
              "#46039f"
             ],
             [
              0.2222222222222222,
              "#7201a8"
             ],
             [
              0.3333333333333333,
              "#9c179e"
             ],
             [
              0.4444444444444444,
              "#bd3786"
             ],
             [
              0.5555555555555556,
              "#d8576b"
             ],
             [
              0.6666666666666666,
              "#ed7953"
             ],
             [
              0.7777777777777778,
              "#fb9f3a"
             ],
             [
              0.8888888888888888,
              "#fdca26"
             ],
             [
              1,
              "#f0f921"
             ]
            ],
            "type": "histogram2dcontour"
           }
          ],
          "mesh3d": [
           {
            "colorbar": {
             "outlinewidth": 0,
             "ticks": ""
            },
            "type": "mesh3d"
           }
          ],
          "parcoords": [
           {
            "line": {
             "colorbar": {
              "outlinewidth": 0,
              "ticks": ""
             }
            },
            "type": "parcoords"
           }
          ],
          "pie": [
           {
            "automargin": true,
            "type": "pie"
           }
          ],
          "scatter": [
           {
            "marker": {
             "colorbar": {
              "outlinewidth": 0,
              "ticks": ""
             }
            },
            "type": "scatter"
           }
          ],
          "scatter3d": [
           {
            "line": {
             "colorbar": {
              "outlinewidth": 0,
              "ticks": ""
             }
            },
            "marker": {
             "colorbar": {
              "outlinewidth": 0,
              "ticks": ""
             }
            },
            "type": "scatter3d"
           }
          ],
          "scattercarpet": [
           {
            "marker": {
             "colorbar": {
              "outlinewidth": 0,
              "ticks": ""
             }
            },
            "type": "scattercarpet"
           }
          ],
          "scattergeo": [
           {
            "marker": {
             "colorbar": {
              "outlinewidth": 0,
              "ticks": ""
             }
            },
            "type": "scattergeo"
           }
          ],
          "scattergl": [
           {
            "marker": {
             "colorbar": {
              "outlinewidth": 0,
              "ticks": ""
             }
            },
            "type": "scattergl"
           }
          ],
          "scattermapbox": [
           {
            "marker": {
             "colorbar": {
              "outlinewidth": 0,
              "ticks": ""
             }
            },
            "type": "scattermapbox"
           }
          ],
          "scatterpolar": [
           {
            "marker": {
             "colorbar": {
              "outlinewidth": 0,
              "ticks": ""
             }
            },
            "type": "scatterpolar"
           }
          ],
          "scatterpolargl": [
           {
            "marker": {
             "colorbar": {
              "outlinewidth": 0,
              "ticks": ""
             }
            },
            "type": "scatterpolargl"
           }
          ],
          "scatterternary": [
           {
            "marker": {
             "colorbar": {
              "outlinewidth": 0,
              "ticks": ""
             }
            },
            "type": "scatterternary"
           }
          ],
          "surface": [
           {
            "colorbar": {
             "outlinewidth": 0,
             "ticks": ""
            },
            "colorscale": [
             [
              0,
              "#0d0887"
             ],
             [
              0.1111111111111111,
              "#46039f"
             ],
             [
              0.2222222222222222,
              "#7201a8"
             ],
             [
              0.3333333333333333,
              "#9c179e"
             ],
             [
              0.4444444444444444,
              "#bd3786"
             ],
             [
              0.5555555555555556,
              "#d8576b"
             ],
             [
              0.6666666666666666,
              "#ed7953"
             ],
             [
              0.7777777777777778,
              "#fb9f3a"
             ],
             [
              0.8888888888888888,
              "#fdca26"
             ],
             [
              1,
              "#f0f921"
             ]
            ],
            "type": "surface"
           }
          ],
          "table": [
           {
            "cells": {
             "fill": {
              "color": "#EBF0F8"
             },
             "line": {
              "color": "white"
             }
            },
            "header": {
             "fill": {
              "color": "#C8D4E3"
             },
             "line": {
              "color": "white"
             }
            },
            "type": "table"
           }
          ]
         },
         "layout": {
          "annotationdefaults": {
           "arrowcolor": "#2a3f5f",
           "arrowhead": 0,
           "arrowwidth": 1
          },
          "autotypenumbers": "strict",
          "coloraxis": {
           "colorbar": {
            "outlinewidth": 0,
            "ticks": ""
           }
          },
          "colorscale": {
           "diverging": [
            [
             0,
             "#8e0152"
            ],
            [
             0.1,
             "#c51b7d"
            ],
            [
             0.2,
             "#de77ae"
            ],
            [
             0.3,
             "#f1b6da"
            ],
            [
             0.4,
             "#fde0ef"
            ],
            [
             0.5,
             "#f7f7f7"
            ],
            [
             0.6,
             "#e6f5d0"
            ],
            [
             0.7,
             "#b8e186"
            ],
            [
             0.8,
             "#7fbc41"
            ],
            [
             0.9,
             "#4d9221"
            ],
            [
             1,
             "#276419"
            ]
           ],
           "sequential": [
            [
             0,
             "#0d0887"
            ],
            [
             0.1111111111111111,
             "#46039f"
            ],
            [
             0.2222222222222222,
             "#7201a8"
            ],
            [
             0.3333333333333333,
             "#9c179e"
            ],
            [
             0.4444444444444444,
             "#bd3786"
            ],
            [
             0.5555555555555556,
             "#d8576b"
            ],
            [
             0.6666666666666666,
             "#ed7953"
            ],
            [
             0.7777777777777778,
             "#fb9f3a"
            ],
            [
             0.8888888888888888,
             "#fdca26"
            ],
            [
             1,
             "#f0f921"
            ]
           ],
           "sequentialminus": [
            [
             0,
             "#0d0887"
            ],
            [
             0.1111111111111111,
             "#46039f"
            ],
            [
             0.2222222222222222,
             "#7201a8"
            ],
            [
             0.3333333333333333,
             "#9c179e"
            ],
            [
             0.4444444444444444,
             "#bd3786"
            ],
            [
             0.5555555555555556,
             "#d8576b"
            ],
            [
             0.6666666666666666,
             "#ed7953"
            ],
            [
             0.7777777777777778,
             "#fb9f3a"
            ],
            [
             0.8888888888888888,
             "#fdca26"
            ],
            [
             1,
             "#f0f921"
            ]
           ]
          },
          "colorway": [
           "#636efa",
           "#EF553B",
           "#00cc96",
           "#ab63fa",
           "#FFA15A",
           "#19d3f3",
           "#FF6692",
           "#B6E880",
           "#FF97FF",
           "#FECB52"
          ],
          "font": {
           "color": "#2a3f5f"
          },
          "geo": {
           "bgcolor": "white",
           "lakecolor": "white",
           "landcolor": "#E5ECF6",
           "showlakes": true,
           "showland": true,
           "subunitcolor": "white"
          },
          "hoverlabel": {
           "align": "left"
          },
          "hovermode": "closest",
          "mapbox": {
           "style": "light"
          },
          "paper_bgcolor": "white",
          "plot_bgcolor": "#E5ECF6",
          "polar": {
           "angularaxis": {
            "gridcolor": "white",
            "linecolor": "white",
            "ticks": ""
           },
           "bgcolor": "#E5ECF6",
           "radialaxis": {
            "gridcolor": "white",
            "linecolor": "white",
            "ticks": ""
           }
          },
          "scene": {
           "xaxis": {
            "backgroundcolor": "#E5ECF6",
            "gridcolor": "white",
            "gridwidth": 2,
            "linecolor": "white",
            "showbackground": true,
            "ticks": "",
            "zerolinecolor": "white"
           },
           "yaxis": {
            "backgroundcolor": "#E5ECF6",
            "gridcolor": "white",
            "gridwidth": 2,
            "linecolor": "white",
            "showbackground": true,
            "ticks": "",
            "zerolinecolor": "white"
           },
           "zaxis": {
            "backgroundcolor": "#E5ECF6",
            "gridcolor": "white",
            "gridwidth": 2,
            "linecolor": "white",
            "showbackground": true,
            "ticks": "",
            "zerolinecolor": "white"
           }
          },
          "shapedefaults": {
           "line": {
            "color": "#2a3f5f"
           }
          },
          "ternary": {
           "aaxis": {
            "gridcolor": "white",
            "linecolor": "white",
            "ticks": ""
           },
           "baxis": {
            "gridcolor": "white",
            "linecolor": "white",
            "ticks": ""
           },
           "bgcolor": "#E5ECF6",
           "caxis": {
            "gridcolor": "white",
            "linecolor": "white",
            "ticks": ""
           }
          },
          "title": {
           "x": 0.05
          },
          "xaxis": {
           "automargin": true,
           "gridcolor": "white",
           "linecolor": "white",
           "ticks": "",
           "title": {
            "standoff": 15
           },
           "zerolinecolor": "white",
           "zerolinewidth": 2
          },
          "yaxis": {
           "automargin": true,
           "gridcolor": "white",
           "linecolor": "white",
           "ticks": "",
           "title": {
            "standoff": 15
           },
           "zerolinecolor": "white",
           "zerolinewidth": 2
          }
         }
        },
        "title": {
         "font": {
          "color": "#4D5663"
         }
        },
        "xaxis": {
         "gridcolor": "#E1E5ED",
         "showgrid": true,
         "tickfont": {
          "color": "#4D5663"
         },
         "title": {
          "font": {
           "color": "#4D5663"
          },
          "text": ""
         },
         "zerolinecolor": "#E1E5ED"
        },
        "yaxis": {
         "gridcolor": "#E1E5ED",
         "showgrid": true,
         "tickfont": {
          "color": "#4D5663"
         },
         "title": {
          "font": {
           "color": "#4D5663"
          },
          "text": ""
         },
         "zerolinecolor": "#E1E5ED"
        }
       }
      },
      "text/html": [
       "<div>                            <div id=\"1a299496-24dd-43c4-b5ef-bf0efbb43ca8\" class=\"plotly-graph-div\" style=\"height:525px; width:100%;\"></div>            <script type=\"text/javascript\">                require([\"plotly\"], function(Plotly) {                    window.PLOTLYENV=window.PLOTLYENV || {};\n",
       "                    window.PLOTLYENV.BASE_URL='https://plot.ly';                                    if (document.getElementById(\"1a299496-24dd-43c4-b5ef-bf0efbb43ca8\")) {                    Plotly.newPlot(                        \"1a299496-24dd-43c4-b5ef-bf0efbb43ca8\",                        [{\"marker\":{\"color\":\"rgba(255, 153, 51, 0.6)\",\"line\":{\"color\":\"rgba(255, 153, 51, 1.0)\",\"width\":1}},\"name\":\"Values\",\"orientation\":\"v\",\"text\":\"\",\"x\":[\"A\",\"B\",\"C\"],\"y\":[32,43,50],\"type\":\"bar\"}],                        {\"legend\":{\"bgcolor\":\"#F5F6F9\",\"font\":{\"color\":\"#4D5663\"}},\"paper_bgcolor\":\"#F5F6F9\",\"plot_bgcolor\":\"#F5F6F9\",\"template\":{\"data\":{\"barpolar\":[{\"marker\":{\"line\":{\"color\":\"#E5ECF6\",\"width\":0.5},\"pattern\":{\"fillmode\":\"overlay\",\"size\":10,\"solidity\":0.2}},\"type\":\"barpolar\"}],\"bar\":[{\"error_x\":{\"color\":\"#2a3f5f\"},\"error_y\":{\"color\":\"#2a3f5f\"},\"marker\":{\"line\":{\"color\":\"#E5ECF6\",\"width\":0.5},\"pattern\":{\"fillmode\":\"overlay\",\"size\":10,\"solidity\":0.2}},\"type\":\"bar\"}],\"carpet\":[{\"aaxis\":{\"endlinecolor\":\"#2a3f5f\",\"gridcolor\":\"white\",\"linecolor\":\"white\",\"minorgridcolor\":\"white\",\"startlinecolor\":\"#2a3f5f\"},\"baxis\":{\"endlinecolor\":\"#2a3f5f\",\"gridcolor\":\"white\",\"linecolor\":\"white\",\"minorgridcolor\":\"white\",\"startlinecolor\":\"#2a3f5f\"},\"type\":\"carpet\"}],\"choropleth\":[{\"colorbar\":{\"outlinewidth\":0,\"ticks\":\"\"},\"type\":\"choropleth\"}],\"contourcarpet\":[{\"colorbar\":{\"outlinewidth\":0,\"ticks\":\"\"},\"type\":\"contourcarpet\"}],\"contour\":[{\"colorbar\":{\"outlinewidth\":0,\"ticks\":\"\"},\"colorscale\":[[0.0,\"#0d0887\"],[0.1111111111111111,\"#46039f\"],[0.2222222222222222,\"#7201a8\"],[0.3333333333333333,\"#9c179e\"],[0.4444444444444444,\"#bd3786\"],[0.5555555555555556,\"#d8576b\"],[0.6666666666666666,\"#ed7953\"],[0.7777777777777778,\"#fb9f3a\"],[0.8888888888888888,\"#fdca26\"],[1.0,\"#f0f921\"]],\"type\":\"contour\"}],\"heatmapgl\":[{\"colorbar\":{\"outlinewidth\":0,\"ticks\":\"\"},\"colorscale\":[[0.0,\"#0d0887\"],[0.1111111111111111,\"#46039f\"],[0.2222222222222222,\"#7201a8\"],[0.3333333333333333,\"#9c179e\"],[0.4444444444444444,\"#bd3786\"],[0.5555555555555556,\"#d8576b\"],[0.6666666666666666,\"#ed7953\"],[0.7777777777777778,\"#fb9f3a\"],[0.8888888888888888,\"#fdca26\"],[1.0,\"#f0f921\"]],\"type\":\"heatmapgl\"}],\"heatmap\":[{\"colorbar\":{\"outlinewidth\":0,\"ticks\":\"\"},\"colorscale\":[[0.0,\"#0d0887\"],[0.1111111111111111,\"#46039f\"],[0.2222222222222222,\"#7201a8\"],[0.3333333333333333,\"#9c179e\"],[0.4444444444444444,\"#bd3786\"],[0.5555555555555556,\"#d8576b\"],[0.6666666666666666,\"#ed7953\"],[0.7777777777777778,\"#fb9f3a\"],[0.8888888888888888,\"#fdca26\"],[1.0,\"#f0f921\"]],\"type\":\"heatmap\"}],\"histogram2dcontour\":[{\"colorbar\":{\"outlinewidth\":0,\"ticks\":\"\"},\"colorscale\":[[0.0,\"#0d0887\"],[0.1111111111111111,\"#46039f\"],[0.2222222222222222,\"#7201a8\"],[0.3333333333333333,\"#9c179e\"],[0.4444444444444444,\"#bd3786\"],[0.5555555555555556,\"#d8576b\"],[0.6666666666666666,\"#ed7953\"],[0.7777777777777778,\"#fb9f3a\"],[0.8888888888888888,\"#fdca26\"],[1.0,\"#f0f921\"]],\"type\":\"histogram2dcontour\"}],\"histogram2d\":[{\"colorbar\":{\"outlinewidth\":0,\"ticks\":\"\"},\"colorscale\":[[0.0,\"#0d0887\"],[0.1111111111111111,\"#46039f\"],[0.2222222222222222,\"#7201a8\"],[0.3333333333333333,\"#9c179e\"],[0.4444444444444444,\"#bd3786\"],[0.5555555555555556,\"#d8576b\"],[0.6666666666666666,\"#ed7953\"],[0.7777777777777778,\"#fb9f3a\"],[0.8888888888888888,\"#fdca26\"],[1.0,\"#f0f921\"]],\"type\":\"histogram2d\"}],\"histogram\":[{\"marker\":{\"pattern\":{\"fillmode\":\"overlay\",\"size\":10,\"solidity\":0.2}},\"type\":\"histogram\"}],\"mesh3d\":[{\"colorbar\":{\"outlinewidth\":0,\"ticks\":\"\"},\"type\":\"mesh3d\"}],\"parcoords\":[{\"line\":{\"colorbar\":{\"outlinewidth\":0,\"ticks\":\"\"}},\"type\":\"parcoords\"}],\"pie\":[{\"automargin\":true,\"type\":\"pie\"}],\"scatter3d\":[{\"line\":{\"colorbar\":{\"outlinewidth\":0,\"ticks\":\"\"}},\"marker\":{\"colorbar\":{\"outlinewidth\":0,\"ticks\":\"\"}},\"type\":\"scatter3d\"}],\"scattercarpet\":[{\"marker\":{\"colorbar\":{\"outlinewidth\":0,\"ticks\":\"\"}},\"type\":\"scattercarpet\"}],\"scattergeo\":[{\"marker\":{\"colorbar\":{\"outlinewidth\":0,\"ticks\":\"\"}},\"type\":\"scattergeo\"}],\"scattergl\":[{\"marker\":{\"colorbar\":{\"outlinewidth\":0,\"ticks\":\"\"}},\"type\":\"scattergl\"}],\"scattermapbox\":[{\"marker\":{\"colorbar\":{\"outlinewidth\":0,\"ticks\":\"\"}},\"type\":\"scattermapbox\"}],\"scatterpolargl\":[{\"marker\":{\"colorbar\":{\"outlinewidth\":0,\"ticks\":\"\"}},\"type\":\"scatterpolargl\"}],\"scatterpolar\":[{\"marker\":{\"colorbar\":{\"outlinewidth\":0,\"ticks\":\"\"}},\"type\":\"scatterpolar\"}],\"scatter\":[{\"marker\":{\"colorbar\":{\"outlinewidth\":0,\"ticks\":\"\"}},\"type\":\"scatter\"}],\"scatterternary\":[{\"marker\":{\"colorbar\":{\"outlinewidth\":0,\"ticks\":\"\"}},\"type\":\"scatterternary\"}],\"surface\":[{\"colorbar\":{\"outlinewidth\":0,\"ticks\":\"\"},\"colorscale\":[[0.0,\"#0d0887\"],[0.1111111111111111,\"#46039f\"],[0.2222222222222222,\"#7201a8\"],[0.3333333333333333,\"#9c179e\"],[0.4444444444444444,\"#bd3786\"],[0.5555555555555556,\"#d8576b\"],[0.6666666666666666,\"#ed7953\"],[0.7777777777777778,\"#fb9f3a\"],[0.8888888888888888,\"#fdca26\"],[1.0,\"#f0f921\"]],\"type\":\"surface\"}],\"table\":[{\"cells\":{\"fill\":{\"color\":\"#EBF0F8\"},\"line\":{\"color\":\"white\"}},\"header\":{\"fill\":{\"color\":\"#C8D4E3\"},\"line\":{\"color\":\"white\"}},\"type\":\"table\"}]},\"layout\":{\"annotationdefaults\":{\"arrowcolor\":\"#2a3f5f\",\"arrowhead\":0,\"arrowwidth\":1},\"autotypenumbers\":\"strict\",\"coloraxis\":{\"colorbar\":{\"outlinewidth\":0,\"ticks\":\"\"}},\"colorscale\":{\"diverging\":[[0,\"#8e0152\"],[0.1,\"#c51b7d\"],[0.2,\"#de77ae\"],[0.3,\"#f1b6da\"],[0.4,\"#fde0ef\"],[0.5,\"#f7f7f7\"],[0.6,\"#e6f5d0\"],[0.7,\"#b8e186\"],[0.8,\"#7fbc41\"],[0.9,\"#4d9221\"],[1,\"#276419\"]],\"sequential\":[[0.0,\"#0d0887\"],[0.1111111111111111,\"#46039f\"],[0.2222222222222222,\"#7201a8\"],[0.3333333333333333,\"#9c179e\"],[0.4444444444444444,\"#bd3786\"],[0.5555555555555556,\"#d8576b\"],[0.6666666666666666,\"#ed7953\"],[0.7777777777777778,\"#fb9f3a\"],[0.8888888888888888,\"#fdca26\"],[1.0,\"#f0f921\"]],\"sequentialminus\":[[0.0,\"#0d0887\"],[0.1111111111111111,\"#46039f\"],[0.2222222222222222,\"#7201a8\"],[0.3333333333333333,\"#9c179e\"],[0.4444444444444444,\"#bd3786\"],[0.5555555555555556,\"#d8576b\"],[0.6666666666666666,\"#ed7953\"],[0.7777777777777778,\"#fb9f3a\"],[0.8888888888888888,\"#fdca26\"],[1.0,\"#f0f921\"]]},\"colorway\":[\"#636efa\",\"#EF553B\",\"#00cc96\",\"#ab63fa\",\"#FFA15A\",\"#19d3f3\",\"#FF6692\",\"#B6E880\",\"#FF97FF\",\"#FECB52\"],\"font\":{\"color\":\"#2a3f5f\"},\"geo\":{\"bgcolor\":\"white\",\"lakecolor\":\"white\",\"landcolor\":\"#E5ECF6\",\"showlakes\":true,\"showland\":true,\"subunitcolor\":\"white\"},\"hoverlabel\":{\"align\":\"left\"},\"hovermode\":\"closest\",\"mapbox\":{\"style\":\"light\"},\"paper_bgcolor\":\"white\",\"plot_bgcolor\":\"#E5ECF6\",\"polar\":{\"angularaxis\":{\"gridcolor\":\"white\",\"linecolor\":\"white\",\"ticks\":\"\"},\"bgcolor\":\"#E5ECF6\",\"radialaxis\":{\"gridcolor\":\"white\",\"linecolor\":\"white\",\"ticks\":\"\"}},\"scene\":{\"xaxis\":{\"backgroundcolor\":\"#E5ECF6\",\"gridcolor\":\"white\",\"gridwidth\":2,\"linecolor\":\"white\",\"showbackground\":true,\"ticks\":\"\",\"zerolinecolor\":\"white\"},\"yaxis\":{\"backgroundcolor\":\"#E5ECF6\",\"gridcolor\":\"white\",\"gridwidth\":2,\"linecolor\":\"white\",\"showbackground\":true,\"ticks\":\"\",\"zerolinecolor\":\"white\"},\"zaxis\":{\"backgroundcolor\":\"#E5ECF6\",\"gridcolor\":\"white\",\"gridwidth\":2,\"linecolor\":\"white\",\"showbackground\":true,\"ticks\":\"\",\"zerolinecolor\":\"white\"}},\"shapedefaults\":{\"line\":{\"color\":\"#2a3f5f\"}},\"ternary\":{\"aaxis\":{\"gridcolor\":\"white\",\"linecolor\":\"white\",\"ticks\":\"\"},\"baxis\":{\"gridcolor\":\"white\",\"linecolor\":\"white\",\"ticks\":\"\"},\"bgcolor\":\"#E5ECF6\",\"caxis\":{\"gridcolor\":\"white\",\"linecolor\":\"white\",\"ticks\":\"\"}},\"title\":{\"x\":0.05},\"xaxis\":{\"automargin\":true,\"gridcolor\":\"white\",\"linecolor\":\"white\",\"ticks\":\"\",\"title\":{\"standoff\":15},\"zerolinecolor\":\"white\",\"zerolinewidth\":2},\"yaxis\":{\"automargin\":true,\"gridcolor\":\"white\",\"linecolor\":\"white\",\"ticks\":\"\",\"title\":{\"standoff\":15},\"zerolinecolor\":\"white\",\"zerolinewidth\":2}}},\"title\":{\"font\":{\"color\":\"#4D5663\"}},\"xaxis\":{\"gridcolor\":\"#E1E5ED\",\"showgrid\":true,\"tickfont\":{\"color\":\"#4D5663\"},\"title\":{\"font\":{\"color\":\"#4D5663\"},\"text\":\"\"},\"zerolinecolor\":\"#E1E5ED\"},\"yaxis\":{\"gridcolor\":\"#E1E5ED\",\"showgrid\":true,\"tickfont\":{\"color\":\"#4D5663\"},\"title\":{\"font\":{\"color\":\"#4D5663\"},\"text\":\"\"},\"zerolinecolor\":\"#E1E5ED\"}},                        {\"showLink\": true, \"linkText\": \"Export to plot.ly\", \"plotlyServerURL\": \"https://plot.ly\", \"responsive\": true}                    ).then(function(){\n",
       "                            \n",
       "var gd = document.getElementById('1a299496-24dd-43c4-b5ef-bf0efbb43ca8');\n",
       "var x = new MutationObserver(function (mutations, observer) {{\n",
       "        var display = window.getComputedStyle(gd).display;\n",
       "        if (!display || display === 'none') {{\n",
       "            console.log([gd, 'removed!']);\n",
       "            Plotly.purge(gd);\n",
       "            observer.disconnect();\n",
       "        }}\n",
       "}});\n",
       "\n",
       "// Listen for the removal of the full notebook cells\n",
       "var notebookContainer = gd.closest('#notebook-container');\n",
       "if (notebookContainer) {{\n",
       "    x.observe(notebookContainer, {childList: true});\n",
       "}}\n",
       "\n",
       "// Listen for the clearing of the current output cell\n",
       "var outputEl = gd.closest('.output');\n",
       "if (outputEl) {{\n",
       "    x.observe(outputEl, {childList: true});\n",
       "}}\n",
       "\n",
       "                        })                };                });            </script>        </div>"
      ]
     },
     "metadata": {},
     "output_type": "display_data"
    }
   ],
   "source": [
    "df2.iplot(kind='bar',x='Category',y='Values')"
   ]
  },
  {
   "cell_type": "code",
   "execution_count": 24,
   "id": "1ee6e1f5",
   "metadata": {},
   "outputs": [],
   "source": [
    "# Preprocessing on data \n",
    "    #groupby\n",
    "    #aggregrate"
   ]
  },
  {
   "cell_type": "code",
   "execution_count": 25,
   "id": "d30f0f81",
   "metadata": {},
   "outputs": [
    {
     "data": {
      "text/html": [
       "<div>\n",
       "<style scoped>\n",
       "    .dataframe tbody tr th:only-of-type {\n",
       "        vertical-align: middle;\n",
       "    }\n",
       "\n",
       "    .dataframe tbody tr th {\n",
       "        vertical-align: top;\n",
       "    }\n",
       "\n",
       "    .dataframe thead th {\n",
       "        text-align: right;\n",
       "    }\n",
       "</style>\n",
       "<table border=\"1\" class=\"dataframe\">\n",
       "  <thead>\n",
       "    <tr style=\"text-align: right;\">\n",
       "      <th></th>\n",
       "      <th>A</th>\n",
       "      <th>B</th>\n",
       "      <th>C</th>\n",
       "      <th>d</th>\n",
       "    </tr>\n",
       "  </thead>\n",
       "  <tbody>\n",
       "    <tr>\n",
       "      <th>0</th>\n",
       "      <td>-0.691274</td>\n",
       "      <td>-0.939990</td>\n",
       "      <td>-2.186843</td>\n",
       "      <td>0.232918</td>\n",
       "    </tr>\n",
       "    <tr>\n",
       "      <th>1</th>\n",
       "      <td>2.638527</td>\n",
       "      <td>-1.942338</td>\n",
       "      <td>-0.725014</td>\n",
       "      <td>-0.779851</td>\n",
       "    </tr>\n",
       "    <tr>\n",
       "      <th>2</th>\n",
       "      <td>-0.760286</td>\n",
       "      <td>0.452216</td>\n",
       "      <td>-0.691383</td>\n",
       "      <td>-0.156826</td>\n",
       "    </tr>\n",
       "    <tr>\n",
       "      <th>3</th>\n",
       "      <td>-0.179894</td>\n",
       "      <td>-1.448779</td>\n",
       "      <td>0.048147</td>\n",
       "      <td>-0.447986</td>\n",
       "    </tr>\n",
       "    <tr>\n",
       "      <th>4</th>\n",
       "      <td>1.131491</td>\n",
       "      <td>0.680199</td>\n",
       "      <td>-0.268817</td>\n",
       "      <td>-0.313286</td>\n",
       "    </tr>\n",
       "    <tr>\n",
       "      <th>...</th>\n",
       "      <td>...</td>\n",
       "      <td>...</td>\n",
       "      <td>...</td>\n",
       "      <td>...</td>\n",
       "    </tr>\n",
       "    <tr>\n",
       "      <th>95</th>\n",
       "      <td>0.470703</td>\n",
       "      <td>0.003505</td>\n",
       "      <td>0.276436</td>\n",
       "      <td>1.030781</td>\n",
       "    </tr>\n",
       "    <tr>\n",
       "      <th>96</th>\n",
       "      <td>0.823936</td>\n",
       "      <td>0.770739</td>\n",
       "      <td>-0.374406</td>\n",
       "      <td>0.207809</td>\n",
       "    </tr>\n",
       "    <tr>\n",
       "      <th>97</th>\n",
       "      <td>0.950370</td>\n",
       "      <td>0.258373</td>\n",
       "      <td>-0.670947</td>\n",
       "      <td>-0.491546</td>\n",
       "    </tr>\n",
       "    <tr>\n",
       "      <th>98</th>\n",
       "      <td>0.302075</td>\n",
       "      <td>-1.312305</td>\n",
       "      <td>1.247732</td>\n",
       "      <td>0.578327</td>\n",
       "    </tr>\n",
       "    <tr>\n",
       "      <th>99</th>\n",
       "      <td>0.533554</td>\n",
       "      <td>-0.145474</td>\n",
       "      <td>1.653052</td>\n",
       "      <td>2.295383</td>\n",
       "    </tr>\n",
       "  </tbody>\n",
       "</table>\n",
       "<p>100 rows × 4 columns</p>\n",
       "</div>"
      ],
      "text/plain": [
       "           A         B         C         d\n",
       "0  -0.691274 -0.939990 -2.186843  0.232918\n",
       "1   2.638527 -1.942338 -0.725014 -0.779851\n",
       "2  -0.760286  0.452216 -0.691383 -0.156826\n",
       "3  -0.179894 -1.448779  0.048147 -0.447986\n",
       "4   1.131491  0.680199 -0.268817 -0.313286\n",
       "..       ...       ...       ...       ...\n",
       "95  0.470703  0.003505  0.276436  1.030781\n",
       "96  0.823936  0.770739 -0.374406  0.207809\n",
       "97  0.950370  0.258373 -0.670947 -0.491546\n",
       "98  0.302075 -1.312305  1.247732  0.578327\n",
       "99  0.533554 -0.145474  1.653052  2.295383\n",
       "\n",
       "[100 rows x 4 columns]"
      ]
     },
     "execution_count": 25,
     "metadata": {},
     "output_type": "execute_result"
    }
   ],
   "source": [
    "df"
   ]
  },
  {
   "cell_type": "code",
   "execution_count": 26,
   "id": "0549b5fe",
   "metadata": {},
   "outputs": [
    {
     "data": {
      "application/vnd.plotly.v1+json": {
       "config": {
        "linkText": "Export to plot.ly",
        "plotlyServerURL": "https://plot.ly",
        "showLink": true
       },
       "data": [
        {
         "marker": {
          "color": "rgba(255, 153, 51, 0.6)",
          "line": {
           "color": "rgba(255, 153, 51, 1.0)",
           "width": 1
          }
         },
         "name": "A",
         "orientation": "v",
         "text": "",
         "type": "bar",
         "x": [
          0,
          1,
          2,
          3,
          4,
          5,
          6,
          7,
          8,
          9,
          10,
          11,
          12,
          13,
          14,
          15,
          16,
          17,
          18,
          19,
          20,
          21,
          22,
          23,
          24,
          25,
          26,
          27,
          28,
          29,
          30,
          31,
          32,
          33,
          34,
          35,
          36,
          37,
          38,
          39,
          40,
          41,
          42,
          43,
          44,
          45,
          46,
          47,
          48,
          49,
          50,
          51,
          52,
          53,
          54,
          55,
          56,
          57,
          58,
          59,
          60,
          61,
          62,
          63,
          64,
          65,
          66,
          67,
          68,
          69,
          70,
          71,
          72,
          73,
          74,
          75,
          76,
          77,
          78,
          79,
          80,
          81,
          82,
          83,
          84,
          85,
          86,
          87,
          88,
          89,
          90,
          91,
          92,
          93,
          94,
          95,
          96,
          97,
          98,
          99
         ],
         "y": [
          -0.6912741429033772,
          2.6385271622920055,
          -0.7602857136434306,
          -0.17989398726623554,
          1.1314908404810518,
          -0.9236277429682401,
          0.5738678190716883,
          0.9864544801541595,
          0.32279219540734283,
          0.5885178288924707,
          0.5024994967413074,
          0.33207596909749637,
          0.6161296323145041,
          0.09859447753227293,
          -0.8227834082627532,
          0.28464354765094746,
          -0.947342488658302,
          -0.8548769790411005,
          1.0921015040745041,
          -0.6059906110102712,
          0.7134665644043366,
          0.2506753216842416,
          0.5704988886012403,
          -0.9001676759617967,
          1.5577514195590443,
          -0.8935476824587619,
          -1.643208970155166,
          0.9744088602730071,
          -0.29420623561316916,
          -0.5779436336856351,
          -1.3840170311282365,
          2.314676910076252,
          0.6415398505272547,
          -0.8002006468597685,
          0.6922191370110591,
          -1.0337120485296762,
          0.27265670125524993,
          -0.5797583333024258,
          0.5447513266398479,
          1.2410264787389498,
          -0.3170328105037755,
          0.9375460090151588,
          0.2879885443792549,
          -1.6938341411969675,
          -0.07472009167841874,
          0.5060026725044797,
          -0.8504009261137909,
          0.732510438788298,
          2.239796161013942,
          0.7692758256658025,
          -0.327999523823669,
          -0.0522999588114854,
          0.7404336785517659,
          1.006511440200384,
          -1.0954078070436444,
          -0.694419007954893,
          0.9170675514111376,
          0.2410176623597317,
          -1.1417311818412559,
          -2.036168540701319,
          -0.5852200554789933,
          -0.08187573553144036,
          -0.0108941525886899,
          0.5043090936377923,
          -0.009038725156449571,
          0.37521561129710973,
          0.5454233016591511,
          -1.2019374781761154,
          -1.2164146034848031,
          -1.5521771642600135,
          1.5260481075021362,
          0.7511200123355126,
          -1.201730403956396,
          2.2280888976822624,
          -0.15975558174063254,
          -0.21141327351955494,
          0.3060476425825168,
          -0.20791345635292988,
          0.9746962275768414,
          -0.3798940618161446,
          -1.2099430641956597,
          -0.07687618710847464,
          0.04855691969444076,
          1.6219188475758473,
          -2.1694340031988157,
          1.1071533539052,
          1.228055445210511,
          0.9847854355920682,
          -1.7122298669622624,
          -0.23909369014186913,
          0.9571627095229488,
          0.2050568135377792,
          -0.9270560083471667,
          0.974859311003513,
          0.37850037510517365,
          0.47070287060999044,
          0.8239361128145453,
          0.9503701842417043,
          0.3020754261820294,
          0.5335541974559987
         ]
        },
        {
         "marker": {
          "color": "rgba(55, 128, 191, 0.6)",
          "line": {
           "color": "rgba(55, 128, 191, 1.0)",
           "width": 1
          }
         },
         "name": "B",
         "orientation": "v",
         "text": "",
         "type": "bar",
         "x": [
          0,
          1,
          2,
          3,
          4,
          5,
          6,
          7,
          8,
          9,
          10,
          11,
          12,
          13,
          14,
          15,
          16,
          17,
          18,
          19,
          20,
          21,
          22,
          23,
          24,
          25,
          26,
          27,
          28,
          29,
          30,
          31,
          32,
          33,
          34,
          35,
          36,
          37,
          38,
          39,
          40,
          41,
          42,
          43,
          44,
          45,
          46,
          47,
          48,
          49,
          50,
          51,
          52,
          53,
          54,
          55,
          56,
          57,
          58,
          59,
          60,
          61,
          62,
          63,
          64,
          65,
          66,
          67,
          68,
          69,
          70,
          71,
          72,
          73,
          74,
          75,
          76,
          77,
          78,
          79,
          80,
          81,
          82,
          83,
          84,
          85,
          86,
          87,
          88,
          89,
          90,
          91,
          92,
          93,
          94,
          95,
          96,
          97,
          98,
          99
         ],
         "y": [
          -0.9399902999168411,
          -1.9423380705231792,
          0.4522164949791178,
          -1.4487787439238513,
          0.6801991481379681,
          -0.9371935088416633,
          -0.017229639492253413,
          -0.258876955937129,
          -1.0817046480966666,
          -0.6355540706675884,
          -0.5095868553778142,
          1.0783223972420422,
          0.1658907389286997,
          0.6321115178431862,
          -0.3158816940165806,
          1.1039231468906006,
          -0.49906935443041817,
          -0.6315137548742901,
          0.4726907486757533,
          0.2785663383433755,
          0.6756828406946835,
          -0.1937357330418802,
          0.5631093809666425,
          0.09076004610545052,
          -0.08080029963722939,
          -0.24121391840168532,
          -0.8838536665321517,
          -0.16955688742526506,
          0.5456960917581483,
          0.3461823440618255,
          0.8838886872681287,
          0.6007935651747616,
          -0.554952740896429,
          0.16087588010661694,
          0.7139512276978098,
          0.7836504954457244,
          -0.7468182950644572,
          -1.2852739351722766,
          -0.7377216443690595,
          0.7879482149641246,
          0.6888763990791642,
          2.0131037127401514,
          -0.9590282314305115,
          -0.08995759073683214,
          0.29072502929996125,
          1.6081002671179545,
          -0.11460765764050192,
          -1.187598726286891,
          0.9591573131300998,
          -1.0752516355918234,
          -0.13931574040481506,
          0.4015932029670253,
          0.15440121837917983,
          -0.38647080941415796,
          -1.3210927141383915,
          0.8642920456342552,
          0.6015658553512785,
          0.14569108608113243,
          0.6947284302526355,
          -0.7024617110754191,
          0.1651577477071164,
          -0.407736164353038,
          2.1840342297316826,
          -0.596291435423442,
          -1.8856920299159774,
          -0.3345990732118949,
          -1.7415128836734322,
          0.6112073340788858,
          1.7548265817244395,
          0.9293380526290771,
          -1.373294835797414,
          0.03127355648398631,
          0.4160208366523142,
          -0.11088801603936746,
          0.9221175098804136,
          -1.1576877119234141,
          -0.39813707295622613,
          -1.0592320235705353,
          0.37986665125962565,
          -0.5570483578397022,
          0.6777186339963158,
          -0.38644735124934115,
          -0.46445620006442506,
          -0.4250050264070511,
          1.0890493493481044,
          -1.4627988247249566,
          -0.470768139390512,
          -0.18899810886234358,
          0.4654101860415952,
          1.6779775844139893,
          -1.876317969649985,
          -0.1702025954803815,
          0.7386275124863215,
          -0.995687819654236,
          0.5688961016409643,
          0.003505412674648637,
          0.7707394956863137,
          0.25837287808466486,
          -1.3123051555731073,
          -0.14547432429903318
         ]
        },
        {
         "marker": {
          "color": "rgba(50, 171, 96, 0.6)",
          "line": {
           "color": "rgba(50, 171, 96, 1.0)",
           "width": 1
          }
         },
         "name": "C",
         "orientation": "v",
         "text": "",
         "type": "bar",
         "x": [
          0,
          1,
          2,
          3,
          4,
          5,
          6,
          7,
          8,
          9,
          10,
          11,
          12,
          13,
          14,
          15,
          16,
          17,
          18,
          19,
          20,
          21,
          22,
          23,
          24,
          25,
          26,
          27,
          28,
          29,
          30,
          31,
          32,
          33,
          34,
          35,
          36,
          37,
          38,
          39,
          40,
          41,
          42,
          43,
          44,
          45,
          46,
          47,
          48,
          49,
          50,
          51,
          52,
          53,
          54,
          55,
          56,
          57,
          58,
          59,
          60,
          61,
          62,
          63,
          64,
          65,
          66,
          67,
          68,
          69,
          70,
          71,
          72,
          73,
          74,
          75,
          76,
          77,
          78,
          79,
          80,
          81,
          82,
          83,
          84,
          85,
          86,
          87,
          88,
          89,
          90,
          91,
          92,
          93,
          94,
          95,
          96,
          97,
          98,
          99
         ],
         "y": [
          -2.1868432802102773,
          -0.7250140419511258,
          -0.6913827612230679,
          0.04814664355985677,
          -0.2688168197666106,
          1.10971313648696,
          -0.6771329496928161,
          0.5260619113595164,
          0.049226185832037424,
          -2.012896157534608,
          -0.4782778769781722,
          0.46681896255807576,
          -0.9366436684435993,
          -0.3025726125323398,
          0.5366046480995682,
          0.3931718093006377,
          -0.7826703785528093,
          -0.5788198960628711,
          -0.6961068548743381,
          0.34041440049893834,
          0.4496610494223251,
          -0.28633727827967465,
          0.6037630528460217,
          0.7509338310040284,
          -1.0536232970283654,
          -1.8834070004092935,
          -0.218141841949026,
          -0.7634726767533443,
          0.268267950607665,
          -0.16541212991899704,
          0.712560943060834,
          -0.4631683253190213,
          0.8072864768418512,
          1.4538043579554563,
          0.6850129423545135,
          -0.6910418773802264,
          -0.8183486993360881,
          -0.963464304316495,
          1.1680409288637745,
          0.7485948742648829,
          -0.11773529201589432,
          1.170204622585392,
          1.4616737848284929,
          0.3167398941877916,
          -0.8343529561308559,
          1.1259989075148988,
          -0.15813832552433288,
          0.045890037768292445,
          -0.2453926220559531,
          -0.7035163255716897,
          0.4602750456413887,
          -1.4193356314795913,
          -0.9760304750681537,
          0.4379325718081307,
          0.12757322745774302,
          -0.28421704417432614,
          -1.1129398620348998,
          1.382523056665255,
          1.1325058761994478,
          1.589567467021451,
          0.5940511289021116,
          -0.4346313423659601,
          0.04003555131307455,
          -0.9659407770041554,
          0.6003559194676078,
          -1.8591787074276616,
          1.5529637948017165,
          -1.2523095244656894,
          0.3051767327838226,
          0.47121194936878663,
          0.9891933978078691,
          -0.20379515668636156,
          -0.8456925702915231,
          0.26574691398209277,
          0.3348203663967337,
          1.2132380685344786,
          -0.6156955586822158,
          -0.14443220317021072,
          0.40282161097393204,
          -0.6924508573035683,
          0.6328059445510126,
          -0.9584109636433588,
          0.06982925441407545,
          -0.6406368622400371,
          -1.2760905752272835,
          -0.18908764420038793,
          -0.908965845745114,
          1.218311234850609,
          -0.6749659299871115,
          -0.4051594201816622,
          1.313294626095533,
          -0.6838154253972283,
          -0.2865694769651911,
          -1.1757599785360122,
          1.9763003663416487,
          0.27643637305796076,
          -0.3744060218984946,
          -0.6709474868077607,
          1.2477324330421622,
          1.6530515466661837
         ]
        },
        {
         "marker": {
          "color": "rgba(128, 0, 128, 0.6)",
          "line": {
           "color": "rgba(128, 0, 128, 1.0)",
           "width": 1
          }
         },
         "name": "d",
         "orientation": "v",
         "text": "",
         "type": "bar",
         "x": [
          0,
          1,
          2,
          3,
          4,
          5,
          6,
          7,
          8,
          9,
          10,
          11,
          12,
          13,
          14,
          15,
          16,
          17,
          18,
          19,
          20,
          21,
          22,
          23,
          24,
          25,
          26,
          27,
          28,
          29,
          30,
          31,
          32,
          33,
          34,
          35,
          36,
          37,
          38,
          39,
          40,
          41,
          42,
          43,
          44,
          45,
          46,
          47,
          48,
          49,
          50,
          51,
          52,
          53,
          54,
          55,
          56,
          57,
          58,
          59,
          60,
          61,
          62,
          63,
          64,
          65,
          66,
          67,
          68,
          69,
          70,
          71,
          72,
          73,
          74,
          75,
          76,
          77,
          78,
          79,
          80,
          81,
          82,
          83,
          84,
          85,
          86,
          87,
          88,
          89,
          90,
          91,
          92,
          93,
          94,
          95,
          96,
          97,
          98,
          99
         ],
         "y": [
          0.2329180877485759,
          -0.779851055810576,
          -0.15682562020637367,
          -0.44798565785938754,
          -0.31328610636393045,
          1.009703250616094,
          1.690511529886859,
          -1.7727767351074708,
          -1.2898117645716012,
          -1.0598811055611714,
          -0.05995840406671184,
          0.35950289397366847,
          -0.6024925133706687,
          0.5616325192625717,
          -0.4077991936455839,
          -1.661665789770493,
          -0.19894131083362393,
          1.4848139496354045,
          -0.2187519979030449,
          0.014575982368184399,
          -0.670177309744851,
          -0.659774451183918,
          -0.19852388012201994,
          -0.33428900219866814,
          -0.5081847640018546,
          0.6727879848051744,
          -1.5095554860200469,
          -0.3195538761166854,
          -0.8382512667911439,
          0.12633735965166668,
          -0.37448278208313635,
          0.4313852701787521,
          -0.3576282497301914,
          -0.36714254820237824,
          1.2092150655441531,
          -0.3738733597435478,
          1.3908218125778182,
          0.9259595285339431,
          -1.2151942463833356,
          -1.7729149464046192,
          1.5236948417942808,
          0.9167358395734678,
          0.3789304814449219,
          -0.5762996507640142,
          0.7493142071893915,
          -0.9914982111223593,
          -0.8242908979667105,
          0.04244424498827081,
          0.3391159515427539,
          -1.8228026546752387,
          -1.0332861520597718,
          -0.214662965158623,
          0.3475373836788013,
          -0.0684429471666999,
          -1.068272700683441,
          0.10236365335036744,
          1.8088991737076445,
          0.18448770702484002,
          -0.006090338869984403,
          -0.6211910374135585,
          -0.5201526328367619,
          1.1555782431562285,
          -0.8961811434389672,
          -0.5937579695866875,
          -0.7710679156827561,
          -0.6786812472645407,
          -0.7466583486414361,
          0.04771858679514946,
          -0.7601310788064842,
          0.8281712042496281,
          -0.3042202438088885,
          1.0755294024994413,
          2.0596066996717686,
          0.9540488210633757,
          -0.5634964312547651,
          0.14932718269408285,
          2.120865529677368,
          1.5484005448822202,
          -0.8948512068816719,
          -0.5535728791239111,
          1.1659721530863791,
          -0.338269477198465,
          0.6662636529382033,
          -0.8386785671465247,
          -0.45016050483340514,
          1.9719608116281135,
          -1.125112777802077,
          -0.4565031806440209,
          -0.6082343672469854,
          0.523275011356581,
          -0.9590547408867666,
          1.073701314819291,
          -0.49048978185103653,
          0.8348546381818701,
          -0.002962248241787498,
          1.0307814201352343,
          0.20780899895915692,
          -0.4915456045196982,
          0.5783269322123842,
          2.295383481278133
         ]
        }
       ],
       "layout": {
        "legend": {
         "bgcolor": "#F5F6F9",
         "font": {
          "color": "#4D5663"
         }
        },
        "paper_bgcolor": "#F5F6F9",
        "plot_bgcolor": "#F5F6F9",
        "template": {
         "data": {
          "bar": [
           {
            "error_x": {
             "color": "#2a3f5f"
            },
            "error_y": {
             "color": "#2a3f5f"
            },
            "marker": {
             "line": {
              "color": "#E5ECF6",
              "width": 0.5
             },
             "pattern": {
              "fillmode": "overlay",
              "size": 10,
              "solidity": 0.2
             }
            },
            "type": "bar"
           }
          ],
          "barpolar": [
           {
            "marker": {
             "line": {
              "color": "#E5ECF6",
              "width": 0.5
             },
             "pattern": {
              "fillmode": "overlay",
              "size": 10,
              "solidity": 0.2
             }
            },
            "type": "barpolar"
           }
          ],
          "carpet": [
           {
            "aaxis": {
             "endlinecolor": "#2a3f5f",
             "gridcolor": "white",
             "linecolor": "white",
             "minorgridcolor": "white",
             "startlinecolor": "#2a3f5f"
            },
            "baxis": {
             "endlinecolor": "#2a3f5f",
             "gridcolor": "white",
             "linecolor": "white",
             "minorgridcolor": "white",
             "startlinecolor": "#2a3f5f"
            },
            "type": "carpet"
           }
          ],
          "choropleth": [
           {
            "colorbar": {
             "outlinewidth": 0,
             "ticks": ""
            },
            "type": "choropleth"
           }
          ],
          "contour": [
           {
            "colorbar": {
             "outlinewidth": 0,
             "ticks": ""
            },
            "colorscale": [
             [
              0,
              "#0d0887"
             ],
             [
              0.1111111111111111,
              "#46039f"
             ],
             [
              0.2222222222222222,
              "#7201a8"
             ],
             [
              0.3333333333333333,
              "#9c179e"
             ],
             [
              0.4444444444444444,
              "#bd3786"
             ],
             [
              0.5555555555555556,
              "#d8576b"
             ],
             [
              0.6666666666666666,
              "#ed7953"
             ],
             [
              0.7777777777777778,
              "#fb9f3a"
             ],
             [
              0.8888888888888888,
              "#fdca26"
             ],
             [
              1,
              "#f0f921"
             ]
            ],
            "type": "contour"
           }
          ],
          "contourcarpet": [
           {
            "colorbar": {
             "outlinewidth": 0,
             "ticks": ""
            },
            "type": "contourcarpet"
           }
          ],
          "heatmap": [
           {
            "colorbar": {
             "outlinewidth": 0,
             "ticks": ""
            },
            "colorscale": [
             [
              0,
              "#0d0887"
             ],
             [
              0.1111111111111111,
              "#46039f"
             ],
             [
              0.2222222222222222,
              "#7201a8"
             ],
             [
              0.3333333333333333,
              "#9c179e"
             ],
             [
              0.4444444444444444,
              "#bd3786"
             ],
             [
              0.5555555555555556,
              "#d8576b"
             ],
             [
              0.6666666666666666,
              "#ed7953"
             ],
             [
              0.7777777777777778,
              "#fb9f3a"
             ],
             [
              0.8888888888888888,
              "#fdca26"
             ],
             [
              1,
              "#f0f921"
             ]
            ],
            "type": "heatmap"
           }
          ],
          "heatmapgl": [
           {
            "colorbar": {
             "outlinewidth": 0,
             "ticks": ""
            },
            "colorscale": [
             [
              0,
              "#0d0887"
             ],
             [
              0.1111111111111111,
              "#46039f"
             ],
             [
              0.2222222222222222,
              "#7201a8"
             ],
             [
              0.3333333333333333,
              "#9c179e"
             ],
             [
              0.4444444444444444,
              "#bd3786"
             ],
             [
              0.5555555555555556,
              "#d8576b"
             ],
             [
              0.6666666666666666,
              "#ed7953"
             ],
             [
              0.7777777777777778,
              "#fb9f3a"
             ],
             [
              0.8888888888888888,
              "#fdca26"
             ],
             [
              1,
              "#f0f921"
             ]
            ],
            "type": "heatmapgl"
           }
          ],
          "histogram": [
           {
            "marker": {
             "pattern": {
              "fillmode": "overlay",
              "size": 10,
              "solidity": 0.2
             }
            },
            "type": "histogram"
           }
          ],
          "histogram2d": [
           {
            "colorbar": {
             "outlinewidth": 0,
             "ticks": ""
            },
            "colorscale": [
             [
              0,
              "#0d0887"
             ],
             [
              0.1111111111111111,
              "#46039f"
             ],
             [
              0.2222222222222222,
              "#7201a8"
             ],
             [
              0.3333333333333333,
              "#9c179e"
             ],
             [
              0.4444444444444444,
              "#bd3786"
             ],
             [
              0.5555555555555556,
              "#d8576b"
             ],
             [
              0.6666666666666666,
              "#ed7953"
             ],
             [
              0.7777777777777778,
              "#fb9f3a"
             ],
             [
              0.8888888888888888,
              "#fdca26"
             ],
             [
              1,
              "#f0f921"
             ]
            ],
            "type": "histogram2d"
           }
          ],
          "histogram2dcontour": [
           {
            "colorbar": {
             "outlinewidth": 0,
             "ticks": ""
            },
            "colorscale": [
             [
              0,
              "#0d0887"
             ],
             [
              0.1111111111111111,
              "#46039f"
             ],
             [
              0.2222222222222222,
              "#7201a8"
             ],
             [
              0.3333333333333333,
              "#9c179e"
             ],
             [
              0.4444444444444444,
              "#bd3786"
             ],
             [
              0.5555555555555556,
              "#d8576b"
             ],
             [
              0.6666666666666666,
              "#ed7953"
             ],
             [
              0.7777777777777778,
              "#fb9f3a"
             ],
             [
              0.8888888888888888,
              "#fdca26"
             ],
             [
              1,
              "#f0f921"
             ]
            ],
            "type": "histogram2dcontour"
           }
          ],
          "mesh3d": [
           {
            "colorbar": {
             "outlinewidth": 0,
             "ticks": ""
            },
            "type": "mesh3d"
           }
          ],
          "parcoords": [
           {
            "line": {
             "colorbar": {
              "outlinewidth": 0,
              "ticks": ""
             }
            },
            "type": "parcoords"
           }
          ],
          "pie": [
           {
            "automargin": true,
            "type": "pie"
           }
          ],
          "scatter": [
           {
            "marker": {
             "colorbar": {
              "outlinewidth": 0,
              "ticks": ""
             }
            },
            "type": "scatter"
           }
          ],
          "scatter3d": [
           {
            "line": {
             "colorbar": {
              "outlinewidth": 0,
              "ticks": ""
             }
            },
            "marker": {
             "colorbar": {
              "outlinewidth": 0,
              "ticks": ""
             }
            },
            "type": "scatter3d"
           }
          ],
          "scattercarpet": [
           {
            "marker": {
             "colorbar": {
              "outlinewidth": 0,
              "ticks": ""
             }
            },
            "type": "scattercarpet"
           }
          ],
          "scattergeo": [
           {
            "marker": {
             "colorbar": {
              "outlinewidth": 0,
              "ticks": ""
             }
            },
            "type": "scattergeo"
           }
          ],
          "scattergl": [
           {
            "marker": {
             "colorbar": {
              "outlinewidth": 0,
              "ticks": ""
             }
            },
            "type": "scattergl"
           }
          ],
          "scattermapbox": [
           {
            "marker": {
             "colorbar": {
              "outlinewidth": 0,
              "ticks": ""
             }
            },
            "type": "scattermapbox"
           }
          ],
          "scatterpolar": [
           {
            "marker": {
             "colorbar": {
              "outlinewidth": 0,
              "ticks": ""
             }
            },
            "type": "scatterpolar"
           }
          ],
          "scatterpolargl": [
           {
            "marker": {
             "colorbar": {
              "outlinewidth": 0,
              "ticks": ""
             }
            },
            "type": "scatterpolargl"
           }
          ],
          "scatterternary": [
           {
            "marker": {
             "colorbar": {
              "outlinewidth": 0,
              "ticks": ""
             }
            },
            "type": "scatterternary"
           }
          ],
          "surface": [
           {
            "colorbar": {
             "outlinewidth": 0,
             "ticks": ""
            },
            "colorscale": [
             [
              0,
              "#0d0887"
             ],
             [
              0.1111111111111111,
              "#46039f"
             ],
             [
              0.2222222222222222,
              "#7201a8"
             ],
             [
              0.3333333333333333,
              "#9c179e"
             ],
             [
              0.4444444444444444,
              "#bd3786"
             ],
             [
              0.5555555555555556,
              "#d8576b"
             ],
             [
              0.6666666666666666,
              "#ed7953"
             ],
             [
              0.7777777777777778,
              "#fb9f3a"
             ],
             [
              0.8888888888888888,
              "#fdca26"
             ],
             [
              1,
              "#f0f921"
             ]
            ],
            "type": "surface"
           }
          ],
          "table": [
           {
            "cells": {
             "fill": {
              "color": "#EBF0F8"
             },
             "line": {
              "color": "white"
             }
            },
            "header": {
             "fill": {
              "color": "#C8D4E3"
             },
             "line": {
              "color": "white"
             }
            },
            "type": "table"
           }
          ]
         },
         "layout": {
          "annotationdefaults": {
           "arrowcolor": "#2a3f5f",
           "arrowhead": 0,
           "arrowwidth": 1
          },
          "autotypenumbers": "strict",
          "coloraxis": {
           "colorbar": {
            "outlinewidth": 0,
            "ticks": ""
           }
          },
          "colorscale": {
           "diverging": [
            [
             0,
             "#8e0152"
            ],
            [
             0.1,
             "#c51b7d"
            ],
            [
             0.2,
             "#de77ae"
            ],
            [
             0.3,
             "#f1b6da"
            ],
            [
             0.4,
             "#fde0ef"
            ],
            [
             0.5,
             "#f7f7f7"
            ],
            [
             0.6,
             "#e6f5d0"
            ],
            [
             0.7,
             "#b8e186"
            ],
            [
             0.8,
             "#7fbc41"
            ],
            [
             0.9,
             "#4d9221"
            ],
            [
             1,
             "#276419"
            ]
           ],
           "sequential": [
            [
             0,
             "#0d0887"
            ],
            [
             0.1111111111111111,
             "#46039f"
            ],
            [
             0.2222222222222222,
             "#7201a8"
            ],
            [
             0.3333333333333333,
             "#9c179e"
            ],
            [
             0.4444444444444444,
             "#bd3786"
            ],
            [
             0.5555555555555556,
             "#d8576b"
            ],
            [
             0.6666666666666666,
             "#ed7953"
            ],
            [
             0.7777777777777778,
             "#fb9f3a"
            ],
            [
             0.8888888888888888,
             "#fdca26"
            ],
            [
             1,
             "#f0f921"
            ]
           ],
           "sequentialminus": [
            [
             0,
             "#0d0887"
            ],
            [
             0.1111111111111111,
             "#46039f"
            ],
            [
             0.2222222222222222,
             "#7201a8"
            ],
            [
             0.3333333333333333,
             "#9c179e"
            ],
            [
             0.4444444444444444,
             "#bd3786"
            ],
            [
             0.5555555555555556,
             "#d8576b"
            ],
            [
             0.6666666666666666,
             "#ed7953"
            ],
            [
             0.7777777777777778,
             "#fb9f3a"
            ],
            [
             0.8888888888888888,
             "#fdca26"
            ],
            [
             1,
             "#f0f921"
            ]
           ]
          },
          "colorway": [
           "#636efa",
           "#EF553B",
           "#00cc96",
           "#ab63fa",
           "#FFA15A",
           "#19d3f3",
           "#FF6692",
           "#B6E880",
           "#FF97FF",
           "#FECB52"
          ],
          "font": {
           "color": "#2a3f5f"
          },
          "geo": {
           "bgcolor": "white",
           "lakecolor": "white",
           "landcolor": "#E5ECF6",
           "showlakes": true,
           "showland": true,
           "subunitcolor": "white"
          },
          "hoverlabel": {
           "align": "left"
          },
          "hovermode": "closest",
          "mapbox": {
           "style": "light"
          },
          "paper_bgcolor": "white",
          "plot_bgcolor": "#E5ECF6",
          "polar": {
           "angularaxis": {
            "gridcolor": "white",
            "linecolor": "white",
            "ticks": ""
           },
           "bgcolor": "#E5ECF6",
           "radialaxis": {
            "gridcolor": "white",
            "linecolor": "white",
            "ticks": ""
           }
          },
          "scene": {
           "xaxis": {
            "backgroundcolor": "#E5ECF6",
            "gridcolor": "white",
            "gridwidth": 2,
            "linecolor": "white",
            "showbackground": true,
            "ticks": "",
            "zerolinecolor": "white"
           },
           "yaxis": {
            "backgroundcolor": "#E5ECF6",
            "gridcolor": "white",
            "gridwidth": 2,
            "linecolor": "white",
            "showbackground": true,
            "ticks": "",
            "zerolinecolor": "white"
           },
           "zaxis": {
            "backgroundcolor": "#E5ECF6",
            "gridcolor": "white",
            "gridwidth": 2,
            "linecolor": "white",
            "showbackground": true,
            "ticks": "",
            "zerolinecolor": "white"
           }
          },
          "shapedefaults": {
           "line": {
            "color": "#2a3f5f"
           }
          },
          "ternary": {
           "aaxis": {
            "gridcolor": "white",
            "linecolor": "white",
            "ticks": ""
           },
           "baxis": {
            "gridcolor": "white",
            "linecolor": "white",
            "ticks": ""
           },
           "bgcolor": "#E5ECF6",
           "caxis": {
            "gridcolor": "white",
            "linecolor": "white",
            "ticks": ""
           }
          },
          "title": {
           "x": 0.05
          },
          "xaxis": {
           "automargin": true,
           "gridcolor": "white",
           "linecolor": "white",
           "ticks": "",
           "title": {
            "standoff": 15
           },
           "zerolinecolor": "white",
           "zerolinewidth": 2
          },
          "yaxis": {
           "automargin": true,
           "gridcolor": "white",
           "linecolor": "white",
           "ticks": "",
           "title": {
            "standoff": 15
           },
           "zerolinecolor": "white",
           "zerolinewidth": 2
          }
         }
        },
        "title": {
         "font": {
          "color": "#4D5663"
         }
        },
        "xaxis": {
         "gridcolor": "#E1E5ED",
         "showgrid": true,
         "tickfont": {
          "color": "#4D5663"
         },
         "title": {
          "font": {
           "color": "#4D5663"
          },
          "text": ""
         },
         "zerolinecolor": "#E1E5ED"
        },
        "yaxis": {
         "gridcolor": "#E1E5ED",
         "showgrid": true,
         "tickfont": {
          "color": "#4D5663"
         },
         "title": {
          "font": {
           "color": "#4D5663"
          },
          "text": ""
         },
         "zerolinecolor": "#E1E5ED"
        }
       }
      },
      "text/html": [
       "<div>                            <div id=\"ed1f57da-9e05-48f1-8faa-ecb0703f7f0c\" class=\"plotly-graph-div\" style=\"height:525px; width:100%;\"></div>            <script type=\"text/javascript\">                require([\"plotly\"], function(Plotly) {                    window.PLOTLYENV=window.PLOTLYENV || {};\n",
       "                    window.PLOTLYENV.BASE_URL='https://plot.ly';                                    if (document.getElementById(\"ed1f57da-9e05-48f1-8faa-ecb0703f7f0c\")) {                    Plotly.newPlot(                        \"ed1f57da-9e05-48f1-8faa-ecb0703f7f0c\",                        [{\"marker\":{\"color\":\"rgba(255, 153, 51, 0.6)\",\"line\":{\"color\":\"rgba(255, 153, 51, 1.0)\",\"width\":1}},\"name\":\"A\",\"orientation\":\"v\",\"text\":\"\",\"x\":[0,1,2,3,4,5,6,7,8,9,10,11,12,13,14,15,16,17,18,19,20,21,22,23,24,25,26,27,28,29,30,31,32,33,34,35,36,37,38,39,40,41,42,43,44,45,46,47,48,49,50,51,52,53,54,55,56,57,58,59,60,61,62,63,64,65,66,67,68,69,70,71,72,73,74,75,76,77,78,79,80,81,82,83,84,85,86,87,88,89,90,91,92,93,94,95,96,97,98,99],\"y\":[-0.6912741429033772,2.6385271622920055,-0.7602857136434306,-0.17989398726623554,1.1314908404810518,-0.9236277429682401,0.5738678190716883,0.9864544801541595,0.32279219540734283,0.5885178288924707,0.5024994967413074,0.33207596909749637,0.6161296323145041,0.09859447753227293,-0.8227834082627532,0.28464354765094746,-0.947342488658302,-0.8548769790411005,1.0921015040745041,-0.6059906110102712,0.7134665644043366,0.2506753216842416,0.5704988886012403,-0.9001676759617967,1.5577514195590443,-0.8935476824587619,-1.643208970155166,0.9744088602730071,-0.29420623561316916,-0.5779436336856351,-1.3840170311282365,2.314676910076252,0.6415398505272547,-0.8002006468597685,0.6922191370110591,-1.0337120485296762,0.27265670125524993,-0.5797583333024258,0.5447513266398479,1.2410264787389498,-0.3170328105037755,0.9375460090151588,0.2879885443792549,-1.6938341411969675,-0.07472009167841874,0.5060026725044797,-0.8504009261137909,0.732510438788298,2.239796161013942,0.7692758256658025,-0.327999523823669,-0.0522999588114854,0.7404336785517659,1.006511440200384,-1.0954078070436444,-0.694419007954893,0.9170675514111376,0.2410176623597317,-1.1417311818412559,-2.036168540701319,-0.5852200554789933,-0.08187573553144036,-0.0108941525886899,0.5043090936377923,-0.009038725156449571,0.37521561129710973,0.5454233016591511,-1.2019374781761154,-1.2164146034848031,-1.5521771642600135,1.5260481075021362,0.7511200123355126,-1.201730403956396,2.2280888976822624,-0.15975558174063254,-0.21141327351955494,0.3060476425825168,-0.20791345635292988,0.9746962275768414,-0.3798940618161446,-1.2099430641956597,-0.07687618710847464,0.04855691969444076,1.6219188475758473,-2.1694340031988157,1.1071533539052,1.228055445210511,0.9847854355920682,-1.7122298669622624,-0.23909369014186913,0.9571627095229488,0.2050568135377792,-0.9270560083471667,0.974859311003513,0.37850037510517365,0.47070287060999044,0.8239361128145453,0.9503701842417043,0.3020754261820294,0.5335541974559987],\"type\":\"bar\"},{\"marker\":{\"color\":\"rgba(55, 128, 191, 0.6)\",\"line\":{\"color\":\"rgba(55, 128, 191, 1.0)\",\"width\":1}},\"name\":\"B\",\"orientation\":\"v\",\"text\":\"\",\"x\":[0,1,2,3,4,5,6,7,8,9,10,11,12,13,14,15,16,17,18,19,20,21,22,23,24,25,26,27,28,29,30,31,32,33,34,35,36,37,38,39,40,41,42,43,44,45,46,47,48,49,50,51,52,53,54,55,56,57,58,59,60,61,62,63,64,65,66,67,68,69,70,71,72,73,74,75,76,77,78,79,80,81,82,83,84,85,86,87,88,89,90,91,92,93,94,95,96,97,98,99],\"y\":[-0.9399902999168411,-1.9423380705231792,0.4522164949791178,-1.4487787439238513,0.6801991481379681,-0.9371935088416633,-0.017229639492253413,-0.258876955937129,-1.0817046480966666,-0.6355540706675884,-0.5095868553778142,1.0783223972420422,0.1658907389286997,0.6321115178431862,-0.3158816940165806,1.1039231468906006,-0.49906935443041817,-0.6315137548742901,0.4726907486757533,0.2785663383433755,0.6756828406946835,-0.1937357330418802,0.5631093809666425,0.09076004610545052,-0.08080029963722939,-0.24121391840168532,-0.8838536665321517,-0.16955688742526506,0.5456960917581483,0.3461823440618255,0.8838886872681287,0.6007935651747616,-0.554952740896429,0.16087588010661694,0.7139512276978098,0.7836504954457244,-0.7468182950644572,-1.2852739351722766,-0.7377216443690595,0.7879482149641246,0.6888763990791642,2.0131037127401514,-0.9590282314305115,-0.08995759073683214,0.29072502929996125,1.6081002671179545,-0.11460765764050192,-1.187598726286891,0.9591573131300998,-1.0752516355918234,-0.13931574040481506,0.4015932029670253,0.15440121837917983,-0.38647080941415796,-1.3210927141383915,0.8642920456342552,0.6015658553512785,0.14569108608113243,0.6947284302526355,-0.7024617110754191,0.1651577477071164,-0.407736164353038,2.1840342297316826,-0.596291435423442,-1.8856920299159774,-0.3345990732118949,-1.7415128836734322,0.6112073340788858,1.7548265817244395,0.9293380526290771,-1.373294835797414,0.03127355648398631,0.4160208366523142,-0.11088801603936746,0.9221175098804136,-1.1576877119234141,-0.39813707295622613,-1.0592320235705353,0.37986665125962565,-0.5570483578397022,0.6777186339963158,-0.38644735124934115,-0.46445620006442506,-0.4250050264070511,1.0890493493481044,-1.4627988247249566,-0.470768139390512,-0.18899810886234358,0.4654101860415952,1.6779775844139893,-1.876317969649985,-0.1702025954803815,0.7386275124863215,-0.995687819654236,0.5688961016409643,0.003505412674648637,0.7707394956863137,0.25837287808466486,-1.3123051555731073,-0.14547432429903318],\"type\":\"bar\"},{\"marker\":{\"color\":\"rgba(50, 171, 96, 0.6)\",\"line\":{\"color\":\"rgba(50, 171, 96, 1.0)\",\"width\":1}},\"name\":\"C\",\"orientation\":\"v\",\"text\":\"\",\"x\":[0,1,2,3,4,5,6,7,8,9,10,11,12,13,14,15,16,17,18,19,20,21,22,23,24,25,26,27,28,29,30,31,32,33,34,35,36,37,38,39,40,41,42,43,44,45,46,47,48,49,50,51,52,53,54,55,56,57,58,59,60,61,62,63,64,65,66,67,68,69,70,71,72,73,74,75,76,77,78,79,80,81,82,83,84,85,86,87,88,89,90,91,92,93,94,95,96,97,98,99],\"y\":[-2.1868432802102773,-0.7250140419511258,-0.6913827612230679,0.04814664355985677,-0.2688168197666106,1.10971313648696,-0.6771329496928161,0.5260619113595164,0.049226185832037424,-2.012896157534608,-0.4782778769781722,0.46681896255807576,-0.9366436684435993,-0.3025726125323398,0.5366046480995682,0.3931718093006377,-0.7826703785528093,-0.5788198960628711,-0.6961068548743381,0.34041440049893834,0.4496610494223251,-0.28633727827967465,0.6037630528460217,0.7509338310040284,-1.0536232970283654,-1.8834070004092935,-0.218141841949026,-0.7634726767533443,0.268267950607665,-0.16541212991899704,0.712560943060834,-0.4631683253190213,0.8072864768418512,1.4538043579554563,0.6850129423545135,-0.6910418773802264,-0.8183486993360881,-0.963464304316495,1.1680409288637745,0.7485948742648829,-0.11773529201589432,1.170204622585392,1.4616737848284929,0.3167398941877916,-0.8343529561308559,1.1259989075148988,-0.15813832552433288,0.045890037768292445,-0.2453926220559531,-0.7035163255716897,0.4602750456413887,-1.4193356314795913,-0.9760304750681537,0.4379325718081307,0.12757322745774302,-0.28421704417432614,-1.1129398620348998,1.382523056665255,1.1325058761994478,1.589567467021451,0.5940511289021116,-0.4346313423659601,0.04003555131307455,-0.9659407770041554,0.6003559194676078,-1.8591787074276616,1.5529637948017165,-1.2523095244656894,0.3051767327838226,0.47121194936878663,0.9891933978078691,-0.20379515668636156,-0.8456925702915231,0.26574691398209277,0.3348203663967337,1.2132380685344786,-0.6156955586822158,-0.14443220317021072,0.40282161097393204,-0.6924508573035683,0.6328059445510126,-0.9584109636433588,0.06982925441407545,-0.6406368622400371,-1.2760905752272835,-0.18908764420038793,-0.908965845745114,1.218311234850609,-0.6749659299871115,-0.4051594201816622,1.313294626095533,-0.6838154253972283,-0.2865694769651911,-1.1757599785360122,1.9763003663416487,0.27643637305796076,-0.3744060218984946,-0.6709474868077607,1.2477324330421622,1.6530515466661837],\"type\":\"bar\"},{\"marker\":{\"color\":\"rgba(128, 0, 128, 0.6)\",\"line\":{\"color\":\"rgba(128, 0, 128, 1.0)\",\"width\":1}},\"name\":\"d\",\"orientation\":\"v\",\"text\":\"\",\"x\":[0,1,2,3,4,5,6,7,8,9,10,11,12,13,14,15,16,17,18,19,20,21,22,23,24,25,26,27,28,29,30,31,32,33,34,35,36,37,38,39,40,41,42,43,44,45,46,47,48,49,50,51,52,53,54,55,56,57,58,59,60,61,62,63,64,65,66,67,68,69,70,71,72,73,74,75,76,77,78,79,80,81,82,83,84,85,86,87,88,89,90,91,92,93,94,95,96,97,98,99],\"y\":[0.2329180877485759,-0.779851055810576,-0.15682562020637367,-0.44798565785938754,-0.31328610636393045,1.009703250616094,1.690511529886859,-1.7727767351074708,-1.2898117645716012,-1.0598811055611714,-0.05995840406671184,0.35950289397366847,-0.6024925133706687,0.5616325192625717,-0.4077991936455839,-1.661665789770493,-0.19894131083362393,1.4848139496354045,-0.2187519979030449,0.014575982368184399,-0.670177309744851,-0.659774451183918,-0.19852388012201994,-0.33428900219866814,-0.5081847640018546,0.6727879848051744,-1.5095554860200469,-0.3195538761166854,-0.8382512667911439,0.12633735965166668,-0.37448278208313635,0.4313852701787521,-0.3576282497301914,-0.36714254820237824,1.2092150655441531,-0.3738733597435478,1.3908218125778182,0.9259595285339431,-1.2151942463833356,-1.7729149464046192,1.5236948417942808,0.9167358395734678,0.3789304814449219,-0.5762996507640142,0.7493142071893915,-0.9914982111223593,-0.8242908979667105,0.04244424498827081,0.3391159515427539,-1.8228026546752387,-1.0332861520597718,-0.214662965158623,0.3475373836788013,-0.0684429471666999,-1.068272700683441,0.10236365335036744,1.8088991737076445,0.18448770702484002,-0.006090338869984403,-0.6211910374135585,-0.5201526328367619,1.1555782431562285,-0.8961811434389672,-0.5937579695866875,-0.7710679156827561,-0.6786812472645407,-0.7466583486414361,0.04771858679514946,-0.7601310788064842,0.8281712042496281,-0.3042202438088885,1.0755294024994413,2.0596066996717686,0.9540488210633757,-0.5634964312547651,0.14932718269408285,2.120865529677368,1.5484005448822202,-0.8948512068816719,-0.5535728791239111,1.1659721530863791,-0.338269477198465,0.6662636529382033,-0.8386785671465247,-0.45016050483340514,1.9719608116281135,-1.125112777802077,-0.4565031806440209,-0.6082343672469854,0.523275011356581,-0.9590547408867666,1.073701314819291,-0.49048978185103653,0.8348546381818701,-0.002962248241787498,1.0307814201352343,0.20780899895915692,-0.4915456045196982,0.5783269322123842,2.295383481278133],\"type\":\"bar\"}],                        {\"legend\":{\"bgcolor\":\"#F5F6F9\",\"font\":{\"color\":\"#4D5663\"}},\"paper_bgcolor\":\"#F5F6F9\",\"plot_bgcolor\":\"#F5F6F9\",\"template\":{\"data\":{\"barpolar\":[{\"marker\":{\"line\":{\"color\":\"#E5ECF6\",\"width\":0.5},\"pattern\":{\"fillmode\":\"overlay\",\"size\":10,\"solidity\":0.2}},\"type\":\"barpolar\"}],\"bar\":[{\"error_x\":{\"color\":\"#2a3f5f\"},\"error_y\":{\"color\":\"#2a3f5f\"},\"marker\":{\"line\":{\"color\":\"#E5ECF6\",\"width\":0.5},\"pattern\":{\"fillmode\":\"overlay\",\"size\":10,\"solidity\":0.2}},\"type\":\"bar\"}],\"carpet\":[{\"aaxis\":{\"endlinecolor\":\"#2a3f5f\",\"gridcolor\":\"white\",\"linecolor\":\"white\",\"minorgridcolor\":\"white\",\"startlinecolor\":\"#2a3f5f\"},\"baxis\":{\"endlinecolor\":\"#2a3f5f\",\"gridcolor\":\"white\",\"linecolor\":\"white\",\"minorgridcolor\":\"white\",\"startlinecolor\":\"#2a3f5f\"},\"type\":\"carpet\"}],\"choropleth\":[{\"colorbar\":{\"outlinewidth\":0,\"ticks\":\"\"},\"type\":\"choropleth\"}],\"contourcarpet\":[{\"colorbar\":{\"outlinewidth\":0,\"ticks\":\"\"},\"type\":\"contourcarpet\"}],\"contour\":[{\"colorbar\":{\"outlinewidth\":0,\"ticks\":\"\"},\"colorscale\":[[0.0,\"#0d0887\"],[0.1111111111111111,\"#46039f\"],[0.2222222222222222,\"#7201a8\"],[0.3333333333333333,\"#9c179e\"],[0.4444444444444444,\"#bd3786\"],[0.5555555555555556,\"#d8576b\"],[0.6666666666666666,\"#ed7953\"],[0.7777777777777778,\"#fb9f3a\"],[0.8888888888888888,\"#fdca26\"],[1.0,\"#f0f921\"]],\"type\":\"contour\"}],\"heatmapgl\":[{\"colorbar\":{\"outlinewidth\":0,\"ticks\":\"\"},\"colorscale\":[[0.0,\"#0d0887\"],[0.1111111111111111,\"#46039f\"],[0.2222222222222222,\"#7201a8\"],[0.3333333333333333,\"#9c179e\"],[0.4444444444444444,\"#bd3786\"],[0.5555555555555556,\"#d8576b\"],[0.6666666666666666,\"#ed7953\"],[0.7777777777777778,\"#fb9f3a\"],[0.8888888888888888,\"#fdca26\"],[1.0,\"#f0f921\"]],\"type\":\"heatmapgl\"}],\"heatmap\":[{\"colorbar\":{\"outlinewidth\":0,\"ticks\":\"\"},\"colorscale\":[[0.0,\"#0d0887\"],[0.1111111111111111,\"#46039f\"],[0.2222222222222222,\"#7201a8\"],[0.3333333333333333,\"#9c179e\"],[0.4444444444444444,\"#bd3786\"],[0.5555555555555556,\"#d8576b\"],[0.6666666666666666,\"#ed7953\"],[0.7777777777777778,\"#fb9f3a\"],[0.8888888888888888,\"#fdca26\"],[1.0,\"#f0f921\"]],\"type\":\"heatmap\"}],\"histogram2dcontour\":[{\"colorbar\":{\"outlinewidth\":0,\"ticks\":\"\"},\"colorscale\":[[0.0,\"#0d0887\"],[0.1111111111111111,\"#46039f\"],[0.2222222222222222,\"#7201a8\"],[0.3333333333333333,\"#9c179e\"],[0.4444444444444444,\"#bd3786\"],[0.5555555555555556,\"#d8576b\"],[0.6666666666666666,\"#ed7953\"],[0.7777777777777778,\"#fb9f3a\"],[0.8888888888888888,\"#fdca26\"],[1.0,\"#f0f921\"]],\"type\":\"histogram2dcontour\"}],\"histogram2d\":[{\"colorbar\":{\"outlinewidth\":0,\"ticks\":\"\"},\"colorscale\":[[0.0,\"#0d0887\"],[0.1111111111111111,\"#46039f\"],[0.2222222222222222,\"#7201a8\"],[0.3333333333333333,\"#9c179e\"],[0.4444444444444444,\"#bd3786\"],[0.5555555555555556,\"#d8576b\"],[0.6666666666666666,\"#ed7953\"],[0.7777777777777778,\"#fb9f3a\"],[0.8888888888888888,\"#fdca26\"],[1.0,\"#f0f921\"]],\"type\":\"histogram2d\"}],\"histogram\":[{\"marker\":{\"pattern\":{\"fillmode\":\"overlay\",\"size\":10,\"solidity\":0.2}},\"type\":\"histogram\"}],\"mesh3d\":[{\"colorbar\":{\"outlinewidth\":0,\"ticks\":\"\"},\"type\":\"mesh3d\"}],\"parcoords\":[{\"line\":{\"colorbar\":{\"outlinewidth\":0,\"ticks\":\"\"}},\"type\":\"parcoords\"}],\"pie\":[{\"automargin\":true,\"type\":\"pie\"}],\"scatter3d\":[{\"line\":{\"colorbar\":{\"outlinewidth\":0,\"ticks\":\"\"}},\"marker\":{\"colorbar\":{\"outlinewidth\":0,\"ticks\":\"\"}},\"type\":\"scatter3d\"}],\"scattercarpet\":[{\"marker\":{\"colorbar\":{\"outlinewidth\":0,\"ticks\":\"\"}},\"type\":\"scattercarpet\"}],\"scattergeo\":[{\"marker\":{\"colorbar\":{\"outlinewidth\":0,\"ticks\":\"\"}},\"type\":\"scattergeo\"}],\"scattergl\":[{\"marker\":{\"colorbar\":{\"outlinewidth\":0,\"ticks\":\"\"}},\"type\":\"scattergl\"}],\"scattermapbox\":[{\"marker\":{\"colorbar\":{\"outlinewidth\":0,\"ticks\":\"\"}},\"type\":\"scattermapbox\"}],\"scatterpolargl\":[{\"marker\":{\"colorbar\":{\"outlinewidth\":0,\"ticks\":\"\"}},\"type\":\"scatterpolargl\"}],\"scatterpolar\":[{\"marker\":{\"colorbar\":{\"outlinewidth\":0,\"ticks\":\"\"}},\"type\":\"scatterpolar\"}],\"scatter\":[{\"marker\":{\"colorbar\":{\"outlinewidth\":0,\"ticks\":\"\"}},\"type\":\"scatter\"}],\"scatterternary\":[{\"marker\":{\"colorbar\":{\"outlinewidth\":0,\"ticks\":\"\"}},\"type\":\"scatterternary\"}],\"surface\":[{\"colorbar\":{\"outlinewidth\":0,\"ticks\":\"\"},\"colorscale\":[[0.0,\"#0d0887\"],[0.1111111111111111,\"#46039f\"],[0.2222222222222222,\"#7201a8\"],[0.3333333333333333,\"#9c179e\"],[0.4444444444444444,\"#bd3786\"],[0.5555555555555556,\"#d8576b\"],[0.6666666666666666,\"#ed7953\"],[0.7777777777777778,\"#fb9f3a\"],[0.8888888888888888,\"#fdca26\"],[1.0,\"#f0f921\"]],\"type\":\"surface\"}],\"table\":[{\"cells\":{\"fill\":{\"color\":\"#EBF0F8\"},\"line\":{\"color\":\"white\"}},\"header\":{\"fill\":{\"color\":\"#C8D4E3\"},\"line\":{\"color\":\"white\"}},\"type\":\"table\"}]},\"layout\":{\"annotationdefaults\":{\"arrowcolor\":\"#2a3f5f\",\"arrowhead\":0,\"arrowwidth\":1},\"autotypenumbers\":\"strict\",\"coloraxis\":{\"colorbar\":{\"outlinewidth\":0,\"ticks\":\"\"}},\"colorscale\":{\"diverging\":[[0,\"#8e0152\"],[0.1,\"#c51b7d\"],[0.2,\"#de77ae\"],[0.3,\"#f1b6da\"],[0.4,\"#fde0ef\"],[0.5,\"#f7f7f7\"],[0.6,\"#e6f5d0\"],[0.7,\"#b8e186\"],[0.8,\"#7fbc41\"],[0.9,\"#4d9221\"],[1,\"#276419\"]],\"sequential\":[[0.0,\"#0d0887\"],[0.1111111111111111,\"#46039f\"],[0.2222222222222222,\"#7201a8\"],[0.3333333333333333,\"#9c179e\"],[0.4444444444444444,\"#bd3786\"],[0.5555555555555556,\"#d8576b\"],[0.6666666666666666,\"#ed7953\"],[0.7777777777777778,\"#fb9f3a\"],[0.8888888888888888,\"#fdca26\"],[1.0,\"#f0f921\"]],\"sequentialminus\":[[0.0,\"#0d0887\"],[0.1111111111111111,\"#46039f\"],[0.2222222222222222,\"#7201a8\"],[0.3333333333333333,\"#9c179e\"],[0.4444444444444444,\"#bd3786\"],[0.5555555555555556,\"#d8576b\"],[0.6666666666666666,\"#ed7953\"],[0.7777777777777778,\"#fb9f3a\"],[0.8888888888888888,\"#fdca26\"],[1.0,\"#f0f921\"]]},\"colorway\":[\"#636efa\",\"#EF553B\",\"#00cc96\",\"#ab63fa\",\"#FFA15A\",\"#19d3f3\",\"#FF6692\",\"#B6E880\",\"#FF97FF\",\"#FECB52\"],\"font\":{\"color\":\"#2a3f5f\"},\"geo\":{\"bgcolor\":\"white\",\"lakecolor\":\"white\",\"landcolor\":\"#E5ECF6\",\"showlakes\":true,\"showland\":true,\"subunitcolor\":\"white\"},\"hoverlabel\":{\"align\":\"left\"},\"hovermode\":\"closest\",\"mapbox\":{\"style\":\"light\"},\"paper_bgcolor\":\"white\",\"plot_bgcolor\":\"#E5ECF6\",\"polar\":{\"angularaxis\":{\"gridcolor\":\"white\",\"linecolor\":\"white\",\"ticks\":\"\"},\"bgcolor\":\"#E5ECF6\",\"radialaxis\":{\"gridcolor\":\"white\",\"linecolor\":\"white\",\"ticks\":\"\"}},\"scene\":{\"xaxis\":{\"backgroundcolor\":\"#E5ECF6\",\"gridcolor\":\"white\",\"gridwidth\":2,\"linecolor\":\"white\",\"showbackground\":true,\"ticks\":\"\",\"zerolinecolor\":\"white\"},\"yaxis\":{\"backgroundcolor\":\"#E5ECF6\",\"gridcolor\":\"white\",\"gridwidth\":2,\"linecolor\":\"white\",\"showbackground\":true,\"ticks\":\"\",\"zerolinecolor\":\"white\"},\"zaxis\":{\"backgroundcolor\":\"#E5ECF6\",\"gridcolor\":\"white\",\"gridwidth\":2,\"linecolor\":\"white\",\"showbackground\":true,\"ticks\":\"\",\"zerolinecolor\":\"white\"}},\"shapedefaults\":{\"line\":{\"color\":\"#2a3f5f\"}},\"ternary\":{\"aaxis\":{\"gridcolor\":\"white\",\"linecolor\":\"white\",\"ticks\":\"\"},\"baxis\":{\"gridcolor\":\"white\",\"linecolor\":\"white\",\"ticks\":\"\"},\"bgcolor\":\"#E5ECF6\",\"caxis\":{\"gridcolor\":\"white\",\"linecolor\":\"white\",\"ticks\":\"\"}},\"title\":{\"x\":0.05},\"xaxis\":{\"automargin\":true,\"gridcolor\":\"white\",\"linecolor\":\"white\",\"ticks\":\"\",\"title\":{\"standoff\":15},\"zerolinecolor\":\"white\",\"zerolinewidth\":2},\"yaxis\":{\"automargin\":true,\"gridcolor\":\"white\",\"linecolor\":\"white\",\"ticks\":\"\",\"title\":{\"standoff\":15},\"zerolinecolor\":\"white\",\"zerolinewidth\":2}}},\"title\":{\"font\":{\"color\":\"#4D5663\"}},\"xaxis\":{\"gridcolor\":\"#E1E5ED\",\"showgrid\":true,\"tickfont\":{\"color\":\"#4D5663\"},\"title\":{\"font\":{\"color\":\"#4D5663\"},\"text\":\"\"},\"zerolinecolor\":\"#E1E5ED\"},\"yaxis\":{\"gridcolor\":\"#E1E5ED\",\"showgrid\":true,\"tickfont\":{\"color\":\"#4D5663\"},\"title\":{\"font\":{\"color\":\"#4D5663\"},\"text\":\"\"},\"zerolinecolor\":\"#E1E5ED\"}},                        {\"showLink\": true, \"linkText\": \"Export to plot.ly\", \"plotlyServerURL\": \"https://plot.ly\", \"responsive\": true}                    ).then(function(){\n",
       "                            \n",
       "var gd = document.getElementById('ed1f57da-9e05-48f1-8faa-ecb0703f7f0c');\n",
       "var x = new MutationObserver(function (mutations, observer) {{\n",
       "        var display = window.getComputedStyle(gd).display;\n",
       "        if (!display || display === 'none') {{\n",
       "            console.log([gd, 'removed!']);\n",
       "            Plotly.purge(gd);\n",
       "            observer.disconnect();\n",
       "        }}\n",
       "}});\n",
       "\n",
       "// Listen for the removal of the full notebook cells\n",
       "var notebookContainer = gd.closest('#notebook-container');\n",
       "if (notebookContainer) {{\n",
       "    x.observe(notebookContainer, {childList: true});\n",
       "}}\n",
       "\n",
       "// Listen for the clearing of the current output cell\n",
       "var outputEl = gd.closest('.output');\n",
       "if (outputEl) {{\n",
       "    x.observe(outputEl, {childList: true});\n",
       "}}\n",
       "\n",
       "                        })                };                });            </script>        </div>"
      ]
     },
     "metadata": {},
     "output_type": "display_data"
    }
   ],
   "source": [
    "df.iplot(kind='bar')\n",
    "    # here it will be all the values on same plot which won't make any sence\n",
    "    # We need to perform aggregration on them to come up with something meaningfull"
   ]
  },
  {
   "cell_type": "code",
   "execution_count": 27,
   "id": "871cfb4c",
   "metadata": {},
   "outputs": [
    {
     "data": {
      "application/vnd.plotly.v1+json": {
       "config": {
        "linkText": "Export to plot.ly",
        "plotlyServerURL": "https://plot.ly",
        "showLink": true
       },
       "data": [
        {
         "marker": {
          "color": "rgba(255, 153, 51, 0.6)",
          "line": {
           "color": "rgba(255, 153, 51, 1.0)",
           "width": 1
          }
         },
         "name": "None",
         "orientation": "v",
         "text": "",
         "type": "bar",
         "x": [
          "A",
          "B",
          "C",
          "d"
         ],
         "y": [
          100,
          100,
          100,
          100
         ]
        }
       ],
       "layout": {
        "legend": {
         "bgcolor": "#F5F6F9",
         "font": {
          "color": "#4D5663"
         }
        },
        "paper_bgcolor": "#F5F6F9",
        "plot_bgcolor": "#F5F6F9",
        "template": {
         "data": {
          "bar": [
           {
            "error_x": {
             "color": "#2a3f5f"
            },
            "error_y": {
             "color": "#2a3f5f"
            },
            "marker": {
             "line": {
              "color": "#E5ECF6",
              "width": 0.5
             },
             "pattern": {
              "fillmode": "overlay",
              "size": 10,
              "solidity": 0.2
             }
            },
            "type": "bar"
           }
          ],
          "barpolar": [
           {
            "marker": {
             "line": {
              "color": "#E5ECF6",
              "width": 0.5
             },
             "pattern": {
              "fillmode": "overlay",
              "size": 10,
              "solidity": 0.2
             }
            },
            "type": "barpolar"
           }
          ],
          "carpet": [
           {
            "aaxis": {
             "endlinecolor": "#2a3f5f",
             "gridcolor": "white",
             "linecolor": "white",
             "minorgridcolor": "white",
             "startlinecolor": "#2a3f5f"
            },
            "baxis": {
             "endlinecolor": "#2a3f5f",
             "gridcolor": "white",
             "linecolor": "white",
             "minorgridcolor": "white",
             "startlinecolor": "#2a3f5f"
            },
            "type": "carpet"
           }
          ],
          "choropleth": [
           {
            "colorbar": {
             "outlinewidth": 0,
             "ticks": ""
            },
            "type": "choropleth"
           }
          ],
          "contour": [
           {
            "colorbar": {
             "outlinewidth": 0,
             "ticks": ""
            },
            "colorscale": [
             [
              0,
              "#0d0887"
             ],
             [
              0.1111111111111111,
              "#46039f"
             ],
             [
              0.2222222222222222,
              "#7201a8"
             ],
             [
              0.3333333333333333,
              "#9c179e"
             ],
             [
              0.4444444444444444,
              "#bd3786"
             ],
             [
              0.5555555555555556,
              "#d8576b"
             ],
             [
              0.6666666666666666,
              "#ed7953"
             ],
             [
              0.7777777777777778,
              "#fb9f3a"
             ],
             [
              0.8888888888888888,
              "#fdca26"
             ],
             [
              1,
              "#f0f921"
             ]
            ],
            "type": "contour"
           }
          ],
          "contourcarpet": [
           {
            "colorbar": {
             "outlinewidth": 0,
             "ticks": ""
            },
            "type": "contourcarpet"
           }
          ],
          "heatmap": [
           {
            "colorbar": {
             "outlinewidth": 0,
             "ticks": ""
            },
            "colorscale": [
             [
              0,
              "#0d0887"
             ],
             [
              0.1111111111111111,
              "#46039f"
             ],
             [
              0.2222222222222222,
              "#7201a8"
             ],
             [
              0.3333333333333333,
              "#9c179e"
             ],
             [
              0.4444444444444444,
              "#bd3786"
             ],
             [
              0.5555555555555556,
              "#d8576b"
             ],
             [
              0.6666666666666666,
              "#ed7953"
             ],
             [
              0.7777777777777778,
              "#fb9f3a"
             ],
             [
              0.8888888888888888,
              "#fdca26"
             ],
             [
              1,
              "#f0f921"
             ]
            ],
            "type": "heatmap"
           }
          ],
          "heatmapgl": [
           {
            "colorbar": {
             "outlinewidth": 0,
             "ticks": ""
            },
            "colorscale": [
             [
              0,
              "#0d0887"
             ],
             [
              0.1111111111111111,
              "#46039f"
             ],
             [
              0.2222222222222222,
              "#7201a8"
             ],
             [
              0.3333333333333333,
              "#9c179e"
             ],
             [
              0.4444444444444444,
              "#bd3786"
             ],
             [
              0.5555555555555556,
              "#d8576b"
             ],
             [
              0.6666666666666666,
              "#ed7953"
             ],
             [
              0.7777777777777778,
              "#fb9f3a"
             ],
             [
              0.8888888888888888,
              "#fdca26"
             ],
             [
              1,
              "#f0f921"
             ]
            ],
            "type": "heatmapgl"
           }
          ],
          "histogram": [
           {
            "marker": {
             "pattern": {
              "fillmode": "overlay",
              "size": 10,
              "solidity": 0.2
             }
            },
            "type": "histogram"
           }
          ],
          "histogram2d": [
           {
            "colorbar": {
             "outlinewidth": 0,
             "ticks": ""
            },
            "colorscale": [
             [
              0,
              "#0d0887"
             ],
             [
              0.1111111111111111,
              "#46039f"
             ],
             [
              0.2222222222222222,
              "#7201a8"
             ],
             [
              0.3333333333333333,
              "#9c179e"
             ],
             [
              0.4444444444444444,
              "#bd3786"
             ],
             [
              0.5555555555555556,
              "#d8576b"
             ],
             [
              0.6666666666666666,
              "#ed7953"
             ],
             [
              0.7777777777777778,
              "#fb9f3a"
             ],
             [
              0.8888888888888888,
              "#fdca26"
             ],
             [
              1,
              "#f0f921"
             ]
            ],
            "type": "histogram2d"
           }
          ],
          "histogram2dcontour": [
           {
            "colorbar": {
             "outlinewidth": 0,
             "ticks": ""
            },
            "colorscale": [
             [
              0,
              "#0d0887"
             ],
             [
              0.1111111111111111,
              "#46039f"
             ],
             [
              0.2222222222222222,
              "#7201a8"
             ],
             [
              0.3333333333333333,
              "#9c179e"
             ],
             [
              0.4444444444444444,
              "#bd3786"
             ],
             [
              0.5555555555555556,
              "#d8576b"
             ],
             [
              0.6666666666666666,
              "#ed7953"
             ],
             [
              0.7777777777777778,
              "#fb9f3a"
             ],
             [
              0.8888888888888888,
              "#fdca26"
             ],
             [
              1,
              "#f0f921"
             ]
            ],
            "type": "histogram2dcontour"
           }
          ],
          "mesh3d": [
           {
            "colorbar": {
             "outlinewidth": 0,
             "ticks": ""
            },
            "type": "mesh3d"
           }
          ],
          "parcoords": [
           {
            "line": {
             "colorbar": {
              "outlinewidth": 0,
              "ticks": ""
             }
            },
            "type": "parcoords"
           }
          ],
          "pie": [
           {
            "automargin": true,
            "type": "pie"
           }
          ],
          "scatter": [
           {
            "marker": {
             "colorbar": {
              "outlinewidth": 0,
              "ticks": ""
             }
            },
            "type": "scatter"
           }
          ],
          "scatter3d": [
           {
            "line": {
             "colorbar": {
              "outlinewidth": 0,
              "ticks": ""
             }
            },
            "marker": {
             "colorbar": {
              "outlinewidth": 0,
              "ticks": ""
             }
            },
            "type": "scatter3d"
           }
          ],
          "scattercarpet": [
           {
            "marker": {
             "colorbar": {
              "outlinewidth": 0,
              "ticks": ""
             }
            },
            "type": "scattercarpet"
           }
          ],
          "scattergeo": [
           {
            "marker": {
             "colorbar": {
              "outlinewidth": 0,
              "ticks": ""
             }
            },
            "type": "scattergeo"
           }
          ],
          "scattergl": [
           {
            "marker": {
             "colorbar": {
              "outlinewidth": 0,
              "ticks": ""
             }
            },
            "type": "scattergl"
           }
          ],
          "scattermapbox": [
           {
            "marker": {
             "colorbar": {
              "outlinewidth": 0,
              "ticks": ""
             }
            },
            "type": "scattermapbox"
           }
          ],
          "scatterpolar": [
           {
            "marker": {
             "colorbar": {
              "outlinewidth": 0,
              "ticks": ""
             }
            },
            "type": "scatterpolar"
           }
          ],
          "scatterpolargl": [
           {
            "marker": {
             "colorbar": {
              "outlinewidth": 0,
              "ticks": ""
             }
            },
            "type": "scatterpolargl"
           }
          ],
          "scatterternary": [
           {
            "marker": {
             "colorbar": {
              "outlinewidth": 0,
              "ticks": ""
             }
            },
            "type": "scatterternary"
           }
          ],
          "surface": [
           {
            "colorbar": {
             "outlinewidth": 0,
             "ticks": ""
            },
            "colorscale": [
             [
              0,
              "#0d0887"
             ],
             [
              0.1111111111111111,
              "#46039f"
             ],
             [
              0.2222222222222222,
              "#7201a8"
             ],
             [
              0.3333333333333333,
              "#9c179e"
             ],
             [
              0.4444444444444444,
              "#bd3786"
             ],
             [
              0.5555555555555556,
              "#d8576b"
             ],
             [
              0.6666666666666666,
              "#ed7953"
             ],
             [
              0.7777777777777778,
              "#fb9f3a"
             ],
             [
              0.8888888888888888,
              "#fdca26"
             ],
             [
              1,
              "#f0f921"
             ]
            ],
            "type": "surface"
           }
          ],
          "table": [
           {
            "cells": {
             "fill": {
              "color": "#EBF0F8"
             },
             "line": {
              "color": "white"
             }
            },
            "header": {
             "fill": {
              "color": "#C8D4E3"
             },
             "line": {
              "color": "white"
             }
            },
            "type": "table"
           }
          ]
         },
         "layout": {
          "annotationdefaults": {
           "arrowcolor": "#2a3f5f",
           "arrowhead": 0,
           "arrowwidth": 1
          },
          "autotypenumbers": "strict",
          "coloraxis": {
           "colorbar": {
            "outlinewidth": 0,
            "ticks": ""
           }
          },
          "colorscale": {
           "diverging": [
            [
             0,
             "#8e0152"
            ],
            [
             0.1,
             "#c51b7d"
            ],
            [
             0.2,
             "#de77ae"
            ],
            [
             0.3,
             "#f1b6da"
            ],
            [
             0.4,
             "#fde0ef"
            ],
            [
             0.5,
             "#f7f7f7"
            ],
            [
             0.6,
             "#e6f5d0"
            ],
            [
             0.7,
             "#b8e186"
            ],
            [
             0.8,
             "#7fbc41"
            ],
            [
             0.9,
             "#4d9221"
            ],
            [
             1,
             "#276419"
            ]
           ],
           "sequential": [
            [
             0,
             "#0d0887"
            ],
            [
             0.1111111111111111,
             "#46039f"
            ],
            [
             0.2222222222222222,
             "#7201a8"
            ],
            [
             0.3333333333333333,
             "#9c179e"
            ],
            [
             0.4444444444444444,
             "#bd3786"
            ],
            [
             0.5555555555555556,
             "#d8576b"
            ],
            [
             0.6666666666666666,
             "#ed7953"
            ],
            [
             0.7777777777777778,
             "#fb9f3a"
            ],
            [
             0.8888888888888888,
             "#fdca26"
            ],
            [
             1,
             "#f0f921"
            ]
           ],
           "sequentialminus": [
            [
             0,
             "#0d0887"
            ],
            [
             0.1111111111111111,
             "#46039f"
            ],
            [
             0.2222222222222222,
             "#7201a8"
            ],
            [
             0.3333333333333333,
             "#9c179e"
            ],
            [
             0.4444444444444444,
             "#bd3786"
            ],
            [
             0.5555555555555556,
             "#d8576b"
            ],
            [
             0.6666666666666666,
             "#ed7953"
            ],
            [
             0.7777777777777778,
             "#fb9f3a"
            ],
            [
             0.8888888888888888,
             "#fdca26"
            ],
            [
             1,
             "#f0f921"
            ]
           ]
          },
          "colorway": [
           "#636efa",
           "#EF553B",
           "#00cc96",
           "#ab63fa",
           "#FFA15A",
           "#19d3f3",
           "#FF6692",
           "#B6E880",
           "#FF97FF",
           "#FECB52"
          ],
          "font": {
           "color": "#2a3f5f"
          },
          "geo": {
           "bgcolor": "white",
           "lakecolor": "white",
           "landcolor": "#E5ECF6",
           "showlakes": true,
           "showland": true,
           "subunitcolor": "white"
          },
          "hoverlabel": {
           "align": "left"
          },
          "hovermode": "closest",
          "mapbox": {
           "style": "light"
          },
          "paper_bgcolor": "white",
          "plot_bgcolor": "#E5ECF6",
          "polar": {
           "angularaxis": {
            "gridcolor": "white",
            "linecolor": "white",
            "ticks": ""
           },
           "bgcolor": "#E5ECF6",
           "radialaxis": {
            "gridcolor": "white",
            "linecolor": "white",
            "ticks": ""
           }
          },
          "scene": {
           "xaxis": {
            "backgroundcolor": "#E5ECF6",
            "gridcolor": "white",
            "gridwidth": 2,
            "linecolor": "white",
            "showbackground": true,
            "ticks": "",
            "zerolinecolor": "white"
           },
           "yaxis": {
            "backgroundcolor": "#E5ECF6",
            "gridcolor": "white",
            "gridwidth": 2,
            "linecolor": "white",
            "showbackground": true,
            "ticks": "",
            "zerolinecolor": "white"
           },
           "zaxis": {
            "backgroundcolor": "#E5ECF6",
            "gridcolor": "white",
            "gridwidth": 2,
            "linecolor": "white",
            "showbackground": true,
            "ticks": "",
            "zerolinecolor": "white"
           }
          },
          "shapedefaults": {
           "line": {
            "color": "#2a3f5f"
           }
          },
          "ternary": {
           "aaxis": {
            "gridcolor": "white",
            "linecolor": "white",
            "ticks": ""
           },
           "baxis": {
            "gridcolor": "white",
            "linecolor": "white",
            "ticks": ""
           },
           "bgcolor": "#E5ECF6",
           "caxis": {
            "gridcolor": "white",
            "linecolor": "white",
            "ticks": ""
           }
          },
          "title": {
           "x": 0.05
          },
          "xaxis": {
           "automargin": true,
           "gridcolor": "white",
           "linecolor": "white",
           "ticks": "",
           "title": {
            "standoff": 15
           },
           "zerolinecolor": "white",
           "zerolinewidth": 2
          },
          "yaxis": {
           "automargin": true,
           "gridcolor": "white",
           "linecolor": "white",
           "ticks": "",
           "title": {
            "standoff": 15
           },
           "zerolinecolor": "white",
           "zerolinewidth": 2
          }
         }
        },
        "title": {
         "font": {
          "color": "#4D5663"
         }
        },
        "xaxis": {
         "gridcolor": "#E1E5ED",
         "showgrid": true,
         "tickfont": {
          "color": "#4D5663"
         },
         "title": {
          "font": {
           "color": "#4D5663"
          },
          "text": ""
         },
         "zerolinecolor": "#E1E5ED"
        },
        "yaxis": {
         "gridcolor": "#E1E5ED",
         "showgrid": true,
         "tickfont": {
          "color": "#4D5663"
         },
         "title": {
          "font": {
           "color": "#4D5663"
          },
          "text": ""
         },
         "zerolinecolor": "#E1E5ED"
        }
       }
      },
      "text/html": [
       "<div>                            <div id=\"83b2f341-99ce-4e72-b0e8-d6d514af5507\" class=\"plotly-graph-div\" style=\"height:525px; width:100%;\"></div>            <script type=\"text/javascript\">                require([\"plotly\"], function(Plotly) {                    window.PLOTLYENV=window.PLOTLYENV || {};\n",
       "                    window.PLOTLYENV.BASE_URL='https://plot.ly';                                    if (document.getElementById(\"83b2f341-99ce-4e72-b0e8-d6d514af5507\")) {                    Plotly.newPlot(                        \"83b2f341-99ce-4e72-b0e8-d6d514af5507\",                        [{\"marker\":{\"color\":\"rgba(255, 153, 51, 0.6)\",\"line\":{\"color\":\"rgba(255, 153, 51, 1.0)\",\"width\":1}},\"name\":\"None\",\"orientation\":\"v\",\"text\":\"\",\"x\":[\"A\",\"B\",\"C\",\"d\"],\"y\":[100,100,100,100],\"type\":\"bar\"}],                        {\"legend\":{\"bgcolor\":\"#F5F6F9\",\"font\":{\"color\":\"#4D5663\"}},\"paper_bgcolor\":\"#F5F6F9\",\"plot_bgcolor\":\"#F5F6F9\",\"template\":{\"data\":{\"barpolar\":[{\"marker\":{\"line\":{\"color\":\"#E5ECF6\",\"width\":0.5},\"pattern\":{\"fillmode\":\"overlay\",\"size\":10,\"solidity\":0.2}},\"type\":\"barpolar\"}],\"bar\":[{\"error_x\":{\"color\":\"#2a3f5f\"},\"error_y\":{\"color\":\"#2a3f5f\"},\"marker\":{\"line\":{\"color\":\"#E5ECF6\",\"width\":0.5},\"pattern\":{\"fillmode\":\"overlay\",\"size\":10,\"solidity\":0.2}},\"type\":\"bar\"}],\"carpet\":[{\"aaxis\":{\"endlinecolor\":\"#2a3f5f\",\"gridcolor\":\"white\",\"linecolor\":\"white\",\"minorgridcolor\":\"white\",\"startlinecolor\":\"#2a3f5f\"},\"baxis\":{\"endlinecolor\":\"#2a3f5f\",\"gridcolor\":\"white\",\"linecolor\":\"white\",\"minorgridcolor\":\"white\",\"startlinecolor\":\"#2a3f5f\"},\"type\":\"carpet\"}],\"choropleth\":[{\"colorbar\":{\"outlinewidth\":0,\"ticks\":\"\"},\"type\":\"choropleth\"}],\"contourcarpet\":[{\"colorbar\":{\"outlinewidth\":0,\"ticks\":\"\"},\"type\":\"contourcarpet\"}],\"contour\":[{\"colorbar\":{\"outlinewidth\":0,\"ticks\":\"\"},\"colorscale\":[[0.0,\"#0d0887\"],[0.1111111111111111,\"#46039f\"],[0.2222222222222222,\"#7201a8\"],[0.3333333333333333,\"#9c179e\"],[0.4444444444444444,\"#bd3786\"],[0.5555555555555556,\"#d8576b\"],[0.6666666666666666,\"#ed7953\"],[0.7777777777777778,\"#fb9f3a\"],[0.8888888888888888,\"#fdca26\"],[1.0,\"#f0f921\"]],\"type\":\"contour\"}],\"heatmapgl\":[{\"colorbar\":{\"outlinewidth\":0,\"ticks\":\"\"},\"colorscale\":[[0.0,\"#0d0887\"],[0.1111111111111111,\"#46039f\"],[0.2222222222222222,\"#7201a8\"],[0.3333333333333333,\"#9c179e\"],[0.4444444444444444,\"#bd3786\"],[0.5555555555555556,\"#d8576b\"],[0.6666666666666666,\"#ed7953\"],[0.7777777777777778,\"#fb9f3a\"],[0.8888888888888888,\"#fdca26\"],[1.0,\"#f0f921\"]],\"type\":\"heatmapgl\"}],\"heatmap\":[{\"colorbar\":{\"outlinewidth\":0,\"ticks\":\"\"},\"colorscale\":[[0.0,\"#0d0887\"],[0.1111111111111111,\"#46039f\"],[0.2222222222222222,\"#7201a8\"],[0.3333333333333333,\"#9c179e\"],[0.4444444444444444,\"#bd3786\"],[0.5555555555555556,\"#d8576b\"],[0.6666666666666666,\"#ed7953\"],[0.7777777777777778,\"#fb9f3a\"],[0.8888888888888888,\"#fdca26\"],[1.0,\"#f0f921\"]],\"type\":\"heatmap\"}],\"histogram2dcontour\":[{\"colorbar\":{\"outlinewidth\":0,\"ticks\":\"\"},\"colorscale\":[[0.0,\"#0d0887\"],[0.1111111111111111,\"#46039f\"],[0.2222222222222222,\"#7201a8\"],[0.3333333333333333,\"#9c179e\"],[0.4444444444444444,\"#bd3786\"],[0.5555555555555556,\"#d8576b\"],[0.6666666666666666,\"#ed7953\"],[0.7777777777777778,\"#fb9f3a\"],[0.8888888888888888,\"#fdca26\"],[1.0,\"#f0f921\"]],\"type\":\"histogram2dcontour\"}],\"histogram2d\":[{\"colorbar\":{\"outlinewidth\":0,\"ticks\":\"\"},\"colorscale\":[[0.0,\"#0d0887\"],[0.1111111111111111,\"#46039f\"],[0.2222222222222222,\"#7201a8\"],[0.3333333333333333,\"#9c179e\"],[0.4444444444444444,\"#bd3786\"],[0.5555555555555556,\"#d8576b\"],[0.6666666666666666,\"#ed7953\"],[0.7777777777777778,\"#fb9f3a\"],[0.8888888888888888,\"#fdca26\"],[1.0,\"#f0f921\"]],\"type\":\"histogram2d\"}],\"histogram\":[{\"marker\":{\"pattern\":{\"fillmode\":\"overlay\",\"size\":10,\"solidity\":0.2}},\"type\":\"histogram\"}],\"mesh3d\":[{\"colorbar\":{\"outlinewidth\":0,\"ticks\":\"\"},\"type\":\"mesh3d\"}],\"parcoords\":[{\"line\":{\"colorbar\":{\"outlinewidth\":0,\"ticks\":\"\"}},\"type\":\"parcoords\"}],\"pie\":[{\"automargin\":true,\"type\":\"pie\"}],\"scatter3d\":[{\"line\":{\"colorbar\":{\"outlinewidth\":0,\"ticks\":\"\"}},\"marker\":{\"colorbar\":{\"outlinewidth\":0,\"ticks\":\"\"}},\"type\":\"scatter3d\"}],\"scattercarpet\":[{\"marker\":{\"colorbar\":{\"outlinewidth\":0,\"ticks\":\"\"}},\"type\":\"scattercarpet\"}],\"scattergeo\":[{\"marker\":{\"colorbar\":{\"outlinewidth\":0,\"ticks\":\"\"}},\"type\":\"scattergeo\"}],\"scattergl\":[{\"marker\":{\"colorbar\":{\"outlinewidth\":0,\"ticks\":\"\"}},\"type\":\"scattergl\"}],\"scattermapbox\":[{\"marker\":{\"colorbar\":{\"outlinewidth\":0,\"ticks\":\"\"}},\"type\":\"scattermapbox\"}],\"scatterpolargl\":[{\"marker\":{\"colorbar\":{\"outlinewidth\":0,\"ticks\":\"\"}},\"type\":\"scatterpolargl\"}],\"scatterpolar\":[{\"marker\":{\"colorbar\":{\"outlinewidth\":0,\"ticks\":\"\"}},\"type\":\"scatterpolar\"}],\"scatter\":[{\"marker\":{\"colorbar\":{\"outlinewidth\":0,\"ticks\":\"\"}},\"type\":\"scatter\"}],\"scatterternary\":[{\"marker\":{\"colorbar\":{\"outlinewidth\":0,\"ticks\":\"\"}},\"type\":\"scatterternary\"}],\"surface\":[{\"colorbar\":{\"outlinewidth\":0,\"ticks\":\"\"},\"colorscale\":[[0.0,\"#0d0887\"],[0.1111111111111111,\"#46039f\"],[0.2222222222222222,\"#7201a8\"],[0.3333333333333333,\"#9c179e\"],[0.4444444444444444,\"#bd3786\"],[0.5555555555555556,\"#d8576b\"],[0.6666666666666666,\"#ed7953\"],[0.7777777777777778,\"#fb9f3a\"],[0.8888888888888888,\"#fdca26\"],[1.0,\"#f0f921\"]],\"type\":\"surface\"}],\"table\":[{\"cells\":{\"fill\":{\"color\":\"#EBF0F8\"},\"line\":{\"color\":\"white\"}},\"header\":{\"fill\":{\"color\":\"#C8D4E3\"},\"line\":{\"color\":\"white\"}},\"type\":\"table\"}]},\"layout\":{\"annotationdefaults\":{\"arrowcolor\":\"#2a3f5f\",\"arrowhead\":0,\"arrowwidth\":1},\"autotypenumbers\":\"strict\",\"coloraxis\":{\"colorbar\":{\"outlinewidth\":0,\"ticks\":\"\"}},\"colorscale\":{\"diverging\":[[0,\"#8e0152\"],[0.1,\"#c51b7d\"],[0.2,\"#de77ae\"],[0.3,\"#f1b6da\"],[0.4,\"#fde0ef\"],[0.5,\"#f7f7f7\"],[0.6,\"#e6f5d0\"],[0.7,\"#b8e186\"],[0.8,\"#7fbc41\"],[0.9,\"#4d9221\"],[1,\"#276419\"]],\"sequential\":[[0.0,\"#0d0887\"],[0.1111111111111111,\"#46039f\"],[0.2222222222222222,\"#7201a8\"],[0.3333333333333333,\"#9c179e\"],[0.4444444444444444,\"#bd3786\"],[0.5555555555555556,\"#d8576b\"],[0.6666666666666666,\"#ed7953\"],[0.7777777777777778,\"#fb9f3a\"],[0.8888888888888888,\"#fdca26\"],[1.0,\"#f0f921\"]],\"sequentialminus\":[[0.0,\"#0d0887\"],[0.1111111111111111,\"#46039f\"],[0.2222222222222222,\"#7201a8\"],[0.3333333333333333,\"#9c179e\"],[0.4444444444444444,\"#bd3786\"],[0.5555555555555556,\"#d8576b\"],[0.6666666666666666,\"#ed7953\"],[0.7777777777777778,\"#fb9f3a\"],[0.8888888888888888,\"#fdca26\"],[1.0,\"#f0f921\"]]},\"colorway\":[\"#636efa\",\"#EF553B\",\"#00cc96\",\"#ab63fa\",\"#FFA15A\",\"#19d3f3\",\"#FF6692\",\"#B6E880\",\"#FF97FF\",\"#FECB52\"],\"font\":{\"color\":\"#2a3f5f\"},\"geo\":{\"bgcolor\":\"white\",\"lakecolor\":\"white\",\"landcolor\":\"#E5ECF6\",\"showlakes\":true,\"showland\":true,\"subunitcolor\":\"white\"},\"hoverlabel\":{\"align\":\"left\"},\"hovermode\":\"closest\",\"mapbox\":{\"style\":\"light\"},\"paper_bgcolor\":\"white\",\"plot_bgcolor\":\"#E5ECF6\",\"polar\":{\"angularaxis\":{\"gridcolor\":\"white\",\"linecolor\":\"white\",\"ticks\":\"\"},\"bgcolor\":\"#E5ECF6\",\"radialaxis\":{\"gridcolor\":\"white\",\"linecolor\":\"white\",\"ticks\":\"\"}},\"scene\":{\"xaxis\":{\"backgroundcolor\":\"#E5ECF6\",\"gridcolor\":\"white\",\"gridwidth\":2,\"linecolor\":\"white\",\"showbackground\":true,\"ticks\":\"\",\"zerolinecolor\":\"white\"},\"yaxis\":{\"backgroundcolor\":\"#E5ECF6\",\"gridcolor\":\"white\",\"gridwidth\":2,\"linecolor\":\"white\",\"showbackground\":true,\"ticks\":\"\",\"zerolinecolor\":\"white\"},\"zaxis\":{\"backgroundcolor\":\"#E5ECF6\",\"gridcolor\":\"white\",\"gridwidth\":2,\"linecolor\":\"white\",\"showbackground\":true,\"ticks\":\"\",\"zerolinecolor\":\"white\"}},\"shapedefaults\":{\"line\":{\"color\":\"#2a3f5f\"}},\"ternary\":{\"aaxis\":{\"gridcolor\":\"white\",\"linecolor\":\"white\",\"ticks\":\"\"},\"baxis\":{\"gridcolor\":\"white\",\"linecolor\":\"white\",\"ticks\":\"\"},\"bgcolor\":\"#E5ECF6\",\"caxis\":{\"gridcolor\":\"white\",\"linecolor\":\"white\",\"ticks\":\"\"}},\"title\":{\"x\":0.05},\"xaxis\":{\"automargin\":true,\"gridcolor\":\"white\",\"linecolor\":\"white\",\"ticks\":\"\",\"title\":{\"standoff\":15},\"zerolinecolor\":\"white\",\"zerolinewidth\":2},\"yaxis\":{\"automargin\":true,\"gridcolor\":\"white\",\"linecolor\":\"white\",\"ticks\":\"\",\"title\":{\"standoff\":15},\"zerolinecolor\":\"white\",\"zerolinewidth\":2}}},\"title\":{\"font\":{\"color\":\"#4D5663\"}},\"xaxis\":{\"gridcolor\":\"#E1E5ED\",\"showgrid\":true,\"tickfont\":{\"color\":\"#4D5663\"},\"title\":{\"font\":{\"color\":\"#4D5663\"},\"text\":\"\"},\"zerolinecolor\":\"#E1E5ED\"},\"yaxis\":{\"gridcolor\":\"#E1E5ED\",\"showgrid\":true,\"tickfont\":{\"color\":\"#4D5663\"},\"title\":{\"font\":{\"color\":\"#4D5663\"},\"text\":\"\"},\"zerolinecolor\":\"#E1E5ED\"}},                        {\"showLink\": true, \"linkText\": \"Export to plot.ly\", \"plotlyServerURL\": \"https://plot.ly\", \"responsive\": true}                    ).then(function(){\n",
       "                            \n",
       "var gd = document.getElementById('83b2f341-99ce-4e72-b0e8-d6d514af5507');\n",
       "var x = new MutationObserver(function (mutations, observer) {{\n",
       "        var display = window.getComputedStyle(gd).display;\n",
       "        if (!display || display === 'none') {{\n",
       "            console.log([gd, 'removed!']);\n",
       "            Plotly.purge(gd);\n",
       "            observer.disconnect();\n",
       "        }}\n",
       "}});\n",
       "\n",
       "// Listen for the removal of the full notebook cells\n",
       "var notebookContainer = gd.closest('#notebook-container');\n",
       "if (notebookContainer) {{\n",
       "    x.observe(notebookContainer, {childList: true});\n",
       "}}\n",
       "\n",
       "// Listen for the clearing of the current output cell\n",
       "var outputEl = gd.closest('.output');\n",
       "if (outputEl) {{\n",
       "    x.observe(outputEl, {childList: true});\n",
       "}}\n",
       "\n",
       "                        })                };                });            </script>        </div>"
      ]
     },
     "metadata": {},
     "output_type": "display_data"
    }
   ],
   "source": [
    "df.count().iplot(kind='bar')\n",
    "    # count() will give us the count for columns"
   ]
  },
  {
   "cell_type": "code",
   "execution_count": 28,
   "id": "2169b301",
   "metadata": {},
   "outputs": [
    {
     "data": {
      "application/vnd.plotly.v1+json": {
       "config": {
        "linkText": "Export to plot.ly",
        "plotlyServerURL": "https://plot.ly",
        "showLink": true
       },
       "data": [
        {
         "marker": {
          "color": "rgba(255, 153, 51, 0.6)",
          "line": {
           "color": "rgba(255, 153, 51, 1.0)",
           "width": 1
          }
         },
         "name": "None",
         "orientation": "v",
         "text": "",
         "type": "bar",
         "x": [
          "A",
          "B",
          "C",
          "d"
         ],
         "y": [
          9.787404459961282,
          -4.525177133579913,
          -3.2278497808492146,
          -1.948929979012858
         ]
        }
       ],
       "layout": {
        "legend": {
         "bgcolor": "#F5F6F9",
         "font": {
          "color": "#4D5663"
         }
        },
        "paper_bgcolor": "#F5F6F9",
        "plot_bgcolor": "#F5F6F9",
        "template": {
         "data": {
          "bar": [
           {
            "error_x": {
             "color": "#2a3f5f"
            },
            "error_y": {
             "color": "#2a3f5f"
            },
            "marker": {
             "line": {
              "color": "#E5ECF6",
              "width": 0.5
             },
             "pattern": {
              "fillmode": "overlay",
              "size": 10,
              "solidity": 0.2
             }
            },
            "type": "bar"
           }
          ],
          "barpolar": [
           {
            "marker": {
             "line": {
              "color": "#E5ECF6",
              "width": 0.5
             },
             "pattern": {
              "fillmode": "overlay",
              "size": 10,
              "solidity": 0.2
             }
            },
            "type": "barpolar"
           }
          ],
          "carpet": [
           {
            "aaxis": {
             "endlinecolor": "#2a3f5f",
             "gridcolor": "white",
             "linecolor": "white",
             "minorgridcolor": "white",
             "startlinecolor": "#2a3f5f"
            },
            "baxis": {
             "endlinecolor": "#2a3f5f",
             "gridcolor": "white",
             "linecolor": "white",
             "minorgridcolor": "white",
             "startlinecolor": "#2a3f5f"
            },
            "type": "carpet"
           }
          ],
          "choropleth": [
           {
            "colorbar": {
             "outlinewidth": 0,
             "ticks": ""
            },
            "type": "choropleth"
           }
          ],
          "contour": [
           {
            "colorbar": {
             "outlinewidth": 0,
             "ticks": ""
            },
            "colorscale": [
             [
              0,
              "#0d0887"
             ],
             [
              0.1111111111111111,
              "#46039f"
             ],
             [
              0.2222222222222222,
              "#7201a8"
             ],
             [
              0.3333333333333333,
              "#9c179e"
             ],
             [
              0.4444444444444444,
              "#bd3786"
             ],
             [
              0.5555555555555556,
              "#d8576b"
             ],
             [
              0.6666666666666666,
              "#ed7953"
             ],
             [
              0.7777777777777778,
              "#fb9f3a"
             ],
             [
              0.8888888888888888,
              "#fdca26"
             ],
             [
              1,
              "#f0f921"
             ]
            ],
            "type": "contour"
           }
          ],
          "contourcarpet": [
           {
            "colorbar": {
             "outlinewidth": 0,
             "ticks": ""
            },
            "type": "contourcarpet"
           }
          ],
          "heatmap": [
           {
            "colorbar": {
             "outlinewidth": 0,
             "ticks": ""
            },
            "colorscale": [
             [
              0,
              "#0d0887"
             ],
             [
              0.1111111111111111,
              "#46039f"
             ],
             [
              0.2222222222222222,
              "#7201a8"
             ],
             [
              0.3333333333333333,
              "#9c179e"
             ],
             [
              0.4444444444444444,
              "#bd3786"
             ],
             [
              0.5555555555555556,
              "#d8576b"
             ],
             [
              0.6666666666666666,
              "#ed7953"
             ],
             [
              0.7777777777777778,
              "#fb9f3a"
             ],
             [
              0.8888888888888888,
              "#fdca26"
             ],
             [
              1,
              "#f0f921"
             ]
            ],
            "type": "heatmap"
           }
          ],
          "heatmapgl": [
           {
            "colorbar": {
             "outlinewidth": 0,
             "ticks": ""
            },
            "colorscale": [
             [
              0,
              "#0d0887"
             ],
             [
              0.1111111111111111,
              "#46039f"
             ],
             [
              0.2222222222222222,
              "#7201a8"
             ],
             [
              0.3333333333333333,
              "#9c179e"
             ],
             [
              0.4444444444444444,
              "#bd3786"
             ],
             [
              0.5555555555555556,
              "#d8576b"
             ],
             [
              0.6666666666666666,
              "#ed7953"
             ],
             [
              0.7777777777777778,
              "#fb9f3a"
             ],
             [
              0.8888888888888888,
              "#fdca26"
             ],
             [
              1,
              "#f0f921"
             ]
            ],
            "type": "heatmapgl"
           }
          ],
          "histogram": [
           {
            "marker": {
             "pattern": {
              "fillmode": "overlay",
              "size": 10,
              "solidity": 0.2
             }
            },
            "type": "histogram"
           }
          ],
          "histogram2d": [
           {
            "colorbar": {
             "outlinewidth": 0,
             "ticks": ""
            },
            "colorscale": [
             [
              0,
              "#0d0887"
             ],
             [
              0.1111111111111111,
              "#46039f"
             ],
             [
              0.2222222222222222,
              "#7201a8"
             ],
             [
              0.3333333333333333,
              "#9c179e"
             ],
             [
              0.4444444444444444,
              "#bd3786"
             ],
             [
              0.5555555555555556,
              "#d8576b"
             ],
             [
              0.6666666666666666,
              "#ed7953"
             ],
             [
              0.7777777777777778,
              "#fb9f3a"
             ],
             [
              0.8888888888888888,
              "#fdca26"
             ],
             [
              1,
              "#f0f921"
             ]
            ],
            "type": "histogram2d"
           }
          ],
          "histogram2dcontour": [
           {
            "colorbar": {
             "outlinewidth": 0,
             "ticks": ""
            },
            "colorscale": [
             [
              0,
              "#0d0887"
             ],
             [
              0.1111111111111111,
              "#46039f"
             ],
             [
              0.2222222222222222,
              "#7201a8"
             ],
             [
              0.3333333333333333,
              "#9c179e"
             ],
             [
              0.4444444444444444,
              "#bd3786"
             ],
             [
              0.5555555555555556,
              "#d8576b"
             ],
             [
              0.6666666666666666,
              "#ed7953"
             ],
             [
              0.7777777777777778,
              "#fb9f3a"
             ],
             [
              0.8888888888888888,
              "#fdca26"
             ],
             [
              1,
              "#f0f921"
             ]
            ],
            "type": "histogram2dcontour"
           }
          ],
          "mesh3d": [
           {
            "colorbar": {
             "outlinewidth": 0,
             "ticks": ""
            },
            "type": "mesh3d"
           }
          ],
          "parcoords": [
           {
            "line": {
             "colorbar": {
              "outlinewidth": 0,
              "ticks": ""
             }
            },
            "type": "parcoords"
           }
          ],
          "pie": [
           {
            "automargin": true,
            "type": "pie"
           }
          ],
          "scatter": [
           {
            "marker": {
             "colorbar": {
              "outlinewidth": 0,
              "ticks": ""
             }
            },
            "type": "scatter"
           }
          ],
          "scatter3d": [
           {
            "line": {
             "colorbar": {
              "outlinewidth": 0,
              "ticks": ""
             }
            },
            "marker": {
             "colorbar": {
              "outlinewidth": 0,
              "ticks": ""
             }
            },
            "type": "scatter3d"
           }
          ],
          "scattercarpet": [
           {
            "marker": {
             "colorbar": {
              "outlinewidth": 0,
              "ticks": ""
             }
            },
            "type": "scattercarpet"
           }
          ],
          "scattergeo": [
           {
            "marker": {
             "colorbar": {
              "outlinewidth": 0,
              "ticks": ""
             }
            },
            "type": "scattergeo"
           }
          ],
          "scattergl": [
           {
            "marker": {
             "colorbar": {
              "outlinewidth": 0,
              "ticks": ""
             }
            },
            "type": "scattergl"
           }
          ],
          "scattermapbox": [
           {
            "marker": {
             "colorbar": {
              "outlinewidth": 0,
              "ticks": ""
             }
            },
            "type": "scattermapbox"
           }
          ],
          "scatterpolar": [
           {
            "marker": {
             "colorbar": {
              "outlinewidth": 0,
              "ticks": ""
             }
            },
            "type": "scatterpolar"
           }
          ],
          "scatterpolargl": [
           {
            "marker": {
             "colorbar": {
              "outlinewidth": 0,
              "ticks": ""
             }
            },
            "type": "scatterpolargl"
           }
          ],
          "scatterternary": [
           {
            "marker": {
             "colorbar": {
              "outlinewidth": 0,
              "ticks": ""
             }
            },
            "type": "scatterternary"
           }
          ],
          "surface": [
           {
            "colorbar": {
             "outlinewidth": 0,
             "ticks": ""
            },
            "colorscale": [
             [
              0,
              "#0d0887"
             ],
             [
              0.1111111111111111,
              "#46039f"
             ],
             [
              0.2222222222222222,
              "#7201a8"
             ],
             [
              0.3333333333333333,
              "#9c179e"
             ],
             [
              0.4444444444444444,
              "#bd3786"
             ],
             [
              0.5555555555555556,
              "#d8576b"
             ],
             [
              0.6666666666666666,
              "#ed7953"
             ],
             [
              0.7777777777777778,
              "#fb9f3a"
             ],
             [
              0.8888888888888888,
              "#fdca26"
             ],
             [
              1,
              "#f0f921"
             ]
            ],
            "type": "surface"
           }
          ],
          "table": [
           {
            "cells": {
             "fill": {
              "color": "#EBF0F8"
             },
             "line": {
              "color": "white"
             }
            },
            "header": {
             "fill": {
              "color": "#C8D4E3"
             },
             "line": {
              "color": "white"
             }
            },
            "type": "table"
           }
          ]
         },
         "layout": {
          "annotationdefaults": {
           "arrowcolor": "#2a3f5f",
           "arrowhead": 0,
           "arrowwidth": 1
          },
          "autotypenumbers": "strict",
          "coloraxis": {
           "colorbar": {
            "outlinewidth": 0,
            "ticks": ""
           }
          },
          "colorscale": {
           "diverging": [
            [
             0,
             "#8e0152"
            ],
            [
             0.1,
             "#c51b7d"
            ],
            [
             0.2,
             "#de77ae"
            ],
            [
             0.3,
             "#f1b6da"
            ],
            [
             0.4,
             "#fde0ef"
            ],
            [
             0.5,
             "#f7f7f7"
            ],
            [
             0.6,
             "#e6f5d0"
            ],
            [
             0.7,
             "#b8e186"
            ],
            [
             0.8,
             "#7fbc41"
            ],
            [
             0.9,
             "#4d9221"
            ],
            [
             1,
             "#276419"
            ]
           ],
           "sequential": [
            [
             0,
             "#0d0887"
            ],
            [
             0.1111111111111111,
             "#46039f"
            ],
            [
             0.2222222222222222,
             "#7201a8"
            ],
            [
             0.3333333333333333,
             "#9c179e"
            ],
            [
             0.4444444444444444,
             "#bd3786"
            ],
            [
             0.5555555555555556,
             "#d8576b"
            ],
            [
             0.6666666666666666,
             "#ed7953"
            ],
            [
             0.7777777777777778,
             "#fb9f3a"
            ],
            [
             0.8888888888888888,
             "#fdca26"
            ],
            [
             1,
             "#f0f921"
            ]
           ],
           "sequentialminus": [
            [
             0,
             "#0d0887"
            ],
            [
             0.1111111111111111,
             "#46039f"
            ],
            [
             0.2222222222222222,
             "#7201a8"
            ],
            [
             0.3333333333333333,
             "#9c179e"
            ],
            [
             0.4444444444444444,
             "#bd3786"
            ],
            [
             0.5555555555555556,
             "#d8576b"
            ],
            [
             0.6666666666666666,
             "#ed7953"
            ],
            [
             0.7777777777777778,
             "#fb9f3a"
            ],
            [
             0.8888888888888888,
             "#fdca26"
            ],
            [
             1,
             "#f0f921"
            ]
           ]
          },
          "colorway": [
           "#636efa",
           "#EF553B",
           "#00cc96",
           "#ab63fa",
           "#FFA15A",
           "#19d3f3",
           "#FF6692",
           "#B6E880",
           "#FF97FF",
           "#FECB52"
          ],
          "font": {
           "color": "#2a3f5f"
          },
          "geo": {
           "bgcolor": "white",
           "lakecolor": "white",
           "landcolor": "#E5ECF6",
           "showlakes": true,
           "showland": true,
           "subunitcolor": "white"
          },
          "hoverlabel": {
           "align": "left"
          },
          "hovermode": "closest",
          "mapbox": {
           "style": "light"
          },
          "paper_bgcolor": "white",
          "plot_bgcolor": "#E5ECF6",
          "polar": {
           "angularaxis": {
            "gridcolor": "white",
            "linecolor": "white",
            "ticks": ""
           },
           "bgcolor": "#E5ECF6",
           "radialaxis": {
            "gridcolor": "white",
            "linecolor": "white",
            "ticks": ""
           }
          },
          "scene": {
           "xaxis": {
            "backgroundcolor": "#E5ECF6",
            "gridcolor": "white",
            "gridwidth": 2,
            "linecolor": "white",
            "showbackground": true,
            "ticks": "",
            "zerolinecolor": "white"
           },
           "yaxis": {
            "backgroundcolor": "#E5ECF6",
            "gridcolor": "white",
            "gridwidth": 2,
            "linecolor": "white",
            "showbackground": true,
            "ticks": "",
            "zerolinecolor": "white"
           },
           "zaxis": {
            "backgroundcolor": "#E5ECF6",
            "gridcolor": "white",
            "gridwidth": 2,
            "linecolor": "white",
            "showbackground": true,
            "ticks": "",
            "zerolinecolor": "white"
           }
          },
          "shapedefaults": {
           "line": {
            "color": "#2a3f5f"
           }
          },
          "ternary": {
           "aaxis": {
            "gridcolor": "white",
            "linecolor": "white",
            "ticks": ""
           },
           "baxis": {
            "gridcolor": "white",
            "linecolor": "white",
            "ticks": ""
           },
           "bgcolor": "#E5ECF6",
           "caxis": {
            "gridcolor": "white",
            "linecolor": "white",
            "ticks": ""
           }
          },
          "title": {
           "x": 0.05
          },
          "xaxis": {
           "automargin": true,
           "gridcolor": "white",
           "linecolor": "white",
           "ticks": "",
           "title": {
            "standoff": 15
           },
           "zerolinecolor": "white",
           "zerolinewidth": 2
          },
          "yaxis": {
           "automargin": true,
           "gridcolor": "white",
           "linecolor": "white",
           "ticks": "",
           "title": {
            "standoff": 15
           },
           "zerolinecolor": "white",
           "zerolinewidth": 2
          }
         }
        },
        "title": {
         "font": {
          "color": "#4D5663"
         }
        },
        "xaxis": {
         "gridcolor": "#E1E5ED",
         "showgrid": true,
         "tickfont": {
          "color": "#4D5663"
         },
         "title": {
          "font": {
           "color": "#4D5663"
          },
          "text": ""
         },
         "zerolinecolor": "#E1E5ED"
        },
        "yaxis": {
         "gridcolor": "#E1E5ED",
         "showgrid": true,
         "tickfont": {
          "color": "#4D5663"
         },
         "title": {
          "font": {
           "color": "#4D5663"
          },
          "text": ""
         },
         "zerolinecolor": "#E1E5ED"
        }
       }
      },
      "text/html": [
       "<div>                            <div id=\"5e4be136-e2f2-414a-89c3-5f1e16e5aad4\" class=\"plotly-graph-div\" style=\"height:525px; width:100%;\"></div>            <script type=\"text/javascript\">                require([\"plotly\"], function(Plotly) {                    window.PLOTLYENV=window.PLOTLYENV || {};\n",
       "                    window.PLOTLYENV.BASE_URL='https://plot.ly';                                    if (document.getElementById(\"5e4be136-e2f2-414a-89c3-5f1e16e5aad4\")) {                    Plotly.newPlot(                        \"5e4be136-e2f2-414a-89c3-5f1e16e5aad4\",                        [{\"marker\":{\"color\":\"rgba(255, 153, 51, 0.6)\",\"line\":{\"color\":\"rgba(255, 153, 51, 1.0)\",\"width\":1}},\"name\":\"None\",\"orientation\":\"v\",\"text\":\"\",\"x\":[\"A\",\"B\",\"C\",\"d\"],\"y\":[9.787404459961282,-4.525177133579913,-3.2278497808492146,-1.948929979012858],\"type\":\"bar\"}],                        {\"legend\":{\"bgcolor\":\"#F5F6F9\",\"font\":{\"color\":\"#4D5663\"}},\"paper_bgcolor\":\"#F5F6F9\",\"plot_bgcolor\":\"#F5F6F9\",\"template\":{\"data\":{\"barpolar\":[{\"marker\":{\"line\":{\"color\":\"#E5ECF6\",\"width\":0.5},\"pattern\":{\"fillmode\":\"overlay\",\"size\":10,\"solidity\":0.2}},\"type\":\"barpolar\"}],\"bar\":[{\"error_x\":{\"color\":\"#2a3f5f\"},\"error_y\":{\"color\":\"#2a3f5f\"},\"marker\":{\"line\":{\"color\":\"#E5ECF6\",\"width\":0.5},\"pattern\":{\"fillmode\":\"overlay\",\"size\":10,\"solidity\":0.2}},\"type\":\"bar\"}],\"carpet\":[{\"aaxis\":{\"endlinecolor\":\"#2a3f5f\",\"gridcolor\":\"white\",\"linecolor\":\"white\",\"minorgridcolor\":\"white\",\"startlinecolor\":\"#2a3f5f\"},\"baxis\":{\"endlinecolor\":\"#2a3f5f\",\"gridcolor\":\"white\",\"linecolor\":\"white\",\"minorgridcolor\":\"white\",\"startlinecolor\":\"#2a3f5f\"},\"type\":\"carpet\"}],\"choropleth\":[{\"colorbar\":{\"outlinewidth\":0,\"ticks\":\"\"},\"type\":\"choropleth\"}],\"contourcarpet\":[{\"colorbar\":{\"outlinewidth\":0,\"ticks\":\"\"},\"type\":\"contourcarpet\"}],\"contour\":[{\"colorbar\":{\"outlinewidth\":0,\"ticks\":\"\"},\"colorscale\":[[0.0,\"#0d0887\"],[0.1111111111111111,\"#46039f\"],[0.2222222222222222,\"#7201a8\"],[0.3333333333333333,\"#9c179e\"],[0.4444444444444444,\"#bd3786\"],[0.5555555555555556,\"#d8576b\"],[0.6666666666666666,\"#ed7953\"],[0.7777777777777778,\"#fb9f3a\"],[0.8888888888888888,\"#fdca26\"],[1.0,\"#f0f921\"]],\"type\":\"contour\"}],\"heatmapgl\":[{\"colorbar\":{\"outlinewidth\":0,\"ticks\":\"\"},\"colorscale\":[[0.0,\"#0d0887\"],[0.1111111111111111,\"#46039f\"],[0.2222222222222222,\"#7201a8\"],[0.3333333333333333,\"#9c179e\"],[0.4444444444444444,\"#bd3786\"],[0.5555555555555556,\"#d8576b\"],[0.6666666666666666,\"#ed7953\"],[0.7777777777777778,\"#fb9f3a\"],[0.8888888888888888,\"#fdca26\"],[1.0,\"#f0f921\"]],\"type\":\"heatmapgl\"}],\"heatmap\":[{\"colorbar\":{\"outlinewidth\":0,\"ticks\":\"\"},\"colorscale\":[[0.0,\"#0d0887\"],[0.1111111111111111,\"#46039f\"],[0.2222222222222222,\"#7201a8\"],[0.3333333333333333,\"#9c179e\"],[0.4444444444444444,\"#bd3786\"],[0.5555555555555556,\"#d8576b\"],[0.6666666666666666,\"#ed7953\"],[0.7777777777777778,\"#fb9f3a\"],[0.8888888888888888,\"#fdca26\"],[1.0,\"#f0f921\"]],\"type\":\"heatmap\"}],\"histogram2dcontour\":[{\"colorbar\":{\"outlinewidth\":0,\"ticks\":\"\"},\"colorscale\":[[0.0,\"#0d0887\"],[0.1111111111111111,\"#46039f\"],[0.2222222222222222,\"#7201a8\"],[0.3333333333333333,\"#9c179e\"],[0.4444444444444444,\"#bd3786\"],[0.5555555555555556,\"#d8576b\"],[0.6666666666666666,\"#ed7953\"],[0.7777777777777778,\"#fb9f3a\"],[0.8888888888888888,\"#fdca26\"],[1.0,\"#f0f921\"]],\"type\":\"histogram2dcontour\"}],\"histogram2d\":[{\"colorbar\":{\"outlinewidth\":0,\"ticks\":\"\"},\"colorscale\":[[0.0,\"#0d0887\"],[0.1111111111111111,\"#46039f\"],[0.2222222222222222,\"#7201a8\"],[0.3333333333333333,\"#9c179e\"],[0.4444444444444444,\"#bd3786\"],[0.5555555555555556,\"#d8576b\"],[0.6666666666666666,\"#ed7953\"],[0.7777777777777778,\"#fb9f3a\"],[0.8888888888888888,\"#fdca26\"],[1.0,\"#f0f921\"]],\"type\":\"histogram2d\"}],\"histogram\":[{\"marker\":{\"pattern\":{\"fillmode\":\"overlay\",\"size\":10,\"solidity\":0.2}},\"type\":\"histogram\"}],\"mesh3d\":[{\"colorbar\":{\"outlinewidth\":0,\"ticks\":\"\"},\"type\":\"mesh3d\"}],\"parcoords\":[{\"line\":{\"colorbar\":{\"outlinewidth\":0,\"ticks\":\"\"}},\"type\":\"parcoords\"}],\"pie\":[{\"automargin\":true,\"type\":\"pie\"}],\"scatter3d\":[{\"line\":{\"colorbar\":{\"outlinewidth\":0,\"ticks\":\"\"}},\"marker\":{\"colorbar\":{\"outlinewidth\":0,\"ticks\":\"\"}},\"type\":\"scatter3d\"}],\"scattercarpet\":[{\"marker\":{\"colorbar\":{\"outlinewidth\":0,\"ticks\":\"\"}},\"type\":\"scattercarpet\"}],\"scattergeo\":[{\"marker\":{\"colorbar\":{\"outlinewidth\":0,\"ticks\":\"\"}},\"type\":\"scattergeo\"}],\"scattergl\":[{\"marker\":{\"colorbar\":{\"outlinewidth\":0,\"ticks\":\"\"}},\"type\":\"scattergl\"}],\"scattermapbox\":[{\"marker\":{\"colorbar\":{\"outlinewidth\":0,\"ticks\":\"\"}},\"type\":\"scattermapbox\"}],\"scatterpolargl\":[{\"marker\":{\"colorbar\":{\"outlinewidth\":0,\"ticks\":\"\"}},\"type\":\"scatterpolargl\"}],\"scatterpolar\":[{\"marker\":{\"colorbar\":{\"outlinewidth\":0,\"ticks\":\"\"}},\"type\":\"scatterpolar\"}],\"scatter\":[{\"marker\":{\"colorbar\":{\"outlinewidth\":0,\"ticks\":\"\"}},\"type\":\"scatter\"}],\"scatterternary\":[{\"marker\":{\"colorbar\":{\"outlinewidth\":0,\"ticks\":\"\"}},\"type\":\"scatterternary\"}],\"surface\":[{\"colorbar\":{\"outlinewidth\":0,\"ticks\":\"\"},\"colorscale\":[[0.0,\"#0d0887\"],[0.1111111111111111,\"#46039f\"],[0.2222222222222222,\"#7201a8\"],[0.3333333333333333,\"#9c179e\"],[0.4444444444444444,\"#bd3786\"],[0.5555555555555556,\"#d8576b\"],[0.6666666666666666,\"#ed7953\"],[0.7777777777777778,\"#fb9f3a\"],[0.8888888888888888,\"#fdca26\"],[1.0,\"#f0f921\"]],\"type\":\"surface\"}],\"table\":[{\"cells\":{\"fill\":{\"color\":\"#EBF0F8\"},\"line\":{\"color\":\"white\"}},\"header\":{\"fill\":{\"color\":\"#C8D4E3\"},\"line\":{\"color\":\"white\"}},\"type\":\"table\"}]},\"layout\":{\"annotationdefaults\":{\"arrowcolor\":\"#2a3f5f\",\"arrowhead\":0,\"arrowwidth\":1},\"autotypenumbers\":\"strict\",\"coloraxis\":{\"colorbar\":{\"outlinewidth\":0,\"ticks\":\"\"}},\"colorscale\":{\"diverging\":[[0,\"#8e0152\"],[0.1,\"#c51b7d\"],[0.2,\"#de77ae\"],[0.3,\"#f1b6da\"],[0.4,\"#fde0ef\"],[0.5,\"#f7f7f7\"],[0.6,\"#e6f5d0\"],[0.7,\"#b8e186\"],[0.8,\"#7fbc41\"],[0.9,\"#4d9221\"],[1,\"#276419\"]],\"sequential\":[[0.0,\"#0d0887\"],[0.1111111111111111,\"#46039f\"],[0.2222222222222222,\"#7201a8\"],[0.3333333333333333,\"#9c179e\"],[0.4444444444444444,\"#bd3786\"],[0.5555555555555556,\"#d8576b\"],[0.6666666666666666,\"#ed7953\"],[0.7777777777777778,\"#fb9f3a\"],[0.8888888888888888,\"#fdca26\"],[1.0,\"#f0f921\"]],\"sequentialminus\":[[0.0,\"#0d0887\"],[0.1111111111111111,\"#46039f\"],[0.2222222222222222,\"#7201a8\"],[0.3333333333333333,\"#9c179e\"],[0.4444444444444444,\"#bd3786\"],[0.5555555555555556,\"#d8576b\"],[0.6666666666666666,\"#ed7953\"],[0.7777777777777778,\"#fb9f3a\"],[0.8888888888888888,\"#fdca26\"],[1.0,\"#f0f921\"]]},\"colorway\":[\"#636efa\",\"#EF553B\",\"#00cc96\",\"#ab63fa\",\"#FFA15A\",\"#19d3f3\",\"#FF6692\",\"#B6E880\",\"#FF97FF\",\"#FECB52\"],\"font\":{\"color\":\"#2a3f5f\"},\"geo\":{\"bgcolor\":\"white\",\"lakecolor\":\"white\",\"landcolor\":\"#E5ECF6\",\"showlakes\":true,\"showland\":true,\"subunitcolor\":\"white\"},\"hoverlabel\":{\"align\":\"left\"},\"hovermode\":\"closest\",\"mapbox\":{\"style\":\"light\"},\"paper_bgcolor\":\"white\",\"plot_bgcolor\":\"#E5ECF6\",\"polar\":{\"angularaxis\":{\"gridcolor\":\"white\",\"linecolor\":\"white\",\"ticks\":\"\"},\"bgcolor\":\"#E5ECF6\",\"radialaxis\":{\"gridcolor\":\"white\",\"linecolor\":\"white\",\"ticks\":\"\"}},\"scene\":{\"xaxis\":{\"backgroundcolor\":\"#E5ECF6\",\"gridcolor\":\"white\",\"gridwidth\":2,\"linecolor\":\"white\",\"showbackground\":true,\"ticks\":\"\",\"zerolinecolor\":\"white\"},\"yaxis\":{\"backgroundcolor\":\"#E5ECF6\",\"gridcolor\":\"white\",\"gridwidth\":2,\"linecolor\":\"white\",\"showbackground\":true,\"ticks\":\"\",\"zerolinecolor\":\"white\"},\"zaxis\":{\"backgroundcolor\":\"#E5ECF6\",\"gridcolor\":\"white\",\"gridwidth\":2,\"linecolor\":\"white\",\"showbackground\":true,\"ticks\":\"\",\"zerolinecolor\":\"white\"}},\"shapedefaults\":{\"line\":{\"color\":\"#2a3f5f\"}},\"ternary\":{\"aaxis\":{\"gridcolor\":\"white\",\"linecolor\":\"white\",\"ticks\":\"\"},\"baxis\":{\"gridcolor\":\"white\",\"linecolor\":\"white\",\"ticks\":\"\"},\"bgcolor\":\"#E5ECF6\",\"caxis\":{\"gridcolor\":\"white\",\"linecolor\":\"white\",\"ticks\":\"\"}},\"title\":{\"x\":0.05},\"xaxis\":{\"automargin\":true,\"gridcolor\":\"white\",\"linecolor\":\"white\",\"ticks\":\"\",\"title\":{\"standoff\":15},\"zerolinecolor\":\"white\",\"zerolinewidth\":2},\"yaxis\":{\"automargin\":true,\"gridcolor\":\"white\",\"linecolor\":\"white\",\"ticks\":\"\",\"title\":{\"standoff\":15},\"zerolinecolor\":\"white\",\"zerolinewidth\":2}}},\"title\":{\"font\":{\"color\":\"#4D5663\"}},\"xaxis\":{\"gridcolor\":\"#E1E5ED\",\"showgrid\":true,\"tickfont\":{\"color\":\"#4D5663\"},\"title\":{\"font\":{\"color\":\"#4D5663\"},\"text\":\"\"},\"zerolinecolor\":\"#E1E5ED\"},\"yaxis\":{\"gridcolor\":\"#E1E5ED\",\"showgrid\":true,\"tickfont\":{\"color\":\"#4D5663\"},\"title\":{\"font\":{\"color\":\"#4D5663\"},\"text\":\"\"},\"zerolinecolor\":\"#E1E5ED\"}},                        {\"showLink\": true, \"linkText\": \"Export to plot.ly\", \"plotlyServerURL\": \"https://plot.ly\", \"responsive\": true}                    ).then(function(){\n",
       "                            \n",
       "var gd = document.getElementById('5e4be136-e2f2-414a-89c3-5f1e16e5aad4');\n",
       "var x = new MutationObserver(function (mutations, observer) {{\n",
       "        var display = window.getComputedStyle(gd).display;\n",
       "        if (!display || display === 'none') {{\n",
       "            console.log([gd, 'removed!']);\n",
       "            Plotly.purge(gd);\n",
       "            observer.disconnect();\n",
       "        }}\n",
       "}});\n",
       "\n",
       "// Listen for the removal of the full notebook cells\n",
       "var notebookContainer = gd.closest('#notebook-container');\n",
       "if (notebookContainer) {{\n",
       "    x.observe(notebookContainer, {childList: true});\n",
       "}}\n",
       "\n",
       "// Listen for the clearing of the current output cell\n",
       "var outputEl = gd.closest('.output');\n",
       "if (outputEl) {{\n",
       "    x.observe(outputEl, {childList: true});\n",
       "}}\n",
       "\n",
       "                        })                };                });            </script>        </div>"
      ]
     },
     "metadata": {},
     "output_type": "display_data"
    }
   ],
   "source": [
    "df.sum().iplot(kind='bar')\n",
    "    # sum will give us the sum for each columns"
   ]
  },
  {
   "cell_type": "code",
   "execution_count": null,
   "id": "7a8e2494",
   "metadata": {},
   "outputs": [],
   "source": []
  },
  {
   "cell_type": "code",
   "execution_count": 32,
   "id": "78048c72",
   "metadata": {},
   "outputs": [],
   "source": [
    "# boxplot\n",
    "    # No need to put your data in aggregrate form"
   ]
  },
  {
   "cell_type": "code",
   "execution_count": 31,
   "id": "f8c6e1b5",
   "metadata": {},
   "outputs": [
    {
     "data": {
      "text/html": [
       "<div>\n",
       "<style scoped>\n",
       "    .dataframe tbody tr th:only-of-type {\n",
       "        vertical-align: middle;\n",
       "    }\n",
       "\n",
       "    .dataframe tbody tr th {\n",
       "        vertical-align: top;\n",
       "    }\n",
       "\n",
       "    .dataframe thead th {\n",
       "        text-align: right;\n",
       "    }\n",
       "</style>\n",
       "<table border=\"1\" class=\"dataframe\">\n",
       "  <thead>\n",
       "    <tr style=\"text-align: right;\">\n",
       "      <th></th>\n",
       "      <th>A</th>\n",
       "      <th>B</th>\n",
       "      <th>C</th>\n",
       "      <th>d</th>\n",
       "    </tr>\n",
       "  </thead>\n",
       "  <tbody>\n",
       "    <tr>\n",
       "      <th>0</th>\n",
       "      <td>-0.691274</td>\n",
       "      <td>-0.939990</td>\n",
       "      <td>-2.186843</td>\n",
       "      <td>0.232918</td>\n",
       "    </tr>\n",
       "    <tr>\n",
       "      <th>1</th>\n",
       "      <td>2.638527</td>\n",
       "      <td>-1.942338</td>\n",
       "      <td>-0.725014</td>\n",
       "      <td>-0.779851</td>\n",
       "    </tr>\n",
       "    <tr>\n",
       "      <th>2</th>\n",
       "      <td>-0.760286</td>\n",
       "      <td>0.452216</td>\n",
       "      <td>-0.691383</td>\n",
       "      <td>-0.156826</td>\n",
       "    </tr>\n",
       "    <tr>\n",
       "      <th>3</th>\n",
       "      <td>-0.179894</td>\n",
       "      <td>-1.448779</td>\n",
       "      <td>0.048147</td>\n",
       "      <td>-0.447986</td>\n",
       "    </tr>\n",
       "    <tr>\n",
       "      <th>4</th>\n",
       "      <td>1.131491</td>\n",
       "      <td>0.680199</td>\n",
       "      <td>-0.268817</td>\n",
       "      <td>-0.313286</td>\n",
       "    </tr>\n",
       "    <tr>\n",
       "      <th>...</th>\n",
       "      <td>...</td>\n",
       "      <td>...</td>\n",
       "      <td>...</td>\n",
       "      <td>...</td>\n",
       "    </tr>\n",
       "    <tr>\n",
       "      <th>95</th>\n",
       "      <td>0.470703</td>\n",
       "      <td>0.003505</td>\n",
       "      <td>0.276436</td>\n",
       "      <td>1.030781</td>\n",
       "    </tr>\n",
       "    <tr>\n",
       "      <th>96</th>\n",
       "      <td>0.823936</td>\n",
       "      <td>0.770739</td>\n",
       "      <td>-0.374406</td>\n",
       "      <td>0.207809</td>\n",
       "    </tr>\n",
       "    <tr>\n",
       "      <th>97</th>\n",
       "      <td>0.950370</td>\n",
       "      <td>0.258373</td>\n",
       "      <td>-0.670947</td>\n",
       "      <td>-0.491546</td>\n",
       "    </tr>\n",
       "    <tr>\n",
       "      <th>98</th>\n",
       "      <td>0.302075</td>\n",
       "      <td>-1.312305</td>\n",
       "      <td>1.247732</td>\n",
       "      <td>0.578327</td>\n",
       "    </tr>\n",
       "    <tr>\n",
       "      <th>99</th>\n",
       "      <td>0.533554</td>\n",
       "      <td>-0.145474</td>\n",
       "      <td>1.653052</td>\n",
       "      <td>2.295383</td>\n",
       "    </tr>\n",
       "  </tbody>\n",
       "</table>\n",
       "<p>100 rows × 4 columns</p>\n",
       "</div>"
      ],
      "text/plain": [
       "           A         B         C         d\n",
       "0  -0.691274 -0.939990 -2.186843  0.232918\n",
       "1   2.638527 -1.942338 -0.725014 -0.779851\n",
       "2  -0.760286  0.452216 -0.691383 -0.156826\n",
       "3  -0.179894 -1.448779  0.048147 -0.447986\n",
       "4   1.131491  0.680199 -0.268817 -0.313286\n",
       "..       ...       ...       ...       ...\n",
       "95  0.470703  0.003505  0.276436  1.030781\n",
       "96  0.823936  0.770739 -0.374406  0.207809\n",
       "97  0.950370  0.258373 -0.670947 -0.491546\n",
       "98  0.302075 -1.312305  1.247732  0.578327\n",
       "99  0.533554 -0.145474  1.653052  2.295383\n",
       "\n",
       "[100 rows x 4 columns]"
      ]
     },
     "execution_count": 31,
     "metadata": {},
     "output_type": "execute_result"
    }
   ],
   "source": [
    "df"
   ]
  },
  {
   "cell_type": "code",
   "execution_count": 30,
   "id": "2468895d",
   "metadata": {},
   "outputs": [
    {
     "data": {
      "application/vnd.plotly.v1+json": {
       "config": {
        "linkText": "Export to plot.ly",
        "plotlyServerURL": "https://plot.ly",
        "showLink": true
       },
       "data": [
        {
         "boxpoints": false,
         "line": {
          "width": 1.3
         },
         "marker": {
          "color": "rgba(255, 153, 51, 1.0)"
         },
         "name": "A",
         "orientation": "v",
         "type": "box",
         "y": [
          -0.6912741429033772,
          2.6385271622920055,
          -0.7602857136434306,
          -0.17989398726623554,
          1.1314908404810518,
          -0.9236277429682401,
          0.5738678190716883,
          0.9864544801541595,
          0.32279219540734283,
          0.5885178288924707,
          0.5024994967413074,
          0.33207596909749637,
          0.6161296323145041,
          0.09859447753227293,
          -0.8227834082627532,
          0.28464354765094746,
          -0.947342488658302,
          -0.8548769790411005,
          1.0921015040745041,
          -0.6059906110102712,
          0.7134665644043366,
          0.2506753216842416,
          0.5704988886012403,
          -0.9001676759617967,
          1.5577514195590443,
          -0.8935476824587619,
          -1.643208970155166,
          0.9744088602730071,
          -0.29420623561316916,
          -0.5779436336856351,
          -1.3840170311282365,
          2.314676910076252,
          0.6415398505272547,
          -0.8002006468597685,
          0.6922191370110591,
          -1.0337120485296762,
          0.27265670125524993,
          -0.5797583333024258,
          0.5447513266398479,
          1.2410264787389498,
          -0.3170328105037755,
          0.9375460090151588,
          0.2879885443792549,
          -1.6938341411969675,
          -0.07472009167841874,
          0.5060026725044797,
          -0.8504009261137909,
          0.732510438788298,
          2.239796161013942,
          0.7692758256658025,
          -0.327999523823669,
          -0.0522999588114854,
          0.7404336785517659,
          1.006511440200384,
          -1.0954078070436444,
          -0.694419007954893,
          0.9170675514111376,
          0.2410176623597317,
          -1.1417311818412559,
          -2.036168540701319,
          -0.5852200554789933,
          -0.08187573553144036,
          -0.0108941525886899,
          0.5043090936377923,
          -0.009038725156449571,
          0.37521561129710973,
          0.5454233016591511,
          -1.2019374781761154,
          -1.2164146034848031,
          -1.5521771642600135,
          1.5260481075021362,
          0.7511200123355126,
          -1.201730403956396,
          2.2280888976822624,
          -0.15975558174063254,
          -0.21141327351955494,
          0.3060476425825168,
          -0.20791345635292988,
          0.9746962275768414,
          -0.3798940618161446,
          -1.2099430641956597,
          -0.07687618710847464,
          0.04855691969444076,
          1.6219188475758473,
          -2.1694340031988157,
          1.1071533539052,
          1.228055445210511,
          0.9847854355920682,
          -1.7122298669622624,
          -0.23909369014186913,
          0.9571627095229488,
          0.2050568135377792,
          -0.9270560083471667,
          0.974859311003513,
          0.37850037510517365,
          0.47070287060999044,
          0.8239361128145453,
          0.9503701842417043,
          0.3020754261820294,
          0.5335541974559987
         ]
        },
        {
         "boxpoints": false,
         "line": {
          "width": 1.3
         },
         "marker": {
          "color": "rgba(55, 128, 191, 1.0)"
         },
         "name": "B",
         "orientation": "v",
         "type": "box",
         "y": [
          -0.9399902999168411,
          -1.9423380705231792,
          0.4522164949791178,
          -1.4487787439238513,
          0.6801991481379681,
          -0.9371935088416633,
          -0.017229639492253413,
          -0.258876955937129,
          -1.0817046480966666,
          -0.6355540706675884,
          -0.5095868553778142,
          1.0783223972420422,
          0.1658907389286997,
          0.6321115178431862,
          -0.3158816940165806,
          1.1039231468906006,
          -0.49906935443041817,
          -0.6315137548742901,
          0.4726907486757533,
          0.2785663383433755,
          0.6756828406946835,
          -0.1937357330418802,
          0.5631093809666425,
          0.09076004610545052,
          -0.08080029963722939,
          -0.24121391840168532,
          -0.8838536665321517,
          -0.16955688742526506,
          0.5456960917581483,
          0.3461823440618255,
          0.8838886872681287,
          0.6007935651747616,
          -0.554952740896429,
          0.16087588010661694,
          0.7139512276978098,
          0.7836504954457244,
          -0.7468182950644572,
          -1.2852739351722766,
          -0.7377216443690595,
          0.7879482149641246,
          0.6888763990791642,
          2.0131037127401514,
          -0.9590282314305115,
          -0.08995759073683214,
          0.29072502929996125,
          1.6081002671179545,
          -0.11460765764050192,
          -1.187598726286891,
          0.9591573131300998,
          -1.0752516355918234,
          -0.13931574040481506,
          0.4015932029670253,
          0.15440121837917983,
          -0.38647080941415796,
          -1.3210927141383915,
          0.8642920456342552,
          0.6015658553512785,
          0.14569108608113243,
          0.6947284302526355,
          -0.7024617110754191,
          0.1651577477071164,
          -0.407736164353038,
          2.1840342297316826,
          -0.596291435423442,
          -1.8856920299159774,
          -0.3345990732118949,
          -1.7415128836734322,
          0.6112073340788858,
          1.7548265817244395,
          0.9293380526290771,
          -1.373294835797414,
          0.03127355648398631,
          0.4160208366523142,
          -0.11088801603936746,
          0.9221175098804136,
          -1.1576877119234141,
          -0.39813707295622613,
          -1.0592320235705353,
          0.37986665125962565,
          -0.5570483578397022,
          0.6777186339963158,
          -0.38644735124934115,
          -0.46445620006442506,
          -0.4250050264070511,
          1.0890493493481044,
          -1.4627988247249566,
          -0.470768139390512,
          -0.18899810886234358,
          0.4654101860415952,
          1.6779775844139893,
          -1.876317969649985,
          -0.1702025954803815,
          0.7386275124863215,
          -0.995687819654236,
          0.5688961016409643,
          0.003505412674648637,
          0.7707394956863137,
          0.25837287808466486,
          -1.3123051555731073,
          -0.14547432429903318
         ]
        },
        {
         "boxpoints": false,
         "line": {
          "width": 1.3
         },
         "marker": {
          "color": "rgba(50, 171, 96, 1.0)"
         },
         "name": "C",
         "orientation": "v",
         "type": "box",
         "y": [
          -2.1868432802102773,
          -0.7250140419511258,
          -0.6913827612230679,
          0.04814664355985677,
          -0.2688168197666106,
          1.10971313648696,
          -0.6771329496928161,
          0.5260619113595164,
          0.049226185832037424,
          -2.012896157534608,
          -0.4782778769781722,
          0.46681896255807576,
          -0.9366436684435993,
          -0.3025726125323398,
          0.5366046480995682,
          0.3931718093006377,
          -0.7826703785528093,
          -0.5788198960628711,
          -0.6961068548743381,
          0.34041440049893834,
          0.4496610494223251,
          -0.28633727827967465,
          0.6037630528460217,
          0.7509338310040284,
          -1.0536232970283654,
          -1.8834070004092935,
          -0.218141841949026,
          -0.7634726767533443,
          0.268267950607665,
          -0.16541212991899704,
          0.712560943060834,
          -0.4631683253190213,
          0.8072864768418512,
          1.4538043579554563,
          0.6850129423545135,
          -0.6910418773802264,
          -0.8183486993360881,
          -0.963464304316495,
          1.1680409288637745,
          0.7485948742648829,
          -0.11773529201589432,
          1.170204622585392,
          1.4616737848284929,
          0.3167398941877916,
          -0.8343529561308559,
          1.1259989075148988,
          -0.15813832552433288,
          0.045890037768292445,
          -0.2453926220559531,
          -0.7035163255716897,
          0.4602750456413887,
          -1.4193356314795913,
          -0.9760304750681537,
          0.4379325718081307,
          0.12757322745774302,
          -0.28421704417432614,
          -1.1129398620348998,
          1.382523056665255,
          1.1325058761994478,
          1.589567467021451,
          0.5940511289021116,
          -0.4346313423659601,
          0.04003555131307455,
          -0.9659407770041554,
          0.6003559194676078,
          -1.8591787074276616,
          1.5529637948017165,
          -1.2523095244656894,
          0.3051767327838226,
          0.47121194936878663,
          0.9891933978078691,
          -0.20379515668636156,
          -0.8456925702915231,
          0.26574691398209277,
          0.3348203663967337,
          1.2132380685344786,
          -0.6156955586822158,
          -0.14443220317021072,
          0.40282161097393204,
          -0.6924508573035683,
          0.6328059445510126,
          -0.9584109636433588,
          0.06982925441407545,
          -0.6406368622400371,
          -1.2760905752272835,
          -0.18908764420038793,
          -0.908965845745114,
          1.218311234850609,
          -0.6749659299871115,
          -0.4051594201816622,
          1.313294626095533,
          -0.6838154253972283,
          -0.2865694769651911,
          -1.1757599785360122,
          1.9763003663416487,
          0.27643637305796076,
          -0.3744060218984946,
          -0.6709474868077607,
          1.2477324330421622,
          1.6530515466661837
         ]
        },
        {
         "boxpoints": false,
         "line": {
          "width": 1.3
         },
         "marker": {
          "color": "rgba(128, 0, 128, 1.0)"
         },
         "name": "d",
         "orientation": "v",
         "type": "box",
         "y": [
          0.2329180877485759,
          -0.779851055810576,
          -0.15682562020637367,
          -0.44798565785938754,
          -0.31328610636393045,
          1.009703250616094,
          1.690511529886859,
          -1.7727767351074708,
          -1.2898117645716012,
          -1.0598811055611714,
          -0.05995840406671184,
          0.35950289397366847,
          -0.6024925133706687,
          0.5616325192625717,
          -0.4077991936455839,
          -1.661665789770493,
          -0.19894131083362393,
          1.4848139496354045,
          -0.2187519979030449,
          0.014575982368184399,
          -0.670177309744851,
          -0.659774451183918,
          -0.19852388012201994,
          -0.33428900219866814,
          -0.5081847640018546,
          0.6727879848051744,
          -1.5095554860200469,
          -0.3195538761166854,
          -0.8382512667911439,
          0.12633735965166668,
          -0.37448278208313635,
          0.4313852701787521,
          -0.3576282497301914,
          -0.36714254820237824,
          1.2092150655441531,
          -0.3738733597435478,
          1.3908218125778182,
          0.9259595285339431,
          -1.2151942463833356,
          -1.7729149464046192,
          1.5236948417942808,
          0.9167358395734678,
          0.3789304814449219,
          -0.5762996507640142,
          0.7493142071893915,
          -0.9914982111223593,
          -0.8242908979667105,
          0.04244424498827081,
          0.3391159515427539,
          -1.8228026546752387,
          -1.0332861520597718,
          -0.214662965158623,
          0.3475373836788013,
          -0.0684429471666999,
          -1.068272700683441,
          0.10236365335036744,
          1.8088991737076445,
          0.18448770702484002,
          -0.006090338869984403,
          -0.6211910374135585,
          -0.5201526328367619,
          1.1555782431562285,
          -0.8961811434389672,
          -0.5937579695866875,
          -0.7710679156827561,
          -0.6786812472645407,
          -0.7466583486414361,
          0.04771858679514946,
          -0.7601310788064842,
          0.8281712042496281,
          -0.3042202438088885,
          1.0755294024994413,
          2.0596066996717686,
          0.9540488210633757,
          -0.5634964312547651,
          0.14932718269408285,
          2.120865529677368,
          1.5484005448822202,
          -0.8948512068816719,
          -0.5535728791239111,
          1.1659721530863791,
          -0.338269477198465,
          0.6662636529382033,
          -0.8386785671465247,
          -0.45016050483340514,
          1.9719608116281135,
          -1.125112777802077,
          -0.4565031806440209,
          -0.6082343672469854,
          0.523275011356581,
          -0.9590547408867666,
          1.073701314819291,
          -0.49048978185103653,
          0.8348546381818701,
          -0.002962248241787498,
          1.0307814201352343,
          0.20780899895915692,
          -0.4915456045196982,
          0.5783269322123842,
          2.295383481278133
         ]
        }
       ],
       "layout": {
        "legend": {
         "bgcolor": "#F5F6F9",
         "font": {
          "color": "#4D5663"
         }
        },
        "paper_bgcolor": "#F5F6F9",
        "plot_bgcolor": "#F5F6F9",
        "template": {
         "data": {
          "bar": [
           {
            "error_x": {
             "color": "#2a3f5f"
            },
            "error_y": {
             "color": "#2a3f5f"
            },
            "marker": {
             "line": {
              "color": "#E5ECF6",
              "width": 0.5
             },
             "pattern": {
              "fillmode": "overlay",
              "size": 10,
              "solidity": 0.2
             }
            },
            "type": "bar"
           }
          ],
          "barpolar": [
           {
            "marker": {
             "line": {
              "color": "#E5ECF6",
              "width": 0.5
             },
             "pattern": {
              "fillmode": "overlay",
              "size": 10,
              "solidity": 0.2
             }
            },
            "type": "barpolar"
           }
          ],
          "carpet": [
           {
            "aaxis": {
             "endlinecolor": "#2a3f5f",
             "gridcolor": "white",
             "linecolor": "white",
             "minorgridcolor": "white",
             "startlinecolor": "#2a3f5f"
            },
            "baxis": {
             "endlinecolor": "#2a3f5f",
             "gridcolor": "white",
             "linecolor": "white",
             "minorgridcolor": "white",
             "startlinecolor": "#2a3f5f"
            },
            "type": "carpet"
           }
          ],
          "choropleth": [
           {
            "colorbar": {
             "outlinewidth": 0,
             "ticks": ""
            },
            "type": "choropleth"
           }
          ],
          "contour": [
           {
            "colorbar": {
             "outlinewidth": 0,
             "ticks": ""
            },
            "colorscale": [
             [
              0,
              "#0d0887"
             ],
             [
              0.1111111111111111,
              "#46039f"
             ],
             [
              0.2222222222222222,
              "#7201a8"
             ],
             [
              0.3333333333333333,
              "#9c179e"
             ],
             [
              0.4444444444444444,
              "#bd3786"
             ],
             [
              0.5555555555555556,
              "#d8576b"
             ],
             [
              0.6666666666666666,
              "#ed7953"
             ],
             [
              0.7777777777777778,
              "#fb9f3a"
             ],
             [
              0.8888888888888888,
              "#fdca26"
             ],
             [
              1,
              "#f0f921"
             ]
            ],
            "type": "contour"
           }
          ],
          "contourcarpet": [
           {
            "colorbar": {
             "outlinewidth": 0,
             "ticks": ""
            },
            "type": "contourcarpet"
           }
          ],
          "heatmap": [
           {
            "colorbar": {
             "outlinewidth": 0,
             "ticks": ""
            },
            "colorscale": [
             [
              0,
              "#0d0887"
             ],
             [
              0.1111111111111111,
              "#46039f"
             ],
             [
              0.2222222222222222,
              "#7201a8"
             ],
             [
              0.3333333333333333,
              "#9c179e"
             ],
             [
              0.4444444444444444,
              "#bd3786"
             ],
             [
              0.5555555555555556,
              "#d8576b"
             ],
             [
              0.6666666666666666,
              "#ed7953"
             ],
             [
              0.7777777777777778,
              "#fb9f3a"
             ],
             [
              0.8888888888888888,
              "#fdca26"
             ],
             [
              1,
              "#f0f921"
             ]
            ],
            "type": "heatmap"
           }
          ],
          "heatmapgl": [
           {
            "colorbar": {
             "outlinewidth": 0,
             "ticks": ""
            },
            "colorscale": [
             [
              0,
              "#0d0887"
             ],
             [
              0.1111111111111111,
              "#46039f"
             ],
             [
              0.2222222222222222,
              "#7201a8"
             ],
             [
              0.3333333333333333,
              "#9c179e"
             ],
             [
              0.4444444444444444,
              "#bd3786"
             ],
             [
              0.5555555555555556,
              "#d8576b"
             ],
             [
              0.6666666666666666,
              "#ed7953"
             ],
             [
              0.7777777777777778,
              "#fb9f3a"
             ],
             [
              0.8888888888888888,
              "#fdca26"
             ],
             [
              1,
              "#f0f921"
             ]
            ],
            "type": "heatmapgl"
           }
          ],
          "histogram": [
           {
            "marker": {
             "pattern": {
              "fillmode": "overlay",
              "size": 10,
              "solidity": 0.2
             }
            },
            "type": "histogram"
           }
          ],
          "histogram2d": [
           {
            "colorbar": {
             "outlinewidth": 0,
             "ticks": ""
            },
            "colorscale": [
             [
              0,
              "#0d0887"
             ],
             [
              0.1111111111111111,
              "#46039f"
             ],
             [
              0.2222222222222222,
              "#7201a8"
             ],
             [
              0.3333333333333333,
              "#9c179e"
             ],
             [
              0.4444444444444444,
              "#bd3786"
             ],
             [
              0.5555555555555556,
              "#d8576b"
             ],
             [
              0.6666666666666666,
              "#ed7953"
             ],
             [
              0.7777777777777778,
              "#fb9f3a"
             ],
             [
              0.8888888888888888,
              "#fdca26"
             ],
             [
              1,
              "#f0f921"
             ]
            ],
            "type": "histogram2d"
           }
          ],
          "histogram2dcontour": [
           {
            "colorbar": {
             "outlinewidth": 0,
             "ticks": ""
            },
            "colorscale": [
             [
              0,
              "#0d0887"
             ],
             [
              0.1111111111111111,
              "#46039f"
             ],
             [
              0.2222222222222222,
              "#7201a8"
             ],
             [
              0.3333333333333333,
              "#9c179e"
             ],
             [
              0.4444444444444444,
              "#bd3786"
             ],
             [
              0.5555555555555556,
              "#d8576b"
             ],
             [
              0.6666666666666666,
              "#ed7953"
             ],
             [
              0.7777777777777778,
              "#fb9f3a"
             ],
             [
              0.8888888888888888,
              "#fdca26"
             ],
             [
              1,
              "#f0f921"
             ]
            ],
            "type": "histogram2dcontour"
           }
          ],
          "mesh3d": [
           {
            "colorbar": {
             "outlinewidth": 0,
             "ticks": ""
            },
            "type": "mesh3d"
           }
          ],
          "parcoords": [
           {
            "line": {
             "colorbar": {
              "outlinewidth": 0,
              "ticks": ""
             }
            },
            "type": "parcoords"
           }
          ],
          "pie": [
           {
            "automargin": true,
            "type": "pie"
           }
          ],
          "scatter": [
           {
            "marker": {
             "colorbar": {
              "outlinewidth": 0,
              "ticks": ""
             }
            },
            "type": "scatter"
           }
          ],
          "scatter3d": [
           {
            "line": {
             "colorbar": {
              "outlinewidth": 0,
              "ticks": ""
             }
            },
            "marker": {
             "colorbar": {
              "outlinewidth": 0,
              "ticks": ""
             }
            },
            "type": "scatter3d"
           }
          ],
          "scattercarpet": [
           {
            "marker": {
             "colorbar": {
              "outlinewidth": 0,
              "ticks": ""
             }
            },
            "type": "scattercarpet"
           }
          ],
          "scattergeo": [
           {
            "marker": {
             "colorbar": {
              "outlinewidth": 0,
              "ticks": ""
             }
            },
            "type": "scattergeo"
           }
          ],
          "scattergl": [
           {
            "marker": {
             "colorbar": {
              "outlinewidth": 0,
              "ticks": ""
             }
            },
            "type": "scattergl"
           }
          ],
          "scattermapbox": [
           {
            "marker": {
             "colorbar": {
              "outlinewidth": 0,
              "ticks": ""
             }
            },
            "type": "scattermapbox"
           }
          ],
          "scatterpolar": [
           {
            "marker": {
             "colorbar": {
              "outlinewidth": 0,
              "ticks": ""
             }
            },
            "type": "scatterpolar"
           }
          ],
          "scatterpolargl": [
           {
            "marker": {
             "colorbar": {
              "outlinewidth": 0,
              "ticks": ""
             }
            },
            "type": "scatterpolargl"
           }
          ],
          "scatterternary": [
           {
            "marker": {
             "colorbar": {
              "outlinewidth": 0,
              "ticks": ""
             }
            },
            "type": "scatterternary"
           }
          ],
          "surface": [
           {
            "colorbar": {
             "outlinewidth": 0,
             "ticks": ""
            },
            "colorscale": [
             [
              0,
              "#0d0887"
             ],
             [
              0.1111111111111111,
              "#46039f"
             ],
             [
              0.2222222222222222,
              "#7201a8"
             ],
             [
              0.3333333333333333,
              "#9c179e"
             ],
             [
              0.4444444444444444,
              "#bd3786"
             ],
             [
              0.5555555555555556,
              "#d8576b"
             ],
             [
              0.6666666666666666,
              "#ed7953"
             ],
             [
              0.7777777777777778,
              "#fb9f3a"
             ],
             [
              0.8888888888888888,
              "#fdca26"
             ],
             [
              1,
              "#f0f921"
             ]
            ],
            "type": "surface"
           }
          ],
          "table": [
           {
            "cells": {
             "fill": {
              "color": "#EBF0F8"
             },
             "line": {
              "color": "white"
             }
            },
            "header": {
             "fill": {
              "color": "#C8D4E3"
             },
             "line": {
              "color": "white"
             }
            },
            "type": "table"
           }
          ]
         },
         "layout": {
          "annotationdefaults": {
           "arrowcolor": "#2a3f5f",
           "arrowhead": 0,
           "arrowwidth": 1
          },
          "autotypenumbers": "strict",
          "coloraxis": {
           "colorbar": {
            "outlinewidth": 0,
            "ticks": ""
           }
          },
          "colorscale": {
           "diverging": [
            [
             0,
             "#8e0152"
            ],
            [
             0.1,
             "#c51b7d"
            ],
            [
             0.2,
             "#de77ae"
            ],
            [
             0.3,
             "#f1b6da"
            ],
            [
             0.4,
             "#fde0ef"
            ],
            [
             0.5,
             "#f7f7f7"
            ],
            [
             0.6,
             "#e6f5d0"
            ],
            [
             0.7,
             "#b8e186"
            ],
            [
             0.8,
             "#7fbc41"
            ],
            [
             0.9,
             "#4d9221"
            ],
            [
             1,
             "#276419"
            ]
           ],
           "sequential": [
            [
             0,
             "#0d0887"
            ],
            [
             0.1111111111111111,
             "#46039f"
            ],
            [
             0.2222222222222222,
             "#7201a8"
            ],
            [
             0.3333333333333333,
             "#9c179e"
            ],
            [
             0.4444444444444444,
             "#bd3786"
            ],
            [
             0.5555555555555556,
             "#d8576b"
            ],
            [
             0.6666666666666666,
             "#ed7953"
            ],
            [
             0.7777777777777778,
             "#fb9f3a"
            ],
            [
             0.8888888888888888,
             "#fdca26"
            ],
            [
             1,
             "#f0f921"
            ]
           ],
           "sequentialminus": [
            [
             0,
             "#0d0887"
            ],
            [
             0.1111111111111111,
             "#46039f"
            ],
            [
             0.2222222222222222,
             "#7201a8"
            ],
            [
             0.3333333333333333,
             "#9c179e"
            ],
            [
             0.4444444444444444,
             "#bd3786"
            ],
            [
             0.5555555555555556,
             "#d8576b"
            ],
            [
             0.6666666666666666,
             "#ed7953"
            ],
            [
             0.7777777777777778,
             "#fb9f3a"
            ],
            [
             0.8888888888888888,
             "#fdca26"
            ],
            [
             1,
             "#f0f921"
            ]
           ]
          },
          "colorway": [
           "#636efa",
           "#EF553B",
           "#00cc96",
           "#ab63fa",
           "#FFA15A",
           "#19d3f3",
           "#FF6692",
           "#B6E880",
           "#FF97FF",
           "#FECB52"
          ],
          "font": {
           "color": "#2a3f5f"
          },
          "geo": {
           "bgcolor": "white",
           "lakecolor": "white",
           "landcolor": "#E5ECF6",
           "showlakes": true,
           "showland": true,
           "subunitcolor": "white"
          },
          "hoverlabel": {
           "align": "left"
          },
          "hovermode": "closest",
          "mapbox": {
           "style": "light"
          },
          "paper_bgcolor": "white",
          "plot_bgcolor": "#E5ECF6",
          "polar": {
           "angularaxis": {
            "gridcolor": "white",
            "linecolor": "white",
            "ticks": ""
           },
           "bgcolor": "#E5ECF6",
           "radialaxis": {
            "gridcolor": "white",
            "linecolor": "white",
            "ticks": ""
           }
          },
          "scene": {
           "xaxis": {
            "backgroundcolor": "#E5ECF6",
            "gridcolor": "white",
            "gridwidth": 2,
            "linecolor": "white",
            "showbackground": true,
            "ticks": "",
            "zerolinecolor": "white"
           },
           "yaxis": {
            "backgroundcolor": "#E5ECF6",
            "gridcolor": "white",
            "gridwidth": 2,
            "linecolor": "white",
            "showbackground": true,
            "ticks": "",
            "zerolinecolor": "white"
           },
           "zaxis": {
            "backgroundcolor": "#E5ECF6",
            "gridcolor": "white",
            "gridwidth": 2,
            "linecolor": "white",
            "showbackground": true,
            "ticks": "",
            "zerolinecolor": "white"
           }
          },
          "shapedefaults": {
           "line": {
            "color": "#2a3f5f"
           }
          },
          "ternary": {
           "aaxis": {
            "gridcolor": "white",
            "linecolor": "white",
            "ticks": ""
           },
           "baxis": {
            "gridcolor": "white",
            "linecolor": "white",
            "ticks": ""
           },
           "bgcolor": "#E5ECF6",
           "caxis": {
            "gridcolor": "white",
            "linecolor": "white",
            "ticks": ""
           }
          },
          "title": {
           "x": 0.05
          },
          "xaxis": {
           "automargin": true,
           "gridcolor": "white",
           "linecolor": "white",
           "ticks": "",
           "title": {
            "standoff": 15
           },
           "zerolinecolor": "white",
           "zerolinewidth": 2
          },
          "yaxis": {
           "automargin": true,
           "gridcolor": "white",
           "linecolor": "white",
           "ticks": "",
           "title": {
            "standoff": 15
           },
           "zerolinecolor": "white",
           "zerolinewidth": 2
          }
         }
        },
        "title": {
         "font": {
          "color": "#4D5663"
         }
        },
        "xaxis": {
         "gridcolor": "#E1E5ED",
         "showgrid": true,
         "tickfont": {
          "color": "#4D5663"
         },
         "title": {
          "font": {
           "color": "#4D5663"
          },
          "text": ""
         },
         "zerolinecolor": "#E1E5ED"
        },
        "yaxis": {
         "gridcolor": "#E1E5ED",
         "showgrid": true,
         "tickfont": {
          "color": "#4D5663"
         },
         "title": {
          "font": {
           "color": "#4D5663"
          },
          "text": ""
         },
         "zerolinecolor": "#E1E5ED"
        }
       }
      },
      "text/html": [
       "<div>                            <div id=\"db3e0acc-b1e5-4ef3-8c95-d7919b0cd9c1\" class=\"plotly-graph-div\" style=\"height:525px; width:100%;\"></div>            <script type=\"text/javascript\">                require([\"plotly\"], function(Plotly) {                    window.PLOTLYENV=window.PLOTLYENV || {};\n",
       "                    window.PLOTLYENV.BASE_URL='https://plot.ly';                                    if (document.getElementById(\"db3e0acc-b1e5-4ef3-8c95-d7919b0cd9c1\")) {                    Plotly.newPlot(                        \"db3e0acc-b1e5-4ef3-8c95-d7919b0cd9c1\",                        [{\"boxpoints\":false,\"line\":{\"width\":1.3},\"marker\":{\"color\":\"rgba(255, 153, 51, 1.0)\"},\"name\":\"A\",\"orientation\":\"v\",\"y\":[-0.6912741429033772,2.6385271622920055,-0.7602857136434306,-0.17989398726623554,1.1314908404810518,-0.9236277429682401,0.5738678190716883,0.9864544801541595,0.32279219540734283,0.5885178288924707,0.5024994967413074,0.33207596909749637,0.6161296323145041,0.09859447753227293,-0.8227834082627532,0.28464354765094746,-0.947342488658302,-0.8548769790411005,1.0921015040745041,-0.6059906110102712,0.7134665644043366,0.2506753216842416,0.5704988886012403,-0.9001676759617967,1.5577514195590443,-0.8935476824587619,-1.643208970155166,0.9744088602730071,-0.29420623561316916,-0.5779436336856351,-1.3840170311282365,2.314676910076252,0.6415398505272547,-0.8002006468597685,0.6922191370110591,-1.0337120485296762,0.27265670125524993,-0.5797583333024258,0.5447513266398479,1.2410264787389498,-0.3170328105037755,0.9375460090151588,0.2879885443792549,-1.6938341411969675,-0.07472009167841874,0.5060026725044797,-0.8504009261137909,0.732510438788298,2.239796161013942,0.7692758256658025,-0.327999523823669,-0.0522999588114854,0.7404336785517659,1.006511440200384,-1.0954078070436444,-0.694419007954893,0.9170675514111376,0.2410176623597317,-1.1417311818412559,-2.036168540701319,-0.5852200554789933,-0.08187573553144036,-0.0108941525886899,0.5043090936377923,-0.009038725156449571,0.37521561129710973,0.5454233016591511,-1.2019374781761154,-1.2164146034848031,-1.5521771642600135,1.5260481075021362,0.7511200123355126,-1.201730403956396,2.2280888976822624,-0.15975558174063254,-0.21141327351955494,0.3060476425825168,-0.20791345635292988,0.9746962275768414,-0.3798940618161446,-1.2099430641956597,-0.07687618710847464,0.04855691969444076,1.6219188475758473,-2.1694340031988157,1.1071533539052,1.228055445210511,0.9847854355920682,-1.7122298669622624,-0.23909369014186913,0.9571627095229488,0.2050568135377792,-0.9270560083471667,0.974859311003513,0.37850037510517365,0.47070287060999044,0.8239361128145453,0.9503701842417043,0.3020754261820294,0.5335541974559987],\"type\":\"box\"},{\"boxpoints\":false,\"line\":{\"width\":1.3},\"marker\":{\"color\":\"rgba(55, 128, 191, 1.0)\"},\"name\":\"B\",\"orientation\":\"v\",\"y\":[-0.9399902999168411,-1.9423380705231792,0.4522164949791178,-1.4487787439238513,0.6801991481379681,-0.9371935088416633,-0.017229639492253413,-0.258876955937129,-1.0817046480966666,-0.6355540706675884,-0.5095868553778142,1.0783223972420422,0.1658907389286997,0.6321115178431862,-0.3158816940165806,1.1039231468906006,-0.49906935443041817,-0.6315137548742901,0.4726907486757533,0.2785663383433755,0.6756828406946835,-0.1937357330418802,0.5631093809666425,0.09076004610545052,-0.08080029963722939,-0.24121391840168532,-0.8838536665321517,-0.16955688742526506,0.5456960917581483,0.3461823440618255,0.8838886872681287,0.6007935651747616,-0.554952740896429,0.16087588010661694,0.7139512276978098,0.7836504954457244,-0.7468182950644572,-1.2852739351722766,-0.7377216443690595,0.7879482149641246,0.6888763990791642,2.0131037127401514,-0.9590282314305115,-0.08995759073683214,0.29072502929996125,1.6081002671179545,-0.11460765764050192,-1.187598726286891,0.9591573131300998,-1.0752516355918234,-0.13931574040481506,0.4015932029670253,0.15440121837917983,-0.38647080941415796,-1.3210927141383915,0.8642920456342552,0.6015658553512785,0.14569108608113243,0.6947284302526355,-0.7024617110754191,0.1651577477071164,-0.407736164353038,2.1840342297316826,-0.596291435423442,-1.8856920299159774,-0.3345990732118949,-1.7415128836734322,0.6112073340788858,1.7548265817244395,0.9293380526290771,-1.373294835797414,0.03127355648398631,0.4160208366523142,-0.11088801603936746,0.9221175098804136,-1.1576877119234141,-0.39813707295622613,-1.0592320235705353,0.37986665125962565,-0.5570483578397022,0.6777186339963158,-0.38644735124934115,-0.46445620006442506,-0.4250050264070511,1.0890493493481044,-1.4627988247249566,-0.470768139390512,-0.18899810886234358,0.4654101860415952,1.6779775844139893,-1.876317969649985,-0.1702025954803815,0.7386275124863215,-0.995687819654236,0.5688961016409643,0.003505412674648637,0.7707394956863137,0.25837287808466486,-1.3123051555731073,-0.14547432429903318],\"type\":\"box\"},{\"boxpoints\":false,\"line\":{\"width\":1.3},\"marker\":{\"color\":\"rgba(50, 171, 96, 1.0)\"},\"name\":\"C\",\"orientation\":\"v\",\"y\":[-2.1868432802102773,-0.7250140419511258,-0.6913827612230679,0.04814664355985677,-0.2688168197666106,1.10971313648696,-0.6771329496928161,0.5260619113595164,0.049226185832037424,-2.012896157534608,-0.4782778769781722,0.46681896255807576,-0.9366436684435993,-0.3025726125323398,0.5366046480995682,0.3931718093006377,-0.7826703785528093,-0.5788198960628711,-0.6961068548743381,0.34041440049893834,0.4496610494223251,-0.28633727827967465,0.6037630528460217,0.7509338310040284,-1.0536232970283654,-1.8834070004092935,-0.218141841949026,-0.7634726767533443,0.268267950607665,-0.16541212991899704,0.712560943060834,-0.4631683253190213,0.8072864768418512,1.4538043579554563,0.6850129423545135,-0.6910418773802264,-0.8183486993360881,-0.963464304316495,1.1680409288637745,0.7485948742648829,-0.11773529201589432,1.170204622585392,1.4616737848284929,0.3167398941877916,-0.8343529561308559,1.1259989075148988,-0.15813832552433288,0.045890037768292445,-0.2453926220559531,-0.7035163255716897,0.4602750456413887,-1.4193356314795913,-0.9760304750681537,0.4379325718081307,0.12757322745774302,-0.28421704417432614,-1.1129398620348998,1.382523056665255,1.1325058761994478,1.589567467021451,0.5940511289021116,-0.4346313423659601,0.04003555131307455,-0.9659407770041554,0.6003559194676078,-1.8591787074276616,1.5529637948017165,-1.2523095244656894,0.3051767327838226,0.47121194936878663,0.9891933978078691,-0.20379515668636156,-0.8456925702915231,0.26574691398209277,0.3348203663967337,1.2132380685344786,-0.6156955586822158,-0.14443220317021072,0.40282161097393204,-0.6924508573035683,0.6328059445510126,-0.9584109636433588,0.06982925441407545,-0.6406368622400371,-1.2760905752272835,-0.18908764420038793,-0.908965845745114,1.218311234850609,-0.6749659299871115,-0.4051594201816622,1.313294626095533,-0.6838154253972283,-0.2865694769651911,-1.1757599785360122,1.9763003663416487,0.27643637305796076,-0.3744060218984946,-0.6709474868077607,1.2477324330421622,1.6530515466661837],\"type\":\"box\"},{\"boxpoints\":false,\"line\":{\"width\":1.3},\"marker\":{\"color\":\"rgba(128, 0, 128, 1.0)\"},\"name\":\"d\",\"orientation\":\"v\",\"y\":[0.2329180877485759,-0.779851055810576,-0.15682562020637367,-0.44798565785938754,-0.31328610636393045,1.009703250616094,1.690511529886859,-1.7727767351074708,-1.2898117645716012,-1.0598811055611714,-0.05995840406671184,0.35950289397366847,-0.6024925133706687,0.5616325192625717,-0.4077991936455839,-1.661665789770493,-0.19894131083362393,1.4848139496354045,-0.2187519979030449,0.014575982368184399,-0.670177309744851,-0.659774451183918,-0.19852388012201994,-0.33428900219866814,-0.5081847640018546,0.6727879848051744,-1.5095554860200469,-0.3195538761166854,-0.8382512667911439,0.12633735965166668,-0.37448278208313635,0.4313852701787521,-0.3576282497301914,-0.36714254820237824,1.2092150655441531,-0.3738733597435478,1.3908218125778182,0.9259595285339431,-1.2151942463833356,-1.7729149464046192,1.5236948417942808,0.9167358395734678,0.3789304814449219,-0.5762996507640142,0.7493142071893915,-0.9914982111223593,-0.8242908979667105,0.04244424498827081,0.3391159515427539,-1.8228026546752387,-1.0332861520597718,-0.214662965158623,0.3475373836788013,-0.0684429471666999,-1.068272700683441,0.10236365335036744,1.8088991737076445,0.18448770702484002,-0.006090338869984403,-0.6211910374135585,-0.5201526328367619,1.1555782431562285,-0.8961811434389672,-0.5937579695866875,-0.7710679156827561,-0.6786812472645407,-0.7466583486414361,0.04771858679514946,-0.7601310788064842,0.8281712042496281,-0.3042202438088885,1.0755294024994413,2.0596066996717686,0.9540488210633757,-0.5634964312547651,0.14932718269408285,2.120865529677368,1.5484005448822202,-0.8948512068816719,-0.5535728791239111,1.1659721530863791,-0.338269477198465,0.6662636529382033,-0.8386785671465247,-0.45016050483340514,1.9719608116281135,-1.125112777802077,-0.4565031806440209,-0.6082343672469854,0.523275011356581,-0.9590547408867666,1.073701314819291,-0.49048978185103653,0.8348546381818701,-0.002962248241787498,1.0307814201352343,0.20780899895915692,-0.4915456045196982,0.5783269322123842,2.295383481278133],\"type\":\"box\"}],                        {\"legend\":{\"bgcolor\":\"#F5F6F9\",\"font\":{\"color\":\"#4D5663\"}},\"paper_bgcolor\":\"#F5F6F9\",\"plot_bgcolor\":\"#F5F6F9\",\"template\":{\"data\":{\"barpolar\":[{\"marker\":{\"line\":{\"color\":\"#E5ECF6\",\"width\":0.5},\"pattern\":{\"fillmode\":\"overlay\",\"size\":10,\"solidity\":0.2}},\"type\":\"barpolar\"}],\"bar\":[{\"error_x\":{\"color\":\"#2a3f5f\"},\"error_y\":{\"color\":\"#2a3f5f\"},\"marker\":{\"line\":{\"color\":\"#E5ECF6\",\"width\":0.5},\"pattern\":{\"fillmode\":\"overlay\",\"size\":10,\"solidity\":0.2}},\"type\":\"bar\"}],\"carpet\":[{\"aaxis\":{\"endlinecolor\":\"#2a3f5f\",\"gridcolor\":\"white\",\"linecolor\":\"white\",\"minorgridcolor\":\"white\",\"startlinecolor\":\"#2a3f5f\"},\"baxis\":{\"endlinecolor\":\"#2a3f5f\",\"gridcolor\":\"white\",\"linecolor\":\"white\",\"minorgridcolor\":\"white\",\"startlinecolor\":\"#2a3f5f\"},\"type\":\"carpet\"}],\"choropleth\":[{\"colorbar\":{\"outlinewidth\":0,\"ticks\":\"\"},\"type\":\"choropleth\"}],\"contourcarpet\":[{\"colorbar\":{\"outlinewidth\":0,\"ticks\":\"\"},\"type\":\"contourcarpet\"}],\"contour\":[{\"colorbar\":{\"outlinewidth\":0,\"ticks\":\"\"},\"colorscale\":[[0.0,\"#0d0887\"],[0.1111111111111111,\"#46039f\"],[0.2222222222222222,\"#7201a8\"],[0.3333333333333333,\"#9c179e\"],[0.4444444444444444,\"#bd3786\"],[0.5555555555555556,\"#d8576b\"],[0.6666666666666666,\"#ed7953\"],[0.7777777777777778,\"#fb9f3a\"],[0.8888888888888888,\"#fdca26\"],[1.0,\"#f0f921\"]],\"type\":\"contour\"}],\"heatmapgl\":[{\"colorbar\":{\"outlinewidth\":0,\"ticks\":\"\"},\"colorscale\":[[0.0,\"#0d0887\"],[0.1111111111111111,\"#46039f\"],[0.2222222222222222,\"#7201a8\"],[0.3333333333333333,\"#9c179e\"],[0.4444444444444444,\"#bd3786\"],[0.5555555555555556,\"#d8576b\"],[0.6666666666666666,\"#ed7953\"],[0.7777777777777778,\"#fb9f3a\"],[0.8888888888888888,\"#fdca26\"],[1.0,\"#f0f921\"]],\"type\":\"heatmapgl\"}],\"heatmap\":[{\"colorbar\":{\"outlinewidth\":0,\"ticks\":\"\"},\"colorscale\":[[0.0,\"#0d0887\"],[0.1111111111111111,\"#46039f\"],[0.2222222222222222,\"#7201a8\"],[0.3333333333333333,\"#9c179e\"],[0.4444444444444444,\"#bd3786\"],[0.5555555555555556,\"#d8576b\"],[0.6666666666666666,\"#ed7953\"],[0.7777777777777778,\"#fb9f3a\"],[0.8888888888888888,\"#fdca26\"],[1.0,\"#f0f921\"]],\"type\":\"heatmap\"}],\"histogram2dcontour\":[{\"colorbar\":{\"outlinewidth\":0,\"ticks\":\"\"},\"colorscale\":[[0.0,\"#0d0887\"],[0.1111111111111111,\"#46039f\"],[0.2222222222222222,\"#7201a8\"],[0.3333333333333333,\"#9c179e\"],[0.4444444444444444,\"#bd3786\"],[0.5555555555555556,\"#d8576b\"],[0.6666666666666666,\"#ed7953\"],[0.7777777777777778,\"#fb9f3a\"],[0.8888888888888888,\"#fdca26\"],[1.0,\"#f0f921\"]],\"type\":\"histogram2dcontour\"}],\"histogram2d\":[{\"colorbar\":{\"outlinewidth\":0,\"ticks\":\"\"},\"colorscale\":[[0.0,\"#0d0887\"],[0.1111111111111111,\"#46039f\"],[0.2222222222222222,\"#7201a8\"],[0.3333333333333333,\"#9c179e\"],[0.4444444444444444,\"#bd3786\"],[0.5555555555555556,\"#d8576b\"],[0.6666666666666666,\"#ed7953\"],[0.7777777777777778,\"#fb9f3a\"],[0.8888888888888888,\"#fdca26\"],[1.0,\"#f0f921\"]],\"type\":\"histogram2d\"}],\"histogram\":[{\"marker\":{\"pattern\":{\"fillmode\":\"overlay\",\"size\":10,\"solidity\":0.2}},\"type\":\"histogram\"}],\"mesh3d\":[{\"colorbar\":{\"outlinewidth\":0,\"ticks\":\"\"},\"type\":\"mesh3d\"}],\"parcoords\":[{\"line\":{\"colorbar\":{\"outlinewidth\":0,\"ticks\":\"\"}},\"type\":\"parcoords\"}],\"pie\":[{\"automargin\":true,\"type\":\"pie\"}],\"scatter3d\":[{\"line\":{\"colorbar\":{\"outlinewidth\":0,\"ticks\":\"\"}},\"marker\":{\"colorbar\":{\"outlinewidth\":0,\"ticks\":\"\"}},\"type\":\"scatter3d\"}],\"scattercarpet\":[{\"marker\":{\"colorbar\":{\"outlinewidth\":0,\"ticks\":\"\"}},\"type\":\"scattercarpet\"}],\"scattergeo\":[{\"marker\":{\"colorbar\":{\"outlinewidth\":0,\"ticks\":\"\"}},\"type\":\"scattergeo\"}],\"scattergl\":[{\"marker\":{\"colorbar\":{\"outlinewidth\":0,\"ticks\":\"\"}},\"type\":\"scattergl\"}],\"scattermapbox\":[{\"marker\":{\"colorbar\":{\"outlinewidth\":0,\"ticks\":\"\"}},\"type\":\"scattermapbox\"}],\"scatterpolargl\":[{\"marker\":{\"colorbar\":{\"outlinewidth\":0,\"ticks\":\"\"}},\"type\":\"scatterpolargl\"}],\"scatterpolar\":[{\"marker\":{\"colorbar\":{\"outlinewidth\":0,\"ticks\":\"\"}},\"type\":\"scatterpolar\"}],\"scatter\":[{\"marker\":{\"colorbar\":{\"outlinewidth\":0,\"ticks\":\"\"}},\"type\":\"scatter\"}],\"scatterternary\":[{\"marker\":{\"colorbar\":{\"outlinewidth\":0,\"ticks\":\"\"}},\"type\":\"scatterternary\"}],\"surface\":[{\"colorbar\":{\"outlinewidth\":0,\"ticks\":\"\"},\"colorscale\":[[0.0,\"#0d0887\"],[0.1111111111111111,\"#46039f\"],[0.2222222222222222,\"#7201a8\"],[0.3333333333333333,\"#9c179e\"],[0.4444444444444444,\"#bd3786\"],[0.5555555555555556,\"#d8576b\"],[0.6666666666666666,\"#ed7953\"],[0.7777777777777778,\"#fb9f3a\"],[0.8888888888888888,\"#fdca26\"],[1.0,\"#f0f921\"]],\"type\":\"surface\"}],\"table\":[{\"cells\":{\"fill\":{\"color\":\"#EBF0F8\"},\"line\":{\"color\":\"white\"}},\"header\":{\"fill\":{\"color\":\"#C8D4E3\"},\"line\":{\"color\":\"white\"}},\"type\":\"table\"}]},\"layout\":{\"annotationdefaults\":{\"arrowcolor\":\"#2a3f5f\",\"arrowhead\":0,\"arrowwidth\":1},\"autotypenumbers\":\"strict\",\"coloraxis\":{\"colorbar\":{\"outlinewidth\":0,\"ticks\":\"\"}},\"colorscale\":{\"diverging\":[[0,\"#8e0152\"],[0.1,\"#c51b7d\"],[0.2,\"#de77ae\"],[0.3,\"#f1b6da\"],[0.4,\"#fde0ef\"],[0.5,\"#f7f7f7\"],[0.6,\"#e6f5d0\"],[0.7,\"#b8e186\"],[0.8,\"#7fbc41\"],[0.9,\"#4d9221\"],[1,\"#276419\"]],\"sequential\":[[0.0,\"#0d0887\"],[0.1111111111111111,\"#46039f\"],[0.2222222222222222,\"#7201a8\"],[0.3333333333333333,\"#9c179e\"],[0.4444444444444444,\"#bd3786\"],[0.5555555555555556,\"#d8576b\"],[0.6666666666666666,\"#ed7953\"],[0.7777777777777778,\"#fb9f3a\"],[0.8888888888888888,\"#fdca26\"],[1.0,\"#f0f921\"]],\"sequentialminus\":[[0.0,\"#0d0887\"],[0.1111111111111111,\"#46039f\"],[0.2222222222222222,\"#7201a8\"],[0.3333333333333333,\"#9c179e\"],[0.4444444444444444,\"#bd3786\"],[0.5555555555555556,\"#d8576b\"],[0.6666666666666666,\"#ed7953\"],[0.7777777777777778,\"#fb9f3a\"],[0.8888888888888888,\"#fdca26\"],[1.0,\"#f0f921\"]]},\"colorway\":[\"#636efa\",\"#EF553B\",\"#00cc96\",\"#ab63fa\",\"#FFA15A\",\"#19d3f3\",\"#FF6692\",\"#B6E880\",\"#FF97FF\",\"#FECB52\"],\"font\":{\"color\":\"#2a3f5f\"},\"geo\":{\"bgcolor\":\"white\",\"lakecolor\":\"white\",\"landcolor\":\"#E5ECF6\",\"showlakes\":true,\"showland\":true,\"subunitcolor\":\"white\"},\"hoverlabel\":{\"align\":\"left\"},\"hovermode\":\"closest\",\"mapbox\":{\"style\":\"light\"},\"paper_bgcolor\":\"white\",\"plot_bgcolor\":\"#E5ECF6\",\"polar\":{\"angularaxis\":{\"gridcolor\":\"white\",\"linecolor\":\"white\",\"ticks\":\"\"},\"bgcolor\":\"#E5ECF6\",\"radialaxis\":{\"gridcolor\":\"white\",\"linecolor\":\"white\",\"ticks\":\"\"}},\"scene\":{\"xaxis\":{\"backgroundcolor\":\"#E5ECF6\",\"gridcolor\":\"white\",\"gridwidth\":2,\"linecolor\":\"white\",\"showbackground\":true,\"ticks\":\"\",\"zerolinecolor\":\"white\"},\"yaxis\":{\"backgroundcolor\":\"#E5ECF6\",\"gridcolor\":\"white\",\"gridwidth\":2,\"linecolor\":\"white\",\"showbackground\":true,\"ticks\":\"\",\"zerolinecolor\":\"white\"},\"zaxis\":{\"backgroundcolor\":\"#E5ECF6\",\"gridcolor\":\"white\",\"gridwidth\":2,\"linecolor\":\"white\",\"showbackground\":true,\"ticks\":\"\",\"zerolinecolor\":\"white\"}},\"shapedefaults\":{\"line\":{\"color\":\"#2a3f5f\"}},\"ternary\":{\"aaxis\":{\"gridcolor\":\"white\",\"linecolor\":\"white\",\"ticks\":\"\"},\"baxis\":{\"gridcolor\":\"white\",\"linecolor\":\"white\",\"ticks\":\"\"},\"bgcolor\":\"#E5ECF6\",\"caxis\":{\"gridcolor\":\"white\",\"linecolor\":\"white\",\"ticks\":\"\"}},\"title\":{\"x\":0.05},\"xaxis\":{\"automargin\":true,\"gridcolor\":\"white\",\"linecolor\":\"white\",\"ticks\":\"\",\"title\":{\"standoff\":15},\"zerolinecolor\":\"white\",\"zerolinewidth\":2},\"yaxis\":{\"automargin\":true,\"gridcolor\":\"white\",\"linecolor\":\"white\",\"ticks\":\"\",\"title\":{\"standoff\":15},\"zerolinecolor\":\"white\",\"zerolinewidth\":2}}},\"title\":{\"font\":{\"color\":\"#4D5663\"}},\"xaxis\":{\"gridcolor\":\"#E1E5ED\",\"showgrid\":true,\"tickfont\":{\"color\":\"#4D5663\"},\"title\":{\"font\":{\"color\":\"#4D5663\"},\"text\":\"\"},\"zerolinecolor\":\"#E1E5ED\"},\"yaxis\":{\"gridcolor\":\"#E1E5ED\",\"showgrid\":true,\"tickfont\":{\"color\":\"#4D5663\"},\"title\":{\"font\":{\"color\":\"#4D5663\"},\"text\":\"\"},\"zerolinecolor\":\"#E1E5ED\"}},                        {\"showLink\": true, \"linkText\": \"Export to plot.ly\", \"plotlyServerURL\": \"https://plot.ly\", \"responsive\": true}                    ).then(function(){\n",
       "                            \n",
       "var gd = document.getElementById('db3e0acc-b1e5-4ef3-8c95-d7919b0cd9c1');\n",
       "var x = new MutationObserver(function (mutations, observer) {{\n",
       "        var display = window.getComputedStyle(gd).display;\n",
       "        if (!display || display === 'none') {{\n",
       "            console.log([gd, 'removed!']);\n",
       "            Plotly.purge(gd);\n",
       "            observer.disconnect();\n",
       "        }}\n",
       "}});\n",
       "\n",
       "// Listen for the removal of the full notebook cells\n",
       "var notebookContainer = gd.closest('#notebook-container');\n",
       "if (notebookContainer) {{\n",
       "    x.observe(notebookContainer, {childList: true});\n",
       "}}\n",
       "\n",
       "// Listen for the clearing of the current output cell\n",
       "var outputEl = gd.closest('.output');\n",
       "if (outputEl) {{\n",
       "    x.observe(outputEl, {childList: true});\n",
       "}}\n",
       "\n",
       "                        })                };                });            </script>        </div>"
      ]
     },
     "metadata": {},
     "output_type": "display_data"
    }
   ],
   "source": [
    "df.iplot(kind='box')"
   ]
  },
  {
   "cell_type": "code",
   "execution_count": 36,
   "id": "91a0d825",
   "metadata": {},
   "outputs": [],
   "source": [
    "# 3D surface plot\n",
    "    # to make a 3d dimational surface"
   ]
  },
  {
   "cell_type": "code",
   "execution_count": 38,
   "id": "5404796f",
   "metadata": {},
   "outputs": [],
   "source": [
    "df3=pd.DataFrame({'x':[1,2,3,4,5],'y':[10,20,30,20,10],'z':[5,4,3,2,1]})"
   ]
  },
  {
   "cell_type": "code",
   "execution_count": 39,
   "id": "0495e415",
   "metadata": {},
   "outputs": [
    {
     "data": {
      "text/html": [
       "<div>\n",
       "<style scoped>\n",
       "    .dataframe tbody tr th:only-of-type {\n",
       "        vertical-align: middle;\n",
       "    }\n",
       "\n",
       "    .dataframe tbody tr th {\n",
       "        vertical-align: top;\n",
       "    }\n",
       "\n",
       "    .dataframe thead th {\n",
       "        text-align: right;\n",
       "    }\n",
       "</style>\n",
       "<table border=\"1\" class=\"dataframe\">\n",
       "  <thead>\n",
       "    <tr style=\"text-align: right;\">\n",
       "      <th></th>\n",
       "      <th>x</th>\n",
       "      <th>y</th>\n",
       "      <th>z</th>\n",
       "    </tr>\n",
       "  </thead>\n",
       "  <tbody>\n",
       "    <tr>\n",
       "      <th>0</th>\n",
       "      <td>1</td>\n",
       "      <td>10</td>\n",
       "      <td>5</td>\n",
       "    </tr>\n",
       "    <tr>\n",
       "      <th>1</th>\n",
       "      <td>2</td>\n",
       "      <td>20</td>\n",
       "      <td>4</td>\n",
       "    </tr>\n",
       "    <tr>\n",
       "      <th>2</th>\n",
       "      <td>3</td>\n",
       "      <td>30</td>\n",
       "      <td>3</td>\n",
       "    </tr>\n",
       "    <tr>\n",
       "      <th>3</th>\n",
       "      <td>4</td>\n",
       "      <td>20</td>\n",
       "      <td>2</td>\n",
       "    </tr>\n",
       "    <tr>\n",
       "      <th>4</th>\n",
       "      <td>5</td>\n",
       "      <td>10</td>\n",
       "      <td>1</td>\n",
       "    </tr>\n",
       "  </tbody>\n",
       "</table>\n",
       "</div>"
      ],
      "text/plain": [
       "   x   y  z\n",
       "0  1  10  5\n",
       "1  2  20  4\n",
       "2  3  30  3\n",
       "3  4  20  2\n",
       "4  5  10  1"
      ]
     },
     "execution_count": 39,
     "metadata": {},
     "output_type": "execute_result"
    }
   ],
   "source": [
    "df3"
   ]
  },
  {
   "cell_type": "code",
   "execution_count": 42,
   "id": "faed15b5",
   "metadata": {},
   "outputs": [
    {
     "data": {
      "application/vnd.plotly.v1+json": {
       "config": {
        "linkText": "Export to plot.ly",
        "plotlyServerURL": "https://plot.ly",
        "showLink": true
       },
       "data": [
        {
         "colorscale": [
          [
           0,
           "rgb(165,0,38)"
          ],
          [
           0.1,
           "rgb(215,48,39)"
          ],
          [
           0.2,
           "rgb(244,109,67)"
          ],
          [
           0.3,
           "rgb(253,174,97)"
          ],
          [
           0.4,
           "rgb(254,224,144)"
          ],
          [
           0.5,
           "rgb(255,255,191)"
          ],
          [
           0.6,
           "rgb(224,243,248)"
          ],
          [
           0.7,
           "rgb(171,217,233)"
          ],
          [
           0.8,
           "rgb(116,173,209)"
          ],
          [
           0.9,
           "rgb(69,117,180)"
          ],
          [
           1,
           "rgb(49,54,149)"
          ]
         ],
         "type": "surface",
         "x": [
          0,
          1,
          2,
          3,
          4
         ],
         "y": [
          "x",
          "y",
          "z"
         ],
         "z": [
          [
           1,
           2,
           3,
           4,
           5
          ],
          [
           10,
           20,
           30,
           20,
           10
          ],
          [
           5,
           4,
           3,
           2,
           1
          ]
         ]
        }
       ],
       "layout": {
        "legend": {
         "bgcolor": "#F5F6F9",
         "font": {
          "color": "#4D5663"
         }
        },
        "paper_bgcolor": "#F5F6F9",
        "plot_bgcolor": "#F5F6F9",
        "template": {
         "data": {
          "bar": [
           {
            "error_x": {
             "color": "#2a3f5f"
            },
            "error_y": {
             "color": "#2a3f5f"
            },
            "marker": {
             "line": {
              "color": "#E5ECF6",
              "width": 0.5
             },
             "pattern": {
              "fillmode": "overlay",
              "size": 10,
              "solidity": 0.2
             }
            },
            "type": "bar"
           }
          ],
          "barpolar": [
           {
            "marker": {
             "line": {
              "color": "#E5ECF6",
              "width": 0.5
             },
             "pattern": {
              "fillmode": "overlay",
              "size": 10,
              "solidity": 0.2
             }
            },
            "type": "barpolar"
           }
          ],
          "carpet": [
           {
            "aaxis": {
             "endlinecolor": "#2a3f5f",
             "gridcolor": "white",
             "linecolor": "white",
             "minorgridcolor": "white",
             "startlinecolor": "#2a3f5f"
            },
            "baxis": {
             "endlinecolor": "#2a3f5f",
             "gridcolor": "white",
             "linecolor": "white",
             "minorgridcolor": "white",
             "startlinecolor": "#2a3f5f"
            },
            "type": "carpet"
           }
          ],
          "choropleth": [
           {
            "colorbar": {
             "outlinewidth": 0,
             "ticks": ""
            },
            "type": "choropleth"
           }
          ],
          "contour": [
           {
            "colorbar": {
             "outlinewidth": 0,
             "ticks": ""
            },
            "colorscale": [
             [
              0,
              "#0d0887"
             ],
             [
              0.1111111111111111,
              "#46039f"
             ],
             [
              0.2222222222222222,
              "#7201a8"
             ],
             [
              0.3333333333333333,
              "#9c179e"
             ],
             [
              0.4444444444444444,
              "#bd3786"
             ],
             [
              0.5555555555555556,
              "#d8576b"
             ],
             [
              0.6666666666666666,
              "#ed7953"
             ],
             [
              0.7777777777777778,
              "#fb9f3a"
             ],
             [
              0.8888888888888888,
              "#fdca26"
             ],
             [
              1,
              "#f0f921"
             ]
            ],
            "type": "contour"
           }
          ],
          "contourcarpet": [
           {
            "colorbar": {
             "outlinewidth": 0,
             "ticks": ""
            },
            "type": "contourcarpet"
           }
          ],
          "heatmap": [
           {
            "colorbar": {
             "outlinewidth": 0,
             "ticks": ""
            },
            "colorscale": [
             [
              0,
              "#0d0887"
             ],
             [
              0.1111111111111111,
              "#46039f"
             ],
             [
              0.2222222222222222,
              "#7201a8"
             ],
             [
              0.3333333333333333,
              "#9c179e"
             ],
             [
              0.4444444444444444,
              "#bd3786"
             ],
             [
              0.5555555555555556,
              "#d8576b"
             ],
             [
              0.6666666666666666,
              "#ed7953"
             ],
             [
              0.7777777777777778,
              "#fb9f3a"
             ],
             [
              0.8888888888888888,
              "#fdca26"
             ],
             [
              1,
              "#f0f921"
             ]
            ],
            "type": "heatmap"
           }
          ],
          "heatmapgl": [
           {
            "colorbar": {
             "outlinewidth": 0,
             "ticks": ""
            },
            "colorscale": [
             [
              0,
              "#0d0887"
             ],
             [
              0.1111111111111111,
              "#46039f"
             ],
             [
              0.2222222222222222,
              "#7201a8"
             ],
             [
              0.3333333333333333,
              "#9c179e"
             ],
             [
              0.4444444444444444,
              "#bd3786"
             ],
             [
              0.5555555555555556,
              "#d8576b"
             ],
             [
              0.6666666666666666,
              "#ed7953"
             ],
             [
              0.7777777777777778,
              "#fb9f3a"
             ],
             [
              0.8888888888888888,
              "#fdca26"
             ],
             [
              1,
              "#f0f921"
             ]
            ],
            "type": "heatmapgl"
           }
          ],
          "histogram": [
           {
            "marker": {
             "pattern": {
              "fillmode": "overlay",
              "size": 10,
              "solidity": 0.2
             }
            },
            "type": "histogram"
           }
          ],
          "histogram2d": [
           {
            "colorbar": {
             "outlinewidth": 0,
             "ticks": ""
            },
            "colorscale": [
             [
              0,
              "#0d0887"
             ],
             [
              0.1111111111111111,
              "#46039f"
             ],
             [
              0.2222222222222222,
              "#7201a8"
             ],
             [
              0.3333333333333333,
              "#9c179e"
             ],
             [
              0.4444444444444444,
              "#bd3786"
             ],
             [
              0.5555555555555556,
              "#d8576b"
             ],
             [
              0.6666666666666666,
              "#ed7953"
             ],
             [
              0.7777777777777778,
              "#fb9f3a"
             ],
             [
              0.8888888888888888,
              "#fdca26"
             ],
             [
              1,
              "#f0f921"
             ]
            ],
            "type": "histogram2d"
           }
          ],
          "histogram2dcontour": [
           {
            "colorbar": {
             "outlinewidth": 0,
             "ticks": ""
            },
            "colorscale": [
             [
              0,
              "#0d0887"
             ],
             [
              0.1111111111111111,
              "#46039f"
             ],
             [
              0.2222222222222222,
              "#7201a8"
             ],
             [
              0.3333333333333333,
              "#9c179e"
             ],
             [
              0.4444444444444444,
              "#bd3786"
             ],
             [
              0.5555555555555556,
              "#d8576b"
             ],
             [
              0.6666666666666666,
              "#ed7953"
             ],
             [
              0.7777777777777778,
              "#fb9f3a"
             ],
             [
              0.8888888888888888,
              "#fdca26"
             ],
             [
              1,
              "#f0f921"
             ]
            ],
            "type": "histogram2dcontour"
           }
          ],
          "mesh3d": [
           {
            "colorbar": {
             "outlinewidth": 0,
             "ticks": ""
            },
            "type": "mesh3d"
           }
          ],
          "parcoords": [
           {
            "line": {
             "colorbar": {
              "outlinewidth": 0,
              "ticks": ""
             }
            },
            "type": "parcoords"
           }
          ],
          "pie": [
           {
            "automargin": true,
            "type": "pie"
           }
          ],
          "scatter": [
           {
            "marker": {
             "colorbar": {
              "outlinewidth": 0,
              "ticks": ""
             }
            },
            "type": "scatter"
           }
          ],
          "scatter3d": [
           {
            "line": {
             "colorbar": {
              "outlinewidth": 0,
              "ticks": ""
             }
            },
            "marker": {
             "colorbar": {
              "outlinewidth": 0,
              "ticks": ""
             }
            },
            "type": "scatter3d"
           }
          ],
          "scattercarpet": [
           {
            "marker": {
             "colorbar": {
              "outlinewidth": 0,
              "ticks": ""
             }
            },
            "type": "scattercarpet"
           }
          ],
          "scattergeo": [
           {
            "marker": {
             "colorbar": {
              "outlinewidth": 0,
              "ticks": ""
             }
            },
            "type": "scattergeo"
           }
          ],
          "scattergl": [
           {
            "marker": {
             "colorbar": {
              "outlinewidth": 0,
              "ticks": ""
             }
            },
            "type": "scattergl"
           }
          ],
          "scattermapbox": [
           {
            "marker": {
             "colorbar": {
              "outlinewidth": 0,
              "ticks": ""
             }
            },
            "type": "scattermapbox"
           }
          ],
          "scatterpolar": [
           {
            "marker": {
             "colorbar": {
              "outlinewidth": 0,
              "ticks": ""
             }
            },
            "type": "scatterpolar"
           }
          ],
          "scatterpolargl": [
           {
            "marker": {
             "colorbar": {
              "outlinewidth": 0,
              "ticks": ""
             }
            },
            "type": "scatterpolargl"
           }
          ],
          "scatterternary": [
           {
            "marker": {
             "colorbar": {
              "outlinewidth": 0,
              "ticks": ""
             }
            },
            "type": "scatterternary"
           }
          ],
          "surface": [
           {
            "colorbar": {
             "outlinewidth": 0,
             "ticks": ""
            },
            "colorscale": [
             [
              0,
              "#0d0887"
             ],
             [
              0.1111111111111111,
              "#46039f"
             ],
             [
              0.2222222222222222,
              "#7201a8"
             ],
             [
              0.3333333333333333,
              "#9c179e"
             ],
             [
              0.4444444444444444,
              "#bd3786"
             ],
             [
              0.5555555555555556,
              "#d8576b"
             ],
             [
              0.6666666666666666,
              "#ed7953"
             ],
             [
              0.7777777777777778,
              "#fb9f3a"
             ],
             [
              0.8888888888888888,
              "#fdca26"
             ],
             [
              1,
              "#f0f921"
             ]
            ],
            "type": "surface"
           }
          ],
          "table": [
           {
            "cells": {
             "fill": {
              "color": "#EBF0F8"
             },
             "line": {
              "color": "white"
             }
            },
            "header": {
             "fill": {
              "color": "#C8D4E3"
             },
             "line": {
              "color": "white"
             }
            },
            "type": "table"
           }
          ]
         },
         "layout": {
          "annotationdefaults": {
           "arrowcolor": "#2a3f5f",
           "arrowhead": 0,
           "arrowwidth": 1
          },
          "autotypenumbers": "strict",
          "coloraxis": {
           "colorbar": {
            "outlinewidth": 0,
            "ticks": ""
           }
          },
          "colorscale": {
           "diverging": [
            [
             0,
             "#8e0152"
            ],
            [
             0.1,
             "#c51b7d"
            ],
            [
             0.2,
             "#de77ae"
            ],
            [
             0.3,
             "#f1b6da"
            ],
            [
             0.4,
             "#fde0ef"
            ],
            [
             0.5,
             "#f7f7f7"
            ],
            [
             0.6,
             "#e6f5d0"
            ],
            [
             0.7,
             "#b8e186"
            ],
            [
             0.8,
             "#7fbc41"
            ],
            [
             0.9,
             "#4d9221"
            ],
            [
             1,
             "#276419"
            ]
           ],
           "sequential": [
            [
             0,
             "#0d0887"
            ],
            [
             0.1111111111111111,
             "#46039f"
            ],
            [
             0.2222222222222222,
             "#7201a8"
            ],
            [
             0.3333333333333333,
             "#9c179e"
            ],
            [
             0.4444444444444444,
             "#bd3786"
            ],
            [
             0.5555555555555556,
             "#d8576b"
            ],
            [
             0.6666666666666666,
             "#ed7953"
            ],
            [
             0.7777777777777778,
             "#fb9f3a"
            ],
            [
             0.8888888888888888,
             "#fdca26"
            ],
            [
             1,
             "#f0f921"
            ]
           ],
           "sequentialminus": [
            [
             0,
             "#0d0887"
            ],
            [
             0.1111111111111111,
             "#46039f"
            ],
            [
             0.2222222222222222,
             "#7201a8"
            ],
            [
             0.3333333333333333,
             "#9c179e"
            ],
            [
             0.4444444444444444,
             "#bd3786"
            ],
            [
             0.5555555555555556,
             "#d8576b"
            ],
            [
             0.6666666666666666,
             "#ed7953"
            ],
            [
             0.7777777777777778,
             "#fb9f3a"
            ],
            [
             0.8888888888888888,
             "#fdca26"
            ],
            [
             1,
             "#f0f921"
            ]
           ]
          },
          "colorway": [
           "#636efa",
           "#EF553B",
           "#00cc96",
           "#ab63fa",
           "#FFA15A",
           "#19d3f3",
           "#FF6692",
           "#B6E880",
           "#FF97FF",
           "#FECB52"
          ],
          "font": {
           "color": "#2a3f5f"
          },
          "geo": {
           "bgcolor": "white",
           "lakecolor": "white",
           "landcolor": "#E5ECF6",
           "showlakes": true,
           "showland": true,
           "subunitcolor": "white"
          },
          "hoverlabel": {
           "align": "left"
          },
          "hovermode": "closest",
          "mapbox": {
           "style": "light"
          },
          "paper_bgcolor": "white",
          "plot_bgcolor": "#E5ECF6",
          "polar": {
           "angularaxis": {
            "gridcolor": "white",
            "linecolor": "white",
            "ticks": ""
           },
           "bgcolor": "#E5ECF6",
           "radialaxis": {
            "gridcolor": "white",
            "linecolor": "white",
            "ticks": ""
           }
          },
          "scene": {
           "xaxis": {
            "backgroundcolor": "#E5ECF6",
            "gridcolor": "white",
            "gridwidth": 2,
            "linecolor": "white",
            "showbackground": true,
            "ticks": "",
            "zerolinecolor": "white"
           },
           "yaxis": {
            "backgroundcolor": "#E5ECF6",
            "gridcolor": "white",
            "gridwidth": 2,
            "linecolor": "white",
            "showbackground": true,
            "ticks": "",
            "zerolinecolor": "white"
           },
           "zaxis": {
            "backgroundcolor": "#E5ECF6",
            "gridcolor": "white",
            "gridwidth": 2,
            "linecolor": "white",
            "showbackground": true,
            "ticks": "",
            "zerolinecolor": "white"
           }
          },
          "shapedefaults": {
           "line": {
            "color": "#2a3f5f"
           }
          },
          "ternary": {
           "aaxis": {
            "gridcolor": "white",
            "linecolor": "white",
            "ticks": ""
           },
           "baxis": {
            "gridcolor": "white",
            "linecolor": "white",
            "ticks": ""
           },
           "bgcolor": "#E5ECF6",
           "caxis": {
            "gridcolor": "white",
            "linecolor": "white",
            "ticks": ""
           }
          },
          "title": {
           "x": 0.05
          },
          "xaxis": {
           "automargin": true,
           "gridcolor": "white",
           "linecolor": "white",
           "ticks": "",
           "title": {
            "standoff": 15
           },
           "zerolinecolor": "white",
           "zerolinewidth": 2
          },
          "yaxis": {
           "automargin": true,
           "gridcolor": "white",
           "linecolor": "white",
           "ticks": "",
           "title": {
            "standoff": 15
           },
           "zerolinecolor": "white",
           "zerolinewidth": 2
          }
         }
        },
        "title": {
         "font": {
          "color": "#4D5663"
         }
        },
        "xaxis": {
         "gridcolor": "#E1E5ED",
         "showgrid": true,
         "tickfont": {
          "color": "#4D5663"
         },
         "title": {
          "font": {
           "color": "#4D5663"
          },
          "text": ""
         },
         "zerolinecolor": "#E1E5ED"
        },
        "yaxis": {
         "gridcolor": "#E1E5ED",
         "showgrid": true,
         "tickfont": {
          "color": "#4D5663"
         },
         "title": {
          "font": {
           "color": "#4D5663"
          },
          "text": ""
         },
         "zerolinecolor": "#E1E5ED"
        }
       }
      },
      "text/html": [
       "<div>                            <div id=\"5047775c-398a-4011-a3f7-5c294e1433a3\" class=\"plotly-graph-div\" style=\"height:525px; width:100%;\"></div>            <script type=\"text/javascript\">                require([\"plotly\"], function(Plotly) {                    window.PLOTLYENV=window.PLOTLYENV || {};\n",
       "                    window.PLOTLYENV.BASE_URL='https://plot.ly';                                    if (document.getElementById(\"5047775c-398a-4011-a3f7-5c294e1433a3\")) {                    Plotly.newPlot(                        \"5047775c-398a-4011-a3f7-5c294e1433a3\",                        [{\"colorscale\":[[0.0,\"rgb(165,0,38)\"],[0.1,\"rgb(215,48,39)\"],[0.2,\"rgb(244,109,67)\"],[0.3,\"rgb(253,174,97)\"],[0.4,\"rgb(254,224,144)\"],[0.5,\"rgb(255,255,191)\"],[0.6,\"rgb(224,243,248)\"],[0.7,\"rgb(171,217,233)\"],[0.8,\"rgb(116,173,209)\"],[0.9,\"rgb(69,117,180)\"],[1.0,\"rgb(49,54,149)\"]],\"x\":[0,1,2,3,4],\"y\":[\"x\",\"y\",\"z\"],\"z\":[[1,2,3,4,5],[10,20,30,20,10],[5,4,3,2,1]],\"type\":\"surface\"}],                        {\"legend\":{\"bgcolor\":\"#F5F6F9\",\"font\":{\"color\":\"#4D5663\"}},\"paper_bgcolor\":\"#F5F6F9\",\"plot_bgcolor\":\"#F5F6F9\",\"template\":{\"data\":{\"barpolar\":[{\"marker\":{\"line\":{\"color\":\"#E5ECF6\",\"width\":0.5},\"pattern\":{\"fillmode\":\"overlay\",\"size\":10,\"solidity\":0.2}},\"type\":\"barpolar\"}],\"bar\":[{\"error_x\":{\"color\":\"#2a3f5f\"},\"error_y\":{\"color\":\"#2a3f5f\"},\"marker\":{\"line\":{\"color\":\"#E5ECF6\",\"width\":0.5},\"pattern\":{\"fillmode\":\"overlay\",\"size\":10,\"solidity\":0.2}},\"type\":\"bar\"}],\"carpet\":[{\"aaxis\":{\"endlinecolor\":\"#2a3f5f\",\"gridcolor\":\"white\",\"linecolor\":\"white\",\"minorgridcolor\":\"white\",\"startlinecolor\":\"#2a3f5f\"},\"baxis\":{\"endlinecolor\":\"#2a3f5f\",\"gridcolor\":\"white\",\"linecolor\":\"white\",\"minorgridcolor\":\"white\",\"startlinecolor\":\"#2a3f5f\"},\"type\":\"carpet\"}],\"choropleth\":[{\"colorbar\":{\"outlinewidth\":0,\"ticks\":\"\"},\"type\":\"choropleth\"}],\"contourcarpet\":[{\"colorbar\":{\"outlinewidth\":0,\"ticks\":\"\"},\"type\":\"contourcarpet\"}],\"contour\":[{\"colorbar\":{\"outlinewidth\":0,\"ticks\":\"\"},\"colorscale\":[[0.0,\"#0d0887\"],[0.1111111111111111,\"#46039f\"],[0.2222222222222222,\"#7201a8\"],[0.3333333333333333,\"#9c179e\"],[0.4444444444444444,\"#bd3786\"],[0.5555555555555556,\"#d8576b\"],[0.6666666666666666,\"#ed7953\"],[0.7777777777777778,\"#fb9f3a\"],[0.8888888888888888,\"#fdca26\"],[1.0,\"#f0f921\"]],\"type\":\"contour\"}],\"heatmapgl\":[{\"colorbar\":{\"outlinewidth\":0,\"ticks\":\"\"},\"colorscale\":[[0.0,\"#0d0887\"],[0.1111111111111111,\"#46039f\"],[0.2222222222222222,\"#7201a8\"],[0.3333333333333333,\"#9c179e\"],[0.4444444444444444,\"#bd3786\"],[0.5555555555555556,\"#d8576b\"],[0.6666666666666666,\"#ed7953\"],[0.7777777777777778,\"#fb9f3a\"],[0.8888888888888888,\"#fdca26\"],[1.0,\"#f0f921\"]],\"type\":\"heatmapgl\"}],\"heatmap\":[{\"colorbar\":{\"outlinewidth\":0,\"ticks\":\"\"},\"colorscale\":[[0.0,\"#0d0887\"],[0.1111111111111111,\"#46039f\"],[0.2222222222222222,\"#7201a8\"],[0.3333333333333333,\"#9c179e\"],[0.4444444444444444,\"#bd3786\"],[0.5555555555555556,\"#d8576b\"],[0.6666666666666666,\"#ed7953\"],[0.7777777777777778,\"#fb9f3a\"],[0.8888888888888888,\"#fdca26\"],[1.0,\"#f0f921\"]],\"type\":\"heatmap\"}],\"histogram2dcontour\":[{\"colorbar\":{\"outlinewidth\":0,\"ticks\":\"\"},\"colorscale\":[[0.0,\"#0d0887\"],[0.1111111111111111,\"#46039f\"],[0.2222222222222222,\"#7201a8\"],[0.3333333333333333,\"#9c179e\"],[0.4444444444444444,\"#bd3786\"],[0.5555555555555556,\"#d8576b\"],[0.6666666666666666,\"#ed7953\"],[0.7777777777777778,\"#fb9f3a\"],[0.8888888888888888,\"#fdca26\"],[1.0,\"#f0f921\"]],\"type\":\"histogram2dcontour\"}],\"histogram2d\":[{\"colorbar\":{\"outlinewidth\":0,\"ticks\":\"\"},\"colorscale\":[[0.0,\"#0d0887\"],[0.1111111111111111,\"#46039f\"],[0.2222222222222222,\"#7201a8\"],[0.3333333333333333,\"#9c179e\"],[0.4444444444444444,\"#bd3786\"],[0.5555555555555556,\"#d8576b\"],[0.6666666666666666,\"#ed7953\"],[0.7777777777777778,\"#fb9f3a\"],[0.8888888888888888,\"#fdca26\"],[1.0,\"#f0f921\"]],\"type\":\"histogram2d\"}],\"histogram\":[{\"marker\":{\"pattern\":{\"fillmode\":\"overlay\",\"size\":10,\"solidity\":0.2}},\"type\":\"histogram\"}],\"mesh3d\":[{\"colorbar\":{\"outlinewidth\":0,\"ticks\":\"\"},\"type\":\"mesh3d\"}],\"parcoords\":[{\"line\":{\"colorbar\":{\"outlinewidth\":0,\"ticks\":\"\"}},\"type\":\"parcoords\"}],\"pie\":[{\"automargin\":true,\"type\":\"pie\"}],\"scatter3d\":[{\"line\":{\"colorbar\":{\"outlinewidth\":0,\"ticks\":\"\"}},\"marker\":{\"colorbar\":{\"outlinewidth\":0,\"ticks\":\"\"}},\"type\":\"scatter3d\"}],\"scattercarpet\":[{\"marker\":{\"colorbar\":{\"outlinewidth\":0,\"ticks\":\"\"}},\"type\":\"scattercarpet\"}],\"scattergeo\":[{\"marker\":{\"colorbar\":{\"outlinewidth\":0,\"ticks\":\"\"}},\"type\":\"scattergeo\"}],\"scattergl\":[{\"marker\":{\"colorbar\":{\"outlinewidth\":0,\"ticks\":\"\"}},\"type\":\"scattergl\"}],\"scattermapbox\":[{\"marker\":{\"colorbar\":{\"outlinewidth\":0,\"ticks\":\"\"}},\"type\":\"scattermapbox\"}],\"scatterpolargl\":[{\"marker\":{\"colorbar\":{\"outlinewidth\":0,\"ticks\":\"\"}},\"type\":\"scatterpolargl\"}],\"scatterpolar\":[{\"marker\":{\"colorbar\":{\"outlinewidth\":0,\"ticks\":\"\"}},\"type\":\"scatterpolar\"}],\"scatter\":[{\"marker\":{\"colorbar\":{\"outlinewidth\":0,\"ticks\":\"\"}},\"type\":\"scatter\"}],\"scatterternary\":[{\"marker\":{\"colorbar\":{\"outlinewidth\":0,\"ticks\":\"\"}},\"type\":\"scatterternary\"}],\"surface\":[{\"colorbar\":{\"outlinewidth\":0,\"ticks\":\"\"},\"colorscale\":[[0.0,\"#0d0887\"],[0.1111111111111111,\"#46039f\"],[0.2222222222222222,\"#7201a8\"],[0.3333333333333333,\"#9c179e\"],[0.4444444444444444,\"#bd3786\"],[0.5555555555555556,\"#d8576b\"],[0.6666666666666666,\"#ed7953\"],[0.7777777777777778,\"#fb9f3a\"],[0.8888888888888888,\"#fdca26\"],[1.0,\"#f0f921\"]],\"type\":\"surface\"}],\"table\":[{\"cells\":{\"fill\":{\"color\":\"#EBF0F8\"},\"line\":{\"color\":\"white\"}},\"header\":{\"fill\":{\"color\":\"#C8D4E3\"},\"line\":{\"color\":\"white\"}},\"type\":\"table\"}]},\"layout\":{\"annotationdefaults\":{\"arrowcolor\":\"#2a3f5f\",\"arrowhead\":0,\"arrowwidth\":1},\"autotypenumbers\":\"strict\",\"coloraxis\":{\"colorbar\":{\"outlinewidth\":0,\"ticks\":\"\"}},\"colorscale\":{\"diverging\":[[0,\"#8e0152\"],[0.1,\"#c51b7d\"],[0.2,\"#de77ae\"],[0.3,\"#f1b6da\"],[0.4,\"#fde0ef\"],[0.5,\"#f7f7f7\"],[0.6,\"#e6f5d0\"],[0.7,\"#b8e186\"],[0.8,\"#7fbc41\"],[0.9,\"#4d9221\"],[1,\"#276419\"]],\"sequential\":[[0.0,\"#0d0887\"],[0.1111111111111111,\"#46039f\"],[0.2222222222222222,\"#7201a8\"],[0.3333333333333333,\"#9c179e\"],[0.4444444444444444,\"#bd3786\"],[0.5555555555555556,\"#d8576b\"],[0.6666666666666666,\"#ed7953\"],[0.7777777777777778,\"#fb9f3a\"],[0.8888888888888888,\"#fdca26\"],[1.0,\"#f0f921\"]],\"sequentialminus\":[[0.0,\"#0d0887\"],[0.1111111111111111,\"#46039f\"],[0.2222222222222222,\"#7201a8\"],[0.3333333333333333,\"#9c179e\"],[0.4444444444444444,\"#bd3786\"],[0.5555555555555556,\"#d8576b\"],[0.6666666666666666,\"#ed7953\"],[0.7777777777777778,\"#fb9f3a\"],[0.8888888888888888,\"#fdca26\"],[1.0,\"#f0f921\"]]},\"colorway\":[\"#636efa\",\"#EF553B\",\"#00cc96\",\"#ab63fa\",\"#FFA15A\",\"#19d3f3\",\"#FF6692\",\"#B6E880\",\"#FF97FF\",\"#FECB52\"],\"font\":{\"color\":\"#2a3f5f\"},\"geo\":{\"bgcolor\":\"white\",\"lakecolor\":\"white\",\"landcolor\":\"#E5ECF6\",\"showlakes\":true,\"showland\":true,\"subunitcolor\":\"white\"},\"hoverlabel\":{\"align\":\"left\"},\"hovermode\":\"closest\",\"mapbox\":{\"style\":\"light\"},\"paper_bgcolor\":\"white\",\"plot_bgcolor\":\"#E5ECF6\",\"polar\":{\"angularaxis\":{\"gridcolor\":\"white\",\"linecolor\":\"white\",\"ticks\":\"\"},\"bgcolor\":\"#E5ECF6\",\"radialaxis\":{\"gridcolor\":\"white\",\"linecolor\":\"white\",\"ticks\":\"\"}},\"scene\":{\"xaxis\":{\"backgroundcolor\":\"#E5ECF6\",\"gridcolor\":\"white\",\"gridwidth\":2,\"linecolor\":\"white\",\"showbackground\":true,\"ticks\":\"\",\"zerolinecolor\":\"white\"},\"yaxis\":{\"backgroundcolor\":\"#E5ECF6\",\"gridcolor\":\"white\",\"gridwidth\":2,\"linecolor\":\"white\",\"showbackground\":true,\"ticks\":\"\",\"zerolinecolor\":\"white\"},\"zaxis\":{\"backgroundcolor\":\"#E5ECF6\",\"gridcolor\":\"white\",\"gridwidth\":2,\"linecolor\":\"white\",\"showbackground\":true,\"ticks\":\"\",\"zerolinecolor\":\"white\"}},\"shapedefaults\":{\"line\":{\"color\":\"#2a3f5f\"}},\"ternary\":{\"aaxis\":{\"gridcolor\":\"white\",\"linecolor\":\"white\",\"ticks\":\"\"},\"baxis\":{\"gridcolor\":\"white\",\"linecolor\":\"white\",\"ticks\":\"\"},\"bgcolor\":\"#E5ECF6\",\"caxis\":{\"gridcolor\":\"white\",\"linecolor\":\"white\",\"ticks\":\"\"}},\"title\":{\"x\":0.05},\"xaxis\":{\"automargin\":true,\"gridcolor\":\"white\",\"linecolor\":\"white\",\"ticks\":\"\",\"title\":{\"standoff\":15},\"zerolinecolor\":\"white\",\"zerolinewidth\":2},\"yaxis\":{\"automargin\":true,\"gridcolor\":\"white\",\"linecolor\":\"white\",\"ticks\":\"\",\"title\":{\"standoff\":15},\"zerolinecolor\":\"white\",\"zerolinewidth\":2}}},\"title\":{\"font\":{\"color\":\"#4D5663\"}},\"xaxis\":{\"gridcolor\":\"#E1E5ED\",\"showgrid\":true,\"tickfont\":{\"color\":\"#4D5663\"},\"title\":{\"font\":{\"color\":\"#4D5663\"},\"text\":\"\"},\"zerolinecolor\":\"#E1E5ED\"},\"yaxis\":{\"gridcolor\":\"#E1E5ED\",\"showgrid\":true,\"tickfont\":{\"color\":\"#4D5663\"},\"title\":{\"font\":{\"color\":\"#4D5663\"},\"text\":\"\"},\"zerolinecolor\":\"#E1E5ED\"}},                        {\"showLink\": true, \"linkText\": \"Export to plot.ly\", \"plotlyServerURL\": \"https://plot.ly\", \"responsive\": true}                    ).then(function(){\n",
       "                            \n",
       "var gd = document.getElementById('5047775c-398a-4011-a3f7-5c294e1433a3');\n",
       "var x = new MutationObserver(function (mutations, observer) {{\n",
       "        var display = window.getComputedStyle(gd).display;\n",
       "        if (!display || display === 'none') {{\n",
       "            console.log([gd, 'removed!']);\n",
       "            Plotly.purge(gd);\n",
       "            observer.disconnect();\n",
       "        }}\n",
       "}});\n",
       "\n",
       "// Listen for the removal of the full notebook cells\n",
       "var notebookContainer = gd.closest('#notebook-container');\n",
       "if (notebookContainer) {{\n",
       "    x.observe(notebookContainer, {childList: true});\n",
       "}}\n",
       "\n",
       "// Listen for the clearing of the current output cell\n",
       "var outputEl = gd.closest('.output');\n",
       "if (outputEl) {{\n",
       "    x.observe(outputEl, {childList: true});\n",
       "}}\n",
       "\n",
       "                        })                };                });            </script>        </div>"
      ]
     },
     "metadata": {},
     "output_type": "display_data"
    }
   ],
   "source": [
    "df3.iplot(kind='surface',colorscale='rdylbu')"
   ]
  },
  {
   "cell_type": "code",
   "execution_count": 43,
   "id": "654c4fc7",
   "metadata": {},
   "outputs": [],
   "source": [
    "# Histogram"
   ]
  },
  {
   "cell_type": "code",
   "execution_count": 45,
   "id": "456bfc55",
   "metadata": {
    "scrolled": true
   },
   "outputs": [
    {
     "data": {
      "application/vnd.plotly.v1+json": {
       "config": {
        "linkText": "Export to plot.ly",
        "plotlyServerURL": "https://plot.ly",
        "showLink": true
       },
       "data": [
        {
         "histfunc": "count",
         "histnorm": "",
         "marker": {
          "color": "rgba(255, 153, 51, 1.0)",
          "line": {
           "color": "#4D5663",
           "width": 1.3
          }
         },
         "name": "A",
         "nbinsx": 25,
         "opacity": 0.8,
         "orientation": "v",
         "type": "histogram",
         "x": [
          -0.6912741429033772,
          2.6385271622920055,
          -0.7602857136434306,
          -0.17989398726623554,
          1.1314908404810518,
          -0.9236277429682401,
          0.5738678190716883,
          0.9864544801541595,
          0.32279219540734283,
          0.5885178288924707,
          0.5024994967413074,
          0.33207596909749637,
          0.6161296323145041,
          0.09859447753227293,
          -0.8227834082627532,
          0.28464354765094746,
          -0.947342488658302,
          -0.8548769790411005,
          1.0921015040745041,
          -0.6059906110102712,
          0.7134665644043366,
          0.2506753216842416,
          0.5704988886012403,
          -0.9001676759617967,
          1.5577514195590443,
          -0.8935476824587619,
          -1.643208970155166,
          0.9744088602730071,
          -0.29420623561316916,
          -0.5779436336856351,
          -1.3840170311282365,
          2.314676910076252,
          0.6415398505272547,
          -0.8002006468597685,
          0.6922191370110591,
          -1.0337120485296762,
          0.27265670125524993,
          -0.5797583333024258,
          0.5447513266398479,
          1.2410264787389498,
          -0.3170328105037755,
          0.9375460090151588,
          0.2879885443792549,
          -1.6938341411969675,
          -0.07472009167841874,
          0.5060026725044797,
          -0.8504009261137909,
          0.732510438788298,
          2.239796161013942,
          0.7692758256658025,
          -0.327999523823669,
          -0.0522999588114854,
          0.7404336785517659,
          1.006511440200384,
          -1.0954078070436444,
          -0.694419007954893,
          0.9170675514111376,
          0.2410176623597317,
          -1.1417311818412559,
          -2.036168540701319,
          -0.5852200554789933,
          -0.08187573553144036,
          -0.0108941525886899,
          0.5043090936377923,
          -0.009038725156449571,
          0.37521561129710973,
          0.5454233016591511,
          -1.2019374781761154,
          -1.2164146034848031,
          -1.5521771642600135,
          1.5260481075021362,
          0.7511200123355126,
          -1.201730403956396,
          2.2280888976822624,
          -0.15975558174063254,
          -0.21141327351955494,
          0.3060476425825168,
          -0.20791345635292988,
          0.9746962275768414,
          -0.3798940618161446,
          -1.2099430641956597,
          -0.07687618710847464,
          0.04855691969444076,
          1.6219188475758473,
          -2.1694340031988157,
          1.1071533539052,
          1.228055445210511,
          0.9847854355920682,
          -1.7122298669622624,
          -0.23909369014186913,
          0.9571627095229488,
          0.2050568135377792,
          -0.9270560083471667,
          0.974859311003513,
          0.37850037510517365,
          0.47070287060999044,
          0.8239361128145453,
          0.9503701842417043,
          0.3020754261820294,
          0.5335541974559987
         ]
        },
        {
         "histfunc": "count",
         "histnorm": "",
         "marker": {
          "color": "rgba(55, 128, 191, 1.0)",
          "line": {
           "color": "#4D5663",
           "width": 1.3
          }
         },
         "name": "B",
         "nbinsx": 25,
         "opacity": 0.8,
         "orientation": "v",
         "type": "histogram",
         "x": [
          -0.9399902999168411,
          -1.9423380705231792,
          0.4522164949791178,
          -1.4487787439238513,
          0.6801991481379681,
          -0.9371935088416633,
          -0.017229639492253413,
          -0.258876955937129,
          -1.0817046480966666,
          -0.6355540706675884,
          -0.5095868553778142,
          1.0783223972420422,
          0.1658907389286997,
          0.6321115178431862,
          -0.3158816940165806,
          1.1039231468906006,
          -0.49906935443041817,
          -0.6315137548742901,
          0.4726907486757533,
          0.2785663383433755,
          0.6756828406946835,
          -0.1937357330418802,
          0.5631093809666425,
          0.09076004610545052,
          -0.08080029963722939,
          -0.24121391840168532,
          -0.8838536665321517,
          -0.16955688742526506,
          0.5456960917581483,
          0.3461823440618255,
          0.8838886872681287,
          0.6007935651747616,
          -0.554952740896429,
          0.16087588010661694,
          0.7139512276978098,
          0.7836504954457244,
          -0.7468182950644572,
          -1.2852739351722766,
          -0.7377216443690595,
          0.7879482149641246,
          0.6888763990791642,
          2.0131037127401514,
          -0.9590282314305115,
          -0.08995759073683214,
          0.29072502929996125,
          1.6081002671179545,
          -0.11460765764050192,
          -1.187598726286891,
          0.9591573131300998,
          -1.0752516355918234,
          -0.13931574040481506,
          0.4015932029670253,
          0.15440121837917983,
          -0.38647080941415796,
          -1.3210927141383915,
          0.8642920456342552,
          0.6015658553512785,
          0.14569108608113243,
          0.6947284302526355,
          -0.7024617110754191,
          0.1651577477071164,
          -0.407736164353038,
          2.1840342297316826,
          -0.596291435423442,
          -1.8856920299159774,
          -0.3345990732118949,
          -1.7415128836734322,
          0.6112073340788858,
          1.7548265817244395,
          0.9293380526290771,
          -1.373294835797414,
          0.03127355648398631,
          0.4160208366523142,
          -0.11088801603936746,
          0.9221175098804136,
          -1.1576877119234141,
          -0.39813707295622613,
          -1.0592320235705353,
          0.37986665125962565,
          -0.5570483578397022,
          0.6777186339963158,
          -0.38644735124934115,
          -0.46445620006442506,
          -0.4250050264070511,
          1.0890493493481044,
          -1.4627988247249566,
          -0.470768139390512,
          -0.18899810886234358,
          0.4654101860415952,
          1.6779775844139893,
          -1.876317969649985,
          -0.1702025954803815,
          0.7386275124863215,
          -0.995687819654236,
          0.5688961016409643,
          0.003505412674648637,
          0.7707394956863137,
          0.25837287808466486,
          -1.3123051555731073,
          -0.14547432429903318
         ]
        },
        {
         "histfunc": "count",
         "histnorm": "",
         "marker": {
          "color": "rgba(50, 171, 96, 1.0)",
          "line": {
           "color": "#4D5663",
           "width": 1.3
          }
         },
         "name": "C",
         "nbinsx": 25,
         "opacity": 0.8,
         "orientation": "v",
         "type": "histogram",
         "x": [
          -2.1868432802102773,
          -0.7250140419511258,
          -0.6913827612230679,
          0.04814664355985677,
          -0.2688168197666106,
          1.10971313648696,
          -0.6771329496928161,
          0.5260619113595164,
          0.049226185832037424,
          -2.012896157534608,
          -0.4782778769781722,
          0.46681896255807576,
          -0.9366436684435993,
          -0.3025726125323398,
          0.5366046480995682,
          0.3931718093006377,
          -0.7826703785528093,
          -0.5788198960628711,
          -0.6961068548743381,
          0.34041440049893834,
          0.4496610494223251,
          -0.28633727827967465,
          0.6037630528460217,
          0.7509338310040284,
          -1.0536232970283654,
          -1.8834070004092935,
          -0.218141841949026,
          -0.7634726767533443,
          0.268267950607665,
          -0.16541212991899704,
          0.712560943060834,
          -0.4631683253190213,
          0.8072864768418512,
          1.4538043579554563,
          0.6850129423545135,
          -0.6910418773802264,
          -0.8183486993360881,
          -0.963464304316495,
          1.1680409288637745,
          0.7485948742648829,
          -0.11773529201589432,
          1.170204622585392,
          1.4616737848284929,
          0.3167398941877916,
          -0.8343529561308559,
          1.1259989075148988,
          -0.15813832552433288,
          0.045890037768292445,
          -0.2453926220559531,
          -0.7035163255716897,
          0.4602750456413887,
          -1.4193356314795913,
          -0.9760304750681537,
          0.4379325718081307,
          0.12757322745774302,
          -0.28421704417432614,
          -1.1129398620348998,
          1.382523056665255,
          1.1325058761994478,
          1.589567467021451,
          0.5940511289021116,
          -0.4346313423659601,
          0.04003555131307455,
          -0.9659407770041554,
          0.6003559194676078,
          -1.8591787074276616,
          1.5529637948017165,
          -1.2523095244656894,
          0.3051767327838226,
          0.47121194936878663,
          0.9891933978078691,
          -0.20379515668636156,
          -0.8456925702915231,
          0.26574691398209277,
          0.3348203663967337,
          1.2132380685344786,
          -0.6156955586822158,
          -0.14443220317021072,
          0.40282161097393204,
          -0.6924508573035683,
          0.6328059445510126,
          -0.9584109636433588,
          0.06982925441407545,
          -0.6406368622400371,
          -1.2760905752272835,
          -0.18908764420038793,
          -0.908965845745114,
          1.218311234850609,
          -0.6749659299871115,
          -0.4051594201816622,
          1.313294626095533,
          -0.6838154253972283,
          -0.2865694769651911,
          -1.1757599785360122,
          1.9763003663416487,
          0.27643637305796076,
          -0.3744060218984946,
          -0.6709474868077607,
          1.2477324330421622,
          1.6530515466661837
         ]
        },
        {
         "histfunc": "count",
         "histnorm": "",
         "marker": {
          "color": "rgba(128, 0, 128, 1.0)",
          "line": {
           "color": "#4D5663",
           "width": 1.3
          }
         },
         "name": "d",
         "nbinsx": 25,
         "opacity": 0.8,
         "orientation": "v",
         "type": "histogram",
         "x": [
          0.2329180877485759,
          -0.779851055810576,
          -0.15682562020637367,
          -0.44798565785938754,
          -0.31328610636393045,
          1.009703250616094,
          1.690511529886859,
          -1.7727767351074708,
          -1.2898117645716012,
          -1.0598811055611714,
          -0.05995840406671184,
          0.35950289397366847,
          -0.6024925133706687,
          0.5616325192625717,
          -0.4077991936455839,
          -1.661665789770493,
          -0.19894131083362393,
          1.4848139496354045,
          -0.2187519979030449,
          0.014575982368184399,
          -0.670177309744851,
          -0.659774451183918,
          -0.19852388012201994,
          -0.33428900219866814,
          -0.5081847640018546,
          0.6727879848051744,
          -1.5095554860200469,
          -0.3195538761166854,
          -0.8382512667911439,
          0.12633735965166668,
          -0.37448278208313635,
          0.4313852701787521,
          -0.3576282497301914,
          -0.36714254820237824,
          1.2092150655441531,
          -0.3738733597435478,
          1.3908218125778182,
          0.9259595285339431,
          -1.2151942463833356,
          -1.7729149464046192,
          1.5236948417942808,
          0.9167358395734678,
          0.3789304814449219,
          -0.5762996507640142,
          0.7493142071893915,
          -0.9914982111223593,
          -0.8242908979667105,
          0.04244424498827081,
          0.3391159515427539,
          -1.8228026546752387,
          -1.0332861520597718,
          -0.214662965158623,
          0.3475373836788013,
          -0.0684429471666999,
          -1.068272700683441,
          0.10236365335036744,
          1.8088991737076445,
          0.18448770702484002,
          -0.006090338869984403,
          -0.6211910374135585,
          -0.5201526328367619,
          1.1555782431562285,
          -0.8961811434389672,
          -0.5937579695866875,
          -0.7710679156827561,
          -0.6786812472645407,
          -0.7466583486414361,
          0.04771858679514946,
          -0.7601310788064842,
          0.8281712042496281,
          -0.3042202438088885,
          1.0755294024994413,
          2.0596066996717686,
          0.9540488210633757,
          -0.5634964312547651,
          0.14932718269408285,
          2.120865529677368,
          1.5484005448822202,
          -0.8948512068816719,
          -0.5535728791239111,
          1.1659721530863791,
          -0.338269477198465,
          0.6662636529382033,
          -0.8386785671465247,
          -0.45016050483340514,
          1.9719608116281135,
          -1.125112777802077,
          -0.4565031806440209,
          -0.6082343672469854,
          0.523275011356581,
          -0.9590547408867666,
          1.073701314819291,
          -0.49048978185103653,
          0.8348546381818701,
          -0.002962248241787498,
          1.0307814201352343,
          0.20780899895915692,
          -0.4915456045196982,
          0.5783269322123842,
          2.295383481278133
         ]
        }
       ],
       "layout": {
        "barmode": "overlay",
        "legend": {
         "bgcolor": "#F5F6F9",
         "font": {
          "color": "#4D5663"
         }
        },
        "paper_bgcolor": "#F5F6F9",
        "plot_bgcolor": "#F5F6F9",
        "template": {
         "data": {
          "bar": [
           {
            "error_x": {
             "color": "#2a3f5f"
            },
            "error_y": {
             "color": "#2a3f5f"
            },
            "marker": {
             "line": {
              "color": "#E5ECF6",
              "width": 0.5
             },
             "pattern": {
              "fillmode": "overlay",
              "size": 10,
              "solidity": 0.2
             }
            },
            "type": "bar"
           }
          ],
          "barpolar": [
           {
            "marker": {
             "line": {
              "color": "#E5ECF6",
              "width": 0.5
             },
             "pattern": {
              "fillmode": "overlay",
              "size": 10,
              "solidity": 0.2
             }
            },
            "type": "barpolar"
           }
          ],
          "carpet": [
           {
            "aaxis": {
             "endlinecolor": "#2a3f5f",
             "gridcolor": "white",
             "linecolor": "white",
             "minorgridcolor": "white",
             "startlinecolor": "#2a3f5f"
            },
            "baxis": {
             "endlinecolor": "#2a3f5f",
             "gridcolor": "white",
             "linecolor": "white",
             "minorgridcolor": "white",
             "startlinecolor": "#2a3f5f"
            },
            "type": "carpet"
           }
          ],
          "choropleth": [
           {
            "colorbar": {
             "outlinewidth": 0,
             "ticks": ""
            },
            "type": "choropleth"
           }
          ],
          "contour": [
           {
            "colorbar": {
             "outlinewidth": 0,
             "ticks": ""
            },
            "colorscale": [
             [
              0,
              "#0d0887"
             ],
             [
              0.1111111111111111,
              "#46039f"
             ],
             [
              0.2222222222222222,
              "#7201a8"
             ],
             [
              0.3333333333333333,
              "#9c179e"
             ],
             [
              0.4444444444444444,
              "#bd3786"
             ],
             [
              0.5555555555555556,
              "#d8576b"
             ],
             [
              0.6666666666666666,
              "#ed7953"
             ],
             [
              0.7777777777777778,
              "#fb9f3a"
             ],
             [
              0.8888888888888888,
              "#fdca26"
             ],
             [
              1,
              "#f0f921"
             ]
            ],
            "type": "contour"
           }
          ],
          "contourcarpet": [
           {
            "colorbar": {
             "outlinewidth": 0,
             "ticks": ""
            },
            "type": "contourcarpet"
           }
          ],
          "heatmap": [
           {
            "colorbar": {
             "outlinewidth": 0,
             "ticks": ""
            },
            "colorscale": [
             [
              0,
              "#0d0887"
             ],
             [
              0.1111111111111111,
              "#46039f"
             ],
             [
              0.2222222222222222,
              "#7201a8"
             ],
             [
              0.3333333333333333,
              "#9c179e"
             ],
             [
              0.4444444444444444,
              "#bd3786"
             ],
             [
              0.5555555555555556,
              "#d8576b"
             ],
             [
              0.6666666666666666,
              "#ed7953"
             ],
             [
              0.7777777777777778,
              "#fb9f3a"
             ],
             [
              0.8888888888888888,
              "#fdca26"
             ],
             [
              1,
              "#f0f921"
             ]
            ],
            "type": "heatmap"
           }
          ],
          "heatmapgl": [
           {
            "colorbar": {
             "outlinewidth": 0,
             "ticks": ""
            },
            "colorscale": [
             [
              0,
              "#0d0887"
             ],
             [
              0.1111111111111111,
              "#46039f"
             ],
             [
              0.2222222222222222,
              "#7201a8"
             ],
             [
              0.3333333333333333,
              "#9c179e"
             ],
             [
              0.4444444444444444,
              "#bd3786"
             ],
             [
              0.5555555555555556,
              "#d8576b"
             ],
             [
              0.6666666666666666,
              "#ed7953"
             ],
             [
              0.7777777777777778,
              "#fb9f3a"
             ],
             [
              0.8888888888888888,
              "#fdca26"
             ],
             [
              1,
              "#f0f921"
             ]
            ],
            "type": "heatmapgl"
           }
          ],
          "histogram": [
           {
            "marker": {
             "pattern": {
              "fillmode": "overlay",
              "size": 10,
              "solidity": 0.2
             }
            },
            "type": "histogram"
           }
          ],
          "histogram2d": [
           {
            "colorbar": {
             "outlinewidth": 0,
             "ticks": ""
            },
            "colorscale": [
             [
              0,
              "#0d0887"
             ],
             [
              0.1111111111111111,
              "#46039f"
             ],
             [
              0.2222222222222222,
              "#7201a8"
             ],
             [
              0.3333333333333333,
              "#9c179e"
             ],
             [
              0.4444444444444444,
              "#bd3786"
             ],
             [
              0.5555555555555556,
              "#d8576b"
             ],
             [
              0.6666666666666666,
              "#ed7953"
             ],
             [
              0.7777777777777778,
              "#fb9f3a"
             ],
             [
              0.8888888888888888,
              "#fdca26"
             ],
             [
              1,
              "#f0f921"
             ]
            ],
            "type": "histogram2d"
           }
          ],
          "histogram2dcontour": [
           {
            "colorbar": {
             "outlinewidth": 0,
             "ticks": ""
            },
            "colorscale": [
             [
              0,
              "#0d0887"
             ],
             [
              0.1111111111111111,
              "#46039f"
             ],
             [
              0.2222222222222222,
              "#7201a8"
             ],
             [
              0.3333333333333333,
              "#9c179e"
             ],
             [
              0.4444444444444444,
              "#bd3786"
             ],
             [
              0.5555555555555556,
              "#d8576b"
             ],
             [
              0.6666666666666666,
              "#ed7953"
             ],
             [
              0.7777777777777778,
              "#fb9f3a"
             ],
             [
              0.8888888888888888,
              "#fdca26"
             ],
             [
              1,
              "#f0f921"
             ]
            ],
            "type": "histogram2dcontour"
           }
          ],
          "mesh3d": [
           {
            "colorbar": {
             "outlinewidth": 0,
             "ticks": ""
            },
            "type": "mesh3d"
           }
          ],
          "parcoords": [
           {
            "line": {
             "colorbar": {
              "outlinewidth": 0,
              "ticks": ""
             }
            },
            "type": "parcoords"
           }
          ],
          "pie": [
           {
            "automargin": true,
            "type": "pie"
           }
          ],
          "scatter": [
           {
            "marker": {
             "colorbar": {
              "outlinewidth": 0,
              "ticks": ""
             }
            },
            "type": "scatter"
           }
          ],
          "scatter3d": [
           {
            "line": {
             "colorbar": {
              "outlinewidth": 0,
              "ticks": ""
             }
            },
            "marker": {
             "colorbar": {
              "outlinewidth": 0,
              "ticks": ""
             }
            },
            "type": "scatter3d"
           }
          ],
          "scattercarpet": [
           {
            "marker": {
             "colorbar": {
              "outlinewidth": 0,
              "ticks": ""
             }
            },
            "type": "scattercarpet"
           }
          ],
          "scattergeo": [
           {
            "marker": {
             "colorbar": {
              "outlinewidth": 0,
              "ticks": ""
             }
            },
            "type": "scattergeo"
           }
          ],
          "scattergl": [
           {
            "marker": {
             "colorbar": {
              "outlinewidth": 0,
              "ticks": ""
             }
            },
            "type": "scattergl"
           }
          ],
          "scattermapbox": [
           {
            "marker": {
             "colorbar": {
              "outlinewidth": 0,
              "ticks": ""
             }
            },
            "type": "scattermapbox"
           }
          ],
          "scatterpolar": [
           {
            "marker": {
             "colorbar": {
              "outlinewidth": 0,
              "ticks": ""
             }
            },
            "type": "scatterpolar"
           }
          ],
          "scatterpolargl": [
           {
            "marker": {
             "colorbar": {
              "outlinewidth": 0,
              "ticks": ""
             }
            },
            "type": "scatterpolargl"
           }
          ],
          "scatterternary": [
           {
            "marker": {
             "colorbar": {
              "outlinewidth": 0,
              "ticks": ""
             }
            },
            "type": "scatterternary"
           }
          ],
          "surface": [
           {
            "colorbar": {
             "outlinewidth": 0,
             "ticks": ""
            },
            "colorscale": [
             [
              0,
              "#0d0887"
             ],
             [
              0.1111111111111111,
              "#46039f"
             ],
             [
              0.2222222222222222,
              "#7201a8"
             ],
             [
              0.3333333333333333,
              "#9c179e"
             ],
             [
              0.4444444444444444,
              "#bd3786"
             ],
             [
              0.5555555555555556,
              "#d8576b"
             ],
             [
              0.6666666666666666,
              "#ed7953"
             ],
             [
              0.7777777777777778,
              "#fb9f3a"
             ],
             [
              0.8888888888888888,
              "#fdca26"
             ],
             [
              1,
              "#f0f921"
             ]
            ],
            "type": "surface"
           }
          ],
          "table": [
           {
            "cells": {
             "fill": {
              "color": "#EBF0F8"
             },
             "line": {
              "color": "white"
             }
            },
            "header": {
             "fill": {
              "color": "#C8D4E3"
             },
             "line": {
              "color": "white"
             }
            },
            "type": "table"
           }
          ]
         },
         "layout": {
          "annotationdefaults": {
           "arrowcolor": "#2a3f5f",
           "arrowhead": 0,
           "arrowwidth": 1
          },
          "autotypenumbers": "strict",
          "coloraxis": {
           "colorbar": {
            "outlinewidth": 0,
            "ticks": ""
           }
          },
          "colorscale": {
           "diverging": [
            [
             0,
             "#8e0152"
            ],
            [
             0.1,
             "#c51b7d"
            ],
            [
             0.2,
             "#de77ae"
            ],
            [
             0.3,
             "#f1b6da"
            ],
            [
             0.4,
             "#fde0ef"
            ],
            [
             0.5,
             "#f7f7f7"
            ],
            [
             0.6,
             "#e6f5d0"
            ],
            [
             0.7,
             "#b8e186"
            ],
            [
             0.8,
             "#7fbc41"
            ],
            [
             0.9,
             "#4d9221"
            ],
            [
             1,
             "#276419"
            ]
           ],
           "sequential": [
            [
             0,
             "#0d0887"
            ],
            [
             0.1111111111111111,
             "#46039f"
            ],
            [
             0.2222222222222222,
             "#7201a8"
            ],
            [
             0.3333333333333333,
             "#9c179e"
            ],
            [
             0.4444444444444444,
             "#bd3786"
            ],
            [
             0.5555555555555556,
             "#d8576b"
            ],
            [
             0.6666666666666666,
             "#ed7953"
            ],
            [
             0.7777777777777778,
             "#fb9f3a"
            ],
            [
             0.8888888888888888,
             "#fdca26"
            ],
            [
             1,
             "#f0f921"
            ]
           ],
           "sequentialminus": [
            [
             0,
             "#0d0887"
            ],
            [
             0.1111111111111111,
             "#46039f"
            ],
            [
             0.2222222222222222,
             "#7201a8"
            ],
            [
             0.3333333333333333,
             "#9c179e"
            ],
            [
             0.4444444444444444,
             "#bd3786"
            ],
            [
             0.5555555555555556,
             "#d8576b"
            ],
            [
             0.6666666666666666,
             "#ed7953"
            ],
            [
             0.7777777777777778,
             "#fb9f3a"
            ],
            [
             0.8888888888888888,
             "#fdca26"
            ],
            [
             1,
             "#f0f921"
            ]
           ]
          },
          "colorway": [
           "#636efa",
           "#EF553B",
           "#00cc96",
           "#ab63fa",
           "#FFA15A",
           "#19d3f3",
           "#FF6692",
           "#B6E880",
           "#FF97FF",
           "#FECB52"
          ],
          "font": {
           "color": "#2a3f5f"
          },
          "geo": {
           "bgcolor": "white",
           "lakecolor": "white",
           "landcolor": "#E5ECF6",
           "showlakes": true,
           "showland": true,
           "subunitcolor": "white"
          },
          "hoverlabel": {
           "align": "left"
          },
          "hovermode": "closest",
          "mapbox": {
           "style": "light"
          },
          "paper_bgcolor": "white",
          "plot_bgcolor": "#E5ECF6",
          "polar": {
           "angularaxis": {
            "gridcolor": "white",
            "linecolor": "white",
            "ticks": ""
           },
           "bgcolor": "#E5ECF6",
           "radialaxis": {
            "gridcolor": "white",
            "linecolor": "white",
            "ticks": ""
           }
          },
          "scene": {
           "xaxis": {
            "backgroundcolor": "#E5ECF6",
            "gridcolor": "white",
            "gridwidth": 2,
            "linecolor": "white",
            "showbackground": true,
            "ticks": "",
            "zerolinecolor": "white"
           },
           "yaxis": {
            "backgroundcolor": "#E5ECF6",
            "gridcolor": "white",
            "gridwidth": 2,
            "linecolor": "white",
            "showbackground": true,
            "ticks": "",
            "zerolinecolor": "white"
           },
           "zaxis": {
            "backgroundcolor": "#E5ECF6",
            "gridcolor": "white",
            "gridwidth": 2,
            "linecolor": "white",
            "showbackground": true,
            "ticks": "",
            "zerolinecolor": "white"
           }
          },
          "shapedefaults": {
           "line": {
            "color": "#2a3f5f"
           }
          },
          "ternary": {
           "aaxis": {
            "gridcolor": "white",
            "linecolor": "white",
            "ticks": ""
           },
           "baxis": {
            "gridcolor": "white",
            "linecolor": "white",
            "ticks": ""
           },
           "bgcolor": "#E5ECF6",
           "caxis": {
            "gridcolor": "white",
            "linecolor": "white",
            "ticks": ""
           }
          },
          "title": {
           "x": 0.05
          },
          "xaxis": {
           "automargin": true,
           "gridcolor": "white",
           "linecolor": "white",
           "ticks": "",
           "title": {
            "standoff": 15
           },
           "zerolinecolor": "white",
           "zerolinewidth": 2
          },
          "yaxis": {
           "automargin": true,
           "gridcolor": "white",
           "linecolor": "white",
           "ticks": "",
           "title": {
            "standoff": 15
           },
           "zerolinecolor": "white",
           "zerolinewidth": 2
          }
         }
        },
        "title": {
         "font": {
          "color": "#4D5663"
         }
        },
        "xaxis": {
         "gridcolor": "#E1E5ED",
         "showgrid": true,
         "tickfont": {
          "color": "#4D5663"
         },
         "title": {
          "font": {
           "color": "#4D5663"
          },
          "text": ""
         },
         "zerolinecolor": "#E1E5ED"
        },
        "yaxis": {
         "gridcolor": "#E1E5ED",
         "showgrid": true,
         "tickfont": {
          "color": "#4D5663"
         },
         "title": {
          "font": {
           "color": "#4D5663"
          },
          "text": ""
         },
         "zerolinecolor": "#E1E5ED"
        }
       }
      },
      "text/html": [
       "<div>                            <div id=\"f72f87eb-ee2e-454e-ad1d-412e9afcd364\" class=\"plotly-graph-div\" style=\"height:525px; width:100%;\"></div>            <script type=\"text/javascript\">                require([\"plotly\"], function(Plotly) {                    window.PLOTLYENV=window.PLOTLYENV || {};\n",
       "                    window.PLOTLYENV.BASE_URL='https://plot.ly';                                    if (document.getElementById(\"f72f87eb-ee2e-454e-ad1d-412e9afcd364\")) {                    Plotly.newPlot(                        \"f72f87eb-ee2e-454e-ad1d-412e9afcd364\",                        [{\"histfunc\":\"count\",\"histnorm\":\"\",\"marker\":{\"color\":\"rgba(255, 153, 51, 1.0)\",\"line\":{\"color\":\"#4D5663\",\"width\":1.3}},\"name\":\"A\",\"nbinsx\":25,\"opacity\":0.8,\"orientation\":\"v\",\"x\":[-0.6912741429033772,2.6385271622920055,-0.7602857136434306,-0.17989398726623554,1.1314908404810518,-0.9236277429682401,0.5738678190716883,0.9864544801541595,0.32279219540734283,0.5885178288924707,0.5024994967413074,0.33207596909749637,0.6161296323145041,0.09859447753227293,-0.8227834082627532,0.28464354765094746,-0.947342488658302,-0.8548769790411005,1.0921015040745041,-0.6059906110102712,0.7134665644043366,0.2506753216842416,0.5704988886012403,-0.9001676759617967,1.5577514195590443,-0.8935476824587619,-1.643208970155166,0.9744088602730071,-0.29420623561316916,-0.5779436336856351,-1.3840170311282365,2.314676910076252,0.6415398505272547,-0.8002006468597685,0.6922191370110591,-1.0337120485296762,0.27265670125524993,-0.5797583333024258,0.5447513266398479,1.2410264787389498,-0.3170328105037755,0.9375460090151588,0.2879885443792549,-1.6938341411969675,-0.07472009167841874,0.5060026725044797,-0.8504009261137909,0.732510438788298,2.239796161013942,0.7692758256658025,-0.327999523823669,-0.0522999588114854,0.7404336785517659,1.006511440200384,-1.0954078070436444,-0.694419007954893,0.9170675514111376,0.2410176623597317,-1.1417311818412559,-2.036168540701319,-0.5852200554789933,-0.08187573553144036,-0.0108941525886899,0.5043090936377923,-0.009038725156449571,0.37521561129710973,0.5454233016591511,-1.2019374781761154,-1.2164146034848031,-1.5521771642600135,1.5260481075021362,0.7511200123355126,-1.201730403956396,2.2280888976822624,-0.15975558174063254,-0.21141327351955494,0.3060476425825168,-0.20791345635292988,0.9746962275768414,-0.3798940618161446,-1.2099430641956597,-0.07687618710847464,0.04855691969444076,1.6219188475758473,-2.1694340031988157,1.1071533539052,1.228055445210511,0.9847854355920682,-1.7122298669622624,-0.23909369014186913,0.9571627095229488,0.2050568135377792,-0.9270560083471667,0.974859311003513,0.37850037510517365,0.47070287060999044,0.8239361128145453,0.9503701842417043,0.3020754261820294,0.5335541974559987],\"type\":\"histogram\"},{\"histfunc\":\"count\",\"histnorm\":\"\",\"marker\":{\"color\":\"rgba(55, 128, 191, 1.0)\",\"line\":{\"color\":\"#4D5663\",\"width\":1.3}},\"name\":\"B\",\"nbinsx\":25,\"opacity\":0.8,\"orientation\":\"v\",\"x\":[-0.9399902999168411,-1.9423380705231792,0.4522164949791178,-1.4487787439238513,0.6801991481379681,-0.9371935088416633,-0.017229639492253413,-0.258876955937129,-1.0817046480966666,-0.6355540706675884,-0.5095868553778142,1.0783223972420422,0.1658907389286997,0.6321115178431862,-0.3158816940165806,1.1039231468906006,-0.49906935443041817,-0.6315137548742901,0.4726907486757533,0.2785663383433755,0.6756828406946835,-0.1937357330418802,0.5631093809666425,0.09076004610545052,-0.08080029963722939,-0.24121391840168532,-0.8838536665321517,-0.16955688742526506,0.5456960917581483,0.3461823440618255,0.8838886872681287,0.6007935651747616,-0.554952740896429,0.16087588010661694,0.7139512276978098,0.7836504954457244,-0.7468182950644572,-1.2852739351722766,-0.7377216443690595,0.7879482149641246,0.6888763990791642,2.0131037127401514,-0.9590282314305115,-0.08995759073683214,0.29072502929996125,1.6081002671179545,-0.11460765764050192,-1.187598726286891,0.9591573131300998,-1.0752516355918234,-0.13931574040481506,0.4015932029670253,0.15440121837917983,-0.38647080941415796,-1.3210927141383915,0.8642920456342552,0.6015658553512785,0.14569108608113243,0.6947284302526355,-0.7024617110754191,0.1651577477071164,-0.407736164353038,2.1840342297316826,-0.596291435423442,-1.8856920299159774,-0.3345990732118949,-1.7415128836734322,0.6112073340788858,1.7548265817244395,0.9293380526290771,-1.373294835797414,0.03127355648398631,0.4160208366523142,-0.11088801603936746,0.9221175098804136,-1.1576877119234141,-0.39813707295622613,-1.0592320235705353,0.37986665125962565,-0.5570483578397022,0.6777186339963158,-0.38644735124934115,-0.46445620006442506,-0.4250050264070511,1.0890493493481044,-1.4627988247249566,-0.470768139390512,-0.18899810886234358,0.4654101860415952,1.6779775844139893,-1.876317969649985,-0.1702025954803815,0.7386275124863215,-0.995687819654236,0.5688961016409643,0.003505412674648637,0.7707394956863137,0.25837287808466486,-1.3123051555731073,-0.14547432429903318],\"type\":\"histogram\"},{\"histfunc\":\"count\",\"histnorm\":\"\",\"marker\":{\"color\":\"rgba(50, 171, 96, 1.0)\",\"line\":{\"color\":\"#4D5663\",\"width\":1.3}},\"name\":\"C\",\"nbinsx\":25,\"opacity\":0.8,\"orientation\":\"v\",\"x\":[-2.1868432802102773,-0.7250140419511258,-0.6913827612230679,0.04814664355985677,-0.2688168197666106,1.10971313648696,-0.6771329496928161,0.5260619113595164,0.049226185832037424,-2.012896157534608,-0.4782778769781722,0.46681896255807576,-0.9366436684435993,-0.3025726125323398,0.5366046480995682,0.3931718093006377,-0.7826703785528093,-0.5788198960628711,-0.6961068548743381,0.34041440049893834,0.4496610494223251,-0.28633727827967465,0.6037630528460217,0.7509338310040284,-1.0536232970283654,-1.8834070004092935,-0.218141841949026,-0.7634726767533443,0.268267950607665,-0.16541212991899704,0.712560943060834,-0.4631683253190213,0.8072864768418512,1.4538043579554563,0.6850129423545135,-0.6910418773802264,-0.8183486993360881,-0.963464304316495,1.1680409288637745,0.7485948742648829,-0.11773529201589432,1.170204622585392,1.4616737848284929,0.3167398941877916,-0.8343529561308559,1.1259989075148988,-0.15813832552433288,0.045890037768292445,-0.2453926220559531,-0.7035163255716897,0.4602750456413887,-1.4193356314795913,-0.9760304750681537,0.4379325718081307,0.12757322745774302,-0.28421704417432614,-1.1129398620348998,1.382523056665255,1.1325058761994478,1.589567467021451,0.5940511289021116,-0.4346313423659601,0.04003555131307455,-0.9659407770041554,0.6003559194676078,-1.8591787074276616,1.5529637948017165,-1.2523095244656894,0.3051767327838226,0.47121194936878663,0.9891933978078691,-0.20379515668636156,-0.8456925702915231,0.26574691398209277,0.3348203663967337,1.2132380685344786,-0.6156955586822158,-0.14443220317021072,0.40282161097393204,-0.6924508573035683,0.6328059445510126,-0.9584109636433588,0.06982925441407545,-0.6406368622400371,-1.2760905752272835,-0.18908764420038793,-0.908965845745114,1.218311234850609,-0.6749659299871115,-0.4051594201816622,1.313294626095533,-0.6838154253972283,-0.2865694769651911,-1.1757599785360122,1.9763003663416487,0.27643637305796076,-0.3744060218984946,-0.6709474868077607,1.2477324330421622,1.6530515466661837],\"type\":\"histogram\"},{\"histfunc\":\"count\",\"histnorm\":\"\",\"marker\":{\"color\":\"rgba(128, 0, 128, 1.0)\",\"line\":{\"color\":\"#4D5663\",\"width\":1.3}},\"name\":\"d\",\"nbinsx\":25,\"opacity\":0.8,\"orientation\":\"v\",\"x\":[0.2329180877485759,-0.779851055810576,-0.15682562020637367,-0.44798565785938754,-0.31328610636393045,1.009703250616094,1.690511529886859,-1.7727767351074708,-1.2898117645716012,-1.0598811055611714,-0.05995840406671184,0.35950289397366847,-0.6024925133706687,0.5616325192625717,-0.4077991936455839,-1.661665789770493,-0.19894131083362393,1.4848139496354045,-0.2187519979030449,0.014575982368184399,-0.670177309744851,-0.659774451183918,-0.19852388012201994,-0.33428900219866814,-0.5081847640018546,0.6727879848051744,-1.5095554860200469,-0.3195538761166854,-0.8382512667911439,0.12633735965166668,-0.37448278208313635,0.4313852701787521,-0.3576282497301914,-0.36714254820237824,1.2092150655441531,-0.3738733597435478,1.3908218125778182,0.9259595285339431,-1.2151942463833356,-1.7729149464046192,1.5236948417942808,0.9167358395734678,0.3789304814449219,-0.5762996507640142,0.7493142071893915,-0.9914982111223593,-0.8242908979667105,0.04244424498827081,0.3391159515427539,-1.8228026546752387,-1.0332861520597718,-0.214662965158623,0.3475373836788013,-0.0684429471666999,-1.068272700683441,0.10236365335036744,1.8088991737076445,0.18448770702484002,-0.006090338869984403,-0.6211910374135585,-0.5201526328367619,1.1555782431562285,-0.8961811434389672,-0.5937579695866875,-0.7710679156827561,-0.6786812472645407,-0.7466583486414361,0.04771858679514946,-0.7601310788064842,0.8281712042496281,-0.3042202438088885,1.0755294024994413,2.0596066996717686,0.9540488210633757,-0.5634964312547651,0.14932718269408285,2.120865529677368,1.5484005448822202,-0.8948512068816719,-0.5535728791239111,1.1659721530863791,-0.338269477198465,0.6662636529382033,-0.8386785671465247,-0.45016050483340514,1.9719608116281135,-1.125112777802077,-0.4565031806440209,-0.6082343672469854,0.523275011356581,-0.9590547408867666,1.073701314819291,-0.49048978185103653,0.8348546381818701,-0.002962248241787498,1.0307814201352343,0.20780899895915692,-0.4915456045196982,0.5783269322123842,2.295383481278133],\"type\":\"histogram\"}],                        {\"barmode\":\"overlay\",\"legend\":{\"bgcolor\":\"#F5F6F9\",\"font\":{\"color\":\"#4D5663\"}},\"paper_bgcolor\":\"#F5F6F9\",\"plot_bgcolor\":\"#F5F6F9\",\"template\":{\"data\":{\"barpolar\":[{\"marker\":{\"line\":{\"color\":\"#E5ECF6\",\"width\":0.5},\"pattern\":{\"fillmode\":\"overlay\",\"size\":10,\"solidity\":0.2}},\"type\":\"barpolar\"}],\"bar\":[{\"error_x\":{\"color\":\"#2a3f5f\"},\"error_y\":{\"color\":\"#2a3f5f\"},\"marker\":{\"line\":{\"color\":\"#E5ECF6\",\"width\":0.5},\"pattern\":{\"fillmode\":\"overlay\",\"size\":10,\"solidity\":0.2}},\"type\":\"bar\"}],\"carpet\":[{\"aaxis\":{\"endlinecolor\":\"#2a3f5f\",\"gridcolor\":\"white\",\"linecolor\":\"white\",\"minorgridcolor\":\"white\",\"startlinecolor\":\"#2a3f5f\"},\"baxis\":{\"endlinecolor\":\"#2a3f5f\",\"gridcolor\":\"white\",\"linecolor\":\"white\",\"minorgridcolor\":\"white\",\"startlinecolor\":\"#2a3f5f\"},\"type\":\"carpet\"}],\"choropleth\":[{\"colorbar\":{\"outlinewidth\":0,\"ticks\":\"\"},\"type\":\"choropleth\"}],\"contourcarpet\":[{\"colorbar\":{\"outlinewidth\":0,\"ticks\":\"\"},\"type\":\"contourcarpet\"}],\"contour\":[{\"colorbar\":{\"outlinewidth\":0,\"ticks\":\"\"},\"colorscale\":[[0.0,\"#0d0887\"],[0.1111111111111111,\"#46039f\"],[0.2222222222222222,\"#7201a8\"],[0.3333333333333333,\"#9c179e\"],[0.4444444444444444,\"#bd3786\"],[0.5555555555555556,\"#d8576b\"],[0.6666666666666666,\"#ed7953\"],[0.7777777777777778,\"#fb9f3a\"],[0.8888888888888888,\"#fdca26\"],[1.0,\"#f0f921\"]],\"type\":\"contour\"}],\"heatmapgl\":[{\"colorbar\":{\"outlinewidth\":0,\"ticks\":\"\"},\"colorscale\":[[0.0,\"#0d0887\"],[0.1111111111111111,\"#46039f\"],[0.2222222222222222,\"#7201a8\"],[0.3333333333333333,\"#9c179e\"],[0.4444444444444444,\"#bd3786\"],[0.5555555555555556,\"#d8576b\"],[0.6666666666666666,\"#ed7953\"],[0.7777777777777778,\"#fb9f3a\"],[0.8888888888888888,\"#fdca26\"],[1.0,\"#f0f921\"]],\"type\":\"heatmapgl\"}],\"heatmap\":[{\"colorbar\":{\"outlinewidth\":0,\"ticks\":\"\"},\"colorscale\":[[0.0,\"#0d0887\"],[0.1111111111111111,\"#46039f\"],[0.2222222222222222,\"#7201a8\"],[0.3333333333333333,\"#9c179e\"],[0.4444444444444444,\"#bd3786\"],[0.5555555555555556,\"#d8576b\"],[0.6666666666666666,\"#ed7953\"],[0.7777777777777778,\"#fb9f3a\"],[0.8888888888888888,\"#fdca26\"],[1.0,\"#f0f921\"]],\"type\":\"heatmap\"}],\"histogram2dcontour\":[{\"colorbar\":{\"outlinewidth\":0,\"ticks\":\"\"},\"colorscale\":[[0.0,\"#0d0887\"],[0.1111111111111111,\"#46039f\"],[0.2222222222222222,\"#7201a8\"],[0.3333333333333333,\"#9c179e\"],[0.4444444444444444,\"#bd3786\"],[0.5555555555555556,\"#d8576b\"],[0.6666666666666666,\"#ed7953\"],[0.7777777777777778,\"#fb9f3a\"],[0.8888888888888888,\"#fdca26\"],[1.0,\"#f0f921\"]],\"type\":\"histogram2dcontour\"}],\"histogram2d\":[{\"colorbar\":{\"outlinewidth\":0,\"ticks\":\"\"},\"colorscale\":[[0.0,\"#0d0887\"],[0.1111111111111111,\"#46039f\"],[0.2222222222222222,\"#7201a8\"],[0.3333333333333333,\"#9c179e\"],[0.4444444444444444,\"#bd3786\"],[0.5555555555555556,\"#d8576b\"],[0.6666666666666666,\"#ed7953\"],[0.7777777777777778,\"#fb9f3a\"],[0.8888888888888888,\"#fdca26\"],[1.0,\"#f0f921\"]],\"type\":\"histogram2d\"}],\"histogram\":[{\"marker\":{\"pattern\":{\"fillmode\":\"overlay\",\"size\":10,\"solidity\":0.2}},\"type\":\"histogram\"}],\"mesh3d\":[{\"colorbar\":{\"outlinewidth\":0,\"ticks\":\"\"},\"type\":\"mesh3d\"}],\"parcoords\":[{\"line\":{\"colorbar\":{\"outlinewidth\":0,\"ticks\":\"\"}},\"type\":\"parcoords\"}],\"pie\":[{\"automargin\":true,\"type\":\"pie\"}],\"scatter3d\":[{\"line\":{\"colorbar\":{\"outlinewidth\":0,\"ticks\":\"\"}},\"marker\":{\"colorbar\":{\"outlinewidth\":0,\"ticks\":\"\"}},\"type\":\"scatter3d\"}],\"scattercarpet\":[{\"marker\":{\"colorbar\":{\"outlinewidth\":0,\"ticks\":\"\"}},\"type\":\"scattercarpet\"}],\"scattergeo\":[{\"marker\":{\"colorbar\":{\"outlinewidth\":0,\"ticks\":\"\"}},\"type\":\"scattergeo\"}],\"scattergl\":[{\"marker\":{\"colorbar\":{\"outlinewidth\":0,\"ticks\":\"\"}},\"type\":\"scattergl\"}],\"scattermapbox\":[{\"marker\":{\"colorbar\":{\"outlinewidth\":0,\"ticks\":\"\"}},\"type\":\"scattermapbox\"}],\"scatterpolargl\":[{\"marker\":{\"colorbar\":{\"outlinewidth\":0,\"ticks\":\"\"}},\"type\":\"scatterpolargl\"}],\"scatterpolar\":[{\"marker\":{\"colorbar\":{\"outlinewidth\":0,\"ticks\":\"\"}},\"type\":\"scatterpolar\"}],\"scatter\":[{\"marker\":{\"colorbar\":{\"outlinewidth\":0,\"ticks\":\"\"}},\"type\":\"scatter\"}],\"scatterternary\":[{\"marker\":{\"colorbar\":{\"outlinewidth\":0,\"ticks\":\"\"}},\"type\":\"scatterternary\"}],\"surface\":[{\"colorbar\":{\"outlinewidth\":0,\"ticks\":\"\"},\"colorscale\":[[0.0,\"#0d0887\"],[0.1111111111111111,\"#46039f\"],[0.2222222222222222,\"#7201a8\"],[0.3333333333333333,\"#9c179e\"],[0.4444444444444444,\"#bd3786\"],[0.5555555555555556,\"#d8576b\"],[0.6666666666666666,\"#ed7953\"],[0.7777777777777778,\"#fb9f3a\"],[0.8888888888888888,\"#fdca26\"],[1.0,\"#f0f921\"]],\"type\":\"surface\"}],\"table\":[{\"cells\":{\"fill\":{\"color\":\"#EBF0F8\"},\"line\":{\"color\":\"white\"}},\"header\":{\"fill\":{\"color\":\"#C8D4E3\"},\"line\":{\"color\":\"white\"}},\"type\":\"table\"}]},\"layout\":{\"annotationdefaults\":{\"arrowcolor\":\"#2a3f5f\",\"arrowhead\":0,\"arrowwidth\":1},\"autotypenumbers\":\"strict\",\"coloraxis\":{\"colorbar\":{\"outlinewidth\":0,\"ticks\":\"\"}},\"colorscale\":{\"diverging\":[[0,\"#8e0152\"],[0.1,\"#c51b7d\"],[0.2,\"#de77ae\"],[0.3,\"#f1b6da\"],[0.4,\"#fde0ef\"],[0.5,\"#f7f7f7\"],[0.6,\"#e6f5d0\"],[0.7,\"#b8e186\"],[0.8,\"#7fbc41\"],[0.9,\"#4d9221\"],[1,\"#276419\"]],\"sequential\":[[0.0,\"#0d0887\"],[0.1111111111111111,\"#46039f\"],[0.2222222222222222,\"#7201a8\"],[0.3333333333333333,\"#9c179e\"],[0.4444444444444444,\"#bd3786\"],[0.5555555555555556,\"#d8576b\"],[0.6666666666666666,\"#ed7953\"],[0.7777777777777778,\"#fb9f3a\"],[0.8888888888888888,\"#fdca26\"],[1.0,\"#f0f921\"]],\"sequentialminus\":[[0.0,\"#0d0887\"],[0.1111111111111111,\"#46039f\"],[0.2222222222222222,\"#7201a8\"],[0.3333333333333333,\"#9c179e\"],[0.4444444444444444,\"#bd3786\"],[0.5555555555555556,\"#d8576b\"],[0.6666666666666666,\"#ed7953\"],[0.7777777777777778,\"#fb9f3a\"],[0.8888888888888888,\"#fdca26\"],[1.0,\"#f0f921\"]]},\"colorway\":[\"#636efa\",\"#EF553B\",\"#00cc96\",\"#ab63fa\",\"#FFA15A\",\"#19d3f3\",\"#FF6692\",\"#B6E880\",\"#FF97FF\",\"#FECB52\"],\"font\":{\"color\":\"#2a3f5f\"},\"geo\":{\"bgcolor\":\"white\",\"lakecolor\":\"white\",\"landcolor\":\"#E5ECF6\",\"showlakes\":true,\"showland\":true,\"subunitcolor\":\"white\"},\"hoverlabel\":{\"align\":\"left\"},\"hovermode\":\"closest\",\"mapbox\":{\"style\":\"light\"},\"paper_bgcolor\":\"white\",\"plot_bgcolor\":\"#E5ECF6\",\"polar\":{\"angularaxis\":{\"gridcolor\":\"white\",\"linecolor\":\"white\",\"ticks\":\"\"},\"bgcolor\":\"#E5ECF6\",\"radialaxis\":{\"gridcolor\":\"white\",\"linecolor\":\"white\",\"ticks\":\"\"}},\"scene\":{\"xaxis\":{\"backgroundcolor\":\"#E5ECF6\",\"gridcolor\":\"white\",\"gridwidth\":2,\"linecolor\":\"white\",\"showbackground\":true,\"ticks\":\"\",\"zerolinecolor\":\"white\"},\"yaxis\":{\"backgroundcolor\":\"#E5ECF6\",\"gridcolor\":\"white\",\"gridwidth\":2,\"linecolor\":\"white\",\"showbackground\":true,\"ticks\":\"\",\"zerolinecolor\":\"white\"},\"zaxis\":{\"backgroundcolor\":\"#E5ECF6\",\"gridcolor\":\"white\",\"gridwidth\":2,\"linecolor\":\"white\",\"showbackground\":true,\"ticks\":\"\",\"zerolinecolor\":\"white\"}},\"shapedefaults\":{\"line\":{\"color\":\"#2a3f5f\"}},\"ternary\":{\"aaxis\":{\"gridcolor\":\"white\",\"linecolor\":\"white\",\"ticks\":\"\"},\"baxis\":{\"gridcolor\":\"white\",\"linecolor\":\"white\",\"ticks\":\"\"},\"bgcolor\":\"#E5ECF6\",\"caxis\":{\"gridcolor\":\"white\",\"linecolor\":\"white\",\"ticks\":\"\"}},\"title\":{\"x\":0.05},\"xaxis\":{\"automargin\":true,\"gridcolor\":\"white\",\"linecolor\":\"white\",\"ticks\":\"\",\"title\":{\"standoff\":15},\"zerolinecolor\":\"white\",\"zerolinewidth\":2},\"yaxis\":{\"automargin\":true,\"gridcolor\":\"white\",\"linecolor\":\"white\",\"ticks\":\"\",\"title\":{\"standoff\":15},\"zerolinecolor\":\"white\",\"zerolinewidth\":2}}},\"title\":{\"font\":{\"color\":\"#4D5663\"}},\"xaxis\":{\"gridcolor\":\"#E1E5ED\",\"showgrid\":true,\"tickfont\":{\"color\":\"#4D5663\"},\"title\":{\"font\":{\"color\":\"#4D5663\"},\"text\":\"\"},\"zerolinecolor\":\"#E1E5ED\"},\"yaxis\":{\"gridcolor\":\"#E1E5ED\",\"showgrid\":true,\"tickfont\":{\"color\":\"#4D5663\"},\"title\":{\"font\":{\"color\":\"#4D5663\"},\"text\":\"\"},\"zerolinecolor\":\"#E1E5ED\"}},                        {\"showLink\": true, \"linkText\": \"Export to plot.ly\", \"plotlyServerURL\": \"https://plot.ly\", \"responsive\": true}                    ).then(function(){\n",
       "                            \n",
       "var gd = document.getElementById('f72f87eb-ee2e-454e-ad1d-412e9afcd364');\n",
       "var x = new MutationObserver(function (mutations, observer) {{\n",
       "        var display = window.getComputedStyle(gd).display;\n",
       "        if (!display || display === 'none') {{\n",
       "            console.log([gd, 'removed!']);\n",
       "            Plotly.purge(gd);\n",
       "            observer.disconnect();\n",
       "        }}\n",
       "}});\n",
       "\n",
       "// Listen for the removal of the full notebook cells\n",
       "var notebookContainer = gd.closest('#notebook-container');\n",
       "if (notebookContainer) {{\n",
       "    x.observe(notebookContainer, {childList: true});\n",
       "}}\n",
       "\n",
       "// Listen for the clearing of the current output cell\n",
       "var outputEl = gd.closest('.output');\n",
       "if (outputEl) {{\n",
       "    x.observe(outputEl, {childList: true});\n",
       "}}\n",
       "\n",
       "                        })                };                });            </script>        </div>"
      ]
     },
     "metadata": {},
     "output_type": "display_data"
    }
   ],
   "source": [
    "df.iplot(kind='hist',bins=25)"
   ]
  },
  {
   "cell_type": "code",
   "execution_count": 46,
   "id": "4aca6773",
   "metadata": {},
   "outputs": [],
   "source": [
    "# spread\n",
    "    # Used in stocks market"
   ]
  },
  {
   "cell_type": "code",
   "execution_count": 48,
   "id": "f55737fe",
   "metadata": {
    "scrolled": true
   },
   "outputs": [
    {
     "name": "stderr",
     "output_type": "stream",
     "text": [
      "C:\\Users\\Abdelrahman\\AppData\\Roaming\\Python\\Python39\\site-packages\\cufflinks\\plotlytools.py:849: FutureWarning:\n",
      "\n",
      "The pandas.np module is deprecated and will be removed from pandas in a future version. Import numpy directly instead.\n",
      "\n",
      "C:\\Users\\Abdelrahman\\AppData\\Roaming\\Python\\Python39\\site-packages\\cufflinks\\plotlytools.py:850: FutureWarning:\n",
      "\n",
      "The pandas.np module is deprecated and will be removed from pandas in a future version. Import numpy directly instead.\n",
      "\n"
     ]
    },
    {
     "data": {
      "application/vnd.plotly.v1+json": {
       "config": {
        "linkText": "Export to plot.ly",
        "plotlyServerURL": "https://plot.ly",
        "showLink": true
       },
       "data": [
        {
         "line": {
          "color": "rgba(255, 153, 51, 1.0)",
          "dash": "solid",
          "shape": "linear",
          "width": 1.3
         },
         "mode": "lines",
         "name": "A",
         "text": "",
         "type": "scatter",
         "x": [
          0,
          1,
          2,
          3,
          4,
          5,
          6,
          7,
          8,
          9,
          10,
          11,
          12,
          13,
          14,
          15,
          16,
          17,
          18,
          19,
          20,
          21,
          22,
          23,
          24,
          25,
          26,
          27,
          28,
          29,
          30,
          31,
          32,
          33,
          34,
          35,
          36,
          37,
          38,
          39,
          40,
          41,
          42,
          43,
          44,
          45,
          46,
          47,
          48,
          49,
          50,
          51,
          52,
          53,
          54,
          55,
          56,
          57,
          58,
          59,
          60,
          61,
          62,
          63,
          64,
          65,
          66,
          67,
          68,
          69,
          70,
          71,
          72,
          73,
          74,
          75,
          76,
          77,
          78,
          79,
          80,
          81,
          82,
          83,
          84,
          85,
          86,
          87,
          88,
          89,
          90,
          91,
          92,
          93,
          94,
          95,
          96,
          97,
          98,
          99
         ],
         "y": [
          -0.6912741429033772,
          2.6385271622920055,
          -0.7602857136434306,
          -0.17989398726623554,
          1.1314908404810518,
          -0.9236277429682401,
          0.5738678190716883,
          0.9864544801541595,
          0.32279219540734283,
          0.5885178288924707,
          0.5024994967413074,
          0.33207596909749637,
          0.6161296323145041,
          0.09859447753227293,
          -0.8227834082627532,
          0.28464354765094746,
          -0.947342488658302,
          -0.8548769790411005,
          1.0921015040745041,
          -0.6059906110102712,
          0.7134665644043366,
          0.2506753216842416,
          0.5704988886012403,
          -0.9001676759617967,
          1.5577514195590443,
          -0.8935476824587619,
          -1.643208970155166,
          0.9744088602730071,
          -0.29420623561316916,
          -0.5779436336856351,
          -1.3840170311282365,
          2.314676910076252,
          0.6415398505272547,
          -0.8002006468597685,
          0.6922191370110591,
          -1.0337120485296762,
          0.27265670125524993,
          -0.5797583333024258,
          0.5447513266398479,
          1.2410264787389498,
          -0.3170328105037755,
          0.9375460090151588,
          0.2879885443792549,
          -1.6938341411969675,
          -0.07472009167841874,
          0.5060026725044797,
          -0.8504009261137909,
          0.732510438788298,
          2.239796161013942,
          0.7692758256658025,
          -0.327999523823669,
          -0.0522999588114854,
          0.7404336785517659,
          1.006511440200384,
          -1.0954078070436444,
          -0.694419007954893,
          0.9170675514111376,
          0.2410176623597317,
          -1.1417311818412559,
          -2.036168540701319,
          -0.5852200554789933,
          -0.08187573553144036,
          -0.0108941525886899,
          0.5043090936377923,
          -0.009038725156449571,
          0.37521561129710973,
          0.5454233016591511,
          -1.2019374781761154,
          -1.2164146034848031,
          -1.5521771642600135,
          1.5260481075021362,
          0.7511200123355126,
          -1.201730403956396,
          2.2280888976822624,
          -0.15975558174063254,
          -0.21141327351955494,
          0.3060476425825168,
          -0.20791345635292988,
          0.9746962275768414,
          -0.3798940618161446,
          -1.2099430641956597,
          -0.07687618710847464,
          0.04855691969444076,
          1.6219188475758473,
          -2.1694340031988157,
          1.1071533539052,
          1.228055445210511,
          0.9847854355920682,
          -1.7122298669622624,
          -0.23909369014186913,
          0.9571627095229488,
          0.2050568135377792,
          -0.9270560083471667,
          0.974859311003513,
          0.37850037510517365,
          0.47070287060999044,
          0.8239361128145453,
          0.9503701842417043,
          0.3020754261820294,
          0.5335541974559987
         ]
        },
        {
         "line": {
          "color": "rgba(55, 128, 191, 1.0)",
          "dash": "solid",
          "shape": "linear",
          "width": 1.3
         },
         "mode": "lines",
         "name": "B",
         "text": "",
         "type": "scatter",
         "x": [
          0,
          1,
          2,
          3,
          4,
          5,
          6,
          7,
          8,
          9,
          10,
          11,
          12,
          13,
          14,
          15,
          16,
          17,
          18,
          19,
          20,
          21,
          22,
          23,
          24,
          25,
          26,
          27,
          28,
          29,
          30,
          31,
          32,
          33,
          34,
          35,
          36,
          37,
          38,
          39,
          40,
          41,
          42,
          43,
          44,
          45,
          46,
          47,
          48,
          49,
          50,
          51,
          52,
          53,
          54,
          55,
          56,
          57,
          58,
          59,
          60,
          61,
          62,
          63,
          64,
          65,
          66,
          67,
          68,
          69,
          70,
          71,
          72,
          73,
          74,
          75,
          76,
          77,
          78,
          79,
          80,
          81,
          82,
          83,
          84,
          85,
          86,
          87,
          88,
          89,
          90,
          91,
          92,
          93,
          94,
          95,
          96,
          97,
          98,
          99
         ],
         "y": [
          -0.9399902999168411,
          -1.9423380705231792,
          0.4522164949791178,
          -1.4487787439238513,
          0.6801991481379681,
          -0.9371935088416633,
          -0.017229639492253413,
          -0.258876955937129,
          -1.0817046480966666,
          -0.6355540706675884,
          -0.5095868553778142,
          1.0783223972420422,
          0.1658907389286997,
          0.6321115178431862,
          -0.3158816940165806,
          1.1039231468906006,
          -0.49906935443041817,
          -0.6315137548742901,
          0.4726907486757533,
          0.2785663383433755,
          0.6756828406946835,
          -0.1937357330418802,
          0.5631093809666425,
          0.09076004610545052,
          -0.08080029963722939,
          -0.24121391840168532,
          -0.8838536665321517,
          -0.16955688742526506,
          0.5456960917581483,
          0.3461823440618255,
          0.8838886872681287,
          0.6007935651747616,
          -0.554952740896429,
          0.16087588010661694,
          0.7139512276978098,
          0.7836504954457244,
          -0.7468182950644572,
          -1.2852739351722766,
          -0.7377216443690595,
          0.7879482149641246,
          0.6888763990791642,
          2.0131037127401514,
          -0.9590282314305115,
          -0.08995759073683214,
          0.29072502929996125,
          1.6081002671179545,
          -0.11460765764050192,
          -1.187598726286891,
          0.9591573131300998,
          -1.0752516355918234,
          -0.13931574040481506,
          0.4015932029670253,
          0.15440121837917983,
          -0.38647080941415796,
          -1.3210927141383915,
          0.8642920456342552,
          0.6015658553512785,
          0.14569108608113243,
          0.6947284302526355,
          -0.7024617110754191,
          0.1651577477071164,
          -0.407736164353038,
          2.1840342297316826,
          -0.596291435423442,
          -1.8856920299159774,
          -0.3345990732118949,
          -1.7415128836734322,
          0.6112073340788858,
          1.7548265817244395,
          0.9293380526290771,
          -1.373294835797414,
          0.03127355648398631,
          0.4160208366523142,
          -0.11088801603936746,
          0.9221175098804136,
          -1.1576877119234141,
          -0.39813707295622613,
          -1.0592320235705353,
          0.37986665125962565,
          -0.5570483578397022,
          0.6777186339963158,
          -0.38644735124934115,
          -0.46445620006442506,
          -0.4250050264070511,
          1.0890493493481044,
          -1.4627988247249566,
          -0.470768139390512,
          -0.18899810886234358,
          0.4654101860415952,
          1.6779775844139893,
          -1.876317969649985,
          -0.1702025954803815,
          0.7386275124863215,
          -0.995687819654236,
          0.5688961016409643,
          0.003505412674648637,
          0.7707394956863137,
          0.25837287808466486,
          -1.3123051555731073,
          -0.14547432429903318
         ]
        },
        {
         "connectgaps": false,
         "fill": "tozeroy",
         "line": {
          "color": "green",
          "dash": "solid",
          "shape": "linear",
          "width": 0.5
         },
         "mode": "lines",
         "name": "Spread",
         "showlegend": false,
         "type": "scatter",
         "x": [
          0,
          1,
          2,
          3,
          4,
          5,
          6,
          7,
          8,
          9,
          10,
          11,
          12,
          13,
          14,
          15,
          16,
          17,
          18,
          19,
          20,
          21,
          22,
          23,
          24,
          25,
          26,
          27,
          28,
          29,
          30,
          31,
          32,
          33,
          34,
          35,
          36,
          37,
          38,
          39,
          40,
          41,
          42,
          43,
          44,
          45,
          46,
          47,
          48,
          49,
          50,
          51,
          52,
          53,
          54,
          55,
          56,
          57,
          58,
          59,
          60,
          61,
          62,
          63,
          64,
          65,
          66,
          67,
          68,
          69,
          70,
          71,
          72,
          73,
          74,
          75,
          76,
          77,
          78,
          79,
          80,
          81,
          82,
          83,
          84,
          85,
          86,
          87,
          88,
          89,
          90,
          91,
          92,
          93,
          94,
          95,
          96,
          97,
          98,
          99
         ],
         "xaxis": "x2",
         "y": [
          0.24871615701346395,
          4.580865232815185,
          "",
          1.2688847566576158,
          0.45129169234308364,
          0.013565765873423175,
          0.5910974585639417,
          1.2453314360912886,
          1.4044968435040093,
          1.2240718995600592,
          1.0120863521191217,
          "",
          0.4502388933858044,
          "",
          "",
          "",
          "",
          "",
          0.6194107553987509,
          "",
          0.037783723709653105,
          0.4444110547261218,
          0.007389507634597781,
          "",
          1.6385517191962737,
          "",
          "",
          1.143965747698272,
          "",
          "",
          "",
          1.7138833449014905,
          1.1964925914236837,
          "",
          "",
          "",
          1.0194749963197072,
          0.7055156018698509,
          1.2824729710089073,
          0.4530782637748252,
          "",
          "",
          1.2470167758097666,
          "",
          "",
          "",
          "",
          1.9201091650751891,
          1.280638847883842,
          1.844527461257626,
          "",
          "",
          0.586032460172586,
          1.392982249614542,
          0.2256849070947471,
          "",
          0.3155016960598591,
          0.09532657627859928,
          "",
          "",
          "",
          0.32586042882159766,
          "",
          1.1006005290612344,
          1.8766533047595277,
          0.7098146845090046,
          2.2869361853325834,
          "",
          "",
          "",
          2.8993429432995503,
          0.7198464558515263,
          "",
          2.3389769137216296,
          "",
          0.9462744384038592,
          0.704184715538743,
          0.8513185672176053,
          0.5948295763172158,
          0.1771542960235576,
          "",
          0.3095711641408665,
          0.5130131197588659,
          2.0469238739828985,
          "",
          2.5699521786301567,
          1.6988235846010231,
          1.1737835444544118,
          "",
          "",
          2.8334806791729337,
          0.3752594090181607,
          "",
          1.970547130657749,
          "",
          0.4671974579353418,
          0.05319661712823154,
          0.6919973061570395,
          1.6143805817551367,
          0.6790285217550319
         ],
         "yaxis": "y2"
        },
        {
         "connectgaps": false,
         "fill": "tozeroy",
         "line": {
          "color": "red",
          "dash": "solid",
          "shape": "linear",
          "width": 0.5
         },
         "mode": "lines",
         "name": "Spread",
         "showlegend": false,
         "type": "scatter",
         "x": [
          0,
          1,
          2,
          3,
          4,
          5,
          6,
          7,
          8,
          9,
          10,
          11,
          12,
          13,
          14,
          15,
          16,
          17,
          18,
          19,
          20,
          21,
          22,
          23,
          24,
          25,
          26,
          27,
          28,
          29,
          30,
          31,
          32,
          33,
          34,
          35,
          36,
          37,
          38,
          39,
          40,
          41,
          42,
          43,
          44,
          45,
          46,
          47,
          48,
          49,
          50,
          51,
          52,
          53,
          54,
          55,
          56,
          57,
          58,
          59,
          60,
          61,
          62,
          63,
          64,
          65,
          66,
          67,
          68,
          69,
          70,
          71,
          72,
          73,
          74,
          75,
          76,
          77,
          78,
          79,
          80,
          81,
          82,
          83,
          84,
          85,
          86,
          87,
          88,
          89,
          90,
          91,
          92,
          93,
          94,
          95,
          96,
          97,
          98,
          99
         ],
         "xaxis": "x2",
         "y": [
          "",
          "",
          -1.2125022086225483,
          "",
          "",
          "",
          "",
          "",
          "",
          "",
          "",
          -0.7462464281445458,
          "",
          -0.5335170403109133,
          -0.5069017142461726,
          -0.8192795992396531,
          -0.4482731342278838,
          -0.22336322416681043,
          "",
          -0.8845569493536467,
          "",
          "",
          "",
          -0.9909277220672472,
          "",
          -0.6523337640570765,
          -0.7593553036230143,
          "",
          -0.8399023273713174,
          -0.9241259777474606,
          -2.2679057183963653,
          "",
          "",
          -0.9610765269663855,
          -0.02173209068675075,
          -1.8173625439754006,
          "",
          "",
          "",
          "",
          -1.0059092095829398,
          -1.0755577037249926,
          "",
          -1.6038765504601353,
          -0.36544512097838,
          -1.1020975946134748,
          -0.735793268473289,
          "",
          "",
          "",
          -0.18868378341885392,
          -0.4538931617785107,
          "",
          "",
          "",
          -1.5587110535891482,
          "",
          "",
          -1.8364596120938914,
          -1.3337068296258998,
          -0.7503778031861097,
          "",
          -2.1949283823203727,
          "",
          "",
          "",
          "",
          -1.8131448122550013,
          -2.9712411852092426,
          -2.4815152168890906,
          "",
          "",
          -1.6177512406087102,
          "",
          -1.0818730916210462,
          "",
          "",
          "",
          "",
          "",
          -1.8876616981919754,
          "",
          "",
          "",
          -3.25848335254692,
          "",
          "",
          "",
          -2.1776400530038575,
          -1.9170712745558585,
          "",
          "",
          -1.6656835208334884,
          "",
          -0.19039572653579062,
          "",
          "",
          "",
          "",
          ""
         ],
         "yaxis": "y2"
        }
       ],
       "layout": {
        "hovermode": "x",
        "legend": {
         "bgcolor": "#F5F6F9",
         "font": {
          "color": "#4D5663"
         }
        },
        "paper_bgcolor": "#F5F6F9",
        "plot_bgcolor": "#F5F6F9",
        "template": {
         "data": {
          "bar": [
           {
            "error_x": {
             "color": "#2a3f5f"
            },
            "error_y": {
             "color": "#2a3f5f"
            },
            "marker": {
             "line": {
              "color": "#E5ECF6",
              "width": 0.5
             },
             "pattern": {
              "fillmode": "overlay",
              "size": 10,
              "solidity": 0.2
             }
            },
            "type": "bar"
           }
          ],
          "barpolar": [
           {
            "marker": {
             "line": {
              "color": "#E5ECF6",
              "width": 0.5
             },
             "pattern": {
              "fillmode": "overlay",
              "size": 10,
              "solidity": 0.2
             }
            },
            "type": "barpolar"
           }
          ],
          "carpet": [
           {
            "aaxis": {
             "endlinecolor": "#2a3f5f",
             "gridcolor": "white",
             "linecolor": "white",
             "minorgridcolor": "white",
             "startlinecolor": "#2a3f5f"
            },
            "baxis": {
             "endlinecolor": "#2a3f5f",
             "gridcolor": "white",
             "linecolor": "white",
             "minorgridcolor": "white",
             "startlinecolor": "#2a3f5f"
            },
            "type": "carpet"
           }
          ],
          "choropleth": [
           {
            "colorbar": {
             "outlinewidth": 0,
             "ticks": ""
            },
            "type": "choropleth"
           }
          ],
          "contour": [
           {
            "colorbar": {
             "outlinewidth": 0,
             "ticks": ""
            },
            "colorscale": [
             [
              0,
              "#0d0887"
             ],
             [
              0.1111111111111111,
              "#46039f"
             ],
             [
              0.2222222222222222,
              "#7201a8"
             ],
             [
              0.3333333333333333,
              "#9c179e"
             ],
             [
              0.4444444444444444,
              "#bd3786"
             ],
             [
              0.5555555555555556,
              "#d8576b"
             ],
             [
              0.6666666666666666,
              "#ed7953"
             ],
             [
              0.7777777777777778,
              "#fb9f3a"
             ],
             [
              0.8888888888888888,
              "#fdca26"
             ],
             [
              1,
              "#f0f921"
             ]
            ],
            "type": "contour"
           }
          ],
          "contourcarpet": [
           {
            "colorbar": {
             "outlinewidth": 0,
             "ticks": ""
            },
            "type": "contourcarpet"
           }
          ],
          "heatmap": [
           {
            "colorbar": {
             "outlinewidth": 0,
             "ticks": ""
            },
            "colorscale": [
             [
              0,
              "#0d0887"
             ],
             [
              0.1111111111111111,
              "#46039f"
             ],
             [
              0.2222222222222222,
              "#7201a8"
             ],
             [
              0.3333333333333333,
              "#9c179e"
             ],
             [
              0.4444444444444444,
              "#bd3786"
             ],
             [
              0.5555555555555556,
              "#d8576b"
             ],
             [
              0.6666666666666666,
              "#ed7953"
             ],
             [
              0.7777777777777778,
              "#fb9f3a"
             ],
             [
              0.8888888888888888,
              "#fdca26"
             ],
             [
              1,
              "#f0f921"
             ]
            ],
            "type": "heatmap"
           }
          ],
          "heatmapgl": [
           {
            "colorbar": {
             "outlinewidth": 0,
             "ticks": ""
            },
            "colorscale": [
             [
              0,
              "#0d0887"
             ],
             [
              0.1111111111111111,
              "#46039f"
             ],
             [
              0.2222222222222222,
              "#7201a8"
             ],
             [
              0.3333333333333333,
              "#9c179e"
             ],
             [
              0.4444444444444444,
              "#bd3786"
             ],
             [
              0.5555555555555556,
              "#d8576b"
             ],
             [
              0.6666666666666666,
              "#ed7953"
             ],
             [
              0.7777777777777778,
              "#fb9f3a"
             ],
             [
              0.8888888888888888,
              "#fdca26"
             ],
             [
              1,
              "#f0f921"
             ]
            ],
            "type": "heatmapgl"
           }
          ],
          "histogram": [
           {
            "marker": {
             "pattern": {
              "fillmode": "overlay",
              "size": 10,
              "solidity": 0.2
             }
            },
            "type": "histogram"
           }
          ],
          "histogram2d": [
           {
            "colorbar": {
             "outlinewidth": 0,
             "ticks": ""
            },
            "colorscale": [
             [
              0,
              "#0d0887"
             ],
             [
              0.1111111111111111,
              "#46039f"
             ],
             [
              0.2222222222222222,
              "#7201a8"
             ],
             [
              0.3333333333333333,
              "#9c179e"
             ],
             [
              0.4444444444444444,
              "#bd3786"
             ],
             [
              0.5555555555555556,
              "#d8576b"
             ],
             [
              0.6666666666666666,
              "#ed7953"
             ],
             [
              0.7777777777777778,
              "#fb9f3a"
             ],
             [
              0.8888888888888888,
              "#fdca26"
             ],
             [
              1,
              "#f0f921"
             ]
            ],
            "type": "histogram2d"
           }
          ],
          "histogram2dcontour": [
           {
            "colorbar": {
             "outlinewidth": 0,
             "ticks": ""
            },
            "colorscale": [
             [
              0,
              "#0d0887"
             ],
             [
              0.1111111111111111,
              "#46039f"
             ],
             [
              0.2222222222222222,
              "#7201a8"
             ],
             [
              0.3333333333333333,
              "#9c179e"
             ],
             [
              0.4444444444444444,
              "#bd3786"
             ],
             [
              0.5555555555555556,
              "#d8576b"
             ],
             [
              0.6666666666666666,
              "#ed7953"
             ],
             [
              0.7777777777777778,
              "#fb9f3a"
             ],
             [
              0.8888888888888888,
              "#fdca26"
             ],
             [
              1,
              "#f0f921"
             ]
            ],
            "type": "histogram2dcontour"
           }
          ],
          "mesh3d": [
           {
            "colorbar": {
             "outlinewidth": 0,
             "ticks": ""
            },
            "type": "mesh3d"
           }
          ],
          "parcoords": [
           {
            "line": {
             "colorbar": {
              "outlinewidth": 0,
              "ticks": ""
             }
            },
            "type": "parcoords"
           }
          ],
          "pie": [
           {
            "automargin": true,
            "type": "pie"
           }
          ],
          "scatter": [
           {
            "marker": {
             "colorbar": {
              "outlinewidth": 0,
              "ticks": ""
             }
            },
            "type": "scatter"
           }
          ],
          "scatter3d": [
           {
            "line": {
             "colorbar": {
              "outlinewidth": 0,
              "ticks": ""
             }
            },
            "marker": {
             "colorbar": {
              "outlinewidth": 0,
              "ticks": ""
             }
            },
            "type": "scatter3d"
           }
          ],
          "scattercarpet": [
           {
            "marker": {
             "colorbar": {
              "outlinewidth": 0,
              "ticks": ""
             }
            },
            "type": "scattercarpet"
           }
          ],
          "scattergeo": [
           {
            "marker": {
             "colorbar": {
              "outlinewidth": 0,
              "ticks": ""
             }
            },
            "type": "scattergeo"
           }
          ],
          "scattergl": [
           {
            "marker": {
             "colorbar": {
              "outlinewidth": 0,
              "ticks": ""
             }
            },
            "type": "scattergl"
           }
          ],
          "scattermapbox": [
           {
            "marker": {
             "colorbar": {
              "outlinewidth": 0,
              "ticks": ""
             }
            },
            "type": "scattermapbox"
           }
          ],
          "scatterpolar": [
           {
            "marker": {
             "colorbar": {
              "outlinewidth": 0,
              "ticks": ""
             }
            },
            "type": "scatterpolar"
           }
          ],
          "scatterpolargl": [
           {
            "marker": {
             "colorbar": {
              "outlinewidth": 0,
              "ticks": ""
             }
            },
            "type": "scatterpolargl"
           }
          ],
          "scatterternary": [
           {
            "marker": {
             "colorbar": {
              "outlinewidth": 0,
              "ticks": ""
             }
            },
            "type": "scatterternary"
           }
          ],
          "surface": [
           {
            "colorbar": {
             "outlinewidth": 0,
             "ticks": ""
            },
            "colorscale": [
             [
              0,
              "#0d0887"
             ],
             [
              0.1111111111111111,
              "#46039f"
             ],
             [
              0.2222222222222222,
              "#7201a8"
             ],
             [
              0.3333333333333333,
              "#9c179e"
             ],
             [
              0.4444444444444444,
              "#bd3786"
             ],
             [
              0.5555555555555556,
              "#d8576b"
             ],
             [
              0.6666666666666666,
              "#ed7953"
             ],
             [
              0.7777777777777778,
              "#fb9f3a"
             ],
             [
              0.8888888888888888,
              "#fdca26"
             ],
             [
              1,
              "#f0f921"
             ]
            ],
            "type": "surface"
           }
          ],
          "table": [
           {
            "cells": {
             "fill": {
              "color": "#EBF0F8"
             },
             "line": {
              "color": "white"
             }
            },
            "header": {
             "fill": {
              "color": "#C8D4E3"
             },
             "line": {
              "color": "white"
             }
            },
            "type": "table"
           }
          ]
         },
         "layout": {
          "annotationdefaults": {
           "arrowcolor": "#2a3f5f",
           "arrowhead": 0,
           "arrowwidth": 1
          },
          "autotypenumbers": "strict",
          "coloraxis": {
           "colorbar": {
            "outlinewidth": 0,
            "ticks": ""
           }
          },
          "colorscale": {
           "diverging": [
            [
             0,
             "#8e0152"
            ],
            [
             0.1,
             "#c51b7d"
            ],
            [
             0.2,
             "#de77ae"
            ],
            [
             0.3,
             "#f1b6da"
            ],
            [
             0.4,
             "#fde0ef"
            ],
            [
             0.5,
             "#f7f7f7"
            ],
            [
             0.6,
             "#e6f5d0"
            ],
            [
             0.7,
             "#b8e186"
            ],
            [
             0.8,
             "#7fbc41"
            ],
            [
             0.9,
             "#4d9221"
            ],
            [
             1,
             "#276419"
            ]
           ],
           "sequential": [
            [
             0,
             "#0d0887"
            ],
            [
             0.1111111111111111,
             "#46039f"
            ],
            [
             0.2222222222222222,
             "#7201a8"
            ],
            [
             0.3333333333333333,
             "#9c179e"
            ],
            [
             0.4444444444444444,
             "#bd3786"
            ],
            [
             0.5555555555555556,
             "#d8576b"
            ],
            [
             0.6666666666666666,
             "#ed7953"
            ],
            [
             0.7777777777777778,
             "#fb9f3a"
            ],
            [
             0.8888888888888888,
             "#fdca26"
            ],
            [
             1,
             "#f0f921"
            ]
           ],
           "sequentialminus": [
            [
             0,
             "#0d0887"
            ],
            [
             0.1111111111111111,
             "#46039f"
            ],
            [
             0.2222222222222222,
             "#7201a8"
            ],
            [
             0.3333333333333333,
             "#9c179e"
            ],
            [
             0.4444444444444444,
             "#bd3786"
            ],
            [
             0.5555555555555556,
             "#d8576b"
            ],
            [
             0.6666666666666666,
             "#ed7953"
            ],
            [
             0.7777777777777778,
             "#fb9f3a"
            ],
            [
             0.8888888888888888,
             "#fdca26"
            ],
            [
             1,
             "#f0f921"
            ]
           ]
          },
          "colorway": [
           "#636efa",
           "#EF553B",
           "#00cc96",
           "#ab63fa",
           "#FFA15A",
           "#19d3f3",
           "#FF6692",
           "#B6E880",
           "#FF97FF",
           "#FECB52"
          ],
          "font": {
           "color": "#2a3f5f"
          },
          "geo": {
           "bgcolor": "white",
           "lakecolor": "white",
           "landcolor": "#E5ECF6",
           "showlakes": true,
           "showland": true,
           "subunitcolor": "white"
          },
          "hoverlabel": {
           "align": "left"
          },
          "hovermode": "closest",
          "mapbox": {
           "style": "light"
          },
          "paper_bgcolor": "white",
          "plot_bgcolor": "#E5ECF6",
          "polar": {
           "angularaxis": {
            "gridcolor": "white",
            "linecolor": "white",
            "ticks": ""
           },
           "bgcolor": "#E5ECF6",
           "radialaxis": {
            "gridcolor": "white",
            "linecolor": "white",
            "ticks": ""
           }
          },
          "scene": {
           "xaxis": {
            "backgroundcolor": "#E5ECF6",
            "gridcolor": "white",
            "gridwidth": 2,
            "linecolor": "white",
            "showbackground": true,
            "ticks": "",
            "zerolinecolor": "white"
           },
           "yaxis": {
            "backgroundcolor": "#E5ECF6",
            "gridcolor": "white",
            "gridwidth": 2,
            "linecolor": "white",
            "showbackground": true,
            "ticks": "",
            "zerolinecolor": "white"
           },
           "zaxis": {
            "backgroundcolor": "#E5ECF6",
            "gridcolor": "white",
            "gridwidth": 2,
            "linecolor": "white",
            "showbackground": true,
            "ticks": "",
            "zerolinecolor": "white"
           }
          },
          "shapedefaults": {
           "line": {
            "color": "#2a3f5f"
           }
          },
          "ternary": {
           "aaxis": {
            "gridcolor": "white",
            "linecolor": "white",
            "ticks": ""
           },
           "baxis": {
            "gridcolor": "white",
            "linecolor": "white",
            "ticks": ""
           },
           "bgcolor": "#E5ECF6",
           "caxis": {
            "gridcolor": "white",
            "linecolor": "white",
            "ticks": ""
           }
          },
          "title": {
           "x": 0.05
          },
          "xaxis": {
           "automargin": true,
           "gridcolor": "white",
           "linecolor": "white",
           "ticks": "",
           "title": {
            "standoff": 15
           },
           "zerolinecolor": "white",
           "zerolinewidth": 2
          },
          "yaxis": {
           "automargin": true,
           "gridcolor": "white",
           "linecolor": "white",
           "ticks": "",
           "title": {
            "standoff": 15
           },
           "zerolinecolor": "white",
           "zerolinewidth": 2
          }
         }
        },
        "title": {
         "font": {
          "color": "#4D5663"
         }
        },
        "xaxis": {
         "gridcolor": "#E1E5ED",
         "showgrid": true,
         "tickfont": {
          "color": "#4D5663"
         },
         "title": {
          "font": {
           "color": "#4D5663"
          },
          "text": ""
         },
         "zerolinecolor": "#E1E5ED"
        },
        "xaxis2": {
         "anchor": "y2",
         "gridcolor": "#E1E5ED",
         "showgrid": true,
         "showticklabels": false,
         "tickfont": {
          "color": "#4D5663"
         },
         "title": {
          "font": {
           "color": "#4D5663"
          },
          "text": ""
         },
         "zerolinecolor": "#E1E5ED"
        },
        "yaxis": {
         "domain": [
          0.3,
          1
         ],
         "gridcolor": "#E1E5ED",
         "showgrid": true,
         "tickfont": {
          "color": "#4D5663"
         },
         "title": {
          "font": {
           "color": "#4D5663"
          },
          "text": ""
         },
         "zerolinecolor": "#E1E5ED"
        },
        "yaxis2": {
         "domain": [
          0,
          0.25
         ],
         "gridcolor": "#E1E5ED",
         "showgrid": true,
         "tickfont": {
          "color": "#4D5663"
         },
         "title": {
          "font": {
           "color": "#4D5663"
          },
          "text": "Spread"
         },
         "zerolinecolor": "#E1E5ED"
        }
       }
      },
      "text/html": [
       "<div>                            <div id=\"964adddb-733e-4491-bb69-ae6e919ec58b\" class=\"plotly-graph-div\" style=\"height:525px; width:100%;\"></div>            <script type=\"text/javascript\">                require([\"plotly\"], function(Plotly) {                    window.PLOTLYENV=window.PLOTLYENV || {};\n",
       "                    window.PLOTLYENV.BASE_URL='https://plot.ly';                                    if (document.getElementById(\"964adddb-733e-4491-bb69-ae6e919ec58b\")) {                    Plotly.newPlot(                        \"964adddb-733e-4491-bb69-ae6e919ec58b\",                        [{\"line\":{\"color\":\"rgba(255, 153, 51, 1.0)\",\"dash\":\"solid\",\"shape\":\"linear\",\"width\":1.3},\"mode\":\"lines\",\"name\":\"A\",\"text\":\"\",\"x\":[0,1,2,3,4,5,6,7,8,9,10,11,12,13,14,15,16,17,18,19,20,21,22,23,24,25,26,27,28,29,30,31,32,33,34,35,36,37,38,39,40,41,42,43,44,45,46,47,48,49,50,51,52,53,54,55,56,57,58,59,60,61,62,63,64,65,66,67,68,69,70,71,72,73,74,75,76,77,78,79,80,81,82,83,84,85,86,87,88,89,90,91,92,93,94,95,96,97,98,99],\"y\":[-0.6912741429033772,2.6385271622920055,-0.7602857136434306,-0.17989398726623554,1.1314908404810518,-0.9236277429682401,0.5738678190716883,0.9864544801541595,0.32279219540734283,0.5885178288924707,0.5024994967413074,0.33207596909749637,0.6161296323145041,0.09859447753227293,-0.8227834082627532,0.28464354765094746,-0.947342488658302,-0.8548769790411005,1.0921015040745041,-0.6059906110102712,0.7134665644043366,0.2506753216842416,0.5704988886012403,-0.9001676759617967,1.5577514195590443,-0.8935476824587619,-1.643208970155166,0.9744088602730071,-0.29420623561316916,-0.5779436336856351,-1.3840170311282365,2.314676910076252,0.6415398505272547,-0.8002006468597685,0.6922191370110591,-1.0337120485296762,0.27265670125524993,-0.5797583333024258,0.5447513266398479,1.2410264787389498,-0.3170328105037755,0.9375460090151588,0.2879885443792549,-1.6938341411969675,-0.07472009167841874,0.5060026725044797,-0.8504009261137909,0.732510438788298,2.239796161013942,0.7692758256658025,-0.327999523823669,-0.0522999588114854,0.7404336785517659,1.006511440200384,-1.0954078070436444,-0.694419007954893,0.9170675514111376,0.2410176623597317,-1.1417311818412559,-2.036168540701319,-0.5852200554789933,-0.08187573553144036,-0.0108941525886899,0.5043090936377923,-0.009038725156449571,0.37521561129710973,0.5454233016591511,-1.2019374781761154,-1.2164146034848031,-1.5521771642600135,1.5260481075021362,0.7511200123355126,-1.201730403956396,2.2280888976822624,-0.15975558174063254,-0.21141327351955494,0.3060476425825168,-0.20791345635292988,0.9746962275768414,-0.3798940618161446,-1.2099430641956597,-0.07687618710847464,0.04855691969444076,1.6219188475758473,-2.1694340031988157,1.1071533539052,1.228055445210511,0.9847854355920682,-1.7122298669622624,-0.23909369014186913,0.9571627095229488,0.2050568135377792,-0.9270560083471667,0.974859311003513,0.37850037510517365,0.47070287060999044,0.8239361128145453,0.9503701842417043,0.3020754261820294,0.5335541974559987],\"type\":\"scatter\"},{\"line\":{\"color\":\"rgba(55, 128, 191, 1.0)\",\"dash\":\"solid\",\"shape\":\"linear\",\"width\":1.3},\"mode\":\"lines\",\"name\":\"B\",\"text\":\"\",\"x\":[0,1,2,3,4,5,6,7,8,9,10,11,12,13,14,15,16,17,18,19,20,21,22,23,24,25,26,27,28,29,30,31,32,33,34,35,36,37,38,39,40,41,42,43,44,45,46,47,48,49,50,51,52,53,54,55,56,57,58,59,60,61,62,63,64,65,66,67,68,69,70,71,72,73,74,75,76,77,78,79,80,81,82,83,84,85,86,87,88,89,90,91,92,93,94,95,96,97,98,99],\"y\":[-0.9399902999168411,-1.9423380705231792,0.4522164949791178,-1.4487787439238513,0.6801991481379681,-0.9371935088416633,-0.017229639492253413,-0.258876955937129,-1.0817046480966666,-0.6355540706675884,-0.5095868553778142,1.0783223972420422,0.1658907389286997,0.6321115178431862,-0.3158816940165806,1.1039231468906006,-0.49906935443041817,-0.6315137548742901,0.4726907486757533,0.2785663383433755,0.6756828406946835,-0.1937357330418802,0.5631093809666425,0.09076004610545052,-0.08080029963722939,-0.24121391840168532,-0.8838536665321517,-0.16955688742526506,0.5456960917581483,0.3461823440618255,0.8838886872681287,0.6007935651747616,-0.554952740896429,0.16087588010661694,0.7139512276978098,0.7836504954457244,-0.7468182950644572,-1.2852739351722766,-0.7377216443690595,0.7879482149641246,0.6888763990791642,2.0131037127401514,-0.9590282314305115,-0.08995759073683214,0.29072502929996125,1.6081002671179545,-0.11460765764050192,-1.187598726286891,0.9591573131300998,-1.0752516355918234,-0.13931574040481506,0.4015932029670253,0.15440121837917983,-0.38647080941415796,-1.3210927141383915,0.8642920456342552,0.6015658553512785,0.14569108608113243,0.6947284302526355,-0.7024617110754191,0.1651577477071164,-0.407736164353038,2.1840342297316826,-0.596291435423442,-1.8856920299159774,-0.3345990732118949,-1.7415128836734322,0.6112073340788858,1.7548265817244395,0.9293380526290771,-1.373294835797414,0.03127355648398631,0.4160208366523142,-0.11088801603936746,0.9221175098804136,-1.1576877119234141,-0.39813707295622613,-1.0592320235705353,0.37986665125962565,-0.5570483578397022,0.6777186339963158,-0.38644735124934115,-0.46445620006442506,-0.4250050264070511,1.0890493493481044,-1.4627988247249566,-0.470768139390512,-0.18899810886234358,0.4654101860415952,1.6779775844139893,-1.876317969649985,-0.1702025954803815,0.7386275124863215,-0.995687819654236,0.5688961016409643,0.003505412674648637,0.7707394956863137,0.25837287808466486,-1.3123051555731073,-0.14547432429903318],\"type\":\"scatter\"},{\"connectgaps\":false,\"fill\":\"tozeroy\",\"line\":{\"color\":\"green\",\"dash\":\"solid\",\"shape\":\"linear\",\"width\":0.5},\"mode\":\"lines\",\"name\":\"Spread\",\"showlegend\":false,\"x\":[0,1,2,3,4,5,6,7,8,9,10,11,12,13,14,15,16,17,18,19,20,21,22,23,24,25,26,27,28,29,30,31,32,33,34,35,36,37,38,39,40,41,42,43,44,45,46,47,48,49,50,51,52,53,54,55,56,57,58,59,60,61,62,63,64,65,66,67,68,69,70,71,72,73,74,75,76,77,78,79,80,81,82,83,84,85,86,87,88,89,90,91,92,93,94,95,96,97,98,99],\"xaxis\":\"x2\",\"y\":[0.24871615701346395,4.580865232815185,\"\",1.2688847566576158,0.45129169234308364,0.013565765873423175,0.5910974585639417,1.2453314360912886,1.4044968435040093,1.2240718995600592,1.0120863521191217,\"\",0.4502388933858044,\"\",\"\",\"\",\"\",\"\",0.6194107553987509,\"\",0.037783723709653105,0.4444110547261218,0.007389507634597781,\"\",1.6385517191962737,\"\",\"\",1.143965747698272,\"\",\"\",\"\",1.7138833449014905,1.1964925914236837,\"\",\"\",\"\",1.0194749963197072,0.7055156018698509,1.2824729710089073,0.4530782637748252,\"\",\"\",1.2470167758097666,\"\",\"\",\"\",\"\",1.9201091650751891,1.280638847883842,1.844527461257626,\"\",\"\",0.586032460172586,1.392982249614542,0.2256849070947471,\"\",0.3155016960598591,0.09532657627859928,\"\",\"\",\"\",0.32586042882159766,\"\",1.1006005290612344,1.8766533047595277,0.7098146845090046,2.2869361853325834,\"\",\"\",\"\",2.8993429432995503,0.7198464558515263,\"\",2.3389769137216296,\"\",0.9462744384038592,0.704184715538743,0.8513185672176053,0.5948295763172158,0.1771542960235576,\"\",0.3095711641408665,0.5130131197588659,2.0469238739828985,\"\",2.5699521786301567,1.6988235846010231,1.1737835444544118,\"\",\"\",2.8334806791729337,0.3752594090181607,\"\",1.970547130657749,\"\",0.4671974579353418,0.05319661712823154,0.6919973061570395,1.6143805817551367,0.6790285217550319],\"yaxis\":\"y2\",\"type\":\"scatter\"},{\"connectgaps\":false,\"fill\":\"tozeroy\",\"line\":{\"color\":\"red\",\"dash\":\"solid\",\"shape\":\"linear\",\"width\":0.5},\"mode\":\"lines\",\"name\":\"Spread\",\"showlegend\":false,\"x\":[0,1,2,3,4,5,6,7,8,9,10,11,12,13,14,15,16,17,18,19,20,21,22,23,24,25,26,27,28,29,30,31,32,33,34,35,36,37,38,39,40,41,42,43,44,45,46,47,48,49,50,51,52,53,54,55,56,57,58,59,60,61,62,63,64,65,66,67,68,69,70,71,72,73,74,75,76,77,78,79,80,81,82,83,84,85,86,87,88,89,90,91,92,93,94,95,96,97,98,99],\"xaxis\":\"x2\",\"y\":[\"\",\"\",-1.2125022086225483,\"\",\"\",\"\",\"\",\"\",\"\",\"\",\"\",-0.7462464281445458,\"\",-0.5335170403109133,-0.5069017142461726,-0.8192795992396531,-0.4482731342278838,-0.22336322416681043,\"\",-0.8845569493536467,\"\",\"\",\"\",-0.9909277220672472,\"\",-0.6523337640570765,-0.7593553036230143,\"\",-0.8399023273713174,-0.9241259777474606,-2.2679057183963653,\"\",\"\",-0.9610765269663855,-0.02173209068675075,-1.8173625439754006,\"\",\"\",\"\",\"\",-1.0059092095829398,-1.0755577037249926,\"\",-1.6038765504601353,-0.36544512097838,-1.1020975946134748,-0.735793268473289,\"\",\"\",\"\",-0.18868378341885392,-0.4538931617785107,\"\",\"\",\"\",-1.5587110535891482,\"\",\"\",-1.8364596120938914,-1.3337068296258998,-0.7503778031861097,\"\",-2.1949283823203727,\"\",\"\",\"\",\"\",-1.8131448122550013,-2.9712411852092426,-2.4815152168890906,\"\",\"\",-1.6177512406087102,\"\",-1.0818730916210462,\"\",\"\",\"\",\"\",\"\",-1.8876616981919754,\"\",\"\",\"\",-3.25848335254692,\"\",\"\",\"\",-2.1776400530038575,-1.9170712745558585,\"\",\"\",-1.6656835208334884,\"\",-0.19039572653579062,\"\",\"\",\"\",\"\",\"\"],\"yaxis\":\"y2\",\"type\":\"scatter\"}],                        {\"hovermode\":\"x\",\"legend\":{\"bgcolor\":\"#F5F6F9\",\"font\":{\"color\":\"#4D5663\"}},\"paper_bgcolor\":\"#F5F6F9\",\"plot_bgcolor\":\"#F5F6F9\",\"template\":{\"data\":{\"barpolar\":[{\"marker\":{\"line\":{\"color\":\"#E5ECF6\",\"width\":0.5},\"pattern\":{\"fillmode\":\"overlay\",\"size\":10,\"solidity\":0.2}},\"type\":\"barpolar\"}],\"bar\":[{\"error_x\":{\"color\":\"#2a3f5f\"},\"error_y\":{\"color\":\"#2a3f5f\"},\"marker\":{\"line\":{\"color\":\"#E5ECF6\",\"width\":0.5},\"pattern\":{\"fillmode\":\"overlay\",\"size\":10,\"solidity\":0.2}},\"type\":\"bar\"}],\"carpet\":[{\"aaxis\":{\"endlinecolor\":\"#2a3f5f\",\"gridcolor\":\"white\",\"linecolor\":\"white\",\"minorgridcolor\":\"white\",\"startlinecolor\":\"#2a3f5f\"},\"baxis\":{\"endlinecolor\":\"#2a3f5f\",\"gridcolor\":\"white\",\"linecolor\":\"white\",\"minorgridcolor\":\"white\",\"startlinecolor\":\"#2a3f5f\"},\"type\":\"carpet\"}],\"choropleth\":[{\"colorbar\":{\"outlinewidth\":0,\"ticks\":\"\"},\"type\":\"choropleth\"}],\"contourcarpet\":[{\"colorbar\":{\"outlinewidth\":0,\"ticks\":\"\"},\"type\":\"contourcarpet\"}],\"contour\":[{\"colorbar\":{\"outlinewidth\":0,\"ticks\":\"\"},\"colorscale\":[[0.0,\"#0d0887\"],[0.1111111111111111,\"#46039f\"],[0.2222222222222222,\"#7201a8\"],[0.3333333333333333,\"#9c179e\"],[0.4444444444444444,\"#bd3786\"],[0.5555555555555556,\"#d8576b\"],[0.6666666666666666,\"#ed7953\"],[0.7777777777777778,\"#fb9f3a\"],[0.8888888888888888,\"#fdca26\"],[1.0,\"#f0f921\"]],\"type\":\"contour\"}],\"heatmapgl\":[{\"colorbar\":{\"outlinewidth\":0,\"ticks\":\"\"},\"colorscale\":[[0.0,\"#0d0887\"],[0.1111111111111111,\"#46039f\"],[0.2222222222222222,\"#7201a8\"],[0.3333333333333333,\"#9c179e\"],[0.4444444444444444,\"#bd3786\"],[0.5555555555555556,\"#d8576b\"],[0.6666666666666666,\"#ed7953\"],[0.7777777777777778,\"#fb9f3a\"],[0.8888888888888888,\"#fdca26\"],[1.0,\"#f0f921\"]],\"type\":\"heatmapgl\"}],\"heatmap\":[{\"colorbar\":{\"outlinewidth\":0,\"ticks\":\"\"},\"colorscale\":[[0.0,\"#0d0887\"],[0.1111111111111111,\"#46039f\"],[0.2222222222222222,\"#7201a8\"],[0.3333333333333333,\"#9c179e\"],[0.4444444444444444,\"#bd3786\"],[0.5555555555555556,\"#d8576b\"],[0.6666666666666666,\"#ed7953\"],[0.7777777777777778,\"#fb9f3a\"],[0.8888888888888888,\"#fdca26\"],[1.0,\"#f0f921\"]],\"type\":\"heatmap\"}],\"histogram2dcontour\":[{\"colorbar\":{\"outlinewidth\":0,\"ticks\":\"\"},\"colorscale\":[[0.0,\"#0d0887\"],[0.1111111111111111,\"#46039f\"],[0.2222222222222222,\"#7201a8\"],[0.3333333333333333,\"#9c179e\"],[0.4444444444444444,\"#bd3786\"],[0.5555555555555556,\"#d8576b\"],[0.6666666666666666,\"#ed7953\"],[0.7777777777777778,\"#fb9f3a\"],[0.8888888888888888,\"#fdca26\"],[1.0,\"#f0f921\"]],\"type\":\"histogram2dcontour\"}],\"histogram2d\":[{\"colorbar\":{\"outlinewidth\":0,\"ticks\":\"\"},\"colorscale\":[[0.0,\"#0d0887\"],[0.1111111111111111,\"#46039f\"],[0.2222222222222222,\"#7201a8\"],[0.3333333333333333,\"#9c179e\"],[0.4444444444444444,\"#bd3786\"],[0.5555555555555556,\"#d8576b\"],[0.6666666666666666,\"#ed7953\"],[0.7777777777777778,\"#fb9f3a\"],[0.8888888888888888,\"#fdca26\"],[1.0,\"#f0f921\"]],\"type\":\"histogram2d\"}],\"histogram\":[{\"marker\":{\"pattern\":{\"fillmode\":\"overlay\",\"size\":10,\"solidity\":0.2}},\"type\":\"histogram\"}],\"mesh3d\":[{\"colorbar\":{\"outlinewidth\":0,\"ticks\":\"\"},\"type\":\"mesh3d\"}],\"parcoords\":[{\"line\":{\"colorbar\":{\"outlinewidth\":0,\"ticks\":\"\"}},\"type\":\"parcoords\"}],\"pie\":[{\"automargin\":true,\"type\":\"pie\"}],\"scatter3d\":[{\"line\":{\"colorbar\":{\"outlinewidth\":0,\"ticks\":\"\"}},\"marker\":{\"colorbar\":{\"outlinewidth\":0,\"ticks\":\"\"}},\"type\":\"scatter3d\"}],\"scattercarpet\":[{\"marker\":{\"colorbar\":{\"outlinewidth\":0,\"ticks\":\"\"}},\"type\":\"scattercarpet\"}],\"scattergeo\":[{\"marker\":{\"colorbar\":{\"outlinewidth\":0,\"ticks\":\"\"}},\"type\":\"scattergeo\"}],\"scattergl\":[{\"marker\":{\"colorbar\":{\"outlinewidth\":0,\"ticks\":\"\"}},\"type\":\"scattergl\"}],\"scattermapbox\":[{\"marker\":{\"colorbar\":{\"outlinewidth\":0,\"ticks\":\"\"}},\"type\":\"scattermapbox\"}],\"scatterpolargl\":[{\"marker\":{\"colorbar\":{\"outlinewidth\":0,\"ticks\":\"\"}},\"type\":\"scatterpolargl\"}],\"scatterpolar\":[{\"marker\":{\"colorbar\":{\"outlinewidth\":0,\"ticks\":\"\"}},\"type\":\"scatterpolar\"}],\"scatter\":[{\"marker\":{\"colorbar\":{\"outlinewidth\":0,\"ticks\":\"\"}},\"type\":\"scatter\"}],\"scatterternary\":[{\"marker\":{\"colorbar\":{\"outlinewidth\":0,\"ticks\":\"\"}},\"type\":\"scatterternary\"}],\"surface\":[{\"colorbar\":{\"outlinewidth\":0,\"ticks\":\"\"},\"colorscale\":[[0.0,\"#0d0887\"],[0.1111111111111111,\"#46039f\"],[0.2222222222222222,\"#7201a8\"],[0.3333333333333333,\"#9c179e\"],[0.4444444444444444,\"#bd3786\"],[0.5555555555555556,\"#d8576b\"],[0.6666666666666666,\"#ed7953\"],[0.7777777777777778,\"#fb9f3a\"],[0.8888888888888888,\"#fdca26\"],[1.0,\"#f0f921\"]],\"type\":\"surface\"}],\"table\":[{\"cells\":{\"fill\":{\"color\":\"#EBF0F8\"},\"line\":{\"color\":\"white\"}},\"header\":{\"fill\":{\"color\":\"#C8D4E3\"},\"line\":{\"color\":\"white\"}},\"type\":\"table\"}]},\"layout\":{\"annotationdefaults\":{\"arrowcolor\":\"#2a3f5f\",\"arrowhead\":0,\"arrowwidth\":1},\"autotypenumbers\":\"strict\",\"coloraxis\":{\"colorbar\":{\"outlinewidth\":0,\"ticks\":\"\"}},\"colorscale\":{\"diverging\":[[0,\"#8e0152\"],[0.1,\"#c51b7d\"],[0.2,\"#de77ae\"],[0.3,\"#f1b6da\"],[0.4,\"#fde0ef\"],[0.5,\"#f7f7f7\"],[0.6,\"#e6f5d0\"],[0.7,\"#b8e186\"],[0.8,\"#7fbc41\"],[0.9,\"#4d9221\"],[1,\"#276419\"]],\"sequential\":[[0.0,\"#0d0887\"],[0.1111111111111111,\"#46039f\"],[0.2222222222222222,\"#7201a8\"],[0.3333333333333333,\"#9c179e\"],[0.4444444444444444,\"#bd3786\"],[0.5555555555555556,\"#d8576b\"],[0.6666666666666666,\"#ed7953\"],[0.7777777777777778,\"#fb9f3a\"],[0.8888888888888888,\"#fdca26\"],[1.0,\"#f0f921\"]],\"sequentialminus\":[[0.0,\"#0d0887\"],[0.1111111111111111,\"#46039f\"],[0.2222222222222222,\"#7201a8\"],[0.3333333333333333,\"#9c179e\"],[0.4444444444444444,\"#bd3786\"],[0.5555555555555556,\"#d8576b\"],[0.6666666666666666,\"#ed7953\"],[0.7777777777777778,\"#fb9f3a\"],[0.8888888888888888,\"#fdca26\"],[1.0,\"#f0f921\"]]},\"colorway\":[\"#636efa\",\"#EF553B\",\"#00cc96\",\"#ab63fa\",\"#FFA15A\",\"#19d3f3\",\"#FF6692\",\"#B6E880\",\"#FF97FF\",\"#FECB52\"],\"font\":{\"color\":\"#2a3f5f\"},\"geo\":{\"bgcolor\":\"white\",\"lakecolor\":\"white\",\"landcolor\":\"#E5ECF6\",\"showlakes\":true,\"showland\":true,\"subunitcolor\":\"white\"},\"hoverlabel\":{\"align\":\"left\"},\"hovermode\":\"closest\",\"mapbox\":{\"style\":\"light\"},\"paper_bgcolor\":\"white\",\"plot_bgcolor\":\"#E5ECF6\",\"polar\":{\"angularaxis\":{\"gridcolor\":\"white\",\"linecolor\":\"white\",\"ticks\":\"\"},\"bgcolor\":\"#E5ECF6\",\"radialaxis\":{\"gridcolor\":\"white\",\"linecolor\":\"white\",\"ticks\":\"\"}},\"scene\":{\"xaxis\":{\"backgroundcolor\":\"#E5ECF6\",\"gridcolor\":\"white\",\"gridwidth\":2,\"linecolor\":\"white\",\"showbackground\":true,\"ticks\":\"\",\"zerolinecolor\":\"white\"},\"yaxis\":{\"backgroundcolor\":\"#E5ECF6\",\"gridcolor\":\"white\",\"gridwidth\":2,\"linecolor\":\"white\",\"showbackground\":true,\"ticks\":\"\",\"zerolinecolor\":\"white\"},\"zaxis\":{\"backgroundcolor\":\"#E5ECF6\",\"gridcolor\":\"white\",\"gridwidth\":2,\"linecolor\":\"white\",\"showbackground\":true,\"ticks\":\"\",\"zerolinecolor\":\"white\"}},\"shapedefaults\":{\"line\":{\"color\":\"#2a3f5f\"}},\"ternary\":{\"aaxis\":{\"gridcolor\":\"white\",\"linecolor\":\"white\",\"ticks\":\"\"},\"baxis\":{\"gridcolor\":\"white\",\"linecolor\":\"white\",\"ticks\":\"\"},\"bgcolor\":\"#E5ECF6\",\"caxis\":{\"gridcolor\":\"white\",\"linecolor\":\"white\",\"ticks\":\"\"}},\"title\":{\"x\":0.05},\"xaxis\":{\"automargin\":true,\"gridcolor\":\"white\",\"linecolor\":\"white\",\"ticks\":\"\",\"title\":{\"standoff\":15},\"zerolinecolor\":\"white\",\"zerolinewidth\":2},\"yaxis\":{\"automargin\":true,\"gridcolor\":\"white\",\"linecolor\":\"white\",\"ticks\":\"\",\"title\":{\"standoff\":15},\"zerolinecolor\":\"white\",\"zerolinewidth\":2}}},\"title\":{\"font\":{\"color\":\"#4D5663\"}},\"xaxis\":{\"gridcolor\":\"#E1E5ED\",\"showgrid\":true,\"tickfont\":{\"color\":\"#4D5663\"},\"title\":{\"font\":{\"color\":\"#4D5663\"},\"text\":\"\"},\"zerolinecolor\":\"#E1E5ED\"},\"yaxis\":{\"domain\":[0.3,1],\"gridcolor\":\"#E1E5ED\",\"showgrid\":true,\"tickfont\":{\"color\":\"#4D5663\"},\"title\":{\"font\":{\"color\":\"#4D5663\"},\"text\":\"\"},\"zerolinecolor\":\"#E1E5ED\"},\"yaxis2\":{\"domain\":[0,0.25],\"gridcolor\":\"#E1E5ED\",\"showgrid\":true,\"tickfont\":{\"color\":\"#4D5663\"},\"title\":{\"font\":{\"color\":\"#4D5663\"},\"text\":\"Spread\"},\"zerolinecolor\":\"#E1E5ED\"},\"xaxis2\":{\"anchor\":\"y2\",\"gridcolor\":\"#E1E5ED\",\"showgrid\":true,\"showticklabels\":false,\"tickfont\":{\"color\":\"#4D5663\"},\"title\":{\"font\":{\"color\":\"#4D5663\"},\"text\":\"\"},\"zerolinecolor\":\"#E1E5ED\"}},                        {\"showLink\": true, \"linkText\": \"Export to plot.ly\", \"plotlyServerURL\": \"https://plot.ly\", \"responsive\": true}                    ).then(function(){\n",
       "                            \n",
       "var gd = document.getElementById('964adddb-733e-4491-bb69-ae6e919ec58b');\n",
       "var x = new MutationObserver(function (mutations, observer) {{\n",
       "        var display = window.getComputedStyle(gd).display;\n",
       "        if (!display || display === 'none') {{\n",
       "            console.log([gd, 'removed!']);\n",
       "            Plotly.purge(gd);\n",
       "            observer.disconnect();\n",
       "        }}\n",
       "}});\n",
       "\n",
       "// Listen for the removal of the full notebook cells\n",
       "var notebookContainer = gd.closest('#notebook-container');\n",
       "if (notebookContainer) {{\n",
       "    x.observe(notebookContainer, {childList: true});\n",
       "}}\n",
       "\n",
       "// Listen for the clearing of the current output cell\n",
       "var outputEl = gd.closest('.output');\n",
       "if (outputEl) {{\n",
       "    x.observe(outputEl, {childList: true});\n",
       "}}\n",
       "\n",
       "                        })                };                });            </script>        </div>"
      ]
     },
     "metadata": {},
     "output_type": "display_data"
    }
   ],
   "source": [
    "df[['A','B']].iplot(kind='spread')"
   ]
  },
  {
   "cell_type": "code",
   "execution_count": 55,
   "id": "c1e6722c",
   "metadata": {},
   "outputs": [],
   "source": [
    "# Bubble plot\n",
    "    # Likes scatter, but will define the size based on another value\n",
    "    # Used in United Nation report"
   ]
  },
  {
   "cell_type": "code",
   "execution_count": 54,
   "id": "c0699275",
   "metadata": {
    "scrolled": true
   },
   "outputs": [
    {
     "data": {
      "application/vnd.plotly.v1+json": {
       "config": {
        "linkText": "Export to plot.ly",
        "plotlyServerURL": "https://plot.ly",
        "showLink": true
       },
       "data": [
        {
         "marker": {
          "color": [
           "rgb(255, 153, 51)",
           "rgb(55, 128, 191)",
           "rgb(50, 171, 96)",
           "rgb(128, 0, 128)",
           "rgb(219, 64, 82)",
           "rgb(0, 128, 128)",
           "rgb(255, 255, 51)",
           "rgb(128, 128, 0)",
           "rgb(251, 128, 114)",
           "rgb(128, 177, 211)"
          ],
          "line": {
           "width": 1.3
          },
          "size": [
           12,
           47,
           47,
           65,
           58,
           91,
           48,
           77,
           65,
           16,
           53,
           75,
           42,
           57,
           77,
           73,
           45,
           50,
           47,
           72,
           75,
           57,
           79,
           82,
           39,
           19,
           59,
           46,
           70,
           60,
           81,
           53,
           83,
           99,
           80,
           47,
           44,
           41,
           92,
           82,
           61,
           92,
           99,
           72,
           44,
           91,
           60,
           65,
           58,
           47,
           75,
           30,
           41,
           75,
           67,
           57,
           37,
           97,
           91,
           102,
           78,
           54,
           65,
           41,
           78,
           19,
           101,
           34,
           71,
           75,
           88,
           59,
           44,
           70,
           72,
           93,
           49,
           61,
           74,
           47,
           79,
           41,
           66,
           49,
           33,
           59,
           42,
           93,
           48,
           54,
           96,
           48,
           57,
           36,
           112,
           71,
           55,
           48,
           94,
           104
          ],
          "symbol": "circle"
         },
         "mode": "markers",
         "text": "",
         "type": "scatter",
         "x": [
          -0.6912741429033772,
          2.6385271622920055,
          -0.7602857136434306,
          -0.17989398726623554,
          1.1314908404810518,
          -0.9236277429682401,
          0.5738678190716883,
          0.9864544801541595,
          0.32279219540734283,
          0.5885178288924707,
          0.5024994967413074,
          0.33207596909749637,
          0.6161296323145041,
          0.09859447753227293,
          -0.8227834082627532,
          0.28464354765094746,
          -0.947342488658302,
          -0.8548769790411005,
          1.0921015040745041,
          -0.6059906110102712,
          0.7134665644043366,
          0.2506753216842416,
          0.5704988886012403,
          -0.9001676759617967,
          1.5577514195590443,
          -0.8935476824587619,
          -1.643208970155166,
          0.9744088602730071,
          -0.29420623561316916,
          -0.5779436336856351,
          -1.3840170311282365,
          2.314676910076252,
          0.6415398505272547,
          -0.8002006468597685,
          0.6922191370110591,
          -1.0337120485296762,
          0.27265670125524993,
          -0.5797583333024258,
          0.5447513266398479,
          1.2410264787389498,
          -0.3170328105037755,
          0.9375460090151588,
          0.2879885443792549,
          -1.6938341411969675,
          -0.07472009167841874,
          0.5060026725044797,
          -0.8504009261137909,
          0.732510438788298,
          2.239796161013942,
          0.7692758256658025,
          -0.327999523823669,
          -0.0522999588114854,
          0.7404336785517659,
          1.006511440200384,
          -1.0954078070436444,
          -0.694419007954893,
          0.9170675514111376,
          0.2410176623597317,
          -1.1417311818412559,
          -2.036168540701319,
          -0.5852200554789933,
          -0.08187573553144036,
          -0.0108941525886899,
          0.5043090936377923,
          -0.009038725156449571,
          0.37521561129710973,
          0.5454233016591511,
          -1.2019374781761154,
          -1.2164146034848031,
          -1.5521771642600135,
          1.5260481075021362,
          0.7511200123355126,
          -1.201730403956396,
          2.2280888976822624,
          -0.15975558174063254,
          -0.21141327351955494,
          0.3060476425825168,
          -0.20791345635292988,
          0.9746962275768414,
          -0.3798940618161446,
          -1.2099430641956597,
          -0.07687618710847464,
          0.04855691969444076,
          1.6219188475758473,
          -2.1694340031988157,
          1.1071533539052,
          1.228055445210511,
          0.9847854355920682,
          -1.7122298669622624,
          -0.23909369014186913,
          0.9571627095229488,
          0.2050568135377792,
          -0.9270560083471667,
          0.974859311003513,
          0.37850037510517365,
          0.47070287060999044,
          0.8239361128145453,
          0.9503701842417043,
          0.3020754261820294,
          0.5335541974559987
         ],
         "y": [
          -0.9399902999168411,
          -1.9423380705231792,
          0.4522164949791178,
          -1.4487787439238513,
          0.6801991481379681,
          -0.9371935088416633,
          -0.017229639492253413,
          -0.258876955937129,
          -1.0817046480966666,
          -0.6355540706675884,
          -0.5095868553778142,
          1.0783223972420422,
          0.1658907389286997,
          0.6321115178431862,
          -0.3158816940165806,
          1.1039231468906006,
          -0.49906935443041817,
          -0.6315137548742901,
          0.4726907486757533,
          0.2785663383433755,
          0.6756828406946835,
          -0.1937357330418802,
          0.5631093809666425,
          0.09076004610545052,
          -0.08080029963722939,
          -0.24121391840168532,
          -0.8838536665321517,
          -0.16955688742526506,
          0.5456960917581483,
          0.3461823440618255,
          0.8838886872681287,
          0.6007935651747616,
          -0.554952740896429,
          0.16087588010661694,
          0.7139512276978098,
          0.7836504954457244,
          -0.7468182950644572,
          -1.2852739351722766,
          -0.7377216443690595,
          0.7879482149641246,
          0.6888763990791642,
          2.0131037127401514,
          -0.9590282314305115,
          -0.08995759073683214,
          0.29072502929996125,
          1.6081002671179545,
          -0.11460765764050192,
          -1.187598726286891,
          0.9591573131300998,
          -1.0752516355918234,
          -0.13931574040481506,
          0.4015932029670253,
          0.15440121837917983,
          -0.38647080941415796,
          -1.3210927141383915,
          0.8642920456342552,
          0.6015658553512785,
          0.14569108608113243,
          0.6947284302526355,
          -0.7024617110754191,
          0.1651577477071164,
          -0.407736164353038,
          2.1840342297316826,
          -0.596291435423442,
          -1.8856920299159774,
          -0.3345990732118949,
          -1.7415128836734322,
          0.6112073340788858,
          1.7548265817244395,
          0.9293380526290771,
          -1.373294835797414,
          0.03127355648398631,
          0.4160208366523142,
          -0.11088801603936746,
          0.9221175098804136,
          -1.1576877119234141,
          -0.39813707295622613,
          -1.0592320235705353,
          0.37986665125962565,
          -0.5570483578397022,
          0.6777186339963158,
          -0.38644735124934115,
          -0.46445620006442506,
          -0.4250050264070511,
          1.0890493493481044,
          -1.4627988247249566,
          -0.470768139390512,
          -0.18899810886234358,
          0.4654101860415952,
          1.6779775844139893,
          -1.876317969649985,
          -0.1702025954803815,
          0.7386275124863215,
          -0.995687819654236,
          0.5688961016409643,
          0.003505412674648637,
          0.7707394956863137,
          0.25837287808466486,
          -1.3123051555731073,
          -0.14547432429903318
         ]
        }
       ],
       "layout": {
        "legend": {
         "bgcolor": "#F5F6F9",
         "font": {
          "color": "#4D5663"
         }
        },
        "paper_bgcolor": "#F5F6F9",
        "plot_bgcolor": "#F5F6F9",
        "template": {
         "data": {
          "bar": [
           {
            "error_x": {
             "color": "#2a3f5f"
            },
            "error_y": {
             "color": "#2a3f5f"
            },
            "marker": {
             "line": {
              "color": "#E5ECF6",
              "width": 0.5
             },
             "pattern": {
              "fillmode": "overlay",
              "size": 10,
              "solidity": 0.2
             }
            },
            "type": "bar"
           }
          ],
          "barpolar": [
           {
            "marker": {
             "line": {
              "color": "#E5ECF6",
              "width": 0.5
             },
             "pattern": {
              "fillmode": "overlay",
              "size": 10,
              "solidity": 0.2
             }
            },
            "type": "barpolar"
           }
          ],
          "carpet": [
           {
            "aaxis": {
             "endlinecolor": "#2a3f5f",
             "gridcolor": "white",
             "linecolor": "white",
             "minorgridcolor": "white",
             "startlinecolor": "#2a3f5f"
            },
            "baxis": {
             "endlinecolor": "#2a3f5f",
             "gridcolor": "white",
             "linecolor": "white",
             "minorgridcolor": "white",
             "startlinecolor": "#2a3f5f"
            },
            "type": "carpet"
           }
          ],
          "choropleth": [
           {
            "colorbar": {
             "outlinewidth": 0,
             "ticks": ""
            },
            "type": "choropleth"
           }
          ],
          "contour": [
           {
            "colorbar": {
             "outlinewidth": 0,
             "ticks": ""
            },
            "colorscale": [
             [
              0,
              "#0d0887"
             ],
             [
              0.1111111111111111,
              "#46039f"
             ],
             [
              0.2222222222222222,
              "#7201a8"
             ],
             [
              0.3333333333333333,
              "#9c179e"
             ],
             [
              0.4444444444444444,
              "#bd3786"
             ],
             [
              0.5555555555555556,
              "#d8576b"
             ],
             [
              0.6666666666666666,
              "#ed7953"
             ],
             [
              0.7777777777777778,
              "#fb9f3a"
             ],
             [
              0.8888888888888888,
              "#fdca26"
             ],
             [
              1,
              "#f0f921"
             ]
            ],
            "type": "contour"
           }
          ],
          "contourcarpet": [
           {
            "colorbar": {
             "outlinewidth": 0,
             "ticks": ""
            },
            "type": "contourcarpet"
           }
          ],
          "heatmap": [
           {
            "colorbar": {
             "outlinewidth": 0,
             "ticks": ""
            },
            "colorscale": [
             [
              0,
              "#0d0887"
             ],
             [
              0.1111111111111111,
              "#46039f"
             ],
             [
              0.2222222222222222,
              "#7201a8"
             ],
             [
              0.3333333333333333,
              "#9c179e"
             ],
             [
              0.4444444444444444,
              "#bd3786"
             ],
             [
              0.5555555555555556,
              "#d8576b"
             ],
             [
              0.6666666666666666,
              "#ed7953"
             ],
             [
              0.7777777777777778,
              "#fb9f3a"
             ],
             [
              0.8888888888888888,
              "#fdca26"
             ],
             [
              1,
              "#f0f921"
             ]
            ],
            "type": "heatmap"
           }
          ],
          "heatmapgl": [
           {
            "colorbar": {
             "outlinewidth": 0,
             "ticks": ""
            },
            "colorscale": [
             [
              0,
              "#0d0887"
             ],
             [
              0.1111111111111111,
              "#46039f"
             ],
             [
              0.2222222222222222,
              "#7201a8"
             ],
             [
              0.3333333333333333,
              "#9c179e"
             ],
             [
              0.4444444444444444,
              "#bd3786"
             ],
             [
              0.5555555555555556,
              "#d8576b"
             ],
             [
              0.6666666666666666,
              "#ed7953"
             ],
             [
              0.7777777777777778,
              "#fb9f3a"
             ],
             [
              0.8888888888888888,
              "#fdca26"
             ],
             [
              1,
              "#f0f921"
             ]
            ],
            "type": "heatmapgl"
           }
          ],
          "histogram": [
           {
            "marker": {
             "pattern": {
              "fillmode": "overlay",
              "size": 10,
              "solidity": 0.2
             }
            },
            "type": "histogram"
           }
          ],
          "histogram2d": [
           {
            "colorbar": {
             "outlinewidth": 0,
             "ticks": ""
            },
            "colorscale": [
             [
              0,
              "#0d0887"
             ],
             [
              0.1111111111111111,
              "#46039f"
             ],
             [
              0.2222222222222222,
              "#7201a8"
             ],
             [
              0.3333333333333333,
              "#9c179e"
             ],
             [
              0.4444444444444444,
              "#bd3786"
             ],
             [
              0.5555555555555556,
              "#d8576b"
             ],
             [
              0.6666666666666666,
              "#ed7953"
             ],
             [
              0.7777777777777778,
              "#fb9f3a"
             ],
             [
              0.8888888888888888,
              "#fdca26"
             ],
             [
              1,
              "#f0f921"
             ]
            ],
            "type": "histogram2d"
           }
          ],
          "histogram2dcontour": [
           {
            "colorbar": {
             "outlinewidth": 0,
             "ticks": ""
            },
            "colorscale": [
             [
              0,
              "#0d0887"
             ],
             [
              0.1111111111111111,
              "#46039f"
             ],
             [
              0.2222222222222222,
              "#7201a8"
             ],
             [
              0.3333333333333333,
              "#9c179e"
             ],
             [
              0.4444444444444444,
              "#bd3786"
             ],
             [
              0.5555555555555556,
              "#d8576b"
             ],
             [
              0.6666666666666666,
              "#ed7953"
             ],
             [
              0.7777777777777778,
              "#fb9f3a"
             ],
             [
              0.8888888888888888,
              "#fdca26"
             ],
             [
              1,
              "#f0f921"
             ]
            ],
            "type": "histogram2dcontour"
           }
          ],
          "mesh3d": [
           {
            "colorbar": {
             "outlinewidth": 0,
             "ticks": ""
            },
            "type": "mesh3d"
           }
          ],
          "parcoords": [
           {
            "line": {
             "colorbar": {
              "outlinewidth": 0,
              "ticks": ""
             }
            },
            "type": "parcoords"
           }
          ],
          "pie": [
           {
            "automargin": true,
            "type": "pie"
           }
          ],
          "scatter": [
           {
            "marker": {
             "colorbar": {
              "outlinewidth": 0,
              "ticks": ""
             }
            },
            "type": "scatter"
           }
          ],
          "scatter3d": [
           {
            "line": {
             "colorbar": {
              "outlinewidth": 0,
              "ticks": ""
             }
            },
            "marker": {
             "colorbar": {
              "outlinewidth": 0,
              "ticks": ""
             }
            },
            "type": "scatter3d"
           }
          ],
          "scattercarpet": [
           {
            "marker": {
             "colorbar": {
              "outlinewidth": 0,
              "ticks": ""
             }
            },
            "type": "scattercarpet"
           }
          ],
          "scattergeo": [
           {
            "marker": {
             "colorbar": {
              "outlinewidth": 0,
              "ticks": ""
             }
            },
            "type": "scattergeo"
           }
          ],
          "scattergl": [
           {
            "marker": {
             "colorbar": {
              "outlinewidth": 0,
              "ticks": ""
             }
            },
            "type": "scattergl"
           }
          ],
          "scattermapbox": [
           {
            "marker": {
             "colorbar": {
              "outlinewidth": 0,
              "ticks": ""
             }
            },
            "type": "scattermapbox"
           }
          ],
          "scatterpolar": [
           {
            "marker": {
             "colorbar": {
              "outlinewidth": 0,
              "ticks": ""
             }
            },
            "type": "scatterpolar"
           }
          ],
          "scatterpolargl": [
           {
            "marker": {
             "colorbar": {
              "outlinewidth": 0,
              "ticks": ""
             }
            },
            "type": "scatterpolargl"
           }
          ],
          "scatterternary": [
           {
            "marker": {
             "colorbar": {
              "outlinewidth": 0,
              "ticks": ""
             }
            },
            "type": "scatterternary"
           }
          ],
          "surface": [
           {
            "colorbar": {
             "outlinewidth": 0,
             "ticks": ""
            },
            "colorscale": [
             [
              0,
              "#0d0887"
             ],
             [
              0.1111111111111111,
              "#46039f"
             ],
             [
              0.2222222222222222,
              "#7201a8"
             ],
             [
              0.3333333333333333,
              "#9c179e"
             ],
             [
              0.4444444444444444,
              "#bd3786"
             ],
             [
              0.5555555555555556,
              "#d8576b"
             ],
             [
              0.6666666666666666,
              "#ed7953"
             ],
             [
              0.7777777777777778,
              "#fb9f3a"
             ],
             [
              0.8888888888888888,
              "#fdca26"
             ],
             [
              1,
              "#f0f921"
             ]
            ],
            "type": "surface"
           }
          ],
          "table": [
           {
            "cells": {
             "fill": {
              "color": "#EBF0F8"
             },
             "line": {
              "color": "white"
             }
            },
            "header": {
             "fill": {
              "color": "#C8D4E3"
             },
             "line": {
              "color": "white"
             }
            },
            "type": "table"
           }
          ]
         },
         "layout": {
          "annotationdefaults": {
           "arrowcolor": "#2a3f5f",
           "arrowhead": 0,
           "arrowwidth": 1
          },
          "autotypenumbers": "strict",
          "coloraxis": {
           "colorbar": {
            "outlinewidth": 0,
            "ticks": ""
           }
          },
          "colorscale": {
           "diverging": [
            [
             0,
             "#8e0152"
            ],
            [
             0.1,
             "#c51b7d"
            ],
            [
             0.2,
             "#de77ae"
            ],
            [
             0.3,
             "#f1b6da"
            ],
            [
             0.4,
             "#fde0ef"
            ],
            [
             0.5,
             "#f7f7f7"
            ],
            [
             0.6,
             "#e6f5d0"
            ],
            [
             0.7,
             "#b8e186"
            ],
            [
             0.8,
             "#7fbc41"
            ],
            [
             0.9,
             "#4d9221"
            ],
            [
             1,
             "#276419"
            ]
           ],
           "sequential": [
            [
             0,
             "#0d0887"
            ],
            [
             0.1111111111111111,
             "#46039f"
            ],
            [
             0.2222222222222222,
             "#7201a8"
            ],
            [
             0.3333333333333333,
             "#9c179e"
            ],
            [
             0.4444444444444444,
             "#bd3786"
            ],
            [
             0.5555555555555556,
             "#d8576b"
            ],
            [
             0.6666666666666666,
             "#ed7953"
            ],
            [
             0.7777777777777778,
             "#fb9f3a"
            ],
            [
             0.8888888888888888,
             "#fdca26"
            ],
            [
             1,
             "#f0f921"
            ]
           ],
           "sequentialminus": [
            [
             0,
             "#0d0887"
            ],
            [
             0.1111111111111111,
             "#46039f"
            ],
            [
             0.2222222222222222,
             "#7201a8"
            ],
            [
             0.3333333333333333,
             "#9c179e"
            ],
            [
             0.4444444444444444,
             "#bd3786"
            ],
            [
             0.5555555555555556,
             "#d8576b"
            ],
            [
             0.6666666666666666,
             "#ed7953"
            ],
            [
             0.7777777777777778,
             "#fb9f3a"
            ],
            [
             0.8888888888888888,
             "#fdca26"
            ],
            [
             1,
             "#f0f921"
            ]
           ]
          },
          "colorway": [
           "#636efa",
           "#EF553B",
           "#00cc96",
           "#ab63fa",
           "#FFA15A",
           "#19d3f3",
           "#FF6692",
           "#B6E880",
           "#FF97FF",
           "#FECB52"
          ],
          "font": {
           "color": "#2a3f5f"
          },
          "geo": {
           "bgcolor": "white",
           "lakecolor": "white",
           "landcolor": "#E5ECF6",
           "showlakes": true,
           "showland": true,
           "subunitcolor": "white"
          },
          "hoverlabel": {
           "align": "left"
          },
          "hovermode": "closest",
          "mapbox": {
           "style": "light"
          },
          "paper_bgcolor": "white",
          "plot_bgcolor": "#E5ECF6",
          "polar": {
           "angularaxis": {
            "gridcolor": "white",
            "linecolor": "white",
            "ticks": ""
           },
           "bgcolor": "#E5ECF6",
           "radialaxis": {
            "gridcolor": "white",
            "linecolor": "white",
            "ticks": ""
           }
          },
          "scene": {
           "xaxis": {
            "backgroundcolor": "#E5ECF6",
            "gridcolor": "white",
            "gridwidth": 2,
            "linecolor": "white",
            "showbackground": true,
            "ticks": "",
            "zerolinecolor": "white"
           },
           "yaxis": {
            "backgroundcolor": "#E5ECF6",
            "gridcolor": "white",
            "gridwidth": 2,
            "linecolor": "white",
            "showbackground": true,
            "ticks": "",
            "zerolinecolor": "white"
           },
           "zaxis": {
            "backgroundcolor": "#E5ECF6",
            "gridcolor": "white",
            "gridwidth": 2,
            "linecolor": "white",
            "showbackground": true,
            "ticks": "",
            "zerolinecolor": "white"
           }
          },
          "shapedefaults": {
           "line": {
            "color": "#2a3f5f"
           }
          },
          "ternary": {
           "aaxis": {
            "gridcolor": "white",
            "linecolor": "white",
            "ticks": ""
           },
           "baxis": {
            "gridcolor": "white",
            "linecolor": "white",
            "ticks": ""
           },
           "bgcolor": "#E5ECF6",
           "caxis": {
            "gridcolor": "white",
            "linecolor": "white",
            "ticks": ""
           }
          },
          "title": {
           "x": 0.05
          },
          "xaxis": {
           "automargin": true,
           "gridcolor": "white",
           "linecolor": "white",
           "ticks": "",
           "title": {
            "standoff": 15
           },
           "zerolinecolor": "white",
           "zerolinewidth": 2
          },
          "yaxis": {
           "automargin": true,
           "gridcolor": "white",
           "linecolor": "white",
           "ticks": "",
           "title": {
            "standoff": 15
           },
           "zerolinecolor": "white",
           "zerolinewidth": 2
          }
         }
        },
        "title": {
         "font": {
          "color": "#4D5663"
         }
        },
        "xaxis": {
         "gridcolor": "#E1E5ED",
         "showgrid": true,
         "tickfont": {
          "color": "#4D5663"
         },
         "title": {
          "font": {
           "color": "#4D5663"
          },
          "text": ""
         },
         "zerolinecolor": "#E1E5ED"
        },
        "yaxis": {
         "gridcolor": "#E1E5ED",
         "showgrid": true,
         "tickfont": {
          "color": "#4D5663"
         },
         "title": {
          "font": {
           "color": "#4D5663"
          },
          "text": ""
         },
         "zerolinecolor": "#E1E5ED"
        }
       }
      },
      "text/html": [
       "<div>                            <div id=\"2c8dcad9-968f-499c-a857-25b62b3da314\" class=\"plotly-graph-div\" style=\"height:525px; width:100%;\"></div>            <script type=\"text/javascript\">                require([\"plotly\"], function(Plotly) {                    window.PLOTLYENV=window.PLOTLYENV || {};\n",
       "                    window.PLOTLYENV.BASE_URL='https://plot.ly';                                    if (document.getElementById(\"2c8dcad9-968f-499c-a857-25b62b3da314\")) {                    Plotly.newPlot(                        \"2c8dcad9-968f-499c-a857-25b62b3da314\",                        [{\"marker\":{\"color\":[\"rgb(255, 153, 51)\",\"rgb(55, 128, 191)\",\"rgb(50, 171, 96)\",\"rgb(128, 0, 128)\",\"rgb(219, 64, 82)\",\"rgb(0, 128, 128)\",\"rgb(255, 255, 51)\",\"rgb(128, 128, 0)\",\"rgb(251, 128, 114)\",\"rgb(128, 177, 211)\"],\"line\":{\"width\":1.3},\"size\":[12,47,47,65,58,91,48,77,65,16,53,75,42,57,77,73,45,50,47,72,75,57,79,82,39,19,59,46,70,60,81,53,83,99,80,47,44,41,92,82,61,92,99,72,44,91,60,65,58,47,75,30,41,75,67,57,37,97,91,102,78,54,65,41,78,19,101,34,71,75,88,59,44,70,72,93,49,61,74,47,79,41,66,49,33,59,42,93,48,54,96,48,57,36,112,71,55,48,94,104],\"symbol\":\"circle\"},\"mode\":\"markers\",\"text\":\"\",\"x\":[-0.6912741429033772,2.6385271622920055,-0.7602857136434306,-0.17989398726623554,1.1314908404810518,-0.9236277429682401,0.5738678190716883,0.9864544801541595,0.32279219540734283,0.5885178288924707,0.5024994967413074,0.33207596909749637,0.6161296323145041,0.09859447753227293,-0.8227834082627532,0.28464354765094746,-0.947342488658302,-0.8548769790411005,1.0921015040745041,-0.6059906110102712,0.7134665644043366,0.2506753216842416,0.5704988886012403,-0.9001676759617967,1.5577514195590443,-0.8935476824587619,-1.643208970155166,0.9744088602730071,-0.29420623561316916,-0.5779436336856351,-1.3840170311282365,2.314676910076252,0.6415398505272547,-0.8002006468597685,0.6922191370110591,-1.0337120485296762,0.27265670125524993,-0.5797583333024258,0.5447513266398479,1.2410264787389498,-0.3170328105037755,0.9375460090151588,0.2879885443792549,-1.6938341411969675,-0.07472009167841874,0.5060026725044797,-0.8504009261137909,0.732510438788298,2.239796161013942,0.7692758256658025,-0.327999523823669,-0.0522999588114854,0.7404336785517659,1.006511440200384,-1.0954078070436444,-0.694419007954893,0.9170675514111376,0.2410176623597317,-1.1417311818412559,-2.036168540701319,-0.5852200554789933,-0.08187573553144036,-0.0108941525886899,0.5043090936377923,-0.009038725156449571,0.37521561129710973,0.5454233016591511,-1.2019374781761154,-1.2164146034848031,-1.5521771642600135,1.5260481075021362,0.7511200123355126,-1.201730403956396,2.2280888976822624,-0.15975558174063254,-0.21141327351955494,0.3060476425825168,-0.20791345635292988,0.9746962275768414,-0.3798940618161446,-1.2099430641956597,-0.07687618710847464,0.04855691969444076,1.6219188475758473,-2.1694340031988157,1.1071533539052,1.228055445210511,0.9847854355920682,-1.7122298669622624,-0.23909369014186913,0.9571627095229488,0.2050568135377792,-0.9270560083471667,0.974859311003513,0.37850037510517365,0.47070287060999044,0.8239361128145453,0.9503701842417043,0.3020754261820294,0.5335541974559987],\"y\":[-0.9399902999168411,-1.9423380705231792,0.4522164949791178,-1.4487787439238513,0.6801991481379681,-0.9371935088416633,-0.017229639492253413,-0.258876955937129,-1.0817046480966666,-0.6355540706675884,-0.5095868553778142,1.0783223972420422,0.1658907389286997,0.6321115178431862,-0.3158816940165806,1.1039231468906006,-0.49906935443041817,-0.6315137548742901,0.4726907486757533,0.2785663383433755,0.6756828406946835,-0.1937357330418802,0.5631093809666425,0.09076004610545052,-0.08080029963722939,-0.24121391840168532,-0.8838536665321517,-0.16955688742526506,0.5456960917581483,0.3461823440618255,0.8838886872681287,0.6007935651747616,-0.554952740896429,0.16087588010661694,0.7139512276978098,0.7836504954457244,-0.7468182950644572,-1.2852739351722766,-0.7377216443690595,0.7879482149641246,0.6888763990791642,2.0131037127401514,-0.9590282314305115,-0.08995759073683214,0.29072502929996125,1.6081002671179545,-0.11460765764050192,-1.187598726286891,0.9591573131300998,-1.0752516355918234,-0.13931574040481506,0.4015932029670253,0.15440121837917983,-0.38647080941415796,-1.3210927141383915,0.8642920456342552,0.6015658553512785,0.14569108608113243,0.6947284302526355,-0.7024617110754191,0.1651577477071164,-0.407736164353038,2.1840342297316826,-0.596291435423442,-1.8856920299159774,-0.3345990732118949,-1.7415128836734322,0.6112073340788858,1.7548265817244395,0.9293380526290771,-1.373294835797414,0.03127355648398631,0.4160208366523142,-0.11088801603936746,0.9221175098804136,-1.1576877119234141,-0.39813707295622613,-1.0592320235705353,0.37986665125962565,-0.5570483578397022,0.6777186339963158,-0.38644735124934115,-0.46445620006442506,-0.4250050264070511,1.0890493493481044,-1.4627988247249566,-0.470768139390512,-0.18899810886234358,0.4654101860415952,1.6779775844139893,-1.876317969649985,-0.1702025954803815,0.7386275124863215,-0.995687819654236,0.5688961016409643,0.003505412674648637,0.7707394956863137,0.25837287808466486,-1.3123051555731073,-0.14547432429903318],\"type\":\"scatter\"}],                        {\"legend\":{\"bgcolor\":\"#F5F6F9\",\"font\":{\"color\":\"#4D5663\"}},\"paper_bgcolor\":\"#F5F6F9\",\"plot_bgcolor\":\"#F5F6F9\",\"template\":{\"data\":{\"barpolar\":[{\"marker\":{\"line\":{\"color\":\"#E5ECF6\",\"width\":0.5},\"pattern\":{\"fillmode\":\"overlay\",\"size\":10,\"solidity\":0.2}},\"type\":\"barpolar\"}],\"bar\":[{\"error_x\":{\"color\":\"#2a3f5f\"},\"error_y\":{\"color\":\"#2a3f5f\"},\"marker\":{\"line\":{\"color\":\"#E5ECF6\",\"width\":0.5},\"pattern\":{\"fillmode\":\"overlay\",\"size\":10,\"solidity\":0.2}},\"type\":\"bar\"}],\"carpet\":[{\"aaxis\":{\"endlinecolor\":\"#2a3f5f\",\"gridcolor\":\"white\",\"linecolor\":\"white\",\"minorgridcolor\":\"white\",\"startlinecolor\":\"#2a3f5f\"},\"baxis\":{\"endlinecolor\":\"#2a3f5f\",\"gridcolor\":\"white\",\"linecolor\":\"white\",\"minorgridcolor\":\"white\",\"startlinecolor\":\"#2a3f5f\"},\"type\":\"carpet\"}],\"choropleth\":[{\"colorbar\":{\"outlinewidth\":0,\"ticks\":\"\"},\"type\":\"choropleth\"}],\"contourcarpet\":[{\"colorbar\":{\"outlinewidth\":0,\"ticks\":\"\"},\"type\":\"contourcarpet\"}],\"contour\":[{\"colorbar\":{\"outlinewidth\":0,\"ticks\":\"\"},\"colorscale\":[[0.0,\"#0d0887\"],[0.1111111111111111,\"#46039f\"],[0.2222222222222222,\"#7201a8\"],[0.3333333333333333,\"#9c179e\"],[0.4444444444444444,\"#bd3786\"],[0.5555555555555556,\"#d8576b\"],[0.6666666666666666,\"#ed7953\"],[0.7777777777777778,\"#fb9f3a\"],[0.8888888888888888,\"#fdca26\"],[1.0,\"#f0f921\"]],\"type\":\"contour\"}],\"heatmapgl\":[{\"colorbar\":{\"outlinewidth\":0,\"ticks\":\"\"},\"colorscale\":[[0.0,\"#0d0887\"],[0.1111111111111111,\"#46039f\"],[0.2222222222222222,\"#7201a8\"],[0.3333333333333333,\"#9c179e\"],[0.4444444444444444,\"#bd3786\"],[0.5555555555555556,\"#d8576b\"],[0.6666666666666666,\"#ed7953\"],[0.7777777777777778,\"#fb9f3a\"],[0.8888888888888888,\"#fdca26\"],[1.0,\"#f0f921\"]],\"type\":\"heatmapgl\"}],\"heatmap\":[{\"colorbar\":{\"outlinewidth\":0,\"ticks\":\"\"},\"colorscale\":[[0.0,\"#0d0887\"],[0.1111111111111111,\"#46039f\"],[0.2222222222222222,\"#7201a8\"],[0.3333333333333333,\"#9c179e\"],[0.4444444444444444,\"#bd3786\"],[0.5555555555555556,\"#d8576b\"],[0.6666666666666666,\"#ed7953\"],[0.7777777777777778,\"#fb9f3a\"],[0.8888888888888888,\"#fdca26\"],[1.0,\"#f0f921\"]],\"type\":\"heatmap\"}],\"histogram2dcontour\":[{\"colorbar\":{\"outlinewidth\":0,\"ticks\":\"\"},\"colorscale\":[[0.0,\"#0d0887\"],[0.1111111111111111,\"#46039f\"],[0.2222222222222222,\"#7201a8\"],[0.3333333333333333,\"#9c179e\"],[0.4444444444444444,\"#bd3786\"],[0.5555555555555556,\"#d8576b\"],[0.6666666666666666,\"#ed7953\"],[0.7777777777777778,\"#fb9f3a\"],[0.8888888888888888,\"#fdca26\"],[1.0,\"#f0f921\"]],\"type\":\"histogram2dcontour\"}],\"histogram2d\":[{\"colorbar\":{\"outlinewidth\":0,\"ticks\":\"\"},\"colorscale\":[[0.0,\"#0d0887\"],[0.1111111111111111,\"#46039f\"],[0.2222222222222222,\"#7201a8\"],[0.3333333333333333,\"#9c179e\"],[0.4444444444444444,\"#bd3786\"],[0.5555555555555556,\"#d8576b\"],[0.6666666666666666,\"#ed7953\"],[0.7777777777777778,\"#fb9f3a\"],[0.8888888888888888,\"#fdca26\"],[1.0,\"#f0f921\"]],\"type\":\"histogram2d\"}],\"histogram\":[{\"marker\":{\"pattern\":{\"fillmode\":\"overlay\",\"size\":10,\"solidity\":0.2}},\"type\":\"histogram\"}],\"mesh3d\":[{\"colorbar\":{\"outlinewidth\":0,\"ticks\":\"\"},\"type\":\"mesh3d\"}],\"parcoords\":[{\"line\":{\"colorbar\":{\"outlinewidth\":0,\"ticks\":\"\"}},\"type\":\"parcoords\"}],\"pie\":[{\"automargin\":true,\"type\":\"pie\"}],\"scatter3d\":[{\"line\":{\"colorbar\":{\"outlinewidth\":0,\"ticks\":\"\"}},\"marker\":{\"colorbar\":{\"outlinewidth\":0,\"ticks\":\"\"}},\"type\":\"scatter3d\"}],\"scattercarpet\":[{\"marker\":{\"colorbar\":{\"outlinewidth\":0,\"ticks\":\"\"}},\"type\":\"scattercarpet\"}],\"scattergeo\":[{\"marker\":{\"colorbar\":{\"outlinewidth\":0,\"ticks\":\"\"}},\"type\":\"scattergeo\"}],\"scattergl\":[{\"marker\":{\"colorbar\":{\"outlinewidth\":0,\"ticks\":\"\"}},\"type\":\"scattergl\"}],\"scattermapbox\":[{\"marker\":{\"colorbar\":{\"outlinewidth\":0,\"ticks\":\"\"}},\"type\":\"scattermapbox\"}],\"scatterpolargl\":[{\"marker\":{\"colorbar\":{\"outlinewidth\":0,\"ticks\":\"\"}},\"type\":\"scatterpolargl\"}],\"scatterpolar\":[{\"marker\":{\"colorbar\":{\"outlinewidth\":0,\"ticks\":\"\"}},\"type\":\"scatterpolar\"}],\"scatter\":[{\"marker\":{\"colorbar\":{\"outlinewidth\":0,\"ticks\":\"\"}},\"type\":\"scatter\"}],\"scatterternary\":[{\"marker\":{\"colorbar\":{\"outlinewidth\":0,\"ticks\":\"\"}},\"type\":\"scatterternary\"}],\"surface\":[{\"colorbar\":{\"outlinewidth\":0,\"ticks\":\"\"},\"colorscale\":[[0.0,\"#0d0887\"],[0.1111111111111111,\"#46039f\"],[0.2222222222222222,\"#7201a8\"],[0.3333333333333333,\"#9c179e\"],[0.4444444444444444,\"#bd3786\"],[0.5555555555555556,\"#d8576b\"],[0.6666666666666666,\"#ed7953\"],[0.7777777777777778,\"#fb9f3a\"],[0.8888888888888888,\"#fdca26\"],[1.0,\"#f0f921\"]],\"type\":\"surface\"}],\"table\":[{\"cells\":{\"fill\":{\"color\":\"#EBF0F8\"},\"line\":{\"color\":\"white\"}},\"header\":{\"fill\":{\"color\":\"#C8D4E3\"},\"line\":{\"color\":\"white\"}},\"type\":\"table\"}]},\"layout\":{\"annotationdefaults\":{\"arrowcolor\":\"#2a3f5f\",\"arrowhead\":0,\"arrowwidth\":1},\"autotypenumbers\":\"strict\",\"coloraxis\":{\"colorbar\":{\"outlinewidth\":0,\"ticks\":\"\"}},\"colorscale\":{\"diverging\":[[0,\"#8e0152\"],[0.1,\"#c51b7d\"],[0.2,\"#de77ae\"],[0.3,\"#f1b6da\"],[0.4,\"#fde0ef\"],[0.5,\"#f7f7f7\"],[0.6,\"#e6f5d0\"],[0.7,\"#b8e186\"],[0.8,\"#7fbc41\"],[0.9,\"#4d9221\"],[1,\"#276419\"]],\"sequential\":[[0.0,\"#0d0887\"],[0.1111111111111111,\"#46039f\"],[0.2222222222222222,\"#7201a8\"],[0.3333333333333333,\"#9c179e\"],[0.4444444444444444,\"#bd3786\"],[0.5555555555555556,\"#d8576b\"],[0.6666666666666666,\"#ed7953\"],[0.7777777777777778,\"#fb9f3a\"],[0.8888888888888888,\"#fdca26\"],[1.0,\"#f0f921\"]],\"sequentialminus\":[[0.0,\"#0d0887\"],[0.1111111111111111,\"#46039f\"],[0.2222222222222222,\"#7201a8\"],[0.3333333333333333,\"#9c179e\"],[0.4444444444444444,\"#bd3786\"],[0.5555555555555556,\"#d8576b\"],[0.6666666666666666,\"#ed7953\"],[0.7777777777777778,\"#fb9f3a\"],[0.8888888888888888,\"#fdca26\"],[1.0,\"#f0f921\"]]},\"colorway\":[\"#636efa\",\"#EF553B\",\"#00cc96\",\"#ab63fa\",\"#FFA15A\",\"#19d3f3\",\"#FF6692\",\"#B6E880\",\"#FF97FF\",\"#FECB52\"],\"font\":{\"color\":\"#2a3f5f\"},\"geo\":{\"bgcolor\":\"white\",\"lakecolor\":\"white\",\"landcolor\":\"#E5ECF6\",\"showlakes\":true,\"showland\":true,\"subunitcolor\":\"white\"},\"hoverlabel\":{\"align\":\"left\"},\"hovermode\":\"closest\",\"mapbox\":{\"style\":\"light\"},\"paper_bgcolor\":\"white\",\"plot_bgcolor\":\"#E5ECF6\",\"polar\":{\"angularaxis\":{\"gridcolor\":\"white\",\"linecolor\":\"white\",\"ticks\":\"\"},\"bgcolor\":\"#E5ECF6\",\"radialaxis\":{\"gridcolor\":\"white\",\"linecolor\":\"white\",\"ticks\":\"\"}},\"scene\":{\"xaxis\":{\"backgroundcolor\":\"#E5ECF6\",\"gridcolor\":\"white\",\"gridwidth\":2,\"linecolor\":\"white\",\"showbackground\":true,\"ticks\":\"\",\"zerolinecolor\":\"white\"},\"yaxis\":{\"backgroundcolor\":\"#E5ECF6\",\"gridcolor\":\"white\",\"gridwidth\":2,\"linecolor\":\"white\",\"showbackground\":true,\"ticks\":\"\",\"zerolinecolor\":\"white\"},\"zaxis\":{\"backgroundcolor\":\"#E5ECF6\",\"gridcolor\":\"white\",\"gridwidth\":2,\"linecolor\":\"white\",\"showbackground\":true,\"ticks\":\"\",\"zerolinecolor\":\"white\"}},\"shapedefaults\":{\"line\":{\"color\":\"#2a3f5f\"}},\"ternary\":{\"aaxis\":{\"gridcolor\":\"white\",\"linecolor\":\"white\",\"ticks\":\"\"},\"baxis\":{\"gridcolor\":\"white\",\"linecolor\":\"white\",\"ticks\":\"\"},\"bgcolor\":\"#E5ECF6\",\"caxis\":{\"gridcolor\":\"white\",\"linecolor\":\"white\",\"ticks\":\"\"}},\"title\":{\"x\":0.05},\"xaxis\":{\"automargin\":true,\"gridcolor\":\"white\",\"linecolor\":\"white\",\"ticks\":\"\",\"title\":{\"standoff\":15},\"zerolinecolor\":\"white\",\"zerolinewidth\":2},\"yaxis\":{\"automargin\":true,\"gridcolor\":\"white\",\"linecolor\":\"white\",\"ticks\":\"\",\"title\":{\"standoff\":15},\"zerolinecolor\":\"white\",\"zerolinewidth\":2}}},\"title\":{\"font\":{\"color\":\"#4D5663\"}},\"xaxis\":{\"gridcolor\":\"#E1E5ED\",\"showgrid\":true,\"tickfont\":{\"color\":\"#4D5663\"},\"title\":{\"font\":{\"color\":\"#4D5663\"},\"text\":\"\"},\"zerolinecolor\":\"#E1E5ED\"},\"yaxis\":{\"gridcolor\":\"#E1E5ED\",\"showgrid\":true,\"tickfont\":{\"color\":\"#4D5663\"},\"title\":{\"font\":{\"color\":\"#4D5663\"},\"text\":\"\"},\"zerolinecolor\":\"#E1E5ED\"}},                        {\"showLink\": true, \"linkText\": \"Export to plot.ly\", \"plotlyServerURL\": \"https://plot.ly\", \"responsive\": true}                    ).then(function(){\n",
       "                            \n",
       "var gd = document.getElementById('2c8dcad9-968f-499c-a857-25b62b3da314');\n",
       "var x = new MutationObserver(function (mutations, observer) {{\n",
       "        var display = window.getComputedStyle(gd).display;\n",
       "        if (!display || display === 'none') {{\n",
       "            console.log([gd, 'removed!']);\n",
       "            Plotly.purge(gd);\n",
       "            observer.disconnect();\n",
       "        }}\n",
       "}});\n",
       "\n",
       "// Listen for the removal of the full notebook cells\n",
       "var notebookContainer = gd.closest('#notebook-container');\n",
       "if (notebookContainer) {{\n",
       "    x.observe(notebookContainer, {childList: true});\n",
       "}}\n",
       "\n",
       "// Listen for the clearing of the current output cell\n",
       "var outputEl = gd.closest('.output');\n",
       "if (outputEl) {{\n",
       "    x.observe(outputEl, {childList: true});\n",
       "}}\n",
       "\n",
       "                        })                };                });            </script>        </div>"
      ]
     },
     "metadata": {},
     "output_type": "display_data"
    }
   ],
   "source": [
    "df.iplot(kind='bubble',x='A',y='B',size='C')"
   ]
  },
  {
   "cell_type": "code",
   "execution_count": 58,
   "id": "e619e35e",
   "metadata": {},
   "outputs": [],
   "source": [
    "# Scatter matrix\n",
    "    # like pair plot\n",
    "    # all your data should be numerical"
   ]
  },
  {
   "cell_type": "code",
   "execution_count": 57,
   "id": "6b4badf7",
   "metadata": {},
   "outputs": [
    {
     "data": {
      "application/vnd.plotly.v1+json": {
       "config": {
        "linkText": "Export to plot.ly",
        "plotlyServerURL": "https://plot.ly",
        "showLink": true
       },
       "data": [
        {
         "histfunc": "count",
         "histnorm": "",
         "marker": {
          "color": "rgba(255, 153, 51, 1.0)",
          "line": {
           "color": "#4D5663",
           "width": 1.3
          }
         },
         "name": "A",
         "nbinsx": 10,
         "opacity": 0.8,
         "orientation": "v",
         "type": "histogram",
         "x": [
          -0.6912741429033772,
          2.6385271622920055,
          -0.7602857136434306,
          -0.17989398726623554,
          1.1314908404810518,
          -0.9236277429682401,
          0.5738678190716883,
          0.9864544801541595,
          0.32279219540734283,
          0.5885178288924707,
          0.5024994967413074,
          0.33207596909749637,
          0.6161296323145041,
          0.09859447753227293,
          -0.8227834082627532,
          0.28464354765094746,
          -0.947342488658302,
          -0.8548769790411005,
          1.0921015040745041,
          -0.6059906110102712,
          0.7134665644043366,
          0.2506753216842416,
          0.5704988886012403,
          -0.9001676759617967,
          1.5577514195590443,
          -0.8935476824587619,
          -1.643208970155166,
          0.9744088602730071,
          -0.29420623561316916,
          -0.5779436336856351,
          -1.3840170311282365,
          2.314676910076252,
          0.6415398505272547,
          -0.8002006468597685,
          0.6922191370110591,
          -1.0337120485296762,
          0.27265670125524993,
          -0.5797583333024258,
          0.5447513266398479,
          1.2410264787389498,
          -0.3170328105037755,
          0.9375460090151588,
          0.2879885443792549,
          -1.6938341411969675,
          -0.07472009167841874,
          0.5060026725044797,
          -0.8504009261137909,
          0.732510438788298,
          2.239796161013942,
          0.7692758256658025,
          -0.327999523823669,
          -0.0522999588114854,
          0.7404336785517659,
          1.006511440200384,
          -1.0954078070436444,
          -0.694419007954893,
          0.9170675514111376,
          0.2410176623597317,
          -1.1417311818412559,
          -2.036168540701319,
          -0.5852200554789933,
          -0.08187573553144036,
          -0.0108941525886899,
          0.5043090936377923,
          -0.009038725156449571,
          0.37521561129710973,
          0.5454233016591511,
          -1.2019374781761154,
          -1.2164146034848031,
          -1.5521771642600135,
          1.5260481075021362,
          0.7511200123355126,
          -1.201730403956396,
          2.2280888976822624,
          -0.15975558174063254,
          -0.21141327351955494,
          0.3060476425825168,
          -0.20791345635292988,
          0.9746962275768414,
          -0.3798940618161446,
          -1.2099430641956597,
          -0.07687618710847464,
          0.04855691969444076,
          1.6219188475758473,
          -2.1694340031988157,
          1.1071533539052,
          1.228055445210511,
          0.9847854355920682,
          -1.7122298669622624,
          -0.23909369014186913,
          0.9571627095229488,
          0.2050568135377792,
          -0.9270560083471667,
          0.974859311003513,
          0.37850037510517365,
          0.47070287060999044,
          0.8239361128145453,
          0.9503701842417043,
          0.3020754261820294,
          0.5335541974559987
         ],
         "xaxis": "x",
         "yaxis": "y"
        },
        {
         "line": {
          "color": "rgba(128, 128, 128, 1.0)",
          "dash": "solid",
          "shape": "linear",
          "width": 1.3
         },
         "marker": {
          "size": 2,
          "symbol": "circle"
         },
         "mode": "markers",
         "name": "A",
         "text": "",
         "type": "scatter",
         "x": [
          -0.9399902999168411,
          -1.9423380705231792,
          0.4522164949791178,
          -1.4487787439238513,
          0.6801991481379681,
          -0.9371935088416633,
          -0.017229639492253413,
          -0.258876955937129,
          -1.0817046480966666,
          -0.6355540706675884,
          -0.5095868553778142,
          1.0783223972420422,
          0.1658907389286997,
          0.6321115178431862,
          -0.3158816940165806,
          1.1039231468906006,
          -0.49906935443041817,
          -0.6315137548742901,
          0.4726907486757533,
          0.2785663383433755,
          0.6756828406946835,
          -0.1937357330418802,
          0.5631093809666425,
          0.09076004610545052,
          -0.08080029963722939,
          -0.24121391840168532,
          -0.8838536665321517,
          -0.16955688742526506,
          0.5456960917581483,
          0.3461823440618255,
          0.8838886872681287,
          0.6007935651747616,
          -0.554952740896429,
          0.16087588010661694,
          0.7139512276978098,
          0.7836504954457244,
          -0.7468182950644572,
          -1.2852739351722766,
          -0.7377216443690595,
          0.7879482149641246,
          0.6888763990791642,
          2.0131037127401514,
          -0.9590282314305115,
          -0.08995759073683214,
          0.29072502929996125,
          1.6081002671179545,
          -0.11460765764050192,
          -1.187598726286891,
          0.9591573131300998,
          -1.0752516355918234,
          -0.13931574040481506,
          0.4015932029670253,
          0.15440121837917983,
          -0.38647080941415796,
          -1.3210927141383915,
          0.8642920456342552,
          0.6015658553512785,
          0.14569108608113243,
          0.6947284302526355,
          -0.7024617110754191,
          0.1651577477071164,
          -0.407736164353038,
          2.1840342297316826,
          -0.596291435423442,
          -1.8856920299159774,
          -0.3345990732118949,
          -1.7415128836734322,
          0.6112073340788858,
          1.7548265817244395,
          0.9293380526290771,
          -1.373294835797414,
          0.03127355648398631,
          0.4160208366523142,
          -0.11088801603936746,
          0.9221175098804136,
          -1.1576877119234141,
          -0.39813707295622613,
          -1.0592320235705353,
          0.37986665125962565,
          -0.5570483578397022,
          0.6777186339963158,
          -0.38644735124934115,
          -0.46445620006442506,
          -0.4250050264070511,
          1.0890493493481044,
          -1.4627988247249566,
          -0.470768139390512,
          -0.18899810886234358,
          0.4654101860415952,
          1.6779775844139893,
          -1.876317969649985,
          -0.1702025954803815,
          0.7386275124863215,
          -0.995687819654236,
          0.5688961016409643,
          0.003505412674648637,
          0.7707394956863137,
          0.25837287808466486,
          -1.3123051555731073,
          -0.14547432429903318
         ],
         "xaxis": "x2",
         "y": [
          -0.6912741429033772,
          2.6385271622920055,
          -0.7602857136434306,
          -0.17989398726623554,
          1.1314908404810518,
          -0.9236277429682401,
          0.5738678190716883,
          0.9864544801541595,
          0.32279219540734283,
          0.5885178288924707,
          0.5024994967413074,
          0.33207596909749637,
          0.6161296323145041,
          0.09859447753227293,
          -0.8227834082627532,
          0.28464354765094746,
          -0.947342488658302,
          -0.8548769790411005,
          1.0921015040745041,
          -0.6059906110102712,
          0.7134665644043366,
          0.2506753216842416,
          0.5704988886012403,
          -0.9001676759617967,
          1.5577514195590443,
          -0.8935476824587619,
          -1.643208970155166,
          0.9744088602730071,
          -0.29420623561316916,
          -0.5779436336856351,
          -1.3840170311282365,
          2.314676910076252,
          0.6415398505272547,
          -0.8002006468597685,
          0.6922191370110591,
          -1.0337120485296762,
          0.27265670125524993,
          -0.5797583333024258,
          0.5447513266398479,
          1.2410264787389498,
          -0.3170328105037755,
          0.9375460090151588,
          0.2879885443792549,
          -1.6938341411969675,
          -0.07472009167841874,
          0.5060026725044797,
          -0.8504009261137909,
          0.732510438788298,
          2.239796161013942,
          0.7692758256658025,
          -0.327999523823669,
          -0.0522999588114854,
          0.7404336785517659,
          1.006511440200384,
          -1.0954078070436444,
          -0.694419007954893,
          0.9170675514111376,
          0.2410176623597317,
          -1.1417311818412559,
          -2.036168540701319,
          -0.5852200554789933,
          -0.08187573553144036,
          -0.0108941525886899,
          0.5043090936377923,
          -0.009038725156449571,
          0.37521561129710973,
          0.5454233016591511,
          -1.2019374781761154,
          -1.2164146034848031,
          -1.5521771642600135,
          1.5260481075021362,
          0.7511200123355126,
          -1.201730403956396,
          2.2280888976822624,
          -0.15975558174063254,
          -0.21141327351955494,
          0.3060476425825168,
          -0.20791345635292988,
          0.9746962275768414,
          -0.3798940618161446,
          -1.2099430641956597,
          -0.07687618710847464,
          0.04855691969444076,
          1.6219188475758473,
          -2.1694340031988157,
          1.1071533539052,
          1.228055445210511,
          0.9847854355920682,
          -1.7122298669622624,
          -0.23909369014186913,
          0.9571627095229488,
          0.2050568135377792,
          -0.9270560083471667,
          0.974859311003513,
          0.37850037510517365,
          0.47070287060999044,
          0.8239361128145453,
          0.9503701842417043,
          0.3020754261820294,
          0.5335541974559987
         ],
         "yaxis": "y2"
        },
        {
         "line": {
          "color": "rgba(128, 128, 128, 1.0)",
          "dash": "solid",
          "shape": "linear",
          "width": 1.3
         },
         "marker": {
          "size": 2,
          "symbol": "circle"
         },
         "mode": "markers",
         "name": "A",
         "text": "",
         "type": "scatter",
         "x": [
          -2.1868432802102773,
          -0.7250140419511258,
          -0.6913827612230679,
          0.04814664355985677,
          -0.2688168197666106,
          1.10971313648696,
          -0.6771329496928161,
          0.5260619113595164,
          0.049226185832037424,
          -2.012896157534608,
          -0.4782778769781722,
          0.46681896255807576,
          -0.9366436684435993,
          -0.3025726125323398,
          0.5366046480995682,
          0.3931718093006377,
          -0.7826703785528093,
          -0.5788198960628711,
          -0.6961068548743381,
          0.34041440049893834,
          0.4496610494223251,
          -0.28633727827967465,
          0.6037630528460217,
          0.7509338310040284,
          -1.0536232970283654,
          -1.8834070004092935,
          -0.218141841949026,
          -0.7634726767533443,
          0.268267950607665,
          -0.16541212991899704,
          0.712560943060834,
          -0.4631683253190213,
          0.8072864768418512,
          1.4538043579554563,
          0.6850129423545135,
          -0.6910418773802264,
          -0.8183486993360881,
          -0.963464304316495,
          1.1680409288637745,
          0.7485948742648829,
          -0.11773529201589432,
          1.170204622585392,
          1.4616737848284929,
          0.3167398941877916,
          -0.8343529561308559,
          1.1259989075148988,
          -0.15813832552433288,
          0.045890037768292445,
          -0.2453926220559531,
          -0.7035163255716897,
          0.4602750456413887,
          -1.4193356314795913,
          -0.9760304750681537,
          0.4379325718081307,
          0.12757322745774302,
          -0.28421704417432614,
          -1.1129398620348998,
          1.382523056665255,
          1.1325058761994478,
          1.589567467021451,
          0.5940511289021116,
          -0.4346313423659601,
          0.04003555131307455,
          -0.9659407770041554,
          0.6003559194676078,
          -1.8591787074276616,
          1.5529637948017165,
          -1.2523095244656894,
          0.3051767327838226,
          0.47121194936878663,
          0.9891933978078691,
          -0.20379515668636156,
          -0.8456925702915231,
          0.26574691398209277,
          0.3348203663967337,
          1.2132380685344786,
          -0.6156955586822158,
          -0.14443220317021072,
          0.40282161097393204,
          -0.6924508573035683,
          0.6328059445510126,
          -0.9584109636433588,
          0.06982925441407545,
          -0.6406368622400371,
          -1.2760905752272835,
          -0.18908764420038793,
          -0.908965845745114,
          1.218311234850609,
          -0.6749659299871115,
          -0.4051594201816622,
          1.313294626095533,
          -0.6838154253972283,
          -0.2865694769651911,
          -1.1757599785360122,
          1.9763003663416487,
          0.27643637305796076,
          -0.3744060218984946,
          -0.6709474868077607,
          1.2477324330421622,
          1.6530515466661837
         ],
         "xaxis": "x3",
         "y": [
          -0.6912741429033772,
          2.6385271622920055,
          -0.7602857136434306,
          -0.17989398726623554,
          1.1314908404810518,
          -0.9236277429682401,
          0.5738678190716883,
          0.9864544801541595,
          0.32279219540734283,
          0.5885178288924707,
          0.5024994967413074,
          0.33207596909749637,
          0.6161296323145041,
          0.09859447753227293,
          -0.8227834082627532,
          0.28464354765094746,
          -0.947342488658302,
          -0.8548769790411005,
          1.0921015040745041,
          -0.6059906110102712,
          0.7134665644043366,
          0.2506753216842416,
          0.5704988886012403,
          -0.9001676759617967,
          1.5577514195590443,
          -0.8935476824587619,
          -1.643208970155166,
          0.9744088602730071,
          -0.29420623561316916,
          -0.5779436336856351,
          -1.3840170311282365,
          2.314676910076252,
          0.6415398505272547,
          -0.8002006468597685,
          0.6922191370110591,
          -1.0337120485296762,
          0.27265670125524993,
          -0.5797583333024258,
          0.5447513266398479,
          1.2410264787389498,
          -0.3170328105037755,
          0.9375460090151588,
          0.2879885443792549,
          -1.6938341411969675,
          -0.07472009167841874,
          0.5060026725044797,
          -0.8504009261137909,
          0.732510438788298,
          2.239796161013942,
          0.7692758256658025,
          -0.327999523823669,
          -0.0522999588114854,
          0.7404336785517659,
          1.006511440200384,
          -1.0954078070436444,
          -0.694419007954893,
          0.9170675514111376,
          0.2410176623597317,
          -1.1417311818412559,
          -2.036168540701319,
          -0.5852200554789933,
          -0.08187573553144036,
          -0.0108941525886899,
          0.5043090936377923,
          -0.009038725156449571,
          0.37521561129710973,
          0.5454233016591511,
          -1.2019374781761154,
          -1.2164146034848031,
          -1.5521771642600135,
          1.5260481075021362,
          0.7511200123355126,
          -1.201730403956396,
          2.2280888976822624,
          -0.15975558174063254,
          -0.21141327351955494,
          0.3060476425825168,
          -0.20791345635292988,
          0.9746962275768414,
          -0.3798940618161446,
          -1.2099430641956597,
          -0.07687618710847464,
          0.04855691969444076,
          1.6219188475758473,
          -2.1694340031988157,
          1.1071533539052,
          1.228055445210511,
          0.9847854355920682,
          -1.7122298669622624,
          -0.23909369014186913,
          0.9571627095229488,
          0.2050568135377792,
          -0.9270560083471667,
          0.974859311003513,
          0.37850037510517365,
          0.47070287060999044,
          0.8239361128145453,
          0.9503701842417043,
          0.3020754261820294,
          0.5335541974559987
         ],
         "yaxis": "y3"
        },
        {
         "line": {
          "color": "rgba(128, 128, 128, 1.0)",
          "dash": "solid",
          "shape": "linear",
          "width": 1.3
         },
         "marker": {
          "size": 2,
          "symbol": "circle"
         },
         "mode": "markers",
         "name": "A",
         "text": "",
         "type": "scatter",
         "x": [
          0.2329180877485759,
          -0.779851055810576,
          -0.15682562020637367,
          -0.44798565785938754,
          -0.31328610636393045,
          1.009703250616094,
          1.690511529886859,
          -1.7727767351074708,
          -1.2898117645716012,
          -1.0598811055611714,
          -0.05995840406671184,
          0.35950289397366847,
          -0.6024925133706687,
          0.5616325192625717,
          -0.4077991936455839,
          -1.661665789770493,
          -0.19894131083362393,
          1.4848139496354045,
          -0.2187519979030449,
          0.014575982368184399,
          -0.670177309744851,
          -0.659774451183918,
          -0.19852388012201994,
          -0.33428900219866814,
          -0.5081847640018546,
          0.6727879848051744,
          -1.5095554860200469,
          -0.3195538761166854,
          -0.8382512667911439,
          0.12633735965166668,
          -0.37448278208313635,
          0.4313852701787521,
          -0.3576282497301914,
          -0.36714254820237824,
          1.2092150655441531,
          -0.3738733597435478,
          1.3908218125778182,
          0.9259595285339431,
          -1.2151942463833356,
          -1.7729149464046192,
          1.5236948417942808,
          0.9167358395734678,
          0.3789304814449219,
          -0.5762996507640142,
          0.7493142071893915,
          -0.9914982111223593,
          -0.8242908979667105,
          0.04244424498827081,
          0.3391159515427539,
          -1.8228026546752387,
          -1.0332861520597718,
          -0.214662965158623,
          0.3475373836788013,
          -0.0684429471666999,
          -1.068272700683441,
          0.10236365335036744,
          1.8088991737076445,
          0.18448770702484002,
          -0.006090338869984403,
          -0.6211910374135585,
          -0.5201526328367619,
          1.1555782431562285,
          -0.8961811434389672,
          -0.5937579695866875,
          -0.7710679156827561,
          -0.6786812472645407,
          -0.7466583486414361,
          0.04771858679514946,
          -0.7601310788064842,
          0.8281712042496281,
          -0.3042202438088885,
          1.0755294024994413,
          2.0596066996717686,
          0.9540488210633757,
          -0.5634964312547651,
          0.14932718269408285,
          2.120865529677368,
          1.5484005448822202,
          -0.8948512068816719,
          -0.5535728791239111,
          1.1659721530863791,
          -0.338269477198465,
          0.6662636529382033,
          -0.8386785671465247,
          -0.45016050483340514,
          1.9719608116281135,
          -1.125112777802077,
          -0.4565031806440209,
          -0.6082343672469854,
          0.523275011356581,
          -0.9590547408867666,
          1.073701314819291,
          -0.49048978185103653,
          0.8348546381818701,
          -0.002962248241787498,
          1.0307814201352343,
          0.20780899895915692,
          -0.4915456045196982,
          0.5783269322123842,
          2.295383481278133
         ],
         "xaxis": "x4",
         "y": [
          -0.6912741429033772,
          2.6385271622920055,
          -0.7602857136434306,
          -0.17989398726623554,
          1.1314908404810518,
          -0.9236277429682401,
          0.5738678190716883,
          0.9864544801541595,
          0.32279219540734283,
          0.5885178288924707,
          0.5024994967413074,
          0.33207596909749637,
          0.6161296323145041,
          0.09859447753227293,
          -0.8227834082627532,
          0.28464354765094746,
          -0.947342488658302,
          -0.8548769790411005,
          1.0921015040745041,
          -0.6059906110102712,
          0.7134665644043366,
          0.2506753216842416,
          0.5704988886012403,
          -0.9001676759617967,
          1.5577514195590443,
          -0.8935476824587619,
          -1.643208970155166,
          0.9744088602730071,
          -0.29420623561316916,
          -0.5779436336856351,
          -1.3840170311282365,
          2.314676910076252,
          0.6415398505272547,
          -0.8002006468597685,
          0.6922191370110591,
          -1.0337120485296762,
          0.27265670125524993,
          -0.5797583333024258,
          0.5447513266398479,
          1.2410264787389498,
          -0.3170328105037755,
          0.9375460090151588,
          0.2879885443792549,
          -1.6938341411969675,
          -0.07472009167841874,
          0.5060026725044797,
          -0.8504009261137909,
          0.732510438788298,
          2.239796161013942,
          0.7692758256658025,
          -0.327999523823669,
          -0.0522999588114854,
          0.7404336785517659,
          1.006511440200384,
          -1.0954078070436444,
          -0.694419007954893,
          0.9170675514111376,
          0.2410176623597317,
          -1.1417311818412559,
          -2.036168540701319,
          -0.5852200554789933,
          -0.08187573553144036,
          -0.0108941525886899,
          0.5043090936377923,
          -0.009038725156449571,
          0.37521561129710973,
          0.5454233016591511,
          -1.2019374781761154,
          -1.2164146034848031,
          -1.5521771642600135,
          1.5260481075021362,
          0.7511200123355126,
          -1.201730403956396,
          2.2280888976822624,
          -0.15975558174063254,
          -0.21141327351955494,
          0.3060476425825168,
          -0.20791345635292988,
          0.9746962275768414,
          -0.3798940618161446,
          -1.2099430641956597,
          -0.07687618710847464,
          0.04855691969444076,
          1.6219188475758473,
          -2.1694340031988157,
          1.1071533539052,
          1.228055445210511,
          0.9847854355920682,
          -1.7122298669622624,
          -0.23909369014186913,
          0.9571627095229488,
          0.2050568135377792,
          -0.9270560083471667,
          0.974859311003513,
          0.37850037510517365,
          0.47070287060999044,
          0.8239361128145453,
          0.9503701842417043,
          0.3020754261820294,
          0.5335541974559987
         ],
         "yaxis": "y4"
        },
        {
         "line": {
          "color": "rgba(128, 128, 128, 1.0)",
          "dash": "solid",
          "shape": "linear",
          "width": 1.3
         },
         "marker": {
          "size": 2,
          "symbol": "circle"
         },
         "mode": "markers",
         "name": "B",
         "text": "",
         "type": "scatter",
         "x": [
          -0.6912741429033772,
          2.6385271622920055,
          -0.7602857136434306,
          -0.17989398726623554,
          1.1314908404810518,
          -0.9236277429682401,
          0.5738678190716883,
          0.9864544801541595,
          0.32279219540734283,
          0.5885178288924707,
          0.5024994967413074,
          0.33207596909749637,
          0.6161296323145041,
          0.09859447753227293,
          -0.8227834082627532,
          0.28464354765094746,
          -0.947342488658302,
          -0.8548769790411005,
          1.0921015040745041,
          -0.6059906110102712,
          0.7134665644043366,
          0.2506753216842416,
          0.5704988886012403,
          -0.9001676759617967,
          1.5577514195590443,
          -0.8935476824587619,
          -1.643208970155166,
          0.9744088602730071,
          -0.29420623561316916,
          -0.5779436336856351,
          -1.3840170311282365,
          2.314676910076252,
          0.6415398505272547,
          -0.8002006468597685,
          0.6922191370110591,
          -1.0337120485296762,
          0.27265670125524993,
          -0.5797583333024258,
          0.5447513266398479,
          1.2410264787389498,
          -0.3170328105037755,
          0.9375460090151588,
          0.2879885443792549,
          -1.6938341411969675,
          -0.07472009167841874,
          0.5060026725044797,
          -0.8504009261137909,
          0.732510438788298,
          2.239796161013942,
          0.7692758256658025,
          -0.327999523823669,
          -0.0522999588114854,
          0.7404336785517659,
          1.006511440200384,
          -1.0954078070436444,
          -0.694419007954893,
          0.9170675514111376,
          0.2410176623597317,
          -1.1417311818412559,
          -2.036168540701319,
          -0.5852200554789933,
          -0.08187573553144036,
          -0.0108941525886899,
          0.5043090936377923,
          -0.009038725156449571,
          0.37521561129710973,
          0.5454233016591511,
          -1.2019374781761154,
          -1.2164146034848031,
          -1.5521771642600135,
          1.5260481075021362,
          0.7511200123355126,
          -1.201730403956396,
          2.2280888976822624,
          -0.15975558174063254,
          -0.21141327351955494,
          0.3060476425825168,
          -0.20791345635292988,
          0.9746962275768414,
          -0.3798940618161446,
          -1.2099430641956597,
          -0.07687618710847464,
          0.04855691969444076,
          1.6219188475758473,
          -2.1694340031988157,
          1.1071533539052,
          1.228055445210511,
          0.9847854355920682,
          -1.7122298669622624,
          -0.23909369014186913,
          0.9571627095229488,
          0.2050568135377792,
          -0.9270560083471667,
          0.974859311003513,
          0.37850037510517365,
          0.47070287060999044,
          0.8239361128145453,
          0.9503701842417043,
          0.3020754261820294,
          0.5335541974559987
         ],
         "xaxis": "x5",
         "y": [
          -0.9399902999168411,
          -1.9423380705231792,
          0.4522164949791178,
          -1.4487787439238513,
          0.6801991481379681,
          -0.9371935088416633,
          -0.017229639492253413,
          -0.258876955937129,
          -1.0817046480966666,
          -0.6355540706675884,
          -0.5095868553778142,
          1.0783223972420422,
          0.1658907389286997,
          0.6321115178431862,
          -0.3158816940165806,
          1.1039231468906006,
          -0.49906935443041817,
          -0.6315137548742901,
          0.4726907486757533,
          0.2785663383433755,
          0.6756828406946835,
          -0.1937357330418802,
          0.5631093809666425,
          0.09076004610545052,
          -0.08080029963722939,
          -0.24121391840168532,
          -0.8838536665321517,
          -0.16955688742526506,
          0.5456960917581483,
          0.3461823440618255,
          0.8838886872681287,
          0.6007935651747616,
          -0.554952740896429,
          0.16087588010661694,
          0.7139512276978098,
          0.7836504954457244,
          -0.7468182950644572,
          -1.2852739351722766,
          -0.7377216443690595,
          0.7879482149641246,
          0.6888763990791642,
          2.0131037127401514,
          -0.9590282314305115,
          -0.08995759073683214,
          0.29072502929996125,
          1.6081002671179545,
          -0.11460765764050192,
          -1.187598726286891,
          0.9591573131300998,
          -1.0752516355918234,
          -0.13931574040481506,
          0.4015932029670253,
          0.15440121837917983,
          -0.38647080941415796,
          -1.3210927141383915,
          0.8642920456342552,
          0.6015658553512785,
          0.14569108608113243,
          0.6947284302526355,
          -0.7024617110754191,
          0.1651577477071164,
          -0.407736164353038,
          2.1840342297316826,
          -0.596291435423442,
          -1.8856920299159774,
          -0.3345990732118949,
          -1.7415128836734322,
          0.6112073340788858,
          1.7548265817244395,
          0.9293380526290771,
          -1.373294835797414,
          0.03127355648398631,
          0.4160208366523142,
          -0.11088801603936746,
          0.9221175098804136,
          -1.1576877119234141,
          -0.39813707295622613,
          -1.0592320235705353,
          0.37986665125962565,
          -0.5570483578397022,
          0.6777186339963158,
          -0.38644735124934115,
          -0.46445620006442506,
          -0.4250050264070511,
          1.0890493493481044,
          -1.4627988247249566,
          -0.470768139390512,
          -0.18899810886234358,
          0.4654101860415952,
          1.6779775844139893,
          -1.876317969649985,
          -0.1702025954803815,
          0.7386275124863215,
          -0.995687819654236,
          0.5688961016409643,
          0.003505412674648637,
          0.7707394956863137,
          0.25837287808466486,
          -1.3123051555731073,
          -0.14547432429903318
         ],
         "yaxis": "y5"
        },
        {
         "histfunc": "count",
         "histnorm": "",
         "marker": {
          "color": "rgba(55, 128, 191, 1.0)",
          "line": {
           "color": "#4D5663",
           "width": 1.3
          }
         },
         "name": "B",
         "nbinsx": 10,
         "opacity": 0.8,
         "orientation": "v",
         "type": "histogram",
         "x": [
          -0.9399902999168411,
          -1.9423380705231792,
          0.4522164949791178,
          -1.4487787439238513,
          0.6801991481379681,
          -0.9371935088416633,
          -0.017229639492253413,
          -0.258876955937129,
          -1.0817046480966666,
          -0.6355540706675884,
          -0.5095868553778142,
          1.0783223972420422,
          0.1658907389286997,
          0.6321115178431862,
          -0.3158816940165806,
          1.1039231468906006,
          -0.49906935443041817,
          -0.6315137548742901,
          0.4726907486757533,
          0.2785663383433755,
          0.6756828406946835,
          -0.1937357330418802,
          0.5631093809666425,
          0.09076004610545052,
          -0.08080029963722939,
          -0.24121391840168532,
          -0.8838536665321517,
          -0.16955688742526506,
          0.5456960917581483,
          0.3461823440618255,
          0.8838886872681287,
          0.6007935651747616,
          -0.554952740896429,
          0.16087588010661694,
          0.7139512276978098,
          0.7836504954457244,
          -0.7468182950644572,
          -1.2852739351722766,
          -0.7377216443690595,
          0.7879482149641246,
          0.6888763990791642,
          2.0131037127401514,
          -0.9590282314305115,
          -0.08995759073683214,
          0.29072502929996125,
          1.6081002671179545,
          -0.11460765764050192,
          -1.187598726286891,
          0.9591573131300998,
          -1.0752516355918234,
          -0.13931574040481506,
          0.4015932029670253,
          0.15440121837917983,
          -0.38647080941415796,
          -1.3210927141383915,
          0.8642920456342552,
          0.6015658553512785,
          0.14569108608113243,
          0.6947284302526355,
          -0.7024617110754191,
          0.1651577477071164,
          -0.407736164353038,
          2.1840342297316826,
          -0.596291435423442,
          -1.8856920299159774,
          -0.3345990732118949,
          -1.7415128836734322,
          0.6112073340788858,
          1.7548265817244395,
          0.9293380526290771,
          -1.373294835797414,
          0.03127355648398631,
          0.4160208366523142,
          -0.11088801603936746,
          0.9221175098804136,
          -1.1576877119234141,
          -0.39813707295622613,
          -1.0592320235705353,
          0.37986665125962565,
          -0.5570483578397022,
          0.6777186339963158,
          -0.38644735124934115,
          -0.46445620006442506,
          -0.4250050264070511,
          1.0890493493481044,
          -1.4627988247249566,
          -0.470768139390512,
          -0.18899810886234358,
          0.4654101860415952,
          1.6779775844139893,
          -1.876317969649985,
          -0.1702025954803815,
          0.7386275124863215,
          -0.995687819654236,
          0.5688961016409643,
          0.003505412674648637,
          0.7707394956863137,
          0.25837287808466486,
          -1.3123051555731073,
          -0.14547432429903318
         ],
         "xaxis": "x6",
         "yaxis": "y6"
        },
        {
         "line": {
          "color": "rgba(128, 128, 128, 1.0)",
          "dash": "solid",
          "shape": "linear",
          "width": 1.3
         },
         "marker": {
          "size": 2,
          "symbol": "circle"
         },
         "mode": "markers",
         "name": "B",
         "text": "",
         "type": "scatter",
         "x": [
          -2.1868432802102773,
          -0.7250140419511258,
          -0.6913827612230679,
          0.04814664355985677,
          -0.2688168197666106,
          1.10971313648696,
          -0.6771329496928161,
          0.5260619113595164,
          0.049226185832037424,
          -2.012896157534608,
          -0.4782778769781722,
          0.46681896255807576,
          -0.9366436684435993,
          -0.3025726125323398,
          0.5366046480995682,
          0.3931718093006377,
          -0.7826703785528093,
          -0.5788198960628711,
          -0.6961068548743381,
          0.34041440049893834,
          0.4496610494223251,
          -0.28633727827967465,
          0.6037630528460217,
          0.7509338310040284,
          -1.0536232970283654,
          -1.8834070004092935,
          -0.218141841949026,
          -0.7634726767533443,
          0.268267950607665,
          -0.16541212991899704,
          0.712560943060834,
          -0.4631683253190213,
          0.8072864768418512,
          1.4538043579554563,
          0.6850129423545135,
          -0.6910418773802264,
          -0.8183486993360881,
          -0.963464304316495,
          1.1680409288637745,
          0.7485948742648829,
          -0.11773529201589432,
          1.170204622585392,
          1.4616737848284929,
          0.3167398941877916,
          -0.8343529561308559,
          1.1259989075148988,
          -0.15813832552433288,
          0.045890037768292445,
          -0.2453926220559531,
          -0.7035163255716897,
          0.4602750456413887,
          -1.4193356314795913,
          -0.9760304750681537,
          0.4379325718081307,
          0.12757322745774302,
          -0.28421704417432614,
          -1.1129398620348998,
          1.382523056665255,
          1.1325058761994478,
          1.589567467021451,
          0.5940511289021116,
          -0.4346313423659601,
          0.04003555131307455,
          -0.9659407770041554,
          0.6003559194676078,
          -1.8591787074276616,
          1.5529637948017165,
          -1.2523095244656894,
          0.3051767327838226,
          0.47121194936878663,
          0.9891933978078691,
          -0.20379515668636156,
          -0.8456925702915231,
          0.26574691398209277,
          0.3348203663967337,
          1.2132380685344786,
          -0.6156955586822158,
          -0.14443220317021072,
          0.40282161097393204,
          -0.6924508573035683,
          0.6328059445510126,
          -0.9584109636433588,
          0.06982925441407545,
          -0.6406368622400371,
          -1.2760905752272835,
          -0.18908764420038793,
          -0.908965845745114,
          1.218311234850609,
          -0.6749659299871115,
          -0.4051594201816622,
          1.313294626095533,
          -0.6838154253972283,
          -0.2865694769651911,
          -1.1757599785360122,
          1.9763003663416487,
          0.27643637305796076,
          -0.3744060218984946,
          -0.6709474868077607,
          1.2477324330421622,
          1.6530515466661837
         ],
         "xaxis": "x7",
         "y": [
          -0.9399902999168411,
          -1.9423380705231792,
          0.4522164949791178,
          -1.4487787439238513,
          0.6801991481379681,
          -0.9371935088416633,
          -0.017229639492253413,
          -0.258876955937129,
          -1.0817046480966666,
          -0.6355540706675884,
          -0.5095868553778142,
          1.0783223972420422,
          0.1658907389286997,
          0.6321115178431862,
          -0.3158816940165806,
          1.1039231468906006,
          -0.49906935443041817,
          -0.6315137548742901,
          0.4726907486757533,
          0.2785663383433755,
          0.6756828406946835,
          -0.1937357330418802,
          0.5631093809666425,
          0.09076004610545052,
          -0.08080029963722939,
          -0.24121391840168532,
          -0.8838536665321517,
          -0.16955688742526506,
          0.5456960917581483,
          0.3461823440618255,
          0.8838886872681287,
          0.6007935651747616,
          -0.554952740896429,
          0.16087588010661694,
          0.7139512276978098,
          0.7836504954457244,
          -0.7468182950644572,
          -1.2852739351722766,
          -0.7377216443690595,
          0.7879482149641246,
          0.6888763990791642,
          2.0131037127401514,
          -0.9590282314305115,
          -0.08995759073683214,
          0.29072502929996125,
          1.6081002671179545,
          -0.11460765764050192,
          -1.187598726286891,
          0.9591573131300998,
          -1.0752516355918234,
          -0.13931574040481506,
          0.4015932029670253,
          0.15440121837917983,
          -0.38647080941415796,
          -1.3210927141383915,
          0.8642920456342552,
          0.6015658553512785,
          0.14569108608113243,
          0.6947284302526355,
          -0.7024617110754191,
          0.1651577477071164,
          -0.407736164353038,
          2.1840342297316826,
          -0.596291435423442,
          -1.8856920299159774,
          -0.3345990732118949,
          -1.7415128836734322,
          0.6112073340788858,
          1.7548265817244395,
          0.9293380526290771,
          -1.373294835797414,
          0.03127355648398631,
          0.4160208366523142,
          -0.11088801603936746,
          0.9221175098804136,
          -1.1576877119234141,
          -0.39813707295622613,
          -1.0592320235705353,
          0.37986665125962565,
          -0.5570483578397022,
          0.6777186339963158,
          -0.38644735124934115,
          -0.46445620006442506,
          -0.4250050264070511,
          1.0890493493481044,
          -1.4627988247249566,
          -0.470768139390512,
          -0.18899810886234358,
          0.4654101860415952,
          1.6779775844139893,
          -1.876317969649985,
          -0.1702025954803815,
          0.7386275124863215,
          -0.995687819654236,
          0.5688961016409643,
          0.003505412674648637,
          0.7707394956863137,
          0.25837287808466486,
          -1.3123051555731073,
          -0.14547432429903318
         ],
         "yaxis": "y7"
        },
        {
         "line": {
          "color": "rgba(128, 128, 128, 1.0)",
          "dash": "solid",
          "shape": "linear",
          "width": 1.3
         },
         "marker": {
          "size": 2,
          "symbol": "circle"
         },
         "mode": "markers",
         "name": "B",
         "text": "",
         "type": "scatter",
         "x": [
          0.2329180877485759,
          -0.779851055810576,
          -0.15682562020637367,
          -0.44798565785938754,
          -0.31328610636393045,
          1.009703250616094,
          1.690511529886859,
          -1.7727767351074708,
          -1.2898117645716012,
          -1.0598811055611714,
          -0.05995840406671184,
          0.35950289397366847,
          -0.6024925133706687,
          0.5616325192625717,
          -0.4077991936455839,
          -1.661665789770493,
          -0.19894131083362393,
          1.4848139496354045,
          -0.2187519979030449,
          0.014575982368184399,
          -0.670177309744851,
          -0.659774451183918,
          -0.19852388012201994,
          -0.33428900219866814,
          -0.5081847640018546,
          0.6727879848051744,
          -1.5095554860200469,
          -0.3195538761166854,
          -0.8382512667911439,
          0.12633735965166668,
          -0.37448278208313635,
          0.4313852701787521,
          -0.3576282497301914,
          -0.36714254820237824,
          1.2092150655441531,
          -0.3738733597435478,
          1.3908218125778182,
          0.9259595285339431,
          -1.2151942463833356,
          -1.7729149464046192,
          1.5236948417942808,
          0.9167358395734678,
          0.3789304814449219,
          -0.5762996507640142,
          0.7493142071893915,
          -0.9914982111223593,
          -0.8242908979667105,
          0.04244424498827081,
          0.3391159515427539,
          -1.8228026546752387,
          -1.0332861520597718,
          -0.214662965158623,
          0.3475373836788013,
          -0.0684429471666999,
          -1.068272700683441,
          0.10236365335036744,
          1.8088991737076445,
          0.18448770702484002,
          -0.006090338869984403,
          -0.6211910374135585,
          -0.5201526328367619,
          1.1555782431562285,
          -0.8961811434389672,
          -0.5937579695866875,
          -0.7710679156827561,
          -0.6786812472645407,
          -0.7466583486414361,
          0.04771858679514946,
          -0.7601310788064842,
          0.8281712042496281,
          -0.3042202438088885,
          1.0755294024994413,
          2.0596066996717686,
          0.9540488210633757,
          -0.5634964312547651,
          0.14932718269408285,
          2.120865529677368,
          1.5484005448822202,
          -0.8948512068816719,
          -0.5535728791239111,
          1.1659721530863791,
          -0.338269477198465,
          0.6662636529382033,
          -0.8386785671465247,
          -0.45016050483340514,
          1.9719608116281135,
          -1.125112777802077,
          -0.4565031806440209,
          -0.6082343672469854,
          0.523275011356581,
          -0.9590547408867666,
          1.073701314819291,
          -0.49048978185103653,
          0.8348546381818701,
          -0.002962248241787498,
          1.0307814201352343,
          0.20780899895915692,
          -0.4915456045196982,
          0.5783269322123842,
          2.295383481278133
         ],
         "xaxis": "x8",
         "y": [
          -0.9399902999168411,
          -1.9423380705231792,
          0.4522164949791178,
          -1.4487787439238513,
          0.6801991481379681,
          -0.9371935088416633,
          -0.017229639492253413,
          -0.258876955937129,
          -1.0817046480966666,
          -0.6355540706675884,
          -0.5095868553778142,
          1.0783223972420422,
          0.1658907389286997,
          0.6321115178431862,
          -0.3158816940165806,
          1.1039231468906006,
          -0.49906935443041817,
          -0.6315137548742901,
          0.4726907486757533,
          0.2785663383433755,
          0.6756828406946835,
          -0.1937357330418802,
          0.5631093809666425,
          0.09076004610545052,
          -0.08080029963722939,
          -0.24121391840168532,
          -0.8838536665321517,
          -0.16955688742526506,
          0.5456960917581483,
          0.3461823440618255,
          0.8838886872681287,
          0.6007935651747616,
          -0.554952740896429,
          0.16087588010661694,
          0.7139512276978098,
          0.7836504954457244,
          -0.7468182950644572,
          -1.2852739351722766,
          -0.7377216443690595,
          0.7879482149641246,
          0.6888763990791642,
          2.0131037127401514,
          -0.9590282314305115,
          -0.08995759073683214,
          0.29072502929996125,
          1.6081002671179545,
          -0.11460765764050192,
          -1.187598726286891,
          0.9591573131300998,
          -1.0752516355918234,
          -0.13931574040481506,
          0.4015932029670253,
          0.15440121837917983,
          -0.38647080941415796,
          -1.3210927141383915,
          0.8642920456342552,
          0.6015658553512785,
          0.14569108608113243,
          0.6947284302526355,
          -0.7024617110754191,
          0.1651577477071164,
          -0.407736164353038,
          2.1840342297316826,
          -0.596291435423442,
          -1.8856920299159774,
          -0.3345990732118949,
          -1.7415128836734322,
          0.6112073340788858,
          1.7548265817244395,
          0.9293380526290771,
          -1.373294835797414,
          0.03127355648398631,
          0.4160208366523142,
          -0.11088801603936746,
          0.9221175098804136,
          -1.1576877119234141,
          -0.39813707295622613,
          -1.0592320235705353,
          0.37986665125962565,
          -0.5570483578397022,
          0.6777186339963158,
          -0.38644735124934115,
          -0.46445620006442506,
          -0.4250050264070511,
          1.0890493493481044,
          -1.4627988247249566,
          -0.470768139390512,
          -0.18899810886234358,
          0.4654101860415952,
          1.6779775844139893,
          -1.876317969649985,
          -0.1702025954803815,
          0.7386275124863215,
          -0.995687819654236,
          0.5688961016409643,
          0.003505412674648637,
          0.7707394956863137,
          0.25837287808466486,
          -1.3123051555731073,
          -0.14547432429903318
         ],
         "yaxis": "y8"
        },
        {
         "line": {
          "color": "rgba(128, 128, 128, 1.0)",
          "dash": "solid",
          "shape": "linear",
          "width": 1.3
         },
         "marker": {
          "size": 2,
          "symbol": "circle"
         },
         "mode": "markers",
         "name": "C",
         "text": "",
         "type": "scatter",
         "x": [
          -0.6912741429033772,
          2.6385271622920055,
          -0.7602857136434306,
          -0.17989398726623554,
          1.1314908404810518,
          -0.9236277429682401,
          0.5738678190716883,
          0.9864544801541595,
          0.32279219540734283,
          0.5885178288924707,
          0.5024994967413074,
          0.33207596909749637,
          0.6161296323145041,
          0.09859447753227293,
          -0.8227834082627532,
          0.28464354765094746,
          -0.947342488658302,
          -0.8548769790411005,
          1.0921015040745041,
          -0.6059906110102712,
          0.7134665644043366,
          0.2506753216842416,
          0.5704988886012403,
          -0.9001676759617967,
          1.5577514195590443,
          -0.8935476824587619,
          -1.643208970155166,
          0.9744088602730071,
          -0.29420623561316916,
          -0.5779436336856351,
          -1.3840170311282365,
          2.314676910076252,
          0.6415398505272547,
          -0.8002006468597685,
          0.6922191370110591,
          -1.0337120485296762,
          0.27265670125524993,
          -0.5797583333024258,
          0.5447513266398479,
          1.2410264787389498,
          -0.3170328105037755,
          0.9375460090151588,
          0.2879885443792549,
          -1.6938341411969675,
          -0.07472009167841874,
          0.5060026725044797,
          -0.8504009261137909,
          0.732510438788298,
          2.239796161013942,
          0.7692758256658025,
          -0.327999523823669,
          -0.0522999588114854,
          0.7404336785517659,
          1.006511440200384,
          -1.0954078070436444,
          -0.694419007954893,
          0.9170675514111376,
          0.2410176623597317,
          -1.1417311818412559,
          -2.036168540701319,
          -0.5852200554789933,
          -0.08187573553144036,
          -0.0108941525886899,
          0.5043090936377923,
          -0.009038725156449571,
          0.37521561129710973,
          0.5454233016591511,
          -1.2019374781761154,
          -1.2164146034848031,
          -1.5521771642600135,
          1.5260481075021362,
          0.7511200123355126,
          -1.201730403956396,
          2.2280888976822624,
          -0.15975558174063254,
          -0.21141327351955494,
          0.3060476425825168,
          -0.20791345635292988,
          0.9746962275768414,
          -0.3798940618161446,
          -1.2099430641956597,
          -0.07687618710847464,
          0.04855691969444076,
          1.6219188475758473,
          -2.1694340031988157,
          1.1071533539052,
          1.228055445210511,
          0.9847854355920682,
          -1.7122298669622624,
          -0.23909369014186913,
          0.9571627095229488,
          0.2050568135377792,
          -0.9270560083471667,
          0.974859311003513,
          0.37850037510517365,
          0.47070287060999044,
          0.8239361128145453,
          0.9503701842417043,
          0.3020754261820294,
          0.5335541974559987
         ],
         "xaxis": "x9",
         "y": [
          -2.1868432802102773,
          -0.7250140419511258,
          -0.6913827612230679,
          0.04814664355985677,
          -0.2688168197666106,
          1.10971313648696,
          -0.6771329496928161,
          0.5260619113595164,
          0.049226185832037424,
          -2.012896157534608,
          -0.4782778769781722,
          0.46681896255807576,
          -0.9366436684435993,
          -0.3025726125323398,
          0.5366046480995682,
          0.3931718093006377,
          -0.7826703785528093,
          -0.5788198960628711,
          -0.6961068548743381,
          0.34041440049893834,
          0.4496610494223251,
          -0.28633727827967465,
          0.6037630528460217,
          0.7509338310040284,
          -1.0536232970283654,
          -1.8834070004092935,
          -0.218141841949026,
          -0.7634726767533443,
          0.268267950607665,
          -0.16541212991899704,
          0.712560943060834,
          -0.4631683253190213,
          0.8072864768418512,
          1.4538043579554563,
          0.6850129423545135,
          -0.6910418773802264,
          -0.8183486993360881,
          -0.963464304316495,
          1.1680409288637745,
          0.7485948742648829,
          -0.11773529201589432,
          1.170204622585392,
          1.4616737848284929,
          0.3167398941877916,
          -0.8343529561308559,
          1.1259989075148988,
          -0.15813832552433288,
          0.045890037768292445,
          -0.2453926220559531,
          -0.7035163255716897,
          0.4602750456413887,
          -1.4193356314795913,
          -0.9760304750681537,
          0.4379325718081307,
          0.12757322745774302,
          -0.28421704417432614,
          -1.1129398620348998,
          1.382523056665255,
          1.1325058761994478,
          1.589567467021451,
          0.5940511289021116,
          -0.4346313423659601,
          0.04003555131307455,
          -0.9659407770041554,
          0.6003559194676078,
          -1.8591787074276616,
          1.5529637948017165,
          -1.2523095244656894,
          0.3051767327838226,
          0.47121194936878663,
          0.9891933978078691,
          -0.20379515668636156,
          -0.8456925702915231,
          0.26574691398209277,
          0.3348203663967337,
          1.2132380685344786,
          -0.6156955586822158,
          -0.14443220317021072,
          0.40282161097393204,
          -0.6924508573035683,
          0.6328059445510126,
          -0.9584109636433588,
          0.06982925441407545,
          -0.6406368622400371,
          -1.2760905752272835,
          -0.18908764420038793,
          -0.908965845745114,
          1.218311234850609,
          -0.6749659299871115,
          -0.4051594201816622,
          1.313294626095533,
          -0.6838154253972283,
          -0.2865694769651911,
          -1.1757599785360122,
          1.9763003663416487,
          0.27643637305796076,
          -0.3744060218984946,
          -0.6709474868077607,
          1.2477324330421622,
          1.6530515466661837
         ],
         "yaxis": "y9"
        },
        {
         "line": {
          "color": "rgba(128, 128, 128, 1.0)",
          "dash": "solid",
          "shape": "linear",
          "width": 1.3
         },
         "marker": {
          "size": 2,
          "symbol": "circle"
         },
         "mode": "markers",
         "name": "C",
         "text": "",
         "type": "scatter",
         "x": [
          -0.9399902999168411,
          -1.9423380705231792,
          0.4522164949791178,
          -1.4487787439238513,
          0.6801991481379681,
          -0.9371935088416633,
          -0.017229639492253413,
          -0.258876955937129,
          -1.0817046480966666,
          -0.6355540706675884,
          -0.5095868553778142,
          1.0783223972420422,
          0.1658907389286997,
          0.6321115178431862,
          -0.3158816940165806,
          1.1039231468906006,
          -0.49906935443041817,
          -0.6315137548742901,
          0.4726907486757533,
          0.2785663383433755,
          0.6756828406946835,
          -0.1937357330418802,
          0.5631093809666425,
          0.09076004610545052,
          -0.08080029963722939,
          -0.24121391840168532,
          -0.8838536665321517,
          -0.16955688742526506,
          0.5456960917581483,
          0.3461823440618255,
          0.8838886872681287,
          0.6007935651747616,
          -0.554952740896429,
          0.16087588010661694,
          0.7139512276978098,
          0.7836504954457244,
          -0.7468182950644572,
          -1.2852739351722766,
          -0.7377216443690595,
          0.7879482149641246,
          0.6888763990791642,
          2.0131037127401514,
          -0.9590282314305115,
          -0.08995759073683214,
          0.29072502929996125,
          1.6081002671179545,
          -0.11460765764050192,
          -1.187598726286891,
          0.9591573131300998,
          -1.0752516355918234,
          -0.13931574040481506,
          0.4015932029670253,
          0.15440121837917983,
          -0.38647080941415796,
          -1.3210927141383915,
          0.8642920456342552,
          0.6015658553512785,
          0.14569108608113243,
          0.6947284302526355,
          -0.7024617110754191,
          0.1651577477071164,
          -0.407736164353038,
          2.1840342297316826,
          -0.596291435423442,
          -1.8856920299159774,
          -0.3345990732118949,
          -1.7415128836734322,
          0.6112073340788858,
          1.7548265817244395,
          0.9293380526290771,
          -1.373294835797414,
          0.03127355648398631,
          0.4160208366523142,
          -0.11088801603936746,
          0.9221175098804136,
          -1.1576877119234141,
          -0.39813707295622613,
          -1.0592320235705353,
          0.37986665125962565,
          -0.5570483578397022,
          0.6777186339963158,
          -0.38644735124934115,
          -0.46445620006442506,
          -0.4250050264070511,
          1.0890493493481044,
          -1.4627988247249566,
          -0.470768139390512,
          -0.18899810886234358,
          0.4654101860415952,
          1.6779775844139893,
          -1.876317969649985,
          -0.1702025954803815,
          0.7386275124863215,
          -0.995687819654236,
          0.5688961016409643,
          0.003505412674648637,
          0.7707394956863137,
          0.25837287808466486,
          -1.3123051555731073,
          -0.14547432429903318
         ],
         "xaxis": "x10",
         "y": [
          -2.1868432802102773,
          -0.7250140419511258,
          -0.6913827612230679,
          0.04814664355985677,
          -0.2688168197666106,
          1.10971313648696,
          -0.6771329496928161,
          0.5260619113595164,
          0.049226185832037424,
          -2.012896157534608,
          -0.4782778769781722,
          0.46681896255807576,
          -0.9366436684435993,
          -0.3025726125323398,
          0.5366046480995682,
          0.3931718093006377,
          -0.7826703785528093,
          -0.5788198960628711,
          -0.6961068548743381,
          0.34041440049893834,
          0.4496610494223251,
          -0.28633727827967465,
          0.6037630528460217,
          0.7509338310040284,
          -1.0536232970283654,
          -1.8834070004092935,
          -0.218141841949026,
          -0.7634726767533443,
          0.268267950607665,
          -0.16541212991899704,
          0.712560943060834,
          -0.4631683253190213,
          0.8072864768418512,
          1.4538043579554563,
          0.6850129423545135,
          -0.6910418773802264,
          -0.8183486993360881,
          -0.963464304316495,
          1.1680409288637745,
          0.7485948742648829,
          -0.11773529201589432,
          1.170204622585392,
          1.4616737848284929,
          0.3167398941877916,
          -0.8343529561308559,
          1.1259989075148988,
          -0.15813832552433288,
          0.045890037768292445,
          -0.2453926220559531,
          -0.7035163255716897,
          0.4602750456413887,
          -1.4193356314795913,
          -0.9760304750681537,
          0.4379325718081307,
          0.12757322745774302,
          -0.28421704417432614,
          -1.1129398620348998,
          1.382523056665255,
          1.1325058761994478,
          1.589567467021451,
          0.5940511289021116,
          -0.4346313423659601,
          0.04003555131307455,
          -0.9659407770041554,
          0.6003559194676078,
          -1.8591787074276616,
          1.5529637948017165,
          -1.2523095244656894,
          0.3051767327838226,
          0.47121194936878663,
          0.9891933978078691,
          -0.20379515668636156,
          -0.8456925702915231,
          0.26574691398209277,
          0.3348203663967337,
          1.2132380685344786,
          -0.6156955586822158,
          -0.14443220317021072,
          0.40282161097393204,
          -0.6924508573035683,
          0.6328059445510126,
          -0.9584109636433588,
          0.06982925441407545,
          -0.6406368622400371,
          -1.2760905752272835,
          -0.18908764420038793,
          -0.908965845745114,
          1.218311234850609,
          -0.6749659299871115,
          -0.4051594201816622,
          1.313294626095533,
          -0.6838154253972283,
          -0.2865694769651911,
          -1.1757599785360122,
          1.9763003663416487,
          0.27643637305796076,
          -0.3744060218984946,
          -0.6709474868077607,
          1.2477324330421622,
          1.6530515466661837
         ],
         "yaxis": "y10"
        },
        {
         "histfunc": "count",
         "histnorm": "",
         "marker": {
          "color": "rgba(50, 171, 96, 1.0)",
          "line": {
           "color": "#4D5663",
           "width": 1.3
          }
         },
         "name": "C",
         "nbinsx": 10,
         "opacity": 0.8,
         "orientation": "v",
         "type": "histogram",
         "x": [
          -2.1868432802102773,
          -0.7250140419511258,
          -0.6913827612230679,
          0.04814664355985677,
          -0.2688168197666106,
          1.10971313648696,
          -0.6771329496928161,
          0.5260619113595164,
          0.049226185832037424,
          -2.012896157534608,
          -0.4782778769781722,
          0.46681896255807576,
          -0.9366436684435993,
          -0.3025726125323398,
          0.5366046480995682,
          0.3931718093006377,
          -0.7826703785528093,
          -0.5788198960628711,
          -0.6961068548743381,
          0.34041440049893834,
          0.4496610494223251,
          -0.28633727827967465,
          0.6037630528460217,
          0.7509338310040284,
          -1.0536232970283654,
          -1.8834070004092935,
          -0.218141841949026,
          -0.7634726767533443,
          0.268267950607665,
          -0.16541212991899704,
          0.712560943060834,
          -0.4631683253190213,
          0.8072864768418512,
          1.4538043579554563,
          0.6850129423545135,
          -0.6910418773802264,
          -0.8183486993360881,
          -0.963464304316495,
          1.1680409288637745,
          0.7485948742648829,
          -0.11773529201589432,
          1.170204622585392,
          1.4616737848284929,
          0.3167398941877916,
          -0.8343529561308559,
          1.1259989075148988,
          -0.15813832552433288,
          0.045890037768292445,
          -0.2453926220559531,
          -0.7035163255716897,
          0.4602750456413887,
          -1.4193356314795913,
          -0.9760304750681537,
          0.4379325718081307,
          0.12757322745774302,
          -0.28421704417432614,
          -1.1129398620348998,
          1.382523056665255,
          1.1325058761994478,
          1.589567467021451,
          0.5940511289021116,
          -0.4346313423659601,
          0.04003555131307455,
          -0.9659407770041554,
          0.6003559194676078,
          -1.8591787074276616,
          1.5529637948017165,
          -1.2523095244656894,
          0.3051767327838226,
          0.47121194936878663,
          0.9891933978078691,
          -0.20379515668636156,
          -0.8456925702915231,
          0.26574691398209277,
          0.3348203663967337,
          1.2132380685344786,
          -0.6156955586822158,
          -0.14443220317021072,
          0.40282161097393204,
          -0.6924508573035683,
          0.6328059445510126,
          -0.9584109636433588,
          0.06982925441407545,
          -0.6406368622400371,
          -1.2760905752272835,
          -0.18908764420038793,
          -0.908965845745114,
          1.218311234850609,
          -0.6749659299871115,
          -0.4051594201816622,
          1.313294626095533,
          -0.6838154253972283,
          -0.2865694769651911,
          -1.1757599785360122,
          1.9763003663416487,
          0.27643637305796076,
          -0.3744060218984946,
          -0.6709474868077607,
          1.2477324330421622,
          1.6530515466661837
         ],
         "xaxis": "x11",
         "yaxis": "y11"
        },
        {
         "line": {
          "color": "rgba(128, 128, 128, 1.0)",
          "dash": "solid",
          "shape": "linear",
          "width": 1.3
         },
         "marker": {
          "size": 2,
          "symbol": "circle"
         },
         "mode": "markers",
         "name": "C",
         "text": "",
         "type": "scatter",
         "x": [
          0.2329180877485759,
          -0.779851055810576,
          -0.15682562020637367,
          -0.44798565785938754,
          -0.31328610636393045,
          1.009703250616094,
          1.690511529886859,
          -1.7727767351074708,
          -1.2898117645716012,
          -1.0598811055611714,
          -0.05995840406671184,
          0.35950289397366847,
          -0.6024925133706687,
          0.5616325192625717,
          -0.4077991936455839,
          -1.661665789770493,
          -0.19894131083362393,
          1.4848139496354045,
          -0.2187519979030449,
          0.014575982368184399,
          -0.670177309744851,
          -0.659774451183918,
          -0.19852388012201994,
          -0.33428900219866814,
          -0.5081847640018546,
          0.6727879848051744,
          -1.5095554860200469,
          -0.3195538761166854,
          -0.8382512667911439,
          0.12633735965166668,
          -0.37448278208313635,
          0.4313852701787521,
          -0.3576282497301914,
          -0.36714254820237824,
          1.2092150655441531,
          -0.3738733597435478,
          1.3908218125778182,
          0.9259595285339431,
          -1.2151942463833356,
          -1.7729149464046192,
          1.5236948417942808,
          0.9167358395734678,
          0.3789304814449219,
          -0.5762996507640142,
          0.7493142071893915,
          -0.9914982111223593,
          -0.8242908979667105,
          0.04244424498827081,
          0.3391159515427539,
          -1.8228026546752387,
          -1.0332861520597718,
          -0.214662965158623,
          0.3475373836788013,
          -0.0684429471666999,
          -1.068272700683441,
          0.10236365335036744,
          1.8088991737076445,
          0.18448770702484002,
          -0.006090338869984403,
          -0.6211910374135585,
          -0.5201526328367619,
          1.1555782431562285,
          -0.8961811434389672,
          -0.5937579695866875,
          -0.7710679156827561,
          -0.6786812472645407,
          -0.7466583486414361,
          0.04771858679514946,
          -0.7601310788064842,
          0.8281712042496281,
          -0.3042202438088885,
          1.0755294024994413,
          2.0596066996717686,
          0.9540488210633757,
          -0.5634964312547651,
          0.14932718269408285,
          2.120865529677368,
          1.5484005448822202,
          -0.8948512068816719,
          -0.5535728791239111,
          1.1659721530863791,
          -0.338269477198465,
          0.6662636529382033,
          -0.8386785671465247,
          -0.45016050483340514,
          1.9719608116281135,
          -1.125112777802077,
          -0.4565031806440209,
          -0.6082343672469854,
          0.523275011356581,
          -0.9590547408867666,
          1.073701314819291,
          -0.49048978185103653,
          0.8348546381818701,
          -0.002962248241787498,
          1.0307814201352343,
          0.20780899895915692,
          -0.4915456045196982,
          0.5783269322123842,
          2.295383481278133
         ],
         "xaxis": "x12",
         "y": [
          -2.1868432802102773,
          -0.7250140419511258,
          -0.6913827612230679,
          0.04814664355985677,
          -0.2688168197666106,
          1.10971313648696,
          -0.6771329496928161,
          0.5260619113595164,
          0.049226185832037424,
          -2.012896157534608,
          -0.4782778769781722,
          0.46681896255807576,
          -0.9366436684435993,
          -0.3025726125323398,
          0.5366046480995682,
          0.3931718093006377,
          -0.7826703785528093,
          -0.5788198960628711,
          -0.6961068548743381,
          0.34041440049893834,
          0.4496610494223251,
          -0.28633727827967465,
          0.6037630528460217,
          0.7509338310040284,
          -1.0536232970283654,
          -1.8834070004092935,
          -0.218141841949026,
          -0.7634726767533443,
          0.268267950607665,
          -0.16541212991899704,
          0.712560943060834,
          -0.4631683253190213,
          0.8072864768418512,
          1.4538043579554563,
          0.6850129423545135,
          -0.6910418773802264,
          -0.8183486993360881,
          -0.963464304316495,
          1.1680409288637745,
          0.7485948742648829,
          -0.11773529201589432,
          1.170204622585392,
          1.4616737848284929,
          0.3167398941877916,
          -0.8343529561308559,
          1.1259989075148988,
          -0.15813832552433288,
          0.045890037768292445,
          -0.2453926220559531,
          -0.7035163255716897,
          0.4602750456413887,
          -1.4193356314795913,
          -0.9760304750681537,
          0.4379325718081307,
          0.12757322745774302,
          -0.28421704417432614,
          -1.1129398620348998,
          1.382523056665255,
          1.1325058761994478,
          1.589567467021451,
          0.5940511289021116,
          -0.4346313423659601,
          0.04003555131307455,
          -0.9659407770041554,
          0.6003559194676078,
          -1.8591787074276616,
          1.5529637948017165,
          -1.2523095244656894,
          0.3051767327838226,
          0.47121194936878663,
          0.9891933978078691,
          -0.20379515668636156,
          -0.8456925702915231,
          0.26574691398209277,
          0.3348203663967337,
          1.2132380685344786,
          -0.6156955586822158,
          -0.14443220317021072,
          0.40282161097393204,
          -0.6924508573035683,
          0.6328059445510126,
          -0.9584109636433588,
          0.06982925441407545,
          -0.6406368622400371,
          -1.2760905752272835,
          -0.18908764420038793,
          -0.908965845745114,
          1.218311234850609,
          -0.6749659299871115,
          -0.4051594201816622,
          1.313294626095533,
          -0.6838154253972283,
          -0.2865694769651911,
          -1.1757599785360122,
          1.9763003663416487,
          0.27643637305796076,
          -0.3744060218984946,
          -0.6709474868077607,
          1.2477324330421622,
          1.6530515466661837
         ],
         "yaxis": "y12"
        },
        {
         "line": {
          "color": "rgba(128, 128, 128, 1.0)",
          "dash": "solid",
          "shape": "linear",
          "width": 1.3
         },
         "marker": {
          "size": 2,
          "symbol": "circle"
         },
         "mode": "markers",
         "name": "d",
         "text": "",
         "type": "scatter",
         "x": [
          -0.6912741429033772,
          2.6385271622920055,
          -0.7602857136434306,
          -0.17989398726623554,
          1.1314908404810518,
          -0.9236277429682401,
          0.5738678190716883,
          0.9864544801541595,
          0.32279219540734283,
          0.5885178288924707,
          0.5024994967413074,
          0.33207596909749637,
          0.6161296323145041,
          0.09859447753227293,
          -0.8227834082627532,
          0.28464354765094746,
          -0.947342488658302,
          -0.8548769790411005,
          1.0921015040745041,
          -0.6059906110102712,
          0.7134665644043366,
          0.2506753216842416,
          0.5704988886012403,
          -0.9001676759617967,
          1.5577514195590443,
          -0.8935476824587619,
          -1.643208970155166,
          0.9744088602730071,
          -0.29420623561316916,
          -0.5779436336856351,
          -1.3840170311282365,
          2.314676910076252,
          0.6415398505272547,
          -0.8002006468597685,
          0.6922191370110591,
          -1.0337120485296762,
          0.27265670125524993,
          -0.5797583333024258,
          0.5447513266398479,
          1.2410264787389498,
          -0.3170328105037755,
          0.9375460090151588,
          0.2879885443792549,
          -1.6938341411969675,
          -0.07472009167841874,
          0.5060026725044797,
          -0.8504009261137909,
          0.732510438788298,
          2.239796161013942,
          0.7692758256658025,
          -0.327999523823669,
          -0.0522999588114854,
          0.7404336785517659,
          1.006511440200384,
          -1.0954078070436444,
          -0.694419007954893,
          0.9170675514111376,
          0.2410176623597317,
          -1.1417311818412559,
          -2.036168540701319,
          -0.5852200554789933,
          -0.08187573553144036,
          -0.0108941525886899,
          0.5043090936377923,
          -0.009038725156449571,
          0.37521561129710973,
          0.5454233016591511,
          -1.2019374781761154,
          -1.2164146034848031,
          -1.5521771642600135,
          1.5260481075021362,
          0.7511200123355126,
          -1.201730403956396,
          2.2280888976822624,
          -0.15975558174063254,
          -0.21141327351955494,
          0.3060476425825168,
          -0.20791345635292988,
          0.9746962275768414,
          -0.3798940618161446,
          -1.2099430641956597,
          -0.07687618710847464,
          0.04855691969444076,
          1.6219188475758473,
          -2.1694340031988157,
          1.1071533539052,
          1.228055445210511,
          0.9847854355920682,
          -1.7122298669622624,
          -0.23909369014186913,
          0.9571627095229488,
          0.2050568135377792,
          -0.9270560083471667,
          0.974859311003513,
          0.37850037510517365,
          0.47070287060999044,
          0.8239361128145453,
          0.9503701842417043,
          0.3020754261820294,
          0.5335541974559987
         ],
         "xaxis": "x13",
         "y": [
          0.2329180877485759,
          -0.779851055810576,
          -0.15682562020637367,
          -0.44798565785938754,
          -0.31328610636393045,
          1.009703250616094,
          1.690511529886859,
          -1.7727767351074708,
          -1.2898117645716012,
          -1.0598811055611714,
          -0.05995840406671184,
          0.35950289397366847,
          -0.6024925133706687,
          0.5616325192625717,
          -0.4077991936455839,
          -1.661665789770493,
          -0.19894131083362393,
          1.4848139496354045,
          -0.2187519979030449,
          0.014575982368184399,
          -0.670177309744851,
          -0.659774451183918,
          -0.19852388012201994,
          -0.33428900219866814,
          -0.5081847640018546,
          0.6727879848051744,
          -1.5095554860200469,
          -0.3195538761166854,
          -0.8382512667911439,
          0.12633735965166668,
          -0.37448278208313635,
          0.4313852701787521,
          -0.3576282497301914,
          -0.36714254820237824,
          1.2092150655441531,
          -0.3738733597435478,
          1.3908218125778182,
          0.9259595285339431,
          -1.2151942463833356,
          -1.7729149464046192,
          1.5236948417942808,
          0.9167358395734678,
          0.3789304814449219,
          -0.5762996507640142,
          0.7493142071893915,
          -0.9914982111223593,
          -0.8242908979667105,
          0.04244424498827081,
          0.3391159515427539,
          -1.8228026546752387,
          -1.0332861520597718,
          -0.214662965158623,
          0.3475373836788013,
          -0.0684429471666999,
          -1.068272700683441,
          0.10236365335036744,
          1.8088991737076445,
          0.18448770702484002,
          -0.006090338869984403,
          -0.6211910374135585,
          -0.5201526328367619,
          1.1555782431562285,
          -0.8961811434389672,
          -0.5937579695866875,
          -0.7710679156827561,
          -0.6786812472645407,
          -0.7466583486414361,
          0.04771858679514946,
          -0.7601310788064842,
          0.8281712042496281,
          -0.3042202438088885,
          1.0755294024994413,
          2.0596066996717686,
          0.9540488210633757,
          -0.5634964312547651,
          0.14932718269408285,
          2.120865529677368,
          1.5484005448822202,
          -0.8948512068816719,
          -0.5535728791239111,
          1.1659721530863791,
          -0.338269477198465,
          0.6662636529382033,
          -0.8386785671465247,
          -0.45016050483340514,
          1.9719608116281135,
          -1.125112777802077,
          -0.4565031806440209,
          -0.6082343672469854,
          0.523275011356581,
          -0.9590547408867666,
          1.073701314819291,
          -0.49048978185103653,
          0.8348546381818701,
          -0.002962248241787498,
          1.0307814201352343,
          0.20780899895915692,
          -0.4915456045196982,
          0.5783269322123842,
          2.295383481278133
         ],
         "yaxis": "y13"
        },
        {
         "line": {
          "color": "rgba(128, 128, 128, 1.0)",
          "dash": "solid",
          "shape": "linear",
          "width": 1.3
         },
         "marker": {
          "size": 2,
          "symbol": "circle"
         },
         "mode": "markers",
         "name": "d",
         "text": "",
         "type": "scatter",
         "x": [
          -0.9399902999168411,
          -1.9423380705231792,
          0.4522164949791178,
          -1.4487787439238513,
          0.6801991481379681,
          -0.9371935088416633,
          -0.017229639492253413,
          -0.258876955937129,
          -1.0817046480966666,
          -0.6355540706675884,
          -0.5095868553778142,
          1.0783223972420422,
          0.1658907389286997,
          0.6321115178431862,
          -0.3158816940165806,
          1.1039231468906006,
          -0.49906935443041817,
          -0.6315137548742901,
          0.4726907486757533,
          0.2785663383433755,
          0.6756828406946835,
          -0.1937357330418802,
          0.5631093809666425,
          0.09076004610545052,
          -0.08080029963722939,
          -0.24121391840168532,
          -0.8838536665321517,
          -0.16955688742526506,
          0.5456960917581483,
          0.3461823440618255,
          0.8838886872681287,
          0.6007935651747616,
          -0.554952740896429,
          0.16087588010661694,
          0.7139512276978098,
          0.7836504954457244,
          -0.7468182950644572,
          -1.2852739351722766,
          -0.7377216443690595,
          0.7879482149641246,
          0.6888763990791642,
          2.0131037127401514,
          -0.9590282314305115,
          -0.08995759073683214,
          0.29072502929996125,
          1.6081002671179545,
          -0.11460765764050192,
          -1.187598726286891,
          0.9591573131300998,
          -1.0752516355918234,
          -0.13931574040481506,
          0.4015932029670253,
          0.15440121837917983,
          -0.38647080941415796,
          -1.3210927141383915,
          0.8642920456342552,
          0.6015658553512785,
          0.14569108608113243,
          0.6947284302526355,
          -0.7024617110754191,
          0.1651577477071164,
          -0.407736164353038,
          2.1840342297316826,
          -0.596291435423442,
          -1.8856920299159774,
          -0.3345990732118949,
          -1.7415128836734322,
          0.6112073340788858,
          1.7548265817244395,
          0.9293380526290771,
          -1.373294835797414,
          0.03127355648398631,
          0.4160208366523142,
          -0.11088801603936746,
          0.9221175098804136,
          -1.1576877119234141,
          -0.39813707295622613,
          -1.0592320235705353,
          0.37986665125962565,
          -0.5570483578397022,
          0.6777186339963158,
          -0.38644735124934115,
          -0.46445620006442506,
          -0.4250050264070511,
          1.0890493493481044,
          -1.4627988247249566,
          -0.470768139390512,
          -0.18899810886234358,
          0.4654101860415952,
          1.6779775844139893,
          -1.876317969649985,
          -0.1702025954803815,
          0.7386275124863215,
          -0.995687819654236,
          0.5688961016409643,
          0.003505412674648637,
          0.7707394956863137,
          0.25837287808466486,
          -1.3123051555731073,
          -0.14547432429903318
         ],
         "xaxis": "x14",
         "y": [
          0.2329180877485759,
          -0.779851055810576,
          -0.15682562020637367,
          -0.44798565785938754,
          -0.31328610636393045,
          1.009703250616094,
          1.690511529886859,
          -1.7727767351074708,
          -1.2898117645716012,
          -1.0598811055611714,
          -0.05995840406671184,
          0.35950289397366847,
          -0.6024925133706687,
          0.5616325192625717,
          -0.4077991936455839,
          -1.661665789770493,
          -0.19894131083362393,
          1.4848139496354045,
          -0.2187519979030449,
          0.014575982368184399,
          -0.670177309744851,
          -0.659774451183918,
          -0.19852388012201994,
          -0.33428900219866814,
          -0.5081847640018546,
          0.6727879848051744,
          -1.5095554860200469,
          -0.3195538761166854,
          -0.8382512667911439,
          0.12633735965166668,
          -0.37448278208313635,
          0.4313852701787521,
          -0.3576282497301914,
          -0.36714254820237824,
          1.2092150655441531,
          -0.3738733597435478,
          1.3908218125778182,
          0.9259595285339431,
          -1.2151942463833356,
          -1.7729149464046192,
          1.5236948417942808,
          0.9167358395734678,
          0.3789304814449219,
          -0.5762996507640142,
          0.7493142071893915,
          -0.9914982111223593,
          -0.8242908979667105,
          0.04244424498827081,
          0.3391159515427539,
          -1.8228026546752387,
          -1.0332861520597718,
          -0.214662965158623,
          0.3475373836788013,
          -0.0684429471666999,
          -1.068272700683441,
          0.10236365335036744,
          1.8088991737076445,
          0.18448770702484002,
          -0.006090338869984403,
          -0.6211910374135585,
          -0.5201526328367619,
          1.1555782431562285,
          -0.8961811434389672,
          -0.5937579695866875,
          -0.7710679156827561,
          -0.6786812472645407,
          -0.7466583486414361,
          0.04771858679514946,
          -0.7601310788064842,
          0.8281712042496281,
          -0.3042202438088885,
          1.0755294024994413,
          2.0596066996717686,
          0.9540488210633757,
          -0.5634964312547651,
          0.14932718269408285,
          2.120865529677368,
          1.5484005448822202,
          -0.8948512068816719,
          -0.5535728791239111,
          1.1659721530863791,
          -0.338269477198465,
          0.6662636529382033,
          -0.8386785671465247,
          -0.45016050483340514,
          1.9719608116281135,
          -1.125112777802077,
          -0.4565031806440209,
          -0.6082343672469854,
          0.523275011356581,
          -0.9590547408867666,
          1.073701314819291,
          -0.49048978185103653,
          0.8348546381818701,
          -0.002962248241787498,
          1.0307814201352343,
          0.20780899895915692,
          -0.4915456045196982,
          0.5783269322123842,
          2.295383481278133
         ],
         "yaxis": "y14"
        },
        {
         "line": {
          "color": "rgba(128, 128, 128, 1.0)",
          "dash": "solid",
          "shape": "linear",
          "width": 1.3
         },
         "marker": {
          "size": 2,
          "symbol": "circle"
         },
         "mode": "markers",
         "name": "d",
         "text": "",
         "type": "scatter",
         "x": [
          -2.1868432802102773,
          -0.7250140419511258,
          -0.6913827612230679,
          0.04814664355985677,
          -0.2688168197666106,
          1.10971313648696,
          -0.6771329496928161,
          0.5260619113595164,
          0.049226185832037424,
          -2.012896157534608,
          -0.4782778769781722,
          0.46681896255807576,
          -0.9366436684435993,
          -0.3025726125323398,
          0.5366046480995682,
          0.3931718093006377,
          -0.7826703785528093,
          -0.5788198960628711,
          -0.6961068548743381,
          0.34041440049893834,
          0.4496610494223251,
          -0.28633727827967465,
          0.6037630528460217,
          0.7509338310040284,
          -1.0536232970283654,
          -1.8834070004092935,
          -0.218141841949026,
          -0.7634726767533443,
          0.268267950607665,
          -0.16541212991899704,
          0.712560943060834,
          -0.4631683253190213,
          0.8072864768418512,
          1.4538043579554563,
          0.6850129423545135,
          -0.6910418773802264,
          -0.8183486993360881,
          -0.963464304316495,
          1.1680409288637745,
          0.7485948742648829,
          -0.11773529201589432,
          1.170204622585392,
          1.4616737848284929,
          0.3167398941877916,
          -0.8343529561308559,
          1.1259989075148988,
          -0.15813832552433288,
          0.045890037768292445,
          -0.2453926220559531,
          -0.7035163255716897,
          0.4602750456413887,
          -1.4193356314795913,
          -0.9760304750681537,
          0.4379325718081307,
          0.12757322745774302,
          -0.28421704417432614,
          -1.1129398620348998,
          1.382523056665255,
          1.1325058761994478,
          1.589567467021451,
          0.5940511289021116,
          -0.4346313423659601,
          0.04003555131307455,
          -0.9659407770041554,
          0.6003559194676078,
          -1.8591787074276616,
          1.5529637948017165,
          -1.2523095244656894,
          0.3051767327838226,
          0.47121194936878663,
          0.9891933978078691,
          -0.20379515668636156,
          -0.8456925702915231,
          0.26574691398209277,
          0.3348203663967337,
          1.2132380685344786,
          -0.6156955586822158,
          -0.14443220317021072,
          0.40282161097393204,
          -0.6924508573035683,
          0.6328059445510126,
          -0.9584109636433588,
          0.06982925441407545,
          -0.6406368622400371,
          -1.2760905752272835,
          -0.18908764420038793,
          -0.908965845745114,
          1.218311234850609,
          -0.6749659299871115,
          -0.4051594201816622,
          1.313294626095533,
          -0.6838154253972283,
          -0.2865694769651911,
          -1.1757599785360122,
          1.9763003663416487,
          0.27643637305796076,
          -0.3744060218984946,
          -0.6709474868077607,
          1.2477324330421622,
          1.6530515466661837
         ],
         "xaxis": "x15",
         "y": [
          0.2329180877485759,
          -0.779851055810576,
          -0.15682562020637367,
          -0.44798565785938754,
          -0.31328610636393045,
          1.009703250616094,
          1.690511529886859,
          -1.7727767351074708,
          -1.2898117645716012,
          -1.0598811055611714,
          -0.05995840406671184,
          0.35950289397366847,
          -0.6024925133706687,
          0.5616325192625717,
          -0.4077991936455839,
          -1.661665789770493,
          -0.19894131083362393,
          1.4848139496354045,
          -0.2187519979030449,
          0.014575982368184399,
          -0.670177309744851,
          -0.659774451183918,
          -0.19852388012201994,
          -0.33428900219866814,
          -0.5081847640018546,
          0.6727879848051744,
          -1.5095554860200469,
          -0.3195538761166854,
          -0.8382512667911439,
          0.12633735965166668,
          -0.37448278208313635,
          0.4313852701787521,
          -0.3576282497301914,
          -0.36714254820237824,
          1.2092150655441531,
          -0.3738733597435478,
          1.3908218125778182,
          0.9259595285339431,
          -1.2151942463833356,
          -1.7729149464046192,
          1.5236948417942808,
          0.9167358395734678,
          0.3789304814449219,
          -0.5762996507640142,
          0.7493142071893915,
          -0.9914982111223593,
          -0.8242908979667105,
          0.04244424498827081,
          0.3391159515427539,
          -1.8228026546752387,
          -1.0332861520597718,
          -0.214662965158623,
          0.3475373836788013,
          -0.0684429471666999,
          -1.068272700683441,
          0.10236365335036744,
          1.8088991737076445,
          0.18448770702484002,
          -0.006090338869984403,
          -0.6211910374135585,
          -0.5201526328367619,
          1.1555782431562285,
          -0.8961811434389672,
          -0.5937579695866875,
          -0.7710679156827561,
          -0.6786812472645407,
          -0.7466583486414361,
          0.04771858679514946,
          -0.7601310788064842,
          0.8281712042496281,
          -0.3042202438088885,
          1.0755294024994413,
          2.0596066996717686,
          0.9540488210633757,
          -0.5634964312547651,
          0.14932718269408285,
          2.120865529677368,
          1.5484005448822202,
          -0.8948512068816719,
          -0.5535728791239111,
          1.1659721530863791,
          -0.338269477198465,
          0.6662636529382033,
          -0.8386785671465247,
          -0.45016050483340514,
          1.9719608116281135,
          -1.125112777802077,
          -0.4565031806440209,
          -0.6082343672469854,
          0.523275011356581,
          -0.9590547408867666,
          1.073701314819291,
          -0.49048978185103653,
          0.8348546381818701,
          -0.002962248241787498,
          1.0307814201352343,
          0.20780899895915692,
          -0.4915456045196982,
          0.5783269322123842,
          2.295383481278133
         ],
         "yaxis": "y15"
        },
        {
         "histfunc": "count",
         "histnorm": "",
         "marker": {
          "color": "rgba(128, 0, 128, 1.0)",
          "line": {
           "color": "#4D5663",
           "width": 1.3
          }
         },
         "name": "d",
         "nbinsx": 10,
         "opacity": 0.8,
         "orientation": "v",
         "type": "histogram",
         "x": [
          0.2329180877485759,
          -0.779851055810576,
          -0.15682562020637367,
          -0.44798565785938754,
          -0.31328610636393045,
          1.009703250616094,
          1.690511529886859,
          -1.7727767351074708,
          -1.2898117645716012,
          -1.0598811055611714,
          -0.05995840406671184,
          0.35950289397366847,
          -0.6024925133706687,
          0.5616325192625717,
          -0.4077991936455839,
          -1.661665789770493,
          -0.19894131083362393,
          1.4848139496354045,
          -0.2187519979030449,
          0.014575982368184399,
          -0.670177309744851,
          -0.659774451183918,
          -0.19852388012201994,
          -0.33428900219866814,
          -0.5081847640018546,
          0.6727879848051744,
          -1.5095554860200469,
          -0.3195538761166854,
          -0.8382512667911439,
          0.12633735965166668,
          -0.37448278208313635,
          0.4313852701787521,
          -0.3576282497301914,
          -0.36714254820237824,
          1.2092150655441531,
          -0.3738733597435478,
          1.3908218125778182,
          0.9259595285339431,
          -1.2151942463833356,
          -1.7729149464046192,
          1.5236948417942808,
          0.9167358395734678,
          0.3789304814449219,
          -0.5762996507640142,
          0.7493142071893915,
          -0.9914982111223593,
          -0.8242908979667105,
          0.04244424498827081,
          0.3391159515427539,
          -1.8228026546752387,
          -1.0332861520597718,
          -0.214662965158623,
          0.3475373836788013,
          -0.0684429471666999,
          -1.068272700683441,
          0.10236365335036744,
          1.8088991737076445,
          0.18448770702484002,
          -0.006090338869984403,
          -0.6211910374135585,
          -0.5201526328367619,
          1.1555782431562285,
          -0.8961811434389672,
          -0.5937579695866875,
          -0.7710679156827561,
          -0.6786812472645407,
          -0.7466583486414361,
          0.04771858679514946,
          -0.7601310788064842,
          0.8281712042496281,
          -0.3042202438088885,
          1.0755294024994413,
          2.0596066996717686,
          0.9540488210633757,
          -0.5634964312547651,
          0.14932718269408285,
          2.120865529677368,
          1.5484005448822202,
          -0.8948512068816719,
          -0.5535728791239111,
          1.1659721530863791,
          -0.338269477198465,
          0.6662636529382033,
          -0.8386785671465247,
          -0.45016050483340514,
          1.9719608116281135,
          -1.125112777802077,
          -0.4565031806440209,
          -0.6082343672469854,
          0.523275011356581,
          -0.9590547408867666,
          1.073701314819291,
          -0.49048978185103653,
          0.8348546381818701,
          -0.002962248241787498,
          1.0307814201352343,
          0.20780899895915692,
          -0.4915456045196982,
          0.5783269322123842,
          2.295383481278133
         ],
         "xaxis": "x16",
         "yaxis": "y16"
        }
       ],
       "layout": {
        "bargap": 0.02,
        "legend": {
         "bgcolor": "#F5F6F9",
         "font": {
          "color": "#4D5663"
         }
        },
        "paper_bgcolor": "#F5F6F9",
        "plot_bgcolor": "#F5F6F9",
        "showlegend": false,
        "template": {
         "data": {
          "bar": [
           {
            "error_x": {
             "color": "#2a3f5f"
            },
            "error_y": {
             "color": "#2a3f5f"
            },
            "marker": {
             "line": {
              "color": "#E5ECF6",
              "width": 0.5
             },
             "pattern": {
              "fillmode": "overlay",
              "size": 10,
              "solidity": 0.2
             }
            },
            "type": "bar"
           }
          ],
          "barpolar": [
           {
            "marker": {
             "line": {
              "color": "#E5ECF6",
              "width": 0.5
             },
             "pattern": {
              "fillmode": "overlay",
              "size": 10,
              "solidity": 0.2
             }
            },
            "type": "barpolar"
           }
          ],
          "carpet": [
           {
            "aaxis": {
             "endlinecolor": "#2a3f5f",
             "gridcolor": "white",
             "linecolor": "white",
             "minorgridcolor": "white",
             "startlinecolor": "#2a3f5f"
            },
            "baxis": {
             "endlinecolor": "#2a3f5f",
             "gridcolor": "white",
             "linecolor": "white",
             "minorgridcolor": "white",
             "startlinecolor": "#2a3f5f"
            },
            "type": "carpet"
           }
          ],
          "choropleth": [
           {
            "colorbar": {
             "outlinewidth": 0,
             "ticks": ""
            },
            "type": "choropleth"
           }
          ],
          "contour": [
           {
            "colorbar": {
             "outlinewidth": 0,
             "ticks": ""
            },
            "colorscale": [
             [
              0,
              "#0d0887"
             ],
             [
              0.1111111111111111,
              "#46039f"
             ],
             [
              0.2222222222222222,
              "#7201a8"
             ],
             [
              0.3333333333333333,
              "#9c179e"
             ],
             [
              0.4444444444444444,
              "#bd3786"
             ],
             [
              0.5555555555555556,
              "#d8576b"
             ],
             [
              0.6666666666666666,
              "#ed7953"
             ],
             [
              0.7777777777777778,
              "#fb9f3a"
             ],
             [
              0.8888888888888888,
              "#fdca26"
             ],
             [
              1,
              "#f0f921"
             ]
            ],
            "type": "contour"
           }
          ],
          "contourcarpet": [
           {
            "colorbar": {
             "outlinewidth": 0,
             "ticks": ""
            },
            "type": "contourcarpet"
           }
          ],
          "heatmap": [
           {
            "colorbar": {
             "outlinewidth": 0,
             "ticks": ""
            },
            "colorscale": [
             [
              0,
              "#0d0887"
             ],
             [
              0.1111111111111111,
              "#46039f"
             ],
             [
              0.2222222222222222,
              "#7201a8"
             ],
             [
              0.3333333333333333,
              "#9c179e"
             ],
             [
              0.4444444444444444,
              "#bd3786"
             ],
             [
              0.5555555555555556,
              "#d8576b"
             ],
             [
              0.6666666666666666,
              "#ed7953"
             ],
             [
              0.7777777777777778,
              "#fb9f3a"
             ],
             [
              0.8888888888888888,
              "#fdca26"
             ],
             [
              1,
              "#f0f921"
             ]
            ],
            "type": "heatmap"
           }
          ],
          "heatmapgl": [
           {
            "colorbar": {
             "outlinewidth": 0,
             "ticks": ""
            },
            "colorscale": [
             [
              0,
              "#0d0887"
             ],
             [
              0.1111111111111111,
              "#46039f"
             ],
             [
              0.2222222222222222,
              "#7201a8"
             ],
             [
              0.3333333333333333,
              "#9c179e"
             ],
             [
              0.4444444444444444,
              "#bd3786"
             ],
             [
              0.5555555555555556,
              "#d8576b"
             ],
             [
              0.6666666666666666,
              "#ed7953"
             ],
             [
              0.7777777777777778,
              "#fb9f3a"
             ],
             [
              0.8888888888888888,
              "#fdca26"
             ],
             [
              1,
              "#f0f921"
             ]
            ],
            "type": "heatmapgl"
           }
          ],
          "histogram": [
           {
            "marker": {
             "pattern": {
              "fillmode": "overlay",
              "size": 10,
              "solidity": 0.2
             }
            },
            "type": "histogram"
           }
          ],
          "histogram2d": [
           {
            "colorbar": {
             "outlinewidth": 0,
             "ticks": ""
            },
            "colorscale": [
             [
              0,
              "#0d0887"
             ],
             [
              0.1111111111111111,
              "#46039f"
             ],
             [
              0.2222222222222222,
              "#7201a8"
             ],
             [
              0.3333333333333333,
              "#9c179e"
             ],
             [
              0.4444444444444444,
              "#bd3786"
             ],
             [
              0.5555555555555556,
              "#d8576b"
             ],
             [
              0.6666666666666666,
              "#ed7953"
             ],
             [
              0.7777777777777778,
              "#fb9f3a"
             ],
             [
              0.8888888888888888,
              "#fdca26"
             ],
             [
              1,
              "#f0f921"
             ]
            ],
            "type": "histogram2d"
           }
          ],
          "histogram2dcontour": [
           {
            "colorbar": {
             "outlinewidth": 0,
             "ticks": ""
            },
            "colorscale": [
             [
              0,
              "#0d0887"
             ],
             [
              0.1111111111111111,
              "#46039f"
             ],
             [
              0.2222222222222222,
              "#7201a8"
             ],
             [
              0.3333333333333333,
              "#9c179e"
             ],
             [
              0.4444444444444444,
              "#bd3786"
             ],
             [
              0.5555555555555556,
              "#d8576b"
             ],
             [
              0.6666666666666666,
              "#ed7953"
             ],
             [
              0.7777777777777778,
              "#fb9f3a"
             ],
             [
              0.8888888888888888,
              "#fdca26"
             ],
             [
              1,
              "#f0f921"
             ]
            ],
            "type": "histogram2dcontour"
           }
          ],
          "mesh3d": [
           {
            "colorbar": {
             "outlinewidth": 0,
             "ticks": ""
            },
            "type": "mesh3d"
           }
          ],
          "parcoords": [
           {
            "line": {
             "colorbar": {
              "outlinewidth": 0,
              "ticks": ""
             }
            },
            "type": "parcoords"
           }
          ],
          "pie": [
           {
            "automargin": true,
            "type": "pie"
           }
          ],
          "scatter": [
           {
            "marker": {
             "colorbar": {
              "outlinewidth": 0,
              "ticks": ""
             }
            },
            "type": "scatter"
           }
          ],
          "scatter3d": [
           {
            "line": {
             "colorbar": {
              "outlinewidth": 0,
              "ticks": ""
             }
            },
            "marker": {
             "colorbar": {
              "outlinewidth": 0,
              "ticks": ""
             }
            },
            "type": "scatter3d"
           }
          ],
          "scattercarpet": [
           {
            "marker": {
             "colorbar": {
              "outlinewidth": 0,
              "ticks": ""
             }
            },
            "type": "scattercarpet"
           }
          ],
          "scattergeo": [
           {
            "marker": {
             "colorbar": {
              "outlinewidth": 0,
              "ticks": ""
             }
            },
            "type": "scattergeo"
           }
          ],
          "scattergl": [
           {
            "marker": {
             "colorbar": {
              "outlinewidth": 0,
              "ticks": ""
             }
            },
            "type": "scattergl"
           }
          ],
          "scattermapbox": [
           {
            "marker": {
             "colorbar": {
              "outlinewidth": 0,
              "ticks": ""
             }
            },
            "type": "scattermapbox"
           }
          ],
          "scatterpolar": [
           {
            "marker": {
             "colorbar": {
              "outlinewidth": 0,
              "ticks": ""
             }
            },
            "type": "scatterpolar"
           }
          ],
          "scatterpolargl": [
           {
            "marker": {
             "colorbar": {
              "outlinewidth": 0,
              "ticks": ""
             }
            },
            "type": "scatterpolargl"
           }
          ],
          "scatterternary": [
           {
            "marker": {
             "colorbar": {
              "outlinewidth": 0,
              "ticks": ""
             }
            },
            "type": "scatterternary"
           }
          ],
          "surface": [
           {
            "colorbar": {
             "outlinewidth": 0,
             "ticks": ""
            },
            "colorscale": [
             [
              0,
              "#0d0887"
             ],
             [
              0.1111111111111111,
              "#46039f"
             ],
             [
              0.2222222222222222,
              "#7201a8"
             ],
             [
              0.3333333333333333,
              "#9c179e"
             ],
             [
              0.4444444444444444,
              "#bd3786"
             ],
             [
              0.5555555555555556,
              "#d8576b"
             ],
             [
              0.6666666666666666,
              "#ed7953"
             ],
             [
              0.7777777777777778,
              "#fb9f3a"
             ],
             [
              0.8888888888888888,
              "#fdca26"
             ],
             [
              1,
              "#f0f921"
             ]
            ],
            "type": "surface"
           }
          ],
          "table": [
           {
            "cells": {
             "fill": {
              "color": "#EBF0F8"
             },
             "line": {
              "color": "white"
             }
            },
            "header": {
             "fill": {
              "color": "#C8D4E3"
             },
             "line": {
              "color": "white"
             }
            },
            "type": "table"
           }
          ]
         },
         "layout": {
          "annotationdefaults": {
           "arrowcolor": "#2a3f5f",
           "arrowhead": 0,
           "arrowwidth": 1
          },
          "autotypenumbers": "strict",
          "coloraxis": {
           "colorbar": {
            "outlinewidth": 0,
            "ticks": ""
           }
          },
          "colorscale": {
           "diverging": [
            [
             0,
             "#8e0152"
            ],
            [
             0.1,
             "#c51b7d"
            ],
            [
             0.2,
             "#de77ae"
            ],
            [
             0.3,
             "#f1b6da"
            ],
            [
             0.4,
             "#fde0ef"
            ],
            [
             0.5,
             "#f7f7f7"
            ],
            [
             0.6,
             "#e6f5d0"
            ],
            [
             0.7,
             "#b8e186"
            ],
            [
             0.8,
             "#7fbc41"
            ],
            [
             0.9,
             "#4d9221"
            ],
            [
             1,
             "#276419"
            ]
           ],
           "sequential": [
            [
             0,
             "#0d0887"
            ],
            [
             0.1111111111111111,
             "#46039f"
            ],
            [
             0.2222222222222222,
             "#7201a8"
            ],
            [
             0.3333333333333333,
             "#9c179e"
            ],
            [
             0.4444444444444444,
             "#bd3786"
            ],
            [
             0.5555555555555556,
             "#d8576b"
            ],
            [
             0.6666666666666666,
             "#ed7953"
            ],
            [
             0.7777777777777778,
             "#fb9f3a"
            ],
            [
             0.8888888888888888,
             "#fdca26"
            ],
            [
             1,
             "#f0f921"
            ]
           ],
           "sequentialminus": [
            [
             0,
             "#0d0887"
            ],
            [
             0.1111111111111111,
             "#46039f"
            ],
            [
             0.2222222222222222,
             "#7201a8"
            ],
            [
             0.3333333333333333,
             "#9c179e"
            ],
            [
             0.4444444444444444,
             "#bd3786"
            ],
            [
             0.5555555555555556,
             "#d8576b"
            ],
            [
             0.6666666666666666,
             "#ed7953"
            ],
            [
             0.7777777777777778,
             "#fb9f3a"
            ],
            [
             0.8888888888888888,
             "#fdca26"
            ],
            [
             1,
             "#f0f921"
            ]
           ]
          },
          "colorway": [
           "#636efa",
           "#EF553B",
           "#00cc96",
           "#ab63fa",
           "#FFA15A",
           "#19d3f3",
           "#FF6692",
           "#B6E880",
           "#FF97FF",
           "#FECB52"
          ],
          "font": {
           "color": "#2a3f5f"
          },
          "geo": {
           "bgcolor": "white",
           "lakecolor": "white",
           "landcolor": "#E5ECF6",
           "showlakes": true,
           "showland": true,
           "subunitcolor": "white"
          },
          "hoverlabel": {
           "align": "left"
          },
          "hovermode": "closest",
          "mapbox": {
           "style": "light"
          },
          "paper_bgcolor": "white",
          "plot_bgcolor": "#E5ECF6",
          "polar": {
           "angularaxis": {
            "gridcolor": "white",
            "linecolor": "white",
            "ticks": ""
           },
           "bgcolor": "#E5ECF6",
           "radialaxis": {
            "gridcolor": "white",
            "linecolor": "white",
            "ticks": ""
           }
          },
          "scene": {
           "xaxis": {
            "backgroundcolor": "#E5ECF6",
            "gridcolor": "white",
            "gridwidth": 2,
            "linecolor": "white",
            "showbackground": true,
            "ticks": "",
            "zerolinecolor": "white"
           },
           "yaxis": {
            "backgroundcolor": "#E5ECF6",
            "gridcolor": "white",
            "gridwidth": 2,
            "linecolor": "white",
            "showbackground": true,
            "ticks": "",
            "zerolinecolor": "white"
           },
           "zaxis": {
            "backgroundcolor": "#E5ECF6",
            "gridcolor": "white",
            "gridwidth": 2,
            "linecolor": "white",
            "showbackground": true,
            "ticks": "",
            "zerolinecolor": "white"
           }
          },
          "shapedefaults": {
           "line": {
            "color": "#2a3f5f"
           }
          },
          "ternary": {
           "aaxis": {
            "gridcolor": "white",
            "linecolor": "white",
            "ticks": ""
           },
           "baxis": {
            "gridcolor": "white",
            "linecolor": "white",
            "ticks": ""
           },
           "bgcolor": "#E5ECF6",
           "caxis": {
            "gridcolor": "white",
            "linecolor": "white",
            "ticks": ""
           }
          },
          "title": {
           "x": 0.05
          },
          "xaxis": {
           "automargin": true,
           "gridcolor": "white",
           "linecolor": "white",
           "ticks": "",
           "title": {
            "standoff": 15
           },
           "zerolinecolor": "white",
           "zerolinewidth": 2
          },
          "yaxis": {
           "automargin": true,
           "gridcolor": "white",
           "linecolor": "white",
           "ticks": "",
           "title": {
            "standoff": 15
           },
           "zerolinecolor": "white",
           "zerolinewidth": 2
          }
         }
        },
        "title": {
         "font": {
          "color": "#4D5663"
         }
        },
        "xaxis": {
         "anchor": "y",
         "domain": [
          0,
          0.2125
         ],
         "gridcolor": "#E1E5ED",
         "showgrid": false,
         "tickfont": {
          "color": "#4D5663"
         },
         "title": {
          "font": {
           "color": "#4D5663"
          },
          "text": ""
         },
         "zerolinecolor": "#E1E5ED"
        },
        "xaxis10": {
         "anchor": "y10",
         "domain": [
          0.2625,
          0.475
         ],
         "gridcolor": "#E1E5ED",
         "showgrid": false,
         "tickfont": {
          "color": "#4D5663"
         },
         "title": {
          "font": {
           "color": "#4D5663"
          },
          "text": ""
         },
         "zerolinecolor": "#E1E5ED"
        },
        "xaxis11": {
         "anchor": "y11",
         "domain": [
          0.525,
          0.7375
         ],
         "gridcolor": "#E1E5ED",
         "showgrid": false,
         "tickfont": {
          "color": "#4D5663"
         },
         "title": {
          "font": {
           "color": "#4D5663"
          },
          "text": ""
         },
         "zerolinecolor": "#E1E5ED"
        },
        "xaxis12": {
         "anchor": "y12",
         "domain": [
          0.7875,
          1
         ],
         "gridcolor": "#E1E5ED",
         "showgrid": false,
         "tickfont": {
          "color": "#4D5663"
         },
         "title": {
          "font": {
           "color": "#4D5663"
          },
          "text": ""
         },
         "zerolinecolor": "#E1E5ED"
        },
        "xaxis13": {
         "anchor": "y13",
         "domain": [
          0,
          0.2125
         ],
         "gridcolor": "#E1E5ED",
         "showgrid": false,
         "tickfont": {
          "color": "#4D5663"
         },
         "title": {
          "font": {
           "color": "#4D5663"
          },
          "text": ""
         },
         "zerolinecolor": "#E1E5ED"
        },
        "xaxis14": {
         "anchor": "y14",
         "domain": [
          0.2625,
          0.475
         ],
         "gridcolor": "#E1E5ED",
         "showgrid": false,
         "tickfont": {
          "color": "#4D5663"
         },
         "title": {
          "font": {
           "color": "#4D5663"
          },
          "text": ""
         },
         "zerolinecolor": "#E1E5ED"
        },
        "xaxis15": {
         "anchor": "y15",
         "domain": [
          0.525,
          0.7375
         ],
         "gridcolor": "#E1E5ED",
         "showgrid": false,
         "tickfont": {
          "color": "#4D5663"
         },
         "title": {
          "font": {
           "color": "#4D5663"
          },
          "text": ""
         },
         "zerolinecolor": "#E1E5ED"
        },
        "xaxis16": {
         "anchor": "y16",
         "domain": [
          0.7875,
          1
         ],
         "gridcolor": "#E1E5ED",
         "showgrid": false,
         "tickfont": {
          "color": "#4D5663"
         },
         "title": {
          "font": {
           "color": "#4D5663"
          },
          "text": ""
         },
         "zerolinecolor": "#E1E5ED"
        },
        "xaxis2": {
         "anchor": "y2",
         "domain": [
          0.2625,
          0.475
         ],
         "gridcolor": "#E1E5ED",
         "showgrid": false,
         "tickfont": {
          "color": "#4D5663"
         },
         "title": {
          "font": {
           "color": "#4D5663"
          },
          "text": ""
         },
         "zerolinecolor": "#E1E5ED"
        },
        "xaxis3": {
         "anchor": "y3",
         "domain": [
          0.525,
          0.7375
         ],
         "gridcolor": "#E1E5ED",
         "showgrid": false,
         "tickfont": {
          "color": "#4D5663"
         },
         "title": {
          "font": {
           "color": "#4D5663"
          },
          "text": ""
         },
         "zerolinecolor": "#E1E5ED"
        },
        "xaxis4": {
         "anchor": "y4",
         "domain": [
          0.7875,
          1
         ],
         "gridcolor": "#E1E5ED",
         "showgrid": false,
         "tickfont": {
          "color": "#4D5663"
         },
         "title": {
          "font": {
           "color": "#4D5663"
          },
          "text": ""
         },
         "zerolinecolor": "#E1E5ED"
        },
        "xaxis5": {
         "anchor": "y5",
         "domain": [
          0,
          0.2125
         ],
         "gridcolor": "#E1E5ED",
         "showgrid": false,
         "tickfont": {
          "color": "#4D5663"
         },
         "title": {
          "font": {
           "color": "#4D5663"
          },
          "text": ""
         },
         "zerolinecolor": "#E1E5ED"
        },
        "xaxis6": {
         "anchor": "y6",
         "domain": [
          0.2625,
          0.475
         ],
         "gridcolor": "#E1E5ED",
         "showgrid": false,
         "tickfont": {
          "color": "#4D5663"
         },
         "title": {
          "font": {
           "color": "#4D5663"
          },
          "text": ""
         },
         "zerolinecolor": "#E1E5ED"
        },
        "xaxis7": {
         "anchor": "y7",
         "domain": [
          0.525,
          0.7375
         ],
         "gridcolor": "#E1E5ED",
         "showgrid": false,
         "tickfont": {
          "color": "#4D5663"
         },
         "title": {
          "font": {
           "color": "#4D5663"
          },
          "text": ""
         },
         "zerolinecolor": "#E1E5ED"
        },
        "xaxis8": {
         "anchor": "y8",
         "domain": [
          0.7875,
          1
         ],
         "gridcolor": "#E1E5ED",
         "showgrid": false,
         "tickfont": {
          "color": "#4D5663"
         },
         "title": {
          "font": {
           "color": "#4D5663"
          },
          "text": ""
         },
         "zerolinecolor": "#E1E5ED"
        },
        "xaxis9": {
         "anchor": "y9",
         "domain": [
          0,
          0.2125
         ],
         "gridcolor": "#E1E5ED",
         "showgrid": false,
         "tickfont": {
          "color": "#4D5663"
         },
         "title": {
          "font": {
           "color": "#4D5663"
          },
          "text": ""
         },
         "zerolinecolor": "#E1E5ED"
        },
        "yaxis": {
         "anchor": "x",
         "domain": [
          0.8025,
          1
         ],
         "gridcolor": "#E1E5ED",
         "showgrid": false,
         "tickfont": {
          "color": "#4D5663"
         },
         "title": {
          "font": {
           "color": "#4D5663"
          },
          "text": ""
         },
         "zerolinecolor": "#E1E5ED"
        },
        "yaxis10": {
         "anchor": "x10",
         "domain": [
          0.2675,
          0.465
         ],
         "gridcolor": "#E1E5ED",
         "showgrid": false,
         "tickfont": {
          "color": "#4D5663"
         },
         "title": {
          "font": {
           "color": "#4D5663"
          },
          "text": ""
         },
         "zerolinecolor": "#E1E5ED"
        },
        "yaxis11": {
         "anchor": "x11",
         "domain": [
          0.2675,
          0.465
         ],
         "gridcolor": "#E1E5ED",
         "showgrid": false,
         "tickfont": {
          "color": "#4D5663"
         },
         "title": {
          "font": {
           "color": "#4D5663"
          },
          "text": ""
         },
         "zerolinecolor": "#E1E5ED"
        },
        "yaxis12": {
         "anchor": "x12",
         "domain": [
          0.2675,
          0.465
         ],
         "gridcolor": "#E1E5ED",
         "showgrid": false,
         "tickfont": {
          "color": "#4D5663"
         },
         "title": {
          "font": {
           "color": "#4D5663"
          },
          "text": ""
         },
         "zerolinecolor": "#E1E5ED"
        },
        "yaxis13": {
         "anchor": "x13",
         "domain": [
          0,
          0.1975
         ],
         "gridcolor": "#E1E5ED",
         "showgrid": false,
         "tickfont": {
          "color": "#4D5663"
         },
         "title": {
          "font": {
           "color": "#4D5663"
          },
          "text": ""
         },
         "zerolinecolor": "#E1E5ED"
        },
        "yaxis14": {
         "anchor": "x14",
         "domain": [
          0,
          0.1975
         ],
         "gridcolor": "#E1E5ED",
         "showgrid": false,
         "tickfont": {
          "color": "#4D5663"
         },
         "title": {
          "font": {
           "color": "#4D5663"
          },
          "text": ""
         },
         "zerolinecolor": "#E1E5ED"
        },
        "yaxis15": {
         "anchor": "x15",
         "domain": [
          0,
          0.1975
         ],
         "gridcolor": "#E1E5ED",
         "showgrid": false,
         "tickfont": {
          "color": "#4D5663"
         },
         "title": {
          "font": {
           "color": "#4D5663"
          },
          "text": ""
         },
         "zerolinecolor": "#E1E5ED"
        },
        "yaxis16": {
         "anchor": "x16",
         "domain": [
          0,
          0.1975
         ],
         "gridcolor": "#E1E5ED",
         "showgrid": false,
         "tickfont": {
          "color": "#4D5663"
         },
         "title": {
          "font": {
           "color": "#4D5663"
          },
          "text": ""
         },
         "zerolinecolor": "#E1E5ED"
        },
        "yaxis2": {
         "anchor": "x2",
         "domain": [
          0.8025,
          1
         ],
         "gridcolor": "#E1E5ED",
         "showgrid": false,
         "tickfont": {
          "color": "#4D5663"
         },
         "title": {
          "font": {
           "color": "#4D5663"
          },
          "text": ""
         },
         "zerolinecolor": "#E1E5ED"
        },
        "yaxis3": {
         "anchor": "x3",
         "domain": [
          0.8025,
          1
         ],
         "gridcolor": "#E1E5ED",
         "showgrid": false,
         "tickfont": {
          "color": "#4D5663"
         },
         "title": {
          "font": {
           "color": "#4D5663"
          },
          "text": ""
         },
         "zerolinecolor": "#E1E5ED"
        },
        "yaxis4": {
         "anchor": "x4",
         "domain": [
          0.8025,
          1
         ],
         "gridcolor": "#E1E5ED",
         "showgrid": false,
         "tickfont": {
          "color": "#4D5663"
         },
         "title": {
          "font": {
           "color": "#4D5663"
          },
          "text": ""
         },
         "zerolinecolor": "#E1E5ED"
        },
        "yaxis5": {
         "anchor": "x5",
         "domain": [
          0.535,
          0.7325
         ],
         "gridcolor": "#E1E5ED",
         "showgrid": false,
         "tickfont": {
          "color": "#4D5663"
         },
         "title": {
          "font": {
           "color": "#4D5663"
          },
          "text": ""
         },
         "zerolinecolor": "#E1E5ED"
        },
        "yaxis6": {
         "anchor": "x6",
         "domain": [
          0.535,
          0.7325
         ],
         "gridcolor": "#E1E5ED",
         "showgrid": false,
         "tickfont": {
          "color": "#4D5663"
         },
         "title": {
          "font": {
           "color": "#4D5663"
          },
          "text": ""
         },
         "zerolinecolor": "#E1E5ED"
        },
        "yaxis7": {
         "anchor": "x7",
         "domain": [
          0.535,
          0.7325
         ],
         "gridcolor": "#E1E5ED",
         "showgrid": false,
         "tickfont": {
          "color": "#4D5663"
         },
         "title": {
          "font": {
           "color": "#4D5663"
          },
          "text": ""
         },
         "zerolinecolor": "#E1E5ED"
        },
        "yaxis8": {
         "anchor": "x8",
         "domain": [
          0.535,
          0.7325
         ],
         "gridcolor": "#E1E5ED",
         "showgrid": false,
         "tickfont": {
          "color": "#4D5663"
         },
         "title": {
          "font": {
           "color": "#4D5663"
          },
          "text": ""
         },
         "zerolinecolor": "#E1E5ED"
        },
        "yaxis9": {
         "anchor": "x9",
         "domain": [
          0.2675,
          0.465
         ],
         "gridcolor": "#E1E5ED",
         "showgrid": false,
         "tickfont": {
          "color": "#4D5663"
         },
         "title": {
          "font": {
           "color": "#4D5663"
          },
          "text": ""
         },
         "zerolinecolor": "#E1E5ED"
        }
       }
      },
      "text/html": [
       "<div>                            <div id=\"d9b6977e-19f7-4ef7-b0e3-cb4a06422114\" class=\"plotly-graph-div\" style=\"height:525px; width:100%;\"></div>            <script type=\"text/javascript\">                require([\"plotly\"], function(Plotly) {                    window.PLOTLYENV=window.PLOTLYENV || {};\n",
       "                    window.PLOTLYENV.BASE_URL='https://plot.ly';                                    if (document.getElementById(\"d9b6977e-19f7-4ef7-b0e3-cb4a06422114\")) {                    Plotly.newPlot(                        \"d9b6977e-19f7-4ef7-b0e3-cb4a06422114\",                        [{\"histfunc\":\"count\",\"histnorm\":\"\",\"marker\":{\"color\":\"rgba(255, 153, 51, 1.0)\",\"line\":{\"color\":\"#4D5663\",\"width\":1.3}},\"name\":\"A\",\"nbinsx\":10,\"opacity\":0.8,\"orientation\":\"v\",\"x\":[-0.6912741429033772,2.6385271622920055,-0.7602857136434306,-0.17989398726623554,1.1314908404810518,-0.9236277429682401,0.5738678190716883,0.9864544801541595,0.32279219540734283,0.5885178288924707,0.5024994967413074,0.33207596909749637,0.6161296323145041,0.09859447753227293,-0.8227834082627532,0.28464354765094746,-0.947342488658302,-0.8548769790411005,1.0921015040745041,-0.6059906110102712,0.7134665644043366,0.2506753216842416,0.5704988886012403,-0.9001676759617967,1.5577514195590443,-0.8935476824587619,-1.643208970155166,0.9744088602730071,-0.29420623561316916,-0.5779436336856351,-1.3840170311282365,2.314676910076252,0.6415398505272547,-0.8002006468597685,0.6922191370110591,-1.0337120485296762,0.27265670125524993,-0.5797583333024258,0.5447513266398479,1.2410264787389498,-0.3170328105037755,0.9375460090151588,0.2879885443792549,-1.6938341411969675,-0.07472009167841874,0.5060026725044797,-0.8504009261137909,0.732510438788298,2.239796161013942,0.7692758256658025,-0.327999523823669,-0.0522999588114854,0.7404336785517659,1.006511440200384,-1.0954078070436444,-0.694419007954893,0.9170675514111376,0.2410176623597317,-1.1417311818412559,-2.036168540701319,-0.5852200554789933,-0.08187573553144036,-0.0108941525886899,0.5043090936377923,-0.009038725156449571,0.37521561129710973,0.5454233016591511,-1.2019374781761154,-1.2164146034848031,-1.5521771642600135,1.5260481075021362,0.7511200123355126,-1.201730403956396,2.2280888976822624,-0.15975558174063254,-0.21141327351955494,0.3060476425825168,-0.20791345635292988,0.9746962275768414,-0.3798940618161446,-1.2099430641956597,-0.07687618710847464,0.04855691969444076,1.6219188475758473,-2.1694340031988157,1.1071533539052,1.228055445210511,0.9847854355920682,-1.7122298669622624,-0.23909369014186913,0.9571627095229488,0.2050568135377792,-0.9270560083471667,0.974859311003513,0.37850037510517365,0.47070287060999044,0.8239361128145453,0.9503701842417043,0.3020754261820294,0.5335541974559987],\"xaxis\":\"x\",\"yaxis\":\"y\",\"type\":\"histogram\"},{\"line\":{\"color\":\"rgba(128, 128, 128, 1.0)\",\"dash\":\"solid\",\"shape\":\"linear\",\"width\":1.3},\"marker\":{\"size\":2,\"symbol\":\"circle\"},\"mode\":\"markers\",\"name\":\"A\",\"text\":\"\",\"x\":[-0.9399902999168411,-1.9423380705231792,0.4522164949791178,-1.4487787439238513,0.6801991481379681,-0.9371935088416633,-0.017229639492253413,-0.258876955937129,-1.0817046480966666,-0.6355540706675884,-0.5095868553778142,1.0783223972420422,0.1658907389286997,0.6321115178431862,-0.3158816940165806,1.1039231468906006,-0.49906935443041817,-0.6315137548742901,0.4726907486757533,0.2785663383433755,0.6756828406946835,-0.1937357330418802,0.5631093809666425,0.09076004610545052,-0.08080029963722939,-0.24121391840168532,-0.8838536665321517,-0.16955688742526506,0.5456960917581483,0.3461823440618255,0.8838886872681287,0.6007935651747616,-0.554952740896429,0.16087588010661694,0.7139512276978098,0.7836504954457244,-0.7468182950644572,-1.2852739351722766,-0.7377216443690595,0.7879482149641246,0.6888763990791642,2.0131037127401514,-0.9590282314305115,-0.08995759073683214,0.29072502929996125,1.6081002671179545,-0.11460765764050192,-1.187598726286891,0.9591573131300998,-1.0752516355918234,-0.13931574040481506,0.4015932029670253,0.15440121837917983,-0.38647080941415796,-1.3210927141383915,0.8642920456342552,0.6015658553512785,0.14569108608113243,0.6947284302526355,-0.7024617110754191,0.1651577477071164,-0.407736164353038,2.1840342297316826,-0.596291435423442,-1.8856920299159774,-0.3345990732118949,-1.7415128836734322,0.6112073340788858,1.7548265817244395,0.9293380526290771,-1.373294835797414,0.03127355648398631,0.4160208366523142,-0.11088801603936746,0.9221175098804136,-1.1576877119234141,-0.39813707295622613,-1.0592320235705353,0.37986665125962565,-0.5570483578397022,0.6777186339963158,-0.38644735124934115,-0.46445620006442506,-0.4250050264070511,1.0890493493481044,-1.4627988247249566,-0.470768139390512,-0.18899810886234358,0.4654101860415952,1.6779775844139893,-1.876317969649985,-0.1702025954803815,0.7386275124863215,-0.995687819654236,0.5688961016409643,0.003505412674648637,0.7707394956863137,0.25837287808466486,-1.3123051555731073,-0.14547432429903318],\"xaxis\":\"x2\",\"y\":[-0.6912741429033772,2.6385271622920055,-0.7602857136434306,-0.17989398726623554,1.1314908404810518,-0.9236277429682401,0.5738678190716883,0.9864544801541595,0.32279219540734283,0.5885178288924707,0.5024994967413074,0.33207596909749637,0.6161296323145041,0.09859447753227293,-0.8227834082627532,0.28464354765094746,-0.947342488658302,-0.8548769790411005,1.0921015040745041,-0.6059906110102712,0.7134665644043366,0.2506753216842416,0.5704988886012403,-0.9001676759617967,1.5577514195590443,-0.8935476824587619,-1.643208970155166,0.9744088602730071,-0.29420623561316916,-0.5779436336856351,-1.3840170311282365,2.314676910076252,0.6415398505272547,-0.8002006468597685,0.6922191370110591,-1.0337120485296762,0.27265670125524993,-0.5797583333024258,0.5447513266398479,1.2410264787389498,-0.3170328105037755,0.9375460090151588,0.2879885443792549,-1.6938341411969675,-0.07472009167841874,0.5060026725044797,-0.8504009261137909,0.732510438788298,2.239796161013942,0.7692758256658025,-0.327999523823669,-0.0522999588114854,0.7404336785517659,1.006511440200384,-1.0954078070436444,-0.694419007954893,0.9170675514111376,0.2410176623597317,-1.1417311818412559,-2.036168540701319,-0.5852200554789933,-0.08187573553144036,-0.0108941525886899,0.5043090936377923,-0.009038725156449571,0.37521561129710973,0.5454233016591511,-1.2019374781761154,-1.2164146034848031,-1.5521771642600135,1.5260481075021362,0.7511200123355126,-1.201730403956396,2.2280888976822624,-0.15975558174063254,-0.21141327351955494,0.3060476425825168,-0.20791345635292988,0.9746962275768414,-0.3798940618161446,-1.2099430641956597,-0.07687618710847464,0.04855691969444076,1.6219188475758473,-2.1694340031988157,1.1071533539052,1.228055445210511,0.9847854355920682,-1.7122298669622624,-0.23909369014186913,0.9571627095229488,0.2050568135377792,-0.9270560083471667,0.974859311003513,0.37850037510517365,0.47070287060999044,0.8239361128145453,0.9503701842417043,0.3020754261820294,0.5335541974559987],\"yaxis\":\"y2\",\"type\":\"scatter\"},{\"line\":{\"color\":\"rgba(128, 128, 128, 1.0)\",\"dash\":\"solid\",\"shape\":\"linear\",\"width\":1.3},\"marker\":{\"size\":2,\"symbol\":\"circle\"},\"mode\":\"markers\",\"name\":\"A\",\"text\":\"\",\"x\":[-2.1868432802102773,-0.7250140419511258,-0.6913827612230679,0.04814664355985677,-0.2688168197666106,1.10971313648696,-0.6771329496928161,0.5260619113595164,0.049226185832037424,-2.012896157534608,-0.4782778769781722,0.46681896255807576,-0.9366436684435993,-0.3025726125323398,0.5366046480995682,0.3931718093006377,-0.7826703785528093,-0.5788198960628711,-0.6961068548743381,0.34041440049893834,0.4496610494223251,-0.28633727827967465,0.6037630528460217,0.7509338310040284,-1.0536232970283654,-1.8834070004092935,-0.218141841949026,-0.7634726767533443,0.268267950607665,-0.16541212991899704,0.712560943060834,-0.4631683253190213,0.8072864768418512,1.4538043579554563,0.6850129423545135,-0.6910418773802264,-0.8183486993360881,-0.963464304316495,1.1680409288637745,0.7485948742648829,-0.11773529201589432,1.170204622585392,1.4616737848284929,0.3167398941877916,-0.8343529561308559,1.1259989075148988,-0.15813832552433288,0.045890037768292445,-0.2453926220559531,-0.7035163255716897,0.4602750456413887,-1.4193356314795913,-0.9760304750681537,0.4379325718081307,0.12757322745774302,-0.28421704417432614,-1.1129398620348998,1.382523056665255,1.1325058761994478,1.589567467021451,0.5940511289021116,-0.4346313423659601,0.04003555131307455,-0.9659407770041554,0.6003559194676078,-1.8591787074276616,1.5529637948017165,-1.2523095244656894,0.3051767327838226,0.47121194936878663,0.9891933978078691,-0.20379515668636156,-0.8456925702915231,0.26574691398209277,0.3348203663967337,1.2132380685344786,-0.6156955586822158,-0.14443220317021072,0.40282161097393204,-0.6924508573035683,0.6328059445510126,-0.9584109636433588,0.06982925441407545,-0.6406368622400371,-1.2760905752272835,-0.18908764420038793,-0.908965845745114,1.218311234850609,-0.6749659299871115,-0.4051594201816622,1.313294626095533,-0.6838154253972283,-0.2865694769651911,-1.1757599785360122,1.9763003663416487,0.27643637305796076,-0.3744060218984946,-0.6709474868077607,1.2477324330421622,1.6530515466661837],\"xaxis\":\"x3\",\"y\":[-0.6912741429033772,2.6385271622920055,-0.7602857136434306,-0.17989398726623554,1.1314908404810518,-0.9236277429682401,0.5738678190716883,0.9864544801541595,0.32279219540734283,0.5885178288924707,0.5024994967413074,0.33207596909749637,0.6161296323145041,0.09859447753227293,-0.8227834082627532,0.28464354765094746,-0.947342488658302,-0.8548769790411005,1.0921015040745041,-0.6059906110102712,0.7134665644043366,0.2506753216842416,0.5704988886012403,-0.9001676759617967,1.5577514195590443,-0.8935476824587619,-1.643208970155166,0.9744088602730071,-0.29420623561316916,-0.5779436336856351,-1.3840170311282365,2.314676910076252,0.6415398505272547,-0.8002006468597685,0.6922191370110591,-1.0337120485296762,0.27265670125524993,-0.5797583333024258,0.5447513266398479,1.2410264787389498,-0.3170328105037755,0.9375460090151588,0.2879885443792549,-1.6938341411969675,-0.07472009167841874,0.5060026725044797,-0.8504009261137909,0.732510438788298,2.239796161013942,0.7692758256658025,-0.327999523823669,-0.0522999588114854,0.7404336785517659,1.006511440200384,-1.0954078070436444,-0.694419007954893,0.9170675514111376,0.2410176623597317,-1.1417311818412559,-2.036168540701319,-0.5852200554789933,-0.08187573553144036,-0.0108941525886899,0.5043090936377923,-0.009038725156449571,0.37521561129710973,0.5454233016591511,-1.2019374781761154,-1.2164146034848031,-1.5521771642600135,1.5260481075021362,0.7511200123355126,-1.201730403956396,2.2280888976822624,-0.15975558174063254,-0.21141327351955494,0.3060476425825168,-0.20791345635292988,0.9746962275768414,-0.3798940618161446,-1.2099430641956597,-0.07687618710847464,0.04855691969444076,1.6219188475758473,-2.1694340031988157,1.1071533539052,1.228055445210511,0.9847854355920682,-1.7122298669622624,-0.23909369014186913,0.9571627095229488,0.2050568135377792,-0.9270560083471667,0.974859311003513,0.37850037510517365,0.47070287060999044,0.8239361128145453,0.9503701842417043,0.3020754261820294,0.5335541974559987],\"yaxis\":\"y3\",\"type\":\"scatter\"},{\"line\":{\"color\":\"rgba(128, 128, 128, 1.0)\",\"dash\":\"solid\",\"shape\":\"linear\",\"width\":1.3},\"marker\":{\"size\":2,\"symbol\":\"circle\"},\"mode\":\"markers\",\"name\":\"A\",\"text\":\"\",\"x\":[0.2329180877485759,-0.779851055810576,-0.15682562020637367,-0.44798565785938754,-0.31328610636393045,1.009703250616094,1.690511529886859,-1.7727767351074708,-1.2898117645716012,-1.0598811055611714,-0.05995840406671184,0.35950289397366847,-0.6024925133706687,0.5616325192625717,-0.4077991936455839,-1.661665789770493,-0.19894131083362393,1.4848139496354045,-0.2187519979030449,0.014575982368184399,-0.670177309744851,-0.659774451183918,-0.19852388012201994,-0.33428900219866814,-0.5081847640018546,0.6727879848051744,-1.5095554860200469,-0.3195538761166854,-0.8382512667911439,0.12633735965166668,-0.37448278208313635,0.4313852701787521,-0.3576282497301914,-0.36714254820237824,1.2092150655441531,-0.3738733597435478,1.3908218125778182,0.9259595285339431,-1.2151942463833356,-1.7729149464046192,1.5236948417942808,0.9167358395734678,0.3789304814449219,-0.5762996507640142,0.7493142071893915,-0.9914982111223593,-0.8242908979667105,0.04244424498827081,0.3391159515427539,-1.8228026546752387,-1.0332861520597718,-0.214662965158623,0.3475373836788013,-0.0684429471666999,-1.068272700683441,0.10236365335036744,1.8088991737076445,0.18448770702484002,-0.006090338869984403,-0.6211910374135585,-0.5201526328367619,1.1555782431562285,-0.8961811434389672,-0.5937579695866875,-0.7710679156827561,-0.6786812472645407,-0.7466583486414361,0.04771858679514946,-0.7601310788064842,0.8281712042496281,-0.3042202438088885,1.0755294024994413,2.0596066996717686,0.9540488210633757,-0.5634964312547651,0.14932718269408285,2.120865529677368,1.5484005448822202,-0.8948512068816719,-0.5535728791239111,1.1659721530863791,-0.338269477198465,0.6662636529382033,-0.8386785671465247,-0.45016050483340514,1.9719608116281135,-1.125112777802077,-0.4565031806440209,-0.6082343672469854,0.523275011356581,-0.9590547408867666,1.073701314819291,-0.49048978185103653,0.8348546381818701,-0.002962248241787498,1.0307814201352343,0.20780899895915692,-0.4915456045196982,0.5783269322123842,2.295383481278133],\"xaxis\":\"x4\",\"y\":[-0.6912741429033772,2.6385271622920055,-0.7602857136434306,-0.17989398726623554,1.1314908404810518,-0.9236277429682401,0.5738678190716883,0.9864544801541595,0.32279219540734283,0.5885178288924707,0.5024994967413074,0.33207596909749637,0.6161296323145041,0.09859447753227293,-0.8227834082627532,0.28464354765094746,-0.947342488658302,-0.8548769790411005,1.0921015040745041,-0.6059906110102712,0.7134665644043366,0.2506753216842416,0.5704988886012403,-0.9001676759617967,1.5577514195590443,-0.8935476824587619,-1.643208970155166,0.9744088602730071,-0.29420623561316916,-0.5779436336856351,-1.3840170311282365,2.314676910076252,0.6415398505272547,-0.8002006468597685,0.6922191370110591,-1.0337120485296762,0.27265670125524993,-0.5797583333024258,0.5447513266398479,1.2410264787389498,-0.3170328105037755,0.9375460090151588,0.2879885443792549,-1.6938341411969675,-0.07472009167841874,0.5060026725044797,-0.8504009261137909,0.732510438788298,2.239796161013942,0.7692758256658025,-0.327999523823669,-0.0522999588114854,0.7404336785517659,1.006511440200384,-1.0954078070436444,-0.694419007954893,0.9170675514111376,0.2410176623597317,-1.1417311818412559,-2.036168540701319,-0.5852200554789933,-0.08187573553144036,-0.0108941525886899,0.5043090936377923,-0.009038725156449571,0.37521561129710973,0.5454233016591511,-1.2019374781761154,-1.2164146034848031,-1.5521771642600135,1.5260481075021362,0.7511200123355126,-1.201730403956396,2.2280888976822624,-0.15975558174063254,-0.21141327351955494,0.3060476425825168,-0.20791345635292988,0.9746962275768414,-0.3798940618161446,-1.2099430641956597,-0.07687618710847464,0.04855691969444076,1.6219188475758473,-2.1694340031988157,1.1071533539052,1.228055445210511,0.9847854355920682,-1.7122298669622624,-0.23909369014186913,0.9571627095229488,0.2050568135377792,-0.9270560083471667,0.974859311003513,0.37850037510517365,0.47070287060999044,0.8239361128145453,0.9503701842417043,0.3020754261820294,0.5335541974559987],\"yaxis\":\"y4\",\"type\":\"scatter\"},{\"line\":{\"color\":\"rgba(128, 128, 128, 1.0)\",\"dash\":\"solid\",\"shape\":\"linear\",\"width\":1.3},\"marker\":{\"size\":2,\"symbol\":\"circle\"},\"mode\":\"markers\",\"name\":\"B\",\"text\":\"\",\"x\":[-0.6912741429033772,2.6385271622920055,-0.7602857136434306,-0.17989398726623554,1.1314908404810518,-0.9236277429682401,0.5738678190716883,0.9864544801541595,0.32279219540734283,0.5885178288924707,0.5024994967413074,0.33207596909749637,0.6161296323145041,0.09859447753227293,-0.8227834082627532,0.28464354765094746,-0.947342488658302,-0.8548769790411005,1.0921015040745041,-0.6059906110102712,0.7134665644043366,0.2506753216842416,0.5704988886012403,-0.9001676759617967,1.5577514195590443,-0.8935476824587619,-1.643208970155166,0.9744088602730071,-0.29420623561316916,-0.5779436336856351,-1.3840170311282365,2.314676910076252,0.6415398505272547,-0.8002006468597685,0.6922191370110591,-1.0337120485296762,0.27265670125524993,-0.5797583333024258,0.5447513266398479,1.2410264787389498,-0.3170328105037755,0.9375460090151588,0.2879885443792549,-1.6938341411969675,-0.07472009167841874,0.5060026725044797,-0.8504009261137909,0.732510438788298,2.239796161013942,0.7692758256658025,-0.327999523823669,-0.0522999588114854,0.7404336785517659,1.006511440200384,-1.0954078070436444,-0.694419007954893,0.9170675514111376,0.2410176623597317,-1.1417311818412559,-2.036168540701319,-0.5852200554789933,-0.08187573553144036,-0.0108941525886899,0.5043090936377923,-0.009038725156449571,0.37521561129710973,0.5454233016591511,-1.2019374781761154,-1.2164146034848031,-1.5521771642600135,1.5260481075021362,0.7511200123355126,-1.201730403956396,2.2280888976822624,-0.15975558174063254,-0.21141327351955494,0.3060476425825168,-0.20791345635292988,0.9746962275768414,-0.3798940618161446,-1.2099430641956597,-0.07687618710847464,0.04855691969444076,1.6219188475758473,-2.1694340031988157,1.1071533539052,1.228055445210511,0.9847854355920682,-1.7122298669622624,-0.23909369014186913,0.9571627095229488,0.2050568135377792,-0.9270560083471667,0.974859311003513,0.37850037510517365,0.47070287060999044,0.8239361128145453,0.9503701842417043,0.3020754261820294,0.5335541974559987],\"xaxis\":\"x5\",\"y\":[-0.9399902999168411,-1.9423380705231792,0.4522164949791178,-1.4487787439238513,0.6801991481379681,-0.9371935088416633,-0.017229639492253413,-0.258876955937129,-1.0817046480966666,-0.6355540706675884,-0.5095868553778142,1.0783223972420422,0.1658907389286997,0.6321115178431862,-0.3158816940165806,1.1039231468906006,-0.49906935443041817,-0.6315137548742901,0.4726907486757533,0.2785663383433755,0.6756828406946835,-0.1937357330418802,0.5631093809666425,0.09076004610545052,-0.08080029963722939,-0.24121391840168532,-0.8838536665321517,-0.16955688742526506,0.5456960917581483,0.3461823440618255,0.8838886872681287,0.6007935651747616,-0.554952740896429,0.16087588010661694,0.7139512276978098,0.7836504954457244,-0.7468182950644572,-1.2852739351722766,-0.7377216443690595,0.7879482149641246,0.6888763990791642,2.0131037127401514,-0.9590282314305115,-0.08995759073683214,0.29072502929996125,1.6081002671179545,-0.11460765764050192,-1.187598726286891,0.9591573131300998,-1.0752516355918234,-0.13931574040481506,0.4015932029670253,0.15440121837917983,-0.38647080941415796,-1.3210927141383915,0.8642920456342552,0.6015658553512785,0.14569108608113243,0.6947284302526355,-0.7024617110754191,0.1651577477071164,-0.407736164353038,2.1840342297316826,-0.596291435423442,-1.8856920299159774,-0.3345990732118949,-1.7415128836734322,0.6112073340788858,1.7548265817244395,0.9293380526290771,-1.373294835797414,0.03127355648398631,0.4160208366523142,-0.11088801603936746,0.9221175098804136,-1.1576877119234141,-0.39813707295622613,-1.0592320235705353,0.37986665125962565,-0.5570483578397022,0.6777186339963158,-0.38644735124934115,-0.46445620006442506,-0.4250050264070511,1.0890493493481044,-1.4627988247249566,-0.470768139390512,-0.18899810886234358,0.4654101860415952,1.6779775844139893,-1.876317969649985,-0.1702025954803815,0.7386275124863215,-0.995687819654236,0.5688961016409643,0.003505412674648637,0.7707394956863137,0.25837287808466486,-1.3123051555731073,-0.14547432429903318],\"yaxis\":\"y5\",\"type\":\"scatter\"},{\"histfunc\":\"count\",\"histnorm\":\"\",\"marker\":{\"color\":\"rgba(55, 128, 191, 1.0)\",\"line\":{\"color\":\"#4D5663\",\"width\":1.3}},\"name\":\"B\",\"nbinsx\":10,\"opacity\":0.8,\"orientation\":\"v\",\"x\":[-0.9399902999168411,-1.9423380705231792,0.4522164949791178,-1.4487787439238513,0.6801991481379681,-0.9371935088416633,-0.017229639492253413,-0.258876955937129,-1.0817046480966666,-0.6355540706675884,-0.5095868553778142,1.0783223972420422,0.1658907389286997,0.6321115178431862,-0.3158816940165806,1.1039231468906006,-0.49906935443041817,-0.6315137548742901,0.4726907486757533,0.2785663383433755,0.6756828406946835,-0.1937357330418802,0.5631093809666425,0.09076004610545052,-0.08080029963722939,-0.24121391840168532,-0.8838536665321517,-0.16955688742526506,0.5456960917581483,0.3461823440618255,0.8838886872681287,0.6007935651747616,-0.554952740896429,0.16087588010661694,0.7139512276978098,0.7836504954457244,-0.7468182950644572,-1.2852739351722766,-0.7377216443690595,0.7879482149641246,0.6888763990791642,2.0131037127401514,-0.9590282314305115,-0.08995759073683214,0.29072502929996125,1.6081002671179545,-0.11460765764050192,-1.187598726286891,0.9591573131300998,-1.0752516355918234,-0.13931574040481506,0.4015932029670253,0.15440121837917983,-0.38647080941415796,-1.3210927141383915,0.8642920456342552,0.6015658553512785,0.14569108608113243,0.6947284302526355,-0.7024617110754191,0.1651577477071164,-0.407736164353038,2.1840342297316826,-0.596291435423442,-1.8856920299159774,-0.3345990732118949,-1.7415128836734322,0.6112073340788858,1.7548265817244395,0.9293380526290771,-1.373294835797414,0.03127355648398631,0.4160208366523142,-0.11088801603936746,0.9221175098804136,-1.1576877119234141,-0.39813707295622613,-1.0592320235705353,0.37986665125962565,-0.5570483578397022,0.6777186339963158,-0.38644735124934115,-0.46445620006442506,-0.4250050264070511,1.0890493493481044,-1.4627988247249566,-0.470768139390512,-0.18899810886234358,0.4654101860415952,1.6779775844139893,-1.876317969649985,-0.1702025954803815,0.7386275124863215,-0.995687819654236,0.5688961016409643,0.003505412674648637,0.7707394956863137,0.25837287808466486,-1.3123051555731073,-0.14547432429903318],\"xaxis\":\"x6\",\"yaxis\":\"y6\",\"type\":\"histogram\"},{\"line\":{\"color\":\"rgba(128, 128, 128, 1.0)\",\"dash\":\"solid\",\"shape\":\"linear\",\"width\":1.3},\"marker\":{\"size\":2,\"symbol\":\"circle\"},\"mode\":\"markers\",\"name\":\"B\",\"text\":\"\",\"x\":[-2.1868432802102773,-0.7250140419511258,-0.6913827612230679,0.04814664355985677,-0.2688168197666106,1.10971313648696,-0.6771329496928161,0.5260619113595164,0.049226185832037424,-2.012896157534608,-0.4782778769781722,0.46681896255807576,-0.9366436684435993,-0.3025726125323398,0.5366046480995682,0.3931718093006377,-0.7826703785528093,-0.5788198960628711,-0.6961068548743381,0.34041440049893834,0.4496610494223251,-0.28633727827967465,0.6037630528460217,0.7509338310040284,-1.0536232970283654,-1.8834070004092935,-0.218141841949026,-0.7634726767533443,0.268267950607665,-0.16541212991899704,0.712560943060834,-0.4631683253190213,0.8072864768418512,1.4538043579554563,0.6850129423545135,-0.6910418773802264,-0.8183486993360881,-0.963464304316495,1.1680409288637745,0.7485948742648829,-0.11773529201589432,1.170204622585392,1.4616737848284929,0.3167398941877916,-0.8343529561308559,1.1259989075148988,-0.15813832552433288,0.045890037768292445,-0.2453926220559531,-0.7035163255716897,0.4602750456413887,-1.4193356314795913,-0.9760304750681537,0.4379325718081307,0.12757322745774302,-0.28421704417432614,-1.1129398620348998,1.382523056665255,1.1325058761994478,1.589567467021451,0.5940511289021116,-0.4346313423659601,0.04003555131307455,-0.9659407770041554,0.6003559194676078,-1.8591787074276616,1.5529637948017165,-1.2523095244656894,0.3051767327838226,0.47121194936878663,0.9891933978078691,-0.20379515668636156,-0.8456925702915231,0.26574691398209277,0.3348203663967337,1.2132380685344786,-0.6156955586822158,-0.14443220317021072,0.40282161097393204,-0.6924508573035683,0.6328059445510126,-0.9584109636433588,0.06982925441407545,-0.6406368622400371,-1.2760905752272835,-0.18908764420038793,-0.908965845745114,1.218311234850609,-0.6749659299871115,-0.4051594201816622,1.313294626095533,-0.6838154253972283,-0.2865694769651911,-1.1757599785360122,1.9763003663416487,0.27643637305796076,-0.3744060218984946,-0.6709474868077607,1.2477324330421622,1.6530515466661837],\"xaxis\":\"x7\",\"y\":[-0.9399902999168411,-1.9423380705231792,0.4522164949791178,-1.4487787439238513,0.6801991481379681,-0.9371935088416633,-0.017229639492253413,-0.258876955937129,-1.0817046480966666,-0.6355540706675884,-0.5095868553778142,1.0783223972420422,0.1658907389286997,0.6321115178431862,-0.3158816940165806,1.1039231468906006,-0.49906935443041817,-0.6315137548742901,0.4726907486757533,0.2785663383433755,0.6756828406946835,-0.1937357330418802,0.5631093809666425,0.09076004610545052,-0.08080029963722939,-0.24121391840168532,-0.8838536665321517,-0.16955688742526506,0.5456960917581483,0.3461823440618255,0.8838886872681287,0.6007935651747616,-0.554952740896429,0.16087588010661694,0.7139512276978098,0.7836504954457244,-0.7468182950644572,-1.2852739351722766,-0.7377216443690595,0.7879482149641246,0.6888763990791642,2.0131037127401514,-0.9590282314305115,-0.08995759073683214,0.29072502929996125,1.6081002671179545,-0.11460765764050192,-1.187598726286891,0.9591573131300998,-1.0752516355918234,-0.13931574040481506,0.4015932029670253,0.15440121837917983,-0.38647080941415796,-1.3210927141383915,0.8642920456342552,0.6015658553512785,0.14569108608113243,0.6947284302526355,-0.7024617110754191,0.1651577477071164,-0.407736164353038,2.1840342297316826,-0.596291435423442,-1.8856920299159774,-0.3345990732118949,-1.7415128836734322,0.6112073340788858,1.7548265817244395,0.9293380526290771,-1.373294835797414,0.03127355648398631,0.4160208366523142,-0.11088801603936746,0.9221175098804136,-1.1576877119234141,-0.39813707295622613,-1.0592320235705353,0.37986665125962565,-0.5570483578397022,0.6777186339963158,-0.38644735124934115,-0.46445620006442506,-0.4250050264070511,1.0890493493481044,-1.4627988247249566,-0.470768139390512,-0.18899810886234358,0.4654101860415952,1.6779775844139893,-1.876317969649985,-0.1702025954803815,0.7386275124863215,-0.995687819654236,0.5688961016409643,0.003505412674648637,0.7707394956863137,0.25837287808466486,-1.3123051555731073,-0.14547432429903318],\"yaxis\":\"y7\",\"type\":\"scatter\"},{\"line\":{\"color\":\"rgba(128, 128, 128, 1.0)\",\"dash\":\"solid\",\"shape\":\"linear\",\"width\":1.3},\"marker\":{\"size\":2,\"symbol\":\"circle\"},\"mode\":\"markers\",\"name\":\"B\",\"text\":\"\",\"x\":[0.2329180877485759,-0.779851055810576,-0.15682562020637367,-0.44798565785938754,-0.31328610636393045,1.009703250616094,1.690511529886859,-1.7727767351074708,-1.2898117645716012,-1.0598811055611714,-0.05995840406671184,0.35950289397366847,-0.6024925133706687,0.5616325192625717,-0.4077991936455839,-1.661665789770493,-0.19894131083362393,1.4848139496354045,-0.2187519979030449,0.014575982368184399,-0.670177309744851,-0.659774451183918,-0.19852388012201994,-0.33428900219866814,-0.5081847640018546,0.6727879848051744,-1.5095554860200469,-0.3195538761166854,-0.8382512667911439,0.12633735965166668,-0.37448278208313635,0.4313852701787521,-0.3576282497301914,-0.36714254820237824,1.2092150655441531,-0.3738733597435478,1.3908218125778182,0.9259595285339431,-1.2151942463833356,-1.7729149464046192,1.5236948417942808,0.9167358395734678,0.3789304814449219,-0.5762996507640142,0.7493142071893915,-0.9914982111223593,-0.8242908979667105,0.04244424498827081,0.3391159515427539,-1.8228026546752387,-1.0332861520597718,-0.214662965158623,0.3475373836788013,-0.0684429471666999,-1.068272700683441,0.10236365335036744,1.8088991737076445,0.18448770702484002,-0.006090338869984403,-0.6211910374135585,-0.5201526328367619,1.1555782431562285,-0.8961811434389672,-0.5937579695866875,-0.7710679156827561,-0.6786812472645407,-0.7466583486414361,0.04771858679514946,-0.7601310788064842,0.8281712042496281,-0.3042202438088885,1.0755294024994413,2.0596066996717686,0.9540488210633757,-0.5634964312547651,0.14932718269408285,2.120865529677368,1.5484005448822202,-0.8948512068816719,-0.5535728791239111,1.1659721530863791,-0.338269477198465,0.6662636529382033,-0.8386785671465247,-0.45016050483340514,1.9719608116281135,-1.125112777802077,-0.4565031806440209,-0.6082343672469854,0.523275011356581,-0.9590547408867666,1.073701314819291,-0.49048978185103653,0.8348546381818701,-0.002962248241787498,1.0307814201352343,0.20780899895915692,-0.4915456045196982,0.5783269322123842,2.295383481278133],\"xaxis\":\"x8\",\"y\":[-0.9399902999168411,-1.9423380705231792,0.4522164949791178,-1.4487787439238513,0.6801991481379681,-0.9371935088416633,-0.017229639492253413,-0.258876955937129,-1.0817046480966666,-0.6355540706675884,-0.5095868553778142,1.0783223972420422,0.1658907389286997,0.6321115178431862,-0.3158816940165806,1.1039231468906006,-0.49906935443041817,-0.6315137548742901,0.4726907486757533,0.2785663383433755,0.6756828406946835,-0.1937357330418802,0.5631093809666425,0.09076004610545052,-0.08080029963722939,-0.24121391840168532,-0.8838536665321517,-0.16955688742526506,0.5456960917581483,0.3461823440618255,0.8838886872681287,0.6007935651747616,-0.554952740896429,0.16087588010661694,0.7139512276978098,0.7836504954457244,-0.7468182950644572,-1.2852739351722766,-0.7377216443690595,0.7879482149641246,0.6888763990791642,2.0131037127401514,-0.9590282314305115,-0.08995759073683214,0.29072502929996125,1.6081002671179545,-0.11460765764050192,-1.187598726286891,0.9591573131300998,-1.0752516355918234,-0.13931574040481506,0.4015932029670253,0.15440121837917983,-0.38647080941415796,-1.3210927141383915,0.8642920456342552,0.6015658553512785,0.14569108608113243,0.6947284302526355,-0.7024617110754191,0.1651577477071164,-0.407736164353038,2.1840342297316826,-0.596291435423442,-1.8856920299159774,-0.3345990732118949,-1.7415128836734322,0.6112073340788858,1.7548265817244395,0.9293380526290771,-1.373294835797414,0.03127355648398631,0.4160208366523142,-0.11088801603936746,0.9221175098804136,-1.1576877119234141,-0.39813707295622613,-1.0592320235705353,0.37986665125962565,-0.5570483578397022,0.6777186339963158,-0.38644735124934115,-0.46445620006442506,-0.4250050264070511,1.0890493493481044,-1.4627988247249566,-0.470768139390512,-0.18899810886234358,0.4654101860415952,1.6779775844139893,-1.876317969649985,-0.1702025954803815,0.7386275124863215,-0.995687819654236,0.5688961016409643,0.003505412674648637,0.7707394956863137,0.25837287808466486,-1.3123051555731073,-0.14547432429903318],\"yaxis\":\"y8\",\"type\":\"scatter\"},{\"line\":{\"color\":\"rgba(128, 128, 128, 1.0)\",\"dash\":\"solid\",\"shape\":\"linear\",\"width\":1.3},\"marker\":{\"size\":2,\"symbol\":\"circle\"},\"mode\":\"markers\",\"name\":\"C\",\"text\":\"\",\"x\":[-0.6912741429033772,2.6385271622920055,-0.7602857136434306,-0.17989398726623554,1.1314908404810518,-0.9236277429682401,0.5738678190716883,0.9864544801541595,0.32279219540734283,0.5885178288924707,0.5024994967413074,0.33207596909749637,0.6161296323145041,0.09859447753227293,-0.8227834082627532,0.28464354765094746,-0.947342488658302,-0.8548769790411005,1.0921015040745041,-0.6059906110102712,0.7134665644043366,0.2506753216842416,0.5704988886012403,-0.9001676759617967,1.5577514195590443,-0.8935476824587619,-1.643208970155166,0.9744088602730071,-0.29420623561316916,-0.5779436336856351,-1.3840170311282365,2.314676910076252,0.6415398505272547,-0.8002006468597685,0.6922191370110591,-1.0337120485296762,0.27265670125524993,-0.5797583333024258,0.5447513266398479,1.2410264787389498,-0.3170328105037755,0.9375460090151588,0.2879885443792549,-1.6938341411969675,-0.07472009167841874,0.5060026725044797,-0.8504009261137909,0.732510438788298,2.239796161013942,0.7692758256658025,-0.327999523823669,-0.0522999588114854,0.7404336785517659,1.006511440200384,-1.0954078070436444,-0.694419007954893,0.9170675514111376,0.2410176623597317,-1.1417311818412559,-2.036168540701319,-0.5852200554789933,-0.08187573553144036,-0.0108941525886899,0.5043090936377923,-0.009038725156449571,0.37521561129710973,0.5454233016591511,-1.2019374781761154,-1.2164146034848031,-1.5521771642600135,1.5260481075021362,0.7511200123355126,-1.201730403956396,2.2280888976822624,-0.15975558174063254,-0.21141327351955494,0.3060476425825168,-0.20791345635292988,0.9746962275768414,-0.3798940618161446,-1.2099430641956597,-0.07687618710847464,0.04855691969444076,1.6219188475758473,-2.1694340031988157,1.1071533539052,1.228055445210511,0.9847854355920682,-1.7122298669622624,-0.23909369014186913,0.9571627095229488,0.2050568135377792,-0.9270560083471667,0.974859311003513,0.37850037510517365,0.47070287060999044,0.8239361128145453,0.9503701842417043,0.3020754261820294,0.5335541974559987],\"xaxis\":\"x9\",\"y\":[-2.1868432802102773,-0.7250140419511258,-0.6913827612230679,0.04814664355985677,-0.2688168197666106,1.10971313648696,-0.6771329496928161,0.5260619113595164,0.049226185832037424,-2.012896157534608,-0.4782778769781722,0.46681896255807576,-0.9366436684435993,-0.3025726125323398,0.5366046480995682,0.3931718093006377,-0.7826703785528093,-0.5788198960628711,-0.6961068548743381,0.34041440049893834,0.4496610494223251,-0.28633727827967465,0.6037630528460217,0.7509338310040284,-1.0536232970283654,-1.8834070004092935,-0.218141841949026,-0.7634726767533443,0.268267950607665,-0.16541212991899704,0.712560943060834,-0.4631683253190213,0.8072864768418512,1.4538043579554563,0.6850129423545135,-0.6910418773802264,-0.8183486993360881,-0.963464304316495,1.1680409288637745,0.7485948742648829,-0.11773529201589432,1.170204622585392,1.4616737848284929,0.3167398941877916,-0.8343529561308559,1.1259989075148988,-0.15813832552433288,0.045890037768292445,-0.2453926220559531,-0.7035163255716897,0.4602750456413887,-1.4193356314795913,-0.9760304750681537,0.4379325718081307,0.12757322745774302,-0.28421704417432614,-1.1129398620348998,1.382523056665255,1.1325058761994478,1.589567467021451,0.5940511289021116,-0.4346313423659601,0.04003555131307455,-0.9659407770041554,0.6003559194676078,-1.8591787074276616,1.5529637948017165,-1.2523095244656894,0.3051767327838226,0.47121194936878663,0.9891933978078691,-0.20379515668636156,-0.8456925702915231,0.26574691398209277,0.3348203663967337,1.2132380685344786,-0.6156955586822158,-0.14443220317021072,0.40282161097393204,-0.6924508573035683,0.6328059445510126,-0.9584109636433588,0.06982925441407545,-0.6406368622400371,-1.2760905752272835,-0.18908764420038793,-0.908965845745114,1.218311234850609,-0.6749659299871115,-0.4051594201816622,1.313294626095533,-0.6838154253972283,-0.2865694769651911,-1.1757599785360122,1.9763003663416487,0.27643637305796076,-0.3744060218984946,-0.6709474868077607,1.2477324330421622,1.6530515466661837],\"yaxis\":\"y9\",\"type\":\"scatter\"},{\"line\":{\"color\":\"rgba(128, 128, 128, 1.0)\",\"dash\":\"solid\",\"shape\":\"linear\",\"width\":1.3},\"marker\":{\"size\":2,\"symbol\":\"circle\"},\"mode\":\"markers\",\"name\":\"C\",\"text\":\"\",\"x\":[-0.9399902999168411,-1.9423380705231792,0.4522164949791178,-1.4487787439238513,0.6801991481379681,-0.9371935088416633,-0.017229639492253413,-0.258876955937129,-1.0817046480966666,-0.6355540706675884,-0.5095868553778142,1.0783223972420422,0.1658907389286997,0.6321115178431862,-0.3158816940165806,1.1039231468906006,-0.49906935443041817,-0.6315137548742901,0.4726907486757533,0.2785663383433755,0.6756828406946835,-0.1937357330418802,0.5631093809666425,0.09076004610545052,-0.08080029963722939,-0.24121391840168532,-0.8838536665321517,-0.16955688742526506,0.5456960917581483,0.3461823440618255,0.8838886872681287,0.6007935651747616,-0.554952740896429,0.16087588010661694,0.7139512276978098,0.7836504954457244,-0.7468182950644572,-1.2852739351722766,-0.7377216443690595,0.7879482149641246,0.6888763990791642,2.0131037127401514,-0.9590282314305115,-0.08995759073683214,0.29072502929996125,1.6081002671179545,-0.11460765764050192,-1.187598726286891,0.9591573131300998,-1.0752516355918234,-0.13931574040481506,0.4015932029670253,0.15440121837917983,-0.38647080941415796,-1.3210927141383915,0.8642920456342552,0.6015658553512785,0.14569108608113243,0.6947284302526355,-0.7024617110754191,0.1651577477071164,-0.407736164353038,2.1840342297316826,-0.596291435423442,-1.8856920299159774,-0.3345990732118949,-1.7415128836734322,0.6112073340788858,1.7548265817244395,0.9293380526290771,-1.373294835797414,0.03127355648398631,0.4160208366523142,-0.11088801603936746,0.9221175098804136,-1.1576877119234141,-0.39813707295622613,-1.0592320235705353,0.37986665125962565,-0.5570483578397022,0.6777186339963158,-0.38644735124934115,-0.46445620006442506,-0.4250050264070511,1.0890493493481044,-1.4627988247249566,-0.470768139390512,-0.18899810886234358,0.4654101860415952,1.6779775844139893,-1.876317969649985,-0.1702025954803815,0.7386275124863215,-0.995687819654236,0.5688961016409643,0.003505412674648637,0.7707394956863137,0.25837287808466486,-1.3123051555731073,-0.14547432429903318],\"xaxis\":\"x10\",\"y\":[-2.1868432802102773,-0.7250140419511258,-0.6913827612230679,0.04814664355985677,-0.2688168197666106,1.10971313648696,-0.6771329496928161,0.5260619113595164,0.049226185832037424,-2.012896157534608,-0.4782778769781722,0.46681896255807576,-0.9366436684435993,-0.3025726125323398,0.5366046480995682,0.3931718093006377,-0.7826703785528093,-0.5788198960628711,-0.6961068548743381,0.34041440049893834,0.4496610494223251,-0.28633727827967465,0.6037630528460217,0.7509338310040284,-1.0536232970283654,-1.8834070004092935,-0.218141841949026,-0.7634726767533443,0.268267950607665,-0.16541212991899704,0.712560943060834,-0.4631683253190213,0.8072864768418512,1.4538043579554563,0.6850129423545135,-0.6910418773802264,-0.8183486993360881,-0.963464304316495,1.1680409288637745,0.7485948742648829,-0.11773529201589432,1.170204622585392,1.4616737848284929,0.3167398941877916,-0.8343529561308559,1.1259989075148988,-0.15813832552433288,0.045890037768292445,-0.2453926220559531,-0.7035163255716897,0.4602750456413887,-1.4193356314795913,-0.9760304750681537,0.4379325718081307,0.12757322745774302,-0.28421704417432614,-1.1129398620348998,1.382523056665255,1.1325058761994478,1.589567467021451,0.5940511289021116,-0.4346313423659601,0.04003555131307455,-0.9659407770041554,0.6003559194676078,-1.8591787074276616,1.5529637948017165,-1.2523095244656894,0.3051767327838226,0.47121194936878663,0.9891933978078691,-0.20379515668636156,-0.8456925702915231,0.26574691398209277,0.3348203663967337,1.2132380685344786,-0.6156955586822158,-0.14443220317021072,0.40282161097393204,-0.6924508573035683,0.6328059445510126,-0.9584109636433588,0.06982925441407545,-0.6406368622400371,-1.2760905752272835,-0.18908764420038793,-0.908965845745114,1.218311234850609,-0.6749659299871115,-0.4051594201816622,1.313294626095533,-0.6838154253972283,-0.2865694769651911,-1.1757599785360122,1.9763003663416487,0.27643637305796076,-0.3744060218984946,-0.6709474868077607,1.2477324330421622,1.6530515466661837],\"yaxis\":\"y10\",\"type\":\"scatter\"},{\"histfunc\":\"count\",\"histnorm\":\"\",\"marker\":{\"color\":\"rgba(50, 171, 96, 1.0)\",\"line\":{\"color\":\"#4D5663\",\"width\":1.3}},\"name\":\"C\",\"nbinsx\":10,\"opacity\":0.8,\"orientation\":\"v\",\"x\":[-2.1868432802102773,-0.7250140419511258,-0.6913827612230679,0.04814664355985677,-0.2688168197666106,1.10971313648696,-0.6771329496928161,0.5260619113595164,0.049226185832037424,-2.012896157534608,-0.4782778769781722,0.46681896255807576,-0.9366436684435993,-0.3025726125323398,0.5366046480995682,0.3931718093006377,-0.7826703785528093,-0.5788198960628711,-0.6961068548743381,0.34041440049893834,0.4496610494223251,-0.28633727827967465,0.6037630528460217,0.7509338310040284,-1.0536232970283654,-1.8834070004092935,-0.218141841949026,-0.7634726767533443,0.268267950607665,-0.16541212991899704,0.712560943060834,-0.4631683253190213,0.8072864768418512,1.4538043579554563,0.6850129423545135,-0.6910418773802264,-0.8183486993360881,-0.963464304316495,1.1680409288637745,0.7485948742648829,-0.11773529201589432,1.170204622585392,1.4616737848284929,0.3167398941877916,-0.8343529561308559,1.1259989075148988,-0.15813832552433288,0.045890037768292445,-0.2453926220559531,-0.7035163255716897,0.4602750456413887,-1.4193356314795913,-0.9760304750681537,0.4379325718081307,0.12757322745774302,-0.28421704417432614,-1.1129398620348998,1.382523056665255,1.1325058761994478,1.589567467021451,0.5940511289021116,-0.4346313423659601,0.04003555131307455,-0.9659407770041554,0.6003559194676078,-1.8591787074276616,1.5529637948017165,-1.2523095244656894,0.3051767327838226,0.47121194936878663,0.9891933978078691,-0.20379515668636156,-0.8456925702915231,0.26574691398209277,0.3348203663967337,1.2132380685344786,-0.6156955586822158,-0.14443220317021072,0.40282161097393204,-0.6924508573035683,0.6328059445510126,-0.9584109636433588,0.06982925441407545,-0.6406368622400371,-1.2760905752272835,-0.18908764420038793,-0.908965845745114,1.218311234850609,-0.6749659299871115,-0.4051594201816622,1.313294626095533,-0.6838154253972283,-0.2865694769651911,-1.1757599785360122,1.9763003663416487,0.27643637305796076,-0.3744060218984946,-0.6709474868077607,1.2477324330421622,1.6530515466661837],\"xaxis\":\"x11\",\"yaxis\":\"y11\",\"type\":\"histogram\"},{\"line\":{\"color\":\"rgba(128, 128, 128, 1.0)\",\"dash\":\"solid\",\"shape\":\"linear\",\"width\":1.3},\"marker\":{\"size\":2,\"symbol\":\"circle\"},\"mode\":\"markers\",\"name\":\"C\",\"text\":\"\",\"x\":[0.2329180877485759,-0.779851055810576,-0.15682562020637367,-0.44798565785938754,-0.31328610636393045,1.009703250616094,1.690511529886859,-1.7727767351074708,-1.2898117645716012,-1.0598811055611714,-0.05995840406671184,0.35950289397366847,-0.6024925133706687,0.5616325192625717,-0.4077991936455839,-1.661665789770493,-0.19894131083362393,1.4848139496354045,-0.2187519979030449,0.014575982368184399,-0.670177309744851,-0.659774451183918,-0.19852388012201994,-0.33428900219866814,-0.5081847640018546,0.6727879848051744,-1.5095554860200469,-0.3195538761166854,-0.8382512667911439,0.12633735965166668,-0.37448278208313635,0.4313852701787521,-0.3576282497301914,-0.36714254820237824,1.2092150655441531,-0.3738733597435478,1.3908218125778182,0.9259595285339431,-1.2151942463833356,-1.7729149464046192,1.5236948417942808,0.9167358395734678,0.3789304814449219,-0.5762996507640142,0.7493142071893915,-0.9914982111223593,-0.8242908979667105,0.04244424498827081,0.3391159515427539,-1.8228026546752387,-1.0332861520597718,-0.214662965158623,0.3475373836788013,-0.0684429471666999,-1.068272700683441,0.10236365335036744,1.8088991737076445,0.18448770702484002,-0.006090338869984403,-0.6211910374135585,-0.5201526328367619,1.1555782431562285,-0.8961811434389672,-0.5937579695866875,-0.7710679156827561,-0.6786812472645407,-0.7466583486414361,0.04771858679514946,-0.7601310788064842,0.8281712042496281,-0.3042202438088885,1.0755294024994413,2.0596066996717686,0.9540488210633757,-0.5634964312547651,0.14932718269408285,2.120865529677368,1.5484005448822202,-0.8948512068816719,-0.5535728791239111,1.1659721530863791,-0.338269477198465,0.6662636529382033,-0.8386785671465247,-0.45016050483340514,1.9719608116281135,-1.125112777802077,-0.4565031806440209,-0.6082343672469854,0.523275011356581,-0.9590547408867666,1.073701314819291,-0.49048978185103653,0.8348546381818701,-0.002962248241787498,1.0307814201352343,0.20780899895915692,-0.4915456045196982,0.5783269322123842,2.295383481278133],\"xaxis\":\"x12\",\"y\":[-2.1868432802102773,-0.7250140419511258,-0.6913827612230679,0.04814664355985677,-0.2688168197666106,1.10971313648696,-0.6771329496928161,0.5260619113595164,0.049226185832037424,-2.012896157534608,-0.4782778769781722,0.46681896255807576,-0.9366436684435993,-0.3025726125323398,0.5366046480995682,0.3931718093006377,-0.7826703785528093,-0.5788198960628711,-0.6961068548743381,0.34041440049893834,0.4496610494223251,-0.28633727827967465,0.6037630528460217,0.7509338310040284,-1.0536232970283654,-1.8834070004092935,-0.218141841949026,-0.7634726767533443,0.268267950607665,-0.16541212991899704,0.712560943060834,-0.4631683253190213,0.8072864768418512,1.4538043579554563,0.6850129423545135,-0.6910418773802264,-0.8183486993360881,-0.963464304316495,1.1680409288637745,0.7485948742648829,-0.11773529201589432,1.170204622585392,1.4616737848284929,0.3167398941877916,-0.8343529561308559,1.1259989075148988,-0.15813832552433288,0.045890037768292445,-0.2453926220559531,-0.7035163255716897,0.4602750456413887,-1.4193356314795913,-0.9760304750681537,0.4379325718081307,0.12757322745774302,-0.28421704417432614,-1.1129398620348998,1.382523056665255,1.1325058761994478,1.589567467021451,0.5940511289021116,-0.4346313423659601,0.04003555131307455,-0.9659407770041554,0.6003559194676078,-1.8591787074276616,1.5529637948017165,-1.2523095244656894,0.3051767327838226,0.47121194936878663,0.9891933978078691,-0.20379515668636156,-0.8456925702915231,0.26574691398209277,0.3348203663967337,1.2132380685344786,-0.6156955586822158,-0.14443220317021072,0.40282161097393204,-0.6924508573035683,0.6328059445510126,-0.9584109636433588,0.06982925441407545,-0.6406368622400371,-1.2760905752272835,-0.18908764420038793,-0.908965845745114,1.218311234850609,-0.6749659299871115,-0.4051594201816622,1.313294626095533,-0.6838154253972283,-0.2865694769651911,-1.1757599785360122,1.9763003663416487,0.27643637305796076,-0.3744060218984946,-0.6709474868077607,1.2477324330421622,1.6530515466661837],\"yaxis\":\"y12\",\"type\":\"scatter\"},{\"line\":{\"color\":\"rgba(128, 128, 128, 1.0)\",\"dash\":\"solid\",\"shape\":\"linear\",\"width\":1.3},\"marker\":{\"size\":2,\"symbol\":\"circle\"},\"mode\":\"markers\",\"name\":\"d\",\"text\":\"\",\"x\":[-0.6912741429033772,2.6385271622920055,-0.7602857136434306,-0.17989398726623554,1.1314908404810518,-0.9236277429682401,0.5738678190716883,0.9864544801541595,0.32279219540734283,0.5885178288924707,0.5024994967413074,0.33207596909749637,0.6161296323145041,0.09859447753227293,-0.8227834082627532,0.28464354765094746,-0.947342488658302,-0.8548769790411005,1.0921015040745041,-0.6059906110102712,0.7134665644043366,0.2506753216842416,0.5704988886012403,-0.9001676759617967,1.5577514195590443,-0.8935476824587619,-1.643208970155166,0.9744088602730071,-0.29420623561316916,-0.5779436336856351,-1.3840170311282365,2.314676910076252,0.6415398505272547,-0.8002006468597685,0.6922191370110591,-1.0337120485296762,0.27265670125524993,-0.5797583333024258,0.5447513266398479,1.2410264787389498,-0.3170328105037755,0.9375460090151588,0.2879885443792549,-1.6938341411969675,-0.07472009167841874,0.5060026725044797,-0.8504009261137909,0.732510438788298,2.239796161013942,0.7692758256658025,-0.327999523823669,-0.0522999588114854,0.7404336785517659,1.006511440200384,-1.0954078070436444,-0.694419007954893,0.9170675514111376,0.2410176623597317,-1.1417311818412559,-2.036168540701319,-0.5852200554789933,-0.08187573553144036,-0.0108941525886899,0.5043090936377923,-0.009038725156449571,0.37521561129710973,0.5454233016591511,-1.2019374781761154,-1.2164146034848031,-1.5521771642600135,1.5260481075021362,0.7511200123355126,-1.201730403956396,2.2280888976822624,-0.15975558174063254,-0.21141327351955494,0.3060476425825168,-0.20791345635292988,0.9746962275768414,-0.3798940618161446,-1.2099430641956597,-0.07687618710847464,0.04855691969444076,1.6219188475758473,-2.1694340031988157,1.1071533539052,1.228055445210511,0.9847854355920682,-1.7122298669622624,-0.23909369014186913,0.9571627095229488,0.2050568135377792,-0.9270560083471667,0.974859311003513,0.37850037510517365,0.47070287060999044,0.8239361128145453,0.9503701842417043,0.3020754261820294,0.5335541974559987],\"xaxis\":\"x13\",\"y\":[0.2329180877485759,-0.779851055810576,-0.15682562020637367,-0.44798565785938754,-0.31328610636393045,1.009703250616094,1.690511529886859,-1.7727767351074708,-1.2898117645716012,-1.0598811055611714,-0.05995840406671184,0.35950289397366847,-0.6024925133706687,0.5616325192625717,-0.4077991936455839,-1.661665789770493,-0.19894131083362393,1.4848139496354045,-0.2187519979030449,0.014575982368184399,-0.670177309744851,-0.659774451183918,-0.19852388012201994,-0.33428900219866814,-0.5081847640018546,0.6727879848051744,-1.5095554860200469,-0.3195538761166854,-0.8382512667911439,0.12633735965166668,-0.37448278208313635,0.4313852701787521,-0.3576282497301914,-0.36714254820237824,1.2092150655441531,-0.3738733597435478,1.3908218125778182,0.9259595285339431,-1.2151942463833356,-1.7729149464046192,1.5236948417942808,0.9167358395734678,0.3789304814449219,-0.5762996507640142,0.7493142071893915,-0.9914982111223593,-0.8242908979667105,0.04244424498827081,0.3391159515427539,-1.8228026546752387,-1.0332861520597718,-0.214662965158623,0.3475373836788013,-0.0684429471666999,-1.068272700683441,0.10236365335036744,1.8088991737076445,0.18448770702484002,-0.006090338869984403,-0.6211910374135585,-0.5201526328367619,1.1555782431562285,-0.8961811434389672,-0.5937579695866875,-0.7710679156827561,-0.6786812472645407,-0.7466583486414361,0.04771858679514946,-0.7601310788064842,0.8281712042496281,-0.3042202438088885,1.0755294024994413,2.0596066996717686,0.9540488210633757,-0.5634964312547651,0.14932718269408285,2.120865529677368,1.5484005448822202,-0.8948512068816719,-0.5535728791239111,1.1659721530863791,-0.338269477198465,0.6662636529382033,-0.8386785671465247,-0.45016050483340514,1.9719608116281135,-1.125112777802077,-0.4565031806440209,-0.6082343672469854,0.523275011356581,-0.9590547408867666,1.073701314819291,-0.49048978185103653,0.8348546381818701,-0.002962248241787498,1.0307814201352343,0.20780899895915692,-0.4915456045196982,0.5783269322123842,2.295383481278133],\"yaxis\":\"y13\",\"type\":\"scatter\"},{\"line\":{\"color\":\"rgba(128, 128, 128, 1.0)\",\"dash\":\"solid\",\"shape\":\"linear\",\"width\":1.3},\"marker\":{\"size\":2,\"symbol\":\"circle\"},\"mode\":\"markers\",\"name\":\"d\",\"text\":\"\",\"x\":[-0.9399902999168411,-1.9423380705231792,0.4522164949791178,-1.4487787439238513,0.6801991481379681,-0.9371935088416633,-0.017229639492253413,-0.258876955937129,-1.0817046480966666,-0.6355540706675884,-0.5095868553778142,1.0783223972420422,0.1658907389286997,0.6321115178431862,-0.3158816940165806,1.1039231468906006,-0.49906935443041817,-0.6315137548742901,0.4726907486757533,0.2785663383433755,0.6756828406946835,-0.1937357330418802,0.5631093809666425,0.09076004610545052,-0.08080029963722939,-0.24121391840168532,-0.8838536665321517,-0.16955688742526506,0.5456960917581483,0.3461823440618255,0.8838886872681287,0.6007935651747616,-0.554952740896429,0.16087588010661694,0.7139512276978098,0.7836504954457244,-0.7468182950644572,-1.2852739351722766,-0.7377216443690595,0.7879482149641246,0.6888763990791642,2.0131037127401514,-0.9590282314305115,-0.08995759073683214,0.29072502929996125,1.6081002671179545,-0.11460765764050192,-1.187598726286891,0.9591573131300998,-1.0752516355918234,-0.13931574040481506,0.4015932029670253,0.15440121837917983,-0.38647080941415796,-1.3210927141383915,0.8642920456342552,0.6015658553512785,0.14569108608113243,0.6947284302526355,-0.7024617110754191,0.1651577477071164,-0.407736164353038,2.1840342297316826,-0.596291435423442,-1.8856920299159774,-0.3345990732118949,-1.7415128836734322,0.6112073340788858,1.7548265817244395,0.9293380526290771,-1.373294835797414,0.03127355648398631,0.4160208366523142,-0.11088801603936746,0.9221175098804136,-1.1576877119234141,-0.39813707295622613,-1.0592320235705353,0.37986665125962565,-0.5570483578397022,0.6777186339963158,-0.38644735124934115,-0.46445620006442506,-0.4250050264070511,1.0890493493481044,-1.4627988247249566,-0.470768139390512,-0.18899810886234358,0.4654101860415952,1.6779775844139893,-1.876317969649985,-0.1702025954803815,0.7386275124863215,-0.995687819654236,0.5688961016409643,0.003505412674648637,0.7707394956863137,0.25837287808466486,-1.3123051555731073,-0.14547432429903318],\"xaxis\":\"x14\",\"y\":[0.2329180877485759,-0.779851055810576,-0.15682562020637367,-0.44798565785938754,-0.31328610636393045,1.009703250616094,1.690511529886859,-1.7727767351074708,-1.2898117645716012,-1.0598811055611714,-0.05995840406671184,0.35950289397366847,-0.6024925133706687,0.5616325192625717,-0.4077991936455839,-1.661665789770493,-0.19894131083362393,1.4848139496354045,-0.2187519979030449,0.014575982368184399,-0.670177309744851,-0.659774451183918,-0.19852388012201994,-0.33428900219866814,-0.5081847640018546,0.6727879848051744,-1.5095554860200469,-0.3195538761166854,-0.8382512667911439,0.12633735965166668,-0.37448278208313635,0.4313852701787521,-0.3576282497301914,-0.36714254820237824,1.2092150655441531,-0.3738733597435478,1.3908218125778182,0.9259595285339431,-1.2151942463833356,-1.7729149464046192,1.5236948417942808,0.9167358395734678,0.3789304814449219,-0.5762996507640142,0.7493142071893915,-0.9914982111223593,-0.8242908979667105,0.04244424498827081,0.3391159515427539,-1.8228026546752387,-1.0332861520597718,-0.214662965158623,0.3475373836788013,-0.0684429471666999,-1.068272700683441,0.10236365335036744,1.8088991737076445,0.18448770702484002,-0.006090338869984403,-0.6211910374135585,-0.5201526328367619,1.1555782431562285,-0.8961811434389672,-0.5937579695866875,-0.7710679156827561,-0.6786812472645407,-0.7466583486414361,0.04771858679514946,-0.7601310788064842,0.8281712042496281,-0.3042202438088885,1.0755294024994413,2.0596066996717686,0.9540488210633757,-0.5634964312547651,0.14932718269408285,2.120865529677368,1.5484005448822202,-0.8948512068816719,-0.5535728791239111,1.1659721530863791,-0.338269477198465,0.6662636529382033,-0.8386785671465247,-0.45016050483340514,1.9719608116281135,-1.125112777802077,-0.4565031806440209,-0.6082343672469854,0.523275011356581,-0.9590547408867666,1.073701314819291,-0.49048978185103653,0.8348546381818701,-0.002962248241787498,1.0307814201352343,0.20780899895915692,-0.4915456045196982,0.5783269322123842,2.295383481278133],\"yaxis\":\"y14\",\"type\":\"scatter\"},{\"line\":{\"color\":\"rgba(128, 128, 128, 1.0)\",\"dash\":\"solid\",\"shape\":\"linear\",\"width\":1.3},\"marker\":{\"size\":2,\"symbol\":\"circle\"},\"mode\":\"markers\",\"name\":\"d\",\"text\":\"\",\"x\":[-2.1868432802102773,-0.7250140419511258,-0.6913827612230679,0.04814664355985677,-0.2688168197666106,1.10971313648696,-0.6771329496928161,0.5260619113595164,0.049226185832037424,-2.012896157534608,-0.4782778769781722,0.46681896255807576,-0.9366436684435993,-0.3025726125323398,0.5366046480995682,0.3931718093006377,-0.7826703785528093,-0.5788198960628711,-0.6961068548743381,0.34041440049893834,0.4496610494223251,-0.28633727827967465,0.6037630528460217,0.7509338310040284,-1.0536232970283654,-1.8834070004092935,-0.218141841949026,-0.7634726767533443,0.268267950607665,-0.16541212991899704,0.712560943060834,-0.4631683253190213,0.8072864768418512,1.4538043579554563,0.6850129423545135,-0.6910418773802264,-0.8183486993360881,-0.963464304316495,1.1680409288637745,0.7485948742648829,-0.11773529201589432,1.170204622585392,1.4616737848284929,0.3167398941877916,-0.8343529561308559,1.1259989075148988,-0.15813832552433288,0.045890037768292445,-0.2453926220559531,-0.7035163255716897,0.4602750456413887,-1.4193356314795913,-0.9760304750681537,0.4379325718081307,0.12757322745774302,-0.28421704417432614,-1.1129398620348998,1.382523056665255,1.1325058761994478,1.589567467021451,0.5940511289021116,-0.4346313423659601,0.04003555131307455,-0.9659407770041554,0.6003559194676078,-1.8591787074276616,1.5529637948017165,-1.2523095244656894,0.3051767327838226,0.47121194936878663,0.9891933978078691,-0.20379515668636156,-0.8456925702915231,0.26574691398209277,0.3348203663967337,1.2132380685344786,-0.6156955586822158,-0.14443220317021072,0.40282161097393204,-0.6924508573035683,0.6328059445510126,-0.9584109636433588,0.06982925441407545,-0.6406368622400371,-1.2760905752272835,-0.18908764420038793,-0.908965845745114,1.218311234850609,-0.6749659299871115,-0.4051594201816622,1.313294626095533,-0.6838154253972283,-0.2865694769651911,-1.1757599785360122,1.9763003663416487,0.27643637305796076,-0.3744060218984946,-0.6709474868077607,1.2477324330421622,1.6530515466661837],\"xaxis\":\"x15\",\"y\":[0.2329180877485759,-0.779851055810576,-0.15682562020637367,-0.44798565785938754,-0.31328610636393045,1.009703250616094,1.690511529886859,-1.7727767351074708,-1.2898117645716012,-1.0598811055611714,-0.05995840406671184,0.35950289397366847,-0.6024925133706687,0.5616325192625717,-0.4077991936455839,-1.661665789770493,-0.19894131083362393,1.4848139496354045,-0.2187519979030449,0.014575982368184399,-0.670177309744851,-0.659774451183918,-0.19852388012201994,-0.33428900219866814,-0.5081847640018546,0.6727879848051744,-1.5095554860200469,-0.3195538761166854,-0.8382512667911439,0.12633735965166668,-0.37448278208313635,0.4313852701787521,-0.3576282497301914,-0.36714254820237824,1.2092150655441531,-0.3738733597435478,1.3908218125778182,0.9259595285339431,-1.2151942463833356,-1.7729149464046192,1.5236948417942808,0.9167358395734678,0.3789304814449219,-0.5762996507640142,0.7493142071893915,-0.9914982111223593,-0.8242908979667105,0.04244424498827081,0.3391159515427539,-1.8228026546752387,-1.0332861520597718,-0.214662965158623,0.3475373836788013,-0.0684429471666999,-1.068272700683441,0.10236365335036744,1.8088991737076445,0.18448770702484002,-0.006090338869984403,-0.6211910374135585,-0.5201526328367619,1.1555782431562285,-0.8961811434389672,-0.5937579695866875,-0.7710679156827561,-0.6786812472645407,-0.7466583486414361,0.04771858679514946,-0.7601310788064842,0.8281712042496281,-0.3042202438088885,1.0755294024994413,2.0596066996717686,0.9540488210633757,-0.5634964312547651,0.14932718269408285,2.120865529677368,1.5484005448822202,-0.8948512068816719,-0.5535728791239111,1.1659721530863791,-0.338269477198465,0.6662636529382033,-0.8386785671465247,-0.45016050483340514,1.9719608116281135,-1.125112777802077,-0.4565031806440209,-0.6082343672469854,0.523275011356581,-0.9590547408867666,1.073701314819291,-0.49048978185103653,0.8348546381818701,-0.002962248241787498,1.0307814201352343,0.20780899895915692,-0.4915456045196982,0.5783269322123842,2.295383481278133],\"yaxis\":\"y15\",\"type\":\"scatter\"},{\"histfunc\":\"count\",\"histnorm\":\"\",\"marker\":{\"color\":\"rgba(128, 0, 128, 1.0)\",\"line\":{\"color\":\"#4D5663\",\"width\":1.3}},\"name\":\"d\",\"nbinsx\":10,\"opacity\":0.8,\"orientation\":\"v\",\"x\":[0.2329180877485759,-0.779851055810576,-0.15682562020637367,-0.44798565785938754,-0.31328610636393045,1.009703250616094,1.690511529886859,-1.7727767351074708,-1.2898117645716012,-1.0598811055611714,-0.05995840406671184,0.35950289397366847,-0.6024925133706687,0.5616325192625717,-0.4077991936455839,-1.661665789770493,-0.19894131083362393,1.4848139496354045,-0.2187519979030449,0.014575982368184399,-0.670177309744851,-0.659774451183918,-0.19852388012201994,-0.33428900219866814,-0.5081847640018546,0.6727879848051744,-1.5095554860200469,-0.3195538761166854,-0.8382512667911439,0.12633735965166668,-0.37448278208313635,0.4313852701787521,-0.3576282497301914,-0.36714254820237824,1.2092150655441531,-0.3738733597435478,1.3908218125778182,0.9259595285339431,-1.2151942463833356,-1.7729149464046192,1.5236948417942808,0.9167358395734678,0.3789304814449219,-0.5762996507640142,0.7493142071893915,-0.9914982111223593,-0.8242908979667105,0.04244424498827081,0.3391159515427539,-1.8228026546752387,-1.0332861520597718,-0.214662965158623,0.3475373836788013,-0.0684429471666999,-1.068272700683441,0.10236365335036744,1.8088991737076445,0.18448770702484002,-0.006090338869984403,-0.6211910374135585,-0.5201526328367619,1.1555782431562285,-0.8961811434389672,-0.5937579695866875,-0.7710679156827561,-0.6786812472645407,-0.7466583486414361,0.04771858679514946,-0.7601310788064842,0.8281712042496281,-0.3042202438088885,1.0755294024994413,2.0596066996717686,0.9540488210633757,-0.5634964312547651,0.14932718269408285,2.120865529677368,1.5484005448822202,-0.8948512068816719,-0.5535728791239111,1.1659721530863791,-0.338269477198465,0.6662636529382033,-0.8386785671465247,-0.45016050483340514,1.9719608116281135,-1.125112777802077,-0.4565031806440209,-0.6082343672469854,0.523275011356581,-0.9590547408867666,1.073701314819291,-0.49048978185103653,0.8348546381818701,-0.002962248241787498,1.0307814201352343,0.20780899895915692,-0.4915456045196982,0.5783269322123842,2.295383481278133],\"xaxis\":\"x16\",\"yaxis\":\"y16\",\"type\":\"histogram\"}],                        {\"bargap\":0.02,\"legend\":{\"bgcolor\":\"#F5F6F9\",\"font\":{\"color\":\"#4D5663\"}},\"paper_bgcolor\":\"#F5F6F9\",\"plot_bgcolor\":\"#F5F6F9\",\"showlegend\":false,\"template\":{\"data\":{\"barpolar\":[{\"marker\":{\"line\":{\"color\":\"#E5ECF6\",\"width\":0.5},\"pattern\":{\"fillmode\":\"overlay\",\"size\":10,\"solidity\":0.2}},\"type\":\"barpolar\"}],\"bar\":[{\"error_x\":{\"color\":\"#2a3f5f\"},\"error_y\":{\"color\":\"#2a3f5f\"},\"marker\":{\"line\":{\"color\":\"#E5ECF6\",\"width\":0.5},\"pattern\":{\"fillmode\":\"overlay\",\"size\":10,\"solidity\":0.2}},\"type\":\"bar\"}],\"carpet\":[{\"aaxis\":{\"endlinecolor\":\"#2a3f5f\",\"gridcolor\":\"white\",\"linecolor\":\"white\",\"minorgridcolor\":\"white\",\"startlinecolor\":\"#2a3f5f\"},\"baxis\":{\"endlinecolor\":\"#2a3f5f\",\"gridcolor\":\"white\",\"linecolor\":\"white\",\"minorgridcolor\":\"white\",\"startlinecolor\":\"#2a3f5f\"},\"type\":\"carpet\"}],\"choropleth\":[{\"colorbar\":{\"outlinewidth\":0,\"ticks\":\"\"},\"type\":\"choropleth\"}],\"contourcarpet\":[{\"colorbar\":{\"outlinewidth\":0,\"ticks\":\"\"},\"type\":\"contourcarpet\"}],\"contour\":[{\"colorbar\":{\"outlinewidth\":0,\"ticks\":\"\"},\"colorscale\":[[0.0,\"#0d0887\"],[0.1111111111111111,\"#46039f\"],[0.2222222222222222,\"#7201a8\"],[0.3333333333333333,\"#9c179e\"],[0.4444444444444444,\"#bd3786\"],[0.5555555555555556,\"#d8576b\"],[0.6666666666666666,\"#ed7953\"],[0.7777777777777778,\"#fb9f3a\"],[0.8888888888888888,\"#fdca26\"],[1.0,\"#f0f921\"]],\"type\":\"contour\"}],\"heatmapgl\":[{\"colorbar\":{\"outlinewidth\":0,\"ticks\":\"\"},\"colorscale\":[[0.0,\"#0d0887\"],[0.1111111111111111,\"#46039f\"],[0.2222222222222222,\"#7201a8\"],[0.3333333333333333,\"#9c179e\"],[0.4444444444444444,\"#bd3786\"],[0.5555555555555556,\"#d8576b\"],[0.6666666666666666,\"#ed7953\"],[0.7777777777777778,\"#fb9f3a\"],[0.8888888888888888,\"#fdca26\"],[1.0,\"#f0f921\"]],\"type\":\"heatmapgl\"}],\"heatmap\":[{\"colorbar\":{\"outlinewidth\":0,\"ticks\":\"\"},\"colorscale\":[[0.0,\"#0d0887\"],[0.1111111111111111,\"#46039f\"],[0.2222222222222222,\"#7201a8\"],[0.3333333333333333,\"#9c179e\"],[0.4444444444444444,\"#bd3786\"],[0.5555555555555556,\"#d8576b\"],[0.6666666666666666,\"#ed7953\"],[0.7777777777777778,\"#fb9f3a\"],[0.8888888888888888,\"#fdca26\"],[1.0,\"#f0f921\"]],\"type\":\"heatmap\"}],\"histogram2dcontour\":[{\"colorbar\":{\"outlinewidth\":0,\"ticks\":\"\"},\"colorscale\":[[0.0,\"#0d0887\"],[0.1111111111111111,\"#46039f\"],[0.2222222222222222,\"#7201a8\"],[0.3333333333333333,\"#9c179e\"],[0.4444444444444444,\"#bd3786\"],[0.5555555555555556,\"#d8576b\"],[0.6666666666666666,\"#ed7953\"],[0.7777777777777778,\"#fb9f3a\"],[0.8888888888888888,\"#fdca26\"],[1.0,\"#f0f921\"]],\"type\":\"histogram2dcontour\"}],\"histogram2d\":[{\"colorbar\":{\"outlinewidth\":0,\"ticks\":\"\"},\"colorscale\":[[0.0,\"#0d0887\"],[0.1111111111111111,\"#46039f\"],[0.2222222222222222,\"#7201a8\"],[0.3333333333333333,\"#9c179e\"],[0.4444444444444444,\"#bd3786\"],[0.5555555555555556,\"#d8576b\"],[0.6666666666666666,\"#ed7953\"],[0.7777777777777778,\"#fb9f3a\"],[0.8888888888888888,\"#fdca26\"],[1.0,\"#f0f921\"]],\"type\":\"histogram2d\"}],\"histogram\":[{\"marker\":{\"pattern\":{\"fillmode\":\"overlay\",\"size\":10,\"solidity\":0.2}},\"type\":\"histogram\"}],\"mesh3d\":[{\"colorbar\":{\"outlinewidth\":0,\"ticks\":\"\"},\"type\":\"mesh3d\"}],\"parcoords\":[{\"line\":{\"colorbar\":{\"outlinewidth\":0,\"ticks\":\"\"}},\"type\":\"parcoords\"}],\"pie\":[{\"automargin\":true,\"type\":\"pie\"}],\"scatter3d\":[{\"line\":{\"colorbar\":{\"outlinewidth\":0,\"ticks\":\"\"}},\"marker\":{\"colorbar\":{\"outlinewidth\":0,\"ticks\":\"\"}},\"type\":\"scatter3d\"}],\"scattercarpet\":[{\"marker\":{\"colorbar\":{\"outlinewidth\":0,\"ticks\":\"\"}},\"type\":\"scattercarpet\"}],\"scattergeo\":[{\"marker\":{\"colorbar\":{\"outlinewidth\":0,\"ticks\":\"\"}},\"type\":\"scattergeo\"}],\"scattergl\":[{\"marker\":{\"colorbar\":{\"outlinewidth\":0,\"ticks\":\"\"}},\"type\":\"scattergl\"}],\"scattermapbox\":[{\"marker\":{\"colorbar\":{\"outlinewidth\":0,\"ticks\":\"\"}},\"type\":\"scattermapbox\"}],\"scatterpolargl\":[{\"marker\":{\"colorbar\":{\"outlinewidth\":0,\"ticks\":\"\"}},\"type\":\"scatterpolargl\"}],\"scatterpolar\":[{\"marker\":{\"colorbar\":{\"outlinewidth\":0,\"ticks\":\"\"}},\"type\":\"scatterpolar\"}],\"scatter\":[{\"marker\":{\"colorbar\":{\"outlinewidth\":0,\"ticks\":\"\"}},\"type\":\"scatter\"}],\"scatterternary\":[{\"marker\":{\"colorbar\":{\"outlinewidth\":0,\"ticks\":\"\"}},\"type\":\"scatterternary\"}],\"surface\":[{\"colorbar\":{\"outlinewidth\":0,\"ticks\":\"\"},\"colorscale\":[[0.0,\"#0d0887\"],[0.1111111111111111,\"#46039f\"],[0.2222222222222222,\"#7201a8\"],[0.3333333333333333,\"#9c179e\"],[0.4444444444444444,\"#bd3786\"],[0.5555555555555556,\"#d8576b\"],[0.6666666666666666,\"#ed7953\"],[0.7777777777777778,\"#fb9f3a\"],[0.8888888888888888,\"#fdca26\"],[1.0,\"#f0f921\"]],\"type\":\"surface\"}],\"table\":[{\"cells\":{\"fill\":{\"color\":\"#EBF0F8\"},\"line\":{\"color\":\"white\"}},\"header\":{\"fill\":{\"color\":\"#C8D4E3\"},\"line\":{\"color\":\"white\"}},\"type\":\"table\"}]},\"layout\":{\"annotationdefaults\":{\"arrowcolor\":\"#2a3f5f\",\"arrowhead\":0,\"arrowwidth\":1},\"autotypenumbers\":\"strict\",\"coloraxis\":{\"colorbar\":{\"outlinewidth\":0,\"ticks\":\"\"}},\"colorscale\":{\"diverging\":[[0,\"#8e0152\"],[0.1,\"#c51b7d\"],[0.2,\"#de77ae\"],[0.3,\"#f1b6da\"],[0.4,\"#fde0ef\"],[0.5,\"#f7f7f7\"],[0.6,\"#e6f5d0\"],[0.7,\"#b8e186\"],[0.8,\"#7fbc41\"],[0.9,\"#4d9221\"],[1,\"#276419\"]],\"sequential\":[[0.0,\"#0d0887\"],[0.1111111111111111,\"#46039f\"],[0.2222222222222222,\"#7201a8\"],[0.3333333333333333,\"#9c179e\"],[0.4444444444444444,\"#bd3786\"],[0.5555555555555556,\"#d8576b\"],[0.6666666666666666,\"#ed7953\"],[0.7777777777777778,\"#fb9f3a\"],[0.8888888888888888,\"#fdca26\"],[1.0,\"#f0f921\"]],\"sequentialminus\":[[0.0,\"#0d0887\"],[0.1111111111111111,\"#46039f\"],[0.2222222222222222,\"#7201a8\"],[0.3333333333333333,\"#9c179e\"],[0.4444444444444444,\"#bd3786\"],[0.5555555555555556,\"#d8576b\"],[0.6666666666666666,\"#ed7953\"],[0.7777777777777778,\"#fb9f3a\"],[0.8888888888888888,\"#fdca26\"],[1.0,\"#f0f921\"]]},\"colorway\":[\"#636efa\",\"#EF553B\",\"#00cc96\",\"#ab63fa\",\"#FFA15A\",\"#19d3f3\",\"#FF6692\",\"#B6E880\",\"#FF97FF\",\"#FECB52\"],\"font\":{\"color\":\"#2a3f5f\"},\"geo\":{\"bgcolor\":\"white\",\"lakecolor\":\"white\",\"landcolor\":\"#E5ECF6\",\"showlakes\":true,\"showland\":true,\"subunitcolor\":\"white\"},\"hoverlabel\":{\"align\":\"left\"},\"hovermode\":\"closest\",\"mapbox\":{\"style\":\"light\"},\"paper_bgcolor\":\"white\",\"plot_bgcolor\":\"#E5ECF6\",\"polar\":{\"angularaxis\":{\"gridcolor\":\"white\",\"linecolor\":\"white\",\"ticks\":\"\"},\"bgcolor\":\"#E5ECF6\",\"radialaxis\":{\"gridcolor\":\"white\",\"linecolor\":\"white\",\"ticks\":\"\"}},\"scene\":{\"xaxis\":{\"backgroundcolor\":\"#E5ECF6\",\"gridcolor\":\"white\",\"gridwidth\":2,\"linecolor\":\"white\",\"showbackground\":true,\"ticks\":\"\",\"zerolinecolor\":\"white\"},\"yaxis\":{\"backgroundcolor\":\"#E5ECF6\",\"gridcolor\":\"white\",\"gridwidth\":2,\"linecolor\":\"white\",\"showbackground\":true,\"ticks\":\"\",\"zerolinecolor\":\"white\"},\"zaxis\":{\"backgroundcolor\":\"#E5ECF6\",\"gridcolor\":\"white\",\"gridwidth\":2,\"linecolor\":\"white\",\"showbackground\":true,\"ticks\":\"\",\"zerolinecolor\":\"white\"}},\"shapedefaults\":{\"line\":{\"color\":\"#2a3f5f\"}},\"ternary\":{\"aaxis\":{\"gridcolor\":\"white\",\"linecolor\":\"white\",\"ticks\":\"\"},\"baxis\":{\"gridcolor\":\"white\",\"linecolor\":\"white\",\"ticks\":\"\"},\"bgcolor\":\"#E5ECF6\",\"caxis\":{\"gridcolor\":\"white\",\"linecolor\":\"white\",\"ticks\":\"\"}},\"title\":{\"x\":0.05},\"xaxis\":{\"automargin\":true,\"gridcolor\":\"white\",\"linecolor\":\"white\",\"ticks\":\"\",\"title\":{\"standoff\":15},\"zerolinecolor\":\"white\",\"zerolinewidth\":2},\"yaxis\":{\"automargin\":true,\"gridcolor\":\"white\",\"linecolor\":\"white\",\"ticks\":\"\",\"title\":{\"standoff\":15},\"zerolinecolor\":\"white\",\"zerolinewidth\":2}}},\"title\":{\"font\":{\"color\":\"#4D5663\"}},\"xaxis\":{\"anchor\":\"y\",\"domain\":[0.0,0.2125],\"gridcolor\":\"#E1E5ED\",\"showgrid\":false,\"tickfont\":{\"color\":\"#4D5663\"},\"title\":{\"font\":{\"color\":\"#4D5663\"},\"text\":\"\"},\"zerolinecolor\":\"#E1E5ED\"},\"yaxis\":{\"anchor\":\"x\",\"domain\":[0.8025,1.0],\"gridcolor\":\"#E1E5ED\",\"showgrid\":false,\"tickfont\":{\"color\":\"#4D5663\"},\"title\":{\"font\":{\"color\":\"#4D5663\"},\"text\":\"\"},\"zerolinecolor\":\"#E1E5ED\"},\"xaxis2\":{\"anchor\":\"y2\",\"domain\":[0.2625,0.475],\"gridcolor\":\"#E1E5ED\",\"showgrid\":false,\"tickfont\":{\"color\":\"#4D5663\"},\"title\":{\"font\":{\"color\":\"#4D5663\"},\"text\":\"\"},\"zerolinecolor\":\"#E1E5ED\"},\"yaxis2\":{\"anchor\":\"x2\",\"domain\":[0.8025,1.0],\"gridcolor\":\"#E1E5ED\",\"showgrid\":false,\"tickfont\":{\"color\":\"#4D5663\"},\"title\":{\"font\":{\"color\":\"#4D5663\"},\"text\":\"\"},\"zerolinecolor\":\"#E1E5ED\"},\"xaxis3\":{\"anchor\":\"y3\",\"domain\":[0.525,0.7375],\"gridcolor\":\"#E1E5ED\",\"showgrid\":false,\"tickfont\":{\"color\":\"#4D5663\"},\"title\":{\"font\":{\"color\":\"#4D5663\"},\"text\":\"\"},\"zerolinecolor\":\"#E1E5ED\"},\"yaxis3\":{\"anchor\":\"x3\",\"domain\":[0.8025,1.0],\"gridcolor\":\"#E1E5ED\",\"showgrid\":false,\"tickfont\":{\"color\":\"#4D5663\"},\"title\":{\"font\":{\"color\":\"#4D5663\"},\"text\":\"\"},\"zerolinecolor\":\"#E1E5ED\"},\"xaxis4\":{\"anchor\":\"y4\",\"domain\":[0.7875,1.0],\"gridcolor\":\"#E1E5ED\",\"showgrid\":false,\"tickfont\":{\"color\":\"#4D5663\"},\"title\":{\"font\":{\"color\":\"#4D5663\"},\"text\":\"\"},\"zerolinecolor\":\"#E1E5ED\"},\"yaxis4\":{\"anchor\":\"x4\",\"domain\":[0.8025,1.0],\"gridcolor\":\"#E1E5ED\",\"showgrid\":false,\"tickfont\":{\"color\":\"#4D5663\"},\"title\":{\"font\":{\"color\":\"#4D5663\"},\"text\":\"\"},\"zerolinecolor\":\"#E1E5ED\"},\"xaxis5\":{\"anchor\":\"y5\",\"domain\":[0.0,0.2125],\"gridcolor\":\"#E1E5ED\",\"showgrid\":false,\"tickfont\":{\"color\":\"#4D5663\"},\"title\":{\"font\":{\"color\":\"#4D5663\"},\"text\":\"\"},\"zerolinecolor\":\"#E1E5ED\"},\"yaxis5\":{\"anchor\":\"x5\",\"domain\":[0.535,0.7325],\"gridcolor\":\"#E1E5ED\",\"showgrid\":false,\"tickfont\":{\"color\":\"#4D5663\"},\"title\":{\"font\":{\"color\":\"#4D5663\"},\"text\":\"\"},\"zerolinecolor\":\"#E1E5ED\"},\"xaxis6\":{\"anchor\":\"y6\",\"domain\":[0.2625,0.475],\"gridcolor\":\"#E1E5ED\",\"showgrid\":false,\"tickfont\":{\"color\":\"#4D5663\"},\"title\":{\"font\":{\"color\":\"#4D5663\"},\"text\":\"\"},\"zerolinecolor\":\"#E1E5ED\"},\"yaxis6\":{\"anchor\":\"x6\",\"domain\":[0.535,0.7325],\"gridcolor\":\"#E1E5ED\",\"showgrid\":false,\"tickfont\":{\"color\":\"#4D5663\"},\"title\":{\"font\":{\"color\":\"#4D5663\"},\"text\":\"\"},\"zerolinecolor\":\"#E1E5ED\"},\"xaxis7\":{\"anchor\":\"y7\",\"domain\":[0.525,0.7375],\"gridcolor\":\"#E1E5ED\",\"showgrid\":false,\"tickfont\":{\"color\":\"#4D5663\"},\"title\":{\"font\":{\"color\":\"#4D5663\"},\"text\":\"\"},\"zerolinecolor\":\"#E1E5ED\"},\"yaxis7\":{\"anchor\":\"x7\",\"domain\":[0.535,0.7325],\"gridcolor\":\"#E1E5ED\",\"showgrid\":false,\"tickfont\":{\"color\":\"#4D5663\"},\"title\":{\"font\":{\"color\":\"#4D5663\"},\"text\":\"\"},\"zerolinecolor\":\"#E1E5ED\"},\"xaxis8\":{\"anchor\":\"y8\",\"domain\":[0.7875,1.0],\"gridcolor\":\"#E1E5ED\",\"showgrid\":false,\"tickfont\":{\"color\":\"#4D5663\"},\"title\":{\"font\":{\"color\":\"#4D5663\"},\"text\":\"\"},\"zerolinecolor\":\"#E1E5ED\"},\"yaxis8\":{\"anchor\":\"x8\",\"domain\":[0.535,0.7325],\"gridcolor\":\"#E1E5ED\",\"showgrid\":false,\"tickfont\":{\"color\":\"#4D5663\"},\"title\":{\"font\":{\"color\":\"#4D5663\"},\"text\":\"\"},\"zerolinecolor\":\"#E1E5ED\"},\"xaxis9\":{\"anchor\":\"y9\",\"domain\":[0.0,0.2125],\"gridcolor\":\"#E1E5ED\",\"showgrid\":false,\"tickfont\":{\"color\":\"#4D5663\"},\"title\":{\"font\":{\"color\":\"#4D5663\"},\"text\":\"\"},\"zerolinecolor\":\"#E1E5ED\"},\"yaxis9\":{\"anchor\":\"x9\",\"domain\":[0.2675,0.465],\"gridcolor\":\"#E1E5ED\",\"showgrid\":false,\"tickfont\":{\"color\":\"#4D5663\"},\"title\":{\"font\":{\"color\":\"#4D5663\"},\"text\":\"\"},\"zerolinecolor\":\"#E1E5ED\"},\"xaxis10\":{\"anchor\":\"y10\",\"domain\":[0.2625,0.475],\"gridcolor\":\"#E1E5ED\",\"showgrid\":false,\"tickfont\":{\"color\":\"#4D5663\"},\"title\":{\"font\":{\"color\":\"#4D5663\"},\"text\":\"\"},\"zerolinecolor\":\"#E1E5ED\"},\"yaxis10\":{\"anchor\":\"x10\",\"domain\":[0.2675,0.465],\"gridcolor\":\"#E1E5ED\",\"showgrid\":false,\"tickfont\":{\"color\":\"#4D5663\"},\"title\":{\"font\":{\"color\":\"#4D5663\"},\"text\":\"\"},\"zerolinecolor\":\"#E1E5ED\"},\"xaxis11\":{\"anchor\":\"y11\",\"domain\":[0.525,0.7375],\"gridcolor\":\"#E1E5ED\",\"showgrid\":false,\"tickfont\":{\"color\":\"#4D5663\"},\"title\":{\"font\":{\"color\":\"#4D5663\"},\"text\":\"\"},\"zerolinecolor\":\"#E1E5ED\"},\"yaxis11\":{\"anchor\":\"x11\",\"domain\":[0.2675,0.465],\"gridcolor\":\"#E1E5ED\",\"showgrid\":false,\"tickfont\":{\"color\":\"#4D5663\"},\"title\":{\"font\":{\"color\":\"#4D5663\"},\"text\":\"\"},\"zerolinecolor\":\"#E1E5ED\"},\"xaxis12\":{\"anchor\":\"y12\",\"domain\":[0.7875,1.0],\"gridcolor\":\"#E1E5ED\",\"showgrid\":false,\"tickfont\":{\"color\":\"#4D5663\"},\"title\":{\"font\":{\"color\":\"#4D5663\"},\"text\":\"\"},\"zerolinecolor\":\"#E1E5ED\"},\"yaxis12\":{\"anchor\":\"x12\",\"domain\":[0.2675,0.465],\"gridcolor\":\"#E1E5ED\",\"showgrid\":false,\"tickfont\":{\"color\":\"#4D5663\"},\"title\":{\"font\":{\"color\":\"#4D5663\"},\"text\":\"\"},\"zerolinecolor\":\"#E1E5ED\"},\"xaxis13\":{\"anchor\":\"y13\",\"domain\":[0.0,0.2125],\"gridcolor\":\"#E1E5ED\",\"showgrid\":false,\"tickfont\":{\"color\":\"#4D5663\"},\"title\":{\"font\":{\"color\":\"#4D5663\"},\"text\":\"\"},\"zerolinecolor\":\"#E1E5ED\"},\"yaxis13\":{\"anchor\":\"x13\",\"domain\":[0.0,0.1975],\"gridcolor\":\"#E1E5ED\",\"showgrid\":false,\"tickfont\":{\"color\":\"#4D5663\"},\"title\":{\"font\":{\"color\":\"#4D5663\"},\"text\":\"\"},\"zerolinecolor\":\"#E1E5ED\"},\"xaxis14\":{\"anchor\":\"y14\",\"domain\":[0.2625,0.475],\"gridcolor\":\"#E1E5ED\",\"showgrid\":false,\"tickfont\":{\"color\":\"#4D5663\"},\"title\":{\"font\":{\"color\":\"#4D5663\"},\"text\":\"\"},\"zerolinecolor\":\"#E1E5ED\"},\"yaxis14\":{\"anchor\":\"x14\",\"domain\":[0.0,0.1975],\"gridcolor\":\"#E1E5ED\",\"showgrid\":false,\"tickfont\":{\"color\":\"#4D5663\"},\"title\":{\"font\":{\"color\":\"#4D5663\"},\"text\":\"\"},\"zerolinecolor\":\"#E1E5ED\"},\"xaxis15\":{\"anchor\":\"y15\",\"domain\":[0.525,0.7375],\"gridcolor\":\"#E1E5ED\",\"showgrid\":false,\"tickfont\":{\"color\":\"#4D5663\"},\"title\":{\"font\":{\"color\":\"#4D5663\"},\"text\":\"\"},\"zerolinecolor\":\"#E1E5ED\"},\"yaxis15\":{\"anchor\":\"x15\",\"domain\":[0.0,0.1975],\"gridcolor\":\"#E1E5ED\",\"showgrid\":false,\"tickfont\":{\"color\":\"#4D5663\"},\"title\":{\"font\":{\"color\":\"#4D5663\"},\"text\":\"\"},\"zerolinecolor\":\"#E1E5ED\"},\"xaxis16\":{\"anchor\":\"y16\",\"domain\":[0.7875,1.0],\"gridcolor\":\"#E1E5ED\",\"showgrid\":false,\"tickfont\":{\"color\":\"#4D5663\"},\"title\":{\"font\":{\"color\":\"#4D5663\"},\"text\":\"\"},\"zerolinecolor\":\"#E1E5ED\"},\"yaxis16\":{\"anchor\":\"x16\",\"domain\":[0.0,0.1975],\"gridcolor\":\"#E1E5ED\",\"showgrid\":false,\"tickfont\":{\"color\":\"#4D5663\"},\"title\":{\"font\":{\"color\":\"#4D5663\"},\"text\":\"\"},\"zerolinecolor\":\"#E1E5ED\"}},                        {\"showLink\": true, \"linkText\": \"Export to plot.ly\", \"plotlyServerURL\": \"https://plot.ly\", \"responsive\": true}                    ).then(function(){\n",
       "                            \n",
       "var gd = document.getElementById('d9b6977e-19f7-4ef7-b0e3-cb4a06422114');\n",
       "var x = new MutationObserver(function (mutations, observer) {{\n",
       "        var display = window.getComputedStyle(gd).display;\n",
       "        if (!display || display === 'none') {{\n",
       "            console.log([gd, 'removed!']);\n",
       "            Plotly.purge(gd);\n",
       "            observer.disconnect();\n",
       "        }}\n",
       "}});\n",
       "\n",
       "// Listen for the removal of the full notebook cells\n",
       "var notebookContainer = gd.closest('#notebook-container');\n",
       "if (notebookContainer) {{\n",
       "    x.observe(notebookContainer, {childList: true});\n",
       "}}\n",
       "\n",
       "// Listen for the clearing of the current output cell\n",
       "var outputEl = gd.closest('.output');\n",
       "if (outputEl) {{\n",
       "    x.observe(outputEl, {childList: true});\n",
       "}}\n",
       "\n",
       "                        })                };                });            </script>        </div>"
      ]
     },
     "metadata": {},
     "output_type": "display_data"
    }
   ],
   "source": [
    "df.scatter_matrix()"
   ]
  },
  {
   "cell_type": "code",
   "execution_count": null,
   "id": "2782651c",
   "metadata": {},
   "outputs": [],
   "source": []
  }
 ],
 "metadata": {
  "kernelspec": {
   "display_name": "Python 3 (ipykernel)",
   "language": "python",
   "name": "python3"
  },
  "language_info": {
   "codemirror_mode": {
    "name": "ipython",
    "version": 3
   },
   "file_extension": ".py",
   "mimetype": "text/x-python",
   "name": "python",
   "nbconvert_exporter": "python",
   "pygments_lexer": "ipython3",
   "version": "3.9.7"
  }
 },
 "nbformat": 4,
 "nbformat_minor": 5
}
