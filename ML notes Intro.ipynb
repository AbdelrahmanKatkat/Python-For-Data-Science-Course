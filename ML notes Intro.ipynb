{
 "cells": [
  {
   "cell_type": "markdown",
   "id": "94bdc101",
   "metadata": {},
   "source": [
    "## Supervised learining\n",
    "    Data is labeled. The alg will learn from historical data. We use it to predict future events."
   ]
  },
  {
   "cell_type": "code",
   "execution_count": 2,
   "id": "ae76514e",
   "metadata": {},
   "outputs": [],
   "source": [
    "# Steps\n",
    "    # Collect Data\n",
    "    # Clean Data by pandas\n",
    "    # split data into test, training, cross value data\n",
    "    # Training data to determine model parameters\n",
    "    # Validation data to determine hyperparameters \n",
    "    # Test data to get final perfomance metric(no going back after that to adjust parameters)\n",
    "    # Deploy model on real world\n",
    "    "
   ]
  },
  {
   "cell_type": "markdown",
   "id": "7868d488",
   "metadata": {},
   "source": [
    "## Evaluating performance (Classification metrics error)\n",
    "    we will use a performance metrics to evaluate our model.  The outcome of our model is categorical values \n",
    "    "
   ]
  },
  {
   "cell_type": "code",
   "execution_count": 2,
   "id": "1264ca09",
   "metadata": {},
   "outputs": [],
   "source": [
    "# Classification metrics: a way to compare predicted values vs true values\n",
    "    # Accuracy \n",
    "    # Recall\n",
    "    # Precision\n",
    "    # F1-Score"
   ]
  },
  {
   "cell_type": "code",
   "execution_count": 1,
   "id": "d110070d",
   "metadata": {},
   "outputs": [],
   "source": [
    "# Confusion matrix \n",
    "    # Our predicted values compared the real values in one matrix"
   ]
  },
  {
   "cell_type": "code",
   "execution_count": 4,
   "id": "cdc08b1d",
   "metadata": {},
   "outputs": [],
   "source": [
    "# Accuracy:\n",
    "    # Number of correct predictions made by the model divided by total number of predictions\n",
    "    # Useful when target classes are well balanced(both classes are equal)\n",
    "    # It will not be accurate if the test set isn't will balanced"
   ]
  },
  {
   "cell_type": "code",
   "execution_count": 5,
   "id": "c26e272c",
   "metadata": {},
   "outputs": [],
   "source": [
    "# Recall\n",
    "    # Ability of a model to find all the relevant cases within a dataset\n",
    "    # True pos / ( true pos + false neg)\n",
    "    \n",
    "    # How much our model failed to detect the pos"
   ]
  },
  {
   "cell_type": "code",
   "execution_count": 6,
   "id": "a98901df",
   "metadata": {},
   "outputs": [],
   "source": [
    "# Precision\n",
    "    # Abiltiy of a classification model to identify only the relevant data points\n",
    "    # True pos / (true pos + false pos)\n",
    "    \n",
    "    # How much our model succeded to detect the pos"
   ]
  },
  {
   "cell_type": "code",
   "execution_count": 8,
   "id": "e7afacd6",
   "metadata": {},
   "outputs": [],
   "source": [
    "# Recall & Precision \n",
    "    # Often you have a trade-off between both of them"
   ]
  },
  {
   "cell_type": "code",
   "execution_count": 11,
   "id": "6392a844",
   "metadata": {},
   "outputs": [],
   "source": [
    "# F1-score\n",
    "    # Combination of both recall & precision( To find the optimum between both)\n",
    "    # F1=2 * (precision*recall) / (precision+recall)\n",
    "    # It takes the harmonic mean not the average to avoid the extreme values \n",
    "    # Ex- pre=1 , recall=0 -> F1 =0, average=,5"
   ]
  },
  {
   "cell_type": "markdown",
   "id": "e9e59068",
   "metadata": {},
   "source": [
    "# Confusion matrix:\n",
    "    # shows all correctly classified data vs incorrectly classified data\n",
    "                                   Predicted condiont\n",
    "                     Predicted pos               Predicted neg\n",
    "          true pos         TP                            FN\n",
    "          true neg         FP                            TN\n",
    "                "
   ]
  },
  {
   "cell_type": "code",
   "execution_count": 13,
   "id": "b94f26fd",
   "metadata": {},
   "outputs": [],
   "source": [
    " # Which matrix is better?\n",
    "    # It depend on the context\n",
    "    # Precision vs Recall \n",
    "        # If the case is critical like cancer it's better to have higer Recall, and lowe Precison ( to have lower false negative)\n",
    "        "
   ]
  },
  {
   "cell_type": "markdown",
   "id": "9e11540f",
   "metadata": {},
   "source": [
    "## Evaluating performance (Regression metrics error)  \n",
    "    Here we want to predict continuous values "
   ]
  },
  {
   "cell_type": "code",
   "execution_count": 14,
   "id": "903518a5",
   "metadata": {},
   "outputs": [],
   "source": [
    "# Regression matrix\n",
    "    # Mean absolute Error\n",
    "    # Mean Squared Error\n",
    "    # Root Mean Square Error"
   ]
  },
  {
   "cell_type": "code",
   "execution_count": 15,
   "id": "17b8fe16",
   "metadata": {},
   "outputs": [],
   "source": [
    "# Mean absolute error(MAE)\n",
    "    # 1/n * sum| y true- y predi| ( average of the difference)\n",
    "    # disadv it's sensitive for large errors"
   ]
  },
  {
   "cell_type": "code",
   "execution_count": 16,
   "id": "0cd6fc83",
   "metadata": {},
   "outputs": [],
   "source": [
    "# Mean Squared Error( MSE)\n",
    "    # 1/n * sum (y true- y predicted)^2\n",
    "    # It helps with extrem values(all values increases to overcome that extrem)\n",
    "    # disadv the final units will be in squared values which isn't meaningfull"
   ]
  },
  {
   "cell_type": "code",
   "execution_count": 17,
   "id": "8eb8f558",
   "metadata": {},
   "outputs": [],
   "source": [
    "# Root Mean square Error\n",
    "    # sqr( mean squar error)\n",
    "    # adv: same units as our y value"
   ]
  },
  {
   "cell_type": "code",
   "execution_count": 18,
   "id": "78285df1",
   "metadata": {},
   "outputs": [],
   "source": [
    "# Which to choose \n",
    "    # Depend on the context: compare your metric result to the average value of the label in your data set"
   ]
  },
  {
   "cell_type": "markdown",
   "id": "df4e95f2",
   "metadata": {},
   "source": [
    "# Machine learing in Python"
   ]
  },
  {
   "cell_type": "code",
   "execution_count": 19,
   "id": "659b7e12",
   "metadata": {},
   "outputs": [],
   "source": [
    "# pip install scikit-learn"
   ]
  },
  {
   "cell_type": "code",
   "execution_count": 72,
   "id": "1f04a8e3",
   "metadata": {},
   "outputs": [],
   "source": [
    "# Algorithms in scikit-learn are exposed via an \"Estimator\"\n",
    "    # from sklearn.family import Model\n",
    "        # The model is the Estimator object\n",
    "        # Estimators accepts 2 arguments if supervied x,y\n",
    "        # Estimators accepts2 single argument if unsupervised\n",
    "# Estimator parameters can be set when it is instantiated"
   ]
  },
  {
   "cell_type": "code",
   "execution_count": 29,
   "id": "9aa2b439",
   "metadata": {},
   "outputs": [],
   "source": [
    "from sklearn.linear_model import LinearRegression"
   ]
  },
  {
   "cell_type": "markdown",
   "id": "f3b480c6",
   "metadata": {},
   "source": [
    "# Example"
   ]
  },
  {
   "cell_type": "code",
   "execution_count": 43,
   "id": "47c0b379",
   "metadata": {},
   "outputs": [],
   "source": [
    "# split the data"
   ]
  },
  {
   "cell_type": "code",
   "execution_count": 45,
   "id": "ffbd414b",
   "metadata": {},
   "outputs": [],
   "source": [
    "import numpy as np\n",
    "from sklearn.model_selection import train_test_split\n",
    "X,y=np.arange(10).reshape((5,2)),range(5)"
   ]
  },
  {
   "cell_type": "code",
   "execution_count": 46,
   "id": "13106dca",
   "metadata": {},
   "outputs": [
    {
     "data": {
      "text/plain": [
       "array([[0, 1],\n",
       "       [2, 3],\n",
       "       [4, 5],\n",
       "       [6, 7],\n",
       "       [8, 9]])"
      ]
     },
     "execution_count": 46,
     "metadata": {},
     "output_type": "execute_result"
    }
   ],
   "source": [
    "X \n",
    "    # Here that is the features"
   ]
  },
  {
   "cell_type": "code",
   "execution_count": 47,
   "id": "a3007fcb",
   "metadata": {},
   "outputs": [
    {
     "data": {
      "text/plain": [
       "[0, 1, 2, 3, 4]"
      ]
     },
     "execution_count": 47,
     "metadata": {},
     "output_type": "execute_result"
    }
   ],
   "source": [
    "list(y)"
   ]
  },
  {
   "cell_type": "code",
   "execution_count": 49,
   "id": "4a4f4c8f",
   "metadata": {},
   "outputs": [],
   "source": [
    "X_train, X_test, y_train, y_test=train_test_split(x,y,test_size=.3)"
   ]
  },
  {
   "cell_type": "code",
   "execution_count": 50,
   "id": "0990d461",
   "metadata": {},
   "outputs": [
    {
     "data": {
      "text/plain": [
       "array([[2, 3],\n",
       "       [8, 9],\n",
       "       [4, 5]])"
      ]
     },
     "execution_count": 50,
     "metadata": {},
     "output_type": "execute_result"
    }
   ],
   "source": [
    "X_train"
   ]
  },
  {
   "cell_type": "code",
   "execution_count": 51,
   "id": "854e0837",
   "metadata": {},
   "outputs": [
    {
     "data": {
      "text/plain": [
       "array([[0, 1],\n",
       "       [6, 7]])"
      ]
     },
     "execution_count": 51,
     "metadata": {},
     "output_type": "execute_result"
    }
   ],
   "source": [
    "X_test"
   ]
  },
  {
   "cell_type": "code",
   "execution_count": 52,
   "id": "86711b52",
   "metadata": {},
   "outputs": [
    {
     "data": {
      "text/plain": [
       "[0, 3]"
      ]
     },
     "execution_count": 52,
     "metadata": {},
     "output_type": "execute_result"
    }
   ],
   "source": [
    "y_test"
   ]
  },
  {
   "cell_type": "code",
   "execution_count": 53,
   "id": "8a9e6f2a",
   "metadata": {},
   "outputs": [
    {
     "data": {
      "text/plain": [
       "[1, 4, 2]"
      ]
     },
     "execution_count": 53,
     "metadata": {},
     "output_type": "execute_result"
    }
   ],
   "source": [
    "y_train"
   ]
  },
  {
   "cell_type": "code",
   "execution_count": 59,
   "id": "8103ca9d",
   "metadata": {},
   "outputs": [],
   "source": [
    "# Model fit(train) (fit method)\n",
    "    #  model.fit(X_train,y_train)"
   ]
  },
  {
   "cell_type": "code",
   "execution_count": 63,
   "id": "97b64d03",
   "metadata": {},
   "outputs": [],
   "source": [
    "lm=LinearRegression()"
   ]
  },
  {
   "cell_type": "code",
   "execution_count": 64,
   "id": "d1ddbd90",
   "metadata": {},
   "outputs": [
    {
     "data": {
      "text/plain": [
       "LinearRegression()"
      ]
     },
     "execution_count": 64,
     "metadata": {},
     "output_type": "execute_result"
    }
   ],
   "source": [
    "lm.fit(X_train,y_train)"
   ]
  },
  {
   "cell_type": "code",
   "execution_count": 73,
   "id": "b0052ac8",
   "metadata": {},
   "outputs": [],
   "source": [
    "# Predict values ( To get y preditction)\n",
    "    # predictions=model.predict(X_test)\n",
    "    # It accepts only one item\n",
    "    # It returns the learned label for each object in the array"
   ]
  },
  {
   "cell_type": "code",
   "execution_count": 69,
   "id": "c7f6581b",
   "metadata": {},
   "outputs": [],
   "source": [
    "predictions=lm.predict(X_test)"
   ]
  },
  {
   "cell_type": "code",
   "execution_count": 70,
   "id": "3d511a56",
   "metadata": {},
   "outputs": [
    {
     "data": {
      "text/plain": [
       "array([1.22124533e-15, 3.00000000e+00])"
      ]
     },
     "execution_count": 70,
     "metadata": {},
     "output_type": "execute_result"
    }
   ],
   "source": [
    "predictions"
   ]
  },
  {
   "cell_type": "code",
   "execution_count": 71,
   "id": "924f2f4b",
   "metadata": {},
   "outputs": [],
   "source": [
    "# Compare to real value\n",
    "    # Which metric vary with what algorithm we are learning"
   ]
  },
  {
   "cell_type": "code",
   "execution_count": 74,
   "id": "fe34b972",
   "metadata": {},
   "outputs": [],
   "source": [
    "# model.predict_proba()\n",
    "    # For classification problems, It returns the highest probability object"
   ]
  },
  {
   "cell_type": "code",
   "execution_count": 75,
   "id": "5a4b7ec6",
   "metadata": {},
   "outputs": [],
   "source": [
    "# model.score()\n",
    "    # For supervised learning, the higher the score the better the fit"
   ]
  },
  {
   "cell_type": "code",
   "execution_count": 76,
   "id": "df2ab680",
   "metadata": {},
   "outputs": [],
   "source": [
    "# model.predict()\n",
    "    # It's available in prediction of unsupervised learning algorithms"
   ]
  },
  {
   "cell_type": "code",
   "execution_count": 77,
   "id": "e137d2b3",
   "metadata": {},
   "outputs": [],
   "source": [
    "# model.transform()\n",
    "    # For unsupervised learning, it accepts x prediction, and turn it into a new representation for the data based on the unsupervised model"
   ]
  },
  {
   "cell_type": "code",
   "execution_count": 78,
   "id": "d21dd927",
   "metadata": {},
   "outputs": [],
   "source": [
    "# model.fit_transform():\n",
    "    # It perform both fit and a transform at the same I/P data"
   ]
  },
  {
   "cell_type": "markdown",
   "id": "c6bbe94c",
   "metadata": {},
   "source": [
    "## Venn Circle\n",
    "\n",
    "At the end of each ML alg you need your experience to know which algorithm did better. You need to know which parameter interest you the most"
   ]
  },
  {
   "cell_type": "code",
   "execution_count": 1,
   "id": "50a3187f",
   "metadata": {},
   "outputs": [],
   "source": [
    "from IPython.display import Image"
   ]
  },
  {
   "cell_type": "code",
   "execution_count": 2,
   "id": "4e9d1b3a",
   "metadata": {},
   "outputs": [
    {
     "data": {
      "image/jpeg": "[encoded data removed]",
      "text/plain": [
       "<IPython.core.display.Image object>"
      ]
     },
     "execution_count": 2,
     "metadata": {},
     "output_type": "execute_result"
    }
   ],
   "source": [
    "Image('venn-3-large.jpg')"
   ]
  },
  {
   "cell_type": "code",
   "execution_count": null,
   "id": "2371dcd7",
   "metadata": {},
   "outputs": [],
   "source": []
  }
 ],
 "metadata": {
  "kernelspec": {
   "display_name": "Python 3 (ipykernel)",
   "language": "python",
   "name": "python3"
  },
  "language_info": {
   "codemirror_mode": {
    "name": "ipython",
    "version": 3
   },
   "file_extension": ".py",
   "mimetype": "text/x-python",
   "name": "python",
   "nbconvert_exporter": "python",
   "pygments_lexer": "ipython3",
   "version": "3.9.7"
  }
 },
 "nbformat": 4,
 "nbformat_minor": 5
}
